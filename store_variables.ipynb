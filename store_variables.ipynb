{
 "cells": [
  {
   "cell_type": "code",
   "execution_count": 4,
   "metadata": {},
   "outputs": [],
   "source": [
    "import csv\n",
    "import json\n",
    "import time"
   ]
  },
  {
   "cell_type": "code",
   "execution_count": 17,
   "metadata": {},
   "outputs": [],
   "source": [
    "def read_file(data, cutoff_subreddit, first_row = True, author_row=0, subreddit_row=1, created_row=3, time_cutoff = 1483228800):\n",
    "    with open(data) as f:\n",
    "        reader = csv.reader(f)\n",
    "\n",
    "        # author_history is a dictionary where each key is an author,\n",
    "        # and each value is a list of (subreddit, timestamp) tuples\n",
    "        # corresponding with posts made by that author\n",
    "        author_history = {}\n",
    "\n",
    "        # first post in sandersforpresident or 2017, whichever is earlier\n",
    "        author_cutoff = {}\n",
    "\n",
    "        for row in reader:\n",
    "            if first_row:\n",
    "                first_row = False\n",
    "                continue\n",
    "\n",
    "            author = row[author_row]\n",
    "            subreddit = row[subreddit_row]\n",
    "            created_utc = row[created_row]\n",
    "\n",
    "            if author in author_history.keys():\n",
    "                author_history[author].append((subreddit, int(created_utc)))\n",
    "            else:\n",
    "                author_history[author] = [(subreddit, int(created_utc))]\n",
    "\n",
    "            if author not in author_cutoff.keys():\n",
    "                author_cutoff[author] = time_cutoff\n",
    "\n",
    "            if subreddit.lower() == cutoff_subreddit and int(created_utc) < author_cutoff[author]:\n",
    "                author_cutoff[author] = int(created_utc)\n",
    "        \n",
    "    return author_history, author_cutoff"
   ]
  },
  {
   "cell_type": "code",
   "execution_count": 6,
   "metadata": {},
   "outputs": [],
   "source": [
    "sfp_file = '../sample_data/sfp_data_v4.csv'\n",
    "td_file = '../sample_data/td_data_v4.csv'\n",
    "neither_file = '../sample_data/neither_data_v4.csv'"
   ]
  },
  {
   "cell_type": "code",
   "execution_count": 3,
   "metadata": {},
   "outputs": [
    {
     "ename": "ValueError",
     "evalue": "invalid literal for int() with base 10: '2006-06-15 20:29:57-04'",
     "output_type": "error",
     "traceback": [
      "\u001b[0;31m---------------------------------------------------------------------------\u001b[0m",
      "\u001b[0;31mValueError\u001b[0m                                Traceback (most recent call last)",
      "\u001b[0;32m<ipython-input-3-59816172458d>\u001b[0m in \u001b[0;36m<module>\u001b[0;34m\u001b[0m\n\u001b[0;32m----> 1\u001b[0;31m \u001b[0msfp_author_history\u001b[0m\u001b[0;34m,\u001b[0m \u001b[0msfp_author_cutoff\u001b[0m \u001b[0;34m=\u001b[0m \u001b[0mread_file\u001b[0m\u001b[0;34m(\u001b[0m\u001b[0msfp_file\u001b[0m\u001b[0;34m,\u001b[0m \u001b[0;34m'sandersforpresident'\u001b[0m\u001b[0;34m)\u001b[0m\u001b[0;34m\u001b[0m\u001b[0;34m\u001b[0m\u001b[0m\n\u001b[0m\u001b[1;32m      2\u001b[0m \u001b[0;34m\u001b[0m\u001b[0m\n\u001b[1;32m      3\u001b[0m \u001b[0;32mwith\u001b[0m \u001b[0mopen\u001b[0m\u001b[0;34m(\u001b[0m\u001b[0;34m\"stored_variables/sfp_author_history.json\"\u001b[0m\u001b[0;34m,\u001b[0m \u001b[0;34m\"w\"\u001b[0m\u001b[0;34m)\u001b[0m \u001b[0;32mas\u001b[0m \u001b[0mf\u001b[0m\u001b[0;34m:\u001b[0m\u001b[0;34m\u001b[0m\u001b[0;34m\u001b[0m\u001b[0m\n\u001b[1;32m      4\u001b[0m     \u001b[0mjson\u001b[0m\u001b[0;34m.\u001b[0m\u001b[0mdump\u001b[0m\u001b[0;34m(\u001b[0m\u001b[0msfp_author_history\u001b[0m\u001b[0;34m,\u001b[0m \u001b[0mf\u001b[0m\u001b[0;34m)\u001b[0m\u001b[0;34m\u001b[0m\u001b[0;34m\u001b[0m\u001b[0m\n\u001b[1;32m      5\u001b[0m \u001b[0;34m\u001b[0m\u001b[0m\n",
      "\u001b[0;32m<ipython-input-2-9a91f2e92062>\u001b[0m in \u001b[0;36mread_file\u001b[0;34m(data, cutoff_subreddit, time_cutoff)\u001b[0m\n\u001b[1;32m     23\u001b[0m \u001b[0;34m\u001b[0m\u001b[0m\n\u001b[1;32m     24\u001b[0m             \u001b[0;32mif\u001b[0m \u001b[0mauthor\u001b[0m \u001b[0;32min\u001b[0m \u001b[0mauthor_history\u001b[0m\u001b[0;34m.\u001b[0m\u001b[0mkeys\u001b[0m\u001b[0;34m(\u001b[0m\u001b[0;34m)\u001b[0m\u001b[0;34m:\u001b[0m\u001b[0;34m\u001b[0m\u001b[0;34m\u001b[0m\u001b[0m\n\u001b[0;32m---> 25\u001b[0;31m                 \u001b[0mauthor_history\u001b[0m\u001b[0;34m[\u001b[0m\u001b[0mauthor\u001b[0m\u001b[0;34m]\u001b[0m\u001b[0;34m.\u001b[0m\u001b[0mappend\u001b[0m\u001b[0;34m(\u001b[0m\u001b[0;34m(\u001b[0m\u001b[0msubreddit\u001b[0m\u001b[0;34m,\u001b[0m \u001b[0mint\u001b[0m\u001b[0;34m(\u001b[0m\u001b[0mcreated_utc\u001b[0m\u001b[0;34m)\u001b[0m\u001b[0;34m)\u001b[0m\u001b[0;34m)\u001b[0m\u001b[0;34m\u001b[0m\u001b[0;34m\u001b[0m\u001b[0m\n\u001b[0m\u001b[1;32m     26\u001b[0m             \u001b[0;32melse\u001b[0m\u001b[0;34m:\u001b[0m\u001b[0;34m\u001b[0m\u001b[0;34m\u001b[0m\u001b[0m\n\u001b[1;32m     27\u001b[0m                 \u001b[0mauthor_history\u001b[0m\u001b[0;34m[\u001b[0m\u001b[0mauthor\u001b[0m\u001b[0;34m]\u001b[0m \u001b[0;34m=\u001b[0m \u001b[0;34m[\u001b[0m\u001b[0;34m(\u001b[0m\u001b[0msubreddit\u001b[0m\u001b[0;34m,\u001b[0m \u001b[0mcreated_utc\u001b[0m\u001b[0;34m)\u001b[0m\u001b[0;34m]\u001b[0m\u001b[0;34m\u001b[0m\u001b[0;34m\u001b[0m\u001b[0m\n",
      "\u001b[0;31mValueError\u001b[0m: invalid literal for int() with base 10: '2006-06-15 20:29:57-04'"
     ]
    }
   ],
   "source": [
    "sfp_author_history, sfp_author_cutoff = read_file(sfp_file, 'sandersforpresident')\n",
    "\n",
    "with open(\"stored_variables/sfp_author_history.json\", \"w\") as f:\n",
    "    json.dump(sfp_author_history, f)\n",
    "\n",
    "with open(\"stored_variables/sfp_author_cutoff.json\", \"w\") as f:\n",
    "    json.dump(sfp_author_cutoff, f)"
   ]
  },
  {
   "cell_type": "code",
   "execution_count": 4,
   "metadata": {},
   "outputs": [],
   "source": [
    "td_author_history, td_author_cutoff = read_file(td_file, 'the_donald')\n",
    "\n",
    "with open(\"stored_variables/td_author_history.json\", \"w\") as f:\n",
    "    json.dump(td_author_history, f)\n",
    "\n",
    "with open(\"stored_variables/td_author_cutoff.json\", \"w\") as f:\n",
    "    json.dump(td_author_cutoff, f)"
   ]
  },
  {
   "cell_type": "code",
   "execution_count": 5,
   "metadata": {},
   "outputs": [],
   "source": [
    "neither_author_history, neither_author_cutoff = read_file(neither_file, '!!!!!')\n",
    "\n",
    "with open(\"stored_variables/neither_author_history.json\", \"w\") as f:\n",
    "    json.dump(neither_author_history, f)\n",
    "\n",
    "with open(\"stored_variables/neither_author_cutoff.json\", \"w\") as f:\n",
    "    json.dump(neither_author_cutoff, f)"
   ]
  },
  {
   "cell_type": "code",
   "execution_count": 10,
   "metadata": {},
   "outputs": [],
   "source": [
    "def get_subreddits_by_author(author_history, author_cutoff):\n",
    "    subreddits_by_author = {}\n",
    "    total_posts = {}\n",
    "\n",
    "    for author in list(author_history.keys()):\n",
    "        # each entry is a dictionary of subreddit:number of posts in that subreddit by the author\n",
    "        subreddits_by_author[author] = {}\n",
    "        total = 0\n",
    "\n",
    "        for subreddit, timestamp in author_history[author]:\n",
    "\n",
    "            if int(timestamp) < author_cutoff[author]:                \n",
    "                total += 1\n",
    "\n",
    "                if subreddit in subreddits_by_author[author].keys():\n",
    "                    subreddits_by_author[author][subreddit] += 1\n",
    "                else:\n",
    "                    subreddits_by_author[author][subreddit] = 1 \n",
    "\n",
    "        total_posts[author] = total\n",
    "    \n",
    "    return subreddits_by_author, total_posts"
   ]
  },
  {
   "cell_type": "code",
   "execution_count": 7,
   "metadata": {},
   "outputs": [],
   "source": [
    "sfp_subreddits_by_author, sfp_total_posts =\\\n",
    "    get_subreddits_by_author(sfp_author_history, sfp_author_cutoff)\n",
    "td_subreddits_by_author, td_total_posts =\\\n",
    "    get_subreddits_by_author(td_author_history, td_author_cutoff)\n",
    "neither_subreddits_by_author, neither_total_posts =\\\n",
    "    get_subreddits_by_author(neither_author_history, neither_author_cutoff)"
   ]
  },
  {
   "cell_type": "code",
   "execution_count": 8,
   "metadata": {},
   "outputs": [],
   "source": [
    "with open(\"stored_variables/sfp_subreddits_by_author.json\", \"w\") as f:\n",
    "    json.dump(sfp_subreddits_by_author, f)\n",
    "    \n",
    "with open(\"stored_variables/sfp_total_posts.json\", \"w\") as f:\n",
    "    json.dump(sfp_total_posts, f)\n",
    "\n",
    "with open(\"stored_variables/td_subreddits_by_author.json\", \"w\") as f:\n",
    "    json.dump(td_subreddits_by_author, f)\n",
    "    \n",
    "with open(\"stored_variables/td_total_posts.json\", \"w\") as f:\n",
    "    json.dump(td_total_posts, f)\n",
    "    \n",
    "with open(\"stored_variables/neither_subreddits_by_author.json\", \"w\") as f:\n",
    "    json.dump(neither_subreddits_by_author, f)\n",
    "    \n",
    "with open(\"stored_variables/neither_total_posts.json\", \"w\") as f:\n",
    "    json.dump(neither_total_posts, f)"
   ]
  },
  {
   "cell_type": "markdown",
   "metadata": {},
   "source": [
    "## /r/Politics"
   ]
  },
  {
   "cell_type": "code",
   "execution_count": 18,
   "metadata": {},
   "outputs": [],
   "source": [
    "politics_file = '../sample_data/politics_auth_comments.csv'\n",
    "\n",
    "politics_author_history, politics_author_cutoff = read_file(politics_file, '!!!', first_row = False, created_row=4, time_cutoff = 9483228800) #no cutoff"
   ]
  },
  {
   "cell_type": "code",
   "execution_count": 19,
   "metadata": {},
   "outputs": [],
   "source": [
    "politics_subreddit_by_author, politics_total_posts =\\\n",
    "    get_subreddits_by_author(politics_author_history, politics_author_cutoff)"
   ]
  },
  {
   "cell_type": "code",
   "execution_count": 20,
   "metadata": {},
   "outputs": [],
   "source": [
    "with open(\"stored_variables/politics_author_history.json\", \"w\") as f:\n",
    "    json.dump(politics_author_history, f)"
   ]
  },
  {
   "cell_type": "code",
   "execution_count": 21,
   "metadata": {},
   "outputs": [],
   "source": [
    "with open(\"stored_variables/politics_subreddits_by_author.json\", \"w\") as f:\n",
    "    json.dump(politics_subreddit_by_author, f)"
   ]
  },
  {
   "cell_type": "code",
   "execution_count": null,
   "metadata": {},
   "outputs": [],
   "source": []
  }
 ],
 "metadata": {
  "kernelspec": {
   "display_name": "Python 3",
   "language": "python",
   "name": "python3"
  },
  "language_info": {
   "codemirror_mode": {
    "name": "ipython",
    "version": 3
   },
   "file_extension": ".py",
   "mimetype": "text/x-python",
   "name": "python",
   "nbconvert_exporter": "python",
   "pygments_lexer": "ipython3",
   "version": "3.7.3"
  }
 },
 "nbformat": 4,
 "nbformat_minor": 2
}
