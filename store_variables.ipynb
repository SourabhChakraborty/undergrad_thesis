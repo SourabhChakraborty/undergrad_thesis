{
 "cells": [
  {
   "cell_type": "code",
   "execution_count": 1,
   "metadata": {},
   "outputs": [],
   "source": [
    "import csv\n",
    "import json\n",
    "import time\n",
    "\n",
    "sfp_file = '../sample_data/sfp_data_v4.csv'\n",
    "td_file = '../sample_data/td_data_v4.csv'\n",
    "neither_file = '../sample_data/neither_data_v4.csv'"
   ]
  },
  {
   "cell_type": "code",
   "execution_count": 2,
   "metadata": {},
   "outputs": [],
   "source": [
    "def read_file(data, cutoff_subreddit, time_cutoff = 1483228800):\n",
    "    with open(data) as f:\n",
    "        reader = csv.reader(f)\n",
    "\n",
    "        first_row = True\n",
    "\n",
    "        # author_history is a dictionary where each key is an author,\n",
    "        # and each value is a list of (subreddit, timestamp) tuples\n",
    "        # corresponding with posts made by that author\n",
    "        author_history = {}\n",
    "\n",
    "        # first post in sandersforpresident or 2017, whichever is earlier\n",
    "        author_cutoff = {}\n",
    "\n",
    "        for row in reader:\n",
    "            if first_row:\n",
    "                first_row = False\n",
    "                continue\n",
    "\n",
    "            author = row[0]\n",
    "            subreddit = row[1]\n",
    "            created_utc = row[3]\n",
    "\n",
    "            if author in author_history.keys():\n",
    "                author_history[author].append((subreddit, int(created_utc)))\n",
    "            else:\n",
    "                author_history[author] = [(subreddit, created_utc)]\n",
    "\n",
    "            if author not in author_cutoff.keys():\n",
    "                author_cutoff[author] = time_cutoff\n",
    "\n",
    "            if subreddit.lower() == cutoff_subreddit and int(created_utc) < author_cutoff[author]:\n",
    "                author_cutoff[author] = int(created_utc)\n",
    "        \n",
    "    return author_history, author_cutoff"
   ]
  },
  {
   "cell_type": "code",
   "execution_count": 3,
   "metadata": {},
   "outputs": [],
   "source": [
    "sfp_author_history, sfp_author_cutoff = read_file(sfp_file, 'sandersforpresident')\n",
    "\n",
    "with open(\"stored_variables/sfp_author_history.json\", \"w\") as f:\n",
    "    json.dump(sfp_author_history, f)\n",
    "\n",
    "with open(\"stored_variables/sfp_author_cutoff.json\", \"w\") as f:\n",
    "    json.dump(sfp_author_cutoff, f)"
   ]
  },
  {
   "cell_type": "code",
   "execution_count": 4,
   "metadata": {},
   "outputs": [],
   "source": [
    "td_author_history, td_author_cutoff = read_file(td_file, 'the_donald')\n",
    "\n",
    "with open(\"stored_variables/td_author_history.json\", \"w\") as f:\n",
    "    json.dump(td_author_history, f)\n",
    "\n",
    "with open(\"stored_variables/td_author_cutoff.json\", \"w\") as f:\n",
    "    json.dump(td_author_cutoff, f)"
   ]
  },
  {
   "cell_type": "code",
   "execution_count": 5,
   "metadata": {},
   "outputs": [],
   "source": [
    "neither_author_history, neither_author_cutoff = read_file(neither_file, '!!!!!')\n",
    "\n",
    "with open(\"stored_variables/neither_author_history.json\", \"w\") as f:\n",
    "    json.dump(neither_author_history, f)\n",
    "\n",
    "with open(\"stored_variables/neither_author_cutoff.json\", \"w\") as f:\n",
    "    json.dump(neither_author_cutoff, f)"
   ]
  },
  {
   "cell_type": "code",
   "execution_count": 6,
   "metadata": {},
   "outputs": [],
   "source": [
    "def get_subreddits_by_author(author_history, author_cutoff):\n",
    "    subreddits_by_author = {}\n",
    "    total_posts = {}\n",
    "\n",
    "    for author in list(author_history.keys()):\n",
    "        # each entry is a dictionary of subreddit:number of posts in that subreddit by the author\n",
    "        subreddits_by_author[author] = {}\n",
    "        total = 0\n",
    "\n",
    "        for subreddit, timestamp in author_history[author]:\n",
    "\n",
    "            if int(timestamp) < author_cutoff[author]:                \n",
    "                total += 1\n",
    "\n",
    "                if subreddit in subreddits_by_author[author].keys():\n",
    "                    subreddits_by_author[author][subreddit] += 1\n",
    "                else:\n",
    "                    subreddits_by_author[author][subreddit] = 1 \n",
    "\n",
    "        total_posts[author] = total\n",
    "    \n",
    "    return subreddits_by_author, total_posts"
   ]
  },
  {
   "cell_type": "code",
   "execution_count": 7,
   "metadata": {},
   "outputs": [],
   "source": [
    "sfp_subreddits_by_author, sfp_total_posts =\\\n",
    "    get_subreddits_by_author(sfp_author_history, sfp_author_cutoff)\n",
    "td_subreddits_by_author, td_total_posts =\\\n",
    "    get_subreddits_by_author(td_author_history, td_author_cutoff)\n",
    "neither_subreddits_by_author, neither_total_posts =\\\n",
    "    get_subreddits_by_author(neither_author_history, neither_author_cutoff)"
   ]
  },
  {
   "cell_type": "code",
   "execution_count": 8,
   "metadata": {},
   "outputs": [],
   "source": [
    "with open(\"stored_variables/sfp_subreddits_by_author.json\", \"w\") as f:\n",
    "    json.dump(sfp_subreddits_by_author, f)\n",
    "    \n",
    "with open(\"stored_variables/sfp_total_posts.json\", \"w\") as f:\n",
    "    json.dump(sfp_total_posts, f)\n",
    "\n",
    "with open(\"stored_variables/td_subreddits_by_author.json\", \"w\") as f:\n",
    "    json.dump(td_subreddits_by_author, f)\n",
    "    \n",
    "with open(\"stored_variables/td_total_posts.json\", \"w\") as f:\n",
    "    json.dump(td_total_posts, f)\n",
    "    \n",
    "with open(\"stored_variables/neither_subreddits_by_author.json\", \"w\") as f:\n",
    "    json.dump(neither_subreddits_by_author, f)\n",
    "    \n",
    "with open(\"stored_variables/neither_total_posts.json\", \"w\") as f:\n",
    "    json.dump(neither_total_posts, f)"
   ]
  },
  {
   "cell_type": "code",
   "execution_count": null,
   "metadata": {},
   "outputs": [],
   "source": []
  }
 ],
 "metadata": {
  "kernelspec": {
   "display_name": "Python 3",
   "language": "python",
   "name": "python3"
  },
  "language_info": {
   "codemirror_mode": {
    "name": "ipython",
    "version": 3
   },
   "file_extension": ".py",
   "mimetype": "text/x-python",
   "name": "python",
   "nbconvert_exporter": "python",
   "pygments_lexer": "ipython3",
   "version": "3.7.3"
  }
 },
 "nbformat": 4,
 "nbformat_minor": 2
}
