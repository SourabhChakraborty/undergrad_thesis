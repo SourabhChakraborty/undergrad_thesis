{
 "cells": [
  {
   "cell_type": "markdown",
   "metadata": {},
   "source": [
    "## Run Fightin' Words (Monroe et al) analysis on the groups used for the language model analyses"
   ]
  },
  {
   "cell_type": "code",
   "execution_count": 22,
   "metadata": {},
   "outputs": [],
   "source": [
    "import csv\n",
    "import json\n",
    "import numpy as np\n",
    "import pandas as pd\n",
    "import nltk\n",
    "import re\n",
    "from IPython.display import display, HTML\n",
    "from sklearn.feature_extraction.text import CountVectorizer as CV"
   ]
  },
  {
   "cell_type": "markdown",
   "metadata": {},
   "source": [
    "### Preprocess data"
   ]
  },
  {
   "cell_type": "code",
   "execution_count": 3,
   "metadata": {},
   "outputs": [],
   "source": [
    "sfp_data = pd.read_csv(\"../sample_data/sfp_langsample_v4.csv\")"
   ]
  },
  {
   "cell_type": "code",
   "execution_count": 4,
   "metadata": {},
   "outputs": [],
   "source": [
    "td_data = pd.read_csv(\"../sample_data/td_langsample_v4.csv\")"
   ]
  },
  {
   "cell_type": "code",
   "execution_count": 5,
   "metadata": {},
   "outputs": [],
   "source": [
    "politics_data = pd.read_csv(\"../sample_data/politics_sample1.csv\", \n",
    "                            header=None, \n",
    "                            names=['author','subreddit','body','score', 'created_dt', 'rand'])"
   ]
  },
  {
   "cell_type": "code",
   "execution_count": 6,
   "metadata": {},
   "outputs": [],
   "source": [
    "politics_text = politics_data.loc[politics_data['body'].notna()]['body'].values"
   ]
  },
  {
   "cell_type": "code",
   "execution_count": 7,
   "metadata": {},
   "outputs": [
    {
     "name": "stdout",
     "output_type": "stream",
     "text": [
      "2000\n",
      "2000\n",
      "82916\n",
      "1885\n",
      "4476\n",
      "62877\n"
     ]
    }
   ],
   "source": [
    "sfp_authors = sfp_data['author'].unique()\n",
    "td_authors = td_data['author'].unique()\n",
    "print(len(sfp_authors))\n",
    "print(len(td_authors))\n",
    "\n",
    "print(np.sum(sfp_data['subreddit'] == 'SandersForPresident'))\n",
    "print(np.sum(sfp_data['subreddit'] == 'The_Donald'))\n",
    "print(np.sum(td_data['subreddit'] == 'SandersForPresident'))\n",
    "print(np.sum(td_data['subreddit'] == 'The_Donald'))"
   ]
  },
  {
   "cell_type": "code",
   "execution_count": 8,
   "metadata": {},
   "outputs": [],
   "source": [
    "sfp_posts = sfp_data.loc[sfp_data['subreddit'] == 'SandersForPresident']\n",
    "td_posts = td_data.loc[td_data['subreddit'] == 'The_Donald']"
   ]
  },
  {
   "cell_type": "code",
   "execution_count": 9,
   "metadata": {},
   "outputs": [],
   "source": [
    "sfp_min_times = [min(sfp_posts.loc[sfp_posts['author'] == auth]['created_utc']) for auth in sfp_authors]\n",
    "td_min_times = [min(td_posts.loc[td_posts['author'] == auth]['created_utc']) for auth in td_authors]"
   ]
  },
  {
   "cell_type": "code",
   "execution_count": 10,
   "metadata": {},
   "outputs": [
    {
     "name": "stdout",
     "output_type": "stream",
     "text": [
      "(204584, 5)\n",
      "(82119, 5)\n"
     ]
    }
   ],
   "source": [
    "sfp_politics = sfp_data.loc[sfp_data['subreddit'] == 'politics']\n",
    "td_politics = td_data.loc[td_data['subreddit'] == 'politics']\n",
    "print(sfp_politics.shape)\n",
    "print(td_politics.shape)"
   ]
  },
  {
   "cell_type": "code",
   "execution_count": 11,
   "metadata": {},
   "outputs": [],
   "source": [
    "sfp_politics_before = pd.DataFrame([], columns = sfp_politics.columns)\n",
    "sfp_politics_after = pd.DataFrame([], columns = sfp_politics.columns)\n",
    "\n",
    "for i in range(len(sfp_authors)):\n",
    "    curr_auth_posts = sfp_politics.loc[sfp_politics['author'] == sfp_authors[i]]\n",
    "    \n",
    "    if len(curr_auth_posts) > 0:\n",
    "        sfp_politics_before = \\\n",
    "sfp_politics_before.append(curr_auth_posts.loc[curr_auth_posts['created_utc'] < sfp_min_times[i]])\n",
    "        \n",
    "        sfp_politics_after = \\\n",
    "sfp_politics_after.append(curr_auth_posts.loc[curr_auth_posts['created_utc'] > sfp_min_times[i]])\n",
    "    "
   ]
  },
  {
   "cell_type": "code",
   "execution_count": 12,
   "metadata": {},
   "outputs": [],
   "source": [
    "td_politics_before = pd.DataFrame([], columns = td_politics.columns)\n",
    "td_politics_after = pd.DataFrame([], columns = td_politics.columns)\n",
    "\n",
    "for i in range(len(td_authors)):\n",
    "    curr_auth_posts = td_politics.loc[td_politics['author'] == td_authors[i]]\n",
    "    \n",
    "    if len(curr_auth_posts) > 0:\n",
    "        td_politics_before = \\\n",
    "td_politics_before.append(curr_auth_posts.loc[curr_auth_posts['created_utc'] < td_min_times[i]])\n",
    "        \n",
    "        td_politics_after = \\\n",
    "td_politics_after.append(curr_auth_posts.loc[curr_auth_posts['created_utc'] > td_min_times[i]])\n",
    "    "
   ]
  },
  {
   "cell_type": "code",
   "execution_count": 13,
   "metadata": {},
   "outputs": [],
   "source": [
    "sfp_politics_before_text = sfp_politics_before.loc[sfp_politics_before['body'].notna()]['body'].values\n",
    "sfp_politics_after_text = sfp_politics_after.loc[sfp_politics_after['body'].notna()]['body'].values\n",
    "\n",
    "td_politics_before_text = td_politics_before.loc[td_politics_before['body'].notna()]['body'].values\n",
    "td_politics_after_text = td_politics_after.loc[td_politics_after['body'].notna()]['body'].values\n",
    "\n",
    "sfp_posts_text = sfp_posts.loc[sfp_posts['body'].notna()]['body'].values\n",
    "td_posts_text = td_posts.loc[td_posts['body'].notna()]['body'].values"
   ]
  },
  {
   "cell_type": "code",
   "execution_count": 14,
   "metadata": {},
   "outputs": [],
   "source": [
    "sfp_posts = sfp_data.loc[sfp_data['subreddit'] == 'SandersForPresident']\n",
    "td_posts = td_data.loc[td_data['subreddit'] == 'The_Donald']\n",
    "sfp_posts_text = sfp_posts.loc[sfp_posts['body'].notna()]['body'].values\n",
    "td_posts_text = td_posts.loc[td_posts['body'].notna()]['body'].values"
   ]
  },
  {
   "cell_type": "code",
   "execution_count": 18,
   "metadata": {},
   "outputs": [
    {
     "name": "stdout",
     "output_type": "stream",
     "text": [
      "539\n",
      "294\n",
      "527\n",
      "151\n",
      "9321\n",
      "9999\n"
     ]
    }
   ],
   "source": [
    "print(len([i for i in politics_text if 'deleted' in i]))\n",
    "print(len([i for i in politics_text if 'removed' in i]))\n",
    "# print([i for i in politics_text if 'deleted' in i][:20])\n",
    "# print([i for i in politics_text if 'removed' in i][:20])\n",
    "deleted_str = [i for i in politics_text if 'deleted' in i][0]\n",
    "removed_str = [i for i in politics_text if 'removed' in i][0]\n",
    "print(len([i for i in politics_text if i == deleted_str]))\n",
    "print(len([i for i in politics_text if i == removed_str]))\n",
    "print(len([i for i in politics_text if (i != removed_str and i != deleted_str)]))\n",
    "print(len(politics_text))"
   ]
  },
  {
   "cell_type": "markdown",
   "metadata": {},
   "source": [
    "### Fightin' Words implementation"
   ]
  },
  {
   "cell_type": "code",
   "execution_count": 49,
   "metadata": {},
   "outputs": [],
   "source": [
    "def compare1(l1, l2, prior=0.01):\n",
    "    cv = CV(decode_error = 'ignore', min_df = 10, max_df = .5, ngram_range=(1,1),\n",
    "        binary = False,\n",
    "        max_features = 15000)\n",
    "    \n",
    "    counts_mat = cv.fit_transform(l1 + l2).toarray()\n",
    "    vocab_size = len(cv.vocabulary_)\n",
    "    #print(vocab_size)\n",
    "    priors = np.array([prior for i in range(vocab_size)])\n",
    "    \n",
    "    z_scores = np.empty(priors.shape[0])\n",
    "    count_matrix = np.empty([2, vocab_size], dtype=np.float32)\n",
    "    count_matrix[0, :] = np.sum(counts_mat[:len(l1), :], axis = 0)\n",
    "    count_matrix[1, :] = np.sum(counts_mat[len(l1):, :], axis = 0)\n",
    "    a0 = np.sum(priors)\n",
    "    n1 = 1.*np.sum(count_matrix[0,:])\n",
    "    n2 = 1.*np.sum(count_matrix[1,:])\n",
    "\n",
    "    for i in range(vocab_size):\n",
    "        #compute delta\n",
    "        term1 = np.log((count_matrix[0,i] + priors[i])/(n1 + a0 - count_matrix[0,i] - priors[i]))\n",
    "        term2 = np.log((count_matrix[1,i] + priors[i])/(n2 + a0 - count_matrix[1,i] - priors[i]))        \n",
    "        delta = term1 - term2\n",
    "        #compute variance on delta\n",
    "        var = 1./(count_matrix[0,i] + priors[i]) + 1./(count_matrix[1,i] + priors[i])\n",
    "        #store final score\n",
    "        z_scores[i] = delta/np.sqrt(var)\n",
    "    index_to_term = {v:k for k,v in cv.vocabulary_.items()}\n",
    "    sorted_indices = np.argsort(z_scores)\n",
    "    return_list = []\n",
    "    for i in sorted_indices:\n",
    "        return_list.append((index_to_term[i], z_scores[i]))\n",
    "        \n",
    "    return return_list"
   ]
  },
  {
   "cell_type": "code",
   "execution_count": 33,
   "metadata": {},
   "outputs": [],
   "source": [
    "comparison_1 = compare1(list(sfp_politics_before_text), list(td_politics_before_text))"
   ]
  },
  {
   "cell_type": "code",
   "execution_count": 24,
   "metadata": {},
   "outputs": [
    {
     "name": "stdout",
     "output_type": "stream",
     "text": [
      "Most characteristic of sfp politics before\n",
      "[('marriage', 11.464935237332657), ('senate', 11.666904300053812), ('law', 12.369936902956647), ('constitutional', 12.398412318618059), ('oregon', 12.843061455890009), ('to', 13.135759740394793), ('constitution', 13.460413829227422), ('rights', 15.013835239133643), ('court', 15.612126652409339), ('gt', 20.22825399579643)]\n",
      "Most characteristic of td politics before\n",
      "[('trump', -32.75576158410538), ('he', -18.28811511546875), ('govt', -17.65519879227717), ('hillary', -17.006993055651904), ('bernie', -16.15253762246233), ('yea', -13.543247367014422), ('cruz', -13.261377935702438), ('immigration', -12.774719059468499), ('min', -12.704376847798697), ('rubio', -12.462579315326607)]\n"
     ]
    }
   ],
   "source": [
    "print(\"Most characteristic of sfp politics before\")\n",
    "print(comparison_1[-10:])\n",
    "print(\"Most characteristic of td politics before\")\n",
    "print(comparison_1[:10])"
   ]
  },
  {
   "cell_type": "code",
   "execution_count": 25,
   "metadata": {},
   "outputs": [],
   "source": [
    "comparison_2 = compare1(list(sfp_politics_after_text), list(td_politics_after_text))"
   ]
  },
  {
   "cell_type": "code",
   "execution_count": 26,
   "metadata": {},
   "outputs": [
    {
     "name": "stdout",
     "output_type": "stream",
     "text": [
      "Most characteristic of sfp politics after\n",
      "[('not', 9.084190621669212), ('bernie', 9.247175590576232), ('hillary', 9.688116419502283), ('dnc', 9.893651064192591), ('county', 10.068695852105929), ('but', 11.527496337648081), ('clinton', 17.74746989991353), ('her', 20.065874753437463), ('sanders', 20.20842176488534), ('she', 23.95615946074161)]\n",
      "Most characteristic of td politics after\n",
      "[('trump', -49.10091692080196), ('archive', -23.426147638009763), ('immigrants', -19.24262703323421), ('illegal', -18.835392812574074), ('racist', -18.241522420577073), ('immigration', -16.707503355122242), ('donald', -14.830037213464056), ('mexico', -14.032720949955062), ('he', -13.98517061447056), ('http', -13.062854105091295)]\n"
     ]
    }
   ],
   "source": [
    "print(\"Most characteristic of sfp politics after\")\n",
    "print(comparison_2[-10:])\n",
    "print(\"Most characteristic of td politics after\")\n",
    "print(comparison_2[:10])"
   ]
  },
  {
   "cell_type": "code",
   "execution_count": 27,
   "metadata": {},
   "outputs": [],
   "source": [
    "comparison_3 = compare1(list(sfp_politics_before_text), list(sfp_politics_after_text))"
   ]
  },
  {
   "cell_type": "code",
   "execution_count": 29,
   "metadata": {},
   "outputs": [
    {
     "name": "stdout",
     "output_type": "stream",
     "text": [
      "Most characteristic of sfp politics before\n",
      "[('our', 22.841195890851253), ('you', 24.045287598150708), ('federal', 24.875366175014232), ('paul', 25.24087801163513), ('rights', 25.509074313831967), ('constitution', 25.56940777379856), ('law', 26.114006358355493), ('police', 26.414350824918362), ('romney', 28.303927422561138), ('government', 45.697546316858485)]\n",
      "Most characteristic of sfp politics after\n",
      "[('she', -99.37430468000342), ('sanders', -93.79984484750177), ('clinton', -92.42763698113937), ('bernie', -85.65424300764772), ('hillary', -85.5357975901374), ('her', -83.29228040875994), ('trump', -80.73451755332773), ('he', -53.36343367370652), ('supporters', -49.685523537946786), ('https', -43.49626676467192)]\n"
     ]
    }
   ],
   "source": [
    "print(\"Most characteristic of sfp politics before\")\n",
    "print(comparison_3[-10:])\n",
    "print(\"Most characteristic of sfp politics after\")\n",
    "print(comparison_3[:10])"
   ]
  },
  {
   "cell_type": "code",
   "execution_count": 30,
   "metadata": {},
   "outputs": [],
   "source": [
    "comparison_4 = compare1(list(td_politics_before_text), list(td_politics_after_text))"
   ]
  },
  {
   "cell_type": "code",
   "execution_count": 34,
   "metadata": {},
   "outputs": [
    {
     "name": "stdout",
     "output_type": "stream",
     "text": [
      "Most characteristic of td politics before\n",
      "[('police', 9.726026916835153), ('are', 9.731362615146697), ('society', 10.32383957220608), ('insurance', 10.352052192535245), ('that', 11.427934755735768), ('of', 12.017707559222051), ('romney', 12.583836480078473), ('ron', 13.140120201698315), ('paul', 15.854880354064962), ('government', 17.69098951244687)]\n",
      "Most characteristic of td politics after\n",
      "[('trump', -79.80049059960629), ('hillary', -46.20842611512671), ('clinton', -44.491381346111496), ('bernie', -43.43896437005444), ('sanders', -40.62619609373871), ('supporters', -33.46782279863542), ('he', -31.865821890010107), ('she', -31.500113111343868), ('https', -30.343246246803005), ('her', -27.585533288481326)]\n"
     ]
    }
   ],
   "source": [
    "print(\"Most characteristic of td politics before\")\n",
    "print(comparison_4[-10:])\n",
    "print(\"Most characteristic of td politics after\")\n",
    "print(comparison_4[:10])"
   ]
  },
  {
   "cell_type": "code",
   "execution_count": 35,
   "metadata": {},
   "outputs": [],
   "source": [
    "comparison_5 = compare1(list(sfp_politics_before_text), list(politics_text))"
   ]
  },
  {
   "cell_type": "code",
   "execution_count": 38,
   "metadata": {},
   "outputs": [
    {
     "name": "stdout",
     "output_type": "stream",
     "text": [
      "Most characteristic of sfp politics before\n",
      "[('we', 7.0180043370529654), ('ron', 7.373011587469217), ('police', 7.409467427666796), ('corporations', 7.734280304272829), ('paul', 7.751734793513766), ('rights', 7.8148380111125375), ('law', 7.838935354287101), ('constitution', 8.36464350607692), ('romney', 9.483828713524865), ('government', 12.790609012596748)]\n",
      "Most characteristic of /r/politics\n",
      "[('trump', -53.226675747400996), ('hillary', -49.309612785378995), ('bernie', -47.688979320537555), ('clinton', -42.0508836506008), ('sanders', -40.643073390688656), ('https', -38.61523376930448), ('deleted', -35.62353579128365), ('she', -33.4967231687057), ('removed', -32.242303752003686), ('politics', -30.829457295269354)]\n"
     ]
    }
   ],
   "source": [
    "print(\"Most characteristic of sfp politics before\")\n",
    "print(comparison_5[-10:])\n",
    "print(\"Most characteristic of /r/politics\")\n",
    "print(comparison_5[:10])"
   ]
  },
  {
   "cell_type": "code",
   "execution_count": 37,
   "metadata": {},
   "outputs": [],
   "source": [
    "comparison_6 = compare1(list(sfp_politics_after_text), list(politics_text))"
   ]
  },
  {
   "cell_type": "code",
   "execution_count": 39,
   "metadata": {},
   "outputs": [
    {
     "name": "stdout",
     "output_type": "stream",
     "text": [
      "Most characteristic of sfp politics after\n",
      "[('county', 6.37011745530198), ('he', 6.544536821059878), ('campaign', 6.947383541162555), ('dnc', 7.625767721619438), ('bernie', 9.53348579491636), ('hillary', 11.292429635297127), ('her', 13.368043773852706), ('she', 15.407222997992658), ('clinton', 15.82050777573038), ('sanders', 15.948349171830394)]\n",
      "Most characteristic of /r/politics\n",
      "[('deleted', -39.26407911094589), ('removed', -28.602341744738556), ('removal', -23.24503097164692), ('message', -22.591999820608844), ('politics', -22.312123566594636), ('submission', -21.15363206220953), ('regarding', -20.821980017327064), ('reddit', -19.06091273209774), ('moderators', -18.11726929988101), ('hi', -15.751426887179619)]\n"
     ]
    }
   ],
   "source": [
    "print(\"Most characteristic of sfp politics after\")\n",
    "print(comparison_6[-10:])\n",
    "print(\"Most characteristic of /r/politics\")\n",
    "print(comparison_6[:10])"
   ]
  },
  {
   "cell_type": "code",
   "execution_count": 49,
   "metadata": {},
   "outputs": [],
   "source": [
    "comparison_7 = compare1(list(td_politics_before_text), list(politics_text))"
   ]
  },
  {
   "cell_type": "code",
   "execution_count": 50,
   "metadata": {},
   "outputs": [
    {
     "name": "stdout",
     "output_type": "stream",
     "text": [
      "Most characteristic of td politics before\n",
      "[('economy', 5.849488485534582), ('corporations', 6.148013237854099), ('police', 6.261071754758695), ('company', 6.635697338158269), ('society', 6.66882326838764), ('are', 7.039459576997191), ('romney', 9.086734562390058), ('ron', 9.512556507595994), ('paul', 10.659595105758761), ('government', 12.956763803359888)]\n",
      "Most characteristic of /r/politics\n",
      "[('clinton', -33.98861361030492), ('hillary', -33.967017898955945), ('bernie', -33.00222434558593), ('sanders', -32.38004102599821), ('politics', -29.668786261454454), ('https', -28.57200912623476), ('trump', -28.47970951299201), ('she', -28.380485262031836), ('deleted', -28.35149024770632), ('removed', -25.955764904718)]\n"
     ]
    }
   ],
   "source": [
    "print(\"Most characteristic of td politics before\")\n",
    "print(comparison_7[-10:])\n",
    "print(\"Most characteristic of /r/politics\")\n",
    "print(comparison_7[:10])"
   ]
  },
  {
   "cell_type": "code",
   "execution_count": 51,
   "metadata": {},
   "outputs": [],
   "source": [
    "comparison_8 = compare1(list(td_politics_after_text), list(politics_text))"
   ]
  },
  {
   "cell_type": "code",
   "execution_count": 52,
   "metadata": {},
   "outputs": [
    {
     "name": "stdout",
     "output_type": "stream",
     "text": [
      "Most characteristic of td politics after\n",
      "[('immigration', 7.291139689293844), ('supporters', 7.453902461036277), ('archive', 7.657131053186096), ('http', 7.700607700384159), ('donald', 8.002104766971586), ('immigrants', 8.178537998588288), ('racist', 8.553047472204018), ('his', 9.262026724935232), ('he', 13.88107723575582), ('trump', 27.420548957205554)]\n",
      "Most characteristic of /r/politics\n",
      "[('politics', -17.56579470344), ('deleted', -17.06632631698139), ('message', -16.454235020353885), ('removed', -16.09689004221014), ('removal', -12.278088536229408), ('regarding', -11.827408573705215), ('reddit', -11.118566340664577), ('please', -10.6106734086735), ('comment', -10.094967378579845), ('question', -9.965952922677747)]\n"
     ]
    }
   ],
   "source": [
    "print(\"Most characteristic of td politics after\")\n",
    "print(comparison_8[-10:])\n",
    "print(\"Most characteristic of /r/politics\")\n",
    "print(comparison_8[:10])"
   ]
  },
  {
   "cell_type": "code",
   "execution_count": 54,
   "metadata": {},
   "outputs": [],
   "source": [
    "comparison_9 = compare1(list(sfp_politics_before_text), list(sfp_posts_text))"
   ]
  },
  {
   "cell_type": "code",
   "execution_count": 55,
   "metadata": {},
   "outputs": [],
   "source": [
    "comparison_10 = compare1(list(sfp_politics_after_text), list(sfp_posts_text))"
   ]
  },
  {
   "cell_type": "code",
   "execution_count": 56,
   "metadata": {},
   "outputs": [],
   "source": [
    "comparison_11 = compare1(list(td_politics_before_text), list(td_posts_text))"
   ]
  },
  {
   "cell_type": "code",
   "execution_count": 57,
   "metadata": {},
   "outputs": [],
   "source": [
    "comparison_12 = compare1(list(td_politics_after_text), list(td_posts_text))"
   ]
  },
  {
   "cell_type": "code",
   "execution_count": 58,
   "metadata": {},
   "outputs": [
    {
     "name": "stdout",
     "output_type": "stream",
     "text": [
      "Most characteristic of sfp politics before\n",
      "[('tax', 27.10484955379054), ('federal', 28.274509476757373), ('obama', 29.126054720568423), ('of', 29.303916403919732), ('their', 29.604686023318386), ('that', 30.79382583394437), ('law', 33.7298181343646), ('you', 35.93130752375819), ('gt', 43.35096918681282), ('government', 50.14668114212394)]\n",
      "Most characteristic of sfp\n",
      "[('bernie', -114.63841857556642), ('sanders', -90.59465354930272), ('hillary', -81.87531885981572), ('clinton', -81.6799953781497), ('https', -71.79580630735121), ('she', -68.49335757669984), ('her', -59.5205617536509), ('com', -59.275896263748656), ('trump', -54.76905491318175), ('campaign', -52.221234894486244)]\n"
     ]
    }
   ],
   "source": [
    "print(\"Most characteristic of sfp politics before\")\n",
    "print(comparison_9[-10:])\n",
    "print(\"Most characteristic of sfp\")\n",
    "print(comparison_9[:10])"
   ]
  },
  {
   "cell_type": "code",
   "execution_count": 59,
   "metadata": {},
   "outputs": [
    {
     "name": "stdout",
     "output_type": "stream",
     "text": [
      "Most characteristic of sfp politics after\n",
      "[('shit', 15.817596805510243), ('of', 16.455022704157788), ('server', 17.24778367059468), ('emails', 17.56540555296091), ('fbi', 18.11365211305663), ('obama', 18.18497716744409), ('her', 22.00288948917088), ('she', 29.27894290293328), ('gt', 34.40343780115682), ('trump', 35.05512855607713)]\n",
      "Most characteristic of sfp\n",
      "[('bernie', -62.73556912686443), ('https', -45.3100928014652), ('sandersforpresident', -42.69615738722605), ('reddit', -40.29689338941674), ('com', -39.99542671069134), ('message', -36.85573152767616), ('this', -31.059425171027033), ('please', -30.98559069004854), ('www', -28.44069976550496), ('removed', -28.095841217573813)]\n"
     ]
    }
   ],
   "source": [
    "print(\"Most characteristic of sfp politics after\")\n",
    "print(comparison_10[-10:])\n",
    "print(\"Most characteristic of sfp\")\n",
    "print(comparison_10[:10])"
   ]
  },
  {
   "cell_type": "code",
   "execution_count": 60,
   "metadata": {},
   "outputs": [
    {
     "name": "stdout",
     "output_type": "stream",
     "text": [
      "Most characteristic of td politics before\n",
      "[('paul', 21.46555528001312), ('system', 21.745256097876805), ('obama', 22.208049303046717), ('money', 22.312061328034535), ('tax', 22.39263647291169), ('you', 25.152586175528345), ('of', 31.78147598059674), ('that', 33.33715351989539), ('the', 34.33563486038037), ('government', 34.690637562088114)]\n",
      "Most characteristic of td\n",
      "[('trump', -88.80827523708332), ('hillary', -85.01979716906384), ('com', -82.87177912490827), ('clinton', -78.84576299425267), ('http', -63.80062007050364), ('https', -59.54064319514849), ('imgur', -51.44909239575585), ('isis', -40.54510915217822), ('donald', -37.77058532376729), ('energy', -33.25411687069987)]\n"
     ]
    }
   ],
   "source": [
    "print(\"Most characteristic of td politics before\")\n",
    "print(comparison_11[-10:])\n",
    "print(\"Most characteristic of td\")\n",
    "print(comparison_11[:10])"
   ]
  },
  {
   "cell_type": "code",
   "execution_count": 61,
   "metadata": {},
   "outputs": [
    {
     "name": "stdout",
     "output_type": "stream",
     "text": [
      "Most characteristic of td politics after\n",
      "[('republicans', 14.675318708520809), ('you', 15.165289444591957), ('obama', 16.02968800023907), ('supporters', 16.11098117622025), ('taxes', 16.214485045190614), ('archive', 16.274146336365124), ('bernie', 17.982481656610236), ('tax', 19.341530304390766), ('party', 19.643693893190783), ('sanders', 23.937767413156294)]\n",
      "Most characteristic of td\n",
      "[('com', -40.80950947281718), ('hillary', -37.0934995013998), ('imgur', -33.31918146623839), ('http', -33.2530605818253), ('clinton', -32.95966014129759), ('https', -25.833114820756197), ('isis', -24.301512017715158), ('if', -24.13147766140712), ('this', -20.068094174014043), ('fucking', -19.977844319266826)]\n"
     ]
    }
   ],
   "source": [
    "print(\"Most characteristic of td politics after\")\n",
    "print(comparison_12[-10:])\n",
    "print(\"Most characteristic of td\")\n",
    "print(comparison_12[:10])"
   ]
  },
  {
   "cell_type": "markdown",
   "metadata": {},
   "source": [
    "### Notes\n",
    "\n",
    "Need to do more preprocessing (removing links and '[removed]' posts). In addition, it seems to be that the \"after\" posts (and perhaps politics in general?) become more focused on people (Clinton, Sanders, Trump), which in itself isn't necessarily interesting (increased election-related news coverage; presumably it's on people's minds more regardless). However, it may be interesting if coupled with differences of variability in language. Lastly, I should rethink whether the timeframe for /r/politics is ideal, as it seems to be more in line with the \"after\" posts than the \"before\" posts."
   ]
  },
  {
   "cell_type": "markdown",
   "metadata": {},
   "source": [
    "### Additional preprocessing"
   ]
  },
  {
   "cell_type": "code",
   "execution_count": 16,
   "metadata": {},
   "outputs": [
    {
     "name": "stdout",
     "output_type": "stream",
     "text": [
      "112162\n",
      "112162\n"
     ]
    }
   ],
   "source": [
    "sfp_politics_before_text1 = [i for i in sfp_politics_before_text if (i != deleted_str and i != removed_str)]\n",
    "print(len(sfp_politics_before_text))\n",
    "print(len(sfp_politics_before_text1))"
   ]
  },
  {
   "cell_type": "code",
   "execution_count": 19,
   "metadata": {},
   "outputs": [
    {
     "name": "stdout",
     "output_type": "stream",
     "text": [
      "62862\n",
      "62873\n"
     ]
    }
   ],
   "source": [
    "print(len([i for i in td_posts_text if (i != removed_str and i != deleted_str)]))\n",
    "print(len(td_posts_text))"
   ]
  },
  {
   "cell_type": "code",
   "execution_count": 20,
   "metadata": {},
   "outputs": [
    {
     "name": "stdout",
     "output_type": "stream",
     "text": [
      "112162\n",
      "112162\n",
      "\n",
      "92361\n",
      "92376\n",
      "\n",
      "60931\n",
      "60931\n",
      "\n",
      "21187\n",
      "21187\n",
      "\n",
      "82913\n",
      "82915\n",
      "\n",
      "62862\n",
      "62873\n",
      "\n"
     ]
    }
   ],
   "source": [
    "for data in [sfp_politics_before_text, sfp_politics_after_text, td_politics_before_text, td_politics_after_text, sfp_posts_text, td_posts_text]:\n",
    "    print(len([i for i in data if (i != removed_str and i != deleted_str)]))\n",
    "    print(len(data))\n",
    "    print()"
   ]
  },
  {
   "cell_type": "code",
   "execution_count": 21,
   "metadata": {},
   "outputs": [
    {
     "name": "stdout",
     "output_type": "stream",
     "text": [
      "104886\n",
      "112162\n",
      "\n",
      "86890\n",
      "92376\n",
      "\n",
      "57412\n",
      "60931\n",
      "\n",
      "19679\n",
      "21187\n",
      "\n",
      "76503\n",
      "82915\n",
      "\n",
      "58139\n",
      "62873\n",
      "\n"
     ]
    }
   ],
   "source": [
    "for data in [sfp_politics_before_text, sfp_politics_after_text, td_politics_before_text, td_politics_after_text, sfp_posts_text, td_posts_text]:\n",
    "    print(len([i for i in data if ('http' not in i)]))\n",
    "    print(len(data))\n",
    "    print()"
   ]
  },
  {
   "cell_type": "code",
   "execution_count": 36,
   "metadata": {},
   "outputs": [
    {
     "name": "stdout",
     "output_type": "stream",
     "text": [
      "['[You serious?]( ', 'So here are the facts:  ', 'The person who submitted the URL noticed that the article had already been submitted before and so he prefixed the URL with an unnecessary login sequence (name@domain). Firefox notices this and also notices that the website doesn\\'t even ask for a username/password and it asks you if you still want to continue. I\\'m not sure why it would ever be risky to \"log into\" a site that requires no authentication, but maybe somebody else can chime in there.\\r\\n\\r\\nJust to add though, he could have easily appended the URL with a fake variable instead. (e.g.  ', ' \\n\\nJust sayin...', \" \\n\\nMeh. People aren't even trying anymore. We saw this a month ago.\", ' ', \"This is what we have now:\\n \\n\\nWhen he was running under the Office of President-Elect, change.gov had a forum where you could post and vote on ideas. It was wrapped up and from what I understand they're evaluating all of the ideas that were submitted. I don't really know all of the specifics though.\", 'See also:  ', 'PS: I hate you guys. :)\\n\\n ', \"Yeah, I'm not sure why half the thread responses don't seem to care. As far as I can tell all links regarding this poll in recent news link back to the 2011 poll. Shitty journalism.\\n\\nHere's CBS' poll page. No new poll is anywhere on here:  \\n\\n\"]\n",
      "\n",
      "['My wife and her family are legal immigrants from Guatemala who have made the most of their move to the US. All are successful members of society, working in schools, medical research, finance, hospitals and engineering. \\n\\nBut I honestly believe that the US government should have given political asylum to Guatemalans for the stuff that went down in the 80s. \\n\\nSome of the worst massacres in history happened there. Roaming gangs of rebels would raid small villages and strip their resources. Then the government would come by, see they \"helped\" the rebels and then murder every man woman and child and throw them in a mass grave. But then the government fighters would do the exact same thing. Strip a village of their resources and then the rebels would come by and massacre every man woman and child because they \"supported the government\". \\n\\nThere is a fantastic story on This American Life about a child who was abducted from one of those villages and raised by a soldier he thought was his real father. It is an amazing look into the violence and turmoil in Guatemala. I highly recommend listening to it.  \\n\\nMany of these problems came from the CIA deposing or installing leaders. The US government also gave Guatemalans syphilis and tested things on them. \\n \\n\\nThe US government has done a lot of intervention in Central America. And I find it pretty messed up that they can cause a civil war and then deny refugees from a war they started. \\n\\nJust look at Hillary. Her state department made sure the minimum wage in Haiti didn\\'t get raised. That had to do with lobbyists and corporate influence on Washington. Our government shits all over the region then ignore the fall outs and puts the burden on our tax payers. \\n\\nWe need to reform our immigration system, make it easier for the right people to immigrate. The illegal immigrants are making that harder, taking resources and attention from the legal ones. ', \"&gt;Gilroy described Mateen as a devout Muslim who brought a prayer mat to work and prayed\\n\\nAnd\\n\\n&gt;Gilroy told Florida Today that he complained to his superiors several times about Mateen, but they refused to take action because, Gilroy claimed, Mateen was Muslim.\\n\\nOriginal source was ABC news\\n\\nHere is a link. It's late and I'm on phone.   \", ' ', ' ', ' ', \"If you look at the outstanding precincts remaining in Polk, the majority of them are at least in the vicinity of Sanders winning precincts. I think Hillary wins this by a few tenths of a percent (bold prediction), but it's still interesting.\\n\\n \", ' ', ' ', ' ', \"FYI,\\n\\n \\n\\n&gt;Studies have not been able to demonstrate increased alcohol use in patiences with rhinophyma.\\n\\n \\n\\n&gt;Although the classic ‘drinker's nose’ (rhinophyma) was thought to be related to excess alcohol consumption, it has never been proven. In a case-control study of 175 people with rosacea and 145 people with normal skin, there was no significant difference in alcohol consumption between the two groups.\"]\n",
      "\n",
      "[\" \\n\\nMy analysis is better.  Ron Paul did win the text voting, but he was booed several times during his commenting.\\n\\nHis message was dead-on as always but he didn't do that well in this particular debate in terms of audience reaction.  With that being said, if you asked me he gained greater sway with the audience, it wasn't Paul.\", \"Is that the law that Bill O'Reilly wants passed in every state.  10 year minimum sentences?\\n\\nEdited: that is Jessica's law.\\n\\n \\n\", \" \\n\\nWe went over this.\\n\\nHe doesn't accept a theory as a theory.\", 'I am still waiting on where he said he doesn\\'t believe in \"EVOLUTION\".  Big difference from not siding with EVOLUTIONARY \"THEORY\" in which you aren\\'t 100% on the entire details on how human beings arrived here today.  \\n\\nI am anti-god/anti-religion; life long person of science.  Lets understand evolution as fact and push everything else away.  But I can understand how a Christian can be confused about the origins of life; how some out of the 6 billion people can be confused about the origins of life.\\n\\nIf you can give me the video where Ron Paul says the following \"I DO NOT BELIEVE IN EVOLUTION AT ALLL, WILL NEVER BELIEVE EVOLUTION\"  or \"I AM A CREATIONIST FROM THE DAY I WAS BORN TILL NOW\"\\n\\nYes, I saw the youtube video mentioned earlier, but you can play all kinds of \"Bill Clinton wordisms with that Ron Paul video.\\n\\nAlso, here is the difference between Evolution and Evolutionary theory.\\n\\n \\n\\nEdited:\\nF**king \"Redditards\";  We want freedom for all but we can\\'t give this man his personal beliefs.  Seems like hypocrisy to me.  Beliefs that don\\'t have anything to do with the office he is running for.\\n\\n\"BUT HE DOESN\\'T accept a Darwin\\'s or Gould theory of evolution, he can\\'t reason on complex issues.\"\\n\\nCut that bull-shit.  If a former Air force surgeon with a medical degree from Duke Medical school can\\'t reason complex situations over a fucking-tard living off dad\\'s Oil money (Bush) than god help us.  Call your representatives, asking to introduce a bill that all persons running for the presidency must have a PHD in Astrophysics.\\n\\nIn the mean-time, lets go with these requirements:\\n\\nU.S. citizen, 35 years of age, 14 years resident of U.S.  Must have an absolute majority in the ELECTORAL COLLEGE – 270/538.\\n\\nPersonally, I am not really THAT big a Ron Paul supporter.  He has interesting ideas that might possibly work.  So do the other candidates.  I am just tired of this internet journalism where we take 30 second sound bites and ignore a person\\'s 70 years of life experience.\\n\\nThat is fine, be an media idiot just like Bill O\\'Reilly.  Personally, I would like to hear criticism or favoritism of Ron Paul\\'s plans for the country.  Will his plan to eliminate the IRS get passed?  Will it work?  Is it a long term strategy?  Will it rejuvenate the economy?', '\"It defines it when it is all we have to go on.\"\\n\\nWhat about his issues page:\\n \\n\\nOr his wikipedia page that discusses his life from young to old.\\n \\n\\nOr maybe his actual full quotes?\\n \\n\\nOr maybe his books?  So little on the guy?  It is hard to find out what he thinks.\\n\\nI feel like I am talking to 10 year olds.', \"30 years?  Don't you mean 4 years.\\n\\nBut, yes it appears he has racist viewpoints.  Well, at least I liked the political messages.  Some of them made sense.\\n\\nYou win.\\n\\n \", ' \\n\\nI hope you get more kharma whore points than I do.', ' \\n11/12\\n\\nI am guessing redditors are throwing off the poll.', \"Exactly.  Thanks for the commentary.\\n\\nAnd I hate to bring up Ron Paul again, but he is a prime example of a candidate that makes a clear case for his objectives as president and has actionable plans for the country.  I don't know if that is true with Obama or at the very least, those plans aren't well thought out (E.g. another $1000 tax rebate once he is elected).\\n\\nSure, I am not saying I will or will not vote for Obama or Ron Paul or anyone else.  But I am sure am not going to vote for a candidate because that candidate has a lot of favorable blog articles on reddit that make it to the home page.\\n\\nAnd apparently, America disagrees with reddit:\\nMcCain by 1?\\n \\n\\nWell, I look at it this way.  If America continues to go to crap, then at least we can say we were the ones that were cautious about all of the candidates.  \", 'Read the damn papers you idiot, cut the subjective crap.\\n\\nObama is only winning by 6.  That is after the democratic convention bump and Biden pick and Palin pick.\\n\\n \\n\\nIt is far from over.']\n",
      "\n",
      "['Bernie is out!! It is finally over.\\n\\nYub Nub!\\n ', ' ', ' ', \"Didn't Obama get 80-90% of the black vote.  I am not saying the vote against Romney was close, but have the Republicans ever gotten a large number of black voters.  Bush did better with his Texas ties for latino voters.\\n\\nBush won 11% of the black vote.\\n \\n\\nOK 44% of the Hispanic vote.  So really Trump needs to sway the Latino vote.  Which he can do, I suspect (18% already) that Hispanics, especially the Conservative and catholic Hispanics don't mind being tough on illegal immigration.\", 'All serious estimates of the Iraq War dead are over a half million. The most thoroughly researched study was done by The Lancet.\\n\\n ', '&gt; \"Islamic radicals\" is a broad, and very sneaky, term you\\'re using here. But like all uprisings in the Middle East, there will be a contingency of Islamic extremists looking to capitalize, but overall **it was the people**.\\n\\nYou don\\'t know what you are talking about. At all. The opposition in Bengazi and Misurata to Gaddafi was a combination of radical Islamist veterans of Iraq insurgencies and tribes that opposed the domination of Libyan state organizations by the western tribes of Tripoli. Libya is a very new country, it has existed less than 100 years and it was cobbled together by European colonists. [The tribes](  do not get along with each other, which was the chief reason for the brutality of the Gaddafi regime. It was the only way to keep the European construct of Libya from blowing apart into its non-cooperative component pieces. The same is true of Syria, by the way. \\n\\nThe Arab Spring was a western notion much more than an Arab reality. Its certain that some educated, urban Arabs took to the streets to demonstrate for more representation in government, but they were not armed and they were quickly supplanted in Libya and everywhere else by people with very different agendas. By not understanding this shift in the \"Arab Spring\", America and Europe ended up supporting the worst of the bad. \\n\\nThe Iraq War was an evil ploy to get rid of a leader that did not kowtow to universal American hegemony\\n\\nThe Libyan war was the same thing.\\n\\nIn both cases the American Empire and its vassals murdered people by the boatload and destroyed the culture, the infrastructure and the peace. \\n\\n&gt; So which is it? Your initial claim that America is responsible for Libya, or is it the mysterious European oil producers?\\n\\nAs in any war waged by a coalition, there isn\\'t one answer to who or what is responsible for the war. America is responsible for the war because it would not have happened without American participation. That does not mean that European oil producers and many other axes of influence did not coordinate to destroy the state with the second highest standard of living in Africa and the best rights and opportunites for women in the Muslim world. \\n\\n&gt; You didn\\'t know what the fuck you were talking about and are googling to respond to each of these points, as your original argument falls apart in the face of facts.\\n\\nI clearly know much more about all of this than you do, and I\\'m not an asshole. You might try not be an asshole too. \\n\\n', 'In this case, the article makes a very strong case that Obama, a man who promised to delivery [\"the most transparent administration ever\"](  has done the exact opposite and has abused an out-of-date law to punish whistleblowers and stifle debate. I don\\'t see how a discussion about this can be thought to be either conspiracy (after all Chelsea Manning is in prison for life under the Espionage Act) or a right wing attack, given that the abuse of the Espionage Act is approved by the Republicans.\\n\\nI am neither conservative nor progressive, I am simply an advocate of peace and personal liberty. What I see too often here at r/politics is just blind loyalty to the party line.', '&gt; The difference is that Israel tries very hard to avoid civilian casualties and Hamas explicitly tries to kill civilians.\\n\\n\\nThat is just a lie. Hasbara propaganda. Here is [the truth from \"The Independent\"](  - UN figures \\n \\n2014 Gaza war by numbers:\\nPalestinians killed: 2,139\\n\\nPalestinian children killed: 490\\n\\nIsraeli soldiers killed: 64\\n\\nIsraeli civilians killed: 6\\n\\nIsraeli children killed: 1\\n\\nPalestinians wounded: 11,000\\n\\nPalestinian children wounded: 3,000\\n\\nGaza residents displaced: Up to 500,000\\n\\nHomes destroyed in Gaza: 20,000\\n\\nIts curious that 91% of Israelis killed by Hamas were soldiers. That makes you a liar, doesn\\'t it?', 'No, I do not dispute that Israel uses human shields. \\n\\n \\n\\n \\n\\n ', '&gt; biased Palestinian sources,\\n\\nHaaretz, an Israeli newspaper\\n\\nReuters, a preeminent international news service.\\n\\n\\nDude you just keep digging your hole deeper. Only semi-literate American evangelical Christians believe that Israel is anything other than a [racist, apartheid state]( ']\n",
      "\n",
      "[\"Likely the only way to combat Hilary's ticket is to run on the fact that she is indeed the establishment.\\n\\nHowever this country is so locked into the two party mentality that I am not sure we've even still seen the type of resentment / movement required to break people out of the idiotic party lines required for a third party win. I wish it was possible though, and I suppose such a defeatist idea is -why- it hasn't been. But it largely boils down to how our votes are counted, truth be told.\\n\\nHere's some good examples of this shit at work and a better system of voting:\\n\\n[The Problems with First Past the Post Voting Explained]( \\n\\n[The Alternative Vote Explained](/ \", 'How Sanders could win: Americans don\\'t want to hear a buncha words thrown at them by smarter people. They hate that. They need it broken down to 5th grade... no 4th grade level. With simple to follow sentences and the clearest infograms. it needs to be an easily opened and navigatable website, social media, virals, OOH. It\\'s looking at the first Obama election and using that as a blueprint. This message of how american democracy has been kidnapped by monied elites is a simple one but we have to convince people who vote against their own self interest. Convince west virginia and ohio. Bodies need to come out and rock the fucking vote\\nEXAMPLE: disassociate the phrase \"right\" from republicans. The word connotes \"morally good, justified, or acceptable.\" Well, ever since the fuckers got into bed with the banksters, they will be known as the Corporatist party. Messaged with visuals of payoff per region, photos, etc. Heavy body punches!\\n\\nAnd if we need to fling some muck, bring up jeb\\'s grandfather, the nazi sympathizing bastard who wanted to overthrow FDR in a military coup. Such a scary story yet so few know it.    ', \"It also probably has a lot to do with the fact that Sanders doesn't have the same sketchy past that Paul has and the media doesn't have the ammo.  Ron Paul has a nutty past of nutty climate change statements, for example:\\n\\n \\n\\nThey are, thankfully, two very different candidates when it comes to things like this.\\n\", \"[Except that less than 1/4 of Americans identify as liberal.]( \\n\\nAnd that's an all time high.\", '&gt; ...  it will never work... The amount of Americans who are stuck in 1776 jerking off to the constitution while pretending to be the ones who kill Hitler and end communism is too great. \\n\\nThey are not in the majority and they are not \"too great\" of an obstacle -- and I can prove it with documented history.\\n\\nObama initially ran in 2008 on a similar platform on several key points mentioned in Sander\\'s speech.  You may note that Obama didn\\'t follow through and had massive Wall Street funding for his campaign, but that\\'s not the point.\\n\\nThe *point* is that Obama, the 2008 candidate, ran on a platform that included focusing on alternative energy adoption, a true [single payer system for health care](  (**not** Obamacare) and an anti-war, anti-bankster, pro-labor agenda overall.\\n\\nObama ran [on this truly progressive platform](  and he won in a **landslide**.  \\n\\nThis landslide victory clearly shows there\\'s a progressive majority of voters in the United States who *will* come out and vote for a progressive agenda.\\n\\nThe corporate media simply repeats the talking point that the majority of the public is right wing until it starts to sound true, but their charade has been exposed since that 2008 election for anyone who is willing to look.  And, that talking point is clearly a lie.\\n\\nIf the majority of the American public was right wing, there\\'d be no way in hell Obama would have had the largest turnout of voters *in 40 years*.\\n\\nStudies have shown that most Americans want things like a true single payer system for health care once it\\'s properly explained to them and Obama\\'s landslide win confirms it.\\n\\nA \"right wing\" American public didn\\'t vote for Obama on a progressive platform in a landslide.\\n\\n**Please really think about these facts:**\\n\\n• After Obama announced his initial progressive agenda that included things like support for single payer, he had the **highest** voter turnout in 40 years.\\n\\n• After Obama failed to properly follow through on most of his progressive promises, voter turnout for the midterms was the **lowest** in 72 years.  The midterms are historically low, but this was ridiculous.\\n\\nThis clearly shows that the majority of the American voters *want* a progressive agenda initiated and they are incredibly displeased when it\\'s not followed through by enough real action.\\n\\nThe real issue is do we believe that Bernie Sanders will follow though with real action once he\\'s elected?  I think for the most part his past track record shows that he absolutely will.  There will obviously be barriers to his actions, but that shouldn\\'t be news to anyone here that supports a progressive agenda and wants America pushed back from a disastrous, aristocratic plutocracy.  \\n\\nWe\\'ve got to start somewhere and one thing that will help is to stop spreading apathy by propagating the lie that the right wing is the majority in the country and there\\'s nothing we can do about it.\\n', \"All judges as well as most appointments do. However, even with a Republican controlled Senate, there's still immense power in appointing someone. Also notable is that Republican control of the Senate is likely to be short-lived. The Senate cannot be gerrymandered like the House, but only 1/3 of Senators are up for election every cycle. This cycle happened to be bad for Dems with many vulnerable seats such as Udall being up, but 2016 is when all those teabaggers that got elected in 2010 are up, and it being a Presidential election year boosts Dem turnout. \\n\\nThis is what's up:  \\n\\nBoxer will be finally retiring out of California, but California is safe Dem. In Illinois we can likely say goodbye to Mark Kirk, who has been showing his crazier side lately, though it may be from his stroke. Dem wins are very possible in Ohio, New Hampshire, Pennsylvania, Wisconsin, Florida, and possibly North Carolina depending on some factors. \", \"I think any idea at this point is a good idea. There maybe businesses that believe in him. Pretty sure wikipedia would throw up an ad. Also, take a page from Obama's book, mobilize the young people, let the internet work in our favor. Plus things like this will go a looong way compared to simple ads.  \", \"I wouldn't recommend going with Forward.\\n\\n \\n\\n \\n\\n\", \"Maybe something related to that monster scare(?) thing he did during some interview? I'll try and find the video. It's hilarious. \\n\\nEdit: [video](  At the end, less than 30 seconds \", 'Hello Oregonian,\\nI would like to welcome you to visit /r/OregonforSanders where we plan to raise awareness and support for the Sanders 2016 campaign.  We are just opening up shop, so to speak, but as I become aware of opportunities I will post them as appropriate.  In the mean time, as suggested earlier, sign up to [volunteer for Bernie](  and talk Bernie up!']\n",
      "\n",
      "['The $125,000,000 dud. Maybe this really is somewhat of an end to \"politics as usual.\" \\n\\nTrump pointed it out, too. Watch here for 2 minutes (link skips to 29:40) -\\n\\n ', '[This article](  is a little more hopeful. \\n\\nDamn, I sure hope that Donald does not make any promises to the neocons', \"You're absolutely right about that, and he clearly has a high regard and respect for all types of working people. He really has to: I mean, just consider the thousands of construction workers, repair workers, cleaning people, and security people have worked for him and work for him now. \\n\\nAnd then, regarding jobs that range from factory workers to customer-support operators:\\n\\n&gt; In regions such as the Midwest and South, where globalization and American trade deals have arguably ravaged industries that once provided family-sustaining wages for some of these same sets of workers, the competition for even these often low-wage jobs is intense [that phrase links here:   \\n\\nExactly. This article is actually a great argument for why we should elect him--he will bring back jobs to the US! He says in almost every speech that companies used to relocate from New York to Florida, or from Iowa to Texas, but now they relocate to other countries, whether it's Mexico, China, India, or even Ireland. His main platform is jobs, and he will be awesome!!! \", \"Fro some strange reason, this *New York (Democrat Party) Times* article about the study DOESN'T mention that 78% statistic...\\n\\n \", \"I guess you're trolling, but he's already drastically modified that plan as well, saying the priority is getting rid of the most dangerous criminals and violent gangs right away. Literal-minded idiots who think he's going to have millions of buses transporting millions of immigrants back over a period of months. Reread the original post above; he doesn't talk literally, it's all a negotiating tactic, it's politics, and it works in that it keeps him in the news, AND it forces all of his opponents to have to respond to him, and they end up look softer and weaker and stupider by letting him define THEIR campaigns, AND fooling them into taking him so literally. 5 months of campaigning, and he has just about 5 months of averaging at #1 in the polls:  \", 'On his website:\\n\\n&gt; Getting Big Money Out of Politics and Restoring Democracy\\n\\n&gt;  ', 'Drudge Report poll:\\n\\n ', 'How I got the results: I went to the Search Form, typed \"Trump\" into the \"Building\" space, then unchecked \"Proposed\" (so it was just \"Built\" and \"[Under] Construction\" that were checked off), and then switched \"Meters\" to \"Feet,\" and then checked off \"Only drawn buildings\" -\\n\\n \\n\\nAs for the \"Proposed\" ones, there are apparently 6 different designs being made for a Trump Tower in Rio de Janeiro, though not have been drawn yet for this website:\\n\\n \\n', 'TBH Russia will always prefer an isolationist than an interventionist. Moscow\\'s gripes are as always: NATO expansion, unsanctioned wars, softpower political agenda, including the whole \"spreading democracy\" demagoguery. \\n\\nOn the other hand, there is no greater geopolitical threat to Russia\\'s interests than an incredibly strong (socially and financially) America. An indebted America with \"unwon\" wars and frenemies only serves its adversaries smirks. \\n\\n[BTW this is the imbecile the GOP establishment wants]( ', 'Here\\'s the oh-so-cleverly worded way he supported the invasion of Iraq:\\n\\n&gt; O\\'Reilly initially supported the invasion of Iraq. Speaking on ABC\\'s Good Morning America on March 18, 2003, O\\'Reilly promised that \"If the Americans go in and overthrow Saddam Hussein and it\\'s clean [of weapons of mass destruction]...I will apologize to the nation, and I will not trust the Bush administration again.\"[27] In another appearance on the same program on February 10, 2004, O\\'Reilly responded to repeated requests for him to honor his pledge: \"My analysis was wrong and I\\'m sorry. I was wrong. I\\'m not pleased about it at all.\"[28]\\n\\n&gt;  \\n\\nSome commenters call him \"O\\'Rino.\" Good name!\\n']\n",
      "\n"
     ]
    }
   ],
   "source": [
    "for data in [sfp_politics_before_text, sfp_politics_after_text, td_politics_before_text, td_politics_after_text, sfp_posts_text, td_posts_text]:\n",
    "    print([re.sub(r'https?:\\/\\/[\\S]+', ' ', i, flags=re.MULTILINE) for i in data if ('http' in i)][:10])\n",
    "    print()"
   ]
  },
  {
   "cell_type": "code",
   "execution_count": 37,
   "metadata": {},
   "outputs": [],
   "source": [
    "def transform_data(data):\n",
    "    new_data = [re.sub(r'https?:\\/\\/[\\S]+', ' ', i, flags=re.MULTILINE) for i in data]\n",
    "    new_data = [i for i in new_data if (i != removed_str and i != deleted_str)]\n",
    "    return new_data"
   ]
  },
  {
   "cell_type": "code",
   "execution_count": 47,
   "metadata": {},
   "outputs": [],
   "source": [
    "sfp_politics_before_text1 = transform_data(sfp_politics_before_text) \n",
    "sfp_politics_after_text1 = transform_data(sfp_politics_after_text)\n",
    "td_politics_before_text1 = transform_data(td_politics_before_text) \n",
    "td_politics_after_text1 = transform_data(td_politics_after_text)\n",
    "sfp_posts_text1 = transform_data(sfp_posts_text)\n",
    "td_posts_text1 = transform_data(td_posts_text)  \n",
    "politics_text1 = transform_data(politics_text)"
   ]
  },
  {
   "cell_type": "code",
   "execution_count": 50,
   "metadata": {},
   "outputs": [],
   "source": [
    "comparison_1m = compare1(list(sfp_politics_before_text1), list(td_politics_before_text1))"
   ]
  },
  {
   "cell_type": "code",
   "execution_count": 51,
   "metadata": {},
   "outputs": [
    {
     "name": "stdout",
     "output_type": "stream",
     "text": [
      "Most characteristic of sfp politics before\n",
      "[('senate', 11.33825642704323), ('supreme', 11.43457215451083), ('law', 12.216910657300389), ('constitutional', 12.454600979152794), ('oregon', 12.643869118052905), ('constitution', 13.480319243180645), ('to', 13.688963058189264), ('rights', 14.941687843504596), ('court', 15.318217067238812), ('gt', 20.4103132080107)]\n",
      "Most characteristic of td politics before\n",
      "[('trump', -32.49884658395796), ('he', -18.1003879800118), ('govt', -17.757555639824165), ('hillary', -16.978311977382415), ('bernie', -16.125939743083148), ('yea', -13.514768717920674), ('cruz', -13.240139184070538), ('immigration', -13.167591917994798), ('min', -12.662809804833188), ('dont', -12.410391480379772)]\n"
     ]
    }
   ],
   "source": [
    "print(\"Most characteristic of sfp politics before\")\n",
    "print(comparison_1m[-10:])\n",
    "print(\"Most characteristic of td politics before\")\n",
    "print(comparison_1m[:10])"
   ]
  },
  {
   "cell_type": "code",
   "execution_count": 52,
   "metadata": {},
   "outputs": [],
   "source": [
    "comparison_2m = compare1(list(sfp_politics_after_text1), list(td_politics_after_text1))"
   ]
  },
  {
   "cell_type": "code",
   "execution_count": 53,
   "metadata": {},
   "outputs": [
    {
     "name": "stdout",
     "output_type": "stream",
     "text": [
      "Most characteristic of sfp politics after\n",
      "[('vote', 8.314071134623605), ('not', 8.523710428250661), ('county', 9.517415947213648), ('dnc', 9.743512349413985), ('but', 11.021882611025196), ('hillary', 12.122772784762587), ('sanders', 18.714577928984117), ('her', 19.802033635805415), ('clinton', 20.559682335336703), ('she', 23.58709350467939)]\n",
      "Most characteristic of td politics after\n",
      "[('trump', -48.23520485166701), ('racist', -18.525859798576295), ('illegal', -18.236056847019235), ('immigrants', -18.054581614855422), ('immigration', -16.56241511326069), ('he', -14.589956072242405), ('mexico', -14.187367356217099), ('violent', -12.601002383557137), ('judge', -12.350752006491321), ('donald', -11.834146523563374)]\n"
     ]
    }
   ],
   "source": [
    "print(\"Most characteristic of sfp politics after\")\n",
    "print(comparison_2m[-10:])\n",
    "print(\"Most characteristic of td politics after\")\n",
    "print(comparison_2m[:10])"
   ]
  },
  {
   "cell_type": "code",
   "execution_count": 54,
   "metadata": {},
   "outputs": [],
   "source": [
    "comparison_3m = compare1(list(sfp_politics_before_text1), list(sfp_politics_after_text1))"
   ]
  },
  {
   "cell_type": "code",
   "execution_count": 55,
   "metadata": {},
   "outputs": [
    {
     "name": "stdout",
     "output_type": "stream",
     "text": [
      "Most characteristic of sfp politics before\n",
      "[('our', 22.63618847165981), ('you', 23.108303415348654), ('paul', 24.802535284378322), ('federal', 25.05086880660778), ('rights', 25.349935308448387), ('constitution', 25.393447966640263), ('law', 25.76215756254381), ('police', 26.155298368795254), ('romney', 27.895593077256382), ('government', 45.597474807132535)]\n",
      "Most characteristic of sfp politics after\n",
      "[('she', -99.63481055197533), ('sanders', -91.30655248916086), ('clinton', -89.48524903282994), ('her', -83.52300314779959), ('bernie', -83.38833814154691), ('hillary', -83.163422094394), ('trump', -79.60332693603942), ('he', -53.994195411244995), ('supporters', -49.66154068284942), ('candidate', -42.91558911513844)]\n"
     ]
    }
   ],
   "source": [
    "print(\"Most characteristic of sfp politics before\")\n",
    "print(comparison_3m[-10:])\n",
    "print(\"Most characteristic of sfp politics after\")\n",
    "print(comparison_3m[:10])"
   ]
  },
  {
   "cell_type": "code",
   "execution_count": 56,
   "metadata": {},
   "outputs": [],
   "source": [
    "comparison_4m = compare1(list(td_politics_before_text1), list(td_politics_after_text1))"
   ]
  },
  {
   "cell_type": "code",
   "execution_count": 57,
   "metadata": {},
   "outputs": [
    {
     "name": "stdout",
     "output_type": "stream",
     "text": [
      "Most characteristic of td politics before\n",
      "[('health', 9.605338641991418), ('police', 9.697746152009769), ('that', 9.7001219121693), ('insurance', 10.095910729300737), ('society', 10.297531299435308), ('of', 10.46643225031583), ('romney', 12.339484337345187), ('ron', 12.940685026305786), ('paul', 15.58010121050074), ('government', 17.59716010238678)]\n",
      "Most characteristic of td politics after\n",
      "[('trump', -78.5721004416358), ('bernie', -43.27115570024865), ('hillary', -41.72602806919734), ('sanders', -40.22940096316957), ('clinton', -38.866661987615764), ('supporters', -33.63294636275014), ('he', -32.91649213002195), ('she', -31.97704867012858), ('her', -27.903650348952805), ('candidate', -20.341453244991396)]\n"
     ]
    }
   ],
   "source": [
    "print(\"Most characteristic of td politics before\")\n",
    "print(comparison_4m[-10:])\n",
    "print(\"Most characteristic of td politics after\")\n",
    "print(comparison_4m[:10])"
   ]
  },
  {
   "cell_type": "code",
   "execution_count": 58,
   "metadata": {},
   "outputs": [],
   "source": [
    "comparison_5m = compare1(list(sfp_politics_before_text1), list(politics_text1))"
   ]
  },
  {
   "cell_type": "code",
   "execution_count": 59,
   "metadata": {},
   "outputs": [
    {
     "name": "stdout",
     "output_type": "stream",
     "text": [
      "Most characteristic of sfp politics before\n",
      "[('debt', 6.87180335880116), ('ron', 7.1577581833756625), ('police', 7.228279659656836), ('paul', 7.437709583169424), ('corporations', 7.635419982100003), ('law', 7.661732903639682), ('rights', 7.746801018511705), ('constitution', 8.290022399371527), ('romney', 9.34395822536099), ('government', 12.711725960608248)]\n",
      "Most characteristic of /r/politics\n",
      "[('trump', -52.597549453807716), ('bernie', -47.09258666591536), ('hillary', -46.995112954561435), ('sanders', -39.74582884871466), ('clinton', -38.71654842823778), ('she', -33.729123585960245), ('removal', -28.24798035653597), ('her', -27.07405740186644), ('submission', -26.132622606910704), ('supporters', -23.39038610494753)]\n"
     ]
    }
   ],
   "source": [
    "print(\"Most characteristic of sfp politics before\")\n",
    "print(comparison_5m[-10:])\n",
    "print(\"Most characteristic of /r/politics\")\n",
    "print(comparison_5m[:10])"
   ]
  },
  {
   "cell_type": "code",
   "execution_count": 60,
   "metadata": {},
   "outputs": [],
   "source": [
    "comparison_6m = compare1(list(sfp_politics_after_text1), list(politics_text1))"
   ]
  },
  {
   "cell_type": "code",
   "execution_count": 61,
   "metadata": {},
   "outputs": [
    {
     "name": "stdout",
     "output_type": "stream",
     "text": [
      "Most characteristic of sfp politics after\n",
      "[('reporting', 6.186242197924017), ('he', 6.281900033408276), ('campaign', 6.488732481108509), ('dnc', 7.449797898200622), ('bernie', 8.621198325896472), ('hillary', 11.330983009861932), ('her', 13.148171151136998), ('sanders', 15.206749186008965), ('she', 15.2440390998092), ('clinton', 16.01634211275044)]\n",
      "Most characteristic of /r/politics\n",
      "[('removal', -23.27480439447159), ('submission', -21.182106422643933), ('regarding', -20.839424744189735), ('moderators', -18.15329685528378), ('removed', -17.49662699338669), ('message', -16.70684840106849), ('hi', -15.736384044641971), ('participating', -15.118699917756029), ('please', -14.79023809915942), ('questions', -13.18170606973819)]\n"
     ]
    }
   ],
   "source": [
    "print(\"Most characteristic of sfp politics after\")\n",
    "print(comparison_6m[-10:])\n",
    "print(\"Most characteristic of /r/politics\")\n",
    "print(comparison_6m[:10])"
   ]
  },
  {
   "cell_type": "code",
   "execution_count": 62,
   "metadata": {},
   "outputs": [],
   "source": [
    "comparison_7m = compare1(list(td_politics_before_text1), list(politics_text1))"
   ]
  },
  {
   "cell_type": "code",
   "execution_count": 63,
   "metadata": {},
   "outputs": [
    {
     "name": "stdout",
     "output_type": "stream",
     "text": [
      "Most characteristic of td politics before\n",
      "[('economy', 6.027359107417494), ('police', 6.032855745925215), ('corporations', 6.049607580788157), ('are', 6.454405546579397), ('society', 6.5606035755065255), ('company', 6.648193846061862), ('romney', 8.975624136270351), ('ron', 9.381365254109744), ('paul', 10.489512267744932), ('government', 12.793824227571333)]\n",
      "Most characteristic of /r/politics\n",
      "[('bernie', -32.543136343029516), ('hillary', -32.00335968825887), ('sanders', -31.596571416743174), ('clinton', -31.387897295407097), ('she', -28.673030135401152), ('trump', -28.127368020590815), ('her', -24.42146038044632), ('removal', -21.88179381610442), ('message', -20.552649318734854), ('regarding', -18.9461401043056)]\n"
     ]
    }
   ],
   "source": [
    "print(\"Most characteristic of td politics before\")\n",
    "print(comparison_7m[-10:])\n",
    "print(\"Most characteristic of /r/politics\")\n",
    "print(comparison_7m[:10])"
   ]
  },
  {
   "cell_type": "code",
   "execution_count": 66,
   "metadata": {},
   "outputs": [],
   "source": [
    "comparison_8m = compare1(list(td_politics_after_text1), list(politics_text1))"
   ]
  },
  {
   "cell_type": "code",
   "execution_count": 67,
   "metadata": {},
   "outputs": [
    {
     "name": "stdout",
     "output_type": "stream",
     "text": [
      "Most characteristic of td politics after\n",
      "[('illegal', 6.382071503687986), ('america', 6.593795852093893), ('mexico', 6.860171941179147), ('immigration', 7.119996332338804), ('supporters', 7.443892070100035), ('immigrants', 7.685372694988114), ('racist', 8.65674790197013), ('his', 9.260103552537375), ('he', 13.987407986237903), ('trump', 26.771585840957357)]\n",
      "Most characteristic of /r/politics\n",
      "[('message', -13.618468648244862), ('removal', -12.267029914346196), ('regarding', -12.112597373765198), ('please', -10.57472416623357), ('removed', -10.412374643653605), ('comment', -10.044050454897063), ('questions', -9.488604917658936), ('moderators', -9.153565973985467), ('submission', -8.962233528232792), ('hi', -8.63708568972849)]\n"
     ]
    }
   ],
   "source": [
    "print(\"Most characteristic of td politics after\")\n",
    "print(comparison_8m[-10:])\n",
    "print(\"Most characteristic of /r/politics\")\n",
    "print(comparison_8m[:10])"
   ]
  },
  {
   "cell_type": "code",
   "execution_count": 68,
   "metadata": {},
   "outputs": [],
   "source": [
    "comparison_9m = compare1(list(sfp_politics_before_text1), list(sfp_posts_text1))"
   ]
  },
  {
   "cell_type": "code",
   "execution_count": 69,
   "metadata": {},
   "outputs": [],
   "source": [
    "comparison_10m = compare1(list(sfp_politics_after_text1), list(sfp_posts_text1))"
   ]
  },
  {
   "cell_type": "code",
   "execution_count": 70,
   "metadata": {},
   "outputs": [],
   "source": [
    "comparison_11m = compare1(list(td_politics_before_text1), list(td_posts_text1))"
   ]
  },
  {
   "cell_type": "code",
   "execution_count": 71,
   "metadata": {},
   "outputs": [],
   "source": [
    "comparison_12m = compare1(list(td_politics_after_text1), list(td_posts_text1))"
   ]
  },
  {
   "cell_type": "code",
   "execution_count": 72,
   "metadata": {},
   "outputs": [
    {
     "name": "stdout",
     "output_type": "stream",
     "text": [
      "Most characteristic of sfp politics before\n",
      "[('of', 26.621615177143394), ('tax', 26.85040784735617), ('obama', 27.832312807345424), ('federal', 27.880620721232393), ('that', 28.46403105504504), ('their', 28.713335003023218), ('law', 33.16342483591756), ('you', 34.02296568540546), ('gt', 42.54648218114958), ('government', 49.6965501161795)]\n",
      "Most characteristic of sfp\n",
      "[('bernie', -113.11871203007799), ('sanders', -88.94579815259455), ('hillary', -81.03789564128498), ('clinton', -80.78315716775295), ('she', -69.23166907339403), ('her', -60.23693414128286), ('trump', -54.55730589913392), ('campaign', -52.1667651888893), ('vote', -49.8980005382998), ('win', -47.25299685386287)]\n"
     ]
    }
   ],
   "source": [
    "print(\"Most characteristic of sfp politics before\")\n",
    "print(comparison_9m[-10:])\n",
    "print(\"Most characteristic of sfp\")\n",
    "print(comparison_9m[:10])"
   ]
  },
  {
   "cell_type": "code",
   "execution_count": 73,
   "metadata": {},
   "outputs": [
    {
     "name": "stdout",
     "output_type": "stream",
     "text": [
      "Most characteristic of sfp politics after\n",
      "[('fucking', 15.550178431227177), ('shit', 15.58287631418329), ('emails', 16.592063243396364), ('server', 16.9938624936156), ('obama', 17.3196900417105), ('fbi', 17.614995076999655), ('her', 21.36538501698456), ('she', 28.6002638929509), ('trump', 33.61983416849249), ('gt', 33.97110423903559)]\n",
      "Most characteristic of sfp\n",
      "[('bernie', -64.11317973582892), ('this', -31.96328935140618), ('please', -31.195461451102503), ('we', -28.795805410721833), ('message', -28.605724506906398), ('removed', -28.274334177953076), ('link', -26.48911091590091), ('thank', -25.891211736658168), ('moderators', -25.190729223616298), ('my', -24.810599119367517)]\n"
     ]
    }
   ],
   "source": [
    "print(\"Most characteristic of sfp politics after\")\n",
    "print(comparison_10m[-10:])\n",
    "print(\"Most characteristic of sfp\")\n",
    "print(comparison_10m[:10])"
   ]
  },
  {
   "cell_type": "code",
   "execution_count": 74,
   "metadata": {},
   "outputs": [
    {
     "name": "stdout",
     "output_type": "stream",
     "text": [
      "Most characteristic of td politics before\n",
      "[('paul', 20.842670538835574), ('system', 21.055873992821454), ('money', 21.19826852039764), ('you', 21.26861616230126), ('obama', 21.448082508246188), ('tax', 21.778963909722126), ('the', 26.833515282246136), ('of', 27.137634536888626), ('that', 28.86118925279632), ('government', 33.74133087464238)]\n",
      "Most characteristic of td\n",
      "[('trump', -89.16611639255923), ('hillary', -85.6770377327289), ('clinton', -79.21315127405852), ('isis', -40.86583082503335), ('donald', -36.46815217086809), ('if', -34.19756928972393), ('energy', -33.949489880036346), ('fucking', -32.70580049516698), ('source', -32.54108911054748), ('open', -31.59971178540883)]\n"
     ]
    }
   ],
   "source": [
    "print(\"Most characteristic of td politics before\")\n",
    "print(comparison_11m[-10:])\n",
    "print(\"Most characteristic of td\")\n",
    "print(comparison_11m[:10])"
   ]
  },
  {
   "cell_type": "code",
   "execution_count": 75,
   "metadata": {},
   "outputs": [
    {
     "name": "stdout",
     "output_type": "stream",
     "text": [
      "Most characteristic of td politics after\n",
      "[('you', 13.592991800160796), ('gt', 13.867330527833213), ('republicans', 14.234732954512907), ('obama', 14.574439054426476), ('supporters', 15.556351834802426), ('taxes', 15.589580623625212), ('bernie', 16.80317770894974), ('tax', 18.5997131511903), ('party', 19.070020661570535), ('sanders', 22.944165349278393)]\n",
      "Most characteristic of td\n",
      "[('hillary', -40.9500816114052), ('clinton', -37.594972939797614), ('if', -25.22374064297781), ('isis', -24.434953841306783), ('this', -21.436952692068473), ('fucking', -20.32270190105012), ('fuck', -19.584349445751155), ('my', -18.062387142344875), ('donald', -18.01815332892516), ('energy', -17.999115399673375)]\n"
     ]
    }
   ],
   "source": [
    "print(\"Most characteristic of td politics after\")\n",
    "print(comparison_12m[-10:])\n",
    "print(\"Most characteristic of td\")\n",
    "print(comparison_12m[:10])"
   ]
  },
  {
   "cell_type": "code",
   "execution_count": 93,
   "metadata": {},
   "outputs": [
    {
     "name": "stdout",
     "output_type": "stream",
     "text": [
      "[\"Hi `DragonPup`. Thank you for participating in /r/Politics. However, [your submission](  has been removed for the following reason(s):\\n\\n* [Unacceptable Title](  - Your headline must be comprised only of the copied and pasted headline of the article OR a continuous quote taken from the article. If using a quote, it should reflect the article as a whole\\n\\n    **We recommend not using the Reddit 'suggest a title' as it tends to not give the exact title of the article.**\\n\\nYou are welcome to resubmit your link, but please follow the submissions rules listed in the sidebar.\\n\\n\\n\\nIf you have any questions about this removal, please feel free to [message the moderators.](  regarding the removal of this submission by /u/DragonPup&amp;message=I have a question regarding the removal of this [submission.]( \", '&gt; **The /r/Politics On Topic Statement**\\n\\n&gt; All submissions to /r/politics need to be *explicitly* about current US politics.  This means that if a subject has political *implications* but does not directly discuss politics it is most likely off topic.\\n\\n&gt; To be explicitly political, submissions should focus on one of the following things that have political significance:\\n\\n&gt; * Information and opinions concerning the running of US governments, courts, public services and policy-making.\\n\\n&gt; * Private political actions and stories such as demonstrations, lobbying, candidacies and funding and political movements, groups and donors.\\n\\n&gt; This does **not** include:\\n\\n&gt; * **The non-political actions of otherwise political figures. (ex. Barack Obama Painted a Picture of Himself)**', '\\nThis submission has been removed automatically because it comes from a domain consisting of satire. We do not allow satire in /r/Politics as satire and headlines from satire articles are often confused for regular news reports\\n\\n[More information can be found here]( \\n\\n*I am a bot, and this action was performed automatically. Please [contact the moderators of this subreddit](/message/compose/?to=/r/politics) if you have any questions or concerns.*', '\\nThis submission has been automatically removed per the sidebar rule:\\n\\n&gt; Please do not: Submit links to wiki, images, memes, facebook, tumblr, or twitter. Info-graphics should be linked to their original sources. \\n\\n[More information can be found here]( \\n\\n*I am a bot, and this action was performed automatically. Please [contact the moderators of this subreddit](/message/compose/?to=/r/politics) if you have any questions or concerns.*', 'Hi `Quiglius`. Thank you for participating in /r/Politics. However, [your submission](  has been removed for the following reason(s):\\n\\n* [Off-Topic](  All submissions to /r/politics need to be explicitly about **current US politics**.\\n\\n* Other material that is not explicitly political can be posted to /r/politicaldiscussion \\n\\n\\n\\nIf you have any questions about this removal, please feel free to [message the moderators.](  regarding the removal of this submission by /u/Quiglius&amp;message=I have a question regarding the removal of this [submission.]( ', '\\nThis submission has been automatically removed because it comes from a domain that is deemed not appropriate/off-topic for /r/politics\\n\\n[More information can be found here]( \\n\\n*I am a bot, and this action was performed automatically. Please [contact the moderators of this subreddit](/message/compose/?to=/r/politics) if you have any questions or concerns.*', \"This submission has been automatically removed as it is either a link shortener or link redirector. /r/politics doesn't allow link shorterners or redirectors because users should be able to tell where they're going when they click a link. You are encouraged to resubmit your submission with the URL that points directly to the content you're submitting.\\n\\n[More information can be found here]( \\n\\n*I am a bot, and this action was performed automatically. Please [contact the moderators of this subreddit](/message/compose/?to=/r/politics) if you have any questions or concerns.*\", 'Hi `Payshents`. Thank you for participating in /r/Politics. However, [your submission](  has been removed for the following reason(s):\\n\\n* [No Solicitation of Users](  Soliciting users is prohibited here. This includes, but is not limited to, asking for money, asking for petition signatures, asking for poll votes, and asking for people to volunteer. Post content of this nature to another political subreddit, or /r/misc.\\n\\n\\n\\nIf you have any questions about this removal, please feel free to [message the moderators.](  regarding the removal of this submission by /u/Payshents&amp;message=I have a question regarding the removal of this [submission.]( ', '\\nThis submission has been automatically removed because it comes from blogging platform. \\n\\n[More information can be found here](  \\n\\n*I am a bot, and this action was performed automatically. Please [contact the moderators of this subreddit](/message/compose/?to=/r/politics) if you have any questions or concerns.*', 'Hi `Schlegdawg`. Thank you for participating in /r/Politics. However, [your submission](  has been removed for the following reason(s):\\n\\n* [Off-Topic](  All submissions to /r/politics need to be explicitly about **current US politics**.\\n\\n\\n\\nIf you have any questions about this removal, please feel free to [message the moderators.](  regarding the removal of this submission by /u/Schlegdawg&amp;message=I have a question regarding the removal of this [submission.]( ']\n",
      "84\n",
      "57\n",
      "33\n",
      "[\"Hi `DragonPup`. Thank you for participating in /r/Politics. However, [your submission](  has been removed for the following reason(s):\\n\\n* [Unacceptable Title](  - Your headline must be comprised only of the copied and pasted headline of the article OR a continuous quote taken from the article. If using a quote, it should reflect the article as a whole\\n\\n    **We recommend not using the Reddit 'suggest a title' as it tends to not give the exact title of the article.**\\n\\nYou are welcome to resubmit your link, but please follow the submissions rules listed in the sidebar.\\n\\n\\n\\nIf you have any questions about this removal, please feel free to [message the moderators.](  regarding the removal of this submission by /u/DragonPup&amp;message=I have a question regarding the removal of this [submission.]( \", '&gt; **The /r/Politics On Topic Statement**\\n\\n&gt; All submissions to /r/politics need to be *explicitly* about current US politics.  This means that if a subject has political *implications* but does not directly discuss politics it is most likely off topic.\\n\\n&gt; To be explicitly political, submissions should focus on one of the following things that have political significance:\\n\\n&gt; * Information and opinions concerning the running of US governments, courts, public services and policy-making.\\n\\n&gt; * Private political actions and stories such as demonstrations, lobbying, candidacies and funding and political movements, groups and donors.\\n\\n&gt; This does **not** include:\\n\\n&gt; * **The non-political actions of otherwise political figures. (ex. Barack Obama Painted a Picture of Himself)**', 'Hi `Quiglius`. Thank you for participating in /r/Politics. However, [your submission](  has been removed for the following reason(s):\\n\\n* [Off-Topic](  All submissions to /r/politics need to be explicitly about **current US politics**.\\n\\n* Other material that is not explicitly political can be posted to /r/politicaldiscussion \\n\\n\\n\\nIf you have any questions about this removal, please feel free to [message the moderators.](  regarding the removal of this submission by /u/Quiglius&amp;message=I have a question regarding the removal of this [submission.]( ', 'Hi `Payshents`. Thank you for participating in /r/Politics. However, [your submission](  has been removed for the following reason(s):\\n\\n* [No Solicitation of Users](  Soliciting users is prohibited here. This includes, but is not limited to, asking for money, asking for petition signatures, asking for poll votes, and asking for people to volunteer. Post content of this nature to another political subreddit, or /r/misc.\\n\\n\\n\\nIf you have any questions about this removal, please feel free to [message the moderators.](  regarding the removal of this submission by /u/Payshents&amp;message=I have a question regarding the removal of this [submission.]( ', 'Hi `Schlegdawg`. Thank you for participating in /r/Politics. However, [your submission](  has been removed for the following reason(s):\\n\\n* [Off-Topic](  All submissions to /r/politics need to be explicitly about **current US politics**.\\n\\n\\n\\nIf you have any questions about this removal, please feel free to [message the moderators.](  regarding the removal of this submission by /u/Schlegdawg&amp;message=I have a question regarding the removal of this [submission.]( ', 'Hi `3betPLN`. Thank you for participating in /r/Politics. However, [your submission](  has been removed for the following reason(s):\\n\\n* Already Submitted: This article has already been submitted to /r/politics.  \\n\\n\\n\\nIf you have any questions about this removal, please feel free to [message the moderators.](  regarding the removal of this submission by /u/3betPLN&amp;message=I have a question regarding the removal of this [submission.]( ', \"Hi `Calypso11`. Thank you for participating in /r/Politics. However, [your submission](  has been removed for the following reason(s):\\n\\n* [Not Exact Title](  - Your headline must be comprised only of the copied and pasted headline of the article AND/OR a continuous quote taken from the article. If using a quote, it should reflect the article as a whole.\\n\\n    **We recommend not using the Reddit 'suggest a title' as it tends to not give the exact title of the article.**\\n\\n\\n\\nIf you have any questions about this removal, please feel free to [message the moderators.](  regarding the removal of this submission by /u/Calypso11&amp;message=I have a question regarding the removal of this [submission.]( \", \"Hi `UncleLongHair0`. Thank you for participating in /r/Politics. However, [your submission](  has been removed for the following reason(s):\\n\\n* [Unacceptable Title](  - Your headline must be comprised only of the copied and pasted headline of the article AND/OR a continuous quote taken from the article. If using a quote, it should reflect the article as a whole\\n\\n    **We recommend not using the Reddit 'suggest a title' as it tends to not give the exact title of the article.**\\n\\n\\n\\nIf you have any questions about this removal, please feel free to [message the moderators.](  regarding the removal of this submission by /u/UncleLongHair0&amp;message=I have a question regarding the removal of this [submission.]( \", 'Hi `TwoGee`. Thank you for participating in /r/Politics. However, [your submission](  has been removed for the following reason(s):\\n\\n* Already Submitted: This article has already been submitted to /r/politics.  \\n\\n\\n\\nIf you have any questions about this removal, please feel free to [message the moderators.](  regarding the removal of this submission by /u/TwoGee&amp;message=I have a question regarding the removal of this [submission.]( ', \"Hi `just_ir`. Thank you for participating in /r/Politics. However, [your submission](  has been removed for the following reason(s):\\n\\n* [Not Exact Title](  - Your headline must be comprised only of the copied and pasted headline of the article AND/OR a continuous quote taken from the article. If using a quote, it should reflect the article as a whole.\\n\\n    **We recommend not using the Reddit 'suggest a title' as it tends to not give the exact title of the article.**\\n\\n\\n\\nIf you have any questions about this removal, please feel free to [message the moderators.](  regarding the removal of this submission by /u/just_ir&amp;message=I have a question regarding the removal of this [submission.]( \"]\n",
      "81\n",
      "['&gt; **The /r/Politics On Topic Statement**\\n\\n&gt; All submissions to /r/politics need to be *explicitly* about current US politics.  This means that if a subject has political *implications* but does not directly discuss politics it is most likely off topic.\\n\\n&gt; To be explicitly political, submissions should focus on one of the following things that have political significance:\\n\\n&gt; * Information and opinions concerning the running of US governments, courts, public services and policy-making.\\n\\n&gt; * Private political actions and stories such as demonstrations, lobbying, candidacies and funding and political movements, groups and donors.\\n\\n&gt; This does **not** include:\\n\\n&gt; * **The non-political actions of otherwise political figures. (ex. Barack Obama Painted a Picture of Himself)**', 'I think that [/u/EconMan](  idea for how we should change the campaigning system is a great solution to this problem of money being pumped into elections. \\n\\nHis comment incase mods delete it:\\n\\nThe FEC is responsible for ensuring that all communication that influences an election (either intentional OR unintentional) comes from this neutral place.\\n\\nPrivate individuals simply do not have the information or ability to dispense accurate information about candidates. They are too biased and often have simply wrong information. Even assuming they can and do, we feel that it is not fair to those citizens who do not have the resources that you do. There are millions of individuals out there without access to the internet, or who do not speak English. By posting online, you effectively drown out their voice.\\n\\nSo if you want to talk about a candidate, feel free to submit your thoughts or opinions to the FEC run \"neutral ground\". Our team will go through your comments for accuracy, suitability to the general public, and style and if admitted, your thoughts will be posted for all to see and translated into over 8 languages. We cannot guarantee that your specific thoughts will be posted, but we can assure you that they will be reviewed by our experts here. Otherwise unfortunately heavy fines or jail time can be brought against those who (intentionally or unintentionally) influence elections outside of this process. This includes online posting, local protesting, or verbal electioneering. It\\'s both unfair and dangerous to be posting your political thoughts without running it by the government board to ensure accuracy. Hope to see your thoughtful submissions at the next election time! =]', '&gt; Hillary senate voting record was to the left of Obama\\'s, actually\\n\\nYes, rather demented and clueless, those Obama cultists, no?\\n\\n&gt; Clinton appointed the two most progressive members of the Supreme Court\\n\\n\"Most progressive among a pack of fascists\" isn\\'t saying much though, is it?\\n\\n&gt; kept us out of any major wars\\n\\nI\\'m afraid you do not understand how wars work. Things aren\\'t all hunky-dory until all of a sudden, some village idiot from Texas jumps up and yells \"WAR!\" and shazam! All of a sudden you have a war on, you know.  No, there\\'s always a historical context to them. They\\'re a long time in developing.\\n\\nWhat you think of as a war that Bush started in 2003 by invading Iraq was actually started by his father, in 1991, when in the aftermath of Iraq\\'s invasion of Kuwait, the US govt decided that it wanted to remove Saddam and \"regime change\" Iraq. Clinton pursued this goal by maintaining a sanctions regime that starved 500,000 Iraqi children to death, trying to foment unrest/revolt, perhaps assassinate SH if possible, and occasionally dropping bombs on Iraq.\\n\\nTo say that Clinton didn\\'t have us in a war vs Iraq, while Bush got us into one, is like saying that an army that has surrounded a walled city, and is besieging it, trying to starve it into submission, isn\\'t at war with that city, while if it attempts to actually assault the walls, pound down its gates with battering rams, etc, it\\'s at war. That\\'s simply just absurd. Both situations are clearly wars. Just different tactics and methods are being used.\\n\\nThe other major foreign policy landmine that Bill Clinton left for us was his policy of aggressively pushing into Russia\\'s former sphere of interest, by expanding NATO.  Bush I had promised Gorbachev that if the USSR let East Germany go peacefully, the US/NATO would not seek to further encroach on the USSR\\'s buffer zone/sphere of interest.  Bill Clinton is the president who reneged on that, and step #1 in starting the process of dismantling Russia\\'s position in the Balkans &amp; Eastern Europe was the neutralization of Serbia.  That process has finally borne fruit under Obama, when we find ourselves in a proxy war against Russia (the world\\'s #2 nuclear armed power) in UKRAINE. Basically their back yard.  A foreign policy so insanely aggressive and neocon that it makes Bush\\'s invasion of Iraq look like a sober, careful, well-deliberated, and conservative move.\\n\\n&gt; raised taxes on the rich.\\n\\nWhat he really did was something like help them steal $1 trillion, then collect back $250bn of it.  Now all the naive people are going \"ooooh look, he got $250bn from rich people! What a man of the people, that Bill!\"\\n\\nClinton was basically a fascist.  The reason why more people don\\'t realize that can be laid at the feet of that incredible prevarication machine, the Dem party propaganda apparatus, and their useful idiots, liberal &amp; Dem partisan commentators.', 'A bad rule.\\n\\nThe essence of the justification is  \\n&gt; The most objective way for the moderation team to avoid inserting political bias into how submissions are handled is not to give exceptions and make judgement calls on whether slight changes are \"okay\" or not. We therefore enforce the title rules consistently even if that means removing articles for minor title changes.\\n\\nThat attempt at fairs is purchased at the cost of one of the reasons for reddit\\'s being: to allow end users to cut through some of the lazy practices of main stream news sources.\\n\\n']\n"
     ]
    }
   ],
   "source": [
    "print([i for i in politics_text1 if 'submission' in i][:10])\n",
    "print(len([i for i in politics_text1 if 'submission' in i]))\n",
    "print(len([i for i in politics_text1 if 'your submission' in i]))\n",
    "print(len([i for i in politics_text1 if 'i am a bot' in i.lower()]))\n",
    "print([i for i in politics_text1 if 'submission' in i and 'i am a bot' not in i.lower()][:10])\n",
    "print(len([i for i in politics_text1 if ('your submission' in i and \n",
    "       'has been removed for the following reason' in i) or 'i am a bot' in i.lower()]))\n",
    "print([i for i in politics_text1 if 'submission' in i and 'your submission' not in i and \n",
    "       'has been removed for the following reason' not in i and 'i am a bot' not in i.lower()])"
   ]
  },
  {
   "cell_type": "code",
   "execution_count": 119,
   "metadata": {},
   "outputs": [
    {
     "name": "stdout",
     "output_type": "stream",
     "text": [
      "155\n",
      "42\n",
      "[\"I think that was because he knew they weren't really going to address healthcare during the debate. You have to keep in mind that he's always getting new eyeballs each debate. People who don't know his message. He has to make sure to get as much of his platform in as possible. If Bernie wanted to play dirty, he would have pivoted from the Boeing talking point to the donations to the Clinton Foundation and the investigation. \", \"Good. Everybody should get the chance to vote for him even if it's just to send a message to Clinton.\", \"It's a good move, they're not firing anyone, they're just bringing some additional help in. This is more than likely a result of a longer then expected primary season.\\n\\nClinton has a good message, she really does... and being moderate helps her tremendously in general regard, but her message has been quieted by overzealous media outlets who would prefer higher ratings to actual facts. Sanders has been bit by this reality as well.\\n\\nIn fact, I would expect Sanders brings new employees in as the primary moves forward himself.\", 'At this stage Bernie supporters are starting to separate the man and the message. Regardless of what Bernie does his base will fight hard for progressive values and against corruption. ', \"I wouldn't say it's meaningless, after all no one denies he has impacted the overall message of the democratic party (at least for now) and Clinton. However it is indeed clearly not enough.\", \"&gt; If Sandars doesn't win (which he most likely won't)\\n\\nFirst off, you have to stop the defeatism...there's still over 20 states left to vote, and if Hillary continues to self destruct, like she has the last few weeks, we could see Bernie come out victorious.  It's not a bold claim to say he will likely lose, it's more bold to say you believe he can win and to show your support.\\n\\nTo answer your question.  If he doesn't win, I'll vote third party.  Hopefully enough of us will do so to send a message to the democratic party that our voices will no longer be oppressed, and if they want our support they'll have to start supporting us.  In any case, Bernie has opened more eyes than any of us could have hoped.  Millennials are about to enter the age where they can start running for office, a political revolution will come...I'd just hope sooner rather than later.\", 'The Bernie campaign took a turn a stuck to message that was only liked by the BernieBros and it cost him. He should have stuck to focusing on income inequality instead of trying to demonize Hillary. ', \"&gt;Ahead of New York's primary earlier this month, King, who voted for John Kasich to send a message to Donald Trump, said he hates Cruz and would take cyanide if he ever won the GOP nomination.\\n\\nI'd say he fucking hates him.\", \"And the south is pretty much done voting. \\n\\nIf MI is representative of the midwest (and Bernie's message tends to resonate in the more liberal west), that's very much Bernie's game. This is a HUGE deal.\", \"His message hasn't really changed from before he had to run.  What has he said now that pushes an agenda you distrust?\"]\n",
      "33\n",
      "113\n"
     ]
    }
   ],
   "source": [
    "print(len([i for i in politics_text1 if 'message' in i]))\n",
    "print(len([i for i in politics_text1 if 'message' in i and 'your submission' not in i and \n",
    "       'has been removed for the following reason' not in i and 'i am a bot' not in i.lower()]))\n",
    "print([i for i in politics_text1 if 'message' in i and 'your submission' not in i and \n",
    "       'has been removed for the following reason' not in i and 'i am a bot' not in i.lower()][:10])\n",
    "print(len([i for i in politics_text1 if ('your submission' in i and \n",
    "       'has been removed for the following reason' in i or 'i am a bot' in i.lower()) and \n",
    "                 'thank you for participating in' not in i.lower()]))\n",
    "print(len([i for i in politics_text1 if 'i am a bot' in i.lower() or \n",
    "                 'thank you for participating in' in i.lower()]))"
   ]
  },
  {
   "cell_type": "code",
   "execution_count": 108,
   "metadata": {},
   "outputs": [
    {
     "name": "stdout",
     "output_type": "stream",
     "text": [
      "32\n",
      "216\n",
      "36\n",
      "['Wow the Clinton team is stepping up their game, next time try not writing your comment like a Huffington Post headline.\\n\\nThe past 50 days of your posts are only about Hillary Clinton.\\n\\nAnd the only things you have commented on in the past 60 days has been Hillary Clinton related.\\n\\nDo you have any thing to say about that or is it just a coincidence?', \"No, I mean Congress. That's where laws are proposed and voted on for the governor to sign into law. The ironic part of your comment is that the examples of far away pharmacies are myths. Mail order pharmacies operate overnight! I could mail you birth control and it show up at your door by noon. There really isn't an excuse. \", 'My question had no downvotes. Nearly every comment in the entire post was at 1 or 2 with maybe 3 out of 60 comments at 0. There was no brigading, they just banned me under the guise of me being \"a troll\", despite all evidence to the contrary. They have thin skin. They want everyone to be PC to them. It\\'s really disgusting.', 'Word of advice; never look into the comments section of any site covering a republican candidate. It\\'s a circlejerk of \"telling it how it is\" and \"standing up to the wussies\"', \"I was on the fence until I read your comment, and now I agree. If it's a taxpayer-funded election (or primary) then standard rules should apply for accessibility. Of course we need the Voting Rights Act reinstated first so we can prevent these shenanigans.\", \"So I'm not saying that he should have been arrested but after posting that comment I looked more into it and turns out there's more to the story then what the video showed. (Who knew, right?) So I'd like to take back my statement as I do not know all the information behind this incident. Sorry ! \\n\\nPs I didn't down vote you !\", \"I'm pretty sure African Americans really can't be considered racist for making a racially charged joke about their own race, it could be in poor taste, but it is miles different than say a white person making the above comment. \", 'Is it true what I saw someone comment on earlier that we are not allowed to do self posts anymore on Saturdays?', '&gt; *\"But he did contribute.\"*\\n\\nNo he didn\\'t. All he did was make a smart ass comment.\\n\\nYeah, no shit, weather is not climate.\\n\\nHowever, the warmest winter on record for southern Alaska, aka, the weather, is probably yet another symptom of climate change all around the globe.\\n\\nWe\\'ve been experiencing dramatic weather increases of all kinds all over the globe including warmer winters, even colder winters, bigger snow storms, stronger hurricanes, stronger tornados, extended droughts, etc.\\n\\n&gt; *\"I would suggest not being so defensive \"*\\n\\nI wasn\\'t being *\"defensive\"*. I was calling out the other poster for being a non-contributing, smart ass.\\n', 'I am a liberal. I\\'m not attacking liberals here, I\\'m just frustrated with the constant partisan propaganda that currently takes place on /r/politics, the likes of which this comment string has been a prime example of. This kind of partisan bias is the exact reason why American politics are fucked, because people are too busy (on both sides) attacking the opposing party\\'s moral character (ie. if you don\\'t believe this you are a racist, bigot, hate the lower/middle class, etc...) instead of having rational logical debates about topics. \\n\\nBy bringing up the \"Southern Strategy\", you were insinuating that the Republican party was shaped to be racist, now I want you to tell me how Republican policy today is racist.\\n\\nAnd Trump went up in the polls because (like him or not) he did very well in the debates, not because he pandered to all the racists of America. \\n\\n  ']\n",
      "['Well heres the thing. Cars and knives have purposes beyond their potential to kill. Industry would be hurt by their removal. Besides your feelings what do we lose by not being able to own the most recent and effective device designed only to kill or intimidate? Normal guns can be used for hunting and person defense fine. So they have a real use. Why do you need to go a step up?', 'So the system you haven\\'t seen the details of you are just sure is like the other one that you have experienced.  Big assumption.  Americans diet is why drug manufacturers and healthcare services are charged at a rate extraordinarily higher than the rest of the industrialized world with national public healthcare systems, not that we have a system specially crafted for them to do so.  Going to need something more than your feels that this is a \"significant\" factor in driving up costs.  The removal of profit motives will undeniably lead to \"dramatic\" drops in quality of care.  You are honestly arguing that profit motives have, and will in the future, be a positive force in ensuring quality of care.  Are you even hearing yourself?  Profit motives by definition are singularly focused on maximizing profit, and we are simply awash in mountains of indications that no, in fact, profit motives alone have given rise to canceling of policies, declination of providing service for existing conditions due to insurer ROI, rising costs... do I really need to go on?  If you are actually going to continue to argue that profit motives are what will keep healthcare quality on the up and up then I really don\\'t know what else to tell you.  You are being willfully ignorant now.', 'This comment removal by moderators needs to stop.  Jeez.  The mods here are becoming as weak and victim prone as the pansies at r/the_donald. ', 'It seems like Frank and Mallory have been less than impartial in their vocal criticism of Sanders.\\n\\nRegardless of any concessions the DNC made in adding Cornell West and others, it is apparently only a symbolic gesture as Frank and Mallory will ignore and steamroll their own agenda.\\n\\n \\n\\n&gt; A lawyer for the Sanders campaign sent a letter to senior party officials Friday seeking the removal of Connecticut Gov. Dannel Malloy and former Rep. Barney Frank (D-Mass.) as co-chairs of the platform and rules committees.\\n \\n&gt; “Gov. Malloy and Mr. Frank have both been aggressive attack surrogates for the Clinton campaign,” Brad Deutsch, legal counsel for the Sanders campaign, wrote in a letter to Jim Roosevelt and Lorraine Miller, the co-chairs of the convention’s Rules and Bylaws Committee.\\n \\n&gt; “Their criticisms of Senator Sanders have gone beyond the dispassionate ideological disagreement and have exposed a deeper professional, political and personal hostility toward the Senator and his Campaign,” he wrote. \\n \\n&gt; “The chairs therefore cannot be relied upon to perform their convention duties fairly and capably while laboring under such deeply held bias.”']\n"
     ]
    }
   ],
   "source": [
    "print(len([i for i in politics_text2 if 'thank you for participating in' in i.lower()]))\n",
    "print(len([i for i in politics_text2 if 'comment' in i.lower()]))\n",
    "print(len([i for i in politics_text2 if 'removal' in i.lower()]))\n",
    "print([i for i in politics_text2 if 'comment' in i.lower() and 'removal' not in i.lower()][:10])\n",
    "print([i for i in politics_text2 if 'removal' in i.lower() and 'thank you for participating in' not in i.lower()])"
   ]
  },
  {
   "cell_type": "code",
   "execution_count": 120,
   "metadata": {},
   "outputs": [],
   "source": [
    "politics_text2 = [i for i in politics_text1 if 'i am a bot' not in i.lower() and \n",
    "                 'thank you for participating in' not in i.lower()]"
   ]
  },
  {
   "cell_type": "code",
   "execution_count": 121,
   "metadata": {},
   "outputs": [
    {
     "name": "stdout",
     "output_type": "stream",
     "text": [
      "9321\n",
      "9208\n"
     ]
    }
   ],
   "source": [
    "print(len(politics_text1))\n",
    "print(len(politics_text2))"
   ]
  },
  {
   "cell_type": "code",
   "execution_count": 111,
   "metadata": {},
   "outputs": [],
   "source": [
    "comparison_5m1 = compare1(list(sfp_politics_before_text1), list(politics_text2))\n",
    "comparison_6m1 = compare1(list(sfp_politics_after_text1), list(politics_text2))\n",
    "comparison_7m1 = compare1(list(td_politics_before_text1), list(politics_text2))\n",
    "comparison_8m1 = compare1(list(td_politics_after_text1), list(politics_text2))"
   ]
  },
  {
   "cell_type": "code",
   "execution_count": 112,
   "metadata": {},
   "outputs": [
    {
     "name": "stdout",
     "output_type": "stream",
     "text": [
      "Most characteristic of sfp politics before\n",
      "[('police', 7.014041284693117), ('ron', 7.043397557612062), ('paul', 7.243742338170755), ('law', 7.342045359670338), ('rights', 7.459722431358123), ('corporations', 7.470839808185907), ('our', 7.542933575519699), ('constitution', 8.132196792845198), ('romney', 9.198866170299086), ('government', 12.240014604686287)]\n",
      "Most characteristic of /r/politics\n",
      "[('trump', -53.052602624894135), ('bernie', -47.629796214023116), ('hillary', -47.49294573689576), ('sanders', -40.293017533870334), ('clinton', -39.23439687817787), ('she', -34.47022807918367), ('her', -27.70539083431693), ('supporters', -23.72478862022055), ('cruz', -17.954262098183698), ('candidate', -17.883703960711227)]\n"
     ]
    }
   ],
   "source": [
    "print(\"Most characteristic of sfp politics before\")\n",
    "print(comparison_5m1[-10:])\n",
    "print(\"Most characteristic of /r/politics\")\n",
    "print(comparison_5m1[:10])"
   ]
  },
  {
   "cell_type": "code",
   "execution_count": 113,
   "metadata": {},
   "outputs": [
    {
     "name": "stdout",
     "output_type": "stream",
     "text": [
      "Most characteristic of sfp politics after\n",
      "[('county', 5.795103638983482), ('reporting', 6.082541305219561), ('campaign', 6.124506488009943), ('dnc', 7.2638276949494), ('bernie', 7.96473047466728), ('hillary', 10.700433324232744), ('her', 12.475585226609809), ('she', 14.450338635428047), ('sanders', 14.572201635445609), ('clinton', 15.410235827020582)]\n",
      "Most characteristic of /r/politics\n",
      "[('you', -7.620880338632236), ('dont', -6.675575310294289), ('government', -6.598668481544169), ('business', -6.537356677804144), ('property', -6.476151159736168), ('court', -6.214930738703188), ('sex', -6.151623110628008), ('ip', -6.135266791450714), ('wage', -5.85731470988063), ('salary', -5.744778042515255)]\n"
     ]
    }
   ],
   "source": [
    "print(\"Most characteristic of sfp politics after\")\n",
    "print(comparison_6m1[-10:])\n",
    "print(\"Most characteristic of /r/politics\")\n",
    "print(comparison_6m1[:10])"
   ]
  },
  {
   "cell_type": "code",
   "execution_count": 114,
   "metadata": {},
   "outputs": [
    {
     "name": "stdout",
     "output_type": "stream",
     "text": [
      "Most characteristic of td politics before\n",
      "[('are', 5.6403245572373075), ('economy', 5.789961318293567), ('police', 5.821499441991935), ('corporations', 5.886860792813392), ('society', 6.3645764162043434), ('company', 6.475422739330804), ('romney', 8.83089147496581), ('ron', 9.26655982607467), ('paul', 10.29539647788375), ('government', 12.32760875061358)]\n",
      "Most characteristic of /r/politics\n",
      "[('bernie', -33.07725584563781), ('hillary', -32.508494766136884), ('sanders', -32.106034097794456), ('clinton', -31.864746577339034), ('she', -29.369296550840005), ('trump', -28.646197537824094), ('her', -25.010841370784554), ('supporters', -19.028483792306485), ('candidate', -15.628986265505242), ('vote', -14.429838297281627)]\n"
     ]
    }
   ],
   "source": [
    "print(\"Most characteristic of td politics before\")\n",
    "print(comparison_7m1[-10:])\n",
    "print(\"Most characteristic of /r/politics\")\n",
    "print(comparison_7m1[:10])"
   ]
  },
  {
   "cell_type": "code",
   "execution_count": 115,
   "metadata": {},
   "outputs": [
    {
     "name": "stdout",
     "output_type": "stream",
     "text": [
      "Most characteristic of td politics after\n",
      "[('america', 6.297913490043675), ('media', 6.746404327449269), ('mexico', 6.752136262043538), ('immigration', 6.96895684957936), ('supporters', 7.087463996369), ('immigrants', 7.541939158324698), ('racist', 8.439878938689047), ('his', 8.589213610511443), ('he', 12.913930956118062), ('trump', 26.13163206753394)]\n",
      "Most characteristic of /r/politics\n",
      "[('but', -6.08177072914486), ('republicans', -5.630261697734938), ('that', -5.355312654082056), ('gop', -5.267652448356456), ('malley', -5.0502942537097), ('debates', -4.957944284499719), ('religious', -4.837211203400614), ('aca', -4.792065210916407), ('not', -4.7650177377684955), ('logical', -4.724057758080657)]\n"
     ]
    }
   ],
   "source": [
    "print(\"Most characteristic of td politics after\")\n",
    "print(comparison_8m1[-10:])\n",
    "print(\"Most characteristic of /r/politics\")\n",
    "print(comparison_8m1[:10])"
   ]
  },
  {
   "cell_type": "code",
   "execution_count": null,
   "metadata": {},
   "outputs": [],
   "source": []
  },
  {
   "cell_type": "code",
   "execution_count": null,
   "metadata": {},
   "outputs": [],
   "source": []
  }
 ],
 "metadata": {
  "kernelspec": {
   "display_name": "Python 3",
   "language": "python",
   "name": "python3"
  },
  "language_info": {
   "codemirror_mode": {
    "name": "ipython",
    "version": 3
   },
   "file_extension": ".py",
   "mimetype": "text/x-python",
   "name": "python",
   "nbconvert_exporter": "python",
   "pygments_lexer": "ipython3",
   "version": "3.7.3"
  }
 },
 "nbformat": 4,
 "nbformat_minor": 2
}
