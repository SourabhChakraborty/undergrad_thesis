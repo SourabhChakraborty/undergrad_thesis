{
 "cells": [
  {
   "cell_type": "code",
   "execution_count": 1,
   "metadata": {},
   "outputs": [],
   "source": [
    "import csv\n",
    "import json\n",
    "import os\n",
    "import random\n",
    "\n",
    "import numpy as np\n",
    "import pandas as pd\n",
    "from sklearn.feature_extraction.text import CountVectorizer as CV\n",
    "import nltk\n",
    "import kenlm\n",
    "import re\n",
    "\n",
    "from scipy.stats import ttest_ind, ttest_rel\n",
    "\n",
    "import matplotlib.pyplot as plt\n",
    "from IPython.display import display, HTML"
   ]
  },
  {
   "cell_type": "code",
   "execution_count": 2,
   "metadata": {},
   "outputs": [],
   "source": [
    "sfp_data = pd.read_csv(\"../sample_data/sfp_data_v4.csv\")"
   ]
  },
  {
   "cell_type": "code",
   "execution_count": 3,
   "metadata": {},
   "outputs": [],
   "source": [
    "td_data = pd.read_csv(\"../sample_data/td_data_v4.csv\")"
   ]
  },
  {
   "cell_type": "code",
   "execution_count": 4,
   "metadata": {},
   "outputs": [],
   "source": [
    "sfp_authors = sfp_data['author'].unique()\n",
    "td_authors = td_data['author'].unique()\n",
    "\n",
    "sfp_posts = sfp_data.loc[sfp_data['subreddit'] == 'SandersForPresident']\n",
    "td_posts = td_data.loc[td_data['subreddit'] == 'The_Donald']\n",
    "\n",
    "sfp_min_times = [min(sfp_posts.loc[sfp_posts['author'] == auth]['created_utc']) for auth in sfp_authors]\n",
    "td_min_times = [min(td_posts.loc[td_posts['author'] == auth]['created_utc']) for auth in td_authors]"
   ]
  },
  {
   "cell_type": "code",
   "execution_count": 5,
   "metadata": {},
   "outputs": [
    {
     "name": "stdout",
     "output_type": "stream",
     "text": [
      "(4868749, 5)\n",
      "(4003940, 5)\n",
      "2000\n",
      "2000\n",
      "(78037, 5)\n",
      "(55521, 5)\n"
     ]
    }
   ],
   "source": [
    "print(sfp_data.shape)\n",
    "print(td_data.shape)\n",
    "print(len(sfp_authors))\n",
    "print(len(td_authors))\n",
    "print(sfp_posts.shape)\n",
    "print(td_posts.shape)"
   ]
  },
  {
   "cell_type": "code",
   "execution_count": 6,
   "metadata": {},
   "outputs": [],
   "source": [
    "min_overall_time = 1420131600\n",
    "max_overall_time = 1464753600"
   ]
  },
  {
   "cell_type": "code",
   "execution_count": 7,
   "metadata": {},
   "outputs": [
    {
     "name": "stdout",
     "output_type": "stream",
     "text": [
      "(131076, 5)\n",
      "(42352, 5)\n"
     ]
    }
   ],
   "source": [
    "sfp_politics = sfp_data.loc[sfp_data['subreddit'] == 'politics']\n",
    "td_politics = td_data.loc[td_data['subreddit'] == 'politics']\n",
    "\n",
    "sfp_politics = sfp_politics.loc[sfp_politics['created_utc'] >= min_overall_time]\n",
    "sfp_politics = sfp_politics.loc[sfp_politics['created_utc'] < max_overall_time]\n",
    "\n",
    "td_politics = td_politics.loc[td_politics['created_utc'] >= min_overall_time]\n",
    "td_politics = td_politics.loc[td_politics['created_utc'] < max_overall_time]\n",
    "\n",
    "print(sfp_politics.shape)\n",
    "print(td_politics.shape)"
   ]
  },
  {
   "cell_type": "code",
   "execution_count": 8,
   "metadata": {},
   "outputs": [],
   "source": [
    "sfp_politics_before = pd.DataFrame([], columns = sfp_politics.columns)\n",
    "sfp_politics_after = pd.DataFrame([], columns = sfp_politics.columns)\n",
    "\n",
    "for i in range(len(sfp_authors)):\n",
    "    curr_auth_posts = sfp_politics.loc[sfp_politics['author'] == sfp_authors[i]]\n",
    "    \n",
    "    if len(curr_auth_posts) > 0:\n",
    "        sfp_politics_before = \\\n",
    "sfp_politics_before.append(curr_auth_posts.loc[curr_auth_posts['created_utc'] < sfp_min_times[i]])\n",
    "        \n",
    "        sfp_politics_after = \\\n",
    "sfp_politics_after.append(curr_auth_posts.loc[curr_auth_posts['created_utc'] > sfp_min_times[i]])\n",
    "    "
   ]
  },
  {
   "cell_type": "code",
   "execution_count": 9,
   "metadata": {},
   "outputs": [],
   "source": [
    "td_politics_before = pd.DataFrame([], columns = td_politics.columns)\n",
    "td_politics_after = pd.DataFrame([], columns = td_politics.columns)\n",
    "\n",
    "for i in range(len(td_authors)):\n",
    "    curr_auth_posts = td_politics.loc[td_politics['author'] == td_authors[i]]\n",
    "    \n",
    "    if len(curr_auth_posts) > 0:\n",
    "        td_politics_before = \\\n",
    "td_politics_before.append(curr_auth_posts.loc[curr_auth_posts['created_utc'] < td_min_times[i]])\n",
    "        \n",
    "        td_politics_after = \\\n",
    "td_politics_after.append(curr_auth_posts.loc[curr_auth_posts['created_utc'] > td_min_times[i]])\n",
    "    "
   ]
  },
  {
   "cell_type": "code",
   "execution_count": 10,
   "metadata": {},
   "outputs": [],
   "source": [
    "sfp_politics_before_text = sfp_politics_before.loc[sfp_politics_before['body'].notna()]['body'].values\n",
    "sfp_politics_after_text = sfp_politics_after.loc[sfp_politics_after['body'].notna()]['body'].values\n",
    "\n",
    "td_politics_before_text = td_politics_before.loc[td_politics_before['body'].notna()]['body'].values\n",
    "td_politics_after_text = td_politics_after.loc[td_politics_after['body'].notna()]['body'].values\n",
    "\n",
    "sfp_posts_text = sfp_posts.loc[sfp_posts['body'].notna()]['body'].values\n",
    "td_posts_text = td_posts.loc[td_posts['body'].notna()]['body'].values"
   ]
  },
  {
   "cell_type": "code",
   "execution_count": 11,
   "metadata": {},
   "outputs": [],
   "source": [
    "def tokenize_data(data, deleted_str = '[deleted]', removed_str = '[removed]', verbose=True):\n",
    "    if(verbose):\n",
    "        print(\"Number of entries in original dataset: \" + str(len(data)))\n",
    "    data1 = [i for i in data if 'thank you for participating' not in i.lower()]\n",
    "    if(verbose):\n",
    "        print(\"Number of moderator posts removed from dataset: \" + str(len([i for i in data if 'thank you for participating' in i.lower()])))\n",
    "    data1 = [i for i in data1 if i != deleted_str and i != removed_str]\n",
    "    if(verbose):\n",
    "        print(\"Number of user-deleted posts removed from dataset: \" + str(len([i for i in data if i == deleted_str])))\n",
    "        print(\"Number of mod/admin-deleted posts removed from dataset: \" + str(len([i for i in data if i == removed_str])))\n",
    "    \n",
    "        print(\"Number of entries in modified dataset: \" + str(len(data1)))\n",
    "    \n",
    "    # removing hyperlinks\n",
    "        print(\"Number of comments with a hyperlink in modified dataset: \" + str(len([i for i in data1 if \"http\" in i])))\n",
    "    \n",
    "    data1 = [re.sub(r'https?:\\/\\/[\\S]+', ' ', i, flags=re.MULTILINE) for i in data1]\n",
    "    \n",
    "    # common escape sequences\n",
    "    data1 = [re.sub(r'\\n', '', i) for i in data1]\n",
    "    data1 = [re.sub(r'&gt;', '', i) for i in data1]\n",
    "    \n",
    "    # convert to lowercase\n",
    "    data1 = [i.lower() for i in data1]\n",
    "    \n",
    "    # keep user and subreddit tags\n",
    "    if(verbose):\n",
    "        print(\"Number of comments that mention a user in the modified dataset: \" + str(len([i for i in data1 if \"/u/\" in i])))\n",
    "        print(\"Number of comments that mention a subreddit in the modified dataset: \" + str(len([i for i in data1 if \"/r/\" in i])))\n",
    "    \n",
    "    data1 = [re.sub(r'/u/', '_user_', i) for i in data1]\n",
    "    data1 = [re.sub(r'/r/', '_subreddit_', i) for i in data1]\n",
    "    \n",
    "    data_tokenized = [re.findall(r'\\w+', i.lower()) for i in data1]\n",
    "    \n",
    "    if(verbose):\n",
    "        print(\"Number of total tokens: \" + str(sum([len(d) for d in data_tokenized])))\n",
    "    \n",
    "    return [(' '.join(i) + '\\n') for i in data_tokenized]\n"
   ]
  },
  {
   "cell_type": "code",
   "execution_count": 12,
   "metadata": {},
   "outputs": [
    {
     "name": "stdout",
     "output_type": "stream",
     "text": [
      "Number of entries in original dataset: 28504\n",
      "Number of moderator posts removed from dataset: 0\n",
      "Number of user-deleted posts removed from dataset: 0\n",
      "Number of mod/admin-deleted posts removed from dataset: 0\n",
      "Number of entries in modified dataset: 28504\n",
      "Number of comments with a hyperlink in modified dataset: 1523\n",
      "Number of comments that mention a user in the modified dataset: 79\n",
      "Number of comments that mention a subreddit in the modified dataset: 232\n",
      "Number of total tokens: 1226203\n",
      "\n",
      "Number of entries in original dataset: 102572\n",
      "Number of moderator posts removed from dataset: 52\n",
      "Number of user-deleted posts removed from dataset: 1\n",
      "Number of mod/admin-deleted posts removed from dataset: 0\n",
      "Number of entries in modified dataset: 102519\n",
      "Number of comments with a hyperlink in modified dataset: 6326\n",
      "Number of comments that mention a user in the modified dataset: 201\n",
      "Number of comments that mention a subreddit in the modified dataset: 731\n",
      "Number of total tokens: 4335851\n",
      "\n",
      "Number of entries in original dataset: 23854\n",
      "Number of moderator posts removed from dataset: 0\n",
      "Number of user-deleted posts removed from dataset: 0\n",
      "Number of mod/admin-deleted posts removed from dataset: 0\n",
      "Number of entries in modified dataset: 23854\n",
      "Number of comments with a hyperlink in modified dataset: 828\n",
      "Number of comments that mention a user in the modified dataset: 49\n",
      "Number of comments that mention a subreddit in the modified dataset: 208\n",
      "Number of total tokens: 940808\n",
      "\n",
      "Number of entries in original dataset: 18498\n",
      "Number of moderator posts removed from dataset: 1\n",
      "Number of user-deleted posts removed from dataset: 0\n",
      "Number of mod/admin-deleted posts removed from dataset: 0\n",
      "Number of entries in modified dataset: 18497\n",
      "Number of comments with a hyperlink in modified dataset: 750\n",
      "Number of comments that mention a user in the modified dataset: 32\n",
      "Number of comments that mention a subreddit in the modified dataset: 187\n",
      "Number of total tokens: 570210\n",
      "\n",
      "Number of entries in original dataset: 78036\n",
      "Number of moderator posts removed from dataset: 0\n",
      "Number of user-deleted posts removed from dataset: 0\n",
      "Number of mod/admin-deleted posts removed from dataset: 0\n",
      "Number of entries in modified dataset: 78036\n",
      "Number of comments with a hyperlink in modified dataset: 5448\n",
      "Number of comments that mention a user in the modified dataset: 238\n",
      "Number of comments that mention a subreddit in the modified dataset: 449\n",
      "Number of total tokens: 2751940\n",
      "\n",
      "Number of entries in original dataset: 55519\n",
      "Number of moderator posts removed from dataset: 1\n",
      "Number of user-deleted posts removed from dataset: 2\n",
      "Number of mod/admin-deleted posts removed from dataset: 4\n",
      "Number of entries in modified dataset: 55512\n",
      "Number of comments with a hyperlink in modified dataset: 2813\n",
      "Number of comments that mention a user in the modified dataset: 117\n",
      "Number of comments that mention a subreddit in the modified dataset: 716\n",
      "Number of total tokens: 1310787\n",
      "\n"
     ]
    }
   ],
   "source": [
    "text_arrs = [sfp_politics_before_text,\n",
    "             sfp_politics_after_text,\n",
    "             td_politics_before_text,\n",
    "             td_politics_after_text,\n",
    "             sfp_posts_text,\n",
    "             td_posts_text]\n",
    "\n",
    "test_arrs = []\n",
    "\n",
    "for i in range(len(text_arrs)):\n",
    "    lm_test_arr = tokenize_data(text_arrs[i])\n",
    "    print()\n",
    "    test_arrs.append(lm_test_arr)"
   ]
  },
  {
   "cell_type": "code",
   "execution_count": 13,
   "metadata": {
    "scrolled": true
   },
   "outputs": [
    {
     "name": "stdout",
     "output_type": "stream",
     "text": [
      "28504\n",
      "['what state do you live in\\n', 'awesome\\n', 'a link to the actual bill\\n', 'can you provide a source proving that planned parenthood is using donations to some kind of real benefit how are they getting around the law are they not just donating to the scientific community from the article it turns out nucatola wasn t discussing the illegal black market sale of fetal organs but instead the perfectly legal donation of the organs to biomedical research laboratories that use the organs to help save lives the price range of the organs described by nucatola is in reality the reimbursed expenses accrued in the delivery of the specimens\\n', 'which was a total misrepresentation of the question he brought up reassignment himself and then went on to describe what the military does standard garbage response\\n', 'what if hillary gets the nomination despite the popular vote being solidly behind sanders if the democratic base is convinced the party went against the will of the people in favor of backroom deals won t sanders reconsider running 3rd party rather than giving hillary a free pass\\n', 'people were saying this same stupid shit when bush was president and clinton before him in reality all presidents regardless of their political affiliations are playing the same game and are part of the same team there is no benefit for the people they serve wealthy elite to do something like this in fact this kind of theory is only perpetuating the partisan bickering which is what those in power want it forces people to take sides and stop looking at the big picture\\n', 'fucking yawn does anybody really think putting another clinton or bush in the white house is going to create any real change in america both families are proven servants to their corporate overlords not the american people\\n', 'i really like bernie sanders but unfortunately he has no chance of winning if he runs at the end of the day the money isn t on his side and american voters don t give enough of a shit to get off their lazy asses and vote also he doesn t look very presidential which unfortunately in america actually makes a difference\\n', 'fucking scumbags\\n']\n",
      "\n",
      "\n",
      "\n",
      "102519\n",
      "['there s a lot involved including exit polls and demographics precinct math\\n', 'halfway down this page is the table that matters the candidates need to hit these delegate marks to be on pace for the nomination\\n', 'edited to say the candidates i posted hastily\\n', 'i do not believe those are exit polls from today they may be for early voting in that state also that content appears to be down now maybe the made a mistake edit yup these are placeholder numbers it s way too early for exit numbers\\n', 'i was there today flew out from los angeles and was among those arrested on the steps of the capitol if you have questions let me know most questions about the movement itself can be found at democracyspring org including specific legislation proposed to combat the influence of big money interests in politics and voter suppression issues here s a photo i took from the sit in on the steps you can see the rally on the other side of the police line for the most part the capitol city police were friendly i spent some time during processing talking to one of them about the warriors for a while here are a couple of short videos of the event one from the march as we reached the capitol and one from the steps right as we were about to begin the sit in there was a 3 hour training session for those participating in the sit in so many of us were well prepared and well informed many people had participated in the arrests throughout the week and others had lots of experience in protests in years past the organization takes nonviolent direct action very seriously members include noam chomsky and lawrence lessig as well as celebrities like mark ruffalo those who chose to sit in on the steps of the capitol in violation of the law and be arrested were also fined 50 resulting in 45 000 in fines some people did go to jail and others were processed on site see details in comments below those who chose not to sit in the majority protested in the designated protest area the protests earlier in the week had coverage by better news organizations if you want to participate there are two events in dc upcoming by the sister organization democracy awakening democracy awakens this sunday and mondaysunday rally for democracy 1 00 pm west lawn of the capitol buildingcongress of conscience day of action kick off rally 9 00 am columbus circle you can also find local democracy spring hubs to participate in your area\\n', 'it is a bit unfortunate that we require celebrity endorsement to bring attention to it cnn has also reported on it though they only covered the first day there has been a lack of mainstream media coverage given that this is shaping up to be a record for number of nonviolent protest arrests at the capitol\\n', 'yes if you look at the proposed legislation one includes an amendment with this aim in mind of course that s very difficult and there are other approaches it s a challenge and an important step is to make persuade congress to accept that challenge\\n', 'on monday the capitol city police jails were at capacity due to the sit in arrests which prompted remote processing towards the end of this week of sit ins the capitol city police ended up processing protesters on site with a kind of remote holding area they did not take us to jail today at least no one i saw there may have been some that were taken yesterday and in days prior some people were taken to jail and some were processed on site\\n', 'to be clear there have been thousands of democracy spring protesters over the course of the week at the capitol of these over 900 people chose to sit in on the steps of the capitol and choose to be arrested as a form of nonviolent civil disobedience we knew we would be arrested and the capitol city police were prepared for us the actual citation we received states crowding obstructing or incommoding d c code 22 1307 because we were sitting on the steps of the capitol the goal was awareness many more people did not elect to be arrested but instead stayed in the permitted protest area\\n', 'awesome glad you guys were out there\\n']\n",
      "\n",
      "\n",
      "\n",
      "23854\n",
      "['really it s more stupid by the american public to fall for that in other countries politicians have done similarly stupid things but mainly in america are politicians judged so much on their charisma\\n', 'that s not how data analysis works the way it works is a scientist writes a computer program which analyses it all in one go you need a couple of geniuses not 10000 monkeys\\n', 'that could certainly be the case but i would not call that crowd sourcing\\n', 'it s not but i would not call linux crowdsourcing either perhaps my idea of crowdsourcing is wrong but as i understand the term that s about getting a whole bunch of people to perform a task collectively and not about picking a handful of domain experts out of a crowd i probably misunderstood you initially i thought by pouring over data for 3 4 hours a week you meant manually looking at a whole bunch of data values and trying to find something in it and then getting a whole crowd of people to do the same\\n', 'it is much easier to just blame the liberal media instead of reading the first sentence of the article and get the link to the study typical\\n', 'if the government would open the nics to the public at a cost of under 5 then there might be some traction with the idea and at the same time you can get rid of all of the states registries and remove any states waiting period\\n', 'then congress should just exert their political pressure to have some other obscure and completely not related agency department to have a third party conduct this research like maybe federal railroad administration or veteran affairs or something because that makes sense you ve heard of the atf right\\n', 'could the same be said for hildog\\n', 'anybody know what ja rule thinks about clinton vs sanders\\n', 'if a protester starts demonstrating in the area around you please do not touch or harm the protester this is a peaceful rally and one of the protesters arrested for shutting down the freeway in arizona in 2011 she was awarded the soros justice fellowship which grants between 58 000 to 110 000 to individuals to undertake projects that advance reform catalyze change on a range of issues facing the criminal justice system in the us and spur debate trump has since backtracked on his paying the legal fees comment my guess is because if he does that directly it could be problematic but if somebody started a non profit he could donate to that was setup to disrupt other campaigns i m sure he d consider that\\n']\n",
      "\n",
      "\n",
      "\n",
      "18497\n",
      "['fuck i guess i m still in the running for the dnc candidate then too\\n', 'innocent until proven guilty what would stop hrc or her camp or any random joe for that matter from making unfounded allegations against bernie sanders or any political opponent that would prompt an fbi investigation immediately making them ineligible for the nomination\\n', 'i never said that i m saying you don t make somebody ineligible for the dnc nomination based on allegations you are trying to put words in my mouth and are being disingenuous and you know it\\n', 'i m saying you don t make somebody ineligible for the dnc nomination based on allegations you are trying to put words in my mouth and are being disingenuous and you know it\\n', 'believe it or not it is a thing in a working democracy\\n', 'you are coocooo for coco puffs\\n', 'you are living in fantasy land and in a few weeks gunna get dragged screaming and kicking back to reality and i can t wait\\n', 'i feel like you re the only person to reply to me that has understood what i was saying if allegations disqualify a candidate then allegations will become a prominent tool especially with campaign finance laws it would be quite trivial to prompt an investigation add a couple depositions and now it s gunna take a year\\n', 'remindme july 25 2016i wanna rub it your face when it happens\\n', 'i knew reddit would get around to blaming republicans for fuckups in a democratic primary hilarious\\n']\n",
      "\n",
      "\n",
      "\n",
      "78036\n",
      "['i believe warren is more likely to see the war machine as an acceptable necessity due to her stance on fighting terror and backing israel i d prefer to see a sanders grayson run myself\\n', 'alan grayson he s genuinely progressive and outspoken yet he s managed to find ways to get libertarians and republicans to work with him on common ground issues i could see him being able to publicly say the things a president probably shouldn t and still be able to sway many conservatives to back sanders on constitutional and privacy issues\\n', 'bill deblasio\\n', 'actually frank jackson mayor of cleveland might help as an old white guy i m not sure that sanders would have that much appeal to african americans frank jackson is black locally popular and from a swing state\\n', 'as someone who worked on sherrod brown s campaign i can tell you that i love his record and think he has the washington experience that is necessary for the job but he is not very inspirational he has this raspy voice that sounds like he s been chain smoking since he was 12 years old and is not particularly good at giving speeches this doesn t make him a bad choice for president however it does wear down severely on his electability\\n', 'when did everyone forget about the internet spying and start focusing only on the phone spying\\n', 'i m sure hillary will echo all the progressive talking points during her campaign just as obama did but as we have seen with obama her campaign identity will vanish as soon as she s in office\\n', 'the longest of long shots i really dont think so\\n', 'i d rather he run as an independent the best decision he ever made was leaving the democratic party\\n', 'technically any candidate with 15 support in five national polls is supposedly allowed in the debates i ll admit the commission on presidential debates is definitely biased against allowing third parties and i wouldn t be surprised to see them change the rules to exclude a third party candidate who qualified it really doesn t matter though the internet has made the sham debates and mainstream media coverage less meaningful a smart candidate can gain support through other means any candidate who will bring real positive change to this country is going the have to do this because they will not receive the support of the establishment\\n']\n",
      "\n",
      "\n",
      "\n",
      "55512\n",
      "['keeping it classy\\n', 'look at that picture no shortage of minorities i think bernie sanders should be taking some cues from trump sanders attracts fairly lilly white crowds\\n', 'probably because he s pro illegal immigration i can t think of a better explanation\\n', 'he s currently polling at twice the next best candidate in iowa if the mccain thing didn t sink trump what do you think it ll take let s see how february works out for him he s in the top tier\\n', 'he s been the clear leader in every poll i ve seen so far the establishment hates his guts the base knows he isn t a conservative and he s got this very passionate support anyways i don t see trump as a flash in the pan i see him as being a pain in the ass for the rest of the gop until the primaries are well under way and the bottom tier starts dropping out\\n', 'the sjwers assume that latinos will stick together in unison with their illegal bretheren they re obviously wrong\\n', 'if they re taking notes the party will come roaring back stronger than ever ted cruz with more experience will give the trump supporters what they want christie is sort of like this as well but he s damaged goods the party needs guys who stand for something in order to win even if a pushover like jeb bush somehow makes it into the white house the conservatives lose people need to understand this\\n', 'perfect for the outsider candidate\\n', 'so erickson called a sc justice a goat fucking child molester but trump gets disinvited from the red state gathering for using the word whereever it s clear that erickson was just waiting for a good excuse to dump trump we all know trump isn t a true conservative and he isn t going to take orders from any big donors or anyone in the establishment these guys are afraid of trump\\n', 'this is a man who gets it\\n']\n",
      "\n",
      "\n",
      "\n"
     ]
    }
   ],
   "source": [
    "for i in range(len(test_arrs)):\n",
    "    print(len(test_arrs[i]))\n",
    "    print(test_arrs[i][:10])\n",
    "    print(\"\\n\\n\")"
   ]
  },
  {
   "cell_type": "code",
   "execution_count": 14,
   "metadata": {},
   "outputs": [
    {
     "name": "stdout",
     "output_type": "stream",
     "text": [
      "28504\n",
      "102519\n",
      "23854\n",
      "18497\n",
      "78036\n",
      "55512\n"
     ]
    }
   ],
   "source": [
    "for i in range(len(test_arrs)):\n",
    "    print(len(test_arrs[i]))"
   ]
  },
  {
   "cell_type": "code",
   "execution_count": 15,
   "metadata": {},
   "outputs": [],
   "source": [
    "filenames = ['politics_train.arpa',\n",
    "             'sfp_politics_before.arpa', \n",
    "             'sfp_politics_after.arpa',\n",
    "             'td_politics_before.arpa',\n",
    "             'td_politics_after.arpa',\n",
    "             'sfp_posts.arpa',\n",
    "             'td_posts.arpa']"
   ]
  },
  {
   "cell_type": "code",
   "execution_count": 16,
   "metadata": {},
   "outputs": [
    {
     "name": "stdout",
     "output_type": "stream",
     "text": [
      "2-gram model\n",
      "2-gram model\n",
      "2-gram model\n",
      "2-gram model\n",
      "2-gram model\n",
      "2-gram model\n",
      "2-gram model\n"
     ]
    }
   ],
   "source": [
    "language_models = []\n",
    "\n",
    "for i in range(len(filenames)):\n",
    "    curr_lm = os.path.join(os.path.dirname('Language models.ipynb'), '..', 'language_models', filenames[i])\n",
    "    curr_model = kenlm.LanguageModel(curr_lm)\n",
    "    print('{0}-gram model'.format(curr_model.order))\n",
    "    language_models.append(curr_model)"
   ]
  },
  {
   "cell_type": "code",
   "execution_count": 19,
   "metadata": {},
   "outputs": [],
   "source": [
    "def calculate_values_ind(text1, text2, scoring_func, divide_by_len=True):\n",
    "    if divide_by_len:\n",
    "        scores1 = [scoring_func(s)/len(re.findall(r'\\w+', s)) for s in text1 if len(re.findall(r'\\w+', s)) > 0]\n",
    "        scores2 = [scoring_func(s)/len(re.findall(r'\\w+', s)) for s in text2 if len(re.findall(r'\\w+', s)) > 0]\n",
    "    else:\n",
    "        scores1 = [scoring_func(s) for s in text1]\n",
    "        scores2 = [scoring_func(s) for s in text2]\n",
    "\n",
    "    mean1 = sum(scores1)/len(scores1)\n",
    "    mean2 = sum(scores2)/len(scores2)\n",
    "    print(mean1)\n",
    "    print(mean2)\n",
    "    print()\n",
    "    \n",
    "    print(ttest_ind(scores1, scores2))"
   ]
  },
  {
   "cell_type": "markdown",
   "metadata": {},
   "source": [
    "## Use a t-test"
   ]
  },
  {
   "cell_type": "code",
   "execution_count": 20,
   "metadata": {
    "scrolled": false
   },
   "outputs": [
    {
     "name": "stdout",
     "output_type": "stream",
     "text": [
      "-3.04102009130873\n",
      "-3.100285964950169\n",
      "\n",
      "Ttest_indResult(statistic=8.309185470571093, pvalue=9.865079295269638e-17)\n"
     ]
    }
   ],
   "source": [
    "# sfp_politics_before, td_politics_before, sfp_politics_before\n",
    "calculate_values_ind(test_arrs[0], test_arrs[2], language_models[1].score)"
   ]
  },
  {
   "cell_type": "code",
   "execution_count": 21,
   "metadata": {},
   "outputs": [
    {
     "name": "stdout",
     "output_type": "stream",
     "text": [
      "-3.03529072908434\n",
      "-3.081663280845398\n",
      "\n",
      "Ttest_indResult(statistic=6.793127601142381, pvalue=1.1090174853621573e-11)\n"
     ]
    }
   ],
   "source": [
    "# sfp_politics_before, td_politics_before, td_politics_before\n",
    "calculate_values_ind(test_arrs[0], test_arrs[2], language_models[3].score)"
   ]
  },
  {
   "cell_type": "code",
   "execution_count": 22,
   "metadata": {},
   "outputs": [
    {
     "name": "stdout",
     "output_type": "stream",
     "text": [
      "-2.9909616174901625\n",
      "-3.155499162427029\n",
      "\n",
      "Ttest_indResult(statistic=26.413439092992192, pvalue=2.6338061252999453e-153)\n"
     ]
    }
   ],
   "source": [
    "# sfp_politics_after, td_politics_after, sfp_politics_after\n",
    "calculate_values_ind(test_arrs[1], test_arrs[3], language_models[2].score)"
   ]
  },
  {
   "cell_type": "code",
   "execution_count": 23,
   "metadata": {},
   "outputs": [
    {
     "name": "stdout",
     "output_type": "stream",
     "text": [
      "-3.0417587668105295\n",
      "-3.1596740204529907\n",
      "\n",
      "Ttest_indResult(statistic=20.042825186716602, pvalue=3.261711846201247e-89)\n"
     ]
    }
   ],
   "source": [
    "# sfp_politics_after, td_politics_after, td_politics_after\n",
    "calculate_values_ind(test_arrs[1], test_arrs[3], language_models[4].score)"
   ]
  },
  {
   "cell_type": "code",
   "execution_count": 24,
   "metadata": {},
   "outputs": [
    {
     "name": "stdout",
     "output_type": "stream",
     "text": [
      "-3.0425702408641033\n",
      "-3.097608687540289\n",
      "\n",
      "Ttest_indResult(statistic=8.368925078899839, pvalue=5.956784376262384e-17)\n"
     ]
    }
   ],
   "source": [
    "# sfp_politics_before, td_politics_before, sfp_posts\n",
    "calculate_values_ind(test_arrs[0], test_arrs[2], language_models[5].score)"
   ]
  },
  {
   "cell_type": "code",
   "execution_count": 25,
   "metadata": {},
   "outputs": [
    {
     "name": "stdout",
     "output_type": "stream",
     "text": [
      "-3.040102595173471\n",
      "-3.0693684974185764\n",
      "\n",
      "Ttest_indResult(statistic=4.864676123030408, pvalue=1.1497807067291267e-06)\n"
     ]
    }
   ],
   "source": [
    "# sfp_politics_before, td_politics_before, td_posts\n",
    "calculate_values_ind(test_arrs[0], test_arrs[2], language_models[6].score)"
   ]
  },
  {
   "cell_type": "code",
   "execution_count": 26,
   "metadata": {},
   "outputs": [
    {
     "name": "stdout",
     "output_type": "stream",
     "text": [
      "-3.0206041075042123\n",
      "-3.185471501797145\n",
      "\n",
      "Ttest_indResult(statistic=27.32087885532036, pvalue=7.600992166977291e-164)\n"
     ]
    }
   ],
   "source": [
    "# sfp_politics_after, td_politics_after, sfp_posts\n",
    "calculate_values_ind(test_arrs[1], test_arrs[3], language_models[5].score)"
   ]
  },
  {
   "cell_type": "code",
   "execution_count": 27,
   "metadata": {},
   "outputs": [
    {
     "name": "stdout",
     "output_type": "stream",
     "text": [
      "-3.0444561779175148\n",
      "-3.111919683496089\n",
      "\n",
      "Ttest_indResult(statistic=12.304233269911775, pvalue=9.018752740941475e-35)\n"
     ]
    }
   ],
   "source": [
    "# sfp_politics_after, td_politics_after, td_posts\n",
    "calculate_values_ind(test_arrs[1], test_arrs[3], language_models[6].score)"
   ]
  },
  {
   "cell_type": "code",
   "execution_count": 28,
   "metadata": {},
   "outputs": [
    {
     "name": "stdout",
     "output_type": "stream",
     "text": [
      "-3.086866161026187\n",
      "-3.1420475693297294\n",
      "\n",
      "Ttest_indResult(statistic=8.556986035540849, pvalue=1.1895212807489712e-17)\n"
     ]
    }
   ],
   "source": [
    "# sfp_politics_before, td_politics_before, politics\n",
    "calculate_values_ind(test_arrs[0], test_arrs[2], language_models[0].score)"
   ]
  },
  {
   "cell_type": "code",
   "execution_count": 29,
   "metadata": {},
   "outputs": [
    {
     "name": "stdout",
     "output_type": "stream",
     "text": [
      "-3.0899586827990673\n",
      "-3.251813950341083\n",
      "\n",
      "Ttest_indResult(statistic=27.12598192199698, pvalue=1.493240149437113e-161)\n"
     ]
    }
   ],
   "source": [
    "# sfp_politics_after, td_politics_after, politics\n",
    "calculate_values_ind(test_arrs[1], test_arrs[3], language_models[0].score)"
   ]
  },
  {
   "cell_type": "code",
   "execution_count": 30,
   "metadata": {},
   "outputs": [
    {
     "name": "stdout",
     "output_type": "stream",
     "text": [
      "-3.045398482198885\n",
      "-3.482149940428341\n",
      "\n",
      "Ttest_indResult(statistic=78.95380509111118, pvalue=0.0)\n"
     ]
    }
   ],
   "source": [
    "# sfp_posts, td_posts, sfp_posts\n",
    "calculate_values_ind(test_arrs[4], test_arrs[5], language_models[5].score)"
   ]
  },
  {
   "cell_type": "code",
   "execution_count": 31,
   "metadata": {},
   "outputs": [
    {
     "name": "stdout",
     "output_type": "stream",
     "text": [
      "-3.1017030906479452\n",
      "-3.2166913358938647\n",
      "\n",
      "Ttest_indResult(statistic=23.74092871801932, pvalue=2.485938558497825e-124)\n"
     ]
    }
   ],
   "source": [
    "# sfp_posts, td_posts, td_posts\n",
    "calculate_values_ind(test_arrs[4], test_arrs[5], language_models[6].score)"
   ]
  },
  {
   "cell_type": "code",
   "execution_count": 32,
   "metadata": {},
   "outputs": [
    {
     "name": "stdout",
     "output_type": "stream",
     "text": [
      "-3.2166913358938647\n",
      "-3.1017030906479452\n",
      "\n",
      "Ttest_indResult(statistic=-23.74092871801932, pvalue=2.485938558497825e-124)\n"
     ]
    }
   ],
   "source": [
    "# td_posts, sfp_posts, td_posts\n",
    "calculate_values_ind(test_arrs[5], test_arrs[4], language_models[6].score)"
   ]
  },
  {
   "cell_type": "code",
   "execution_count": 33,
   "metadata": {},
   "outputs": [
    {
     "name": "stdout",
     "output_type": "stream",
     "text": [
      "-3.1937726736703342\n",
      "-3.533258652115127\n",
      "\n",
      "Ttest_indResult(statistic=62.01109589512578, pvalue=0.0)\n"
     ]
    }
   ],
   "source": [
    "# sfp_posts, td_posts, politics\n",
    "calculate_values_ind(test_arrs[4], test_arrs[5], language_models[0].score)"
   ]
  },
  {
   "cell_type": "code",
   "execution_count": 34,
   "metadata": {},
   "outputs": [
    {
     "name": "stdout",
     "output_type": "stream",
     "text": [
      "-3.086866161026187\n",
      "-3.0899586827990673\n",
      "\n",
      "Ttest_indResult(statistic=0.6498069863988053, pvalue=0.5158180494853497)\n"
     ]
    }
   ],
   "source": [
    "# sfp_politics_before, sfp_politics_after, politics\n",
    "calculate_values_ind(test_arrs[0], test_arrs[1], language_models[0].score)"
   ]
  },
  {
   "cell_type": "code",
   "execution_count": 35,
   "metadata": {
    "scrolled": true
   },
   "outputs": [
    {
     "name": "stdout",
     "output_type": "stream",
     "text": [
      "-3.1420475693297294\n",
      "-3.251813950341083\n",
      "\n",
      "Ttest_indResult(statistic=13.409348945784673, pvalue=6.466645176630573e-41)\n"
     ]
    }
   ],
   "source": [
    "# td_politics_before, td_politics_after, politics\n",
    "calculate_values_ind(test_arrs[2], test_arrs[3], language_models[0].score)"
   ]
  },
  {
   "cell_type": "code",
   "execution_count": 36,
   "metadata": {},
   "outputs": [
    {
     "name": "stdout",
     "output_type": "stream",
     "text": [
      "-3.095456210109894\n",
      "-3.0898248399554817\n",
      "\n",
      "Ttest_indResult(statistic=-0.5467694242665246, pvalue=0.5845432810146087)\n"
     ]
    }
   ],
   "source": [
    "# sanity check\n",
    "calculate_values_ind(random.sample(test_arrs[1], 10000), random.sample(test_arrs[1], 10000), language_models[0].score)"
   ]
  },
  {
   "cell_type": "markdown",
   "metadata": {},
   "source": [
    "## Average over users first"
   ]
  },
  {
   "cell_type": "code",
   "execution_count": 37,
   "metadata": {},
   "outputs": [],
   "source": [
    "sfp_politics_before_u = []\n",
    "sfp_politics_after_u = []\n",
    "\n",
    "for i in range(len(sfp_authors)):\n",
    "    curr_auth_posts = sfp_politics.loc[sfp_politics['author'] == sfp_authors[i]]\n",
    "    curr_auth_posts = curr_auth_posts.loc[curr_auth_posts['body'].notna()]\n",
    "    \n",
    "    sfp_politics_before_u.append(list(\n",
    "        curr_auth_posts.loc[curr_auth_posts['created_utc'] < sfp_min_times[i]]['body'].values))\n",
    "        \n",
    "    sfp_politics_after_u.append(list(\n",
    "        curr_auth_posts.loc[curr_auth_posts['created_utc'] > sfp_min_times[i]]['body'].values))\n",
    "    "
   ]
  },
  {
   "cell_type": "code",
   "execution_count": 38,
   "metadata": {},
   "outputs": [],
   "source": [
    "td_politics_before_u = []\n",
    "td_politics_after_u = []\n",
    "\n",
    "for i in range(len(td_authors)):\n",
    "    curr_auth_posts = td_politics.loc[td_politics['author'] == td_authors[i]]\n",
    "    curr_auth_posts = curr_auth_posts.loc[curr_auth_posts['body'].notna()]\n",
    "    \n",
    "    td_politics_before_u.append(list(\n",
    "        curr_auth_posts.loc[curr_auth_posts['created_utc'] < td_min_times[i]]['body'].values))\n",
    "        \n",
    "    td_politics_after_u.append(list(\n",
    "        curr_auth_posts.loc[curr_auth_posts['created_utc'] > td_min_times[i]]['body'].values))\n",
    "    "
   ]
  },
  {
   "cell_type": "code",
   "execution_count": 39,
   "metadata": {},
   "outputs": [],
   "source": [
    "sfp_posts_notna = sfp_posts.loc[sfp_posts['body'].notna()]\n",
    "sfp_posts_u = []\n",
    "\n",
    "for auth in sfp_authors:\n",
    "    sfp_posts_u.append(list(sfp_posts_notna.loc[sfp_posts_notna['author'] == auth]['body'].values))\n"
   ]
  },
  {
   "cell_type": "code",
   "execution_count": 40,
   "metadata": {},
   "outputs": [],
   "source": [
    "td_posts_notna = td_posts.loc[td_posts['body'].notna()]\n",
    "td_posts_u = []\n",
    "\n",
    "for auth in td_authors:\n",
    "    td_posts_u.append(list(td_posts_notna.loc[td_posts_notna['author'] == auth]['body'].values))\n"
   ]
  },
  {
   "cell_type": "code",
   "execution_count": 41,
   "metadata": {},
   "outputs": [
    {
     "name": "stdout",
     "output_type": "stream",
     "text": [
      "2000\n",
      "1046\n",
      "\n",
      "2000\n",
      "827\n",
      "\n",
      "2000\n",
      "1132\n",
      "\n",
      "2000\n",
      "1341\n",
      "\n",
      "2000\n",
      "0\n",
      "\n",
      "2000\n",
      "0\n",
      "\n"
     ]
    }
   ],
   "source": [
    "text_arrs_u = [sfp_politics_before_u,\n",
    "               sfp_politics_after_u,\n",
    "               td_politics_before_u,\n",
    "               td_politics_after_u,\n",
    "               sfp_posts_u,\n",
    "               td_posts_u]\n",
    "\n",
    "test_arrs_u = []\n",
    "\n",
    "for arr in text_arrs_u:\n",
    "    lm_test_arr = [tokenize_data(i, verbose=False) for i in arr]\n",
    "    print(len(lm_test_arr))\n",
    "    print(sum([(len(i) == 0) for i in lm_test_arr]))\n",
    "    print()\n",
    "    test_arrs_u.append(lm_test_arr)"
   ]
  },
  {
   "cell_type": "code",
   "execution_count": 72,
   "metadata": {},
   "outputs": [],
   "source": [
    "def calculate_values_ind_u(text1, text2, scoring_func):\n",
    "    scores1 = []\n",
    "    scores2 = []\n",
    "    \n",
    "    for arr in text1:\n",
    "        if len(arr) > 0:\n",
    "            tmp = [scoring_func(s)/len(re.findall(r'\\w+', s)) for s in arr if len(re.findall(r'\\w+', s)) > 0]\n",
    "            if len(tmp) > 0:\n",
    "                scores1.append(-1 * np.mean(tmp))\n",
    "            \n",
    "    for arr in text2:\n",
    "        if len(arr) > 0:\n",
    "            tmp = [scoring_func(s)/len(re.findall(r'\\w+', s)) for s in arr if len(re.findall(r'\\w+', s)) > 0]\n",
    "            if len(tmp) > 0:\n",
    "                scores2.append(-1 * np.mean(tmp))\n",
    "\n",
    "    mean1 = sum(scores1)/len(scores1)\n",
    "    mean2 = sum(scores2)/len(scores2)\n",
    "    print(mean1)\n",
    "    print(mean2)\n",
    "    print(len(scores1))\n",
    "    print(len(scores2))\n",
    "    print()\n",
    "    \n",
    "    print(ttest_ind(scores1, scores2))"
   ]
  },
  {
   "cell_type": "code",
   "execution_count": 73,
   "metadata": {},
   "outputs": [],
   "source": [
    "def calculate_values_rel_u(text1, text2, scoring_func):\n",
    "    scores1 = []\n",
    "    scores2 = []\n",
    "    \n",
    "    for i in range(len(text1)):\n",
    "        if len(text1[i]) > 0 and len(text2[i]) > 0:\n",
    "            tmp1 = [scoring_func(s)/len(re.findall(r'\\w+', s)) for s in text1[i] if len(re.findall(r'\\w+', s)) > 0]\n",
    "            tmp2 = [scoring_func(s)/len(re.findall(r'\\w+', s)) for s in text2[i] if len(re.findall(r'\\w+', s)) > 0]\n",
    "            if len(tmp1) > 0 and len(tmp2) > 0:\n",
    "                scores1.append(-1 * np.mean(tmp1))\n",
    "                scores2.append(-1 * np.mean(tmp2))\n",
    "\n",
    "    mean1 = sum(scores1)/len(scores1)\n",
    "    mean2 = sum(scores2)/len(scores2)\n",
    "    print(mean1)\n",
    "    print(mean2)\n",
    "    print(len(scores1))\n",
    "    print(len(scores2))\n",
    "    print()\n",
    "    \n",
    "    print(ttest_rel(scores1, scores2))"
   ]
  },
  {
   "cell_type": "code",
   "execution_count": 74,
   "metadata": {
    "scrolled": false
   },
   "outputs": [
    {
     "name": "stdout",
     "output_type": "stream",
     "text": [
      "3.121157246086051\n",
      "3.2387157773691535\n",
      "950\n",
      "868\n",
      "\n",
      "Ttest_indResult(statistic=-3.1925044545471946, pvalue=0.0014345884918767727)\n"
     ]
    }
   ],
   "source": [
    "# sfp_politics_before, td_politics_before, sfp_politics_before\n",
    "calculate_values_ind_u(test_arrs_u[0], test_arrs_u[2], language_models[1].score)"
   ]
  },
  {
   "cell_type": "code",
   "execution_count": 75,
   "metadata": {},
   "outputs": [
    {
     "name": "stdout",
     "output_type": "stream",
     "text": [
      "3.114828417818693\n",
      "3.209931512464451\n",
      "950\n",
      "868\n",
      "\n",
      "Ttest_indResult(statistic=-2.7046222300313936, pvalue=0.006902068372135945)\n"
     ]
    }
   ],
   "source": [
    "# sfp_politics_before, td_politics_before, td_politics_before\n",
    "calculate_values_ind_u(test_arrs_u[0], test_arrs_u[2], language_models[3].score)"
   ]
  },
  {
   "cell_type": "code",
   "execution_count": 76,
   "metadata": {},
   "outputs": [
    {
     "name": "stdout",
     "output_type": "stream",
     "text": [
      "3.0449405010023747\n",
      "3.160216209002511\n",
      "1171\n",
      "657\n",
      "\n",
      "Ttest_indResult(statistic=-3.7975747919370764, pvalue=0.00015089616695378985)\n"
     ]
    }
   ],
   "source": [
    "# sfp_politics_after, td_politics_after, sfp_politics_after\n",
    "calculate_values_ind_u(test_arrs_u[1], test_arrs_u[3], language_models[2].score)"
   ]
  },
  {
   "cell_type": "code",
   "execution_count": 77,
   "metadata": {},
   "outputs": [
    {
     "name": "stdout",
     "output_type": "stream",
     "text": [
      "3.082682898794613\n",
      "3.1684841435471123\n",
      "1171\n",
      "657\n",
      "\n",
      "Ttest_indResult(statistic=-3.081411218442444, pvalue=0.0020909842273608664)\n"
     ]
    }
   ],
   "source": [
    "# sfp_politics_after, td_politics_after, td_politics_after\n",
    "calculate_values_ind_u(test_arrs_u[1], test_arrs_u[3], language_models[4].score)"
   ]
  },
  {
   "cell_type": "code",
   "execution_count": 78,
   "metadata": {},
   "outputs": [
    {
     "name": "stdout",
     "output_type": "stream",
     "text": [
      "3.101790481477532\n",
      "3.2066818026671977\n",
      "950\n",
      "868\n",
      "\n",
      "Ttest_indResult(statistic=-3.047998807457846, pvalue=0.0023369389727406426)\n"
     ]
    }
   ],
   "source": [
    "# sfp_politics_before, td_politics_before, sfp_posts\n",
    "calculate_values_ind_u(test_arrs_u[0], test_arrs_u[2], language_models[5].score)"
   ]
  },
  {
   "cell_type": "code",
   "execution_count": 79,
   "metadata": {},
   "outputs": [
    {
     "name": "stdout",
     "output_type": "stream",
     "text": [
      "3.0858892805478058\n",
      "3.142374589332887\n",
      "950\n",
      "868\n",
      "\n",
      "Ttest_indResult(statistic=-1.8049457262307433, pvalue=0.07124875683830915)\n"
     ]
    }
   ],
   "source": [
    "# sfp_politics_before, td_politics_before, td_posts\n",
    "calculate_values_ind_u(test_arrs_u[0], test_arrs_u[2], language_models[6].score)"
   ]
  },
  {
   "cell_type": "code",
   "execution_count": 80,
   "metadata": {},
   "outputs": [
    {
     "name": "stdout",
     "output_type": "stream",
     "text": [
      "3.058130992118092\n",
      "3.1919098138601316\n",
      "1171\n",
      "657\n",
      "\n",
      "Ttest_indResult(statistic=-4.564945749828249, pvalue=5.329544319120065e-06)\n"
     ]
    }
   ],
   "source": [
    "# sfp_politics_after, td_politics_after, sfp_posts\n",
    "calculate_values_ind_u(test_arrs_u[1], test_arrs_u[3], language_models[5].score)"
   ]
  },
  {
   "cell_type": "code",
   "execution_count": 81,
   "metadata": {},
   "outputs": [
    {
     "name": "stdout",
     "output_type": "stream",
     "text": [
      "3.061673779576731\n",
      "3.103282606509787\n",
      "1171\n",
      "657\n",
      "\n",
      "Ttest_indResult(statistic=-1.6168180798812424, pvalue=0.1060902854837019)\n"
     ]
    }
   ],
   "source": [
    "# sfp_politics_after, td_politics_after, td_posts\n",
    "calculate_values_ind_u(test_arrs_u[1], test_arrs_u[3], language_models[6].score)"
   ]
  },
  {
   "cell_type": "code",
   "execution_count": 82,
   "metadata": {},
   "outputs": [
    {
     "name": "stdout",
     "output_type": "stream",
     "text": [
      "3.1667914566582462\n",
      "3.2572228474911102\n",
      "950\n",
      "868\n",
      "\n",
      "Ttest_indResult(statistic=-2.7262816756298855, pvalue=0.006466787815471503)\n"
     ]
    }
   ],
   "source": [
    "# sfp_politics_before, td_politics_before, politics\n",
    "calculate_values_ind_u(test_arrs_u[0], test_arrs_u[2], language_models[0].score)"
   ]
  },
  {
   "cell_type": "code",
   "execution_count": 83,
   "metadata": {},
   "outputs": [
    {
     "name": "stdout",
     "output_type": "stream",
     "text": [
      "3.139217413291615\n",
      "3.252226651555733\n",
      "1171\n",
      "657\n",
      "\n",
      "Ttest_indResult(statistic=-3.9309118561487226, pvalue=8.778162592047602e-05)\n"
     ]
    }
   ],
   "source": [
    "# sfp_politics_after, td_politics_after, politics\n",
    "calculate_values_ind_u(test_arrs_u[1], test_arrs_u[3], language_models[0].score)"
   ]
  },
  {
   "cell_type": "code",
   "execution_count": 84,
   "metadata": {},
   "outputs": [
    {
     "name": "stdout",
     "output_type": "stream",
     "text": [
      "3.0767156174860473\n",
      "3.4322181730011327\n",
      "2000\n",
      "1999\n",
      "\n",
      "Ttest_indResult(statistic=-19.603620965486154, pvalue=8.914935746999996e-82)\n"
     ]
    }
   ],
   "source": [
    "# sfp_posts, td_posts, sfp_posts\n",
    "calculate_values_ind_u(test_arrs_u[4], test_arrs_u[5], language_models[5].score)"
   ]
  },
  {
   "cell_type": "code",
   "execution_count": 85,
   "metadata": {},
   "outputs": [
    {
     "name": "stdout",
     "output_type": "stream",
     "text": [
      "3.1160116165945393\n",
      "3.1951430639412526\n",
      "2000\n",
      "1999\n",
      "\n",
      "Ttest_indResult(statistic=-5.194362733745635, pvalue=2.1566225261616266e-07)\n"
     ]
    }
   ],
   "source": [
    "# sfp_posts, td_posts, td_posts\n",
    "calculate_values_ind_u(test_arrs_u[4], test_arrs_u[5], language_models[6].score)"
   ]
  },
  {
   "cell_type": "code",
   "execution_count": 86,
   "metadata": {
    "scrolled": true
   },
   "outputs": [
    {
     "name": "stdout",
     "output_type": "stream",
     "text": [
      "3.2242416240388363\n",
      "3.47709689140368\n",
      "2000\n",
      "1999\n",
      "\n",
      "Ttest_indResult(statistic=-14.234336346970675, pvalue=6.894054738565554e-45)\n"
     ]
    }
   ],
   "source": [
    "# sfp_posts, td_posts, politics\n",
    "calculate_values_ind_u(test_arrs_u[4], test_arrs_u[5], language_models[0].score)"
   ]
  },
  {
   "cell_type": "code",
   "execution_count": 87,
   "metadata": {},
   "outputs": [
    {
     "name": "stdout",
     "output_type": "stream",
     "text": [
      "3.1602875025115256\n",
      "3.114661541414132\n",
      "748\n",
      "748\n",
      "\n",
      "Ttest_relResult(statistic=2.0293329132302236, pvalue=0.04277846535299733)\n"
     ]
    }
   ],
   "source": [
    "# sfp_politics_before, sfp_politics_after, politics\n",
    "calculate_values_rel_u(test_arrs_u[0], test_arrs_u[1], language_models[0].score)"
   ]
  },
  {
   "cell_type": "code",
   "execution_count": 88,
   "metadata": {
    "scrolled": false
   },
   "outputs": [
    {
     "name": "stdout",
     "output_type": "stream",
     "text": [
      "3.0909348541504134\n",
      "3.040544549487266\n",
      "748\n",
      "748\n",
      "\n",
      "Ttest_relResult(statistic=2.211014266502513, pvalue=0.027337023234508546)\n"
     ]
    }
   ],
   "source": [
    "# sfp_politics_before, sfp_politics_after, sfp_posts\n",
    "calculate_values_rel_u(test_arrs_u[0], test_arrs_u[1], language_models[5].score)"
   ]
  },
  {
   "cell_type": "code",
   "execution_count": 89,
   "metadata": {},
   "outputs": [
    {
     "name": "stdout",
     "output_type": "stream",
     "text": [
      "3.101790481477532\n",
      "3.06688978522276\n",
      "950\n",
      "950\n",
      "\n",
      "Ttest_relResult(statistic=1.4753299861459284, pvalue=0.14045553370864883)\n"
     ]
    }
   ],
   "source": [
    "# sfp_politics_before, sfp_posts, sfp_posts\n",
    "calculate_values_rel_u(test_arrs_u[0], test_arrs_u[4], language_models[5].score)"
   ]
  },
  {
   "cell_type": "code",
   "execution_count": 90,
   "metadata": {},
   "outputs": [
    {
     "name": "stdout",
     "output_type": "stream",
     "text": [
      "3.058130992118092\n",
      "3.0691262995429285\n",
      "1171\n",
      "1171\n",
      "\n",
      "Ttest_relResult(statistic=-0.6014542270006296, pvalue=0.5476540039219783)\n"
     ]
    }
   ],
   "source": [
    "# sfp_politics_after, sfp_posts, sfp_posts\n",
    "calculate_values_rel_u(test_arrs_u[1], test_arrs_u[4], language_models[5].score)"
   ]
  },
  {
   "cell_type": "code",
   "execution_count": 91,
   "metadata": {
    "scrolled": false
   },
   "outputs": [
    {
     "name": "stdout",
     "output_type": "stream",
     "text": [
      "3.2377940545429573\n",
      "3.2226882062937325\n",
      "495\n",
      "495\n",
      "\n",
      "Ttest_relResult(statistic=0.39907502070196127, pvalue=0.6900103840501118)\n"
     ]
    }
   ],
   "source": [
    "# td_politics_before, td_politics_after, politics\n",
    "calculate_values_rel_u(test_arrs_u[2], test_arrs_u[3], language_models[0].score)"
   ]
  },
  {
   "cell_type": "code",
   "execution_count": 92,
   "metadata": {
    "scrolled": true
   },
   "outputs": [
    {
     "name": "stdout",
     "output_type": "stream",
     "text": [
      "3.132151504497017\n",
      "3.0785688135313216\n",
      "495\n",
      "495\n",
      "\n",
      "Ttest_relResult(statistic=1.5746339871164772, pvalue=0.11598113196938822)\n"
     ]
    }
   ],
   "source": [
    "# td_politics_before, td_politics_after, td_posts\n",
    "calculate_values_rel_u(test_arrs_u[2], test_arrs_u[3], language_models[6].score)"
   ]
  },
  {
   "cell_type": "code",
   "execution_count": 93,
   "metadata": {},
   "outputs": [
    {
     "name": "stdout",
     "output_type": "stream",
     "text": [
      "3.207529431657444\n",
      "3.381152043578779\n",
      "867\n",
      "867\n",
      "\n",
      "Ttest_relResult(statistic=-5.452786426028669, pvalue=6.470810744770136e-08)\n"
     ]
    }
   ],
   "source": [
    "# td_politics_before, td_posts, td_posts\n",
    "calculate_values_rel_u(test_arrs_u[2], test_arrs_u[5], language_models[5].score)"
   ]
  },
  {
   "cell_type": "code",
   "execution_count": 94,
   "metadata": {
    "scrolled": false
   },
   "outputs": [
    {
     "name": "stdout",
     "output_type": "stream",
     "text": [
      "3.1919098138601316\n",
      "3.370947505769916\n",
      "657\n",
      "657\n",
      "\n",
      "Ttest_relResult(statistic=-6.072038604701209, pvalue=2.138095491401129e-09)\n"
     ]
    }
   ],
   "source": [
    "# td_politics_after, td_posts, td_posts\n",
    "calculate_values_rel_u(test_arrs_u[3], test_arrs_u[5], language_models[5].score)"
   ]
  },
  {
   "cell_type": "markdown",
   "metadata": {},
   "source": [
    "## See if comment length is an explanation"
   ]
  },
  {
   "cell_type": "code",
   "execution_count": 1,
   "metadata": {},
   "outputs": [],
   "source": [
    "def length_func(x):\n",
    "    return len(re.findall(r'\\w+', x))"
   ]
  },
  {
   "cell_type": "code",
   "execution_count": 28,
   "metadata": {
    "scrolled": false
   },
   "outputs": [
    {
     "name": "stdout",
     "output_type": "stream",
     "text": [
      "37.01802785336853\n",
      "32.024403452377705\n",
      "954\n",
      "868\n",
      "\n",
      "Ttest_indResult(statistic=3.242601007471369, pvalue=0.0012058709137762363)\n"
     ]
    }
   ],
   "source": [
    "# sfp_politics_before, td_politics_before, sfp_politics_before\n",
    "calculate_values_ind_u(test_arrs_u[0], test_arrs_u[2], length_func)"
   ]
  },
  {
   "cell_type": "code",
   "execution_count": 31,
   "metadata": {},
   "outputs": [
    {
     "name": "stdout",
     "output_type": "stream",
     "text": [
      "37.01802785336853\n",
      "32.024403452377705\n",
      "954\n",
      "868\n",
      "\n",
      "Ttest_indResult(statistic=3.242601007471369, pvalue=0.0012058709137762363)\n"
     ]
    }
   ],
   "source": [
    "# sfp_politics_before, td_politics_before, td_politics_before\n",
    "calculate_values_ind_u(test_arrs_u[0], test_arrs_u[2], length_func)"
   ]
  },
  {
   "cell_type": "code",
   "execution_count": 32,
   "metadata": {},
   "outputs": [
    {
     "name": "stdout",
     "output_type": "stream",
     "text": [
      "37.52662847041612\n",
      "30.701653872750484\n",
      "1173\n",
      "659\n",
      "\n",
      "Ttest_indResult(statistic=4.091572222840621, pvalue=4.470679138488924e-05)\n"
     ]
    }
   ],
   "source": [
    "# sfp_politics_after, td_politics_after, sfp_politics_after\n",
    "calculate_values_ind_u(test_arrs_u[1], test_arrs_u[3], length_func)"
   ]
  },
  {
   "cell_type": "code",
   "execution_count": 33,
   "metadata": {},
   "outputs": [
    {
     "name": "stdout",
     "output_type": "stream",
     "text": [
      "37.52662847041612\n",
      "30.701653872750484\n",
      "1173\n",
      "659\n",
      "\n",
      "Ttest_indResult(statistic=4.091572222840621, pvalue=4.470679138488924e-05)\n"
     ]
    }
   ],
   "source": [
    "# sfp_politics_after, td_politics_after, td_politics_after\n",
    "calculate_values_ind_u(test_arrs_u[1], test_arrs_u[3], length_func)"
   ]
  },
  {
   "cell_type": "code",
   "execution_count": 34,
   "metadata": {},
   "outputs": [
    {
     "name": "stdout",
     "output_type": "stream",
     "text": [
      "37.01802785336853\n",
      "32.024403452377705\n",
      "954\n",
      "868\n",
      "\n",
      "Ttest_indResult(statistic=3.242601007471369, pvalue=0.0012058709137762363)\n"
     ]
    }
   ],
   "source": [
    "# sfp_politics_before, td_politics_before, sfp_posts\n",
    "calculate_values_ind_u(test_arrs_u[0], test_arrs_u[2], length_func)"
   ]
  },
  {
   "cell_type": "code",
   "execution_count": 35,
   "metadata": {},
   "outputs": [
    {
     "name": "stdout",
     "output_type": "stream",
     "text": [
      "37.01802785336853\n",
      "32.024403452377705\n",
      "954\n",
      "868\n",
      "\n",
      "Ttest_indResult(statistic=3.242601007471369, pvalue=0.0012058709137762363)\n"
     ]
    }
   ],
   "source": [
    "# sfp_politics_before, td_politics_before, td_posts\n",
    "calculate_values_ind_u(test_arrs_u[0], test_arrs_u[2], length_func)"
   ]
  },
  {
   "cell_type": "code",
   "execution_count": 36,
   "metadata": {},
   "outputs": [
    {
     "name": "stdout",
     "output_type": "stream",
     "text": [
      "37.52662847041612\n",
      "30.701653872750484\n",
      "1173\n",
      "659\n",
      "\n",
      "Ttest_indResult(statistic=4.091572222840621, pvalue=4.470679138488924e-05)\n"
     ]
    }
   ],
   "source": [
    "# sfp_politics_after, td_politics_after, sfp_posts\n",
    "calculate_values_ind_u(test_arrs_u[1], test_arrs_u[3], length_func)"
   ]
  },
  {
   "cell_type": "code",
   "execution_count": 37,
   "metadata": {},
   "outputs": [
    {
     "name": "stdout",
     "output_type": "stream",
     "text": [
      "37.52662847041612\n",
      "30.701653872750484\n",
      "1173\n",
      "659\n",
      "\n",
      "Ttest_indResult(statistic=4.091572222840621, pvalue=4.470679138488924e-05)\n"
     ]
    }
   ],
   "source": [
    "# sfp_politics_after, td_politics_after, td_posts\n",
    "calculate_values_ind_u(test_arrs_u[1], test_arrs_u[3], length_func)"
   ]
  },
  {
   "cell_type": "code",
   "execution_count": 38,
   "metadata": {},
   "outputs": [
    {
     "name": "stdout",
     "output_type": "stream",
     "text": [
      "37.01802785336853\n",
      "32.024403452377705\n",
      "954\n",
      "868\n",
      "\n",
      "Ttest_indResult(statistic=3.242601007471369, pvalue=0.0012058709137762363)\n"
     ]
    }
   ],
   "source": [
    "# sfp_politics_before, td_politics_before, politics\n",
    "calculate_values_ind_u(test_arrs_u[0], test_arrs_u[2], length_func)"
   ]
  },
  {
   "cell_type": "code",
   "execution_count": 39,
   "metadata": {},
   "outputs": [
    {
     "name": "stdout",
     "output_type": "stream",
     "text": [
      "37.52662847041612\n",
      "30.701653872750484\n",
      "1173\n",
      "659\n",
      "\n",
      "Ttest_indResult(statistic=4.091572222840621, pvalue=4.470679138488924e-05)\n"
     ]
    }
   ],
   "source": [
    "# sfp_politics_after, td_politics_after, politics\n",
    "calculate_values_ind_u(test_arrs_u[1], test_arrs_u[3], length_func)"
   ]
  },
  {
   "cell_type": "code",
   "execution_count": 40,
   "metadata": {},
   "outputs": [
    {
     "name": "stdout",
     "output_type": "stream",
     "text": [
      "32.72603277488604\n",
      "27.554039248670236\n",
      "2000\n",
      "2000\n",
      "\n",
      "Ttest_indResult(statistic=4.5976067115467085, pvalue=4.405780193801277e-06)\n"
     ]
    }
   ],
   "source": [
    "# sfp_posts, td_posts, sfp_posts\n",
    "calculate_values_ind_u(test_arrs_u[4], test_arrs_u[5], length_func)"
   ]
  },
  {
   "cell_type": "code",
   "execution_count": 41,
   "metadata": {},
   "outputs": [
    {
     "name": "stdout",
     "output_type": "stream",
     "text": [
      "32.72603277488604\n",
      "27.554039248670236\n",
      "2000\n",
      "2000\n",
      "\n",
      "Ttest_indResult(statistic=4.5976067115467085, pvalue=4.405780193801277e-06)\n"
     ]
    }
   ],
   "source": [
    "# sfp_posts, td_posts, td_posts\n",
    "calculate_values_ind_u(test_arrs_u[4], test_arrs_u[5], length_func)"
   ]
  },
  {
   "cell_type": "code",
   "execution_count": 42,
   "metadata": {
    "scrolled": true
   },
   "outputs": [
    {
     "name": "stdout",
     "output_type": "stream",
     "text": [
      "32.72603277488604\n",
      "27.554039248670236\n",
      "2000\n",
      "2000\n",
      "\n",
      "Ttest_indResult(statistic=4.5976067115467085, pvalue=4.405780193801277e-06)\n"
     ]
    }
   ],
   "source": [
    "# sfp_posts, td_posts, politics\n",
    "calculate_values_ind_u(test_arrs_u[4], test_arrs_u[5], length_func)"
   ]
  },
  {
   "cell_type": "code",
   "execution_count": 46,
   "metadata": {},
   "outputs": [
    {
     "ename": "NameError",
     "evalue": "name 'calculate_values_ind_u' is not defined",
     "output_type": "error",
     "traceback": [
      "\u001b[0;31m---------------------------------------------------------------------------\u001b[0m",
      "\u001b[0;31mNameError\u001b[0m                                 Traceback (most recent call last)",
      "\u001b[0;32m<ipython-input-46-898bfad5339b>\u001b[0m in \u001b[0;36m<module>\u001b[0;34m\u001b[0m\n\u001b[1;32m      1\u001b[0m \u001b[0;31m# sfp_politics_before, sfp_politics_after, politics\u001b[0m\u001b[0;34m\u001b[0m\u001b[0;34m\u001b[0m\u001b[0;34m\u001b[0m\u001b[0m\n\u001b[0;32m----> 2\u001b[0;31m \u001b[0mcalculate_values_ind_u\u001b[0m\u001b[0;34m(\u001b[0m\u001b[0mtest_arrs_u\u001b[0m\u001b[0;34m[\u001b[0m\u001b[0;36m0\u001b[0m\u001b[0;34m]\u001b[0m\u001b[0;34m,\u001b[0m \u001b[0mtest_arrs_u\u001b[0m\u001b[0;34m[\u001b[0m\u001b[0;36m1\u001b[0m\u001b[0;34m]\u001b[0m\u001b[0;34m,\u001b[0m \u001b[0mlength_func\u001b[0m\u001b[0;34m)\u001b[0m\u001b[0;34m\u001b[0m\u001b[0;34m\u001b[0m\u001b[0m\n\u001b[0m",
      "\u001b[0;31mNameError\u001b[0m: name 'calculate_values_ind_u' is not defined"
     ]
    }
   ],
   "source": [
    "# sfp_politics_before, sfp_politics_after, politics\n",
    "calculate_values_rel_u(test_arrs_u[0], test_arrs_u[1], length_func)"
   ]
  },
  {
   "cell_type": "code",
   "execution_count": 44,
   "metadata": {
    "scrolled": false
   },
   "outputs": [
    {
     "name": "stdout",
     "output_type": "stream",
     "text": [
      "37.54059817627134\n",
      "38.53115446944957\n",
      "751\n",
      "751\n",
      "\n",
      "Ttest_relResult(statistic=-0.7646816736377483, pvalue=0.44470164930590306)\n"
     ]
    }
   ],
   "source": [
    "# sfp_politics_before, sfp_politics_after, sfp_posts\n",
    "calculate_values_rel_u(test_arrs_u[0], test_arrs_u[1], length_func)"
   ]
  },
  {
   "cell_type": "code",
   "execution_count": 45,
   "metadata": {},
   "outputs": [
    {
     "name": "stdout",
     "output_type": "stream",
     "text": [
      "37.01802785336853\n",
      "34.25328208504616\n",
      "954\n",
      "954\n",
      "\n",
      "Ttest_relResult(statistic=2.315995501751571, pvalue=0.020769956115754808)\n"
     ]
    }
   ],
   "source": [
    "# sfp_politics_before, sfp_posts, sfp_posts\n",
    "calculate_values_rel_u(test_arrs_u[0], test_arrs_u[4], length_func)"
   ]
  },
  {
   "cell_type": "code",
   "execution_count": 46,
   "metadata": {},
   "outputs": [
    {
     "name": "stdout",
     "output_type": "stream",
     "text": [
      "37.52662847041612\n",
      "33.00976095316658\n",
      "1173\n",
      "1173\n",
      "\n",
      "Ttest_relResult(statistic=4.609871529749745, pvalue=4.470837988777312e-06)\n"
     ]
    }
   ],
   "source": [
    "# sfp_politics_after, sfp_posts, sfp_posts\n",
    "calculate_values_rel_u(test_arrs_u[1], test_arrs_u[4], length_func)"
   ]
  },
  {
   "cell_type": "code",
   "execution_count": 47,
   "metadata": {
    "scrolled": false
   },
   "outputs": [
    {
     "name": "stdout",
     "output_type": "stream",
     "text": [
      "32.43539672605384\n",
      "31.69753322588812\n",
      "496\n",
      "496\n",
      "\n",
      "Ttest_relResult(statistic=0.5789636329085991, pvalue=0.5628770649366173)\n"
     ]
    }
   ],
   "source": [
    "# td_politics_before, td_politics_after, politics\n",
    "calculate_values_rel_u(test_arrs_u[2], test_arrs_u[3], length_func)"
   ]
  },
  {
   "cell_type": "code",
   "execution_count": 48,
   "metadata": {
    "scrolled": true
   },
   "outputs": [
    {
     "name": "stdout",
     "output_type": "stream",
     "text": [
      "32.43539672605384\n",
      "31.69753322588812\n",
      "496\n",
      "496\n",
      "\n",
      "Ttest_relResult(statistic=0.5789636329085991, pvalue=0.5628770649366173)\n"
     ]
    }
   ],
   "source": [
    "# td_politics_before, td_politics_after, td_posts\n",
    "calculate_values_rel_u(test_arrs_u[2], test_arrs_u[3], length_func)"
   ]
  },
  {
   "cell_type": "code",
   "execution_count": 49,
   "metadata": {},
   "outputs": [
    {
     "name": "stdout",
     "output_type": "stream",
     "text": [
      "32.024403452377705\n",
      "28.694405523101242\n",
      "868\n",
      "868\n",
      "\n",
      "Ttest_relResult(statistic=2.544753419747349, pvalue=0.01110780589163972)\n"
     ]
    }
   ],
   "source": [
    "# td_politics_before, td_posts, td_posts\n",
    "calculate_values_rel_u(test_arrs_u[2], test_arrs_u[5], length_func)"
   ]
  },
  {
   "cell_type": "code",
   "execution_count": 50,
   "metadata": {
    "scrolled": false
   },
   "outputs": [
    {
     "name": "stdout",
     "output_type": "stream",
     "text": [
      "30.701653872750484\n",
      "29.414593748093605\n",
      "659\n",
      "659\n",
      "\n",
      "Ttest_relResult(statistic=0.6049004346523063, pvalue=0.5454536946392264)\n"
     ]
    }
   ],
   "source": [
    "# td_politics_after, td_posts, td_posts\n",
    "calculate_values_rel_u(test_arrs_u[3], test_arrs_u[5], length_func)"
   ]
  },
  {
   "cell_type": "markdown",
   "metadata": {},
   "source": [
    "## Try with 5-gram language models"
   ]
  },
  {
   "cell_type": "code",
   "execution_count": 14,
   "metadata": {},
   "outputs": [
    {
     "name": "stdout",
     "output_type": "stream",
     "text": [
      "5-gram model\n",
      "5-gram model\n",
      "5-gram model\n",
      "5-gram model\n",
      "5-gram model\n",
      "5-gram model\n",
      "5-gram model\n"
     ]
    }
   ],
   "source": [
    "filenames5 = ['politics_train5.arpa',\n",
    "             'sfp_politics_before5.arpa', \n",
    "             'sfp_politics_after5.arpa',\n",
    "             'td_politics_before5.arpa',\n",
    "             'td_politics_after5.arpa',\n",
    "             'sfp_posts5.arpa',\n",
    "             'td_posts5.arpa']\n",
    "\n",
    "language_models5 = []\n",
    "\n",
    "for i in range(len(filenames5)):\n",
    "    curr_lm = os.path.join(os.path.dirname('Language models.ipynb'), '..', 'language_models', filenames5[i])\n",
    "    curr_model = kenlm.LanguageModel(curr_lm)\n",
    "    print('{0}-gram model'.format(curr_model.order))\n",
    "    language_models5.append(curr_model)"
   ]
  },
  {
   "cell_type": "code",
   "execution_count": 53,
   "metadata": {
    "scrolled": true
   },
   "outputs": [
    {
     "name": "stdout",
     "output_type": "stream",
     "text": [
      "-100.21862085903115\n",
      "-87.97086214743665\n",
      "954\n",
      "868\n",
      "\n",
      "Ttest_indResult(statistic=-2.9672393190724686, pvalue=0.0030440608182013976)\n"
     ]
    }
   ],
   "source": [
    "# sfp_politics_before, td_politics_before, sfp_politics_before\n",
    "calculate_values_ind_u(test_arrs_u[0], test_arrs_u[2], language_models5[1].score)"
   ]
  },
  {
   "cell_type": "code",
   "execution_count": 54,
   "metadata": {},
   "outputs": [
    {
     "name": "stdout",
     "output_type": "stream",
     "text": [
      "-101.30365084509378\n",
      "-88.44020087954289\n",
      "954\n",
      "868\n",
      "\n",
      "Ttest_indResult(statistic=-3.0826736159181185, pvalue=0.0020822830399612837)\n"
     ]
    }
   ],
   "source": [
    "# sfp_politics_before, td_politics_before, td_politics_before\n",
    "calculate_values_ind_u(test_arrs_u[0], test_arrs_u[2], language_models5[3].score)"
   ]
  },
  {
   "cell_type": "code",
   "execution_count": 55,
   "metadata": {},
   "outputs": [
    {
     "name": "stdout",
     "output_type": "stream",
     "text": [
      "-100.09434665757803\n",
      "-83.57415292167934\n",
      "1173\n",
      "659\n",
      "\n",
      "Ttest_indResult(statistic=-3.747501302191211, pvalue=0.00018414426683182502)\n"
     ]
    }
   ],
   "source": [
    "# sfp_politics_after, td_politics_after, sfp_politics_after\n",
    "calculate_values_ind_u(test_arrs_u[1], test_arrs_u[3], language_models5[2].score)"
   ]
  },
  {
   "cell_type": "code",
   "execution_count": 56,
   "metadata": {},
   "outputs": [
    {
     "name": "stdout",
     "output_type": "stream",
     "text": [
      "-103.95581467692544\n",
      "-85.79686777268662\n",
      "1173\n",
      "659\n",
      "\n",
      "Ttest_indResult(statistic=-3.958928540574452, pvalue=7.816694206609242e-05)\n"
     ]
    }
   ],
   "source": [
    "# sfp_politics_after, td_politics_after, td_politics_after\n",
    "calculate_values_ind_u(test_arrs_u[1], test_arrs_u[3], language_models5[4].score)"
   ]
  },
  {
   "cell_type": "code",
   "execution_count": 57,
   "metadata": {},
   "outputs": [
    {
     "name": "stdout",
     "output_type": "stream",
     "text": [
      "-101.7587836258224\n",
      "-89.13189715201094\n",
      "954\n",
      "868\n",
      "\n",
      "Ttest_indResult(statistic=-2.964533215550419, pvalue=0.003070830821299671)\n"
     ]
    }
   ],
   "source": [
    "# sfp_politics_before, td_politics_before, sfp_posts\n",
    "calculate_values_ind_u(test_arrs_u[0], test_arrs_u[2], language_models5[5].score)"
   ]
  },
  {
   "cell_type": "code",
   "execution_count": 58,
   "metadata": {},
   "outputs": [
    {
     "name": "stdout",
     "output_type": "stream",
     "text": [
      "-103.01561133357033\n",
      "-89.11039820231676\n",
      "954\n",
      "868\n",
      "\n",
      "Ttest_indResult(statistic=-3.230981324832539, pvalue=0.001255686160553396)\n"
     ]
    }
   ],
   "source": [
    "# sfp_politics_before, td_politics_before, td_posts\n",
    "calculate_values_ind_u(test_arrs_u[0], test_arrs_u[2], language_models5[6].score)"
   ]
  },
  {
   "cell_type": "code",
   "execution_count": 59,
   "metadata": {},
   "outputs": [
    {
     "name": "stdout",
     "output_type": "stream",
     "text": [
      "-101.37907774894774\n",
      "-85.09624352360247\n",
      "1173\n",
      "659\n",
      "\n",
      "Ttest_indResult(statistic=-3.6308161990707686, pvalue=0.0002902972024595405)\n"
     ]
    }
   ],
   "source": [
    "# sfp_politics_after, td_politics_after, sfp_posts\n",
    "calculate_values_ind_u(test_arrs_u[1], test_arrs_u[3], language_models5[5].score)"
   ]
  },
  {
   "cell_type": "code",
   "execution_count": 60,
   "metadata": {},
   "outputs": [
    {
     "name": "stdout",
     "output_type": "stream",
     "text": [
      "-103.67701920580198\n",
      "-84.96313428588769\n",
      "1173\n",
      "659\n",
      "\n",
      "Ttest_indResult(statistic=-4.061093623966788, pvalue=5.090447044806993e-05)\n"
     ]
    }
   ],
   "source": [
    "# sfp_politics_after, td_politics_after, td_posts\n",
    "calculate_values_ind_u(test_arrs_u[1], test_arrs_u[3], language_models5[6].score)"
   ]
  },
  {
   "cell_type": "code",
   "execution_count": 61,
   "metadata": {},
   "outputs": [
    {
     "name": "stdout",
     "output_type": "stream",
     "text": [
      "-105.10003025383556\n",
      "-91.51554384686371\n",
      "954\n",
      "868\n",
      "\n",
      "Ttest_indResult(statistic=-3.1295467713067207, pvalue=0.0017785365427019687)\n"
     ]
    }
   ],
   "source": [
    "# sfp_politics_before, td_politics_before, politics\n",
    "calculate_values_ind_u(test_arrs_u[0], test_arrs_u[2], language_models5[0].score)"
   ]
  },
  {
   "cell_type": "code",
   "execution_count": 62,
   "metadata": {},
   "outputs": [
    {
     "name": "stdout",
     "output_type": "stream",
     "text": [
      "-105.43750329387636\n",
      "-87.71166242872995\n",
      "1173\n",
      "659\n",
      "\n",
      "Ttest_indResult(statistic=-3.8292467232507597, pvalue=0.0001328644723805624)\n"
     ]
    }
   ],
   "source": [
    "# sfp_politics_after, td_politics_after, politics\n",
    "calculate_values_ind_u(test_arrs_u[1], test_arrs_u[3], language_models5[0].score)"
   ]
  },
  {
   "cell_type": "code",
   "execution_count": 63,
   "metadata": {},
   "outputs": [
    {
     "name": "stdout",
     "output_type": "stream",
     "text": [
      "-87.69214563786232\n",
      "-80.64671095062896\n",
      "2000\n",
      "2000\n",
      "\n",
      "Ttest_indResult(statistic=-1.8329784677261367, pvalue=0.06688009303002412)\n"
     ]
    }
   ],
   "source": [
    "# sfp_posts, td_posts, sfp_posts\n",
    "calculate_values_ind_u(test_arrs_u[4], test_arrs_u[5], language_models5[5].score)"
   ]
  },
  {
   "cell_type": "code",
   "execution_count": 64,
   "metadata": {},
   "outputs": [
    {
     "name": "stdout",
     "output_type": "stream",
     "text": [
      "-90.49446910495732\n",
      "-77.19605624783173\n",
      "2000\n",
      "2000\n",
      "\n",
      "Ttest_indResult(statistic=-3.714869803320537, pvalue=0.00020608512952273182)\n"
     ]
    }
   ],
   "source": [
    "# sfp_posts, td_posts, td_posts\n",
    "calculate_values_ind_u(test_arrs_u[4], test_arrs_u[5], language_models5[6].score)"
   ]
  },
  {
   "cell_type": "code",
   "execution_count": 65,
   "metadata": {
    "scrolled": true
   },
   "outputs": [
    {
     "name": "stdout",
     "output_type": "stream",
     "text": [
      "-92.93136141888354\n",
      "-82.34958650352232\n",
      "2000\n",
      "2000\n",
      "\n",
      "Ttest_indResult(statistic=-2.820429431700638, pvalue=0.004819577263764419)\n"
     ]
    }
   ],
   "source": [
    "# sfp_posts, td_posts, politics\n",
    "calculate_values_ind_u(test_arrs_u[4], test_arrs_u[5], language_models5[0].score)"
   ]
  },
  {
   "cell_type": "code",
   "execution_count": 66,
   "metadata": {},
   "outputs": [
    {
     "name": "stdout",
     "output_type": "stream",
     "text": [
      "-106.52730583298609\n",
      "-107.99773769902163\n",
      "751\n",
      "751\n",
      "\n",
      "Ttest_relResult(statistic=0.40219877364081763, pvalue=0.6876523403325141)\n"
     ]
    }
   ],
   "source": [
    "# sfp_politics_before, sfp_politics_after, politics\n",
    "calculate_values_rel_u(test_arrs_u[0], test_arrs_u[1], language_models5[0].score)"
   ]
  },
  {
   "cell_type": "code",
   "execution_count": 67,
   "metadata": {
    "scrolled": false
   },
   "outputs": [
    {
     "name": "stdout",
     "output_type": "stream",
     "text": [
      "-103.15186102804721\n",
      "-103.99347602660356\n",
      "751\n",
      "751\n",
      "\n",
      "Ttest_relResult(statistic=0.23714738006260297, pvalue=0.8126072172650635)\n"
     ]
    }
   ],
   "source": [
    "# sfp_politics_before, sfp_politics_after, sfp_posts\n",
    "calculate_values_rel_u(test_arrs_u[0], test_arrs_u[1], language_models5[5].score)"
   ]
  },
  {
   "cell_type": "code",
   "execution_count": 68,
   "metadata": {},
   "outputs": [
    {
     "name": "stdout",
     "output_type": "stream",
     "text": [
      "-101.7587836258224\n",
      "-91.88483167165222\n",
      "954\n",
      "954\n",
      "\n",
      "Ttest_relResult(statistic=-2.9820962093615977, pvalue=0.0029356734333325064)\n"
     ]
    }
   ],
   "source": [
    "# sfp_politics_before, sfp_posts, sfp_posts\n",
    "calculate_values_rel_u(test_arrs_u[0], test_arrs_u[4], language_models5[5].score)"
   ]
  },
  {
   "cell_type": "code",
   "execution_count": 69,
   "metadata": {},
   "outputs": [
    {
     "name": "stdout",
     "output_type": "stream",
     "text": [
      "-101.37907774894774\n",
      "-88.42654937929872\n",
      "1173\n",
      "1173\n",
      "\n",
      "Ttest_relResult(statistic=-4.992715060223029, pvalue=6.855547278352533e-07)\n"
     ]
    }
   ],
   "source": [
    "# sfp_politics_after, sfp_posts, sfp_posts\n",
    "calculate_values_rel_u(test_arrs_u[1], test_arrs_u[4], language_models5[5].score)"
   ]
  },
  {
   "cell_type": "code",
   "execution_count": 70,
   "metadata": {
    "scrolled": false
   },
   "outputs": [
    {
     "name": "stdout",
     "output_type": "stream",
     "text": [
      "-92.70280487346342\n",
      "-90.26552216285154\n",
      "496\n",
      "496\n",
      "\n",
      "Ttest_relResult(statistic=-0.6931739618568583, pvalue=0.48852548900874837)\n"
     ]
    }
   ],
   "source": [
    "# td_politics_before, td_politics_after, politics\n",
    "calculate_values_rel_u(test_arrs_u[2], test_arrs_u[3], language_models5[0].score)"
   ]
  },
  {
   "cell_type": "code",
   "execution_count": 71,
   "metadata": {
    "scrolled": true
   },
   "outputs": [
    {
     "name": "stdout",
     "output_type": "stream",
     "text": [
      "-90.31167224989198\n",
      "-87.6139489813056\n",
      "496\n",
      "496\n",
      "\n",
      "Ttest_relResult(statistic=-0.7844466046651224, pvalue=0.43315333485165286)\n"
     ]
    }
   ],
   "source": [
    "# td_politics_before, td_politics_after, td_posts\n",
    "calculate_values_rel_u(test_arrs_u[2], test_arrs_u[3], language_models5[6].score)"
   ]
  },
  {
   "cell_type": "code",
   "execution_count": 72,
   "metadata": {},
   "outputs": [
    {
     "name": "stdout",
     "output_type": "stream",
     "text": [
      "-89.13189715201094\n",
      "-82.35823772601591\n",
      "868\n",
      "868\n",
      "\n",
      "Ttest_relResult(statistic=-1.8925135059362574, pvalue=0.05875548879377727)\n"
     ]
    }
   ],
   "source": [
    "# td_politics_before, td_posts, td_posts\n",
    "calculate_values_rel_u(test_arrs_u[2], test_arrs_u[5], language_models5[5].score)"
   ]
  },
  {
   "cell_type": "code",
   "execution_count": 73,
   "metadata": {
    "scrolled": false
   },
   "outputs": [
    {
     "name": "stdout",
     "output_type": "stream",
     "text": [
      "-85.09624352360247\n",
      "-88.08922232291387\n",
      "659\n",
      "659\n",
      "\n",
      "Ttest_relResult(statistic=0.33092071704145787, pvalue=0.7408097239916116)\n"
     ]
    }
   ],
   "source": [
    "# td_politics_after, td_posts, td_posts\n",
    "calculate_values_rel_u(test_arrs_u[3], test_arrs_u[5], language_models5[5].score)"
   ]
  },
  {
   "cell_type": "markdown",
   "metadata": {},
   "source": [
    "## Keep the same comment length"
   ]
  },
  {
   "cell_type": "code",
   "execution_count": 20,
   "metadata": {},
   "outputs": [
    {
     "name": "stdout",
     "output_type": "stream",
     "text": [
      "43.01862896435588\n",
      "42.29314566080434\n",
      "39.440261591347365\n",
      "30.827161161269395\n",
      "35.26500589471526\n",
      "23.612678339818416\n"
     ]
    }
   ],
   "source": [
    "for arr in test_arrs:\n",
    "    print(np.mean([len(re.findall(r'\\w+', i)) for i in arr]))"
   ]
  },
  {
   "cell_type": "code",
   "execution_count": 17,
   "metadata": {},
   "outputs": [
    {
     "data": {
      "image/png": "[encoded data removed]",
      "text/plain": [
       "<Figure size 432x288 with 1 Axes>"
      ]
     },
     "metadata": {
      "needs_background": "light"
     },
     "output_type": "display_data"
    }
   ],
   "source": [
    "plt.hist([len(re.findall(r'\\w+', i)) for i in test_arrs[0]])\n",
    "plt.show()"
   ]
  },
  {
   "cell_type": "code",
   "execution_count": 18,
   "metadata": {},
   "outputs": [
    {
     "data": {
      "image/png": "[encoded data removed]",
      "text/plain": [
       "<Figure size 432x288 with 1 Axes>"
      ]
     },
     "metadata": {
      "needs_background": "light"
     },
     "output_type": "display_data"
    }
   ],
   "source": [
    "plt.hist([len(re.findall(r'\\w+', i)) for i in test_arrs[0]], range = (0, 100))\n",
    "plt.show()"
   ]
  },
  {
   "cell_type": "code",
   "execution_count": 21,
   "metadata": {},
   "outputs": [
    {
     "name": "stdout",
     "output_type": "stream",
     "text": [
      "0.2105318551782206\n",
      "0.21925691822979154\n",
      "0.27739582459964784\n",
      "0.35248959290695786\n",
      "0.2881875032036496\n",
      "0.4296728635250036\n"
     ]
    }
   ],
   "source": [
    "for arr in test_arrs:\n",
    "    print(sum([len(re.findall(r'\\w+', i)) <= 10 for i in arr]) / len(arr))"
   ]
  },
  {
   "cell_type": "code",
   "execution_count": 22,
   "metadata": {},
   "outputs": [
    {
     "name": "stdout",
     "output_type": "stream",
     "text": [
      "0.5778838057816447\n",
      "0.5849842468225402\n",
      "0.6448394399262178\n",
      "0.7251446180461697\n",
      "0.6532369675534369\n",
      "0.7933059518662632\n"
     ]
    }
   ],
   "source": [
    "for arr in test_arrs:\n",
    "    print(sum([len(re.findall(r'\\w+', i)) <= 30 for i in arr]) / len(arr))"
   ]
  },
  {
   "cell_type": "code",
   "execution_count": 17,
   "metadata": {},
   "outputs": [],
   "source": [
    "def calculate_values_ind_l(text1, text2, scoring_func, length=10):\n",
    "    scores1 = []\n",
    "    scores2 = []\n",
    "    \n",
    "    for arr in text1:\n",
    "        if len(arr) > 0:\n",
    "            tmp = [' '.join(re.findall(r'\\w+', i)[:length]) for i in arr if len(re.findall(r'\\w+', i)) >= length]\n",
    "            if len(tmp) > 0:\n",
    "                scores1.append(np.mean([scoring_func(s, eos=False) for s in tmp]))\n",
    "            \n",
    "    for arr in text2:\n",
    "        if len(arr) > 0:\n",
    "            tmp = [' '.join(re.findall(r'\\w+', i)[:length]) for i in arr if len(re.findall(r'\\w+', i)) >= length]\n",
    "            if len(tmp) > 0:\n",
    "                scores2.append(np.mean([scoring_func(s, eos=False) for s in tmp]))\n",
    "\n",
    "    mean1 = sum(scores1)/len(scores1)\n",
    "    mean2 = sum(scores2)/len(scores2)\n",
    "    print(mean1)\n",
    "    print(mean2)\n",
    "    print(len(scores1))\n",
    "    print(len(scores2))\n",
    "    print()\n",
    "    \n",
    "    print(ttest_ind(scores1, scores2))"
   ]
  },
  {
   "cell_type": "code",
   "execution_count": 18,
   "metadata": {},
   "outputs": [],
   "source": [
    "def calculate_values_rel_l(text1, text2, scoring_func, length=10):\n",
    "    scores1 = []\n",
    "    scores2 = []\n",
    "    \n",
    "    for i in range(len(text1)):\n",
    "        if len(text1[i]) > 0 and len(text2[i]) > 0:\n",
    "            tmp1 = [' '.join(re.findall(r'\\w+', i)[:length]) for i in text1[i] if len(re.findall(r'\\w+', i)) >= length]\n",
    "            tmp2 = [' '.join(re.findall(r'\\w+', i)[:length]) for i in text2[i] if len(re.findall(r'\\w+', i)) >= length]\n",
    "            \n",
    "            if len(tmp1) > 0 and len(tmp2) > 0:\n",
    "                scores1.append(np.mean([scoring_func(s, eos=False) for s in tmp1]))\n",
    "                scores2.append(np.mean([scoring_func(s, eos=False) for s in tmp2]))\n",
    "\n",
    "    mean1 = sum(scores1)/len(scores1)\n",
    "    mean2 = sum(scores2)/len(scores2)\n",
    "    print(mean1)\n",
    "    print(mean2)\n",
    "    print(len(scores1))\n",
    "    print(len(scores2))\n",
    "    print()\n",
    "    \n",
    "    print(ttest_rel(scores1, scores2))"
   ]
  },
  {
   "cell_type": "code",
   "execution_count": 45,
   "metadata": {
    "scrolled": true
   },
   "outputs": [
    {
     "name": "stdout",
     "output_type": "stream",
     "text": [
      "sfp_politics_before, td_politics_before, sfp_politics_before\n",
      "-26.789264657267978\n",
      "-27.250003299007734\n",
      "873\n",
      "775\n",
      "\n",
      "Ttest_indResult(statistic=2.8900461563443143, pvalue=0.003902319748156859)\n",
      "\n",
      "sfp_politics_before, td_politics_before, td_politics_before\n",
      "-26.893727195075165\n",
      "-27.267033848861747\n",
      "873\n",
      "775\n",
      "\n",
      "Ttest_indResult(statistic=2.3520670521673552, pvalue=0.018786654736809346)\n",
      "\n",
      "sfp_politics_after, td_politics_after, sfp_politics_after\n",
      "-26.57888741672355\n",
      "-27.07262788308709\n",
      "1098\n",
      "572\n",
      "\n",
      "Ttest_indResult(statistic=3.1133273100230228, pvalue=0.0018813328245479793)\n",
      "\n",
      "sfp_politics_after, td_politics_after, td_politics_after\n",
      "-27.10678104492129\n",
      "-27.449692949773404\n",
      "1098\n",
      "572\n",
      "\n",
      "Ttest_indResult(statistic=2.2094084660856055, pvalue=0.027281677665053124)\n",
      "\n",
      "sfp_politics_before, td_politics_before, sfp_posts\n",
      "-27.058947844872076\n",
      "-27.47784491564112\n",
      "873\n",
      "775\n",
      "\n",
      "Ttest_indResult(statistic=2.5560908681051044, pvalue=0.010674673751404969)\n",
      "\n",
      "sfp_politics_before, td_politics_before, td_posts\n",
      "-27.362983251646316\n",
      "-27.501246878914454\n",
      "873\n",
      "775\n",
      "\n",
      "Ttest_indResult(statistic=0.8868214531702293, pvalue=0.37530458679791545)\n",
      "\n",
      "sfp_politics_after, td_politics_after, sfp_posts\n",
      "-26.882092776422688\n",
      "-27.56238573613801\n",
      "1098\n",
      "572\n",
      "\n",
      "Ttest_indResult(statistic=4.239821098250067, pvalue=2.3595492511823463e-05)\n",
      "\n",
      "sfp_politics_after, td_politics_after, td_posts\n",
      "-27.402581513094695\n",
      "-27.518692855002502\n",
      "1098\n",
      "572\n",
      "\n",
      "Ttest_indResult(statistic=0.7440061023189402, pvalue=0.4569775762344891)\n",
      "\n",
      "sfp_politics_before, td_politics_before, politics\n",
      "-27.518924007568685\n",
      "-27.818772152273304\n",
      "873\n",
      "775\n",
      "\n",
      "Ttest_indResult(statistic=1.9684205560347667, pvalue=0.04918725708942374)\n",
      "\n",
      "sfp_politics_after, td_politics_after, politics\n",
      "-27.509063080907385\n",
      "-27.88491452176756\n",
      "1098\n",
      "572\n",
      "\n",
      "Ttest_indResult(statistic=2.4917569149551, pvalue=0.0128077811752068)\n",
      "\n",
      "sfp_posts, td_posts, sfp_posts\n",
      "-26.906942195334235\n",
      "-28.52199607406271\n",
      "1951\n",
      "1837\n",
      "\n",
      "Ttest_indResult(statistic=14.558505806245238, pvalue=9.254532284711448e-47)\n",
      "\n",
      "sfp_posts, td_posts, td_posts\n",
      "-27.62416123594849\n",
      "-27.67298080535281\n",
      "1951\n",
      "1837\n",
      "\n",
      "Ttest_indResult(statistic=0.4612574526474744, pvalue=0.6446404038393696)\n",
      "\n",
      "sfp_posts, td_posts, politics\n",
      "-28.073612933888683\n",
      "-28.823619645368673\n",
      "1951\n",
      "1837\n",
      "\n",
      "Ttest_indResult(statistic=7.225413805267281, pvalue=6.011781250071614e-13)\n",
      "\n",
      "sfp_politics_before, sfp_politics_after, politics\n",
      "-27.47157916366998\n",
      "-27.54653406200807\n",
      "670\n",
      "670\n",
      "\n",
      "Ttest_relResult(statistic=0.5401893232203324, pvalue=0.5892462493704629)\n",
      "\n",
      "sfp_politics_before, sfp_politics_after, sfp_posts\n",
      "-26.99214690407529\n",
      "-26.966009746780244\n",
      "670\n",
      "670\n",
      "\n",
      "Ttest_relResult(statistic=-0.18331068302906706, pvalue=0.8546097937975805)\n",
      "\n",
      "sfp_politics_before, sfp_posts, sfp_posts\n",
      "-27.03489873196111\n",
      "-26.69615171327175\n",
      "858\n",
      "858\n",
      "\n",
      "Ttest_relResult(statistic=-2.4270633019595835, pvalue=0.015426779941402532)\n",
      "\n",
      "sfp_politics_after, sfp_posts, sfp_posts\n",
      "-26.88270691979071\n",
      "-26.77586293548245\n",
      "1087\n",
      "1087\n",
      "\n",
      "Ttest_relResult(statistic=-1.0043154052990415, pvalue=0.31545032740573775)\n",
      "\n",
      "td_politics_before, td_politics_after, politics\n",
      "-27.89503359148632\n",
      "-27.87252591133993\n",
      "418\n",
      "418\n",
      "\n",
      "Ttest_relResult(statistic=-0.1327829471554128, pvalue=0.8944290906639853)\n",
      "\n",
      "td_politics_before, td_politics_after, td_posts\n",
      "-27.54451981789917\n",
      "-27.57276971062034\n",
      "418\n",
      "418\n",
      "\n",
      "Ttest_relResult(statistic=0.16621795522785815, pvalue=0.8680659908881573)\n",
      "\n",
      "td_politics_before, td_posts, td_posts\n",
      "-27.487413610923028\n",
      "-28.438471211457667\n",
      "749\n",
      "749\n",
      "\n",
      "Ttest_relResult(statistic=5.802116686796811, pvalue=9.66711213649411e-09)\n",
      "\n",
      "td_politics_after, td_posts, td_posts\n",
      "-27.561234681326432\n",
      "-28.47399046217665\n",
      "559\n",
      "559\n",
      "\n",
      "Ttest_relResult(statistic=5.17592520367293, pvalue=3.169436337734874e-07)\n"
     ]
    }
   ],
   "source": [
    "print(\"sfp_politics_before, td_politics_before, sfp_politics_before\")\n",
    "calculate_values_ind_l(test_arrs_u[0], test_arrs_u[2], language_models[1].score)\n",
    "\n",
    "print(\"\\nsfp_politics_before, td_politics_before, td_politics_before\")\n",
    "calculate_values_ind_l(test_arrs_u[0], test_arrs_u[2], language_models[3].score)\n",
    "\n",
    "print(\"\\nsfp_politics_after, td_politics_after, sfp_politics_after\")\n",
    "calculate_values_ind_l(test_arrs_u[1], test_arrs_u[3], language_models[2].score)\n",
    "\n",
    "print(\"\\nsfp_politics_after, td_politics_after, td_politics_after\")\n",
    "calculate_values_ind_l(test_arrs_u[1], test_arrs_u[3], language_models[4].score)\n",
    "\n",
    "print(\"\\nsfp_politics_before, td_politics_before, sfp_posts\")\n",
    "calculate_values_ind_l(test_arrs_u[0], test_arrs_u[2], language_models[5].score)\n",
    "\n",
    "print(\"\\nsfp_politics_before, td_politics_before, td_posts\")\n",
    "calculate_values_ind_l(test_arrs_u[0], test_arrs_u[2], language_models[6].score)\n",
    "\n",
    "print(\"\\nsfp_politics_after, td_politics_after, sfp_posts\")\n",
    "calculate_values_ind_l(test_arrs_u[1], test_arrs_u[3], language_models[5].score)\n",
    "\n",
    "print(\"\\nsfp_politics_after, td_politics_after, td_posts\")\n",
    "calculate_values_ind_l(test_arrs_u[1], test_arrs_u[3], language_models[6].score)\n",
    "\n",
    "print(\"\\nsfp_politics_before, td_politics_before, politics\")\n",
    "calculate_values_ind_l(test_arrs_u[0], test_arrs_u[2], language_models[0].score)\n",
    "\n",
    "print(\"\\nsfp_politics_after, td_politics_after, politics\")\n",
    "calculate_values_ind_l(test_arrs_u[1], test_arrs_u[3], language_models[0].score)\n",
    "\n",
    "print(\"\\nsfp_posts, td_posts, sfp_posts\")\n",
    "calculate_values_ind_l(test_arrs_u[4], test_arrs_u[5], language_models[5].score)\n",
    "\n",
    "print(\"\\nsfp_posts, td_posts, td_posts\")\n",
    "calculate_values_ind_l(test_arrs_u[4], test_arrs_u[5], language_models[6].score)\n",
    "\n",
    "print(\"\\nsfp_posts, td_posts, politics\")\n",
    "calculate_values_ind_l(test_arrs_u[4], test_arrs_u[5], language_models[0].score)\n",
    "\n",
    "print(\"\\nsfp_politics_before, sfp_politics_after, politics\")\n",
    "calculate_values_rel_l(test_arrs_u[0], test_arrs_u[1], language_models[0].score)\n",
    "\n",
    "print(\"\\nsfp_politics_before, sfp_politics_after, sfp_posts\")\n",
    "calculate_values_rel_l(test_arrs_u[0], test_arrs_u[1], language_models[5].score)\n",
    "\n",
    "print(\"\\nsfp_politics_before, sfp_posts, sfp_posts\")\n",
    "calculate_values_rel_l(test_arrs_u[0], test_arrs_u[4], language_models[5].score)\n",
    "\n",
    "print(\"\\nsfp_politics_after, sfp_posts, sfp_posts\")\n",
    "calculate_values_rel_l(test_arrs_u[1], test_arrs_u[4], language_models[5].score)\n",
    "\n",
    "print(\"\\ntd_politics_before, td_politics_after, politics\")\n",
    "calculate_values_rel_l(test_arrs_u[2], test_arrs_u[3], language_models[0].score)\n",
    "\n",
    "print(\"\\ntd_politics_before, td_politics_after, td_posts\")\n",
    "calculate_values_rel_l(test_arrs_u[2], test_arrs_u[3], language_models[6].score)\n",
    "\n",
    "print(\"\\ntd_politics_before, td_posts, td_posts\")\n",
    "calculate_values_rel_l(test_arrs_u[2], test_arrs_u[5], language_models[5].score)\n",
    "\n",
    "print(\"\\ntd_politics_after, td_posts, td_posts\")\n",
    "calculate_values_rel_l(test_arrs_u[3], test_arrs_u[5], language_models[5].score)"
   ]
  },
  {
   "cell_type": "code",
   "execution_count": 19,
   "metadata": {
    "scrolled": false
   },
   "outputs": [
    {
     "name": "stdout",
     "output_type": "stream",
     "text": [
      "sfp_politics_before, td_politics_before, sfp_politics_before\n",
      "-25.938808419917407\n",
      "-26.470183499344987\n",
      "873\n",
      "775\n",
      "\n",
      "Ttest_indResult(statistic=3.0155949482813607, pvalue=0.0026040164109425844)\n",
      "\n",
      "sfp_politics_before, td_politics_before, td_politics_before\n",
      "-26.199743291767096\n",
      "-26.59702527295056\n",
      "873\n",
      "775\n",
      "\n",
      "Ttest_indResult(statistic=2.280301597804932, pvalue=0.02271717552737177)\n",
      "\n",
      "sfp_politics_after, td_politics_after, sfp_politics_after\n",
      "-25.77778968952965\n",
      "-26.292930258026146\n",
      "1098\n",
      "572\n",
      "\n",
      "Ttest_indResult(statistic=2.9524262242504875, pvalue=0.0031969419640390426)\n",
      "\n",
      "sfp_politics_after, td_politics_after, td_politics_after\n",
      "-26.629333034955902\n",
      "-26.89883022612285\n",
      "1098\n",
      "572\n",
      "\n",
      "Ttest_indResult(statistic=1.6402737833325156, pvalue=0.10113680364176883)\n",
      "\n",
      "sfp_politics_before, td_politics_before, sfp_posts\n",
      "-26.191260192030207\n",
      "-26.614495047427642\n",
      "873\n",
      "775\n",
      "\n",
      "Ttest_indResult(statistic=2.362275322726203, pvalue=0.018278952355122533)\n",
      "\n",
      "sfp_politics_before, td_politics_before, td_posts\n",
      "-26.558897380091626\n",
      "-26.713236306306904\n",
      "873\n",
      "775\n",
      "\n",
      "Ttest_indResult(statistic=0.9274110786350128, pvalue=0.3538491059571103)\n",
      "\n",
      "sfp_politics_after, td_politics_after, sfp_posts\n",
      "-26.03180550313034\n",
      "-26.737732904753262\n",
      "1098\n",
      "572\n",
      "\n",
      "Ttest_indResult(statistic=4.018703638002313, pvalue=6.112466572286753e-05)\n",
      "\n",
      "sfp_politics_after, td_politics_after, td_posts\n",
      "-26.602164346843008\n",
      "-26.702139814128408\n",
      "1098\n",
      "572\n",
      "\n",
      "Ttest_indResult(statistic=0.6034593372503143, pvalue=0.5462852081471582)\n",
      "\n",
      "sfp_politics_before, td_politics_before, politics\n",
      "-27.08664439595948\n",
      "-27.36394197484093\n",
      "873\n",
      "775\n",
      "\n",
      "Ttest_indResult(statistic=1.7250153567974318, pvalue=0.08471241691860161)\n",
      "\n",
      "sfp_politics_after, td_politics_after, politics\n",
      "-27.05694949626296\n",
      "-27.413017631191426\n",
      "1098\n",
      "572\n",
      "\n",
      "Ttest_indResult(statistic=2.235717460303133, pvalue=0.025502126309800213)\n",
      "\n",
      "sfp_posts, td_posts, sfp_posts\n",
      "-26.013045473927544\n",
      "-27.763509879305005\n",
      "1951\n",
      "1837\n",
      "\n",
      "Ttest_indResult(statistic=14.908930387648793, pvalue=6.854921212520872e-49)\n",
      "\n",
      "sfp_posts, td_posts, td_posts\n",
      "-26.852372690053905\n",
      "-26.850214512680562\n",
      "1951\n",
      "1837\n",
      "\n",
      "Ttest_indResult(statistic=-0.019282905410679414, pvalue=0.9846164370047593)\n",
      "\n",
      "sfp_posts, td_posts, politics\n",
      "-27.67385084303663\n",
      "-28.424852533043364\n",
      "1951\n",
      "1837\n",
      "\n",
      "Ttest_indResult(statistic=7.009649954624026, pvalue=2.8161855616125214e-12)\n",
      "\n",
      "sfp_politics_before, sfp_politics_after, politics\n",
      "-27.032228239741098\n",
      "-27.12507306604264\n",
      "670\n",
      "670\n",
      "\n",
      "Ttest_relResult(statistic=0.6371175077991658, pvalue=0.5242662640618053)\n",
      "\n",
      "sfp_politics_before, sfp_politics_after, sfp_posts\n",
      "-26.128011110309792\n",
      "-26.158547372726787\n",
      "670\n",
      "670\n",
      "\n",
      "Ttest_relResult(statistic=0.19540119002203749, pvalue=0.8451382158244134)\n",
      "\n",
      "sfp_politics_before, sfp_posts, sfp_posts\n",
      "-26.16834726352325\n",
      "-25.82338514181248\n",
      "858\n",
      "858\n",
      "\n",
      "Ttest_relResult(statistic=-2.2784295953512674, pvalue=0.022946316179763195)\n",
      "\n",
      "sfp_politics_after, sfp_posts, sfp_posts\n",
      "-26.02915209018728\n",
      "-25.895639975894277\n",
      "1087\n",
      "1087\n",
      "\n",
      "Ttest_relResult(statistic=-1.1532551821307433, pvalue=0.24905941724943872)\n",
      "\n",
      "td_politics_before, td_politics_after, politics\n",
      "-27.47834111260892\n",
      "-27.385686608979608\n",
      "418\n",
      "418\n",
      "\n",
      "Ttest_relResult(statistic=-0.5153197216701031, pvalue=0.6066026894999865)\n",
      "\n",
      "td_politics_before, td_politics_after, td_posts\n",
      "-26.793014347853703\n",
      "-26.723529826156447\n",
      "418\n",
      "418\n",
      "\n",
      "Ttest_relResult(statistic=-0.37505993000911003, pvalue=0.7078065797748325)\n",
      "\n",
      "td_politics_before, td_posts, td_posts\n",
      "-26.626728009302447\n",
      "-27.732229541292487\n",
      "749\n",
      "749\n",
      "\n",
      "Ttest_relResult(statistic=6.269117534787953, pvalue=6.133036968132183e-10)\n",
      "\n",
      "td_politics_after, td_posts, td_posts\n",
      "-26.727607482593214\n",
      "-27.752258745653748\n",
      "559\n",
      "559\n",
      "\n",
      "Ttest_relResult(statistic=5.311956819772654, pvalue=1.5692625333557405e-07)\n"
     ]
    }
   ],
   "source": [
    "print(\"sfp_politics_before, td_politics_before, sfp_politics_before\")\n",
    "calculate_values_ind_l(test_arrs_u[0], test_arrs_u[2], language_models5[1].score)\n",
    "\n",
    "print(\"\\nsfp_politics_before, td_politics_before, td_politics_before\")\n",
    "calculate_values_ind_l(test_arrs_u[0], test_arrs_u[2], language_models5[3].score)\n",
    "\n",
    "print(\"\\nsfp_politics_after, td_politics_after, sfp_politics_after\")\n",
    "calculate_values_ind_l(test_arrs_u[1], test_arrs_u[3], language_models5[2].score)\n",
    "\n",
    "print(\"\\nsfp_politics_after, td_politics_after, td_politics_after\")\n",
    "calculate_values_ind_l(test_arrs_u[1], test_arrs_u[3], language_models5[4].score)\n",
    "\n",
    "print(\"\\nsfp_politics_before, td_politics_before, sfp_posts\")\n",
    "calculate_values_ind_l(test_arrs_u[0], test_arrs_u[2], language_models5[5].score)\n",
    "\n",
    "print(\"\\nsfp_politics_before, td_politics_before, td_posts\")\n",
    "calculate_values_ind_l(test_arrs_u[0], test_arrs_u[2], language_models5[6].score)\n",
    "\n",
    "print(\"\\nsfp_politics_after, td_politics_after, sfp_posts\")\n",
    "calculate_values_ind_l(test_arrs_u[1], test_arrs_u[3], language_models5[5].score)\n",
    "\n",
    "print(\"\\nsfp_politics_after, td_politics_after, td_posts\")\n",
    "calculate_values_ind_l(test_arrs_u[1], test_arrs_u[3], language_models5[6].score)\n",
    "\n",
    "print(\"\\nsfp_politics_before, td_politics_before, politics\")\n",
    "calculate_values_ind_l(test_arrs_u[0], test_arrs_u[2], language_models5[0].score)\n",
    "\n",
    "print(\"\\nsfp_politics_after, td_politics_after, politics\")\n",
    "calculate_values_ind_l(test_arrs_u[1], test_arrs_u[3], language_models5[0].score)\n",
    "\n",
    "print(\"\\nsfp_posts, td_posts, sfp_posts\")\n",
    "calculate_values_ind_l(test_arrs_u[4], test_arrs_u[5], language_models5[5].score)\n",
    "\n",
    "print(\"\\nsfp_posts, td_posts, td_posts\")\n",
    "calculate_values_ind_l(test_arrs_u[4], test_arrs_u[5], language_models5[6].score)\n",
    "\n",
    "print(\"\\nsfp_posts, td_posts, politics\")\n",
    "calculate_values_ind_l(test_arrs_u[4], test_arrs_u[5], language_models5[0].score)\n",
    "\n",
    "print(\"\\nsfp_politics_before, sfp_politics_after, politics\")\n",
    "calculate_values_rel_l(test_arrs_u[0], test_arrs_u[1], language_models5[0].score)\n",
    "\n",
    "print(\"\\nsfp_politics_before, sfp_politics_after, sfp_posts\")\n",
    "calculate_values_rel_l(test_arrs_u[0], test_arrs_u[1], language_models5[5].score)\n",
    "\n",
    "print(\"\\nsfp_politics_before, sfp_posts, sfp_posts\")\n",
    "calculate_values_rel_l(test_arrs_u[0], test_arrs_u[4], language_models5[5].score)\n",
    "\n",
    "print(\"\\nsfp_politics_after, sfp_posts, sfp_posts\")\n",
    "calculate_values_rel_l(test_arrs_u[1], test_arrs_u[4], language_models5[5].score)\n",
    "\n",
    "print(\"\\ntd_politics_before, td_politics_after, politics\")\n",
    "calculate_values_rel_l(test_arrs_u[2], test_arrs_u[3], language_models5[0].score)\n",
    "\n",
    "print(\"\\ntd_politics_before, td_politics_after, td_posts\")\n",
    "calculate_values_rel_l(test_arrs_u[2], test_arrs_u[3], language_models5[6].score)\n",
    "\n",
    "print(\"\\ntd_politics_before, td_posts, td_posts\")\n",
    "calculate_values_rel_l(test_arrs_u[2], test_arrs_u[5], language_models5[5].score)\n",
    "\n",
    "print(\"\\ntd_politics_after, td_posts, td_posts\")\n",
    "calculate_values_rel_l(test_arrs_u[3], test_arrs_u[5], language_models5[5].score)"
   ]
  },
  {
   "cell_type": "code",
   "execution_count": null,
   "metadata": {},
   "outputs": [],
   "source": []
  }
 ],
 "metadata": {
  "kernelspec": {
   "display_name": "Python 3",
   "language": "python",
   "name": "python3"
  },
  "language_info": {
   "codemirror_mode": {
    "name": "ipython",
    "version": 3
   },
   "file_extension": ".py",
   "mimetype": "text/x-python",
   "name": "python",
   "nbconvert_exporter": "python",
   "pygments_lexer": "ipython3",
   "version": "3.7.3"
  }
 },
 "nbformat": 4,
 "nbformat_minor": 2
}
