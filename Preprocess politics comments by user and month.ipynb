{
 "cells": [
  {
   "cell_type": "code",
   "execution_count": 6,
   "metadata": {},
   "outputs": [],
   "source": [
    "import json\n",
    "import pickle\n",
    "import re\n",
    "import pandas as pd\n",
    "import numpy as np\n",
    "from scipy.sparse import bsr_matrix, coo_matrix, csr_matrix, lil_matrix, identity\n",
    "from sklearn.feature_extraction.text import CountVectorizer, TfidfVectorizer\n",
    "\n",
    "from datetime import datetime"
   ]
  },
  {
   "cell_type": "code",
   "execution_count": 18,
   "metadata": {},
   "outputs": [],
   "source": [
    "chunk_size = 10 ** 6\n",
    "removed_str = '[removed]'\n",
    "deleted_str = '[deleted]'\n",
    "thankyou_str = 'thank you for participating'"
   ]
  },
  {
   "cell_type": "code",
   "execution_count": 16,
   "metadata": {},
   "outputs": [],
   "source": [
    "comment_auths = []\n",
    "comment_tokens = []\n",
    "comment_timestamps = []"
   ]
  },
  {
   "cell_type": "code",
   "execution_count": 12,
   "metadata": {},
   "outputs": [],
   "source": [
    "months = [datetime(2015, i, 1).timestamp() for i in range(1,13)] + [datetime(2016, i, 1).timestamp() for i in range(1,7)]"
   ]
  },
  {
   "cell_type": "code",
   "execution_count": 14,
   "metadata": {},
   "outputs": [],
   "source": [
    "def remove_bad_comments(chunk, subreddit='politics'):\n",
    "    politics_comments = chunk.loc[chunk['subreddit'] == subreddit]\n",
    "    politics_notna = politics_comments.loc[politics_comments['body'].notna()]\n",
    "    \n",
    "    # Time from January 1 2015 to June 1 2016\n",
    "    politics_time_range = politics_notna.loc[politics_notna['created_utc'] >= 1420131600 ]\n",
    "    politics_time_range = politics_time_range.loc[politics_time_range['created_utc'] < 1464753600]\n",
    "    comments = politics_time_range['body'].values\n",
    "    auths = politics_time_range['author'].values\n",
    "    timestamps = politics_time_range['created_utc'].values\n",
    "    \n",
    "    good_indices = [i for i in range(len(comments)) if comments[i] != deleted_str \n",
    "                    and comments[i] != removed_str\n",
    "                    and 'thank you for participating' not in comments[i].lower()]\n",
    "        \n",
    "    return (list(comments[good_indices]), list(auths[good_indices]), list(timestamps[good_indices]))"
   ]
  },
  {
   "cell_type": "code",
   "execution_count": 15,
   "metadata": {},
   "outputs": [],
   "source": [
    "def tokenize_comments(data):\n",
    "    # remove hyperlinks\n",
    "    data1 = [re.sub(r'https?:\\/\\/[\\S]+', ' ', i, flags=re.MULTILINE) for i in data]\n",
    "    \n",
    "    # common escape sequences\n",
    "    data1 = [re.sub(r'\\n', '', i) for i in data1]\n",
    "    data1 = [re.sub(r'&gt;', '', i) for i in data1]\n",
    "    \n",
    "    # convert to lowercase\n",
    "    data1 = [i.lower() for i in data1]\n",
    "    \n",
    "    # keep user and subreddit tags\n",
    "    data1 = [re.sub(r'/u/', '_user_', i) for i in data1]\n",
    "    data1 = [re.sub(r'/r/', '_subreddit_', i) for i in data1]\n",
    "    \n",
    "    data_tokenized = [re.findall(r'\\w+', i.lower()) for i in data1]\n",
    "    \n",
    "    # remove numbers\n",
    "    data_tokenized = [[token for token in doc if not token.isnumeric()] for doc in data_tokenized]\n",
    "    \n",
    "    return data_tokenized"
   ]
  },
  {
   "cell_type": "code",
   "execution_count": 19,
   "metadata": {},
   "outputs": [
    {
     "name": "stdout",
     "output_type": "stream",
     "text": [
      "1000000\n",
      "2000000\n",
      "3000000\n",
      "4000000\n",
      "5000000\n",
      "6000000\n",
      "7000000\n",
      "8000000\n",
      "9000000\n",
      "10000000\n",
      "11000000\n",
      "12000000\n",
      "13000000\n",
      "14000000\n",
      "15000000\n",
      "16000000\n",
      "17000000\n",
      "18000000\n",
      "19000000\n",
      "20000000\n",
      "21000000\n",
      "22000000\n",
      "23000000\n",
      "24000000\n",
      "25000000\n",
      "26000000\n",
      "27000000\n",
      "28000000\n",
      "29000000\n",
      "30000000\n",
      "31000000\n"
     ]
    }
   ],
   "source": [
    "iter_num = 0\n",
    "\n",
    "for chunk in pd.read_csv(\"../sample_data/politics_auth_comments2.csv\", \n",
    "                         header=None, \n",
    "                         names = ['author', 'subreddit', 'body', 'score', 'created_utc', 'link_id', 'parent_id'],\n",
    "                         usecols = ['author','body', 'subreddit', 'created_utc'],\n",
    "                         index_col = False,\n",
    "                         chunksize = chunk_size\n",
    "                         ):\n",
    "    iter_num += 1\n",
    "    comments, auths, timestamps = remove_bad_comments(chunk)\n",
    "    comment_toks = tokenize_comments(comments)\n",
    "    \n",
    "    comment_auths = comment_auths + auths\n",
    "    comment_tokens = comment_tokens + comment_toks\n",
    "    comment_timestamps = comment_timestamps + timestamps\n",
    "    \n",
    "    print(iter_num * chunk_size)\n",
    "    "
   ]
  },
  {
   "cell_type": "code",
   "execution_count": 21,
   "metadata": {},
   "outputs": [
    {
     "name": "stdout",
     "output_type": "stream",
     "text": [
      "561573\n",
      "561573\n",
      "561573\n",
      "23463031\n"
     ]
    }
   ],
   "source": [
    "print(len(comment_auths))\n",
    "print(len(comment_tokens))\n",
    "print(len(comment_timestamps))\n",
    "print(sum([len(i) for i in comment_tokens]))"
   ]
  },
  {
   "cell_type": "code",
   "execution_count": 22,
   "metadata": {},
   "outputs": [],
   "source": [
    "comment_tokens_by_month = []\n",
    "comment_auths_by_month = []\n",
    "\n",
    "for i in range(17):\n",
    "    idxs = [j for j in range(len(comment_timestamps)) \n",
    "            if comment_timestamps[j] >= months[i] and comment_timestamps[j] < months[i+1] ]\n",
    "    \n",
    "    comment_tokens_by_month.append([comment_tokens[j] for j in idxs])\n",
    "    comment_auths_by_month.append([comment_auths[j] for j in idxs])\n",
    "    "
   ]
  },
  {
   "cell_type": "code",
   "execution_count": 27,
   "metadata": {},
   "outputs": [
    {
     "name": "stdout",
     "output_type": "stream",
     "text": [
      "12885\n",
      "10362\n",
      "13376\n",
      "13967\n",
      "12345\n",
      "14627\n",
      "17254\n",
      "19120\n",
      "20064\n",
      "29191\n",
      "27542\n",
      "32123\n",
      "42738\n",
      "71798\n",
      "88621\n",
      "71175\n",
      "64385\n",
      "\n",
      "12885\n",
      "10362\n",
      "13376\n",
      "13967\n",
      "12345\n",
      "14627\n",
      "17254\n",
      "19120\n",
      "20064\n",
      "29191\n",
      "27542\n",
      "32123\n",
      "42738\n",
      "71798\n",
      "88621\n",
      "71175\n",
      "64385\n"
     ]
    }
   ],
   "source": [
    "for i in range(17):\n",
    "    print(len(comment_tokens_by_month[i]))\n",
    "    \n",
    "print()\n",
    "for i in range(17):\n",
    "    print(len(comment_auths_by_month[i]))"
   ]
  },
  {
   "cell_type": "code",
   "execution_count": 23,
   "metadata": {},
   "outputs": [],
   "source": [
    "for i in range(17):\n",
    "    with open(\"stored_variables/politics_tokens_auth_sample_month\" + str(i) + \".json\", 'w') as f:\n",
    "        json.dump(comment_tokens_by_month[i], f)"
   ]
  },
  {
   "cell_type": "code",
   "execution_count": 24,
   "metadata": {},
   "outputs": [],
   "source": [
    "for i in range(17):\n",
    "    with open(\"stored_variables/auth_sample_r_politics_authors_month\" + str(i) + \".json\", 'w') as f:\n",
    "        json.dump(comment_auths_by_month[i], f)"
   ]
  },
  {
   "cell_type": "code",
   "execution_count": null,
   "metadata": {},
   "outputs": [],
   "source": []
  }
 ],
 "metadata": {
  "kernelspec": {
   "display_name": "Python 3",
   "language": "python",
   "name": "python3"
  },
  "language_info": {
   "codemirror_mode": {
    "name": "ipython",
    "version": 3
   },
   "file_extension": ".py",
   "mimetype": "text/x-python",
   "name": "python",
   "nbconvert_exporter": "python",
   "pygments_lexer": "ipython3",
   "version": "3.7.3"
  }
 },
 "nbformat": 4,
 "nbformat_minor": 2
}
