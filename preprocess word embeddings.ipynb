{
 "cells": [
  {
   "cell_type": "code",
   "execution_count": 2,
   "metadata": {},
   "outputs": [],
   "source": [
    "import nltk\n",
    "import re\n",
    "import pandas as pd\n",
    "import numpy as np\n",
    "import matplotlib.pyplot as plt\n",
    "\n",
    "import json #storing files"
   ]
  },
  {
   "cell_type": "code",
   "execution_count": 3,
   "metadata": {},
   "outputs": [],
   "source": [
    "politics_data = pd.read_csv(\"../sample_data/politics_sample3.csv\", \n",
    "                            header=None, \n",
    "                            names = ['author', 'subreddit', 'body', 'score', 'created_dt', 'link_id', 'parent_id'],\n",
    "                            index_col = False)"
   ]
  },
  {
   "cell_type": "code",
   "execution_count": 4,
   "metadata": {},
   "outputs": [
    {
     "name": "stdout",
     "output_type": "stream",
     "text": [
      "136429\n"
     ]
    }
   ],
   "source": [
    "print(len(set(politics_data.loc[politics_data['body'].notna()]['author'].values)))"
   ]
  },
  {
   "cell_type": "code",
   "execution_count": 4,
   "metadata": {},
   "outputs": [],
   "source": [
    "politics_text = politics_data.loc[politics_data['body'].notna()]['body'].values"
   ]
  },
  {
   "cell_type": "code",
   "execution_count": 4,
   "metadata": {},
   "outputs": [
    {
     "name": "stdout",
     "output_type": "stream",
     "text": [
      "999960\n"
     ]
    }
   ],
   "source": [
    "print(len(politics_text))"
   ]
  },
  {
   "cell_type": "code",
   "execution_count": 5,
   "metadata": {},
   "outputs": [
    {
     "name": "stdout",
     "output_type": "stream",
     "text": [
      "[\"Hi `trueslicky`. Thank you for participating in /r/Politics. However, [your submission](https://www.reddit.com/r/politics/comments/48bvig/trump_security_choke_slams_photographer_at_rally/) has been removed for the following reason(s):\\n\\n* [Not Exact Title](http://www.reddit.com/r/politics/wiki/rulesandregs#wiki_do_not_create_your_own_title) - Your headline must be comprised only of the copied and pasted headline of the article AND/OR a continuous quote taken from the article. If using a quote, it should reflect the article as a whole.\\n\\n    **We recommend not using the Reddit 'suggest a title' as it tends to not give the exact title of the article.**\\n\\n\\n\\nIf you have any questions about this removal, please feel free to [message the moderators.](https://www.reddit.com/message/compose?to=/r/politics&amp;subject=Question regarding the removal of this submission by /u/trueslicky&amp;message=I have a question regarding the removal of this [submission.](https://www.reddit.com/r/politics/comments/48bvig/trump_security_choke_slams_photographer_at_rally/?context=10000\\\\))\", 'Hi `nintendo_boy`. Thank you for participating in /r/Politics. However, [your comment](https://www.reddit.com/r/politics/comments/3qb1wd/hillary_clinton_is_smearing_bernie_sanders_as_a/cwfds3q) has been removed for the following reason(s):\\n\\n* Your comment does not meet our [comment civility rules](https://www.reddit.com/r/politics/wiki/rulesandregs#wiki_please_be_civil).  Please be civil. This is a warning.\\n\\n\\n\\n\\n\\n\\n\\nIf you have any questions about this removal, please feel free to [message the moderators.](https://www.reddit.com/message/compose?to=/r/politics&amp;subject=Question regarding the removal of this comment by /u/nintendo_boy&amp;message=I have a question regarding the removal of this [comment.](https://www.reddit.com/r/politics/comments/3qb1wd/hillary_clinton_is_smearing_bernie_sanders_as_a/cwfds3q?context=10000\\\\))', 'Hi `fobfromgermany`. Thank you for participating in /r/Politics. However, [your comment](https://www.reddit.com/r/politics/comments/3u3qsm/sanders_i_dont_know_where_mr_trump_gets_his/cxc8g7w) has been removed for the following reason(s):\\n\\n* Your comment does not meet our [comment civility rules](https://www.reddit.com/r/politics/wiki/rulesandregs#wiki_please_be_civil).  Please be civil. This is a warning.\\n\\n\\n\\n\\n\\n\\n\\nIf you have any questions about this removal, please feel free to [message the moderators.](https://www.reddit.com/message/compose?to=/r/politics&amp;subject=Question regarding the removal of this comment by /u/fobfromgermany&amp;message=I have a question regarding the removal of this [comment.](https://www.reddit.com/r/politics/comments/3u3qsm/sanders_i_dont_know_where_mr_trump_gets_his/cxc8g7w?context=10000\\\\))', 'Hi `donot_care`. Thank you for participating in /r/Politics. However, [your comment](https://www.reddit.com/r/politics/comments/4dp010/bernie_sanders_on_hillary_clinton_i_dont_believe/d1vcpdu) has been removed for the following reason(s):\\n\\n* Your comment does not meet our [comment civility rules](https://www.reddit.com/r/politics/wiki/rulesandregs#wiki_please_be_civil).  Please be civil. This is a warning.\\n\\n\\n\\n\\n\\n\\n\\nIf you have any questions about this removal, please feel free to [message the moderators.](https://www.reddit.com/message/compose?to=/r/politics&amp;subject=Question regarding the removal of this comment by /u/donot_care&amp;message=I have a question regarding the removal of this [comment.](https://www.reddit.com/r/politics/comments/4dp010/bernie_sanders_on_hillary_clinton_i_dont_believe/d1vcpdu?context=10000\\\\))', 'Hi `CHAD_M_THUNDERCOCK`. Thank you for participating in /r/Politics. However, [your submission](https://www.reddit.com/r/politics/comments/4dzzp3/bernie_sanders_invited_himself_to_the_vatican/) has been removed for the following reason(s):\\n\\n* [Rehosted Content](http://www.reddit.com/r/politics/wiki/rulesandregs#wiki_ensure_that_you_are_using_the_original_source) - \"An article must contain significant analysis and original content--not just a few links of text amongst chunks of copy and pasted material.\" Video links must be from the original source\\'s website, YouTube Channel, or affiliated website.  \\n\\n\\n\\nIf you have any questions about this removal, please feel free to [message the moderators.](https://www.reddit.com/message/compose?to=/r/politics&amp;subject=Question regarding the removal of this submission by /u/CHAD_M_THUNDERCOCK&amp;message=I have a question regarding the removal of this [submission.](https://www.reddit.com/r/politics/comments/4dzzp3/bernie_sanders_invited_himself_to_the_vatican/?context=10000\\\\))', 'Hi daines1. Thank you for participating in /r/Politics. However, [your submission](http://www.reddit.com/r/politics/comments/2uzwey/amnesty_bonuses_in_tax_code_illegal_immigrants_to/) has been removed for the following reason(s):\\n\\n* Already Submitted: This article has already been submitted to /r/politics. \\n\\n\\n\\nIf you have any questions about this removal, please feel free to [message the moderators.](https://www.reddit.com/message/compose?to=/r/politics&amp;subject=Question regarding the removal of this submission by /u/daines1&amp;message=I have a question regarding the removal of this [submission.](http://www.reddit.com/r/politics/comments/2uzwey/amnesty_bonuses_in_tax_code_illegal_immigrants_to/\\\\))', 'Hi `ah_i_see`. Thank you for participating in /r/Politics. However, [your submission](https://www.reddit.com/r/politics/comments/367b51/the_east_india_company_the_original_corporate/) has been removed for the following reason(s):\\n\\n* [Off-Topic](http://www.reddit.com/r/politics/wiki/rulesandregs#wiki_the_.2Fr.2Fpolitics_on_topic_statement): All submissions to /r/politics need to be explicitly about **current US politics**. News articles should be posted to /r/news, /r/misc or /r/inthenews. International politics articles should be posted in /r/worldpolitics. \\n\\n\\n\\nIf you have any questions about this removal, please feel free to [message the moderators.](https://www.reddit.com/message/compose?to=/r/politics&amp;subject=Question regarding the removal of this submission by /u/ah_i_see&amp;message=I have a question regarding the removal of this [submission.](https://www.reddit.com/r/politics/comments/367b51/the_east_india_company_the_original_corporate/\\\\))', 'Hi `Jdleonard`. Thank you for participating in /r/Politics. However, [your comment](https://www.reddit.com/r/politics/comments/45q5mx/proclinton_columnist_in_bed_with_clinton_staffer/d00afi7) has been removed for the following reason(s):\\n\\n* Your comment does not meet our [comment civility rules](https://www.reddit.com/r/politics/wiki/rulesandregs#wiki_please_be_civil).  Please be civil. This is a warning.\\n\\n\\n\\n\\n\\n\\n\\nIf you have any questions about this removal, please feel free to [message the moderators.](https://www.reddit.com/message/compose?to=/r/politics&amp;subject=Question regarding the removal of this comment by /u/Jdleonard&amp;message=I have a question regarding the removal of this [comment.](https://www.reddit.com/r/politics/comments/45q5mx/proclinton_columnist_in_bed_with_clinton_staffer/d00afi7?context=10000\\\\))', 'Hi `magenta_placenta`. Thank you for participating in /r/Politics. However, [your submission](https://www.reddit.com/r/politics/comments/42u3hm/yes_were_corrupt_a_list_of_politicians_admitting/) has been removed for the following reason(s):\\n\\n* [Out of Date](http://www.reddit.com/r/politics/wiki/rulesandregs#wiki_the_.2Fr.2Fpolitics_on_topic_statement): /r/politics is for **current** US political news and information that has been published within the last 31 days. \\n\\n\\n\\nIf you have any questions about this removal, please feel free to [message the moderators.](https://www.reddit.com/message/compose?to=/r/politics&amp;subject=Question regarding the removal of this submission by /u/magenta_placenta&amp;message=I have a question regarding the removal of this [submission.](https://www.reddit.com/r/politics/comments/42u3hm/yes_were_corrupt_a_list_of_politicians_admitting/?context=10000\\\\))', 'Hi `SomeRandomme`. Thank you for participating in /r/Politics. However, [your comment](https://www.reddit.com/r/politics/comments/48xhv9/trump_supporters_are_inoculated_against_the_truth/d0nsxvx) has been removed for the following reason(s):\\n\\n* Your comment does not meet our [comment civility rules](https://www.reddit.com/r/politics/wiki/rulesandregs#wiki_please_be_civil).  Please avoid hate speech. \\n\\n\\n\\n\\n\\n\\n\\nIf you have any questions about this removal, please feel free to [message the moderators.](https://www.reddit.com/message/compose?to=/r/politics&amp;subject=Question regarding the removal of this comment by /u/SomeRandomme&amp;message=I have a question regarding the removal of this [comment.](https://www.reddit.com/r/politics/comments/48xhv9/trump_supporters_are_inoculated_against_the_truth/d0nsxvx?context=10000\\\\))', 'Hi `Howdoyoufear`. Thank you for participating in /r/Politics. However, [your comment](https://www.reddit.com/r/politics/comments/4c6jdl/hillary_clinton_email_probe_enters_final_stages/d1fh3fo) has been removed for the following reason(s):\\n\\n* Your comment does not meet our [comment civility rules](https://www.reddit.com/r/politics/wiki/rulesandregs#wiki_please_be_civil).  Please do not flame or bait other users. This is a warning.\\n\\n\\n\\n\\n\\n\\n\\nIf you have any questions about this removal, please feel free to [message the moderators.](https://www.reddit.com/message/compose?to=/r/politics&amp;subject=Question regarding the removal of this comment by /u/Howdoyoufear&amp;message=I have a question regarding the removal of this [comment.](https://www.reddit.com/r/politics/comments/4c6jdl/hillary_clinton_email_probe_enters_final_stages/d1fh3fo?context=10000\\\\))', 'Hi `spendthatmoney`. Thank you for participating in /r/Politics. However, [your comment](https://www.reddit.com/r/politics/comments/46k6z0/the_1_percent_rigged_everything_why_no_one_can/d0632rr) has been removed for the following reason(s):\\n\\n* Your comment does not meet our [comment civility rules](https://www.reddit.com/r/politics/wiki/rulesandregs#wiki_please_be_civil).  Please be civil. This is a warning.\\n\\n\\n\\n\\n\\n\\n\\nIf you have any questions about this removal, please feel free to [message the moderators.](https://www.reddit.com/message/compose?to=/r/politics&amp;subject=Question regarding the removal of this comment by /u/spendthatmoney&amp;message=I have a question regarding the removal of this [comment.](https://www.reddit.com/r/politics/comments/46k6z0/the_1_percent_rigged_everything_why_no_one_can/d0632rr?context=10000\\\\))', 'Hi `jppwc1p`. Thank you for participating in /r/Politics. However, [your submission](https://www.reddit.com/r/politics/comments/3ylh4u/former_kkk_leader_says_donald_trumps_rhetoric/) has been removed for the following reason(s):\\n\\n* [Rehosted Content](http://www.reddit.com/r/politics/wiki/rulesandregs#wiki_ensure_that_you_are_using_the_original_source) - \"An article must contain significant analysis and original content--not just a few links of text amongst chunks of copy and pasted material.\" Video links must be from the original source\\'s website, YouTube Channel, or affiliated website. Business Insider \\n\\n\\n\\nIf you have any questions about this removal, please feel free to [message the moderators.](https://www.reddit.com/message/compose?to=/r/politics&amp;subject=Question regarding the removal of this submission by /u/jppwc1p&amp;message=I have a question regarding the removal of this [submission.](https://www.reddit.com/r/politics/comments/3ylh4u/former_kkk_leader_says_donald_trumps_rhetoric/?context=10000\\\\))', 'Hi `Theappunderground`. Thank you for participating in /r/Politics. However, [your comment](https://www.reddit.com/r/politics/comments/31g34p/flint_residents_find_state_water_control_hard_to/cq1ymbb) has been removed for the following reason(s):\\n\\n* Your comment does not meet our [comment civility rules](https://www.reddit.com/r/politics/wiki/rulesandregs#wiki_please_be_civil).  Please be civil. This is a warning.\\n\\n\\n\\n\\nIf you have any questions about this removal, please feel free to [message the moderators.](https://www.reddit.com/message/compose?to=/r/politics&amp;subject=Question regarding the removal of this comment by /u/Theappunderground&amp;message=I have a question regarding the removal of this [comment.](https://www.reddit.com/r/politics/comments/31g34p/flint_residents_find_state_water_control_hard_to/cq1ymbb\\\\))', 'Hi `susanai6`. Thank you for participating in /r/Politics. However, [your submission](http://www.reddit.com/r/politics/comments/37ssud/ross_ulbricht_silk_road_founder_sentenced_to_life/) has been removed for the following reason(s):\\n\\n* [Off-Topic](http://www.reddit.com/r/politics/wiki/rulesandregs#wiki_the_.2Fr.2Fpolitics_on_topic_statement): All submissions to /r/politics need to be explicitly about **current US politics**. News articles should be posted to /r/news, /r/misc or /r/inthenews. International politics articles should be posted in /r/worldpolitics. \\n\\n\\n\\nIf you have any questions about this removal, please feel free to [message the moderators.](https://www.reddit.com/message/compose?to=/r/politics&amp;subject=Question regarding the removal of this submission by /u/susanai6&amp;message=I have a question regarding the removal of this [submission.](http://www.reddit.com/r/politics/comments/37ssud/ross_ulbricht_silk_road_founder_sentenced_to_life/\\\\))', 'Hi `Sirisian`. Thank you for participating in /r/Politics. However, [your comment](https://www.reddit.com/r/politics/comments/48gayf/super_tuesday_megathread_3116_go_vote_everybody/d0k3o11) has been removed for the following reason(s):\\n\\n* Your comment does not meet our [comment civility rules](https://www.reddit.com/r/politics/wiki/rulesandregs#wiki_please_be_civil).  Please avoid personal attacks. This is a warning.\\n\\n\\n\\n\\n\\n\\n\\nIf you have any questions about this removal, please feel free to [message the moderators.](https://www.reddit.com/message/compose?to=/r/politics&amp;subject=Question regarding the removal of this comment by /u/Sirisian&amp;message=I have a question regarding the removal of this [comment.](https://www.reddit.com/r/politics/comments/48gayf/super_tuesday_megathread_3116_go_vote_everybody/d0k3o11?context=10000\\\\))', 'Hi `bhuddamonk`. Thank you for participating in /r/Politics. However, [your comment](https://www.reddit.com/r/politics/comments/3felx3/hillary_clinton_gets_less_wall_street_money_than/cto3lge) has been removed for the following reason(s):\\n\\n* Your comment does not meet our [comment civility rules](https://www.reddit.com/r/politics/wiki/rulesandregs#wiki_please_be_civil).  Please be civil. This is a warning.\\n\\n\\n\\n\\nIf you have any questions about this removal, please feel free to [message the moderators.](https://www.reddit.com/message/compose?to=/r/politics&amp;subject=Question regarding the removal of this comment by /u/bhuddamonk&amp;message=I have a question regarding the removal of this [comment.](https://www.reddit.com/r/politics/comments/3felx3/hillary_clinton_gets_less_wall_street_money_than/cto3lge\\\\))', 'Hi `noopept2`. Thank you for participating in /r/Politics. However, [your submission](https://www.reddit.com/r/politics/comments/4kl1rt/berniesanders_i_dont_want_to_see_the_american/) has been removed for the following reason(s):\\n\\n* [Rehosted Content](http://www.reddit.com/r/politics/wiki/rulesandregs#wiki_ensure_that_you_are_using_the_original_source) - \"An article must contain significant analysis and original content--not just a few links of text amongst chunks of copy and pasted material.\" Video links must be from the original source\\'s website, YouTube Channel, or affiliated website.  \\n\\n\\n\\nIf you have any questions about this removal, please feel free to [message the moderators.](https://www.reddit.com/message/compose?to=/r/politics&amp;subject=Question regarding the removal of this submission by /u/noopept2&amp;message=I have a question regarding the removal of this [submission.](https://www.reddit.com/r/politics/comments/4kl1rt/berniesanders_i_dont_want_to_see_the_american/?context=10000\\\\))', 'Hi `DEYoungRepublicans`. Thank you for participating in /r/Politics. However, [your submission](https://www.reddit.com/r/politics/comments/3i8amf/limberbutt_mccubbins_cat_running_for_president/) has been removed for the following reason(s):\\n\\n* [Off-Topic](http://www.reddit.com/r/politics/wiki/rulesandregs#wiki_the_.2Fr.2Fpolitics_on_topic_statement): All submissions to /r/politics need to be explicitly about **current US politics**. News articles should be posted to /r/news, /r/misc or /r/inthenews. International politics articles should be posted in /r/worldpolitics. \\n\\n\\n\\nIf you have any questions about this removal, please feel free to [message the moderators.](https://www.reddit.com/message/compose?to=/r/politics&amp;subject=Question regarding the removal of this submission by /u/DEYoungRepublicans&amp;message=I have a question regarding the removal of this [submission.](https://www.reddit.com/r/politics/comments/3i8amf/limberbutt_mccubbins_cat_running_for_president/\\\\))', 'Hi `WildAnimus`. Thank you for participating in /r/Politics. However, [your submission](https://www.reddit.com/r/politics/comments/45en72/post911_vote_should_not_be_used_as_blank_check_to/) has been removed for the following reason(s):\\n\\n* [Rehosted Content](http://www.reddit.com/r/politics/wiki/rulesandregs#wiki_ensure_that_you_are_using_the_original_source) - \"An article must contain significant analysis and original content--not just a few links of text amongst chunks of copy and pasted material.\" Video links must be from the original source\\'s website, YouTube Channel, or affiliated website.  \\n\\n\\n\\nIf you have any questions about this removal, please feel free to [message the moderators.](https://www.reddit.com/message/compose?to=/r/politics&amp;subject=Question regarding the removal of this submission by /u/WildAnimus&amp;message=I have a question regarding the removal of this [submission.](https://www.reddit.com/r/politics/comments/45en72/post911_vote_should_not_be_used_as_blank_check_to/?context=10000\\\\))']\n"
     ]
    }
   ],
   "source": [
    "# print([i for i in politics_text if 'removal' in i.lower() and 'thank you for participating' not in i.lower()])\n",
    "print([i for i in politics_text if 'thank you for participating' in i.lower()][:20])"
   ]
  },
  {
   "cell_type": "code",
   "execution_count": 6,
   "metadata": {},
   "outputs": [
    {
     "name": "stdout",
     "output_type": "stream",
     "text": [
      "7782\n"
     ]
    }
   ],
   "source": [
    "print(len([i for i in politics_text if 'thank you for participating' in i.lower()]))"
   ]
  },
  {
   "cell_type": "code",
   "execution_count": 7,
   "metadata": {},
   "outputs": [],
   "source": [
    "mod_msg_file = open('ty_for_participating.txt', 'w')\n",
    "mod_msg_file.writelines([i for i in politics_text if 'thank you for participating' in i.lower()])\n",
    "mod_msg_file.close()"
   ]
  },
  {
   "cell_type": "code",
   "execution_count": 6,
   "metadata": {},
   "outputs": [],
   "source": [
    "politics_text1 = [i for i in politics_text if 'thank you for participating' not in i.lower()]"
   ]
  },
  {
   "cell_type": "code",
   "execution_count": 9,
   "metadata": {},
   "outputs": [
    {
     "name": "stdout",
     "output_type": "stream",
     "text": [
      "0\n",
      "Because they didn't distinguish New York Times from New York Times Editorial Board? And the mods removed it? This pisses me off. Does anyone think it would have been removed if it was a Sanders endorsement? \n",
      "1\n",
      "[removed]\n",
      "2\n",
      "Hi `trueslicky`. Thank you for participating in /r/Politics. However, [your submission](https://www.reddit.com/r/politics/comments/48bvig/trump_security_choke_slams_photographer_at_rally/) has been removed for the following reason(s):\n",
      "\n",
      "* [Not Exact Title](http://www.reddit.com/r/politics/wiki/rulesandregs#wiki_do_not_create_your_own_title) - Your headline must be comprised only of the copied and pasted headline of the article AND/OR a continuous quote taken from the article. If using a quote, it should reflect the article as a whole.\n",
      "\n",
      "    **We recommend not using the Reddit 'suggest a title' as it tends to not give the exact title of the article.**\n",
      "\n",
      "\n",
      "\n",
      "If you have any questions about this removal, please feel free to [message the moderators.](https://www.reddit.com/message/compose?to=/r/politics&amp;subject=Question regarding the removal of this submission by /u/trueslicky&amp;message=I have a question regarding the removal of this [submission.](https://www.reddit.com/r/politics/comments/48bvig/trump_security_choke_slams_photographer_at_rally/?context=10000\\))\n",
      "3\n",
      "Hi `nintendo_boy`. Thank you for participating in /r/Politics. However, [your comment](https://www.reddit.com/r/politics/comments/3qb1wd/hillary_clinton_is_smearing_bernie_sanders_as_a/cwfds3q) has been removed for the following reason(s):\n",
      "\n",
      "* Your comment does not meet our [comment civility rules](https://www.reddit.com/r/politics/wiki/rulesandregs#wiki_please_be_civil).  Please be civil. This is a warning.\n",
      "\n",
      "\n",
      "\n",
      "\n",
      "\n",
      "\n",
      "\n",
      "If you have any questions about this removal, please feel free to [message the moderators.](https://www.reddit.com/message/compose?to=/r/politics&amp;subject=Question regarding the removal of this comment by /u/nintendo_boy&amp;message=I have a question regarding the removal of this [comment.](https://www.reddit.com/r/politics/comments/3qb1wd/hillary_clinton_is_smearing_bernie_sanders_as_a/cwfds3q?context=10000\\))\n",
      "4\n",
      "[removed]\n",
      "5\n",
      "[removed]\n",
      "6\n",
      "Hi `fobfromgermany`. Thank you for participating in /r/Politics. However, [your comment](https://www.reddit.com/r/politics/comments/3u3qsm/sanders_i_dont_know_where_mr_trump_gets_his/cxc8g7w) has been removed for the following reason(s):\n",
      "\n",
      "* Your comment does not meet our [comment civility rules](https://www.reddit.com/r/politics/wiki/rulesandregs#wiki_please_be_civil).  Please be civil. This is a warning.\n",
      "\n",
      "\n",
      "\n",
      "\n",
      "\n",
      "\n",
      "\n",
      "If you have any questions about this removal, please feel free to [message the moderators.](https://www.reddit.com/message/compose?to=/r/politics&amp;subject=Question regarding the removal of this comment by /u/fobfromgermany&amp;message=I have a question regarding the removal of this [comment.](https://www.reddit.com/r/politics/comments/3u3qsm/sanders_i_dont_know_where_mr_trump_gets_his/cxc8g7w?context=10000\\))\n",
      "7\n",
      "Hi `donot_care`. Thank you for participating in /r/Politics. However, [your comment](https://www.reddit.com/r/politics/comments/4dp010/bernie_sanders_on_hillary_clinton_i_dont_believe/d1vcpdu) has been removed for the following reason(s):\n",
      "\n",
      "* Your comment does not meet our [comment civility rules](https://www.reddit.com/r/politics/wiki/rulesandregs#wiki_please_be_civil).  Please be civil. This is a warning.\n",
      "\n",
      "\n",
      "\n",
      "\n",
      "\n",
      "\n",
      "\n",
      "If you have any questions about this removal, please feel free to [message the moderators.](https://www.reddit.com/message/compose?to=/r/politics&amp;subject=Question regarding the removal of this comment by /u/donot_care&amp;message=I have a question regarding the removal of this [comment.](https://www.reddit.com/r/politics/comments/4dp010/bernie_sanders_on_hillary_clinton_i_dont_believe/d1vcpdu?context=10000\\))\n",
      "8\n",
      "[removed]\n",
      "9\n",
      "Hi `CHAD_M_THUNDERCOCK`. Thank you for participating in /r/Politics. However, [your submission](https://www.reddit.com/r/politics/comments/4dzzp3/bernie_sanders_invited_himself_to_the_vatican/) has been removed for the following reason(s):\n",
      "\n",
      "* [Rehosted Content](http://www.reddit.com/r/politics/wiki/rulesandregs#wiki_ensure_that_you_are_using_the_original_source) - \"An article must contain significant analysis and original content--not just a few links of text amongst chunks of copy and pasted material.\" Video links must be from the original source's website, YouTube Channel, or affiliated website.  \n",
      "\n",
      "\n",
      "\n",
      "If you have any questions about this removal, please feel free to [message the moderators.](https://www.reddit.com/message/compose?to=/r/politics&amp;subject=Question regarding the removal of this submission by /u/CHAD_M_THUNDERCOCK&amp;message=I have a question regarding the removal of this [submission.](https://www.reddit.com/r/politics/comments/4dzzp3/bernie_sanders_invited_himself_to_the_vatican/?context=10000\\))\n",
      "0\n",
      "[deleted]\n",
      "1\n",
      "[deleted]\n",
      "2\n",
      "[deleted]\n",
      "3\n",
      "[deleted]\n",
      "4\n",
      "[deleted]\n",
      "5\n",
      "[deleted]\n",
      "6\n",
      "[deleted]\n",
      "7\n",
      "[deleted]\n",
      "8\n",
      "[deleted]\n",
      "9\n",
      "[deleted]\n"
     ]
    }
   ],
   "source": [
    "for i in range(10):\n",
    "    print(i)\n",
    "    print([j for j in politics_text if 'removed' in j.lower()][i])\n",
    "\n",
    "for i in range(10):\n",
    "    print(i)\n",
    "    print([j for j in politics_text if 'deleted' in j.lower()][i])\n"
   ]
  },
  {
   "cell_type": "code",
   "execution_count": 7,
   "metadata": {},
   "outputs": [
    {
     "name": "stdout",
     "output_type": "stream",
     "text": [
      "23129\n",
      "54129\n",
      "[\"Because they didn't distinguish New York Times from New York Times Editorial Board? And the mods removed it? This pisses me off. Does anyone think it would have been removed if it was a Sanders endorsement? \", '[removed]', '[removed]', '[removed]', '[removed]', '[removed]', \"Incest I understand having issues with, forcing relations on a non-consenting adult - but why should it be criminal for 3 or more consenting adults to enter into a marriage?  Why is it okay for only 2?  I mean, it's not for me - but just as I wouldn't want to restrict 2 same sex partners from wedding, I don't think it is fair to restrict other *legally consenting* adults.\\n\\nHowever, I do have issues with giving up the civil reigns of marriage when do many civil benefits are dependent on having that status.  Unless those government benefits are removed (such as differential taxation or rights to make medical decisions for a spouse), the government needs to be providing equitable access and certification of marriage.\", '[removed]', '[removed]', '[removed]']\n",
      "['[deleted]', '[deleted]', '[deleted]', '[deleted]', '[deleted]', '[deleted]', '[deleted]', '[deleted]', '[deleted]', '[deleted]']\n",
      "2141\n",
      "[\"Because they didn't distinguish New York Times from New York Times Editorial Board? And the mods removed it? This pisses me off. Does anyone think it would have been removed if it was a Sanders endorsement? \", \"Incest I understand having issues with, forcing relations on a non-consenting adult - but why should it be criminal for 3 or more consenting adults to enter into a marriage?  Why is it okay for only 2?  I mean, it's not for me - but just as I wouldn't want to restrict 2 same sex partners from wedding, I don't think it is fair to restrict other *legally consenting* adults.\\n\\nHowever, I do have issues with giving up the civil reigns of marriage when do many civil benefits are dependent on having that status.  Unless those government benefits are removed (such as differential taxation or rights to make medical decisions for a spouse), the government needs to be providing equitable access and certification of marriage.\", \"Maybe that's why those DNC contribution regulations were removed recently. \", 'If there are credible threats of violence, then should the posts/groups not be removed?', 'Even when they were interupting Bernie, it was mixed. Even in this case, I have to give some minuses to the girl here, gotta give some minuses on both sides.\\n\\nShe called out Hillary on something specifically that hillary said, good and necessary\\nThen Hillary seems to start to try and explain her position or former stance. This is the start of a propor response to the problem.\\n\\nProtester then begins to interupt before hillary even starts explaining the premise. IMO if she had let hillary talk, stick her foot in her mouth or contradict her older self etc... there were no movements to have her removed up until this point.\\n\\nThen Hillary\\'s guys removing the protester, which probably was necessary at this point, as if you can\\'t finish a sentence, you can\\'t have a meaningful dialogue, however, once the protester was escorted out, Hillary had the opportunity to turn the PR positive by actually addressing her past statements, instead she brushed them off, and went \"back to the issues\". Implying not that the protester had a good cause but a bad delivery, but that the protester did not have what she would consider a legitimate issue to bring up, which is a huge terrible move for an aspiring presidential candidate.']\n",
      "1095\n",
      "[\"It's not my understanding that the FBI confirmed the deleted emails were all personal. If you have a source that says otherwise, feel free to provide it.\", \"They're probably already deleted. Their mods are on high alert at the moment. \", \"she's too much of a politician to not have deleted the emails that make her look bad.\\n\\nand yes, I think the FBI can be controlled by the Clinton machine.\", 'Apparently you go to /r/Christianity a lot. 28 total comments in that sub. 1 in /r/Catholicism.\\n\\n0 in /r/atheism or any other atheist-type sub.\\n\\n&gt; I haven\\'t posted anything over there in several months.\\n\\nYou haven\\'t posted anything, but you\\'re sure as hell commenting a lot and just as recent as last month. Remember this comment from August 25th?\\n\\n&gt; It\\'s an amazing how people can take their own ideology and then try to read it into the Bible to give their ideology more authority. They aren\\'t really interesting in understanding the Bible, they are interested using the Bible to advance their own racialist ideology. While they are the most extreme group out there they are hardly the only ones that do this with the Bible.\\n\\nhttps://www.reddit.com/r/Christianity/comments/3ic5ao/redective/cuf5qq2\\n\\nSounds a lot like you\\'re talking about yourself, trying to \"advance their own racialist ideology\". Remember this deleted comment:\\n\\n&gt; Good, Planned Parenthood does the Lord\\'s work by **aborting niggers and degenerates**. \\n&gt; \"Blessed shall he be who takes your little ones, and dashes them against the rock! Psalm 137-9\\n\\nNever heard of an \"atheist\" speak any good of the \"Lord\\'s work\". If only a \"degenerate\" like you were aborted, the world would be a better place.\\n\\n&gt; It doesn\\'t mean I support shooting up a bunch of old ladies in a Bible Study group.\\n\\nAnd what, you think you\\'re a saint because you don\\'t condone murder? ', 'You\\'re [wrong on the facts.](https://en.wikipedia.org/wiki/Bush_White_House_email_controversy)\\n\\n&gt; No, it\\'s because there is no evidence that anyone in the past tried to avoid FIOA requests so extensively.\\n\\nThere is evidence of exactly that.  One message that wasn\\'t destroyed by the RNC was from White House deputy Jennifer Farley to Jack Abramoff telling him to not use the official White House system \"because it might actually limit what they can do to help us, especially since there could be lawsuits, etc.\"  There\\'s evidence that 88 White House officials had private RNC email accounts and zero messages were recovered for 51 of them.. That\\'s pretty \\'extensive\\'.\\n \\n&gt; Not only did she intentionally avoid subjecting tens of thousands of emails to FIOA requests, she deleted them afterwards and even feigned having no idea about this.\\n \\nThe RNC did the exact same thing, deleting e-mails from the above mentioned accounts in violations of the Hatch Act, and the Presidential Records Act, and while Congress was investigating the U.S. Attorney, firing scandal.\\n\\n&gt; You can\\'t even compare this to Powell because his was done on a significantly smaller scale.\\n\\nYou know this how?  The number of e-mail sent to, or by those servers is unknown, but we do know that 22 Million e-mails from the Bush White House email system were lost, and subsequently recovered after he left office, so the number of messages from Powell, Rice, et al could be very large indeed. \\n \\n&gt; She even knew she had been hacked and tried to hide the evidence instead of reporting it.\\n\\nHillary surrendered her e-mail server for investigation.  The RNC and Bush-Cheney never turned over their servers.  The probability that they were hacked is extremely high, particularly since their were three separate servers.\\n\\nThis is attracting lots of downvotes, but no-one has presented a case for why the Republican choice of \\'option 3\\' (above) is reasonable.  Go after everyone who used private email servers or decide to get touch going forward.  Option 3 -- selective prosecution for political purposes is more becoming of a third world  dictatorship, than the United States.']\n"
     ]
    }
   ],
   "source": [
    "print(len([i for i in politics_text if 'removed' in i.lower()]))\n",
    "print(len([i for i in politics_text if 'deleted' in i.lower()]))\n",
    "removed_str = [i for i in politics_text if 'removed' in i.lower()][1]\n",
    "print([i for i in politics_text1 if 'removed' in i.lower()][:10])\n",
    "print([i for i in politics_text if 'deleted' in i.lower()][:10])\n",
    "deleted_str = [i for i in politics_text if 'deleted' in i.lower()][0]\n",
    "print(len([i for i in politics_text1 if 'removed' in i.lower() and i.lower() != removed_str]))\n",
    "print([i for i in politics_text1 if 'removed' in i.lower() and i.lower() != removed_str][:5])\n",
    "print(len([i for i in politics_text if 'deleted' in i.lower() and i.lower() != deleted_str]))\n",
    "print([i for i in politics_text1 if 'deleted' in i.lower() and i.lower() != deleted_str][:5])"
   ]
  },
  {
   "cell_type": "code",
   "execution_count": 11,
   "metadata": {},
   "outputs": [],
   "source": [
    "politics_text1 = [i for i in politics_text1 if i != deleted_str and i != removed_str]"
   ]
  },
  {
   "cell_type": "code",
   "execution_count": 12,
   "metadata": {
    "scrolled": true
   },
   "outputs": [
    {
     "name": "stdout",
     "output_type": "stream",
     "text": [
      "9842\n",
      "['If that\\'s true then Obama and half the democratic members of congress are \"neocon\\'s\" too.  The (admittedly sad) truth is that the policies we\\'re talking about are overwhelmingly supported by the US political community.  They can only be called \"centrist\" by anyone sane (which rules out /r/politics of course).\\n\\nThat doesn\\'t mean you have to support them, or that Sanders isn\\'t right (frankly this is one spot where I\\'m on his side).  But spinning this as if Hillary is way out of the democratic mainstream isn\\'t correct or helpful.', \"Its like /r/shittyaskhistory and /r/shittyamericangovernment in here\\n\\nEP was a war time measure against states in rebellion. It didn't legally free the slaves, it confiscated property which is why it didn't apply to the states that weren't in rebellion. Lincoln fought hard to get the 13th amendment passed, spending much political capital to do so. Why people try to revise this part of history is beyond me. \", '/r/NotTheOnion', 'The Hillary subreddit is /r/PoliticalDiscussion \\n\\nThis is the Sanders subreddit', '/r/youmustbenewhere ', 'aka, all the trump supporters on /r/politics.', \"That mayor? A Democrat.\\n\\nGood job, /r/politics. All of those angry comments at those *super evil* Republicans, and it turns out it's the Democrats that are the problem. \\n\\nGood job, /r/politics, your blind allegiance to a political party is quite impressive. \\n\\nI GUARANTEE I'm now going to get angry rants about how the Democrats totally aren't at fault for the Flint Water Crisis even though their mayor is massively corrupt and the initiative to improve the water supply was spearheaded by corrupt Democrats, it's totally those *super super evil Republicans* faults!!! \", \"&gt;with people of color accounting for a far greater share than national demographics would suggest\\n\\nIf one didn't bother to look at [actual crime statistics](https://www.fbi.gov/about-us/cjis/ucr/crime-in-the-u.s/2014/crime-in-the-u.s.-2014/tables/table-43), one might blindly assume this is entirely because the criminal system was *racist* towards non-whites.  One thing of note on the FBI page, hispanics are grouped with whites.  For instance, when looking at murder and nonnegligent homicide, it's shown as;\\n\\n* 51.3% black\\n* 46.3% white\\n* 2.4% asian/indian/pacific islander\\n\\nHowever, and the FBI started doing this in 2013, it actually breaks down hispanic/non-hispanic (you have to scroll to the right.)  Using the same crime, we see;\\n\\n* 78.4% non-hispanic\\n* 21.6% hispanic\\n\\nNow, what we do is subtract black/asian/indian/pacific islander from the non-hispanic portion.  Why?  Because in the 2010 census, those groups accounted for 2% of hispanics (statistically irrelevant.)\\n\\n* 78.4 (non-hispanic)\\n* - 51.3 (black)\\n* - 1.0 (asian)\\n* - 1.3 (indian)\\n* - 0.1 (pacific islander) \\n* = 24.7 (white non-hispanic.)\\n\\nNow, we get the true stats for murder and nonnegligent homicide;\\n\\n* 51.3% black\\n* 24.7% white (non-hispanic)\\n* 21.6% hispanic\\n* 2.4% asian/indian/pacific islander\\n\\nAnd for reference, [demographics of the United States](https://www.census.gov/quickfacts/table/PST045215/00);\\n\\n* 62.1% white (non-hispanic)\\n* 17.4% hispanic\\n* 13.2% black\\n* 6.8% asian/indian/pacific islander\\n\\nAnd you can do this for every listed crime.  You can even compare the different groups using *rate per 100,000* which [this chart](http://imgur.com/Pwqmu3n) happens to do.  Side note; I've actually had an account banned from /r/news for posting this exact information.\", \"If there is one thing that Trump and /r/the_donald will do, it is destroy Hillary.\\n\\nYou don't have to donate anything. You don't have to upvote anything. Just sit back and enjoy the destruction. We will deliver.\", 'My bet is that /r/politics sides with Bernie on this one. This sub has been upset with Obama since the introduction of TPP. I even saw someone saying that Obama is basically a Republican now.', \"omg who is this bernie guy I've never heard of him before especially on /r/politics \\n\\ni hope other people like him too so we can all go circle jerking together like best mates\", '[/u/TravelFarWestward sums it up perfectly](https://www.reddit.com/r/politics/comments/3rs2ac/ben_carson_admits_fabricating_west_point/cwqw39f)', \"You know the caricature right wing makes of liberals being un-American and trying to give up US sovereignty? \\n\\nThese Bernsters are that caricature IRL. \\n\\nThey make /r/The_Donald 's perspective of liberals and their memes turn true. \\n\\nIt's just incredible. \", 'Yeah, this thread is clearly being dominated by people who haven\\'t watched the NBA this season and are just riding on the \"LOL BUCKS SUCK\" train cause it was funny a couple years ago. I guess that\\'s what happens when /r/politics tries to have a sports discussion.', \"Listen /r/politics, I don't wanna unsubscribe you. But if you keep upvoting dumb shit that presidential candidate non-starters say to my front page then I'm gonna have to.\", 'In fairness, CNN dot com has been the frontpage of the Hillary campaign for a long time now...and I think they get more clicks than /r/politics... \\n\\n\\nThis is actually legit news of one candidate accusing the other of circumventing the maximum donation allowed rules. If that is biased news...then the fact that the Clinton News Network NOT reporting it is just as bad, if not worse. ', 'Jesus is /r/politics even *trying* to be unbiased anymore? ', 'Did you get lost on the way to /r/circlejerk?', \"True, I guess that's why every Democratic presidential candidate gets investigated by the FBI during the primaries for blatant, constant disregard for security protocols.\\n\\nYou may also like these two [posts](https://www.reddit.com/r/politics/comments/4jj36j/dem_strategist_clinton_cant_sidestep_controversies/d37044c).\", '&gt; 50% shitposting\\n\\nOnly 50% shitposting, you say? I mean, if you asked every single subscriber /r/the_donald they would tell you 100% of it is shitposting.']\n",
      "1999\n",
      "[\"Nobody listens to /u/DJ_Velveteen, sounds like s/he is a freedom-hating socialist. You can't accuse Blackwater mercenaries of pouring water down prisoner's windpipes when they merely spill them in air. Who knew gravity could have push them down someone's throat. \", '[/u/TravelFarWestward sums it up perfectly](https://www.reddit.com/r/politics/comments/3rs2ac/ben_carson_admits_fabricating_west_point/cwqw39f)', \"I feel you're on the right track, but don't get to the right answer. As /u/kurtless correctly noted, prohibition *does not work*. Drug abuse should be treated as a *health* problem, not a criminal one.\", '/u/timtom45 is talking about abortion.  Pro lifers like him believe that there is currently an undergoing Holocaust caused by birth control and legal abortions.  ', 'Please stay on topic if you want any chance at discussion, the above comment has nothing to do with your original statement, which is what /u/Thadster and i replied to.\\n\\n&gt;And democracy means we shouldnt rely on rich benefactors to maintain the needs of society. Thats feudalism.\\n\\nYour Heads spinning cause you have ADD.\\n', \"If you're in a position where you have to pin all your hopes on the other guy getting indicted, then your candidate is losing. Badly. \\n\\nTo borrow from /u/AndreKnickatina:\\n\\n&gt;At this point for Bernie to be the nominee Hillary would have to be indicted for killing Vince Foster at Benghazi with an email server, and Joe Biden would have to have a stroke upon hearing this news, causing the car he was driving in with John Kerry to veer off a cliff.\", \"Really, in all honesty, why isn't it?  I personally don't give a crap that any of them bolstered their war chest with lobbyist money when those lobbyists represent the will of that politician's constituents.  The issue that /u/thistlefink is talking about is the cognitive dissonance of Sanders supporters - perfectly willing to overlook Bernie's shortcomings in regards to working with lobbyists while at the same time calling for Clinton to burn at the stake for working with lobbyists.\", 'You and /u/Fuck_the_admins are dead on. ', 'I don\\'t usually like being this blunt, but you are completely wrong. The Constitution is built heavily on the foundations of the enlightenment, and particularly the idea of natural rights, that is, rights that a person always has. Most americans are most familiar with this in the context of \\'life, liberty, and the pursuit of happiness,\" but it refers to a slew of other rights that were perceived as a given. The role of the bill of rights is to turn these unspoken, but assumed rights into explicit ones. /u/KaseyKasm is right about how the founders were careful in their wording to assure these rights are natural and not granted by the government.   \\n\\nEDIT: the reason to make these rights explicit is to prevent the government from interfering with these rights on the basis that they are not explicitly stated. If we assume that the right to have a gun is naturally ordained by virtue of being a human, this does not stop someone from legally preventing a person from owning a firearm. The Bill of rights gives legal protection to natural rights. ', 'Bernie Sanders or Tom Brady? /u/vermontypython', \"&gt; No it's not theft. Theft requires actual loss of property. The only thing that is lost is a digital copy. \\n\\nSo by that logic, pirating software isn't theft?  After all, its just bits that can be copied an infinite number of times.  Should *anything* digital should be free?  \\n\\nNo, that's silly.  The theft isn't of the bits themselves, its the intellectual property behind it.  As someone who writes software for a living, I see first hand just how much time, energy and money is committed to developing an intangible product (software, which is just ones and zeros - a digital product).  I've got to recoup my costs somehow.  If people are downloading pirated copies of my software, I never see that revenue.  Granted, the argument could be made that someone who pirates software probably wouldn't have bought it in the first place, but that's besides the point).  The same can be said of television, movies and music.\\n\\n&gt;  Ostensibly /u/Obiwontaun has already paid for the property by having paid subscriptions to Netflix and Hulu.\\n\\nNot at all.  /u/Obiwontaun didn't pay for the property - netflix and hulu did.  Obiwontaun paid a subscription fee to netflix/hulu.  What he/she bought was the ability for him/her to access content in the providers respective libraries.  It doesn't give them license to acquire the content elsewhere, for free.  Keeping with the library example: For the sake of argument, say you pay a membership fee to be a part of the local library.  Does the fact that my local library has a copy of Harry Potter that they let me read at my leisure give me license to steal a copy of it off the back of a truck?  Keep in mind, we are not talking about the medium (bound paper), we are talking about the intellectual property written on it.\\n\\n&gt; Math, making the finite infinite since at least 0.\\nSomeone needs to make a think geek tee-shirt out of this, I got a good chuckle out of it.  (I don't mean that as sarcasm).\", 'Are you /u/dcampa93? No? Then the fine print also excludes you since I referred to them directly.\\n\\nNice try though!', \"Those numbers are 100% horseshit.  [Here is the source referenced in your picture](\\nhttps://www.clintonfoundation.org/sites/default/files/clinton_foundation_report_public_2014.pdf) and the actual data doesn't match what is listed here.  It isn't even close.\\n\\nCheck your sources people.\\n\\n[Here is a more digestible view of the relevant info.](https://www.clintonfoundation.org/sites/default/files/2015_ar_financials.pdf)\\n\\nEDIT: [charitywatch gives the Clinton Foundation an A rating with 88% of the proceeds going to programs and 12% overhead.](https://www.charitywatch.org/ratings-and-metrics/bill-hillary-chelsea-clinton-foundation/478)\\n\\nEDIT2: The fact that whoever created this linked an actual source yet still used entirely made up numbers suggests not only that they are deliberately lying but that they believe their audience is too stupid or lazy to do even rudimentary fact checking.  If this is you /u/Singularidox then shame on you.  If on the other hand you are reposting this from another source you should be questioning everything they have ever told you.\", \"People, don't downvote. His/Her opinion is perfectly valid. Comment if you have something to say. Don't just suppress what /u/inb4ElonMusk said.\", 'I just want to point out that /u/Cyloptichorn has made like 5 pages worth of comments trying to steer people away from making conclusions on this investigation in just the past 48 hours.', \"Here, you need this: http://www.amazon.com/gp/product/B000HAOEOG\\n\\nI'm sure your shoe is quite scuffed after burying it so far up /u/Beer_Is_Food's ass.\", '/u/Anal_Vacuum is now my favorite Trump Supporter.', \"A less written stat that /u/stillnotking also mentioned was that while only 9% approve of congress, around 40-50% approve of their personal representative. That's why we don't see the massive turnover everyone expects.\", \"&gt;Only in r/politics[1] can you be at -7 for asking someone to clarify a term used in the article\\n\\nwell, /u/hansjens47 said that we don't have a partisan downvoting problem in this sub when i pointed out that we do a couple meta threads ago. that -7 is clearly just our imagination and not a problem with /r/politics. /s\", '/u/gallowboob \\n\\nFTFY ']\n"
     ]
    }
   ],
   "source": [
    "print(len([i for i in politics_text1 if '/r/' in i]))\n",
    "print([i for i in politics_text1 if '/r/' in i][:20])\n",
    "print(len([i for i in politics_text1 if '/u/' in i]))\n",
    "print([i for i in politics_text1 if '/u/' in i][:20])"
   ]
  },
  {
   "cell_type": "code",
   "execution_count": 13,
   "metadata": {},
   "outputs": [],
   "source": [
    "politics_text1 = [re.sub(r'https?:\\/\\/[\\S]+', ' ', i, flags=re.MULTILINE) for i in politics_text1]"
   ]
  },
  {
   "cell_type": "code",
   "execution_count": 14,
   "metadata": {},
   "outputs": [
    {
     "name": "stdout",
     "output_type": "stream",
     "text": [
      "[\"&gt; (assuming that gas is taxed by the price not he unit).\\n\\nIirc it is taxed as a flat amount per gallon and it hasn't increased for a long time.\", \"Doesn't mean he shouldn't run. And might I point out that Obama was a black senator from Chicago, when everyone was gearing up for the first female president. \\n\\nBut that doesn't mean I think Sanders can win. But, just saying. \", \"This is what gets me about the Benghazi...first off as someone who is familiar with the different levels of chain of command Hillary Clinton really wouldn't have any say on the ground operations staff. That is many pay grades below that position. Secondly occassionally bad shit is going happen and 4 brave americans died. Its tragic, but its not her fault.\\n\\nAnd I don't even like the lady and hope she doesn't become president.\\n\\nNow the emails, she fucked up there.\", \"It's ok, no one is saying that we need background checks for stamps :)\\n\\nAnd I think we all agree there should be background checks on all gun sales, whether the seller is a dealer or not.\", '&gt;   And if the recipient (and possibly the sender too) didn\\'t recognize that \"government spy satellites\" was a sure-fire tipoff that this was SI//TK intel, then they wouldn\\'t know that they had just received unmarked, classified material.\\n\\n Clinton did not transmit the sensitive information herself, they said, and **nothing in the emails she received makes clear reference to communications intercepts, confidential intelligence methods or any other form of sensitive sourcing.**\\n\\n  \\n\\n', \"I don't think Clinton has a 'deserved spot in the sun', I legit think she is a better candidate.\\n\\nI don't think Bernie is good with prioritizing problems, and he has zero foreign policy experience. Trump would be even worse with foreign policy.......\\n\\nHRC is seriously, the most qualified candidate out there....\\n\\nNot Cruz, Rubio, Trump, Sanders.\\n\\n\", 'With media monopolization statistics lose meaning.\\n\\nThat being said point taken. Descent is not the point.', \"Anything where the US has a comparative advantage.  High-human capital, high wage jobs, generally.  Jobs requiring infrastructure only available in the US.\\n\\nIt might even be manufacturing.  Median wages have tripled(!!!) in China over the last ten years and the cost of manufacturing there has skyrocketed.  Many manufacturing jobs may be returning to the fold as it's cheaper to make in-house than to out-source and then ship to the US.  But given wages in the US are also constantly on the rise it's hard to tell.\\n\\nYou'd have to look at a detailed breakdown of the jobs by sector over time to see what sort of jobs people are working now, and how that differs from history.\", 'It is pretty hard to resist with certain people. [e.g. Trump]\\n\\nThere is a threshold where its just too hard not to react to the insane shit these people say.', \"Re: felony --&gt; yea, even if the intel leak caused harm I'm cool with it as long as it was just negligence. I don't think it will happen again, and I happen to think she's the best presidential candidate we've got.\\n\\nRe: Irgun --&gt; I mean, Irgun committed acts of terrorism. Hard to condone that.\"]\n",
      "[\"&gt; (assuming that gas is taxed by the price not he unit).Iirc it is taxed as a flat amount per gallon and it hasn't increased for a long time.\", \"Doesn't mean he shouldn't run. And might I point out that Obama was a black senator from Chicago, when everyone was gearing up for the first female president. But that doesn't mean I think Sanders can win. But, just saying. \", \"This is what gets me about the Benghazi...first off as someone who is familiar with the different levels of chain of command Hillary Clinton really wouldn't have any say on the ground operations staff. That is many pay grades below that position. Secondly occassionally bad shit is going happen and 4 brave americans died. Its tragic, but its not her fault.And I don't even like the lady and hope she doesn't become president.Now the emails, she fucked up there.\", \"It's ok, no one is saying that we need background checks for stamps :)And I think we all agree there should be background checks on all gun sales, whether the seller is a dealer or not.\", '&gt;   And if the recipient (and possibly the sender too) didn\\'t recognize that \"government spy satellites\" was a sure-fire tipoff that this was SI//TK intel, then they wouldn\\'t know that they had just received unmarked, classified material. Clinton did not transmit the sensitive information herself, they said, and **nothing in the emails she received makes clear reference to communications intercepts, confidential intelligence methods or any other form of sensitive sourcing.**  ', \"I don't think Clinton has a 'deserved spot in the sun', I legit think she is a better candidate.I don't think Bernie is good with prioritizing problems, and he has zero foreign policy experience. Trump would be even worse with foreign policy.......HRC is seriously, the most qualified candidate out there....Not Cruz, Rubio, Trump, Sanders.\", 'With media monopolization statistics lose meaning.That being said point taken. Descent is not the point.', \"Anything where the US has a comparative advantage.  High-human capital, high wage jobs, generally.  Jobs requiring infrastructure only available in the US.It might even be manufacturing.  Median wages have tripled(!!!) in China over the last ten years and the cost of manufacturing there has skyrocketed.  Many manufacturing jobs may be returning to the fold as it's cheaper to make in-house than to out-source and then ship to the US.  But given wages in the US are also constantly on the rise it's hard to tell.You'd have to look at a detailed breakdown of the jobs by sector over time to see what sort of jobs people are working now, and how that differs from history.\", 'It is pretty hard to resist with certain people. [e.g. Trump]There is a threshold where its just too hard not to react to the insane shit these people say.', \"Re: felony --&gt; yea, even if the intel leak caused harm I'm cool with it as long as it was just negligence. I don't think it will happen again, and I happen to think she's the best presidential candidate we've got.Re: Irgun --&gt; I mean, Irgun committed acts of terrorism. Hard to condone that.\"]\n",
      "[\" (assuming that gas is taxed by the price not he unit).\\n\\nIirc it is taxed as a flat amount per gallon and it hasn't increased for a long time.\", '   And if the recipient (and possibly the sender too) didn\\'t recognize that \"government spy satellites\" was a sure-fire tipoff that this was SI//TK intel, then they wouldn\\'t know that they had just received unmarked, classified material.\\n\\n Clinton did not transmit the sensitive information herself, they said, and **nothing in the emails she received makes clear reference to communications intercepts, confidential intelligence methods or any other form of sensitive sourcing.**\\n\\n  \\n\\n', \"Re: felony -- yea, even if the intel leak caused harm I'm cool with it as long as it was just negligence. I don't think it will happen again, and I happen to think she's the best presidential candidate we've got.\\n\\nRe: Irgun -- I mean, Irgun committed acts of terrorism. Hard to condone that.\", \"The exact nature of these senators’ affiliations was not revealed\\n\\nThis is the key point in all of this as far as I'm concerned.  Unless they knowingly donated money/gifts to the KKK, knowingly received money/gifts from the KKK, or are themselves actually card carrying members, I don't care.  \", \" There is a difference between public and private property.\\n\\nCriminals ignore public gun free zones but respect private gun free zones.\\n\\nI mean putting aside the right to make private property a gun-free area, if gun-free zones are truly such bad policy you'd think folks like Trump who want to get rid of them wouldn't even have them in the first place.\", \"Sanders has won 2 out of 17 states when the white population goes below 75%. He's won 9 out 12 when it's = 75%\", \" driving you to off to Scandinavia\\n\\nI've been to Scandinavia, Scandinavia's nice.\", ' 30-40 years in politics fraught with controversy, and rapidly \"evolving\" stances.\\n\\nI agree with the majority of your post. I do think Trump\\'s popularity is a result of his \"authentic\" personality. Conservatives cannot win on issues, and therefore run on a big persona. That\\'s fine. However, I do think Clinton\\'s \"scandalous\" political career is overplayed and over-analyzed by pro-Bernie and pro-Trump Redditors. Aside from the email thing, she\\'s really not been any worse than your run-of-the-mill politician. No is going to the same levels of scrutiny on most other establishment politicians.\\n\\nThe DNC is beholden to its voters at the end of the day, and they\\'re telling us Hillary is more electable not because of shady backroom dealings, but because it\\'s what they honestly believe (whether or not that\\'s unfounded). Both parties just want to win.\\nAnd ultimately though Hillary may not have consistent values, she votes consistently. Nobody is realistically scared that Hillary will pull the rug out and become a super conservative president. She doesn\\'t change her mind at random, she changes it to follow the leftist trend. She\\'ll be a continuation of Obama. And I\\'d rather have that than have a 3rd grade demagogue in the White House.', ' Well first of all\\n\\n\\\\Lists one point total', \"Taxpayers subsidize Walmart employees 6.2 billion dollars a year because they refuse to pay their employees a livable wage.\\n\\nIf you think that's bad, think about how much taxpayers are paying to subsidize people who Walmart won't even offer a job in the first place!\"]\n"
     ]
    }
   ],
   "source": [
    "print([i for i in politics_text1 if '\\n' in i][:10])\n",
    "print([re.sub(r'\\n', '', i) for i in politics_text1 if '\\n' in i][:10])\n",
    "print([re.sub(r'&gt;', '', i) for i in politics_text1 if '&gt;' in i][:10])"
   ]
  },
  {
   "cell_type": "code",
   "execution_count": 15,
   "metadata": {},
   "outputs": [],
   "source": [
    "politics_text1 = [re.sub(r'\\n', '', i) for i in politics_text1]\n",
    "politics_text1 = [re.sub(r'&gt;', '', i) for i in politics_text1]"
   ]
  },
  {
   "cell_type": "code",
   "execution_count": 16,
   "metadata": {
    "scrolled": false
   },
   "outputs": [
    {
     "name": "stdout",
     "output_type": "stream",
     "text": [
      "[(['well', 'he', 'did', 'stab', 'a', 'guy', 'you', 'know'], ['well', 'he', 'did', 'stab', 'a', 'guy', ',', 'you', 'know', '.']), (['but', 'they', 're', 'probably', 'our', 'best', 'friends', 'out', 'of', 'any', 'of', 'them', 'no'], ['but', 'they', \"'re\", 'probably', 'our', 'best', 'friends', 'out', 'of', 'any', 'of', 'them', ',', 'no', '?']), (['it', 'sounds', 'like', 'they', 'were', 'funneling', 'money', 'into', 'the', 'county', 'democratic', 'party', 'apparatus', 'and', 'then', 'routing', 'it', 'back', 'to', 'democratic', 'candidates', 'through', 'various', 'means', 'isn', 't', 'this', 'the', 'same', 'scam', 'hillary', 'and', 'the', 'dnc', 'are', 'pulling', 'except', 'with', 'state', 'democratic', 'parties'], ['it', 'sounds', 'like', 'they', 'were', 'funneling', 'money', 'into', 'the', 'county', 'democratic', 'party', 'apparatus', 'and', 'then', 'routing', 'it', 'back', 'to', 'democratic', 'candidates', 'through', 'various', 'means', '...', 'is', \"n't\", 'this', 'the', 'same', 'scam', 'hillary', 'and', 'the', 'dnc', 'are', 'pulling', ',', 'except', 'with', 'state', 'democratic', 'parties', '?']), (['r', 'fellowkids'], ['r/fellowkids']), (['for', 'all', 'the', 'shit', 'i', 've', 'given', 'him', 'obama', 'is', 'a', 'hell', 'of', 'a', 'speaker', 'it', 's', 'going', 'to', 'be', 'weird', 'to', 'see', 'him', 'go'], ['for', 'all', 'the', 'shit', 'i', \"'ve\", 'given', 'him', ',', 'obama', 'is', 'a', 'hell', 'of', 'a', 'speaker', '.', 'it', \"'s\", 'going', 'to', 'be', 'weird', 'to', 'see', 'him', 'go', '.']), (['its', 'over'], ['its', 'over']), (['because', 'they', 'didn', 't', 'distinguish', 'new', 'york', 'times', 'from', 'new', 'york', 'times', 'editorial', 'board', 'and', 'the', 'mods', 'removed', 'it', 'this', 'pisses', 'me', 'off', 'does', 'anyone', 'think', 'it', 'would', 'have', 'been', 'removed', 'if', 'it', 'was', 'a', 'sanders', 'endorsement'], ['because', 'they', 'did', \"n't\", 'distinguish', 'new', 'york', 'times', 'from', 'new', 'york', 'times', 'editorial', 'board', '?', 'and', 'the', 'mods', 'removed', 'it', '?', 'this', 'pisses', 'me', 'off', '.', 'does', 'anyone', 'think', 'it', 'would', 'have', 'been', 'removed', 'if', 'it', 'was', 'a', 'sanders', 'endorsement', '?']), (['keep', 'telling', 'yourself', 'that'], ['keep', 'telling', 'yourself', 'that']), (['assuming', 'that', 'gas', 'is', 'taxed', 'by', 'the', 'price', 'not', 'he', 'unit', 'iirc', 'it', 'is', 'taxed', 'as', 'a', 'flat', 'amount', 'per', 'gallon', 'and', 'it', 'hasn', 't', 'increased', 'for', 'a', 'long', 'time'], ['(', 'assuming', 'that', 'gas', 'is', 'taxed', 'by', 'the', 'price', 'not', 'he', 'unit', ')', '.iirc', 'it', 'is', 'taxed', 'as', 'a', 'flat', 'amount', 'per', 'gallon', 'and', 'it', 'has', \"n't\", 'increased', 'for', 'a', 'long', 'time', '.']), (['i', 'do', 'it', 'anyway', 'but', 'i', 'didn', 't', 'know', 'it', 'was', 'an', 'actual', 'law', 'in', 'virginia', 'i', 'live', 'and', 'do', 'most', 'of', 'my', 'driving', 'in', 'va', 'i', 'thought', 'it', 'was', 'just', 'common', 'courtesy'], ['i', 'do', 'it', 'anyway', ',', 'but', 'i', 'did', \"n't\", 'know', 'it', 'was', 'an', 'actual', 'law', 'in', 'virginia', '(', 'i', 'live', 'and', 'do', 'most', 'of', 'my', 'driving', 'in', 'va', ')', '.', 'i', 'thought', 'it', 'was', 'just', 'common', 'courtesy', '.']), (['uh', 'no', 'accounting', 'for', 'negative', 'externalities', 'and', 'harm', 'to', 'public', 'commons', 'is', 'a', 'relatively', 'recent', 'phenomenon', 'classic', 'protectionism', 'has', 'nothing', 'to', 'to', 'with', 'environmental', 'protection', 'trade', 'tariffs', 'both', 'historically', 'and', 'in', 'practice', 'today', 'aren', 't', 'a', 'form', 'of', 'targeted', 'environmental', 'protection', 'it', 's', 'an', 'ad', 'hoc', 'argument', 'made', 'by', 'protectionists', 'to', 'defend', 'the', 'indefensible'], ['uh', ',', 'no', '.', 'accounting', 'for', 'negative', 'externalities', 'and', 'harm', 'to', 'public', 'commons', 'is', 'a', 'relatively', 'recent', 'phenomenon', '.', '``', 'classic', \"''\", 'protectionism', 'has', 'nothing', 'to', 'to', 'with', 'environmental', 'protection', '.', 'trade', 'tariffs', ',', 'both', 'historically', 'and', 'in', 'practice', 'today', ',', 'are', \"n't\", 'a', 'form', 'of', 'targeted', 'environmental', 'protection', '.', 'it', \"'s\", 'an', 'ad', 'hoc', 'argument', 'made', 'by', 'protectionists', 'to', 'defend', 'the', 'indefensible', '.']), (['yes', 'it', 's', 'being', 'used', 'against', 'sanders', 'why', 'would', 'they', 'attack', 'someone', 'which', 'in', 'theory', 'helps', 'clinton'], ['yes', ',', 'it', \"'s\", 'being', 'used', '*against*', 'sanders', '.', 'why', 'would', 'they', 'attack', 'someone', 'which', ',', 'in', 'theory', ',', 'helps', 'clinton', '.']), (['there', 'are', 'two', 'types', 'of', 'deterrence', 'general', 'and', 'specific', 'there', 'may', 'well', 'be', 'a', 'valid', 'argument', 'that', 'the', 'death', 'penalty', 'being', 'administered', 'to', 'one', 'individual', 'doesn', 't', 'deter', 'others', 'from', 'committing', 'crimes', 'but', 'no', 'one', 'can', 'say', 'it', 'doesn', 't', 'specifically', 'deter', 'that', 'person', 'from', 'offending', 'again'], ['there', 'are', 'two', 'types', 'of', 'deterrence-', 'general', 'and', 'specific', '.', 'there', 'may', 'well', 'be', 'a', 'valid', 'argument', 'that', 'the', 'death', 'penalty', 'being', 'administered', 'to', 'one', 'individual', 'does', \"n't\", 'deter', 'others', 'from', 'committing', 'crimes', ',', 'but', 'no', 'one', 'can', 'say', 'it', 'does', \"n't\", 'specifically', 'deter', 'that', 'person', 'from', 'offending', 'again', '.']), (['doesn', 't', 'mean', 'he', 'shouldn', 't', 'run', 'and', 'might', 'i', 'point', 'out', 'that', 'obama', 'was', 'a', 'black', 'senator', 'from', 'chicago', 'when', 'everyone', 'was', 'gearing', 'up', 'for', 'the', 'first', 'female', 'president', 'but', 'that', 'doesn', 't', 'mean', 'i', 'think', 'sanders', 'can', 'win', 'but', 'just', 'saying'], ['does', \"n't\", 'mean', 'he', 'should', \"n't\", 'run', '.', 'and', 'might', 'i', 'point', 'out', 'that', 'obama', 'was', 'a', 'black', 'senator', 'from', 'chicago', ',', 'when', 'everyone', 'was', 'gearing', 'up', 'for', 'the', 'first', 'female', 'president', '.', 'but', 'that', 'does', \"n't\", 'mean', 'i', 'think', 'sanders', 'can', 'win', '.', 'but', ',', 'just', 'saying', '.']), (['rofl'], ['rofl']), (['this', 'is', 'what', 'gets', 'me', 'about', 'the', 'benghazi', 'first', 'off', 'as', 'someone', 'who', 'is', 'familiar', 'with', 'the', 'different', 'levels', 'of', 'chain', 'of', 'command', 'hillary', 'clinton', 'really', 'wouldn', 't', 'have', 'any', 'say', 'on', 'the', 'ground', 'operations', 'staff', 'that', 'is', 'many', 'pay', 'grades', 'below', 'that', 'position', 'secondly', 'occassionally', 'bad', 'shit', 'is', 'going', 'happen', 'and', '4', 'brave', 'americans', 'died', 'its', 'tragic', 'but', 'its', 'not', 'her', 'fault', 'and', 'i', 'don', 't', 'even', 'like', 'the', 'lady', 'and', 'hope', 'she', 'doesn', 't', 'become', 'president', 'now', 'the', 'emails', 'she', 'fucked', 'up', 'there'], ['this', 'is', 'what', 'gets', 'me', 'about', 'the', 'benghazi', '...', 'first', 'off', 'as', 'someone', 'who', 'is', 'familiar', 'with', 'the', 'different', 'levels', 'of', 'chain', 'of', 'command', 'hillary', 'clinton', 'really', 'would', \"n't\", 'have', 'any', 'say', 'on', 'the', 'ground', 'operations', 'staff', '.', 'that', 'is', 'many', 'pay', 'grades', 'below', 'that', 'position', '.', 'secondly', 'occassionally', 'bad', 'shit', 'is', 'going', 'happen', 'and', '4', 'brave', 'americans', 'died', '.', 'its', 'tragic', ',', 'but', 'its', 'not', 'her', 'fault.and', 'i', 'do', \"n't\", 'even', 'like', 'the', 'lady', 'and', 'hope', 'she', 'does', \"n't\", 'become', 'president.now', 'the', 'emails', ',', 'she', 'fucked', 'up', 'there', '.']), (['it', 's', 'ok', 'no', 'one', 'is', 'saying', 'that', 'we', 'need', 'background', 'checks', 'for', 'stamps', 'and', 'i', 'think', 'we', 'all', 'agree', 'there', 'should', 'be', 'background', 'checks', 'on', 'all', 'gun', 'sales', 'whether', 'the', 'seller', 'is', 'a', 'dealer', 'or', 'not'], ['it', \"'s\", 'ok', ',', 'no', 'one', 'is', 'saying', 'that', 'we', 'need', 'background', 'checks', 'for', 'stamps', ':', ')', 'and', 'i', 'think', 'we', 'all', 'agree', 'there', 'should', 'be', 'background', 'checks', 'on', 'all', 'gun', 'sales', ',', 'whether', 'the', 'seller', 'is', 'a', 'dealer', 'or', 'not', '.']), (['no', 'you', 'don', 't', 'understand', 'he', 'is', 'the', 'chosen', 'one'], ['no', ',', 'you', 'do', \"n't\", 'understand', '.', 'he', 'is', '*the', 'chosen', 'one', '.', '*']), (['and', 'then', 'blatantly', 'flaunts', 'having', 'done', 'so'], ['and', 'then', 'blatantly', 'flaunts', 'having', 'done', 'so', '.']), (['how', 'can', 'you', 'vote', 'for', 'this', 'i', 'guess', 'when', 'people', 'don', 't', 'like', 'the', 'truth', 'they', 'create', 'their', 'own', 'that', 's', 'the', 'only', 'logical', 'explanation', 'for', 'any', 'shillary', 'voter'], ['how', 'can', 'you', 'vote', 'for', '``', 'this', \"''\", '.', 'i', 'guess', 'when', 'people', 'do', \"n't\", 'like', 'the', 'truth', ',', 'they', 'create', 'their', 'own', '.', 'that', \"'s\", 'the', 'only', 'logical', 'explanation', 'for', 'any', 'shillary', 'voter', '.'])]\n"
     ]
    }
   ],
   "source": [
    "print([(re.findall(r'\\w+', i.lower()),nltk.word_tokenize(i.lower())) for i in politics_text1[:20]])\n",
    "# print([nltk.word_tokenize(i.lower()) for i in politics_text1[:20]])"
   ]
  },
  {
   "cell_type": "code",
   "execution_count": 23,
   "metadata": {},
   "outputs": [],
   "source": [
    "def tokenize_data(data):\n",
    "    print(\"Number of entries in original dataset: \" + str(len(data)))\n",
    "    data1 = [i for i in data if 'thank you for participating' not in i.lower()]\n",
    "    print(\"Number of moderator posts removed from dataset: \" + str(len([i for i in data if 'thank you for participating' in i.lower()])))\n",
    "    data1 = [i for i in data1 if i != deleted_str and i != removed_str]\n",
    "    print(\"Number of user-deleted posts removed from dataset: \" + str(len([i for i in data if i == deleted_str])))\n",
    "    print(\"Number of mod/admin-deleted posts removed from dataset: \" + str(len([i for i in data if i == removed_str])))\n",
    "    \n",
    "    print(\"Number of entries in modified dataset: \" + str(len(data1)))\n",
    "    \n",
    "    # removing hyperlinks\n",
    "    print(\"Number of comments with a hyperlink in modified dataset: \" + str(len([i for i in data1 if \"http\" in i])))\n",
    "    data1 = [re.sub(r'https?:\\/\\/[\\S]+', ' ', i, flags=re.MULTILINE) for i in data1]\n",
    "    \n",
    "    # common escape sequences\n",
    "    data1 = [re.sub(r'\\n', '', i) for i in data1]\n",
    "    data1 = [re.sub(r'&gt;', '', i) for i in data1]\n",
    "    \n",
    "    # convert to lowercase\n",
    "    data1 = [i.lower() for i in data1]\n",
    "    \n",
    "    # keep user and subreddit tags\n",
    "    print(\"Number of comments that mention a user in the modified dataset: \" + str(len([i for i in data1 if \"/u/\" in i])))\n",
    "    print(\"Number of comments that mention a subreddit in the modified dataset: \" + str(len([i for i in data1 if \"/r/\" in i])))\n",
    "    data1 = [re.sub(r'/u/', '_user_', i) for i in data1]\n",
    "    data1 = [re.sub(r'/r/', '_subreddit_', i) for i in data1]\n",
    "    \n",
    "    data_tokenized = [re.findall(r'\\w+', i.lower()) for i in data1]\n",
    "    \n",
    "    # remove numbers\n",
    "    data_tokenized = [[token for token in doc if not token.isnumeric()] for doc in data_tokenized]\n",
    "    \n",
    "    print(\"Number of total tokens: \" + str(sum([len(d) for d in data_tokenized])))\n",
    "    \n",
    "    return data_tokenized"
   ]
  },
  {
   "cell_type": "code",
   "execution_count": 24,
   "metadata": {},
   "outputs": [
    {
     "name": "stdout",
     "output_type": "stream",
     "text": [
      "Number of entries in original dataset: 999960\n",
      "Number of moderator posts removed from dataset: 7782\n",
      "Number of user-deleted posts removed from dataset: 53033\n",
      "Number of mod/admin-deleted posts removed from dataset: 13208\n",
      "Number of entries in modified dataset: 925937\n",
      "Number of comments with a hyperlink in modified dataset: 52354\n",
      "Number of comments that mention a user in the modified dataset: 1993\n",
      "Number of comments that mention a subreddit in the modified dataset: 7655\n",
      "Number of total tokens: 37838663\n"
     ]
    }
   ],
   "source": [
    "politics_tokens = tokenize_data(politics_text)"
   ]
  },
  {
   "cell_type": "code",
   "execution_count": 25,
   "metadata": {},
   "outputs": [],
   "source": [
    "with open(\"politics_tokens.json\", 'w') as f:\n",
    "    json.dump(politics_tokens, f)"
   ]
  },
  {
   "cell_type": "code",
   "execution_count": 11,
   "metadata": {},
   "outputs": [
    {
     "name": "stdout",
     "output_type": "stream",
     "text": [
      "True\n",
      "True\n"
     ]
    }
   ],
   "source": [
    "print(removed_str == '[removed]')\n",
    "print(deleted_str == '[deleted]')"
   ]
  },
  {
   "cell_type": "markdown",
   "metadata": {},
   "source": [
    "## Check number of authors"
   ]
  },
  {
   "cell_type": "code",
   "execution_count": 5,
   "metadata": {},
   "outputs": [],
   "source": [
    "politics_data_notna = politics_data.loc[politics_data['body'].notna()]"
   ]
  },
  {
   "cell_type": "code",
   "execution_count": 8,
   "metadata": {},
   "outputs": [],
   "source": [
    "def remove_bad_comments(chunk, deleted_str = '[deleted]', removed_str = '[removed]'):\n",
    "    comments = chunk['body'].values\n",
    "    auths = chunk['author'].values\n",
    "    \n",
    "    good_indices = [i for i in range(len(comments)) if comments[i] != deleted_str \n",
    "                    and comments[i] != removed_str\n",
    "                    and 'thank you for participating' not in comments[i].lower()]\n",
    "        \n",
    "    return (list(comments[good_indices]), list(auths[good_indices]))"
   ]
  },
  {
   "cell_type": "code",
   "execution_count": 9,
   "metadata": {},
   "outputs": [],
   "source": [
    "comments, auths = remove_bad_comments(politics_data_notna)"
   ]
  },
  {
   "cell_type": "code",
   "execution_count": 10,
   "metadata": {},
   "outputs": [
    {
     "name": "stdout",
     "output_type": "stream",
     "text": [
      "136424\n",
      "925937\n"
     ]
    }
   ],
   "source": [
    "print(len(set(auths)))\n",
    "print(len(auths))"
   ]
  },
  {
   "cell_type": "code",
   "execution_count": 11,
   "metadata": {},
   "outputs": [],
   "source": [
    "auths_unique = list(set(auths))\n",
    "auths_unique_reverse = {auths_unique[i] : i for i in range(len(auths_unique))}"
   ]
  },
  {
   "cell_type": "code",
   "execution_count": 12,
   "metadata": {},
   "outputs": [],
   "source": [
    "auth_nums = np.zeros(len(auths_unique))"
   ]
  },
  {
   "cell_type": "code",
   "execution_count": 13,
   "metadata": {},
   "outputs": [],
   "source": [
    "for i in auths:\n",
    "    auth_nums[auths_unique_reverse[i]] += 1"
   ]
  },
  {
   "cell_type": "code",
   "execution_count": 41,
   "metadata": {},
   "outputs": [
    {
     "name": "stdout",
     "output_type": "stream",
     "text": [
      "1.0\n",
      "13642.0\n"
     ]
    }
   ],
   "source": [
    "print(min(auth_nums))\n",
    "print(max(auth_nums))"
   ]
  },
  {
   "cell_type": "code",
   "execution_count": 50,
   "metadata": {},
   "outputs": [
    {
     "name": "stdout",
     "output_type": "stream",
     "text": [
      "84974\n",
      "[deleted]\n",
      "1612.0\n",
      "1554.0\n",
      "895.0\n"
     ]
    }
   ],
   "source": [
    "print(np.argsort(auth_nums)[-1])\n",
    "print(auths_unique[np.argsort(auth_nums)[-1]])\n",
    "print(auth_nums[np.argsort(auth_nums)[-2]])\n",
    "print(auth_nums[np.argsort(auth_nums)[-3]])\n",
    "print(auth_nums[np.argsort(auth_nums)[-4]])"
   ]
  },
  {
   "cell_type": "code",
   "execution_count": 58,
   "metadata": {},
   "outputs": [
    {
     "data": {
      "text/plain": [
       "(array([1.36098e+05, 2.54000e+02, 5.00000e+01, 1.70000e+01, 2.00000e+00,\n",
       "        0.00000e+00, 0.00000e+00, 1.00000e+00, 1.00000e+00, 0.00000e+00]),\n",
       " array([   0.,  200.,  400.,  600.,  800., 1000., 1200., 1400., 1600.,\n",
       "        1800., 2000.]),\n",
       " <a list of 10 Patch objects>)"
      ]
     },
     "execution_count": 58,
     "metadata": {},
     "output_type": "execute_result"
    },
    {
     "data": {
      "image/png": "[encoded data removed]",
      "text/plain": [
       "<Figure size 432x288 with 1 Axes>"
      ]
     },
     "metadata": {
      "needs_background": "light"
     },
     "output_type": "display_data"
    }
   ],
   "source": [
    "plt.hist(list(auth_nums[:84974]) + list(auth_nums[84975:]), range = (0,2000))\n"
   ]
  },
  {
   "cell_type": "code",
   "execution_count": 56,
   "metadata": {},
   "outputs": [
    {
     "data": {
      "text/plain": [
       "(array([1.35228e+05, 8.70000e+02, 1.93000e+02, 6.10000e+01, 3.10000e+01,\n",
       "        1.90000e+01, 1.00000e+01, 7.00000e+00, 2.00000e+00, 0.00000e+00]),\n",
       " array([   0.,  100.,  200.,  300.,  400.,  500.,  600.,  700.,  800.,\n",
       "         900., 1000.]),\n",
       " <a list of 10 Patch objects>)"
      ]
     },
     "execution_count": 56,
     "metadata": {},
     "output_type": "execute_result"
    },
    {
     "data": {
      "image/png": "[encoded data removed]",
      "text/plain": [
       "<Figure size 432x288 with 1 Axes>"
      ]
     },
     "metadata": {
      "needs_background": "light"
     },
     "output_type": "display_data"
    }
   ],
   "source": [
    "plt.hist(auth_nums, range = (0, 1000))"
   ]
  },
  {
   "cell_type": "code",
   "execution_count": 55,
   "metadata": {},
   "outputs": [
    {
     "data": {
      "text/plain": [
       "(array([118958.,   8564.,   3073.,   1693.,   1003.,    672.,    507.,\n",
       "           342.,    221.,    215.]),\n",
       " array([  0.,  10.,  20.,  30.,  40.,  50.,  60.,  70.,  80.,  90., 100.]),\n",
       " <a list of 10 Patch objects>)"
      ]
     },
     "execution_count": 55,
     "metadata": {},
     "output_type": "execute_result"
    },
    {
     "data": {
      "image/png": "[encoded data removed]",
      "text/plain": [
       "<Figure size 432x288 with 1 Axes>"
      ]
     },
     "metadata": {
      "needs_background": "light"
     },
     "output_type": "display_data"
    }
   ],
   "source": [
    "plt.hist(auth_nums, range = (0, 100))\n"
   ]
  },
  {
   "cell_type": "code",
   "execution_count": 16,
   "metadata": {},
   "outputs": [
    {
     "name": "stdout",
     "output_type": "stream",
     "text": [
      "32321\n",
      "104103\n",
      "17466\n",
      "118958\n",
      "3133\n",
      "133291\n",
      "1196\n",
      "135228\n"
     ]
    }
   ],
   "source": [
    "print(np.sum(auth_nums >= 5))\n",
    "print(np.sum(auth_nums < 5))\n",
    "print(np.sum(auth_nums >= 10))\n",
    "print(np.sum(auth_nums < 10))\n",
    "print(np.sum(auth_nums >= 50))\n",
    "print(np.sum(auth_nums < 50))\n",
    "print(np.sum(auth_nums >= 100))\n",
    "print(np.sum(auth_nums < 100))"
   ]
  },
  {
   "cell_type": "code",
   "execution_count": 34,
   "metadata": {},
   "outputs": [
    {
     "name": "stdout",
     "output_type": "stream",
     "text": [
      "925937\n",
      "757760\n",
      "168177\n",
      "661165\n",
      "264772\n",
      "370359\n",
      "555578\n",
      "238883\n",
      "687054\n"
     ]
    }
   ],
   "source": [
    "print(int(np.sum(auth_nums)))\n",
    "print(int(np.sum(auth_nums[auth_nums >= 5])))\n",
    "print(int(np.sum(auth_nums[auth_nums < 5])))\n",
    "print(int(np.sum(auth_nums[auth_nums >= 10])))\n",
    "print(int(np.sum(auth_nums[auth_nums < 10])))\n",
    "print(int(np.sum(auth_nums[auth_nums >= 50])))\n",
    "print(int(np.sum(auth_nums[auth_nums < 50])))\n",
    "print(int(np.sum(auth_nums[auth_nums >= 100])))\n",
    "print(int(np.sum(auth_nums[auth_nums < 100])))"
   ]
  },
  {
   "cell_type": "markdown",
   "metadata": {},
   "source": [
    "## Check high-scoring comments"
   ]
  },
  {
   "cell_type": "code",
   "execution_count": null,
   "metadata": {},
   "outputs": [],
   "source": [
    "def high_scoring_comments(chunk, deleted_str = '[deleted]', removed_str = '[removed]', min_score = 10):\n",
    "    comments = chunk['body'].values\n",
    "    auths = chunk['author'].values\n",
    "    scores = chunk['score'].values\n",
    "    \n",
    "    good_indices = [i for i in range(len(comments)) if comments[i] != deleted_str \n",
    "                    and comments[i] != removed_str\n",
    "                    and 'thank you for participating' not in comments[i].lower()\n",
    "                    and scores[i] >= min_score]\n",
    "        \n",
    "    return (list(comments[good_indices]), list(auths[good_indices]))"
   ]
  },
  {
   "cell_type": "code",
   "execution_count": 18,
   "metadata": {},
   "outputs": [],
   "source": [
    "comments10, auths10 = high_scoring_comments(politics_data_notna)"
   ]
  },
  {
   "cell_type": "code",
   "execution_count": 20,
   "metadata": {},
   "outputs": [
    {
     "name": "stdout",
     "output_type": "stream",
     "text": [
      "90727\n",
      "36460\n"
     ]
    }
   ],
   "source": [
    "print(len(comments10))\n",
    "print(len(set(auths10)))"
   ]
  },
  {
   "cell_type": "code",
   "execution_count": 39,
   "metadata": {},
   "outputs": [
    {
     "name": "stdout",
     "output_type": "stream",
     "text": [
      "0.0\n",
      "1236.0\n"
     ]
    },
    {
     "data": {
      "image/png": "[encoded data removed]",
      "text/plain": [
       "<Figure size 432x288 with 1 Axes>"
      ]
     },
     "metadata": {
      "needs_background": "light"
     },
     "output_type": "display_data"
    }
   ],
   "source": [
    "auth_nums10 = np.zeros(len(auths_unique))\n",
    "\n",
    "for i in auths10:\n",
    "    auth_nums10[auths_unique_reverse[i]] += 1\n",
    "    \n",
    "print(max(auth_nums10))\n",
    "plt.hist(auth_nums10)\n",
    "plt.show()"
   ]
  },
  {
   "cell_type": "code",
   "execution_count": 54,
   "metadata": {},
   "outputs": [
    {
     "name": "stdout",
     "output_type": "stream",
     "text": [
      "[deleted]\n",
      "115.0\n",
      "111.0\n",
      "110.0\n"
     ]
    }
   ],
   "source": [
    "print(auths_unique[np.argsort(auth_nums10)[-1]])\n",
    "print(auth_nums10[np.argsort(auth_nums10)[-2]])\n",
    "print(auth_nums10[np.argsort(auth_nums10)[-3]])\n",
    "print(auth_nums10[np.argsort(auth_nums10)[-4]])"
   ]
  },
  {
   "cell_type": "code",
   "execution_count": 31,
   "metadata": {},
   "outputs": [
    {
     "name": "stdout",
     "output_type": "stream",
     "text": [
      "32321\n",
      "17466\n",
      "3133\n",
      "1196\n"
     ]
    }
   ],
   "source": [
    "auths_with_5_comments = set([auths_unique[i] for i in range(len(auths_unique)) if auth_nums[i] >= 5])\n",
    "print(len(auths_with_5_comments))\n",
    "auths_with_10_comments = set([auths_unique[i] for i in range(len(auths_unique)) if auth_nums[i] >= 10])\n",
    "print(len(auths_with_10_comments))\n",
    "auths_with_50_comments = set([auths_unique[i] for i in range(len(auths_unique)) if auth_nums[i] >= 50])\n",
    "print(len(auths_with_50_comments))\n",
    "auths_with_100_comments = set([auths_unique[i] for i in range(len(auths_unique)) if auth_nums[i] >= 100])\n",
    "print(len(auths_with_100_comments))"
   ]
  },
  {
   "cell_type": "code",
   "execution_count": 33,
   "metadata": {
    "scrolled": true
   },
   "outputs": [
    {
     "name": "stdout",
     "output_type": "stream",
     "text": [
      "73397\n",
      "63748\n",
      "35657\n",
      "22870\n"
     ]
    }
   ],
   "source": [
    "print(len([1 for i in auths10 if i in auths_with_5_comments]))\n",
    "print(len([1 for i in auths10 if i in auths_with_10_comments]))\n",
    "print(len([1 for i in auths10 if i in auths_with_50_comments]))\n",
    "print(len([1 for i in auths10 if i in auths_with_100_comments]))"
   ]
  },
  {
   "cell_type": "code",
   "execution_count": 35,
   "metadata": {},
   "outputs": [],
   "source": [
    "comments100, auths100 = high_scoring_comments(politics_data_notna, min_score = 100)"
   ]
  },
  {
   "cell_type": "code",
   "execution_count": 36,
   "metadata": {},
   "outputs": [
    {
     "name": "stdout",
     "output_type": "stream",
     "text": [
      "6878\n",
      "5357\n"
     ]
    }
   ],
   "source": [
    "print(len(comments100))\n",
    "print(len(set(auths100)))"
   ]
  },
  {
   "cell_type": "code",
   "execution_count": 37,
   "metadata": {
    "scrolled": true
   },
   "outputs": [
    {
     "name": "stdout",
     "output_type": "stream",
     "text": [
      "5394\n",
      "4622\n",
      "2423\n",
      "1550\n"
     ]
    }
   ],
   "source": [
    "print(len([1 for i in auths100 if i in auths_with_5_comments]))\n",
    "print(len([1 for i in auths100 if i in auths_with_10_comments]))\n",
    "print(len([1 for i in auths100 if i in auths_with_50_comments]))\n",
    "print(len([1 for i in auths100 if i in auths_with_100_comments]))"
   ]
  },
  {
   "cell_type": "code",
   "execution_count": null,
   "metadata": {},
   "outputs": [],
   "source": []
  }
 ],
 "metadata": {
  "kernelspec": {
   "display_name": "Python 3",
   "language": "python",
   "name": "python3"
  },
  "language_info": {
   "codemirror_mode": {
    "name": "ipython",
    "version": 3
   },
   "file_extension": ".py",
   "mimetype": "text/x-python",
   "name": "python",
   "nbconvert_exporter": "python",
   "pygments_lexer": "ipython3",
   "version": "3.7.3"
  }
 },
 "nbformat": 4,
 "nbformat_minor": 2
}
