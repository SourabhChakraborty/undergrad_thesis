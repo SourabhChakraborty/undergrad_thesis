{
 "cells": [
  {
   "cell_type": "code",
   "execution_count": 2,
   "metadata": {},
   "outputs": [],
   "source": [
    "import json\n",
    "import pickle\n",
    "\n",
    "from scipy.sparse import coo_matrix, csr_matrix, csc_matrix, lil_matrix\n",
    "from scipy.linalg import norm\n",
    "from scipy.stats import pearsonr\n",
    "\n",
    "from sklearn.decomposition import TruncatedSVD\n",
    "\n",
    "from matplotlib import pyplot as plt\n",
    "from IPython.display import HTML, display\n",
    "import pandas as pd\n",
    "import numpy as np\n",
    "import random"
   ]
  },
  {
   "cell_type": "code",
   "execution_count": 3,
   "metadata": {},
   "outputs": [],
   "source": [
    "with open(\"stored_variables/users_with_10_comment_indices.pickle\", 'rb') as f:\n",
    "    good_indices = pickle.load(f)"
   ]
  },
  {
   "cell_type": "code",
   "execution_count": 4,
   "metadata": {},
   "outputs": [],
   "source": [
    "with open(\"stored_variables/frequent_user_comment_cossims_svd.pickle\", \"rb\") as f:\n",
    "    comment_sims = pickle.load(f)"
   ]
  },
  {
   "cell_type": "code",
   "execution_count": 5,
   "metadata": {},
   "outputs": [],
   "source": [
    "with open(\"stored_variables/user_subreddit_tfidf_cossims_svd.pickle\", \"rb\") as f:\n",
    "    subreddit_sims = pickle.load(f)"
   ]
  },
  {
   "cell_type": "code",
   "execution_count": 6,
   "metadata": {},
   "outputs": [
    {
     "data": {
      "text/plain": [
       "(5254, 5254)"
      ]
     },
     "execution_count": 6,
     "metadata": {},
     "output_type": "execute_result"
    }
   ],
   "source": [
    "comment_sims.shape"
   ]
  },
  {
   "cell_type": "code",
   "execution_count": 7,
   "metadata": {},
   "outputs": [
    {
     "data": {
      "text/plain": [
       "(5254, 5254)"
      ]
     },
     "execution_count": 7,
     "metadata": {},
     "output_type": "execute_result"
    }
   ],
   "source": [
    "subreddit_sims[good_indices, :][:,good_indices].shape"
   ]
  },
  {
   "cell_type": "code",
   "execution_count": 8,
   "metadata": {},
   "outputs": [],
   "source": [
    "subreddit_sims_good = subreddit_sims[good_indices, :][:,good_indices]"
   ]
  },
  {
   "cell_type": "code",
   "execution_count": 9,
   "metadata": {},
   "outputs": [],
   "source": [
    "comment_sims_list = np.zeros(comment_sims.shape[0] * (comment_sims.shape[0] - 1))\n",
    "subreddit_sims_list = np.zeros(comment_sims.shape[0] * (comment_sims.shape[0] - 1))"
   ]
  },
  {
   "cell_type": "code",
   "execution_count": 10,
   "metadata": {},
   "outputs": [],
   "source": [
    "idx = 0\n",
    "for i in range(comment_sims.shape[0]):\n",
    "    for j in range(i+1, comment_sims.shape[0]):\n",
    "        comment_sims_list[idx] = comment_sims[i,j]\n",
    "        subreddit_sims_list[idx] = subreddit_sims_good[i,j]\n",
    "        idx += 1"
   ]
  },
  {
   "cell_type": "code",
   "execution_count": 11,
   "metadata": {},
   "outputs": [
    {
     "data": {
      "text/plain": [
       "(0.5354730750127645, 0.0)"
      ]
     },
     "execution_count": 11,
     "metadata": {},
     "output_type": "execute_result"
    }
   ],
   "source": [
    "pearsonr(comment_sims_list, subreddit_sims_list)"
   ]
  },
  {
   "cell_type": "code",
   "execution_count": 12,
   "metadata": {},
   "outputs": [],
   "source": [
    "midpoint = int(comment_sims.shape[0] / 2)"
   ]
  },
  {
   "cell_type": "code",
   "execution_count": 13,
   "metadata": {},
   "outputs": [],
   "source": [
    "random_indices = list(range(comment_sims.shape[0]))\n",
    "random.shuffle(random_indices)"
   ]
  },
  {
   "cell_type": "code",
   "execution_count": 14,
   "metadata": {},
   "outputs": [],
   "source": [
    "comment_sims_list2 = np.zeros(midpoint)\n",
    "subreddit_sims_list2 = np.zeros(midpoint)"
   ]
  },
  {
   "cell_type": "code",
   "execution_count": 15,
   "metadata": {},
   "outputs": [],
   "source": [
    "for i in range(midpoint):\n",
    "    comment_sims_list2[i] = comment_sims[random_indices[i], random_indices[midpoint + i]]\n",
    "    subreddit_sims_list2[i] = subreddit_sims_good[random_indices[i], random_indices[midpoint + i]]"
   ]
  },
  {
   "cell_type": "code",
   "execution_count": 16,
   "metadata": {},
   "outputs": [
    {
     "data": {
      "text/plain": [
       "(-0.009745070600014812, 0.6176028530890934)"
      ]
     },
     "execution_count": 16,
     "metadata": {},
     "output_type": "execute_result"
    }
   ],
   "source": [
    "pearsonr(comment_sims_list2, subreddit_sims_list2)"
   ]
  },
  {
   "cell_type": "code",
   "execution_count": null,
   "metadata": {},
   "outputs": [],
   "source": []
  }
 ],
 "metadata": {
  "kernelspec": {
   "display_name": "Python 3",
   "language": "python",
   "name": "python3"
  },
  "language_info": {
   "codemirror_mode": {
    "name": "ipython",
    "version": 3
   },
   "file_extension": ".py",
   "mimetype": "text/x-python",
   "name": "python",
   "nbconvert_exporter": "python",
   "pygments_lexer": "ipython3",
   "version": "3.7.3"
  }
 },
 "nbformat": 4,
 "nbformat_minor": 2
}
