{
 "cells": [
  {
   "cell_type": "code",
   "execution_count": 2,
   "metadata": {},
   "outputs": [],
   "source": [
    "import re\n",
    "import pandas as pd\n",
    "import numpy as np\n",
    "import matplotlib.pyplot as plt\n",
    "from datetime import datetime\n",
    "from gensim.corpora import Dictionary\n",
    "\n",
    "import json #storing files"
   ]
  },
  {
   "cell_type": "code",
   "execution_count": 8,
   "metadata": {},
   "outputs": [],
   "source": [
    "politics_data = pd.read_csv(\"../sample_data/politics_sample3.csv\", \n",
    "                            header=None, \n",
    "                            names = ['author', 'subreddit', 'body', 'score', 'created_dt', 'link_id', 'parent_id'],\n",
    "                            index_col = False)"
   ]
  },
  {
   "cell_type": "code",
   "execution_count": 12,
   "metadata": {},
   "outputs": [
    {
     "data": {
      "text/plain": [
       "datetime.datetime(2016, 2, 24, 0, 0)"
      ]
     },
     "execution_count": 12,
     "metadata": {},
     "output_type": "execute_result"
    }
   ],
   "source": [
    "datetime.fromisoformat(politics_data['created_dt'][0][:10])"
   ]
  },
  {
   "cell_type": "code",
   "execution_count": 22,
   "metadata": {},
   "outputs": [],
   "source": [
    "politics_text = politics_data.loc[politics_data['body'].notna()]['body'].values"
   ]
  },
  {
   "cell_type": "code",
   "execution_count": 14,
   "metadata": {},
   "outputs": [],
   "source": [
    "politics_dates = politics_data.loc[politics_data['body'].notna()]['created_dt'].values"
   ]
  },
  {
   "cell_type": "code",
   "execution_count": 16,
   "metadata": {},
   "outputs": [],
   "source": [
    "politics_date_objs = [datetime.fromisoformat(i[:10]) for i in politics_dates]"
   ]
  },
  {
   "cell_type": "code",
   "execution_count": 29,
   "metadata": {},
   "outputs": [
    {
     "data": {
      "text/plain": [
       "True"
      ]
     },
     "execution_count": 29,
     "metadata": {},
     "output_type": "execute_result"
    }
   ],
   "source": [
    "datetime(2015, 2, 1) < datetime(2015, 3, 1)"
   ]
  },
  {
   "cell_type": "code",
   "execution_count": 23,
   "metadata": {},
   "outputs": [
    {
     "name": "stdout",
     "output_type": "stream",
     "text": [
      "999960\n",
      "999960\n"
     ]
    }
   ],
   "source": [
    "print(len(politics_text))\n",
    "print(len(politics_date_objs))"
   ]
  },
  {
   "cell_type": "code",
   "execution_count": 36,
   "metadata": {},
   "outputs": [
    {
     "name": "stdout",
     "output_type": "stream",
     "text": [
      "20753\n",
      "39586\n",
      "122760\n",
      "247798\n",
      "999960\n"
     ]
    }
   ],
   "source": [
    "print(len([i for i in politics_date_objs if i < datetime(2015, 2, 1)]))\n",
    "print(len([i for i in politics_date_objs if i < datetime(2015, 3, 1)]))\n",
    "print(len([i for i in politics_date_objs if i >= datetime(2016, 5, 1)]))\n",
    "print(len([i for i in politics_date_objs if i >= datetime(2016, 4, 1)]))\n",
    "print(len([i for i in politics_date_objs if i < datetime(2016, 6, 1)]))"
   ]
  },
  {
   "cell_type": "code",
   "execution_count": 39,
   "metadata": {},
   "outputs": [],
   "source": [
    "months = [datetime(2015, i, 1) for i in range(1,13)] + [datetime(2016, i, 1) for i in range(1,7)]"
   ]
  },
  {
   "cell_type": "code",
   "execution_count": 41,
   "metadata": {},
   "outputs": [],
   "source": [
    "month_indices = []\n",
    "\n",
    "for i in range(len(months) - 1):\n",
    "    month_indices.append([j for j in range(len(politics_date_objs)) \n",
    "                         if politics_date_objs[j] >= months[i]  \n",
    "                         and politics_date_objs[j] < months[i+1]])"
   ]
  },
  {
   "cell_type": "code",
   "execution_count": 45,
   "metadata": {},
   "outputs": [
    {
     "data": {
      "text/plain": [
       "<BarContainer object of 17 artists>"
      ]
     },
     "execution_count": 45,
     "metadata": {},
     "output_type": "execute_result"
    },
    {
     "data": {
      "image/png": "[encoded data removed]",
      "text/plain": [
       "<Figure size 432x288 with 1 Axes>"
      ]
     },
     "metadata": {
      "needs_background": "light"
     },
     "output_type": "display_data"
    }
   ],
   "source": [
    "plt.bar(range(len(months)-1), [len(i) for i in month_indices])"
   ]
  },
  {
   "cell_type": "code",
   "execution_count": 46,
   "metadata": {},
   "outputs": [],
   "source": [
    "text_by_month = []\n",
    "\n",
    "for lst in month_indices:\n",
    "    text_by_month.append([politics_text[i] for i in lst])"
   ]
  },
  {
   "cell_type": "code",
   "execution_count": 1,
   "metadata": {},
   "outputs": [],
   "source": [
    "def tokenize_data(data):\n",
    "    print(\"Number of entries in original dataset: \" + str(len(data)))\n",
    "    data1 = [i for i in data if 'thank you for participating' not in i.lower()]\n",
    "    print(\"Number of moderator posts removed from dataset: \" + str(len([i for i in data if 'thank you for participating' in i.lower()])))\n",
    "    data1 = [i for i in data1 if i != '[deleted]' and i != '[removed]']\n",
    "    print(\"Number of user-deleted posts removed from dataset: \" + str(len([i for i in data if i == '[deleted]'])))\n",
    "    print(\"Number of mod/admin-deleted posts removed from dataset: \" + str(len([i for i in data if i == '[removed]'])))\n",
    "    \n",
    "    print(\"Number of entries in modified dataset: \" + str(len(data1)))\n",
    "    \n",
    "    # removing hyperlinks\n",
    "    print(\"Number of comments with a hyperlink in modified dataset: \" + str(len([i for i in data1 if \"http\" in i])))\n",
    "    data1 = [re.sub(r'https?:\\/\\/[\\S]+', ' ', i, flags=re.MULTILINE) for i in data1]\n",
    "    \n",
    "    # common escape sequences\n",
    "    data1 = [re.sub(r'\\n', '', i) for i in data1]\n",
    "    data1 = [re.sub(r'&gt;', '', i) for i in data1]\n",
    "    \n",
    "    # convert to lowercase\n",
    "    data1 = [i.lower() for i in data1]\n",
    "    \n",
    "    # keep user and subreddit tags\n",
    "    print(\"Number of comments that mention a user in the modified dataset: \" + str(len([i for i in data1 if \"/u/\" in i])))\n",
    "    print(\"Number of comments that mention a subreddit in the modified dataset: \" + str(len([i for i in data1 if \"/r/\" in i])))\n",
    "    data1 = [re.sub(r'/u/', '_user_', i) for i in data1]\n",
    "    data1 = [re.sub(r'/r/', '_subreddit_', i) for i in data1]\n",
    "    \n",
    "    data_tokenized = [re.findall(r'\\w+', i.lower()) for i in data1]\n",
    "    \n",
    "    # remove numbers\n",
    "    data_tokenized = [[token for token in doc if not token.isnumeric()] for doc in data_tokenized]\n",
    "    \n",
    "    print(\"Number of total tokens: \" + str(sum([len(d) for d in data_tokenized])))\n",
    "    \n",
    "    return data_tokenized"
   ]
  },
  {
   "cell_type": "code",
   "execution_count": 48,
   "metadata": {},
   "outputs": [
    {
     "name": "stdout",
     "output_type": "stream",
     "text": [
      "Number of entries in original dataset: 20753\n",
      "Number of moderator posts removed from dataset: 159\n",
      "Number of user-deleted posts removed from dataset: 1149\n",
      "Number of mod/admin-deleted posts removed from dataset: 0\n",
      "Number of entries in modified dataset: 19445\n",
      "Number of comments with a hyperlink in modified dataset: 1132\n",
      "Number of comments that mention a user in the modified dataset: 37\n",
      "Number of comments that mention a subreddit in the modified dataset: 141\n",
      "Number of total tokens: 887728\n",
      "\n",
      "Number of entries in original dataset: 18833\n",
      "Number of moderator posts removed from dataset: 155\n",
      "Number of user-deleted posts removed from dataset: 979\n",
      "Number of mod/admin-deleted posts removed from dataset: 0\n",
      "Number of entries in modified dataset: 17699\n",
      "Number of comments with a hyperlink in modified dataset: 1051\n",
      "Number of comments that mention a user in the modified dataset: 48\n",
      "Number of comments that mention a subreddit in the modified dataset: 116\n",
      "Number of total tokens: 808986\n",
      "\n",
      "Number of entries in original dataset: 23213\n",
      "Number of moderator posts removed from dataset: 162\n",
      "Number of user-deleted posts removed from dataset: 1293\n",
      "Number of mod/admin-deleted posts removed from dataset: 0\n",
      "Number of entries in modified dataset: 21758\n",
      "Number of comments with a hyperlink in modified dataset: 1311\n",
      "Number of comments that mention a user in the modified dataset: 56\n",
      "Number of comments that mention a subreddit in the modified dataset: 149\n",
      "Number of total tokens: 973409\n",
      "\n",
      "Number of entries in original dataset: 23882\n",
      "Number of moderator posts removed from dataset: 177\n",
      "Number of user-deleted posts removed from dataset: 1348\n",
      "Number of mod/admin-deleted posts removed from dataset: 0\n",
      "Number of entries in modified dataset: 22357\n",
      "Number of comments with a hyperlink in modified dataset: 1276\n",
      "Number of comments that mention a user in the modified dataset: 60\n",
      "Number of comments that mention a subreddit in the modified dataset: 170\n",
      "Number of total tokens: 1033178\n",
      "\n",
      "Number of entries in original dataset: 23345\n",
      "Number of moderator posts removed from dataset: 231\n",
      "Number of user-deleted posts removed from dataset: 1270\n",
      "Number of mod/admin-deleted posts removed from dataset: 0\n",
      "Number of entries in modified dataset: 21844\n",
      "Number of comments with a hyperlink in modified dataset: 1279\n",
      "Number of comments that mention a user in the modified dataset: 50\n",
      "Number of comments that mention a subreddit in the modified dataset: 194\n",
      "Number of total tokens: 999923\n",
      "\n",
      "Number of entries in original dataset: 26858\n",
      "Number of moderator posts removed from dataset: 286\n",
      "Number of user-deleted posts removed from dataset: 1570\n",
      "Number of mod/admin-deleted posts removed from dataset: 0\n",
      "Number of entries in modified dataset: 25002\n",
      "Number of comments with a hyperlink in modified dataset: 1497\n",
      "Number of comments that mention a user in the modified dataset: 72\n",
      "Number of comments that mention a subreddit in the modified dataset: 208\n",
      "Number of total tokens: 1154885\n",
      "\n",
      "Number of entries in original dataset: 32116\n",
      "Number of moderator posts removed from dataset: 341\n",
      "Number of user-deleted posts removed from dataset: 1634\n",
      "Number of mod/admin-deleted posts removed from dataset: 0\n",
      "Number of entries in modified dataset: 30141\n",
      "Number of comments with a hyperlink in modified dataset: 1781\n",
      "Number of comments that mention a user in the modified dataset: 90\n",
      "Number of comments that mention a subreddit in the modified dataset: 213\n",
      "Number of total tokens: 1392733\n",
      "\n",
      "Number of entries in original dataset: 36358\n",
      "Number of moderator posts removed from dataset: 345\n",
      "Number of user-deleted posts removed from dataset: 2077\n",
      "Number of mod/admin-deleted posts removed from dataset: 4\n",
      "Number of entries in modified dataset: 33932\n",
      "Number of comments with a hyperlink in modified dataset: 1997\n",
      "Number of comments that mention a user in the modified dataset: 66\n",
      "Number of comments that mention a subreddit in the modified dataset: 231\n",
      "Number of total tokens: 1506243\n",
      "\n",
      "Number of entries in original dataset: 39039\n",
      "Number of moderator posts removed from dataset: 379\n",
      "Number of user-deleted posts removed from dataset: 1654\n",
      "Number of mod/admin-deleted posts removed from dataset: 428\n",
      "Number of entries in modified dataset: 36578\n",
      "Number of comments with a hyperlink in modified dataset: 2055\n",
      "Number of comments that mention a user in the modified dataset: 83\n",
      "Number of comments that mention a subreddit in the modified dataset: 258\n",
      "Number of total tokens: 1566504\n",
      "\n",
      "Number of entries in original dataset: 50481\n",
      "Number of moderator posts removed from dataset: 387\n",
      "Number of user-deleted posts removed from dataset: 2185\n",
      "Number of mod/admin-deleted posts removed from dataset: 547\n",
      "Number of entries in modified dataset: 47362\n",
      "Number of comments with a hyperlink in modified dataset: 2841\n",
      "Number of comments that mention a user in the modified dataset: 102\n",
      "Number of comments that mention a subreddit in the modified dataset: 307\n",
      "Number of total tokens: 2019574\n",
      "\n",
      "Number of entries in original dataset: 48005\n",
      "Number of moderator posts removed from dataset: 486\n",
      "Number of user-deleted posts removed from dataset: 2204\n",
      "Number of mod/admin-deleted posts removed from dataset: 649\n",
      "Number of entries in modified dataset: 44666\n",
      "Number of comments with a hyperlink in modified dataset: 2737\n",
      "Number of comments that mention a user in the modified dataset: 98\n",
      "Number of comments that mention a subreddit in the modified dataset: 298\n",
      "Number of total tokens: 1929261\n",
      "\n",
      "Number of entries in original dataset: 56018\n",
      "Number of moderator posts removed from dataset: 566\n",
      "Number of user-deleted posts removed from dataset: 2658\n",
      "Number of mod/admin-deleted posts removed from dataset: 810\n",
      "Number of entries in modified dataset: 51984\n",
      "Number of comments with a hyperlink in modified dataset: 3076\n",
      "Number of comments that mention a user in the modified dataset: 89\n",
      "Number of comments that mention a subreddit in the modified dataset: 390\n",
      "Number of total tokens: 2214409\n",
      "\n",
      "Number of entries in original dataset: 73062\n",
      "Number of moderator posts removed from dataset: 694\n",
      "Number of user-deleted posts removed from dataset: 3487\n",
      "Number of mod/admin-deleted posts removed from dataset: 899\n",
      "Number of entries in modified dataset: 67982\n",
      "Number of comments with a hyperlink in modified dataset: 3947\n",
      "Number of comments that mention a user in the modified dataset: 145\n",
      "Number of comments that mention a subreddit in the modified dataset: 525\n",
      "Number of total tokens: 2748880\n",
      "\n",
      "Number of entries in original dataset: 125579\n",
      "Number of moderator posts removed from dataset: 1194\n",
      "Number of user-deleted posts removed from dataset: 7247\n",
      "Number of mod/admin-deleted posts removed from dataset: 1758\n",
      "Number of entries in modified dataset: 115380\n",
      "Number of comments with a hyperlink in modified dataset: 6072\n",
      "Number of comments that mention a user in the modified dataset: 229\n",
      "Number of comments that mention a subreddit in the modified dataset: 909\n",
      "Number of total tokens: 4309968\n",
      "\n",
      "Number of entries in original dataset: 154620\n",
      "Number of moderator posts removed from dataset: 1081\n",
      "Number of user-deleted posts removed from dataset: 8689\n",
      "Number of mod/admin-deleted posts removed from dataset: 2160\n",
      "Number of entries in modified dataset: 142690\n",
      "Number of comments with a hyperlink in modified dataset: 7602\n",
      "Number of comments that mention a user in the modified dataset: 248\n",
      "Number of comments that mention a subreddit in the modified dataset: 1300\n",
      "Number of total tokens: 5308034\n",
      "\n",
      "Number of entries in original dataset: 125038\n",
      "Number of moderator posts removed from dataset: 555\n",
      "Number of user-deleted posts removed from dataset: 7017\n",
      "Number of mod/admin-deleted posts removed from dataset: 2234\n",
      "Number of entries in modified dataset: 115232\n",
      "Number of comments with a hyperlink in modified dataset: 6464\n",
      "Number of comments that mention a user in the modified dataset: 282\n",
      "Number of comments that mention a subreddit in the modified dataset: 1216\n",
      "Number of total tokens: 4562512\n",
      "\n",
      "Number of entries in original dataset: 122760\n",
      "Number of moderator posts removed from dataset: 584\n",
      "Number of user-deleted posts removed from dataset: 6572\n",
      "Number of mod/admin-deleted posts removed from dataset: 3719\n",
      "Number of entries in modified dataset: 111885\n",
      "Number of comments with a hyperlink in modified dataset: 6236\n"
     ]
    },
    {
     "name": "stdout",
     "output_type": "stream",
     "text": [
      "Number of comments that mention a user in the modified dataset: 238\n",
      "Number of comments that mention a subreddit in the modified dataset: 1030\n",
      "Number of total tokens: 4422436\n",
      "\n"
     ]
    }
   ],
   "source": [
    "tokens_by_month = []\n",
    "\n",
    "for lst in text_by_month:\n",
    "    tokens_by_month.append(tokenize_data(lst))\n",
    "    print()"
   ]
  },
  {
   "cell_type": "code",
   "execution_count": 50,
   "metadata": {},
   "outputs": [],
   "source": [
    "for i in range(len(tokens_by_month)):\n",
    "    with open(\"stored_variables/politics_tokens_month\" + str(i) + \".json\", 'w') as f:\n",
    "        json.dump(tokens_by_month[i], f)"
   ]
  },
  {
   "cell_type": "markdown",
   "metadata": {},
   "source": [
    "## Streaming implementation"
   ]
  },
  {
   "cell_type": "code",
   "execution_count": 3,
   "metadata": {},
   "outputs": [],
   "source": [
    "def remove_bad_comments(chunk, month_vals):\n",
    "    chunk_notna = chunk.loc[chunk['body'].notna()]\n",
    "    comments = chunk_notna['body'].values\n",
    "    auths = chunk_notna['author'].values\n",
    "    date_vals = chunk_notna['created_dt'].values\n",
    "    date_objs = [datetime.fromisoformat(i[:10]) for i in date_vals]\n",
    "    \n",
    "    comment_lists = []\n",
    "    auth_lists = []\n",
    "    \n",
    "    for i in range(len(month_vals) - 1):\n",
    "        time_indices = [j for j in range(len(date_objs)) if date_objs[j] >= month_vals[i]\n",
    "                        and date_objs[j] < month_vals[i+1]]\n",
    "        \n",
    "        good_indices = [j for j in time_indices if comments[j] != '[deleted]' \n",
    "                        and comments[j] != '[removed]'\n",
    "                        and 'thank you for participating' not in comments[j].lower()]\n",
    "        \n",
    "        comment_lists.append(list(comments[good_indices]))\n",
    "        auth_lists.append(list(auths[good_indices]))\n",
    "        \n",
    "    return (comment_lists, auth_lists)"
   ]
  },
  {
   "cell_type": "code",
   "execution_count": 4,
   "metadata": {},
   "outputs": [],
   "source": [
    "def tokenize_comments(data):\n",
    "    # remove hyperlinks\n",
    "    data1 = [re.sub(r'https?:\\/\\/[\\S]+', ' ', i, flags=re.MULTILINE) for i in data]\n",
    "    \n",
    "    # common escape sequences\n",
    "    data1 = [re.sub(r'\\n', '', i) for i in data1]\n",
    "    data1 = [re.sub(r'&gt;', '', i) for i in data1]\n",
    "    \n",
    "    # convert to lowercase\n",
    "    data1 = [i.lower() for i in data1]\n",
    "    \n",
    "    # keep user and subreddit tags\n",
    "    data1 = [re.sub(r'/u/', '_user_', i) for i in data1]\n",
    "    data1 = [re.sub(r'/r/', '_subreddit_', i) for i in data1]\n",
    "    \n",
    "    data_tokenized = [re.findall(r'\\w+', i.lower()) for i in data1]\n",
    "    \n",
    "    # remove numbers\n",
    "    data_tokenized = [[token for token in doc if not token.isnumeric()] for doc in data_tokenized]\n",
    "    \n",
    "    return data_tokenized"
   ]
  },
  {
   "cell_type": "code",
   "execution_count": 5,
   "metadata": {},
   "outputs": [],
   "source": [
    "comment_auths = [[]] * 24\n",
    "comment_tokens = [[]] * 24"
   ]
  },
  {
   "cell_type": "code",
   "execution_count": 6,
   "metadata": {},
   "outputs": [],
   "source": [
    "months2 = [datetime(2015, i, 1) for i in range(1,13)] + [datetime(2016, i, 1) for i in range(1,13)] + \\\n",
    "[datetime(2017, 1, 1)]\n"
   ]
  },
  {
   "cell_type": "code",
   "execution_count": 16,
   "metadata": {},
   "outputs": [
    {
     "name": "stdout",
     "output_type": "stream",
     "text": [
      "[1, 2, 3, 4, 5, 6]\n"
     ]
    }
   ],
   "source": [
    "# test appending\n",
    "with open(\"test_file.json\", 'w') as f:\n",
    "    f.write('[')\n",
    "    \n",
    "with open(\"test_file.json\", 'a') as f:\n",
    "    f.write(json.dumps([1,2,3])[1:-1])\n",
    "    f.write(',')\n",
    "    \n",
    "with open('test_file.json', 'a') as f:\n",
    "    f.write(json.dumps([4,5,6])[1:-1])\n",
    "    f.write(']')\n",
    "    \n",
    "with open('test_file.json', 'r') as f:\n",
    "    print(json.load(f))\n"
   ]
  },
  {
   "cell_type": "code",
   "execution_count": 7,
   "metadata": {},
   "outputs": [],
   "source": [
    "for i in range(24):\n",
    "    with open(\"stored_variables/politics_tokens2_month\" + str(i) + \".json\", 'w') as f:\n",
    "        f.write('[')\n",
    "        \n",
    "for i in range(len(comment_auths)):\n",
    "    with open(\"stored_variables/politics_auths2_month\" + str(i) + \".json\", 'w') as f:\n",
    "        f.write('[')"
   ]
  },
  {
   "cell_type": "code",
   "execution_count": 8,
   "metadata": {},
   "outputs": [
    {
     "name": "stdout",
     "output_type": "stream",
     "text": [
      "500000\n",
      "1000000\n",
      "1500000\n",
      "2000000\n",
      "2500000\n",
      "3000000\n",
      "3500000\n",
      "4000000\n",
      "4500000\n",
      "5000000\n",
      "5500000\n",
      "6000000\n",
      "6500000\n",
      "7000000\n",
      "7500000\n",
      "8000000\n",
      "8500000\n",
      "9000000\n",
      "9500000\n",
      "10000000\n",
      "10500000\n",
      "11000000\n",
      "11500000\n",
      "12000000\n",
      "12500000\n",
      "13000000\n",
      "13500000\n",
      "14000000\n",
      "14500000\n",
      "15000000\n",
      "15500000\n",
      "16000000\n",
      "16500000\n",
      "17000000\n",
      "17500000\n",
      "18000000\n",
      "18500000\n",
      "19000000\n",
      "19500000\n",
      "20000000\n",
      "20500000\n",
      "21000000\n",
      "21500000\n",
      "22000000\n",
      "22500000\n",
      "23000000\n",
      "23500000\n"
     ]
    }
   ],
   "source": [
    "chunk_size = 5 * (10 ** 5)\n",
    "iter_num = 0\n",
    "not_first = [False] * 24\n",
    "\n",
    "for chunk in pd.read_csv(\"../sample_data/politics_comments_2015_2016_2.csv\", \n",
    "                         header=None, \n",
    "                         names = ['author', 'subreddit', 'body', 'score', 'created_dt', 'link_id', 'parent_id', 'id'],\n",
    "                         usecols = ['author','body', 'created_dt'],\n",
    "                         index_col = False,\n",
    "                         chunksize = chunk_size\n",
    "                         ):\n",
    "    iter_num += 1\n",
    "    comments, auths = remove_bad_comments(chunk, months2)\n",
    "    \n",
    "    for i in range(len(months2) - 1):\n",
    "        if len(auths[i]) > 0:\n",
    "            comment_toks = tokenize_comments(comments[i])\n",
    "\n",
    "            with open(\"stored_variables/politics_tokens2_month\" + str(i) + \".json\", 'a') as f:\n",
    "                if not_first[i]:\n",
    "                    f.write(',')\n",
    "                f.write(json.dumps(comment_toks)[1:-1])\n",
    "\n",
    "            with open(\"stored_variables/politics_auths2_month\" + str(i) + \".json\", 'a') as f:\n",
    "                if not_first[i]:\n",
    "                    f.write(',')\n",
    "                f.write(json.dumps(auths[i])[1:-1])\n",
    "\n",
    "            not_first[i] = True\n",
    "    \n",
    "    print(iter_num * chunk_size)"
   ]
  },
  {
   "cell_type": "code",
   "execution_count": 9,
   "metadata": {},
   "outputs": [],
   "source": [
    "for i in range(24):\n",
    "    with open(\"stored_variables/politics_tokens2_month\" + str(i) + \".json\", 'a') as f:\n",
    "        f.write(']')\n",
    "        \n",
    "for i in range(len(comment_auths)):\n",
    "    with open(\"stored_variables/politics_auths2_month\" + str(i) + \".json\", 'a') as f:\n",
    "        f.write(']')"
   ]
  },
  {
   "cell_type": "code",
   "execution_count": null,
   "metadata": {},
   "outputs": [],
   "source": []
  }
 ],
 "metadata": {
  "kernelspec": {
   "display_name": "Python 3",
   "language": "python",
   "name": "python3"
  },
  "language_info": {
   "codemirror_mode": {
    "name": "ipython",
    "version": 3
   },
   "file_extension": ".py",
   "mimetype": "text/x-python",
   "name": "python",
   "nbconvert_exporter": "python",
   "pygments_lexer": "ipython3",
   "version": "3.7.3"
  }
 },
 "nbformat": 4,
 "nbformat_minor": 2
}
