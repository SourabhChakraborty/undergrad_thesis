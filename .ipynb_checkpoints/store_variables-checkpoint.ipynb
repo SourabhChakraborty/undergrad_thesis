{
 "cells": [
  {
   "cell_type": "code",
   "execution_count": 1,
   "metadata": {},
   "outputs": [],
   "source": [
    "import csv\n",
    "import json\n",
    "import pickle\n",
    "import time\n",
    "from datetime import datetime\n",
    "from scipy.sparse import csr_matrix, lil_matrix, coo_matrix"
   ]
  },
  {
   "cell_type": "code",
   "execution_count": 2,
   "metadata": {},
   "outputs": [],
   "source": [
    "def read_file(data, cutoff_subreddit, first_row = True, author_row=0, subreddit_row=1, created_row=3, time_cutoff = 1483228800):\n",
    "    with open(data) as f:\n",
    "        reader = csv.reader(f)\n",
    "\n",
    "        # author_history is a dictionary where each key is an author,\n",
    "        # and each value is a list of (subreddit, timestamp) tuples\n",
    "        # corresponding with posts made by that author\n",
    "        author_history = {}\n",
    "\n",
    "        # first post in sandersforpresident or 2017, whichever is earlier\n",
    "        author_cutoff = {}\n",
    "\n",
    "        for row in reader:\n",
    "            if first_row:\n",
    "                first_row = False\n",
    "                continue\n",
    "\n",
    "            author = row[author_row]\n",
    "            subreddit = row[subreddit_row]\n",
    "            created_utc = row[created_row]\n",
    "\n",
    "            if author in author_history.keys():\n",
    "                author_history[author].append((subreddit, int(created_utc)))\n",
    "            else:\n",
    "                author_history[author] = [(subreddit, int(created_utc))]\n",
    "\n",
    "            if author not in author_cutoff.keys():\n",
    "                author_cutoff[author] = time_cutoff\n",
    "\n",
    "            if subreddit.lower() == cutoff_subreddit and int(created_utc) < author_cutoff[author]:\n",
    "                author_cutoff[author] = int(created_utc)\n",
    "        \n",
    "    return author_history, author_cutoff"
   ]
  },
  {
   "cell_type": "code",
   "execution_count": 6,
   "metadata": {},
   "outputs": [],
   "source": [
    "sfp_file = '../sample_data/sfp_data_v4.csv'\n",
    "td_file = '../sample_data/td_data_v4.csv'\n",
    "neither_file = '../sample_data/neither_data_v4.csv'"
   ]
  },
  {
   "cell_type": "code",
   "execution_count": 3,
   "metadata": {},
   "outputs": [
    {
     "ename": "ValueError",
     "evalue": "invalid literal for int() with base 10: '2006-06-15 20:29:57-04'",
     "output_type": "error",
     "traceback": [
      "\u001b[0;31m---------------------------------------------------------------------------\u001b[0m",
      "\u001b[0;31mValueError\u001b[0m                                Traceback (most recent call last)",
      "\u001b[0;32m<ipython-input-3-59816172458d>\u001b[0m in \u001b[0;36m<module>\u001b[0;34m\u001b[0m\n\u001b[0;32m----> 1\u001b[0;31m \u001b[0msfp_author_history\u001b[0m\u001b[0;34m,\u001b[0m \u001b[0msfp_author_cutoff\u001b[0m \u001b[0;34m=\u001b[0m \u001b[0mread_file\u001b[0m\u001b[0;34m(\u001b[0m\u001b[0msfp_file\u001b[0m\u001b[0;34m,\u001b[0m \u001b[0;34m'sandersforpresident'\u001b[0m\u001b[0;34m)\u001b[0m\u001b[0;34m\u001b[0m\u001b[0;34m\u001b[0m\u001b[0m\n\u001b[0m\u001b[1;32m      2\u001b[0m \u001b[0;34m\u001b[0m\u001b[0m\n\u001b[1;32m      3\u001b[0m \u001b[0;32mwith\u001b[0m \u001b[0mopen\u001b[0m\u001b[0;34m(\u001b[0m\u001b[0;34m\"stored_variables/sfp_author_history.json\"\u001b[0m\u001b[0;34m,\u001b[0m \u001b[0;34m\"w\"\u001b[0m\u001b[0;34m)\u001b[0m \u001b[0;32mas\u001b[0m \u001b[0mf\u001b[0m\u001b[0;34m:\u001b[0m\u001b[0;34m\u001b[0m\u001b[0;34m\u001b[0m\u001b[0m\n\u001b[1;32m      4\u001b[0m     \u001b[0mjson\u001b[0m\u001b[0;34m.\u001b[0m\u001b[0mdump\u001b[0m\u001b[0;34m(\u001b[0m\u001b[0msfp_author_history\u001b[0m\u001b[0;34m,\u001b[0m \u001b[0mf\u001b[0m\u001b[0;34m)\u001b[0m\u001b[0;34m\u001b[0m\u001b[0;34m\u001b[0m\u001b[0m\n\u001b[1;32m      5\u001b[0m \u001b[0;34m\u001b[0m\u001b[0m\n",
      "\u001b[0;32m<ipython-input-2-9a91f2e92062>\u001b[0m in \u001b[0;36mread_file\u001b[0;34m(data, cutoff_subreddit, time_cutoff)\u001b[0m\n\u001b[1;32m     23\u001b[0m \u001b[0;34m\u001b[0m\u001b[0m\n\u001b[1;32m     24\u001b[0m             \u001b[0;32mif\u001b[0m \u001b[0mauthor\u001b[0m \u001b[0;32min\u001b[0m \u001b[0mauthor_history\u001b[0m\u001b[0;34m.\u001b[0m\u001b[0mkeys\u001b[0m\u001b[0;34m(\u001b[0m\u001b[0;34m)\u001b[0m\u001b[0;34m:\u001b[0m\u001b[0;34m\u001b[0m\u001b[0;34m\u001b[0m\u001b[0m\n\u001b[0;32m---> 25\u001b[0;31m                 \u001b[0mauthor_history\u001b[0m\u001b[0;34m[\u001b[0m\u001b[0mauthor\u001b[0m\u001b[0;34m]\u001b[0m\u001b[0;34m.\u001b[0m\u001b[0mappend\u001b[0m\u001b[0;34m(\u001b[0m\u001b[0;34m(\u001b[0m\u001b[0msubreddit\u001b[0m\u001b[0;34m,\u001b[0m \u001b[0mint\u001b[0m\u001b[0;34m(\u001b[0m\u001b[0mcreated_utc\u001b[0m\u001b[0;34m)\u001b[0m\u001b[0;34m)\u001b[0m\u001b[0;34m)\u001b[0m\u001b[0;34m\u001b[0m\u001b[0;34m\u001b[0m\u001b[0m\n\u001b[0m\u001b[1;32m     26\u001b[0m             \u001b[0;32melse\u001b[0m\u001b[0;34m:\u001b[0m\u001b[0;34m\u001b[0m\u001b[0;34m\u001b[0m\u001b[0m\n\u001b[1;32m     27\u001b[0m                 \u001b[0mauthor_history\u001b[0m\u001b[0;34m[\u001b[0m\u001b[0mauthor\u001b[0m\u001b[0;34m]\u001b[0m \u001b[0;34m=\u001b[0m \u001b[0;34m[\u001b[0m\u001b[0;34m(\u001b[0m\u001b[0msubreddit\u001b[0m\u001b[0;34m,\u001b[0m \u001b[0mcreated_utc\u001b[0m\u001b[0;34m)\u001b[0m\u001b[0;34m]\u001b[0m\u001b[0;34m\u001b[0m\u001b[0;34m\u001b[0m\u001b[0m\n",
      "\u001b[0;31mValueError\u001b[0m: invalid literal for int() with base 10: '2006-06-15 20:29:57-04'"
     ]
    }
   ],
   "source": [
    "sfp_author_history, sfp_author_cutoff = read_file(sfp_file, 'sandersforpresident')\n",
    "\n",
    "with open(\"stored_variables/sfp_author_history.json\", \"w\") as f:\n",
    "    json.dump(sfp_author_history, f)\n",
    "\n",
    "with open(\"stored_variables/sfp_author_cutoff.json\", \"w\") as f:\n",
    "    json.dump(sfp_author_cutoff, f)"
   ]
  },
  {
   "cell_type": "code",
   "execution_count": 4,
   "metadata": {},
   "outputs": [],
   "source": [
    "td_author_history, td_author_cutoff = read_file(td_file, 'the_donald')\n",
    "\n",
    "with open(\"stored_variables/td_author_history.json\", \"w\") as f:\n",
    "    json.dump(td_author_history, f)\n",
    "\n",
    "with open(\"stored_variables/td_author_cutoff.json\", \"w\") as f:\n",
    "    json.dump(td_author_cutoff, f)"
   ]
  },
  {
   "cell_type": "code",
   "execution_count": 5,
   "metadata": {},
   "outputs": [],
   "source": [
    "neither_author_history, neither_author_cutoff = read_file(neither_file, '!!!!!')\n",
    "\n",
    "with open(\"stored_variables/neither_author_history.json\", \"w\") as f:\n",
    "    json.dump(neither_author_history, f)\n",
    "\n",
    "with open(\"stored_variables/neither_author_cutoff.json\", \"w\") as f:\n",
    "    json.dump(neither_author_cutoff, f)"
   ]
  },
  {
   "cell_type": "code",
   "execution_count": 3,
   "metadata": {},
   "outputs": [],
   "source": [
    "def get_subreddits_by_author(author_history, author_cutoff):\n",
    "    subreddits_by_author = {}\n",
    "    total_posts = {}\n",
    "\n",
    "    for author in list(author_history.keys()):\n",
    "        # each entry is a dictionary of subreddit:number of posts in that subreddit by the author\n",
    "        subreddits_by_author[author] = {}\n",
    "        total = 0\n",
    "\n",
    "        for subreddit, timestamp in author_history[author]:\n",
    "\n",
    "            if int(timestamp) < author_cutoff[author]:                \n",
    "                total += 1\n",
    "\n",
    "                if subreddit in subreddits_by_author[author].keys():\n",
    "                    subreddits_by_author[author][subreddit] += 1\n",
    "                else:\n",
    "                    subreddits_by_author[author][subreddit] = 1 \n",
    "\n",
    "        total_posts[author] = total\n",
    "    \n",
    "    return subreddits_by_author, total_posts"
   ]
  },
  {
   "cell_type": "code",
   "execution_count": 7,
   "metadata": {},
   "outputs": [],
   "source": [
    "sfp_subreddits_by_author, sfp_total_posts =\\\n",
    "    get_subreddits_by_author(sfp_author_history, sfp_author_cutoff)\n",
    "td_subreddits_by_author, td_total_posts =\\\n",
    "    get_subreddits_by_author(td_author_history, td_author_cutoff)\n",
    "neither_subreddits_by_author, neither_total_posts =\\\n",
    "    get_subreddits_by_author(neither_author_history, neither_author_cutoff)"
   ]
  },
  {
   "cell_type": "code",
   "execution_count": 8,
   "metadata": {},
   "outputs": [],
   "source": [
    "with open(\"stored_variables/sfp_subreddits_by_author.json\", \"w\") as f:\n",
    "    json.dump(sfp_subreddits_by_author, f)\n",
    "    \n",
    "with open(\"stored_variables/sfp_total_posts.json\", \"w\") as f:\n",
    "    json.dump(sfp_total_posts, f)\n",
    "\n",
    "with open(\"stored_variables/td_subreddits_by_author.json\", \"w\") as f:\n",
    "    json.dump(td_subreddits_by_author, f)\n",
    "    \n",
    "with open(\"stored_variables/td_total_posts.json\", \"w\") as f:\n",
    "    json.dump(td_total_posts, f)\n",
    "    \n",
    "with open(\"stored_variables/neither_subreddits_by_author.json\", \"w\") as f:\n",
    "    json.dump(neither_subreddits_by_author, f)\n",
    "    \n",
    "with open(\"stored_variables/neither_total_posts.json\", \"w\") as f:\n",
    "    json.dump(neither_total_posts, f)"
   ]
  },
  {
   "cell_type": "markdown",
   "metadata": {},
   "source": [
    "## /r/Politics"
   ]
  },
  {
   "cell_type": "code",
   "execution_count": 4,
   "metadata": {},
   "outputs": [],
   "source": [
    "# politics_file = '../sample_data/politics_auth_comments.csv'\n",
    "politics_file = '../sample_data/politics_auth_comments2.csv'\n",
    "\n",
    "\n",
    "politics_author_history, politics_author_cutoff = read_file(politics_file, '!!!', first_row = False, created_row=4, time_cutoff = 9483228800) #no cutoff"
   ]
  },
  {
   "cell_type": "code",
   "execution_count": 5,
   "metadata": {},
   "outputs": [],
   "source": [
    "politics_subreddit_by_author, politics_total_posts =\\\n",
    "    get_subreddits_by_author(politics_author_history, politics_author_cutoff)"
   ]
  },
  {
   "cell_type": "code",
   "execution_count": 6,
   "metadata": {},
   "outputs": [],
   "source": [
    "# with open(\"stored_variables/politics_author_history.json\", \"w\") as f:\n",
    "#     json.dump(politics_author_history, f)\n",
    "with open(\"stored_variables/politics_author_history2.json\", \"w\") as f:\n",
    "    json.dump(politics_author_history, f)"
   ]
  },
  {
   "cell_type": "code",
   "execution_count": 7,
   "metadata": {},
   "outputs": [],
   "source": [
    "# with open(\"stored_variables/politics_subreddits_by_author.json\", \"w\") as f:\n",
    "#     json.dump(politics_subreddit_by_author, f)\n",
    "with open(\"stored_variables/politics_subreddits_by_author2.json\", \"w\") as f:\n",
    "    json.dump(politics_subreddit_by_author, f)"
   ]
  },
  {
   "cell_type": "markdown",
   "metadata": {},
   "source": [
    "## By month"
   ]
  },
  {
   "cell_type": "code",
   "execution_count": 4,
   "metadata": {},
   "outputs": [],
   "source": [
    "with open(\"stored_variables/politics_author_history2.json\", \"r\") as f:\n",
    "    politics_author_history = json.load(f)"
   ]
  },
  {
   "cell_type": "code",
   "execution_count": 7,
   "metadata": {},
   "outputs": [],
   "source": [
    "months = [int(datetime(2015, i, 1).timestamp()) for i in range(1,13)] + [int(datetime(2016, i, 1).timestamp()) for i in range(1,7)]"
   ]
  },
  {
   "cell_type": "code",
   "execution_count": 8,
   "metadata": {},
   "outputs": [],
   "source": [
    "def month_number(timestamp):\n",
    "    for i in range(len(months)):\n",
    "        if timestamp < months[i]:\n",
    "            return i - 1\n",
    "    return -1"
   ]
  },
  {
   "cell_type": "code",
   "execution_count": 9,
   "metadata": {},
   "outputs": [],
   "source": [
    "with open(\"stored_variables/user_subreddit_tf_auths.pickle\", \"rb\") as f:\n",
    "    author_names = pickle.load(f)"
   ]
  },
  {
   "cell_type": "code",
   "execution_count": 10,
   "metadata": {},
   "outputs": [],
   "source": [
    "with open(\"stored_variables/user_subreddit_tf_subreddit_names.pickle\", \"rb\") as f:\n",
    "    subreddit_reverse_dict = pickle.load(f)"
   ]
  },
  {
   "cell_type": "code",
   "execution_count": 23,
   "metadata": {},
   "outputs": [
    {
     "data": {
      "text/plain": [
       "['reddit.com', 1136486353]"
      ]
     },
     "execution_count": 23,
     "metadata": {},
     "output_type": "execute_result"
    }
   ],
   "source": [
    "politics_author_history[author_names[0]][0]"
   ]
  },
  {
   "cell_type": "code",
   "execution_count": 11,
   "metadata": {},
   "outputs": [],
   "source": [
    "tf_indptr_lst = []\n",
    "tf_indices_lst = []\n",
    "tf_data_lst = []\n",
    "\n",
    "for i in range(len(months)):\n",
    "    tf_indptr_lst.append([0])\n",
    "    tf_indices_lst.append([])\n",
    "    tf_data_lst.append([])"
   ]
  },
  {
   "cell_type": "code",
   "execution_count": 12,
   "metadata": {},
   "outputs": [
    {
     "name": "stdout",
     "output_type": "stream",
     "text": [
      "0\n",
      "1000\n",
      "2000\n",
      "3000\n",
      "4000\n",
      "5000\n",
      "6000\n",
      "7000\n",
      "8000\n",
      "9000\n",
      "10000\n",
      "11000\n",
      "12000\n",
      "13000\n",
      "14000\n",
      "15000\n",
      "16000\n",
      "17000\n",
      "18000\n",
      "19000\n"
     ]
    }
   ],
   "source": [
    "for i in range(len(author_names)):\n",
    "    if i % 1000 == 0:\n",
    "        print(i)\n",
    "            \n",
    "    for subreddit, timestamp in politics_author_history[author_names[i]]:\n",
    "        month_num = month_number(timestamp)\n",
    "        if month_num > -1 and subreddit.lower() in subreddit_reverse_dict.keys():\n",
    "            index = subreddit_reverse_dict[subreddit.lower()]\n",
    "            tf_indices_lst[month_num].append(index)\n",
    "            tf_data_lst[month_num].append(1)\n",
    "        \n",
    "    for j in range(len(months)):\n",
    "        tf_indptr_lst[j].append(len(tf_indices_lst[j]))"
   ]
  },
  {
   "cell_type": "code",
   "execution_count": 13,
   "metadata": {},
   "outputs": [],
   "source": [
    "subreddit_tf_by_month = []"
   ]
  },
  {
   "cell_type": "code",
   "execution_count": 14,
   "metadata": {},
   "outputs": [],
   "source": [
    "for i in range(len(months)):\n",
    "    subreddit_tf_by_month.append(csr_matrix((tf_data_lst[i], tf_indices_lst[i], tf_indptr_lst[i]), \n",
    "                                            shape = (len(author_names), len(subreddit_reverse_dict))))"
   ]
  },
  {
   "cell_type": "code",
   "execution_count": 15,
   "metadata": {},
   "outputs": [],
   "source": [
    "subreddit_tf_by_month = [csr_matrix(coo_matrix(k)) for k in subreddit_tf_by_month]"
   ]
  },
  {
   "cell_type": "code",
   "execution_count": 16,
   "metadata": {},
   "outputs": [],
   "source": [
    "# for i in range(len(months)):\n",
    "#     with open(\"stored_variables/subreddit_tf\" + str(i) + \".pickle\", 'wb') as f:\n",
    "#         pickle.dump(subreddit_tf_by_month[i], f)"
   ]
  },
  {
   "cell_type": "code",
   "execution_count": null,
   "metadata": {},
   "outputs": [],
   "source": []
  }
 ],
 "metadata": {
  "kernelspec": {
   "display_name": "Python 3",
   "language": "python",
   "name": "python3"
  },
  "language_info": {
   "codemirror_mode": {
    "name": "ipython",
    "version": 3
   },
   "file_extension": ".py",
   "mimetype": "text/x-python",
   "name": "python",
   "nbconvert_exporter": "python",
   "pygments_lexer": "ipython3",
   "version": "3.7.3"
  }
 },
 "nbformat": 4,
 "nbformat_minor": 2
}
