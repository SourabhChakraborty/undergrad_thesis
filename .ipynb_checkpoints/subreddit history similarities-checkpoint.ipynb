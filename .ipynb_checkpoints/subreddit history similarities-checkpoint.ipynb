{
 "cells": [
  {
   "cell_type": "code",
   "execution_count": 1,
   "metadata": {},
   "outputs": [],
   "source": [
    "import json\n",
    "import pickle\n",
    "\n",
    "from scipy.sparse import coo_matrix, csr_matrix, csc_matrix\n",
    "from scipy.linalg import norm\n",
    "\n",
    "from sklearn.decomposition import PCA, TruncatedSVD\n",
    "\n",
    "from matplotlib import pyplot as plt\n",
    "from IPython.display import HTML, display\n",
    "import pandas as pd\n",
    "import numpy as np\n"
   ]
  },
  {
   "cell_type": "code",
   "execution_count": 2,
   "metadata": {},
   "outputs": [],
   "source": [
    "with open(\"stored_variables/user_subreddit_tf.pickle\", \"rb\") as f:\n",
    "    subreddit_tf = pickle.load(f)"
   ]
  },
  {
   "cell_type": "code",
   "execution_count": 3,
   "metadata": {},
   "outputs": [],
   "source": [
    "with open(\"stored_variables/user_subreddit_df_mat.pickle\", \"rb\") as f:\n",
    "    subreddit_df_mat = pickle.load(f)"
   ]
  },
  {
   "cell_type": "code",
   "execution_count": 4,
   "metadata": {},
   "outputs": [],
   "source": [
    "with open(\"stored_variables/user_subreddit_tf_auths.pickle\", \"rb\") as f:\n",
    "    author_names = pickle.load(f)"
   ]
  },
  {
   "cell_type": "code",
   "execution_count": 5,
   "metadata": {},
   "outputs": [],
   "source": [
    "with open(\"stored_variables/user_subreddit_tf_subreddit_names.pickle\", \"rb\") as f:\n",
    "    subreddit_reverse_dict = pickle.load(f)"
   ]
  },
  {
   "cell_type": "markdown",
   "metadata": {},
   "source": [
    "## Cosine similarity"
   ]
  },
  {
   "cell_type": "code",
   "execution_count": 6,
   "metadata": {},
   "outputs": [],
   "source": [
    "subreddit_tf_c = coo_matrix(subreddit_tf)"
   ]
  },
  {
   "cell_type": "code",
   "execution_count": 7,
   "metadata": {},
   "outputs": [],
   "source": [
    "subreddit_df_c = coo_matrix(subreddit_df_mat)"
   ]
  },
  {
   "cell_type": "code",
   "execution_count": 8,
   "metadata": {},
   "outputs": [],
   "source": [
    "subreddit_idf = np.log(subreddit_df_c.sum() / (subreddit_df_c.sum(axis=0) + 1))"
   ]
  },
  {
   "cell_type": "code",
   "execution_count": 9,
   "metadata": {},
   "outputs": [],
   "source": [
    "subreddit_tfidf = csr_matrix(subreddit_tf_c.multiply(subreddit_idf))"
   ]
  },
  {
   "cell_type": "code",
   "execution_count": 13,
   "metadata": {},
   "outputs": [],
   "source": [
    "subreddit_tfidf_norms = np.zeros(subreddit_tfidf.shape[0])"
   ]
  },
  {
   "cell_type": "code",
   "execution_count": 14,
   "metadata": {},
   "outputs": [],
   "source": [
    "for i in range(20):\n",
    "    subreddit_tfidf_norms[i*1000 : (i+1) * 1000] = norm(subreddit_tfidf[i*1000 : (i+1) * 1000].toarray(), axis=1)"
   ]
  },
  {
   "cell_type": "code",
   "execution_count": 15,
   "metadata": {},
   "outputs": [],
   "source": [
    "subreddit_tfidf_normalized = csr_matrix(subreddit_tfidf / subreddit_tfidf_norms[:, np.newaxis])"
   ]
  },
  {
   "cell_type": "code",
   "execution_count": 14,
   "metadata": {},
   "outputs": [],
   "source": [
    "subreddit_cosine_sims = np.zeros((subreddit_tfidf.shape[0], subreddit_tfidf.shape[0]))"
   ]
  },
  {
   "cell_type": "code",
   "execution_count": 15,
   "metadata": {},
   "outputs": [],
   "source": [
    "for i in range(20):\n",
    "    chunk1 = subreddit_tfidf_normalized[i*1000 : (i+1)*1000, :]\n",
    "    for j in range(20):\n",
    "        chunk2 = subreddit_tfidf_normalized[j*1000 : (j+1)*1000, :]\n",
    "        subreddit_cosine_sims[i*1000 : (i+1)*1000, j*1000 : (j+1)*1000] = chunk1.dot(csc_matrix(chunk2.T)).toarray()\n"
   ]
  },
  {
   "cell_type": "code",
   "execution_count": 16,
   "metadata": {},
   "outputs": [],
   "source": [
    "for i in range(subreddit_tfidf.shape[0]):\n",
    "    subreddit_cosine_sims[i,i] = 0"
   ]
  },
  {
   "cell_type": "code",
   "execution_count": 7,
   "metadata": {},
   "outputs": [],
   "source": [
    "# with open(\"stored_variables/user_subreddit_tfidf_cossims.pickle\", \"wb\") as f:\n",
    "#     pickle.dump(subreddit_cosine_sims, f)\n",
    "with open(\"stored_variables/user_subreddit_tfidf_cossims.pickle\", \"rb\") as f:\n",
    "    subreddit_cosine_sims = pickle.load(f)"
   ]
  },
  {
   "cell_type": "code",
   "execution_count": 13,
   "metadata": {},
   "outputs": [],
   "source": [
    "most_similar_user = np.zeros(subreddit_tfidf.shape[0], dtype = np.int32)"
   ]
  },
  {
   "cell_type": "code",
   "execution_count": 14,
   "metadata": {},
   "outputs": [],
   "source": [
    "for i in range(subreddit_tfidf.shape[0]):\n",
    "    most_similar_user[i] = np.argsort(subreddit_cosine_sims[i])[-1]"
   ]
  },
  {
   "cell_type": "code",
   "execution_count": 15,
   "metadata": {
    "scrolled": true
   },
   "outputs": [
    {
     "data": {
      "text/plain": [
       "array([17655,    16,  6234,   202, 16449, 16449,   946,    20, 12246,\n",
       "         143], dtype=int32)"
      ]
     },
     "execution_count": 15,
     "metadata": {},
     "output_type": "execute_result"
    }
   ],
   "source": [
    "most_similar_user[:10]"
   ]
  },
  {
   "cell_type": "code",
   "execution_count": 16,
   "metadata": {
    "scrolled": true
   },
   "outputs": [
    {
     "data": {
      "text/plain": [
       "[0.8121707495243793,\n",
       " 0.6337431236865456,\n",
       " 0.7519535958858542,\n",
       " 0.866248873336835,\n",
       " 0.8842001371009686,\n",
       " 0.640120700372724,\n",
       " 0.6579174327963478,\n",
       " 0.9480065628775193,\n",
       " 0.9820935090201509,\n",
       " 0.7914165081149797]"
      ]
     },
     "execution_count": 16,
     "metadata": {},
     "output_type": "execute_result"
    }
   ],
   "source": [
    "[subreddit_cosine_sims[i, most_similar_user[i]] for i in range(10)]"
   ]
  },
  {
   "cell_type": "markdown",
   "metadata": {},
   "source": [
    "## Check similarities by subreddits authors commented in"
   ]
  },
  {
   "cell_type": "code",
   "execution_count": 10,
   "metadata": {},
   "outputs": [],
   "source": [
    "author_reverse_dict = {author_names[i]:i for i in range(len(author_names))}"
   ]
  },
  {
   "cell_type": "code",
   "execution_count": 11,
   "metadata": {},
   "outputs": [],
   "source": [
    "num_sanders = {k:(subreddit_tf[author_reverse_dict[k], subreddit_reverse_dict['sandersforpresident']]) for k in author_names}\n",
    "num_trump = {k:(subreddit_tf[author_reverse_dict[k], subreddit_reverse_dict['the_donald']]) for k in author_names}\n",
    "num_clinton = {k:(subreddit_tf[author_reverse_dict[k], subreddit_reverse_dict['hillaryclinton']]) for k in author_names}\n",
    "num_politics = {k:(subreddit_tf[author_reverse_dict[k], subreddit_reverse_dict['politics']]) for k in author_names}\n"
   ]
  },
  {
   "cell_type": "code",
   "execution_count": 12,
   "metadata": {},
   "outputs": [],
   "source": [
    "comment_threshold = 10"
   ]
  },
  {
   "cell_type": "code",
   "execution_count": 13,
   "metadata": {},
   "outputs": [],
   "source": [
    "sanders_user_indices = [i for i in range(subreddit_tf.shape[0]) if num_sanders[author_names[i]] >= comment_threshold]\n",
    "trump_user_indices = [i for i in range(subreddit_tf.shape[0]) if num_trump[author_names[i]] >= comment_threshold]\n",
    "clinton_user_indices = [i for i in range(subreddit_tf.shape[0]) if num_clinton[author_names[i]] >= comment_threshold]"
   ]
  },
  {
   "cell_type": "code",
   "execution_count": 14,
   "metadata": {},
   "outputs": [],
   "source": [
    "none_user_indices = [i for i in range(subreddit_tf.shape[0]) if num_sanders[author_names[i]] == 0 and \n",
    "                     num_trump[author_names[i]] == 0 and\n",
    "                     num_clinton[author_names[i]] == 0]"
   ]
  },
  {
   "cell_type": "code",
   "execution_count": 25,
   "metadata": {},
   "outputs": [
    {
     "name": "stdout",
     "output_type": "stream",
     "text": [
      "1557\n",
      "919\n",
      "137\n",
      "12958\n"
     ]
    }
   ],
   "source": [
    "print(len(sanders_user_indices))\n",
    "print(len(trump_user_indices))\n",
    "print(len(clinton_user_indices))\n",
    "print(len(none_user_indices))"
   ]
  },
  {
   "cell_type": "code",
   "execution_count": 28,
   "metadata": {},
   "outputs": [
    {
     "name": "stdout",
     "output_type": "stream",
     "text": [
      "206\n",
      "73\n",
      "18\n"
     ]
    }
   ],
   "source": [
    "print(len(set(sanders_user_indices).intersection(trump_user_indices)))\n",
    "print(len(set(sanders_user_indices).intersection(clinton_user_indices)))\n",
    "print(len(set(trump_user_indices).intersection(clinton_user_indices)))"
   ]
  },
  {
   "cell_type": "code",
   "execution_count": 29,
   "metadata": {},
   "outputs": [
    {
     "data": {
      "text/plain": [
       "0.138818073116637"
      ]
     },
     "execution_count": 29,
     "metadata": {},
     "output_type": "execute_result"
    }
   ],
   "source": [
    "np.sum(subreddit_cosine_sims[sanders_user_indices, :][:,sanders_user_indices]) / \\\n",
    "(len(sanders_user_indices) * (len(sanders_user_indices)-1))"
   ]
  },
  {
   "cell_type": "code",
   "execution_count": 30,
   "metadata": {},
   "outputs": [
    {
     "data": {
      "text/plain": [
       "0.14352057932099493"
      ]
     },
     "execution_count": 30,
     "metadata": {},
     "output_type": "execute_result"
    }
   ],
   "source": [
    "np.sum(subreddit_cosine_sims[trump_user_indices, :][:,trump_user_indices]) / \\\n",
    "(len(trump_user_indices) * (len(trump_user_indices)-1))"
   ]
  },
  {
   "cell_type": "code",
   "execution_count": 31,
   "metadata": {},
   "outputs": [
    {
     "data": {
      "text/plain": [
       "0.12949415279378929"
      ]
     },
     "execution_count": 31,
     "metadata": {},
     "output_type": "execute_result"
    }
   ],
   "source": [
    "np.sum(subreddit_cosine_sims[clinton_user_indices, :][:,clinton_user_indices]) / \\\n",
    "(len(clinton_user_indices) * (len(clinton_user_indices)-1))"
   ]
  },
  {
   "cell_type": "code",
   "execution_count": 32,
   "metadata": {},
   "outputs": [
    {
     "data": {
      "text/plain": [
       "0.0982426762905685"
      ]
     },
     "execution_count": 32,
     "metadata": {},
     "output_type": "execute_result"
    }
   ],
   "source": [
    "np.sum(subreddit_cosine_sims[none_user_indices, :][:,none_user_indices]) / \\\n",
    "(len(none_user_indices) * (len(none_user_indices)-1))"
   ]
  },
  {
   "cell_type": "code",
   "execution_count": 33,
   "metadata": {},
   "outputs": [
    {
     "data": {
      "text/plain": [
       "0.09393301351386252"
      ]
     },
     "execution_count": 33,
     "metadata": {},
     "output_type": "execute_result"
    }
   ],
   "source": [
    "np.sum(subreddit_cosine_sims) / (subreddit_cosine_sims.shape[0] * (subreddit_cosine_sims.shape[1] - 1))"
   ]
  },
  {
   "cell_type": "code",
   "execution_count": 34,
   "metadata": {},
   "outputs": [
    {
     "name": "stdout",
     "output_type": "stream",
     "text": [
      "0.08808657193636073\n",
      "0.10329472681020092\n",
      "0.06596397218776581\n",
      "\n",
      "0.0914953263809247\n",
      "0.07740057658285684\n",
      "0.06820820982044046\n"
     ]
    }
   ],
   "source": [
    "print(np.sum(subreddit_cosine_sims[sanders_user_indices, :][:,trump_user_indices]) / \\\n",
    "((len(sanders_user_indices) * len(trump_user_indices)) - \\\n",
    "len(set(sanders_user_indices).intersection(trump_user_indices))))\n",
    "\n",
    "print(np.sum(subreddit_cosine_sims[sanders_user_indices, :][:,clinton_user_indices]) / \\\n",
    "((len(sanders_user_indices) * len(clinton_user_indices)) - \\\n",
    "len(set(sanders_user_indices).intersection(clinton_user_indices))))\n",
    "\n",
    "print(np.sum(subreddit_cosine_sims[clinton_user_indices, :][:,trump_user_indices]) / \\\n",
    "((len(clinton_user_indices) * len(trump_user_indices)) - \\\n",
    "len(set(clinton_user_indices).intersection(trump_user_indices))))\n",
    "\n",
    "print()\n",
    "print(np.sum(subreddit_cosine_sims[sanders_user_indices, :][:,none_user_indices]) / \\\n",
    "((len(sanders_user_indices) * len(none_user_indices))))\n",
    "print(np.sum(subreddit_cosine_sims[trump_user_indices, :][:,none_user_indices]) / \\\n",
    "((len(trump_user_indices) * len(none_user_indices))))\n",
    "print(np.sum(subreddit_cosine_sims[clinton_user_indices, :][:,none_user_indices]) / \\\n",
    "((len(clinton_user_indices) * len(none_user_indices))))"
   ]
  },
  {
   "cell_type": "code",
   "execution_count": 36,
   "metadata": {},
   "outputs": [
    {
     "data": {
      "text/plain": [
       "12958"
      ]
     },
     "execution_count": 36,
     "metadata": {},
     "output_type": "execute_result"
    }
   ],
   "source": [
    "len(none_user_indices)"
   ]
  },
  {
   "cell_type": "code",
   "execution_count": 34,
   "metadata": {
    "scrolled": true
   },
   "outputs": [
    {
     "name": "stdout",
     "output_type": "stream",
     "text": [
      "388\n",
      "3.200991317311052\n",
      "75\n",
      "1.0483037397187611\n",
      "22\n",
      "2.0627352807429595\n",
      "727\n",
      "0.7206722811696461\n",
      "\n",
      "71\n",
      "0.9923942069337605\n",
      "273\n",
      "6.464897147748949\n",
      "7\n",
      "1.1119671493133603\n",
      "386\n",
      "0.6482817761778616\n",
      "\n",
      "29\n",
      "2.719060142797538\n",
      "2\n",
      "0.3177048998038172\n",
      "28\n",
      "29.836432415152647\n",
      "58\n",
      "0.6534305668059526\n",
      "\n",
      "567\n",
      "0.5620649015449648\n",
      "304\n",
      "0.5105638859017356\n",
      "38\n",
      "0.42810968170045166\n",
      "9343\n",
      "1.1128596428734185\n"
     ]
    }
   ],
   "source": [
    "print(len([i for i in most_similar_user[sanders_user_indices] if i in set(sanders_user_indices)]))\n",
    "print(subreddit_cosine_sims.shape[0] * len([i for i in most_similar_user[sanders_user_indices] if i in set(sanders_user_indices)])/(len(sanders_user_indices)*len(sanders_user_indices)))\n",
    "print(len([i for i in most_similar_user[sanders_user_indices] if i in set(trump_user_indices)]))\n",
    "print(subreddit_cosine_sims.shape[0] * len([i for i in most_similar_user[sanders_user_indices] if i in set(trump_user_indices)])/(len(trump_user_indices)*len(sanders_user_indices)))\n",
    "print(len([i for i in most_similar_user[sanders_user_indices] if i in set(clinton_user_indices)]))\n",
    "print(subreddit_cosine_sims.shape[0] * len([i for i in most_similar_user[sanders_user_indices] if i in set(clinton_user_indices)])/(len(clinton_user_indices)*len(sanders_user_indices)))\n",
    "print(len([i for i in most_similar_user[sanders_user_indices] if i in set(none_user_indices)]))\n",
    "print(subreddit_cosine_sims.shape[0] * len([i for i in most_similar_user[sanders_user_indices] if i in set(none_user_indices)])/(len(none_user_indices)*len(sanders_user_indices)))\n",
    "print()\n",
    "print(len([i for i in most_similar_user[trump_user_indices] if i in set(sanders_user_indices)]))\n",
    "print(subreddit_cosine_sims.shape[0] * len([i for i in most_similar_user[trump_user_indices] if i in set(sanders_user_indices)])/(len(sanders_user_indices)*len(trump_user_indices)))\n",
    "print(len([i for i in most_similar_user[trump_user_indices] if i in set(trump_user_indices)]))\n",
    "print(subreddit_cosine_sims.shape[0] * len([i for i in most_similar_user[trump_user_indices] if i in set(trump_user_indices)])/(len(trump_user_indices)*len(trump_user_indices)))\n",
    "print(len([i for i in most_similar_user[trump_user_indices] if i in set(clinton_user_indices)]))\n",
    "print(subreddit_cosine_sims.shape[0] * len([i for i in most_similar_user[trump_user_indices] if i in set(clinton_user_indices)])/(len(clinton_user_indices)*len(trump_user_indices)))\n",
    "print(len([i for i in most_similar_user[trump_user_indices] if i in set(none_user_indices)]))\n",
    "print(subreddit_cosine_sims.shape[0] * len([i for i in most_similar_user[trump_user_indices] if i in set(none_user_indices)])/(len(none_user_indices)*len(trump_user_indices)))\n",
    "print()\n",
    "print(len([i for i in most_similar_user[clinton_user_indices] if i in set(sanders_user_indices)]))\n",
    "print(subreddit_cosine_sims.shape[0] * len([i for i in most_similar_user[clinton_user_indices] if i in set(sanders_user_indices)])/(len(sanders_user_indices)*len(clinton_user_indices)))\n",
    "print(len([i for i in most_similar_user[clinton_user_indices] if i in set(trump_user_indices)]))\n",
    "print(subreddit_cosine_sims.shape[0] * len([i for i in most_similar_user[clinton_user_indices] if i in set(trump_user_indices)])/(len(trump_user_indices)*len(clinton_user_indices)))\n",
    "print(len([i for i in most_similar_user[clinton_user_indices] if i in set(clinton_user_indices)]))\n",
    "print(subreddit_cosine_sims.shape[0] * len([i for i in most_similar_user[clinton_user_indices] if i in set(clinton_user_indices)])/(len(clinton_user_indices)*len(clinton_user_indices)))\n",
    "print(len([i for i in most_similar_user[clinton_user_indices] if i in set(none_user_indices)]))\n",
    "print(subreddit_cosine_sims.shape[0] * len([i for i in most_similar_user[clinton_user_indices] if i in set(none_user_indices)])/(len(none_user_indices)*len(clinton_user_indices)))\n",
    "print()\n",
    "print(len([i for i in most_similar_user[none_user_indices] if i in set(sanders_user_indices)]))\n",
    "print(subreddit_cosine_sims.shape[0] * len([i for i in most_similar_user[none_user_indices] if i in set(sanders_user_indices)])/(len(sanders_user_indices)*len(none_user_indices)))\n",
    "print(len([i for i in most_similar_user[none_user_indices] if i in set(trump_user_indices)]))\n",
    "print(subreddit_cosine_sims.shape[0] * len([i for i in most_similar_user[none_user_indices] if i in set(trump_user_indices)])/(len(none_user_indices)*len(trump_user_indices)))\n",
    "print(len([i for i in most_similar_user[none_user_indices] if i in set(clinton_user_indices)]))\n",
    "print(subreddit_cosine_sims.shape[0] * len([i for i in most_similar_user[none_user_indices] if i in set(clinton_user_indices)])/(len(clinton_user_indices)*len(none_user_indices)))\n",
    "print(len([i for i in most_similar_user[none_user_indices] if i in set(none_user_indices)]))\n",
    "print(subreddit_cosine_sims.shape[0] * len([i for i in most_similar_user[none_user_indices] if i in set(none_user_indices)])/(len(none_user_indices)*len(none_user_indices)))\n"
   ]
  },
  {
   "cell_type": "code",
   "execution_count": 26,
   "metadata": {},
   "outputs": [],
   "source": [
    "sanders_sanders_sims = []\n",
    "\n",
    "for i in range(len(sanders_user_indices)):\n",
    "    for j in range(i+1, len(sanders_user_indices)):\n",
    "        sanders_sanders_sims.append(subreddit_cosine_sims[sanders_user_indices[i],sanders_user_indices[j]])"
   ]
  },
  {
   "cell_type": "code",
   "execution_count": 27,
   "metadata": {},
   "outputs": [
    {
     "data": {
      "image/png": "[encoded data removed]",
      "text/plain": [
       "<Figure size 432x288 with 1 Axes>"
      ]
     },
     "metadata": {
      "needs_background": "light"
     },
     "output_type": "display_data"
    }
   ],
   "source": [
    "plt.hist(sanders_sanders_sims, range = (0, 1))\n",
    "plt.show()"
   ]
  },
  {
   "cell_type": "code",
   "execution_count": 28,
   "metadata": {},
   "outputs": [],
   "source": [
    "trump_trump_sims = []\n",
    "\n",
    "for i in range(len(trump_user_indices)):\n",
    "    for j in range(i+1, len(trump_user_indices)):\n",
    "        trump_trump_sims.append(subreddit_cosine_sims[trump_user_indices[i],trump_user_indices[j]])"
   ]
  },
  {
   "cell_type": "code",
   "execution_count": 29,
   "metadata": {},
   "outputs": [
    {
     "data": {
      "image/png": "[encoded data removed]",
      "text/plain": [
       "<Figure size 432x288 with 1 Axes>"
      ]
     },
     "metadata": {
      "needs_background": "light"
     },
     "output_type": "display_data"
    }
   ],
   "source": [
    "plt.hist(trump_trump_sims, range = (0,1))\n",
    "plt.show()"
   ]
  },
  {
   "cell_type": "code",
   "execution_count": 34,
   "metadata": {},
   "outputs": [],
   "source": [
    "clinton_clinton_sims = []\n",
    "\n",
    "for i in range(len(clinton_user_indices)):\n",
    "    for j in range(i+1, len(clinton_user_indices)):\n",
    "        clinton_clinton_sims.append(subreddit_cosine_sims[clinton_user_indices[i],clinton_user_indices[j]])"
   ]
  },
  {
   "cell_type": "code",
   "execution_count": 35,
   "metadata": {
    "scrolled": true
   },
   "outputs": [
    {
     "data": {
      "image/png": "[encoded data removed]",
      "text/plain": [
       "<Figure size 432x288 with 1 Axes>"
      ]
     },
     "metadata": {
      "needs_background": "light"
     },
     "output_type": "display_data"
    }
   ],
   "source": [
    "plt.hist(clinton_clinton_sims, range = (0,1))\n",
    "plt.show()"
   ]
  },
  {
   "cell_type": "code",
   "execution_count": 37,
   "metadata": {},
   "outputs": [],
   "source": [
    "none_none_sims = []\n",
    "\n",
    "for i in range(len(none_user_indices)):\n",
    "    for j in range(i+1, len(none_user_indices)):\n",
    "        none_none_sims.append(subreddit_cosine_sims[none_user_indices[i],none_user_indices[j]])"
   ]
  },
  {
   "cell_type": "code",
   "execution_count": 38,
   "metadata": {},
   "outputs": [
    {
     "data": {
      "image/png": "[encoded data removed]",
      "text/plain": [
       "<Figure size 432x288 with 1 Axes>"
      ]
     },
     "metadata": {
      "needs_background": "light"
     },
     "output_type": "display_data"
    }
   ],
   "source": [
    "plt.hist(none_none_sims, range = (0,1))\n",
    "plt.show()"
   ]
  },
  {
   "cell_type": "markdown",
   "metadata": {},
   "source": [
    "## Use SVD"
   ]
  },
  {
   "cell_type": "code",
   "execution_count": 37,
   "metadata": {},
   "outputs": [],
   "source": [
    "user_svd = TruncatedSVD(n_components = 100)\n",
    "user_svd_points = user_svd.fit_transform(subreddit_tfidf)"
   ]
  },
  {
   "cell_type": "code",
   "execution_count": 38,
   "metadata": {},
   "outputs": [],
   "source": [
    "user_svd_norms = np.zeros(subreddit_tfidf.shape[0])"
   ]
  },
  {
   "cell_type": "code",
   "execution_count": 39,
   "metadata": {},
   "outputs": [],
   "source": [
    "for i in range(20):\n",
    "    user_svd_norms[i*1000 : (i+1) * 1000] = norm(user_svd_points[i*1000 : (i+1) * 1000], axis=1)"
   ]
  },
  {
   "cell_type": "code",
   "execution_count": 40,
   "metadata": {},
   "outputs": [
    {
     "data": {
      "text/plain": [
       "array([ 1775.24824427,   880.26298633,  5447.13939708, 21340.44191801,\n",
       "        3417.47318776,  2496.16597088,  1440.834594  ,  9980.56087219,\n",
       "         797.29651938,  7851.80242155])"
      ]
     },
     "execution_count": 40,
     "metadata": {},
     "output_type": "execute_result"
    }
   ],
   "source": [
    "user_svd_norms[:10]"
   ]
  },
  {
   "cell_type": "code",
   "execution_count": 41,
   "metadata": {},
   "outputs": [],
   "source": [
    "user_svd_normalized = user_svd_points / user_svd_norms[:, np.newaxis]"
   ]
  },
  {
   "cell_type": "code",
   "execution_count": 42,
   "metadata": {},
   "outputs": [],
   "source": [
    "svd_cosine_sims = np.zeros((subreddit_tfidf.shape[0], subreddit_tfidf.shape[0]))"
   ]
  },
  {
   "cell_type": "code",
   "execution_count": 43,
   "metadata": {},
   "outputs": [],
   "source": [
    "for i in range(20):\n",
    "    chunk1 = csr_matrix(user_svd_normalized[i*1000 : (i+1)*1000, :])\n",
    "    for j in range(i,20):\n",
    "        chunk2 = csc_matrix(user_svd_normalized[j*1000 : (j+1)*1000, :].T)\n",
    "        svd_cosine_sims[i*1000 : (i+1)*1000, j*1000 : (j+1)*1000] = chunk1.dot(chunk2).toarray()\n"
   ]
  },
  {
   "cell_type": "code",
   "execution_count": 44,
   "metadata": {},
   "outputs": [
    {
     "data": {
      "text/plain": [
       "array([[1.        , 0.59783156, 0.40808062, 0.62739787, 0.78348443,\n",
       "        0.58775661, 0.79592686, 0.83958192, 0.11066431, 0.77334763],\n",
       "       [0.59783156, 1.        , 0.3494453 , 0.70089828, 0.6741954 ,\n",
       "        0.50892622, 0.69959947, 0.70931297, 0.09492274, 0.68977752],\n",
       "       [0.40808062, 0.3494453 , 1.        , 0.72766971, 0.20737886,\n",
       "        0.34067713, 0.3402866 , 0.35578086, 0.04695287, 0.35552503],\n",
       "       [0.62739787, 0.70089828, 0.72766971, 1.        , 0.55633985,\n",
       "        0.47124046, 0.67937756, 0.70789241, 0.06972697, 0.67992669],\n",
       "       [0.78348443, 0.6741954 , 0.20737886, 0.55633985, 1.        ,\n",
       "        0.68528983, 0.90414785, 0.93492961, 0.13880342, 0.79163326],\n",
       "       [0.58775661, 0.50892622, 0.34067713, 0.47124046, 0.68528983,\n",
       "        1.        , 0.63408559, 0.61578314, 0.15669713, 0.66496741],\n",
       "       [0.79592686, 0.69959947, 0.3402866 , 0.67937756, 0.90414785,\n",
       "        0.63408559, 1.        , 0.93237353, 0.10502594, 0.85535597],\n",
       "       [0.83958192, 0.70931297, 0.35578086, 0.70789241, 0.93492961,\n",
       "        0.61578314, 0.93237353, 1.        , 0.1073098 , 0.88237581],\n",
       "       [0.11066431, 0.09492274, 0.04695287, 0.06972697, 0.13880342,\n",
       "        0.15669713, 0.10502594, 0.1073098 , 1.        , 0.13266508],\n",
       "       [0.77334763, 0.68977752, 0.35552503, 0.67992669, 0.79163326,\n",
       "        0.66496741, 0.85535597, 0.88237581, 0.13266508, 1.        ]])"
      ]
     },
     "execution_count": 44,
     "metadata": {},
     "output_type": "execute_result"
    }
   ],
   "source": [
    "svd_cosine_sims[:10,:10]"
   ]
  },
  {
   "cell_type": "code",
   "execution_count": 45,
   "metadata": {},
   "outputs": [],
   "source": [
    "for i in range(subreddit_tfidf.shape[0]):\n",
    "    svd_cosine_sims[i,i] = 0"
   ]
  },
  {
   "cell_type": "code",
   "execution_count": 46,
   "metadata": {},
   "outputs": [],
   "source": [
    "for i in range(20):\n",
    "    for j in range(i):\n",
    "        svd_cosine_sims[i*1000 : (i+1)*1000, j*1000 : (j+1)*1000] = \\\n",
    "svd_cosine_sims[j*1000 : (j+1)*1000, i*1000 : (i+1)*1000].T"
   ]
  },
  {
   "cell_type": "code",
   "execution_count": 47,
   "metadata": {},
   "outputs": [
    {
     "data": {
      "text/plain": [
       "0.508960569591113"
      ]
     },
     "execution_count": 47,
     "metadata": {},
     "output_type": "execute_result"
    }
   ],
   "source": [
    "svd_cosine_sims[3872,10415]"
   ]
  },
  {
   "cell_type": "code",
   "execution_count": 48,
   "metadata": {},
   "outputs": [
    {
     "data": {
      "text/plain": [
       "0.508960569591113"
      ]
     },
     "execution_count": 48,
     "metadata": {},
     "output_type": "execute_result"
    }
   ],
   "source": [
    "svd_cosine_sims[10415,3872]"
   ]
  },
  {
   "cell_type": "code",
   "execution_count": 10,
   "metadata": {},
   "outputs": [],
   "source": [
    "# with open(\"stored_variables/user_subreddit_tfidf_cossims_svd.pickle\", \"wb\") as f:\n",
    "#     pickle.dump(svd_cosine_sims, f)\n",
    "    \n",
    "with open(\"stored_variables/user_subreddit_tfidf_cossims_svd.pickle\", \"rb\") as f:\n",
    "    svd_cosine_sims = pickle.load(f)"
   ]
  },
  {
   "cell_type": "code",
   "execution_count": 11,
   "metadata": {},
   "outputs": [],
   "source": [
    "most_similar_user_svd = np.zeros(subreddit_tfidf.shape[0], dtype = np.int32)"
   ]
  },
  {
   "cell_type": "code",
   "execution_count": 12,
   "metadata": {},
   "outputs": [],
   "source": [
    "for i in range(subreddit_tfidf.shape[0]):\n",
    "    most_similar_user_svd[i] = np.argsort(svd_cosine_sims[i])[-1]"
   ]
  },
  {
   "cell_type": "code",
   "execution_count": 13,
   "metadata": {},
   "outputs": [
    {
     "data": {
      "text/plain": [
       "array([   26,    16,   828,   946,    55,   387,    64,   942, 12012,\n",
       "          43], dtype=int32)"
      ]
     },
     "execution_count": 13,
     "metadata": {},
     "output_type": "execute_result"
    }
   ],
   "source": [
    "most_similar_user_svd[:10]"
   ]
  },
  {
   "cell_type": "code",
   "execution_count": 14,
   "metadata": {
    "scrolled": false
   },
   "outputs": [
    {
     "data": {
      "text/plain": [
       "[0.9050887691107955,\n",
       " 0.8608446140501907,\n",
       " 0.9729882375039631,\n",
       " 0.9844443954397757,\n",
       " 0.9586222798420735,\n",
       " 0.7786442459705354,\n",
       " 0.9594219256049812,\n",
       " 0.9672330120406901,\n",
       " 0.9878724312473057,\n",
       " 0.9254776235273965]"
      ]
     },
     "execution_count": 14,
     "metadata": {},
     "output_type": "execute_result"
    }
   ],
   "source": [
    "[svd_cosine_sims[i, most_similar_user_svd[i]] for i in range(10)]"
   ]
  },
  {
   "cell_type": "code",
   "execution_count": 21,
   "metadata": {},
   "outputs": [
    {
     "data": {
      "text/plain": [
       "0.2746565831547423"
      ]
     },
     "execution_count": 21,
     "metadata": {},
     "output_type": "execute_result"
    }
   ],
   "source": [
    "np.sum(svd_cosine_sims[sanders_user_indices, :][:,sanders_user_indices]) / \\\n",
    "(len(sanders_user_indices) * (len(sanders_user_indices)-1))"
   ]
  },
  {
   "cell_type": "code",
   "execution_count": 22,
   "metadata": {},
   "outputs": [
    {
     "data": {
      "text/plain": [
       "0.2205481866397959"
      ]
     },
     "execution_count": 22,
     "metadata": {},
     "output_type": "execute_result"
    }
   ],
   "source": [
    "np.sum(svd_cosine_sims[trump_user_indices, :][:,trump_user_indices]) / \\\n",
    "(len(trump_user_indices) * (len(trump_user_indices)-1))"
   ]
  },
  {
   "cell_type": "code",
   "execution_count": 23,
   "metadata": {},
   "outputs": [
    {
     "data": {
      "text/plain": [
       "0.2144278529447884"
      ]
     },
     "execution_count": 23,
     "metadata": {},
     "output_type": "execute_result"
    }
   ],
   "source": [
    "np.sum(svd_cosine_sims[clinton_user_indices, :][:,clinton_user_indices]) / \\\n",
    "(len(clinton_user_indices) * (len(clinton_user_indices)-1))"
   ]
  },
  {
   "cell_type": "code",
   "execution_count": 24,
   "metadata": {},
   "outputs": [
    {
     "data": {
      "text/plain": [
       "0.2544427543055414"
      ]
     },
     "execution_count": 24,
     "metadata": {},
     "output_type": "execute_result"
    }
   ],
   "source": [
    "np.sum(svd_cosine_sims[none_user_indices, :][:,none_user_indices]) / \\\n",
    "(len(none_user_indices) * (len(none_user_indices)-1))"
   ]
  },
  {
   "cell_type": "code",
   "execution_count": 25,
   "metadata": {},
   "outputs": [
    {
     "data": {
      "text/plain": [
       "0.2407352022258243"
      ]
     },
     "execution_count": 25,
     "metadata": {},
     "output_type": "execute_result"
    }
   ],
   "source": [
    "np.sum(svd_cosine_sims) / (svd_cosine_sims.shape[0] * (svd_cosine_sims.shape[1] - 1))"
   ]
  },
  {
   "cell_type": "code",
   "execution_count": 26,
   "metadata": {},
   "outputs": [
    {
     "name": "stdout",
     "output_type": "stream",
     "text": [
      "0.2071979053595563\n",
      "0.21401350748864878\n",
      "0.17404158396285827\n",
      "\n",
      "0.21328407065037644\n",
      "0.21526508353747892\n",
      "0.17024786352852583\n"
     ]
    }
   ],
   "source": [
    "print(np.sum(svd_cosine_sims[sanders_user_indices, :][:,trump_user_indices]) / \\\n",
    "((len(sanders_user_indices) * len(trump_user_indices)) - \\\n",
    "len(set(sanders_user_indices).intersection(trump_user_indices))))\n",
    "\n",
    "print(np.sum(svd_cosine_sims[sanders_user_indices, :][:,clinton_user_indices]) / \\\n",
    "((len(sanders_user_indices) * len(clinton_user_indices)) - \\\n",
    "len(set(sanders_user_indices).intersection(clinton_user_indices))))\n",
    "\n",
    "print(np.sum(svd_cosine_sims[clinton_user_indices, :][:,trump_user_indices]) / \\\n",
    "((len(clinton_user_indices) * len(trump_user_indices)) - \\\n",
    "len(set(clinton_user_indices).intersection(trump_user_indices))))\n",
    "\n",
    "print()\n",
    "print(np.sum(svd_cosine_sims[sanders_user_indices, :][:,none_user_indices]) / \\\n",
    "((len(sanders_user_indices) * len(none_user_indices))))\n",
    "print(np.sum(svd_cosine_sims[trump_user_indices, :][:,none_user_indices]) / \\\n",
    "((len(trump_user_indices) * len(none_user_indices))))\n",
    "print(np.sum(svd_cosine_sims[clinton_user_indices, :][:,none_user_indices]) / \\\n",
    "((len(clinton_user_indices) * len(none_user_indices))))"
   ]
  },
  {
   "cell_type": "code",
   "execution_count": 29,
   "metadata": {},
   "outputs": [
    {
     "name": "stdout",
     "output_type": "stream",
     "text": [
      "534\n",
      "4.405488050113664\n",
      "97\n",
      "1.3558061700362642\n",
      "30\n",
      "2.8128208373767634\n",
      "562\n",
      "0.5571084209316934\n",
      "\n",
      "81\n",
      "1.132168038896262\n",
      "178\n",
      "4.215207664100047\n",
      "8\n",
      "1.2708195992152689\n",
      "448\n",
      "0.7524099371183472\n",
      "\n",
      "31\n",
      "2.9065815319559887\n",
      "8\n",
      "1.2708195992152689\n",
      "11\n",
      "11.72145559166711\n",
      "64\n",
      "0.7210268323376028\n",
      "\n",
      "490\n",
      "0.4857351001005868\n",
      "405\n",
      "0.6801920190467201\n",
      "46\n",
      "0.518238035742652\n",
      "9452\n",
      "1.1258428068542816\n"
     ]
    }
   ],
   "source": [
    "print(len([i for i in most_similar_user_svd[sanders_user_indices] if i in set(sanders_user_indices)]))\n",
    "print(svd_cosine_sims.shape[0] * len([i for i in most_similar_user_svd[sanders_user_indices] if i in set(sanders_user_indices)])/(len(sanders_user_indices)*len(sanders_user_indices)))\n",
    "print(len([i for i in most_similar_user_svd[sanders_user_indices] if i in set(trump_user_indices)]))\n",
    "print(svd_cosine_sims.shape[0] * len([i for i in most_similar_user_svd[sanders_user_indices] if i in set(trump_user_indices)])/(len(trump_user_indices)*len(sanders_user_indices)))\n",
    "print(len([i for i in most_similar_user_svd[sanders_user_indices] if i in set(clinton_user_indices)]))\n",
    "print(svd_cosine_sims.shape[0] * len([i for i in most_similar_user_svd[sanders_user_indices] if i in set(clinton_user_indices)])/(len(clinton_user_indices)*len(sanders_user_indices)))\n",
    "print(len([i for i in most_similar_user_svd[sanders_user_indices] if i in set(none_user_indices)]))\n",
    "print(svd_cosine_sims.shape[0] * len([i for i in most_similar_user_svd[sanders_user_indices] if i in set(none_user_indices)])/(len(none_user_indices)*len(sanders_user_indices)))\n",
    "print()\n",
    "print(len([i for i in most_similar_user_svd[trump_user_indices] if i in set(sanders_user_indices)]))\n",
    "print(svd_cosine_sims.shape[0] * len([i for i in most_similar_user_svd[trump_user_indices] if i in set(sanders_user_indices)])/(len(sanders_user_indices)*len(trump_user_indices)))\n",
    "print(len([i for i in most_similar_user_svd[trump_user_indices] if i in set(trump_user_indices)]))\n",
    "print(svd_cosine_sims.shape[0] * len([i for i in most_similar_user_svd[trump_user_indices] if i in set(trump_user_indices)])/(len(trump_user_indices)*len(trump_user_indices)))\n",
    "print(len([i for i in most_similar_user_svd[trump_user_indices] if i in set(clinton_user_indices)]))\n",
    "print(svd_cosine_sims.shape[0] * len([i for i in most_similar_user_svd[trump_user_indices] if i in set(clinton_user_indices)])/(len(clinton_user_indices)*len(trump_user_indices)))\n",
    "print(len([i for i in most_similar_user_svd[trump_user_indices] if i in set(none_user_indices)]))\n",
    "print(svd_cosine_sims.shape[0] * len([i for i in most_similar_user_svd[trump_user_indices] if i in set(none_user_indices)])/(len(none_user_indices)*len(trump_user_indices)))\n",
    "print()\n",
    "print(len([i for i in most_similar_user_svd[clinton_user_indices] if i in set(sanders_user_indices)]))\n",
    "print(svd_cosine_sims.shape[0] * len([i for i in most_similar_user_svd[clinton_user_indices] if i in set(sanders_user_indices)])/(len(sanders_user_indices)*len(clinton_user_indices)))\n",
    "print(len([i for i in most_similar_user_svd[clinton_user_indices] if i in set(trump_user_indices)]))\n",
    "print(svd_cosine_sims.shape[0] * len([i for i in most_similar_user_svd[clinton_user_indices] if i in set(trump_user_indices)])/(len(trump_user_indices)*len(clinton_user_indices)))\n",
    "print(len([i for i in most_similar_user_svd[clinton_user_indices] if i in set(clinton_user_indices)]))\n",
    "print(svd_cosine_sims.shape[0] * len([i for i in most_similar_user_svd[clinton_user_indices] if i in set(clinton_user_indices)])/(len(clinton_user_indices)*len(clinton_user_indices)))\n",
    "print(len([i for i in most_similar_user_svd[clinton_user_indices] if i in set(none_user_indices)]))\n",
    "print(svd_cosine_sims.shape[0] * len([i for i in most_similar_user_svd[clinton_user_indices] if i in set(none_user_indices)])/(len(none_user_indices)*len(clinton_user_indices)))\n",
    "print()\n",
    "print(len([i for i in most_similar_user_svd[none_user_indices] if i in set(sanders_user_indices)]))\n",
    "print(svd_cosine_sims.shape[0] * len([i for i in most_similar_user_svd[none_user_indices] if i in set(sanders_user_indices)])/(len(sanders_user_indices)*len(none_user_indices)))\n",
    "print(len([i for i in most_similar_user_svd[none_user_indices] if i in set(trump_user_indices)]))\n",
    "print(svd_cosine_sims.shape[0] * len([i for i in most_similar_user_svd[none_user_indices] if i in set(trump_user_indices)])/(len(none_user_indices)*len(trump_user_indices)))\n",
    "print(len([i for i in most_similar_user_svd[none_user_indices] if i in set(clinton_user_indices)]))\n",
    "print(svd_cosine_sims.shape[0] * len([i for i in most_similar_user_svd[none_user_indices] if i in set(clinton_user_indices)])/(len(clinton_user_indices)*len(none_user_indices)))\n",
    "print(len([i for i in most_similar_user_svd[none_user_indices] if i in set(none_user_indices)]))\n",
    "print(svd_cosine_sims.shape[0] * len([i for i in most_similar_user_svd[none_user_indices] if i in set(none_user_indices)])/(len(none_user_indices)*len(none_user_indices)))\n"
   ]
  },
  {
   "cell_type": "code",
   "execution_count": 55,
   "metadata": {},
   "outputs": [],
   "source": [
    "sanders_sanders_sims = []\n",
    "\n",
    "for i in range(len(sanders_user_indices)):\n",
    "    for j in range(i+1, len(sanders_user_indices)):\n",
    "        sanders_sanders_sims.append(svd_cosine_sims[sanders_user_indices[i],sanders_user_indices[j]])"
   ]
  },
  {
   "cell_type": "code",
   "execution_count": 56,
   "metadata": {},
   "outputs": [
    {
     "data": {
      "image/png": "[encoded data removed]",
      "text/plain": [
       "<Figure size 432x288 with 1 Axes>"
      ]
     },
     "metadata": {
      "needs_background": "light"
     },
     "output_type": "display_data"
    }
   ],
   "source": [
    "plt.hist(sanders_sanders_sims, range = (-1,1))\n",
    "plt.show()"
   ]
  },
  {
   "cell_type": "code",
   "execution_count": 57,
   "metadata": {},
   "outputs": [],
   "source": [
    "trump_trump_sims = []\n",
    "\n",
    "for i in range(len(trump_user_indices)):\n",
    "    for j in range(i+1, len(trump_user_indices)):\n",
    "        trump_trump_sims.append(svd_cosine_sims[trump_user_indices[i],trump_user_indices[j]])"
   ]
  },
  {
   "cell_type": "code",
   "execution_count": 58,
   "metadata": {
    "scrolled": true
   },
   "outputs": [
    {
     "data": {
      "image/png": "[encoded data removed]",
      "text/plain": [
       "<Figure size 432x288 with 1 Axes>"
      ]
     },
     "metadata": {
      "needs_background": "light"
     },
     "output_type": "display_data"
    }
   ],
   "source": [
    "plt.hist(trump_trump_sims, range = (-1,1) )\n",
    "plt.show()"
   ]
  },
  {
   "cell_type": "code",
   "execution_count": 59,
   "metadata": {},
   "outputs": [],
   "source": [
    "clinton_clinton_sims = []\n",
    "\n",
    "for i in range(len(clinton_user_indices)):\n",
    "    for j in range(i+1, len(clinton_user_indices)):\n",
    "        clinton_clinton_sims.append(svd_cosine_sims[clinton_user_indices[i],clinton_user_indices[j]])"
   ]
  },
  {
   "cell_type": "code",
   "execution_count": 60,
   "metadata": {
    "scrolled": true
   },
   "outputs": [
    {
     "data": {
      "image/png": "[encoded data removed]",
      "text/plain": [
       "<Figure size 432x288 with 1 Axes>"
      ]
     },
     "metadata": {
      "needs_background": "light"
     },
     "output_type": "display_data"
    }
   ],
   "source": [
    "plt.hist(clinton_clinton_sims, range = (-1,1))\n",
    "plt.show()"
   ]
  },
  {
   "cell_type": "code",
   "execution_count": 61,
   "metadata": {},
   "outputs": [
    {
     "data": {
      "image/png": "[encoded data removed]",
      "text/plain": [
       "<Figure size 432x288 with 1 Axes>"
      ]
     },
     "metadata": {
      "needs_background": "light"
     },
     "output_type": "display_data"
    }
   ],
   "source": [
    "plt.hist(svd_cosine_sims.flatten(), range=(-1,1))\n",
    "plt.show()"
   ]
  },
  {
   "cell_type": "code",
   "execution_count": 63,
   "metadata": {},
   "outputs": [],
   "source": [
    "most_similar_50_users_svd = np.zeros((subreddit_tfidf.shape[0],50), dtype = np.int32)\n",
    "\n",
    "for i in range(subreddit_tfidf.shape[0]):\n",
    "    most_similar_50_users_svd[i] = np.flip(np.argsort(svd_cosine_sims[i])[-50:])\n"
   ]
  },
  {
   "cell_type": "code",
   "execution_count": 64,
   "metadata": {},
   "outputs": [
    {
     "data": {
      "text/plain": [
       "array([  26,   14,    7,  531,   10,   35,  942,  882,    6,  102,  494,\n",
       "          4,  111,   48,  353,  288,   64,    9,  131,   43,  105,   20,\n",
       "        418,  839,   55,  571,  168,   88,   37,  383,  276,  425,   62,\n",
       "         70, 1178,  644,   22,  240,  109,   93,   95,  143,  473,  307,\n",
       "        504,   80,   44,   85,  609, 1055], dtype=int32)"
      ]
     },
     "execution_count": 64,
     "metadata": {},
     "output_type": "execute_result"
    }
   ],
   "source": [
    "most_similar_50_users_svd[0]"
   ]
  },
  {
   "cell_type": "code",
   "execution_count": 65,
   "metadata": {},
   "outputs": [],
   "source": [
    "most_similar_50_set = [set(i) for i in most_similar_50_users_svd]"
   ]
  },
  {
   "cell_type": "code",
   "execution_count": 81,
   "metadata": {},
   "outputs": [
    {
     "name": "stdout",
     "output_type": "stream",
     "text": [
      "14.33140655105973\n",
      "6.0\n",
      "103.33847141939627\n",
      "203.71379310344827\n"
     ]
    }
   ],
   "source": [
    "print(np.mean([len(most_similar_50_set[i].intersection(sanders_user_indices)) for i in sanders_user_indices]))\n",
    "print(np.median([len(most_similar_50_set[i].intersection(sanders_user_indices)) for i in sanders_user_indices]))\n",
    "print(np.mean([num_sanders[author_names[i]] for i in sanders_user_indices]))\n",
    "print(np.mean([num_sanders[author_names[i]] for i in sanders_user_indices if len(most_similar_50_set[i].intersection(sanders_user_indices)) >= 10]))\n"
   ]
  },
  {
   "cell_type": "code",
   "execution_count": 82,
   "metadata": {},
   "outputs": [
    {
     "data": {
      "image/png": "[encoded data removed]",
      "text/plain": [
       "<Figure size 432x288 with 1 Axes>"
      ]
     },
     "metadata": {
      "needs_background": "light"
     },
     "output_type": "display_data"
    }
   ],
   "source": [
    "plt.hist([len(most_similar_50_set[i].intersection(sanders_user_indices)) for i in sanders_user_indices], range = (0,50))\n",
    "plt.show()"
   ]
  },
  {
   "cell_type": "code",
   "execution_count": 83,
   "metadata": {},
   "outputs": [
    {
     "name": "stdout",
     "output_type": "stream",
     "text": [
      "580\n",
      "335\n"
     ]
    }
   ],
   "source": [
    "print(sum([1 for i in sanders_user_indices if len(most_similar_50_set[i].intersection(sanders_user_indices)) >= 10]))\n",
    "print(sum([1 for i in sanders_user_indices if len(most_similar_50_set[i].intersection(sanders_user_indices)) >= 30]))"
   ]
  },
  {
   "cell_type": "code",
   "execution_count": 84,
   "metadata": {},
   "outputs": [
    {
     "name": "stdout",
     "output_type": "stream",
     "text": [
      "7.269858541893362\n",
      "3.0\n",
      "140\n",
      "77\n",
      "97.14907508161045\n",
      "253.77857142857144\n"
     ]
    },
    {
     "data": {
      "image/png": "[encoded data removed]",
      "text/plain": [
       "<Figure size 432x288 with 1 Axes>"
      ]
     },
     "metadata": {
      "needs_background": "light"
     },
     "output_type": "display_data"
    }
   ],
   "source": [
    "print(np.mean([len(most_similar_50_set[i].intersection(trump_user_indices)) for i in trump_user_indices]))\n",
    "print(np.median([len(most_similar_50_set[i].intersection(trump_user_indices)) for i in trump_user_indices]))\n",
    "print(sum([1 for i in trump_user_indices if len(most_similar_50_set[i].intersection(trump_user_indices)) >= 10]))\n",
    "print(sum([1 for i in trump_user_indices if len(most_similar_50_set[i].intersection(trump_user_indices)) >= 30]))\n",
    "print(np.mean([num_trump[author_names[i]] for i in trump_user_indices]))\n",
    "print(np.mean([num_trump[author_names[i]] for i in trump_user_indices if len(most_similar_50_set[i].intersection(trump_user_indices)) >= 10]))\n",
    "\n",
    "plt.hist([len(most_similar_50_set[i].intersection(trump_user_indices)) for i in trump_user_indices], range = (0,50))\n",
    "plt.show()"
   ]
  },
  {
   "cell_type": "code",
   "execution_count": 85,
   "metadata": {
    "scrolled": false
   },
   "outputs": [
    {
     "name": "stdout",
     "output_type": "stream",
     "text": [
      "1.8759124087591241\n",
      "1.0\n",
      "2\n",
      "0\n",
      "95.81751824817518\n",
      "152.5\n"
     ]
    },
    {
     "data": {
      "image/png": "[encoded data removed]",
      "text/plain": [
       "<Figure size 432x288 with 1 Axes>"
      ]
     },
     "metadata": {
      "needs_background": "light"
     },
     "output_type": "display_data"
    }
   ],
   "source": [
    "print(np.mean([len(most_similar_50_set[i].intersection(clinton_user_indices)) for i in clinton_user_indices]))\n",
    "print(np.median([len(most_similar_50_set[i].intersection(clinton_user_indices)) for i in clinton_user_indices]))\n",
    "print(sum([1 for i in clinton_user_indices if len(most_similar_50_set[i].intersection(clinton_user_indices)) >= 10]))\n",
    "print(sum([1 for i in clinton_user_indices if len(most_similar_50_set[i].intersection(clinton_user_indices)) >= 30]))\n",
    "print(np.mean([num_clinton[author_names[i]] for i in clinton_user_indices]))\n",
    "print(np.mean([num_clinton[author_names[i]] for i in clinton_user_indices if len(most_similar_50_set[i].intersection(clinton_user_indices)) >= 10]))\n",
    "\n",
    "\n",
    "plt.hist([len(most_similar_50_set[i].intersection(clinton_user_indices)) for i in clinton_user_indices], range = (0,50))\n",
    "plt.show()"
   ]
  },
  {
   "cell_type": "code",
   "execution_count": 66,
   "metadata": {},
   "outputs": [
    {
     "data": {
      "image/png": "[encoded data removed]",
      "text/plain": [
       "<Figure size 432x288 with 1 Axes>"
      ]
     },
     "metadata": {
      "needs_background": "light"
     },
     "output_type": "display_data"
    }
   ],
   "source": [
    "plt.hist([len(most_similar_50_set[i].intersection(none_user_indices)) for i in none_user_indices], range = (0,50))\n",
    "plt.show()"
   ]
  },
  {
   "cell_type": "markdown",
   "metadata": {},
   "source": [
    "## Try with Music and HipHopHeads"
   ]
  },
  {
   "cell_type": "code",
   "execution_count": 68,
   "metadata": {},
   "outputs": [],
   "source": [
    "num_music = {k:(subreddit_tf[author_reverse_dict[k], subreddit_reverse_dict['music']]) for k in author_names}\n",
    "num_hhh = {k:(subreddit_tf[author_reverse_dict[k], subreddit_reverse_dict['hiphopheads']]) for k in author_names}\n"
   ]
  },
  {
   "cell_type": "code",
   "execution_count": 69,
   "metadata": {},
   "outputs": [
    {
     "name": "stdout",
     "output_type": "stream",
     "text": [
      "2176\n",
      "590\n"
     ]
    }
   ],
   "source": [
    "music_user_indices = [i for i in range(subreddit_tf.shape[0]) if num_music[author_names[i]] >= comment_threshold]\n",
    "print(len(music_user_indices))\n",
    "hhh_user_indices = [i for i in range(subreddit_tf.shape[0]) if num_hhh[author_names[i]] >= comment_threshold]\n",
    "print(len(hhh_user_indices))\n"
   ]
  },
  {
   "cell_type": "code",
   "execution_count": 88,
   "metadata": {},
   "outputs": [
    {
     "data": {
      "text/plain": [
       "0.3541934109154698"
      ]
     },
     "execution_count": 88,
     "metadata": {},
     "output_type": "execute_result"
    }
   ],
   "source": [
    "np.sum(svd_cosine_sims[music_user_indices, :][:,music_user_indices]) / \\\n",
    "(len(music_user_indices) * (len(music_user_indices)-1))"
   ]
  },
  {
   "cell_type": "code",
   "execution_count": 89,
   "metadata": {},
   "outputs": [
    {
     "data": {
      "text/plain": [
       "0.25303707224553496"
      ]
     },
     "execution_count": 89,
     "metadata": {},
     "output_type": "execute_result"
    }
   ],
   "source": [
    "np.sum(svd_cosine_sims[hhh_user_indices, :][:,hhh_user_indices]) / \\\n",
    "(len(hhh_user_indices) * (len(hhh_user_indices)-1))"
   ]
  },
  {
   "cell_type": "code",
   "execution_count": 90,
   "metadata": {},
   "outputs": [
    {
     "name": "stdout",
     "output_type": "stream",
     "text": [
      "0.2368393542015716\n"
     ]
    }
   ],
   "source": [
    "print(np.sum(svd_cosine_sims[music_user_indices, :][:,hhh_user_indices]) / \\\n",
    "((len(music_user_indices) * len(hhh_user_indices)) - \\\n",
    "len(set(music_user_indices).intersection(hhh_user_indices))))\n"
   ]
  },
  {
   "cell_type": "code",
   "execution_count": 91,
   "metadata": {
    "scrolled": true
   },
   "outputs": [
    {
     "name": "stdout",
     "output_type": "stream",
     "text": [
      "356\n",
      "0.1636029411764706\n",
      "74\n",
      "0.12542372881355932\n",
      "143\n",
      "0.2423728813559322\n",
      "101\n",
      "0.04641544117647059\n"
     ]
    }
   ],
   "source": [
    "print(len(set(most_similar_user_svd[music_user_indices]).intersection(music_user_indices)))\n",
    "print(len(set(most_similar_user_svd[music_user_indices]).intersection(music_user_indices))/len(music_user_indices))\n",
    "print(len(set(most_similar_user_svd[music_user_indices]).intersection(hhh_user_indices)))\n",
    "print(len(set(most_similar_user_svd[music_user_indices]).intersection(hhh_user_indices))/len(hhh_user_indices))\n",
    "\n",
    "print(len(set(most_similar_user_svd[hhh_user_indices]).intersection(hhh_user_indices)))\n",
    "print(len(set(most_similar_user_svd[hhh_user_indices]).intersection(hhh_user_indices))/len(hhh_user_indices))\n",
    "print(len(set(most_similar_user_svd[hhh_user_indices]).intersection(music_user_indices)))\n",
    "print(len(set(most_similar_user_svd[hhh_user_indices]).intersection(music_user_indices))/len(music_user_indices))"
   ]
  },
  {
   "cell_type": "code",
   "execution_count": 70,
   "metadata": {},
   "outputs": [],
   "source": [
    "music_music_sims = []\n",
    "\n",
    "for i in range(len(music_user_indices)):\n",
    "    for j in range(i+1, len(music_user_indices)):\n",
    "        music_music_sims.append(svd_cosine_sims[music_user_indices[i],music_user_indices[j]])"
   ]
  },
  {
   "cell_type": "code",
   "execution_count": 71,
   "metadata": {},
   "outputs": [
    {
     "data": {
      "image/png": "[encoded data removed]",
      "text/plain": [
       "<Figure size 432x288 with 1 Axes>"
      ]
     },
     "metadata": {
      "needs_background": "light"
     },
     "output_type": "display_data"
    }
   ],
   "source": [
    "plt.hist(music_music_sims, range = (-1,1))\n",
    "plt.show()"
   ]
  },
  {
   "cell_type": "code",
   "execution_count": 72,
   "metadata": {},
   "outputs": [],
   "source": [
    "hhh_hhh_sims = []\n",
    "\n",
    "for i in range(len(hhh_user_indices)):\n",
    "    for j in range(i+1, len(hhh_user_indices)):\n",
    "        hhh_hhh_sims.append(svd_cosine_sims[hhh_user_indices[i],hhh_user_indices[j]])"
   ]
  },
  {
   "cell_type": "code",
   "execution_count": 73,
   "metadata": {
    "scrolled": true
   },
   "outputs": [
    {
     "data": {
      "image/png": "[encoded data removed]",
      "text/plain": [
       "<Figure size 432x288 with 1 Axes>"
      ]
     },
     "metadata": {
      "needs_background": "light"
     },
     "output_type": "display_data"
    }
   ],
   "source": [
    "plt.hist(hhh_hhh_sims, range = (-1,1) )\n",
    "plt.show()"
   ]
  },
  {
   "cell_type": "code",
   "execution_count": 74,
   "metadata": {},
   "outputs": [
    {
     "name": "stdout",
     "output_type": "stream",
     "text": [
      "8.943014705882353\n",
      "8.0\n",
      "899\n",
      "0\n",
      "37.385110294117645\n",
      "39.22691879866518\n"
     ]
    },
    {
     "data": {
      "image/png": "[encoded data removed]",
      "text/plain": [
       "<Figure size 432x288 with 1 Axes>"
      ]
     },
     "metadata": {
      "needs_background": "light"
     },
     "output_type": "display_data"
    }
   ],
   "source": [
    "print(np.mean([len(most_similar_50_set[i].intersection(music_user_indices)) for i in music_user_indices]))\n",
    "print(np.median([len(most_similar_50_set[i].intersection(music_user_indices)) for i in music_user_indices]))\n",
    "print(sum([1 for i in music_user_indices if len(most_similar_50_set[i].intersection(music_user_indices)) >= 10]))\n",
    "print(sum([1 for i in music_user_indices if len(most_similar_50_set[i].intersection(music_user_indices)) >= 30]))\n",
    "print(np.mean([num_music[author_names[i]] for i in music_user_indices]))\n",
    "print(np.mean([num_music[author_names[i]] for i in music_user_indices if len(most_similar_50_set[i].intersection(music_user_indices)) >= 10]))\n",
    "\n",
    "plt.hist([len(most_similar_50_set[i].intersection(music_user_indices)) for i in music_user_indices], range = (0,50))\n",
    "plt.show()"
   ]
  },
  {
   "cell_type": "code",
   "execution_count": 97,
   "metadata": {},
   "outputs": [
    {
     "name": "stdout",
     "output_type": "stream",
     "text": [
      "12.686440677966102\n",
      "4.0\n",
      "179\n",
      "119\n",
      "128.61016949152543\n",
      "287.92737430167597\n"
     ]
    },
    {
     "data": {
      "image/png": "[encoded data removed]",
      "text/plain": [
       "<Figure size 432x288 with 1 Axes>"
      ]
     },
     "metadata": {
      "needs_background": "light"
     },
     "output_type": "display_data"
    }
   ],
   "source": [
    "print(np.mean([len(most_similar_50_set[i].intersection(hhh_user_indices)) for i in hhh_user_indices]))\n",
    "print(np.median([len(most_similar_50_set[i].intersection(hhh_user_indices)) for i in hhh_user_indices]))\n",
    "print(sum([1 for i in hhh_user_indices if len(most_similar_50_set[i].intersection(hhh_user_indices)) >= 10]))\n",
    "print(sum([1 for i in hhh_user_indices if len(most_similar_50_set[i].intersection(hhh_user_indices)) >= 30]))\n",
    "print(np.mean([num_hhh[author_names[i]] for i in hhh_user_indices]))\n",
    "print(np.mean([num_hhh[author_names[i]] for i in hhh_user_indices if len(most_similar_50_set[i].intersection(hhh_user_indices)) >= 10]))\n",
    "\n",
    "plt.hist([len(most_similar_50_set[i].intersection(hhh_user_indices)) for i in hhh_user_indices], range = (0,50))\n",
    "plt.show()"
   ]
  },
  {
   "cell_type": "markdown",
   "metadata": {},
   "source": [
    "## Check if similarities persist after removing SFP, TD, HC"
   ]
  },
  {
   "cell_type": "code",
   "execution_count": 15,
   "metadata": {},
   "outputs": [
    {
     "name": "stderr",
     "output_type": "stream",
     "text": [
      "/usr/local/anaconda3/lib/python3.7/site-packages/scipy/sparse/_index.py:127: SparseEfficiencyWarning: Changing the sparsity structure of a csc_matrix is expensive. lil_matrix is more efficient.\n",
      "  self._set_arrayXarray(i, j, x)\n"
     ]
    }
   ],
   "source": [
    "subreddit_tfidf_modified = csc_matrix(subreddit_tfidf)\n",
    "subreddit_tfidf_modified[:, subreddit_reverse_dict['sandersforpresident']] = 0\n",
    "subreddit_tfidf_modified[:, subreddit_reverse_dict['the_donald']] = 0\n",
    "subreddit_tfidf_modified[:, subreddit_reverse_dict['hillaryclinton']] = 0\n",
    "subreddit_tfidf_modified = csr_matrix(subreddit_tfidf_modified)"
   ]
  },
  {
   "cell_type": "code",
   "execution_count": 34,
   "metadata": {},
   "outputs": [],
   "source": [
    "subreddit_tfidf_norms_m = np.zeros(subreddit_tfidf.shape[0])"
   ]
  },
  {
   "cell_type": "code",
   "execution_count": 35,
   "metadata": {},
   "outputs": [],
   "source": [
    "for i in range(20):\n",
    "    subreddit_tfidf_norms_m[i*1000 : (i+1) * 1000] = norm(subreddit_tfidf_modified[i*1000 : (i+1) * 1000].toarray(), axis=1)"
   ]
  },
  {
   "cell_type": "code",
   "execution_count": 36,
   "metadata": {},
   "outputs": [],
   "source": [
    "subreddit_tfidf_normalized_m = csr_matrix(subreddit_tfidf_modified / subreddit_tfidf_norms_m[:, np.newaxis])"
   ]
  },
  {
   "cell_type": "code",
   "execution_count": 37,
   "metadata": {},
   "outputs": [],
   "source": [
    "subreddit_cosine_sims_m = np.zeros((subreddit_tfidf_modified.shape[0], subreddit_tfidf_modified.shape[0]))"
   ]
  },
  {
   "cell_type": "code",
   "execution_count": 38,
   "metadata": {},
   "outputs": [],
   "source": [
    "for i in range(20):\n",
    "    chunk1 = subreddit_tfidf_normalized_m[i*1000 : (i+1)*1000, :]\n",
    "    for j in range(20):\n",
    "        chunk2 = subreddit_tfidf_normalized_m[j*1000 : (j+1)*1000, :]\n",
    "        subreddit_cosine_sims_m[i*1000 : (i+1)*1000, j*1000 : (j+1)*1000] = chunk1.dot(csc_matrix(chunk2.T)).toarray()\n"
   ]
  },
  {
   "cell_type": "code",
   "execution_count": 40,
   "metadata": {},
   "outputs": [],
   "source": [
    "for i in range(subreddit_tfidf.shape[0]):\n",
    "    subreddit_cosine_sims_m[i,i] = 0"
   ]
  },
  {
   "cell_type": "code",
   "execution_count": 41,
   "metadata": {},
   "outputs": [],
   "source": [
    "most_similar_user_m = np.zeros(subreddit_tfidf.shape[0], dtype = np.int32)"
   ]
  },
  {
   "cell_type": "code",
   "execution_count": 42,
   "metadata": {},
   "outputs": [],
   "source": [
    "for i in range(subreddit_tfidf.shape[0]):\n",
    "    most_similar_user_m[i] = np.argsort(subreddit_cosine_sims_m[i])[-1]"
   ]
  },
  {
   "cell_type": "code",
   "execution_count": 43,
   "metadata": {},
   "outputs": [
    {
     "data": {
      "text/plain": [
       "0.11560929970550966"
      ]
     },
     "execution_count": 43,
     "metadata": {},
     "output_type": "execute_result"
    }
   ],
   "source": [
    "np.sum(subreddit_cosine_sims_m[sanders_user_indices, :][:,sanders_user_indices]) / \\\n",
    "(len(sanders_user_indices) * (len(sanders_user_indices)-1))"
   ]
  },
  {
   "cell_type": "code",
   "execution_count": 44,
   "metadata": {},
   "outputs": [
    {
     "data": {
      "text/plain": [
       "0.09239368856412604"
      ]
     },
     "execution_count": 44,
     "metadata": {},
     "output_type": "execute_result"
    }
   ],
   "source": [
    "np.sum(subreddit_cosine_sims_m[trump_user_indices, :][:,trump_user_indices]) / \\\n",
    "(len(trump_user_indices) * (len(trump_user_indices)-1))"
   ]
  },
  {
   "cell_type": "code",
   "execution_count": 45,
   "metadata": {},
   "outputs": [
    {
     "data": {
      "text/plain": [
       "0.10987153896207406"
      ]
     },
     "execution_count": 45,
     "metadata": {},
     "output_type": "execute_result"
    }
   ],
   "source": [
    "np.sum(subreddit_cosine_sims_m[clinton_user_indices, :][:,clinton_user_indices]) / \\\n",
    "(len(clinton_user_indices) * (len(clinton_user_indices)-1))"
   ]
  },
  {
   "cell_type": "code",
   "execution_count": 46,
   "metadata": {},
   "outputs": [
    {
     "data": {
      "text/plain": [
       "0.0982426762905685"
      ]
     },
     "execution_count": 46,
     "metadata": {},
     "output_type": "execute_result"
    }
   ],
   "source": [
    "np.sum(subreddit_cosine_sims_m[none_user_indices, :][:,none_user_indices]) / \\\n",
    "(len(none_user_indices) * (len(none_user_indices)-1))"
   ]
  },
  {
   "cell_type": "code",
   "execution_count": 47,
   "metadata": {},
   "outputs": [
    {
     "data": {
      "text/plain": [
       "0.09629370233897037"
      ]
     },
     "execution_count": 47,
     "metadata": {},
     "output_type": "execute_result"
    }
   ],
   "source": [
    "np.sum(subreddit_cosine_sims_m) / (subreddit_cosine_sims_m.shape[0] * (subreddit_cosine_sims_m.shape[1] - 1))"
   ]
  },
  {
   "cell_type": "code",
   "execution_count": 48,
   "metadata": {},
   "outputs": [
    {
     "name": "stdout",
     "output_type": "stream",
     "text": [
      "0.10172995911582774\n",
      "0.10047826092227526\n",
      "0.08602552204315879\n",
      "\n",
      "0.10223058415053418\n",
      "0.09056644815137545\n",
      "0.07901326157043914\n"
     ]
    }
   ],
   "source": [
    "print(np.sum(subreddit_cosine_sims_m[sanders_user_indices, :][:,trump_user_indices]) / \\\n",
    "((len(sanders_user_indices) * len(trump_user_indices)) - \\\n",
    "len(set(sanders_user_indices).intersection(trump_user_indices))))\n",
    "\n",
    "print(np.sum(subreddit_cosine_sims_m[sanders_user_indices, :][:,clinton_user_indices]) / \\\n",
    "((len(sanders_user_indices) * len(clinton_user_indices)) - \\\n",
    "len(set(sanders_user_indices).intersection(clinton_user_indices))))\n",
    "\n",
    "print(np.sum(subreddit_cosine_sims_m[clinton_user_indices, :][:,trump_user_indices]) / \\\n",
    "((len(clinton_user_indices) * len(trump_user_indices)) - \\\n",
    "len(set(clinton_user_indices).intersection(trump_user_indices))))\n",
    "\n",
    "print()\n",
    "print(np.sum(subreddit_cosine_sims_m[sanders_user_indices, :][:,none_user_indices]) / \\\n",
    "((len(sanders_user_indices) * len(none_user_indices))))\n",
    "print(np.sum(subreddit_cosine_sims_m[trump_user_indices, :][:,none_user_indices]) / \\\n",
    "((len(trump_user_indices) * len(none_user_indices))))\n",
    "print(np.sum(subreddit_cosine_sims_m[clinton_user_indices, :][:,none_user_indices]) / \\\n",
    "((len(clinton_user_indices) * len(none_user_indices))))"
   ]
  },
  {
   "cell_type": "code",
   "execution_count": 49,
   "metadata": {
    "scrolled": false
   },
   "outputs": [
    {
     "name": "stdout",
     "output_type": "stream",
     "text": [
      "154\n",
      "1.270496553778098\n",
      "91\n",
      "1.2719418708587635\n",
      "15\n",
      "1.4064104186883817\n",
      "935\n",
      "0.926861874681732\n",
      "\n",
      "74\n",
      "1.034326356522511\n",
      "95\n",
      "2.2496894836489014\n",
      "5\n",
      "0.794262249509543\n",
      "533\n",
      "0.8951662867948194\n",
      "\n",
      "14\n",
      "1.3126497241091561\n",
      "8\n",
      "1.2708195992152689\n",
      "9\n",
      "9.590281847727637\n",
      "83\n",
      "0.9350816731878286\n",
      "\n",
      "736\n",
      "0.7295939462735345\n",
      "533\n",
      "0.8951662867948194\n",
      "51\n",
      "0.5745682570190273\n",
      "8917\n",
      "1.0621181029115139\n"
     ]
    }
   ],
   "source": [
    "print(len([i for i in most_similar_user_m[sanders_user_indices] if i in set(sanders_user_indices)]))\n",
    "print(subreddit_cosine_sims_m.shape[0] * len([i for i in most_similar_user_m[sanders_user_indices] if i in set(sanders_user_indices)])/(len(sanders_user_indices)*len(sanders_user_indices)))\n",
    "print(len([i for i in most_similar_user_m[sanders_user_indices] if i in set(trump_user_indices)]))\n",
    "print(subreddit_cosine_sims_m.shape[0] * len([i for i in most_similar_user_m[sanders_user_indices] if i in set(trump_user_indices)])/(len(trump_user_indices)*len(sanders_user_indices)))\n",
    "print(len([i for i in most_similar_user_m[sanders_user_indices] if i in set(clinton_user_indices)]))\n",
    "print(subreddit_cosine_sims_m.shape[0] * len([i for i in most_similar_user_m[sanders_user_indices] if i in set(clinton_user_indices)])/(len(clinton_user_indices)*len(sanders_user_indices)))\n",
    "print(len([i for i in most_similar_user_m[sanders_user_indices] if i in set(none_user_indices)]))\n",
    "print(subreddit_cosine_sims_m.shape[0] * len([i for i in most_similar_user_m[sanders_user_indices] if i in set(none_user_indices)])/(len(none_user_indices)*len(sanders_user_indices)))\n",
    "print()\n",
    "print(len([i for i in most_similar_user_m[trump_user_indices] if i in set(sanders_user_indices)]))\n",
    "print(subreddit_cosine_sims_m.shape[0] * len([i for i in most_similar_user_m[trump_user_indices] if i in set(sanders_user_indices)])/(len(sanders_user_indices)*len(trump_user_indices)))\n",
    "print(len([i for i in most_similar_user_m[trump_user_indices] if i in set(trump_user_indices)]))\n",
    "print(subreddit_cosine_sims_m.shape[0] * len([i for i in most_similar_user_m[trump_user_indices] if i in set(trump_user_indices)])/(len(trump_user_indices)*len(trump_user_indices)))\n",
    "print(len([i for i in most_similar_user_m[trump_user_indices] if i in set(clinton_user_indices)]))\n",
    "print(subreddit_cosine_sims_m.shape[0] * len([i for i in most_similar_user_m[trump_user_indices] if i in set(clinton_user_indices)])/(len(clinton_user_indices)*len(trump_user_indices)))\n",
    "print(len([i for i in most_similar_user_m[trump_user_indices] if i in set(none_user_indices)]))\n",
    "print(subreddit_cosine_sims_m.shape[0] * len([i for i in most_similar_user_m[trump_user_indices] if i in set(none_user_indices)])/(len(none_user_indices)*len(trump_user_indices)))\n",
    "print()\n",
    "print(len([i for i in most_similar_user_m[clinton_user_indices] if i in set(sanders_user_indices)]))\n",
    "print(subreddit_cosine_sims_m.shape[0] * len([i for i in most_similar_user_m[clinton_user_indices] if i in set(sanders_user_indices)])/(len(sanders_user_indices)*len(clinton_user_indices)))\n",
    "print(len([i for i in most_similar_user_m[clinton_user_indices] if i in set(trump_user_indices)]))\n",
    "print(subreddit_cosine_sims_m.shape[0] * len([i for i in most_similar_user_m[clinton_user_indices] if i in set(trump_user_indices)])/(len(trump_user_indices)*len(clinton_user_indices)))\n",
    "print(len([i for i in most_similar_user_m[clinton_user_indices] if i in set(clinton_user_indices)]))\n",
    "print(subreddit_cosine_sims_m.shape[0] * len([i for i in most_similar_user_m[clinton_user_indices] if i in set(clinton_user_indices)])/(len(clinton_user_indices)*len(clinton_user_indices)))\n",
    "print(len([i for i in most_similar_user_m[clinton_user_indices] if i in set(none_user_indices)]))\n",
    "print(subreddit_cosine_sims_m.shape[0] * len([i for i in most_similar_user_m[clinton_user_indices] if i in set(none_user_indices)])/(len(none_user_indices)*len(clinton_user_indices)))\n",
    "print()\n",
    "print(len([i for i in most_similar_user_m[none_user_indices] if i in set(sanders_user_indices)]))\n",
    "print(subreddit_cosine_sims_m.shape[0] * len([i for i in most_similar_user_m[none_user_indices] if i in set(sanders_user_indices)])/(len(sanders_user_indices)*len(none_user_indices)))\n",
    "print(len([i for i in most_similar_user_m[none_user_indices] if i in set(trump_user_indices)]))\n",
    "print(subreddit_cosine_sims_m.shape[0] * len([i for i in most_similar_user_m[none_user_indices] if i in set(trump_user_indices)])/(len(none_user_indices)*len(trump_user_indices)))\n",
    "print(len([i for i in most_similar_user_m[none_user_indices] if i in set(clinton_user_indices)]))\n",
    "print(subreddit_cosine_sims_m.shape[0] * len([i for i in most_similar_user_m[none_user_indices] if i in set(clinton_user_indices)])/(len(clinton_user_indices)*len(none_user_indices)))\n",
    "print(len([i for i in most_similar_user_m[none_user_indices] if i in set(none_user_indices)]))\n",
    "print(subreddit_cosine_sims_m.shape[0] * len([i for i in most_similar_user_m[none_user_indices] if i in set(none_user_indices)])/(len(none_user_indices)*len(none_user_indices)))\n"
   ]
  },
  {
   "cell_type": "markdown",
   "metadata": {},
   "source": [
    "## SVD without SFP, TD, HC"
   ]
  },
  {
   "cell_type": "code",
   "execution_count": 16,
   "metadata": {},
   "outputs": [],
   "source": [
    "user_svd_m = TruncatedSVD(n_components = 100)\n",
    "user_svd_points_m = user_svd_m.fit_transform(subreddit_tfidf_modified)"
   ]
  },
  {
   "cell_type": "code",
   "execution_count": 17,
   "metadata": {},
   "outputs": [],
   "source": [
    "user_svd_norms_m = np.zeros(subreddit_tfidf.shape[0])"
   ]
  },
  {
   "cell_type": "code",
   "execution_count": 18,
   "metadata": {},
   "outputs": [],
   "source": [
    "for i in range(20):\n",
    "    user_svd_norms_m[i*1000 : (i+1) * 1000] = norm(user_svd_points_m[i*1000 : (i+1) * 1000], axis=1)"
   ]
  },
  {
   "cell_type": "code",
   "execution_count": 19,
   "metadata": {},
   "outputs": [
    {
     "data": {
      "text/plain": [
       "array([ 1753.83992315,   750.87548903,  5471.17854682, 21267.99506841,\n",
       "        3371.44456924,  2547.71193782,  1416.95221379,  9777.51118565,\n",
       "         798.13038163,  7842.35881961])"
      ]
     },
     "execution_count": 19,
     "metadata": {},
     "output_type": "execute_result"
    }
   ],
   "source": [
    "user_svd_norms_m[:10]"
   ]
  },
  {
   "cell_type": "code",
   "execution_count": 20,
   "metadata": {},
   "outputs": [],
   "source": [
    "user_svd_normalized_m = user_svd_points_m / user_svd_norms_m[:, np.newaxis]"
   ]
  },
  {
   "cell_type": "code",
   "execution_count": 21,
   "metadata": {},
   "outputs": [],
   "source": [
    "svd_cosine_sims_m = np.zeros((subreddit_tfidf.shape[0], subreddit_tfidf.shape[0]))"
   ]
  },
  {
   "cell_type": "code",
   "execution_count": 22,
   "metadata": {},
   "outputs": [],
   "source": [
    "for i in range(20):\n",
    "    chunk1 = csr_matrix(user_svd_normalized_m[i*1000 : (i+1)*1000, :])\n",
    "    for j in range(i,20):\n",
    "        chunk2 = csc_matrix(user_svd_normalized_m[j*1000 : (j+1)*1000, :].T)\n",
    "        svd_cosine_sims_m[i*1000 : (i+1)*1000, j*1000 : (j+1)*1000] = chunk1.dot(chunk2).toarray()\n"
   ]
  },
  {
   "cell_type": "code",
   "execution_count": 23,
   "metadata": {},
   "outputs": [
    {
     "data": {
      "text/plain": [
       "array([[1.        , 0.69082423, 0.4009337 , 0.62434446, 0.77886594,\n",
       "        0.59976948, 0.78557344, 0.83216111, 0.12281697, 0.77655676],\n",
       "       [0.69082423, 1.        , 0.39647548, 0.81779103, 0.77692345,\n",
       "        0.57892492, 0.81393508, 0.82698898, 0.10827571, 0.80789643],\n",
       "       [0.4009337 , 0.39647548, 1.        , 0.72253875, 0.20035793,\n",
       "        0.34506657, 0.33423419, 0.351985  , 0.04677952, 0.35112288],\n",
       "       [0.62434446, 0.81779103, 0.72253875, 1.        , 0.5534058 ,\n",
       "        0.46765779, 0.67906742, 0.70965938, 0.07294955, 0.67802127],\n",
       "       [0.77886594, 0.77692345, 0.20035793, 0.5534058 , 1.        ,\n",
       "        0.70253998, 0.8939203 , 0.92976546, 0.15200476, 0.79876593],\n",
       "       [0.59976948, 0.57892492, 0.34506657, 0.46765779, 0.70253998,\n",
       "        1.        , 0.63710394, 0.62807666, 0.16120355, 0.66243645],\n",
       "       [0.78557344, 0.81393508, 0.33423419, 0.67906742, 0.8939203 ,\n",
       "        0.63710394, 1.        , 0.92811069, 0.1127271 , 0.86141901],\n",
       "       [0.83216111, 0.82698898, 0.351985  , 0.70965938, 0.92976546,\n",
       "        0.62807666, 0.92811069, 1.        , 0.11912869, 0.89316423],\n",
       "       [0.12281697, 0.10827571, 0.04677952, 0.07294955, 0.15200476,\n",
       "        0.16120355, 0.1127271 , 0.11912869, 1.        , 0.13691008],\n",
       "       [0.77655676, 0.80789643, 0.35112288, 0.67802127, 0.79876593,\n",
       "        0.66243645, 0.86141901, 0.89316423, 0.13691008, 1.        ]])"
      ]
     },
     "execution_count": 23,
     "metadata": {},
     "output_type": "execute_result"
    }
   ],
   "source": [
    "svd_cosine_sims_m[:10,:10]"
   ]
  },
  {
   "cell_type": "code",
   "execution_count": 24,
   "metadata": {},
   "outputs": [],
   "source": [
    "for i in range(subreddit_tfidf.shape[0]):\n",
    "    svd_cosine_sims_m[i,i] = 0"
   ]
  },
  {
   "cell_type": "code",
   "execution_count": 25,
   "metadata": {},
   "outputs": [],
   "source": [
    "for i in range(20):\n",
    "    for j in range(i):\n",
    "        svd_cosine_sims_m[i*1000 : (i+1)*1000, j*1000 : (j+1)*1000] = \\\n",
    "svd_cosine_sims_m[j*1000 : (j+1)*1000, i*1000 : (i+1)*1000].T"
   ]
  },
  {
   "cell_type": "code",
   "execution_count": 26,
   "metadata": {},
   "outputs": [
    {
     "data": {
      "text/plain": [
       "0.5097630649293913"
      ]
     },
     "execution_count": 26,
     "metadata": {},
     "output_type": "execute_result"
    }
   ],
   "source": [
    "svd_cosine_sims_m[3872,10415]"
   ]
  },
  {
   "cell_type": "code",
   "execution_count": 27,
   "metadata": {},
   "outputs": [
    {
     "data": {
      "text/plain": [
       "0.5097630649293913"
      ]
     },
     "execution_count": 27,
     "metadata": {},
     "output_type": "execute_result"
    }
   ],
   "source": [
    "svd_cosine_sims_m[10415,3872]"
   ]
  },
  {
   "cell_type": "code",
   "execution_count": 28,
   "metadata": {},
   "outputs": [],
   "source": [
    "most_similar_user_svd_m = np.zeros(subreddit_tfidf.shape[0], dtype = np.int32)"
   ]
  },
  {
   "cell_type": "code",
   "execution_count": 29,
   "metadata": {},
   "outputs": [],
   "source": [
    "for i in range(subreddit_tfidf.shape[0]):\n",
    "    most_similar_user_svd_m[i] = np.argsort(svd_cosine_sims_m[i])[-1]"
   ]
  },
  {
   "cell_type": "code",
   "execution_count": 30,
   "metadata": {},
   "outputs": [
    {
     "data": {
      "text/plain": [
       "array([   26,    46,   828,   946,    16,  4214,    64,   942, 12012,\n",
       "          43], dtype=int32)"
      ]
     },
     "execution_count": 30,
     "metadata": {},
     "output_type": "execute_result"
    }
   ],
   "source": [
    "most_similar_user_svd_m[:10]"
   ]
  },
  {
   "cell_type": "code",
   "execution_count": 31,
   "metadata": {
    "scrolled": false
   },
   "outputs": [
    {
     "data": {
      "text/plain": [
       "[0.9065289233298915,\n",
       " 0.9272107483169616,\n",
       " 0.9722755733267259,\n",
       " 0.9851099431564582,\n",
       " 0.9577826995768564,\n",
       " 0.7671663020565638,\n",
       " 0.9528547815939193,\n",
       " 0.9616396738585347,\n",
       " 0.9878481646850883,\n",
       " 0.9370551370743466]"
      ]
     },
     "execution_count": 31,
     "metadata": {},
     "output_type": "execute_result"
    }
   ],
   "source": [
    "[svd_cosine_sims_m[i, most_similar_user_svd_m[i]] for i in range(10)]"
   ]
  },
  {
   "cell_type": "code",
   "execution_count": 32,
   "metadata": {},
   "outputs": [
    {
     "data": {
      "text/plain": [
       "0.2623451239328552"
      ]
     },
     "execution_count": 32,
     "metadata": {},
     "output_type": "execute_result"
    }
   ],
   "source": [
    "np.sum(svd_cosine_sims_m[sanders_user_indices, :][:,sanders_user_indices]) / \\\n",
    "(len(sanders_user_indices) * (len(sanders_user_indices)-1))"
   ]
  },
  {
   "cell_type": "code",
   "execution_count": 40,
   "metadata": {},
   "outputs": [
    {
     "data": {
      "text/plain": [
       "0.21623163807739687"
      ]
     },
     "execution_count": 40,
     "metadata": {},
     "output_type": "execute_result"
    }
   ],
   "source": [
    "np.sum(svd_cosine_sims_m[trump_user_indices, :][:,trump_user_indices]) / \\\n",
    "(len(trump_user_indices) * (len(trump_user_indices)-1))"
   ]
  },
  {
   "cell_type": "code",
   "execution_count": 41,
   "metadata": {},
   "outputs": [
    {
     "data": {
      "text/plain": [
       "0.22392113887854653"
      ]
     },
     "execution_count": 41,
     "metadata": {},
     "output_type": "execute_result"
    }
   ],
   "source": [
    "np.sum(svd_cosine_sims_m[clinton_user_indices, :][:,clinton_user_indices]) / \\\n",
    "(len(clinton_user_indices) * (len(clinton_user_indices)-1))"
   ]
  },
  {
   "cell_type": "code",
   "execution_count": 42,
   "metadata": {},
   "outputs": [
    {
     "data": {
      "text/plain": [
       "0.2540551920083579"
      ]
     },
     "execution_count": 42,
     "metadata": {},
     "output_type": "execute_result"
    }
   ],
   "source": [
    "np.sum(svd_cosine_sims_m[none_user_indices, :][:,none_user_indices]) / \\\n",
    "(len(none_user_indices) * (len(none_user_indices)-1))"
   ]
  },
  {
   "cell_type": "code",
   "execution_count": 43,
   "metadata": {},
   "outputs": [
    {
     "data": {
      "text/plain": [
       "0.24675364407409253"
      ]
     },
     "execution_count": 43,
     "metadata": {},
     "output_type": "execute_result"
    }
   ],
   "source": [
    "np.sum(svd_cosine_sims_m) / (svd_cosine_sims_m.shape[0] * (svd_cosine_sims_m.shape[1] - 1))"
   ]
  },
  {
   "cell_type": "code",
   "execution_count": 44,
   "metadata": {},
   "outputs": [
    {
     "name": "stdout",
     "output_type": "stream",
     "text": [
      "0.23611804227863864\n",
      "0.22082826112713277\n",
      "0.19205718653634363\n",
      "\n",
      "0.2493614891030537\n",
      "0.2255019885807114\n",
      "0.18887873578199213\n"
     ]
    }
   ],
   "source": [
    "print(np.sum(svd_cosine_sims_m[sanders_user_indices, :][:,trump_user_indices]) / \\\n",
    "((len(sanders_user_indices) * len(trump_user_indices)) - \\\n",
    "len(set(sanders_user_indices).intersection(trump_user_indices))))\n",
    "\n",
    "print(np.sum(svd_cosine_sims_m[sanders_user_indices, :][:,clinton_user_indices]) / \\\n",
    "((len(sanders_user_indices) * len(clinton_user_indices)) - \\\n",
    "len(set(sanders_user_indices).intersection(clinton_user_indices))))\n",
    "\n",
    "print(np.sum(svd_cosine_sims_m[clinton_user_indices, :][:,trump_user_indices]) / \\\n",
    "((len(clinton_user_indices) * len(trump_user_indices)) - \\\n",
    "len(set(clinton_user_indices).intersection(trump_user_indices))))\n",
    "\n",
    "print()\n",
    "print(np.sum(svd_cosine_sims_m[sanders_user_indices, :][:,none_user_indices]) / \\\n",
    "((len(sanders_user_indices) * len(none_user_indices))))\n",
    "print(np.sum(svd_cosine_sims_m[trump_user_indices, :][:,none_user_indices]) / \\\n",
    "((len(trump_user_indices) * len(none_user_indices))))\n",
    "print(np.sum(svd_cosine_sims_m[clinton_user_indices, :][:,none_user_indices]) / \\\n",
    "((len(clinton_user_indices) * len(none_user_indices))))"
   ]
  },
  {
   "cell_type": "code",
   "execution_count": 33,
   "metadata": {},
   "outputs": [
    {
     "name": "stdout",
     "output_type": "stream",
     "text": [
      "187\n",
      "1.542745815301976\n",
      "114\n",
      "1.5934216843725169\n",
      "28\n",
      "2.6252994482183123\n",
      "912\n",
      "0.904062063860684\n",
      "\n",
      "88\n",
      "1.230009721270013\n",
      "62\n",
      "1.4682183998550726\n",
      "7\n",
      "1.1119671493133603\n",
      "547\n",
      "0.9186790973297677\n",
      "\n",
      "14\n",
      "1.3126497241091561\n",
      "11\n",
      "1.7473769489209947\n",
      "6\n",
      "6.393521231818424\n",
      "80\n",
      "0.9012835404220035\n",
      "\n",
      "893\n",
      "0.8852274375302531\n",
      "539\n",
      "0.9052432055955115\n",
      "73\n",
      "0.8224212306350782\n",
      "8759\n",
      "1.0432984707190702\n"
     ]
    }
   ],
   "source": [
    "print(len([i for i in most_similar_user_svd_m[sanders_user_indices] if i in set(sanders_user_indices)]))\n",
    "print(svd_cosine_sims_m.shape[0] * len([i for i in most_similar_user_svd_m[sanders_user_indices] if i in set(sanders_user_indices)])/(len(sanders_user_indices)*len(sanders_user_indices)))\n",
    "print(len([i for i in most_similar_user_svd_m[sanders_user_indices] if i in set(trump_user_indices)]))\n",
    "print(svd_cosine_sims_m.shape[0] * len([i for i in most_similar_user_svd_m[sanders_user_indices] if i in set(trump_user_indices)])/(len(trump_user_indices)*len(sanders_user_indices)))\n",
    "print(len([i for i in most_similar_user_svd_m[sanders_user_indices] if i in set(clinton_user_indices)]))\n",
    "print(svd_cosine_sims_m.shape[0] * len([i for i in most_similar_user_svd_m[sanders_user_indices] if i in set(clinton_user_indices)])/(len(clinton_user_indices)*len(sanders_user_indices)))\n",
    "print(len([i for i in most_similar_user_svd_m[sanders_user_indices] if i in set(none_user_indices)]))\n",
    "print(svd_cosine_sims_m.shape[0] * len([i for i in most_similar_user_svd_m[sanders_user_indices] if i in set(none_user_indices)])/(len(none_user_indices)*len(sanders_user_indices)))\n",
    "print()\n",
    "print(len([i for i in most_similar_user_svd_m[trump_user_indices] if i in set(sanders_user_indices)]))\n",
    "print(svd_cosine_sims_m.shape[0] * len([i for i in most_similar_user_svd_m[trump_user_indices] if i in set(sanders_user_indices)])/(len(sanders_user_indices)*len(trump_user_indices)))\n",
    "print(len([i for i in most_similar_user_svd_m[trump_user_indices] if i in set(trump_user_indices)]))\n",
    "print(svd_cosine_sims_m.shape[0] * len([i for i in most_similar_user_svd_m[trump_user_indices] if i in set(trump_user_indices)])/(len(trump_user_indices)*len(trump_user_indices)))\n",
    "print(len([i for i in most_similar_user_svd_m[trump_user_indices] if i in set(clinton_user_indices)]))\n",
    "print(svd_cosine_sims_m.shape[0] * len([i for i in most_similar_user_svd_m[trump_user_indices] if i in set(clinton_user_indices)])/(len(clinton_user_indices)*len(trump_user_indices)))\n",
    "print(len([i for i in most_similar_user_svd_m[trump_user_indices] if i in set(none_user_indices)]))\n",
    "print(svd_cosine_sims_m.shape[0] * len([i for i in most_similar_user_svd_m[trump_user_indices] if i in set(none_user_indices)])/(len(none_user_indices)*len(trump_user_indices)))\n",
    "print()\n",
    "print(len([i for i in most_similar_user_svd_m[clinton_user_indices] if i in set(sanders_user_indices)]))\n",
    "print(svd_cosine_sims_m.shape[0] * len([i for i in most_similar_user_svd_m[clinton_user_indices] if i in set(sanders_user_indices)])/(len(sanders_user_indices)*len(clinton_user_indices)))\n",
    "print(len([i for i in most_similar_user_svd_m[clinton_user_indices] if i in set(trump_user_indices)]))\n",
    "print(svd_cosine_sims_m.shape[0] * len([i for i in most_similar_user_svd_m[clinton_user_indices] if i in set(trump_user_indices)])/(len(trump_user_indices)*len(clinton_user_indices)))\n",
    "print(len([i for i in most_similar_user_svd_m[clinton_user_indices] if i in set(clinton_user_indices)]))\n",
    "print(svd_cosine_sims_m.shape[0] * len([i for i in most_similar_user_svd_m[clinton_user_indices] if i in set(clinton_user_indices)])/(len(clinton_user_indices)*len(clinton_user_indices)))\n",
    "print(len([i for i in most_similar_user_svd_m[clinton_user_indices] if i in set(none_user_indices)]))\n",
    "print(svd_cosine_sims_m.shape[0] * len([i for i in most_similar_user_svd_m[clinton_user_indices] if i in set(none_user_indices)])/(len(none_user_indices)*len(clinton_user_indices)))\n",
    "print()\n",
    "print(len([i for i in most_similar_user_svd_m[none_user_indices] if i in set(sanders_user_indices)]))\n",
    "print(svd_cosine_sims_m.shape[0] * len([i for i in most_similar_user_svd_m[none_user_indices] if i in set(sanders_user_indices)])/(len(sanders_user_indices)*len(none_user_indices)))\n",
    "print(len([i for i in most_similar_user_svd_m[none_user_indices] if i in set(trump_user_indices)]))\n",
    "print(svd_cosine_sims_m.shape[0] * len([i for i in most_similar_user_svd_m[none_user_indices] if i in set(trump_user_indices)])/(len(none_user_indices)*len(trump_user_indices)))\n",
    "print(len([i for i in most_similar_user_svd_m[none_user_indices] if i in set(clinton_user_indices)]))\n",
    "print(svd_cosine_sims_m.shape[0] * len([i for i in most_similar_user_svd_m[none_user_indices] if i in set(clinton_user_indices)])/(len(clinton_user_indices)*len(none_user_indices)))\n",
    "print(len([i for i in most_similar_user_svd_m[none_user_indices] if i in set(none_user_indices)]))\n",
    "print(svd_cosine_sims_m.shape[0] * len([i for i in most_similar_user_svd_m[none_user_indices] if i in set(none_user_indices)])/(len(none_user_indices)*len(none_user_indices)))\n"
   ]
  },
  {
   "cell_type": "code",
   "execution_count": 46,
   "metadata": {},
   "outputs": [],
   "source": [
    "sanders_sanders_sims_m = []\n",
    "\n",
    "for i in range(len(sanders_user_indices)):\n",
    "    for j in range(i+1, len(sanders_user_indices)):\n",
    "        sanders_sanders_sims_m.append(svd_cosine_sims_m[i,j])"
   ]
  },
  {
   "cell_type": "code",
   "execution_count": 47,
   "metadata": {},
   "outputs": [
    {
     "data": {
      "image/png": "[encoded data removed]",
      "text/plain": [
       "<Figure size 432x288 with 1 Axes>"
      ]
     },
     "metadata": {
      "needs_background": "light"
     },
     "output_type": "display_data"
    }
   ],
   "source": [
    "plt.hist(sanders_sanders_sims_m, range = (-1,1))\n",
    "plt.show()"
   ]
  },
  {
   "cell_type": "code",
   "execution_count": 48,
   "metadata": {},
   "outputs": [],
   "source": [
    "trump_trump_sims_m = []\n",
    "\n",
    "for i in range(len(trump_user_indices)):\n",
    "    for j in range(i+1, len(trump_user_indices)):\n",
    "        trump_trump_sims_m.append(svd_cosine_sims_m[i,j])"
   ]
  },
  {
   "cell_type": "code",
   "execution_count": 49,
   "metadata": {
    "scrolled": true
   },
   "outputs": [
    {
     "data": {
      "image/png": "[encoded data removed]",
      "text/plain": [
       "<Figure size 432x288 with 1 Axes>"
      ]
     },
     "metadata": {
      "needs_background": "light"
     },
     "output_type": "display_data"
    }
   ],
   "source": [
    "plt.hist(trump_trump_sims_m, range = (-1,1) )\n",
    "plt.show()"
   ]
  },
  {
   "cell_type": "code",
   "execution_count": 50,
   "metadata": {},
   "outputs": [],
   "source": [
    "clinton_clinton_sims_m = []\n",
    "\n",
    "for i in range(len(clinton_user_indices)):\n",
    "    for j in range(i+1, len(clinton_user_indices)):\n",
    "        clinton_clinton_sims_m.append(svd_cosine_sims_m[i,j])"
   ]
  },
  {
   "cell_type": "code",
   "execution_count": 51,
   "metadata": {
    "scrolled": true
   },
   "outputs": [
    {
     "data": {
      "image/png": "[encoded data removed]",
      "text/plain": [
       "<Figure size 432x288 with 1 Axes>"
      ]
     },
     "metadata": {
      "needs_background": "light"
     },
     "output_type": "display_data"
    }
   ],
   "source": [
    "plt.hist(clinton_clinton_sims_m, range = (-1,1))\n",
    "plt.show()"
   ]
  },
  {
   "cell_type": "code",
   "execution_count": 53,
   "metadata": {},
   "outputs": [
    {
     "data": {
      "image/png": "[encoded data removed]",
      "text/plain": [
       "<Figure size 432x288 with 1 Axes>"
      ]
     },
     "metadata": {
      "needs_background": "light"
     },
     "output_type": "display_data"
    }
   ],
   "source": [
    "plt.hist(svd_cosine_sims_m.flatten(), range=(-1,1))\n",
    "plt.show()"
   ]
  },
  {
   "cell_type": "code",
   "execution_count": 54,
   "metadata": {},
   "outputs": [],
   "source": [
    "most_similar_50_users_svd_m = np.zeros((subreddit_tfidf.shape[0],50), dtype = np.int32)\n",
    "\n",
    "for i in range(subreddit_tfidf.shape[0]):\n",
    "    most_similar_50_users_svd_m[i] = np.flip(np.argsort(svd_cosine_sims_m[i])[-50:])\n"
   ]
  },
  {
   "cell_type": "code",
   "execution_count": 55,
   "metadata": {},
   "outputs": [
    {
     "data": {
      "text/plain": [
       "array([  26,   14,    7,  531,   10,  942,  882,    6,   35,  102,  494,\n",
       "          4,  111,  353,   48,   16,   43,  418,  109,    9,   20,   64,\n",
       "        288,  131,  105,   55,   37,  571,   88,  839,  276,  644,   62,\n",
       "        425,  168,   22, 1178,  307,   44,  504,  240,  473,   80,   93,\n",
       "         95, 1055, 1532,   85,  383,   70], dtype=int32)"
      ]
     },
     "execution_count": 55,
     "metadata": {},
     "output_type": "execute_result"
    }
   ],
   "source": [
    "most_similar_50_users_svd_m[0]"
   ]
  },
  {
   "cell_type": "code",
   "execution_count": 56,
   "metadata": {},
   "outputs": [],
   "source": [
    "most_similar_50_set_m = [set(i) for i in most_similar_50_users_svd_m]"
   ]
  },
  {
   "cell_type": "code",
   "execution_count": 57,
   "metadata": {},
   "outputs": [
    {
     "name": "stdout",
     "output_type": "stream",
     "text": [
      "5.619139370584457\n",
      "4.0\n",
      "103.33847141939627\n",
      "129.4787234042553\n",
      "173.056\n"
     ]
    }
   ],
   "source": [
    "print(np.mean([len(most_similar_50_set_m[i].intersection(sanders_user_indices)) for i in sanders_user_indices]))\n",
    "print(np.median([len(most_similar_50_set_m[i].intersection(sanders_user_indices)) for i in sanders_user_indices]))\n",
    "print(np.mean([num_sanders[author_names[i]] for i in sanders_user_indices]))\n",
    "print(np.mean([num_sanders[author_names[i]] for i in sanders_user_indices if len(most_similar_50_set_m[i].intersection(sanders_user_indices)) >= 5]))\n",
    "print(np.mean([num_sanders[author_names[i]] for i in sanders_user_indices if len(most_similar_50_set_m[i].intersection(sanders_user_indices)) >= 10]))\n"
   ]
  },
  {
   "cell_type": "code",
   "execution_count": 58,
   "metadata": {},
   "outputs": [
    {
     "data": {
      "image/png": "[encoded data removed]",
      "text/plain": [
       "<Figure size 432x288 with 1 Axes>"
      ]
     },
     "metadata": {
      "needs_background": "light"
     },
     "output_type": "display_data"
    }
   ],
   "source": [
    "plt.hist([len(most_similar_50_set_m[i].intersection(sanders_user_indices)) for i in sanders_user_indices], range = (0,50))\n",
    "plt.show()"
   ]
  },
  {
   "cell_type": "code",
   "execution_count": 65,
   "metadata": {},
   "outputs": [
    {
     "name": "stdout",
     "output_type": "stream",
     "text": [
      "752\n",
      "250\n",
      "0\n"
     ]
    }
   ],
   "source": [
    "print(sum([1 for i in sanders_user_indices if len(most_similar_50_set_m[i].intersection(sanders_user_indices)) >= 5]))\n",
    "print(sum([1 for i in sanders_user_indices if len(most_similar_50_set_m[i].intersection(sanders_user_indices)) >= 10]))\n",
    "print(sum([1 for i in sanders_user_indices if len(most_similar_50_set_m[i].intersection(sanders_user_indices)) >= 30]))"
   ]
  },
  {
   "cell_type": "code",
   "execution_count": 60,
   "metadata": {},
   "outputs": [
    {
     "name": "stdout",
     "output_type": "stream",
     "text": [
      "3.189336235038085\n",
      "3.0\n",
      "215\n",
      "18\n",
      "0\n",
      "97.14907508161045\n",
      "109.76744186046511\n",
      "49.111111111111114\n"
     ]
    },
    {
     "data": {
      "image/png": "[encoded data removed]",
      "text/plain": [
       "<Figure size 432x288 with 1 Axes>"
      ]
     },
     "metadata": {
      "needs_background": "light"
     },
     "output_type": "display_data"
    }
   ],
   "source": [
    "print(np.mean([len(most_similar_50_set_m[i].intersection(trump_user_indices)) for i in trump_user_indices]))\n",
    "print(np.median([len(most_similar_50_set_m[i].intersection(trump_user_indices)) for i in trump_user_indices]))\n",
    "print(sum([1 for i in trump_user_indices if len(most_similar_50_set_m[i].intersection(trump_user_indices)) >= 5]))\n",
    "print(sum([1 for i in trump_user_indices if len(most_similar_50_set_m[i].intersection(trump_user_indices)) >= 10]))\n",
    "print(sum([1 for i in trump_user_indices if len(most_similar_50_set_m[i].intersection(trump_user_indices)) >= 30]))\n",
    "print(np.mean([num_trump[author_names[i]] for i in trump_user_indices]))\n",
    "print(np.mean([num_trump[author_names[i]] for i in trump_user_indices if len(most_similar_50_set_m[i].intersection(trump_user_indices)) >= 5]))\n",
    "print(np.mean([num_trump[author_names[i]] for i in trump_user_indices if len(most_similar_50_set_m[i].intersection(trump_user_indices)) >= 10]))\n",
    "\n",
    "plt.hist([len(most_similar_50_set_m[i].intersection(trump_user_indices)) for i in trump_user_indices], range = (0,50))\n",
    "plt.show()"
   ]
  },
  {
   "cell_type": "code",
   "execution_count": 61,
   "metadata": {
    "scrolled": true
   },
   "outputs": [
    {
     "name": "stdout",
     "output_type": "stream",
     "text": [
      "1.489051094890511\n",
      "1.0\n",
      "20\n",
      "0\n",
      "0\n"
     ]
    },
    {
     "data": {
      "image/png": "[encoded data removed]",
      "text/plain": [
       "<Figure size 432x288 with 1 Axes>"
      ]
     },
     "metadata": {
      "needs_background": "light"
     },
     "output_type": "display_data"
    }
   ],
   "source": [
    "print(np.mean([len(most_similar_50_set_m[i].intersection(clinton_user_indices)) for i in clinton_user_indices]))\n",
    "print(np.median([len(most_similar_50_set_m[i].intersection(clinton_user_indices)) for i in clinton_user_indices]))\n",
    "print(sum([1 for i in clinton_user_indices if len(most_similar_50_set_m[i].intersection(clinton_user_indices)) >= 5]))\n",
    "print(sum([1 for i in clinton_user_indices if len(most_similar_50_set_m[i].intersection(clinton_user_indices)) >= 10]))\n",
    "print(sum([1 for i in clinton_user_indices if len(most_similar_50_set_m[i].intersection(clinton_user_indices)) >= 30]))\n",
    "# print(np.mean([num_clinton[author_names[i]] for i in clinton_user_indices]))\n",
    "# print(np.mean([num_clinton[author_names[i]] for i in clinton_user_indices if len(most_similar_50_set_m[i].intersection(clinton_user_indices)) >= 10]))\n",
    "\n",
    "\n",
    "plt.hist([len(most_similar_50_set_m[i].intersection(clinton_user_indices)) for i in clinton_user_indices], range = (0,50))\n",
    "plt.show()"
   ]
  },
  {
   "cell_type": "markdown",
   "metadata": {},
   "source": [
    "### Similarities across groups"
   ]
  },
  {
   "cell_type": "markdown",
   "metadata": {},
   "source": [
    "### Sanders"
   ]
  },
  {
   "cell_type": "code",
   "execution_count": 74,
   "metadata": {},
   "outputs": [
    {
     "name": "stdout",
     "output_type": "stream",
     "text": [
      "5.619139370584457\n",
      "4.0\n",
      "752\n",
      "250\n",
      "103.33847141939627\n",
      "129.4787234042553\n",
      "173.056\n"
     ]
    },
    {
     "data": {
      "image/png": "[encoded data removed]",
      "text/plain": [
       "<Figure size 432x288 with 1 Axes>"
      ]
     },
     "metadata": {
      "needs_background": "light"
     },
     "output_type": "display_data"
    }
   ],
   "source": [
    "print(np.mean([len(most_similar_50_set_m[i].intersection(sanders_user_indices)) for i in sanders_user_indices]))\n",
    "print(np.median([len(most_similar_50_set_m[i].intersection(sanders_user_indices)) for i in sanders_user_indices]))\n",
    "print(sum([1 for i in sanders_user_indices if len(most_similar_50_set_m[i].intersection(sanders_user_indices)) >= 5]))\n",
    "print(sum([1 for i in sanders_user_indices if len(most_similar_50_set_m[i].intersection(sanders_user_indices)) >= 10]))\n",
    "print(np.mean([num_sanders[author_names[i]] for i in sanders_user_indices]))\n",
    "print(np.mean([num_sanders[author_names[i]] for i in sanders_user_indices if len(most_similar_50_set_m[i].intersection(sanders_user_indices)) >= 5]))\n",
    "print(np.mean([num_sanders[author_names[i]] for i in sanders_user_indices if len(most_similar_50_set_m[i].intersection(sanders_user_indices)) >= 10]))\n",
    "\n",
    "plt.hist([len(most_similar_50_set_m[i].intersection(trump_user_indices)) for i in sanders_user_indices], range = (0,50))\n",
    "plt.show()"
   ]
  },
  {
   "cell_type": "code",
   "execution_count": 75,
   "metadata": {},
   "outputs": [
    {
     "name": "stdout",
     "output_type": "stream",
     "text": [
      "2.823378291586384\n",
      "3.0\n",
      "292\n",
      "12\n",
      "14.23956326268465\n",
      "17.65753424657534\n",
      "11.416666666666666\n",
      "103.33847141939627\n",
      "133.93835616438355\n",
      "63.833333333333336\n"
     ]
    },
    {
     "data": {
      "image/png": "[encoded data removed]",
      "text/plain": [
       "<Figure size 432x288 with 1 Axes>"
      ]
     },
     "metadata": {
      "needs_background": "light"
     },
     "output_type": "display_data"
    }
   ],
   "source": [
    "print(np.mean([len(most_similar_50_set_m[i].intersection(trump_user_indices)) for i in sanders_user_indices]))\n",
    "print(np.median([len(most_similar_50_set_m[i].intersection(trump_user_indices)) for i in sanders_user_indices]))\n",
    "print(sum([1 for i in sanders_user_indices if len(most_similar_50_set_m[i].intersection(trump_user_indices)) >= 5]))\n",
    "print(sum([1 for i in sanders_user_indices if len(most_similar_50_set_m[i].intersection(trump_user_indices)) >= 10]))\n",
    "print(np.mean([num_trump[author_names[i]] for i in sanders_user_indices]))\n",
    "print(np.mean([num_trump[author_names[i]] for i in sanders_user_indices if len(most_similar_50_set_m[i].intersection(trump_user_indices)) >= 5]))\n",
    "print(np.mean([num_trump[author_names[i]] for i in sanders_user_indices if len(most_similar_50_set_m[i].intersection(trump_user_indices)) >= 10]))\n",
    "print(np.mean([num_sanders[author_names[i]] for i in sanders_user_indices]))\n",
    "print(np.mean([num_sanders[author_names[i]] for i in sanders_user_indices if len(most_similar_50_set_m[i].intersection(trump_user_indices)) >= 5]))\n",
    "print(np.mean([num_sanders[author_names[i]] for i in sanders_user_indices if len(most_similar_50_set_m[i].intersection(trump_user_indices)) >= 10]))\n",
    "\n",
    "plt.hist([len(most_similar_50_set_m[i].intersection(trump_user_indices)) for i in sanders_user_indices], range = (0,50))\n",
    "plt.show()"
   ]
  },
  {
   "cell_type": "code",
   "execution_count": 79,
   "metadata": {
    "scrolled": false
   },
   "outputs": [
    {
     "name": "stdout",
     "output_type": "stream",
     "text": [
      "0.6210661528580603\n",
      "0.0\n",
      "49\n",
      "0\n",
      "5.449582530507386\n",
      "57.87755102040816\n",
      "103.33847141939627\n",
      "112.77551020408163\n"
     ]
    },
    {
     "data": {
      "image/png": "[encoded data removed]",
      "text/plain": [
       "<Figure size 432x288 with 1 Axes>"
      ]
     },
     "metadata": {
      "needs_background": "light"
     },
     "output_type": "display_data"
    }
   ],
   "source": [
    "print(np.mean([len(most_similar_50_set_m[i].intersection(clinton_user_indices)) for i in sanders_user_indices]))\n",
    "print(np.median([len(most_similar_50_set_m[i].intersection(clinton_user_indices)) for i in sanders_user_indices]))\n",
    "print(sum([1 for i in sanders_user_indices if len(most_similar_50_set_m[i].intersection(clinton_user_indices)) >= 5]))\n",
    "print(sum([1 for i in sanders_user_indices if len(most_similar_50_set_m[i].intersection(clinton_user_indices)) >= 10]))\n",
    "print(np.mean([num_clinton[author_names[i]] for i in sanders_user_indices]))\n",
    "print(np.mean([num_clinton[author_names[i]] for i in sanders_user_indices if len(most_similar_50_set_m[i].intersection(clinton_user_indices)) >= 5]))\n",
    "# print(np.mean([num_clinton[author_names[i]] for i in sanders_user_indices if len(most_similar_50_set_m[i].intersection(clinton_user_indices)) >= 10]))\n",
    "print(np.mean([num_sanders[author_names[i]] for i in sanders_user_indices]))\n",
    "print(np.mean([num_sanders[author_names[i]] for i in sanders_user_indices if len(most_similar_50_set_m[i].intersection(clinton_user_indices)) >= 5]))\n",
    "# print(np.mean([num_sanders[author_names[i]] for i in sanders_user_indices if len(most_similar_50_set_m[i].intersection(clinton_user_indices)) >= 10]))\n",
    "\n",
    "plt.hist([len(most_similar_50_set_m[i].intersection(clinton_user_indices)) for i in sanders_user_indices], range = (0,50))\n",
    "plt.show()"
   ]
  },
  {
   "cell_type": "markdown",
   "metadata": {},
   "source": [
    "### Trump"
   ]
  },
  {
   "cell_type": "code",
   "execution_count": 77,
   "metadata": {},
   "outputs": [
    {
     "name": "stdout",
     "output_type": "stream",
     "text": [
      "3.189336235038085\n",
      "3.0\n",
      "215\n",
      "18\n",
      "97.14907508161045\n",
      "109.76744186046511\n",
      "49.111111111111114\n"
     ]
    },
    {
     "data": {
      "image/png": "[encoded data removed]",
      "text/plain": [
       "<Figure size 432x288 with 1 Axes>"
      ]
     },
     "metadata": {
      "needs_background": "light"
     },
     "output_type": "display_data"
    }
   ],
   "source": [
    "print(np.mean([len(most_similar_50_set_m[i].intersection(trump_user_indices)) for i in trump_user_indices]))\n",
    "print(np.median([len(most_similar_50_set_m[i].intersection(trump_user_indices)) for i in trump_user_indices]))\n",
    "print(sum([1 for i in trump_user_indices if len(most_similar_50_set_m[i].intersection(trump_user_indices)) >= 5]))\n",
    "print(sum([1 for i in trump_user_indices if len(most_similar_50_set_m[i].intersection(trump_user_indices)) >= 10]))\n",
    "print(np.mean([num_trump[author_names[i]] for i in trump_user_indices]))\n",
    "print(np.mean([num_trump[author_names[i]] for i in trump_user_indices if len(most_similar_50_set_m[i].intersection(trump_user_indices)) >= 5]))\n",
    "print(np.mean([num_trump[author_names[i]] for i in trump_user_indices if len(most_similar_50_set_m[i].intersection(trump_user_indices)) >= 10]))\n",
    "\n",
    "plt.hist([len(most_similar_50_set_m[i].intersection(trump_user_indices)) for i in trump_user_indices], range = (0,50))\n",
    "plt.show()"
   ]
  },
  {
   "cell_type": "code",
   "execution_count": 78,
   "metadata": {},
   "outputs": [
    {
     "name": "stdout",
     "output_type": "stream",
     "text": [
      "4.936887921653971\n",
      "4.0\n",
      "397\n",
      "101\n",
      "0\n",
      "97.14907508161045\n",
      "111.55667506297229\n",
      "139.05940594059405\n",
      "18.98150163220892\n",
      "30.869017632241814\n",
      "51.15841584158416\n"
     ]
    },
    {
     "data": {
      "image/png": "[encoded data removed]",
      "text/plain": [
       "<Figure size 432x288 with 1 Axes>"
      ]
     },
     "metadata": {
      "needs_background": "light"
     },
     "output_type": "display_data"
    }
   ],
   "source": [
    "print(np.mean([len(most_similar_50_set_m[i].intersection(sanders_user_indices)) for i in trump_user_indices]))\n",
    "print(np.median([len(most_similar_50_set_m[i].intersection(sanders_user_indices)) for i in trump_user_indices]))\n",
    "print(sum([1 for i in trump_user_indices if len(most_similar_50_set_m[i].intersection(sanders_user_indices)) >= 5]))\n",
    "print(sum([1 for i in trump_user_indices if len(most_similar_50_set_m[i].intersection(sanders_user_indices)) >= 10]))\n",
    "print(sum([1 for i in trump_user_indices if len(most_similar_50_set_m[i].intersection(sanders_user_indices)) >= 30]))\n",
    "print(np.mean([num_trump[author_names[i]] for i in trump_user_indices]))\n",
    "print(np.mean([num_trump[author_names[i]] for i in trump_user_indices if len(most_similar_50_set_m[i].intersection(sanders_user_indices)) >= 5]))\n",
    "print(np.mean([num_trump[author_names[i]] for i in trump_user_indices if len(most_similar_50_set_m[i].intersection(sanders_user_indices)) >= 10]))\n",
    "print(np.mean([num_sanders[author_names[i]] for i in trump_user_indices]))\n",
    "print(np.mean([num_sanders[author_names[i]] for i in trump_user_indices if len(most_similar_50_set_m[i].intersection(sanders_user_indices)) >= 5]))\n",
    "print(np.mean([num_sanders[author_names[i]] for i in trump_user_indices if len(most_similar_50_set_m[i].intersection(sanders_user_indices)) >= 10]))\n",
    "\n",
    "plt.hist([len(most_similar_50_set_m[i].intersection(sanders_user_indices)) for i in trump_user_indices], range = (0,50))\n",
    "plt.show()"
   ]
  },
  {
   "cell_type": "code",
   "execution_count": 81,
   "metadata": {
    "scrolled": false
   },
   "outputs": [
    {
     "name": "stdout",
     "output_type": "stream",
     "text": [
      "0.528835690968444\n",
      "0.0\n",
      "21\n",
      "0\n",
      "1.0848748639825898\n",
      "1.619047619047619\n",
      "97.14907508161045\n",
      "208.23809523809524\n"
     ]
    },
    {
     "data": {
      "image/png": "[encoded data removed]",
      "text/plain": [
       "<Figure size 432x288 with 1 Axes>"
      ]
     },
     "metadata": {
      "needs_background": "light"
     },
     "output_type": "display_data"
    }
   ],
   "source": [
    "print(np.mean([len(most_similar_50_set_m[i].intersection(clinton_user_indices)) for i in trump_user_indices]))\n",
    "print(np.median([len(most_similar_50_set_m[i].intersection(clinton_user_indices)) for i in trump_user_indices]))\n",
    "print(sum([1 for i in trump_user_indices if len(most_similar_50_set_m[i].intersection(clinton_user_indices)) >= 5]))\n",
    "print(sum([1 for i in trump_user_indices if len(most_similar_50_set_m[i].intersection(clinton_user_indices)) >= 10]))\n",
    "print(np.mean([num_clinton[author_names[i]] for i in trump_user_indices]))\n",
    "print(np.mean([num_clinton[author_names[i]] for i in trump_user_indices if len(most_similar_50_set_m[i].intersection(clinton_user_indices)) >= 5]))\n",
    "# print(np.mean([num_clinton[author_names[i]] for i in sanders_user_indices if len(most_similar_50_set_m[i].intersection(clinton_user_indices)) >= 10]))\n",
    "print(np.mean([num_trump[author_names[i]] for i in trump_user_indices]))\n",
    "print(np.mean([num_trump[author_names[i]] for i in trump_user_indices if len(most_similar_50_set_m[i].intersection(clinton_user_indices)) >= 5]))\n",
    "# print(np.mean([num_sanders[author_names[i]] for i in sanders_user_indices if len(most_similar_50_set_m[i].intersection(clinton_user_indices)) >= 10]))\n",
    "\n",
    "plt.hist([len(most_similar_50_set_m[i].intersection(clinton_user_indices)) for i in trump_user_indices], range = (0,50))\n",
    "plt.show()"
   ]
  },
  {
   "cell_type": "markdown",
   "metadata": {},
   "source": [
    "### Clinton"
   ]
  },
  {
   "cell_type": "code",
   "execution_count": 83,
   "metadata": {},
   "outputs": [
    {
     "name": "stdout",
     "output_type": "stream",
     "text": [
      "1.489051094890511\n",
      "1.0\n",
      "20\n",
      "0\n",
      "95.81751824817518\n",
      "210.65\n"
     ]
    },
    {
     "data": {
      "image/png": "[encoded data removed]",
      "text/plain": [
       "<Figure size 432x288 with 1 Axes>"
      ]
     },
     "metadata": {
      "needs_background": "light"
     },
     "output_type": "display_data"
    }
   ],
   "source": [
    "print(np.mean([len(most_similar_50_set_m[i].intersection(clinton_user_indices)) for i in clinton_user_indices]))\n",
    "print(np.median([len(most_similar_50_set_m[i].intersection(clinton_user_indices)) for i in clinton_user_indices]))\n",
    "print(sum([1 for i in clinton_user_indices if len(most_similar_50_set_m[i].intersection(clinton_user_indices)) >= 5]))\n",
    "print(sum([1 for i in clinton_user_indices if len(most_similar_50_set_m[i].intersection(clinton_user_indices)) >= 10]))\n",
    "print(np.mean([num_clinton[author_names[i]] for i in clinton_user_indices]))\n",
    "print(np.mean([num_clinton[author_names[i]] for i in clinton_user_indices if len(most_similar_50_set_m[i].intersection(clinton_user_indices)) >= 5]))\n",
    "# print(np.mean([num_clinton[author_names[i]] for i in clinton_user_indices if len(most_similar_50_set_m[i].intersection(clinton_user_indices)) >= 10]))\n",
    "\n",
    "plt.hist([len(most_similar_50_set_m[i].intersection(clinton_user_indices)) for i in clinton_user_indices], range = (0,50))\n",
    "plt.show()"
   ]
  },
  {
   "cell_type": "code",
   "execution_count": 85,
   "metadata": {},
   "outputs": [
    {
     "name": "stdout",
     "output_type": "stream",
     "text": [
      "7.08029197080292\n",
      "5.0\n",
      "77\n",
      "39\n",
      "95.81751824817518\n",
      "127.98701298701299\n",
      "143.28205128205127\n",
      "125.0\n",
      "176.7922077922078\n",
      "89.71794871794872\n"
     ]
    },
    {
     "data": {
      "image/png": "[encoded data removed]",
      "text/plain": [
       "<Figure size 432x288 with 1 Axes>"
      ]
     },
     "metadata": {
      "needs_background": "light"
     },
     "output_type": "display_data"
    }
   ],
   "source": [
    "print(np.mean([len(most_similar_50_set_m[i].intersection(sanders_user_indices)) for i in clinton_user_indices]))\n",
    "print(np.median([len(most_similar_50_set_m[i].intersection(sanders_user_indices)) for i in clinton_user_indices]))\n",
    "print(sum([1 for i in clinton_user_indices if len(most_similar_50_set_m[i].intersection(sanders_user_indices)) >= 5]))\n",
    "print(sum([1 for i in clinton_user_indices if len(most_similar_50_set_m[i].intersection(sanders_user_indices)) >= 10]))\n",
    "print(np.mean([num_clinton[author_names[i]] for i in clinton_user_indices]))\n",
    "print(np.mean([num_clinton[author_names[i]] for i in clinton_user_indices if len(most_similar_50_set_m[i].intersection(sanders_user_indices)) >= 5]))\n",
    "print(np.mean([num_clinton[author_names[i]] for i in clinton_user_indices if len(most_similar_50_set_m[i].intersection(sanders_user_indices)) >= 10]))\n",
    "print(np.mean([num_sanders[author_names[i]] for i in clinton_user_indices]))\n",
    "print(np.mean([num_sanders[author_names[i]] for i in clinton_user_indices if len(most_similar_50_set_m[i].intersection(sanders_user_indices)) >= 5]))\n",
    "print(np.mean([num_sanders[author_names[i]] for i in clinton_user_indices if len(most_similar_50_set_m[i].intersection(sanders_user_indices)) >= 10]))\n",
    "\n",
    "plt.hist([len(most_similar_50_set_m[i].intersection(sanders_user_indices)) for i in clinton_user_indices], range = (0,50))\n",
    "plt.show()"
   ]
  },
  {
   "cell_type": "code",
   "execution_count": 86,
   "metadata": {
    "scrolled": true
   },
   "outputs": [
    {
     "name": "stdout",
     "output_type": "stream",
     "text": [
      "3.065693430656934\n",
      "3.0\n",
      "29\n",
      "2\n",
      "12.81021897810219\n",
      "3.0344827586206895\n",
      "12.5\n",
      "95.81751824817518\n",
      "69.06896551724138\n",
      "102.5\n"
     ]
    },
    {
     "data": {
      "image/png": "[encoded data removed]",
      "text/plain": [
       "<Figure size 432x288 with 1 Axes>"
      ]
     },
     "metadata": {
      "needs_background": "light"
     },
     "output_type": "display_data"
    }
   ],
   "source": [
    "print(np.mean([len(most_similar_50_set_m[i].intersection(trump_user_indices)) for i in clinton_user_indices]))\n",
    "print(np.median([len(most_similar_50_set_m[i].intersection(trump_user_indices)) for i in clinton_user_indices]))\n",
    "print(sum([1 for i in clinton_user_indices if len(most_similar_50_set_m[i].intersection(trump_user_indices)) >= 5]))\n",
    "print(sum([1 for i in clinton_user_indices if len(most_similar_50_set_m[i].intersection(trump_user_indices)) >= 10]))\n",
    "print(np.mean([num_trump[author_names[i]] for i in clinton_user_indices]))\n",
    "print(np.mean([num_trump[author_names[i]] for i in clinton_user_indices if len(most_similar_50_set_m[i].intersection(trump_user_indices)) >= 5]))\n",
    "print(np.mean([num_trump[author_names[i]] for i in clinton_user_indices if len(most_similar_50_set_m[i].intersection(trump_user_indices)) >= 10]))\n",
    "print(np.mean([num_clinton[author_names[i]] for i in clinton_user_indices]))\n",
    "print(np.mean([num_clinton[author_names[i]] for i in clinton_user_indices if len(most_similar_50_set_m[i].intersection(trump_user_indices)) >= 5]))\n",
    "print(np.mean([num_clinton[author_names[i]] for i in clinton_user_indices if len(most_similar_50_set_m[i].intersection(trump_user_indices)) >= 10]))\n",
    "\n",
    "plt.hist([len(most_similar_50_set_m[i].intersection(trump_user_indices)) for i in clinton_user_indices], range = (0,50))\n",
    "plt.show()"
   ]
  },
  {
   "cell_type": "code",
   "execution_count": null,
   "metadata": {},
   "outputs": [],
   "source": []
  }
 ],
 "metadata": {
  "kernelspec": {
   "display_name": "Python 3",
   "language": "python",
   "name": "python3"
  },
  "language_info": {
   "codemirror_mode": {
    "name": "ipython",
    "version": 3
   },
   "file_extension": ".py",
   "mimetype": "text/x-python",
   "name": "python",
   "nbconvert_exporter": "python",
   "pygments_lexer": "ipython3",
   "version": "3.7.3"
  }
 },
 "nbformat": 4,
 "nbformat_minor": 2
}
