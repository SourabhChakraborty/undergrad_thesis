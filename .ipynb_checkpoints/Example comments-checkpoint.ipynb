{
 "cells": [
  {
   "cell_type": "code",
   "execution_count": 1,
   "metadata": {},
   "outputs": [],
   "source": [
    "import json\n",
    "import pickle\n",
    "import re\n",
    "import pandas as pd\n",
    "import numpy as np\n",
    "from datetime import datetime"
   ]
  },
  {
   "cell_type": "code",
   "execution_count": 2,
   "metadata": {},
   "outputs": [],
   "source": [
    "with open(\"stored_variables/auth_sample_r_politics_authors.json\", 'r') as f:\n",
    "    comment_auths = json.load(f)"
   ]
  },
  {
   "cell_type": "code",
   "execution_count": 3,
   "metadata": {},
   "outputs": [],
   "source": [
    "with open(\"stored_variables/user_subreddit_tf_auths.pickle\", \"rb\") as f:\n",
    "    author_names = pickle.load(f)"
   ]
  },
  {
   "cell_type": "code",
   "execution_count": 6,
   "metadata": {},
   "outputs": [],
   "source": [
    "with open(\"stored_variables/user_subreddit_tf.pickle\", \"rb\") as f:\n",
    "    subreddit_tf = pickle.load(f)"
   ]
  },
  {
   "cell_type": "code",
   "execution_count": 8,
   "metadata": {},
   "outputs": [],
   "source": [
    "with open(\"stored_variables/user_subreddit_tf_subreddit_names.pickle\", \"rb\") as f:\n",
    "    subreddit_reverse_dict = pickle.load(f)"
   ]
  },
  {
   "cell_type": "code",
   "execution_count": 4,
   "metadata": {},
   "outputs": [],
   "source": [
    "author_reverse_dict = {author_names[i]:i for i in range(len(author_names))}"
   ]
  },
  {
   "cell_type": "code",
   "execution_count": 9,
   "metadata": {},
   "outputs": [],
   "source": [
    "num_sanders = {k:(subreddit_tf[author_reverse_dict[k], subreddit_reverse_dict['sandersforpresident']]) for k in author_names}\n",
    "num_trump = {k:(subreddit_tf[author_reverse_dict[k], subreddit_reverse_dict['the_donald']]) for k in author_names}\n",
    "num_clinton = {k:(subreddit_tf[author_reverse_dict[k], subreddit_reverse_dict['hillaryclinton']]) for k in author_names}"
   ]
  },
  {
   "cell_type": "code",
   "execution_count": 12,
   "metadata": {},
   "outputs": [],
   "source": [
    "min_date = datetime(2016,3,1).timestamp()\n",
    "max_date = datetime(2016,4,1).timestamp()"
   ]
  },
  {
   "cell_type": "code",
   "execution_count": 14,
   "metadata": {},
   "outputs": [],
   "source": [
    "comments = []\n",
    "auths = []"
   ]
  },
  {
   "cell_type": "code",
   "execution_count": 17,
   "metadata": {},
   "outputs": [
    {
     "name": "stdout",
     "output_type": "stream",
     "text": [
      "1000000\n",
      "2000000\n",
      "3000000\n",
      "4000000\n",
      "5000000\n",
      "6000000\n",
      "7000000\n",
      "8000000\n",
      "9000000\n",
      "10000000\n",
      "11000000\n",
      "12000000\n",
      "13000000\n",
      "14000000\n",
      "15000000\n",
      "16000000\n",
      "17000000\n",
      "18000000\n",
      "19000000\n",
      "20000000\n",
      "21000000\n",
      "22000000\n",
      "23000000\n",
      "24000000\n",
      "25000000\n",
      "26000000\n",
      "27000000\n",
      "28000000\n",
      "29000000\n",
      "30000000\n",
      "31000000\n"
     ]
    }
   ],
   "source": [
    "iter_num = 0\n",
    "chunk_size = 10 ** 6\n",
    "\n",
    "for chunk in pd.read_csv(\"../sample_data/politics_auth_comments2.csv\", \n",
    "                         header=None, \n",
    "                         names = ['author', 'subreddit', 'body', 'score', 'created_utc', 'link_id', 'parent_id'],\n",
    "                         usecols = ['author','subreddit', 'body', 'created_utc'],\n",
    "                         index_col = False,\n",
    "                         chunksize = chunk_size\n",
    "                         ):\n",
    "    iter_num += 1\n",
    "    \n",
    "    curr_chunk = chunk.loc[chunk['subreddit'] == 'politics']\n",
    "    curr_chunk = curr_chunk.loc[curr_chunk['created_utc'] >= min_date]\n",
    "    curr_chunk = curr_chunk.loc[curr_chunk['created_utc'] < max_date]\n",
    "    comments = comments + list(curr_chunk['body'].values)\n",
    "    auths = auths + list(curr_chunk['author'].values)\n",
    "    \n",
    "    print(iter_num * chunk_size)"
   ]
  },
  {
   "cell_type": "code",
   "execution_count": 18,
   "metadata": {},
   "outputs": [],
   "source": [
    "auth_indices = [i for i,auth in enumerate(auths) if num_trump[auth] >= 5 \n",
    "                and num_sanders[auth] == 0 and num_clinton[auth] == 0]\n",
    "comments = [comments[i] for i in auth_indices]"
   ]
  },
  {
   "cell_type": "code",
   "execution_count": 19,
   "metadata": {},
   "outputs": [
    {
     "data": {
      "text/plain": [
       "3596"
      ]
     },
     "execution_count": 19,
     "metadata": {},
     "output_type": "execute_result"
    }
   ],
   "source": [
    "len(comments)"
   ]
  },
  {
   "cell_type": "code",
   "execution_count": 20,
   "metadata": {},
   "outputs": [],
   "source": [
    "comments = [k for k in comments if 'health' in k.lower()]"
   ]
  },
  {
   "cell_type": "code",
   "execution_count": 21,
   "metadata": {},
   "outputs": [
    {
     "data": {
      "text/plain": [
       "48"
      ]
     },
     "execution_count": 21,
     "metadata": {},
     "output_type": "execute_result"
    }
   ],
   "source": [
    "len(comments)"
   ]
  },
  {
   "cell_type": "code",
   "execution_count": 22,
   "metadata": {},
   "outputs": [
    {
     "name": "stdout",
     "output_type": "stream",
     "text": [
      "['Better education. Improved job training. More robust social safety net including healthcare, unemployment and social security. \\n\\nThe lost jobs are one step in a cycle though. A cycle that improves the United States, not just the countries we trade with. Getting caught up in one small step (Actually one half of one step) and declaring the cycle as a whole bad is shortsighted. Rather than limiting free trade, why not just try to ease some of the pain caused by the TEMPORARY unemployment that Free Trade does sometimes cause.', '\"As we allow the free market to provide insurance coverage opportunities to companies and individuals, we must also make sure that no one slips through the cracks simply because they cannot afford insurance. We must review basic options for Medicaid and work with states to ensure that those who want healthcare coverage can have it.\"', '&gt; fears that aren\\'t based in what history shows us\\n\\nHistory has shown us that when the cost of labor in the US rises, jobs go to places where it\\'s cheaper.  How many textile factories are there in the South these days?  It\\'s like you\\'re ignoring the literal millions of jobs that ARE ALREADY GONE to China/India/Mexico.\\n\\nLet me tell you my actual HISTORY to give a perspective of where I come from on this issue.  I grew up in a small town in \"flyover\" country.  There were 4 major employers in the town.  A university, a regional hospital, a toy factory, and a windows/doors factory.  My father worked at the university, my mother at the hospital.  \\n\\nAt the time of the following events, I was in elementary school.\\n\\nShortly after NAFTA passed, the window factory shuttered and moved to Mexico, taking 1200 jobs with it (out of a town of 15,000).  Less than two years later, the toy factory moved to China, taking 500 jobs.  One of the reasons cited for the move was that it was just \"cheaper\" to manufacture there.  That is, the cost of labor in my town was too high.  These weren\\'t \"unskilled\" laborers like at McDonald\\'s or Walmart.  These were fabricators, supply chain individuals, etc.  Those skills left the town as well.  But that wasn\\'t the end.\\n\\nThese jobs were lost, but it wasn\\'t just 1700 out of 15,000 that were affected.  Every one of those jobs included families and classmates.  My school went from 600 students to just over 200 over the next five years, meaning they had to lay off teachers.  The hospital lost local business so doctors were laid off and services had to be sourced from bigger hospitals elsewhere.  Restaurants and Suppliers that served the people of the town who had jobs previously began to tighten belts, or leave.  That is, the town was losing the people BEST equipped to make it a great place (doctors/businesspeople/healthcare providers/etc).\\n\\nThe town nearly died in the next ten years.  My family was very lucky to have parents who were working in healthcare and higher education.  My class size went from 25 kids to less than 10 in most classes.  My teachers had to combine grades (5-6 grades in one classroom, etc) since the local tax base fell and they couldn\\'t afford the debt payments on the school.\\n\\nToday, I live in a large city because, surprise, there aren\\'t any jobs in my hometown that are really feasible in my career choice (MBA/finance/analytics).  Even if I wanted to go back home where I grew up, I wouldn\\'t be able to due to lack of employment options even 20 years later.\\n\\nBecause labor became cheaper elsewhere (China/Mexico) the town nearly died.\\n\\nWhy does this matter?  Well, because Portland just made their local wages much more expensive for businesses to maintain. They just made it cheaper to take a business OUT of the city.  Sure, it won\\'t happen overnight, but slowly and surely, small local businesses will fail, people will move, and the town will never be the same.\\n\\nHaving lived the history and economics you\\'re ignoring, I come from an interesting perspective, I really wish people took it more seriously.\\n\\n\\nEdit: Spelling/wording/toopersonal', \"I was just pointing out that it was, in fact, mentioned. I agree that it doesn't mean much without specifics, but I assume he's proposing that States will provide cheap healthcare to people who meet the requirements (poor enough).\", \"I've quit watching MSNBC because of their bias. I think it's very unprogressive to tell people you can't do Universal Healthcare, free tuition.\", \"Probably yeah. I mean the same is probably true for anyone studying in a foreign country, but I think it's more pronounced with Americans. Like students from other countries arrive *expecting* to see things differently, but American students often seem genuinely *surprised* that Canada isn't just Diet America and it blows their minds or something.\\n\\nI don't know how your mom got there after growing up in Canada, except that perhaps she moved away before her province started a [HIDS Act program](https://en.wikipedia.org/wiki/Hospital_Insurance_and_Diagnostic_Services_Act) (the last province agreed to start one in 1961) or before the [Canada Health Act](https://en.wikipedia.org/wiki/Canada_Health_Act) was passed in 1984.\", \"The attitude. Fuck those people working for poverty wages, that's their problem, is so damaging to us all.  Those people who work for nothing in sweatshops, those people are our future if we don't fight back against it. It's a whirlpool that pulls more and more workers into it. If you don't believe it, look around you.  . look at the good paying jobs that have vanished from our workforce.  My dad worked at a supermarket making $30K a year to stock shelves. Somehow that grocery store managed to pay him and thousands of others  like him that kind of salary plus health care and still turn a profit.  That allowed me to have some semblance of a normal life, we weren't rich but we managed to eat and have some luxuries and not have to worry about if we could pay for heat or the mortgage. I still managed to be sent to college (which was so much less back then in the late 80's early 90's)\\n\\nWhere are those jobs now? How many families are doing the same work  at supermarkets for $10K less 30 years later?  what are their lives like? Do they have any stability or hope for the future?\\n\\nThe more we think. fuck these people, they don't deserve more than minimum wage, they deserve to work in sweatshops in China and Vietnam and Bangladesh, the more we dig our own graves as American workers to lay next to them in that kind of abject poverty.\", 'I know that they weren\\'t stolen by illegal immigrants. hundreds of thousands of jobs shipped overseas or lost to automation. The remaining job pool had people scrambling to secure a job.  Corporations saw the vast pool of labor out there and squeezed the wages and benefits. If you didn\\'t like it the option was unemployment.\\n\\nNow we have a mind set.  \"hey wait! those  few blue collar people are making a decent salary and have health insurance!  Those greedy fucks. let\\'s take them away so they can be down in the mire with the rest of us. . .\"\\n\\nWhile in reality we all should be fighting tooth and nail for some semblance of a living wage.\\n\\nBernie Sanders is all about that. No one else on the political stage wants to even recognize the problem. . .', \"There's more important issues in urban/underdeveloped areas than an 8 year old being bullied; like crime, education, access to social services, mental health, etc...\\n\\nBulling happens across all socioeconomic levels. Anti-bulling programs don't happen in the hood because that's like issue number 37 on the list of things that need to be addressed first.\", '&gt;But the economy is “coming back,” said Kersting, an SEUI &gt;Healthcare Michigan employee and mother of two. And she said she &gt;is supporting Hillary Clinton because “she’s for working families.”\\n\\nLets be honest here. Bernie is a bigger advocate on this then Hillery. ', \"Pretty good post. While I wouldn't say at all that the two share the same ideals or policies, both Sanders and Trump are in this because they love their country and they can't stand the way it's running. Everyone else running in the two main parties are untrustworthy and not expected to deviate from the course of the last 16 years. It's a matter of whose policies fit your ideals more, which what SHOULD be important in an election. Do you want to try a more European approach with more socialism and social activism? Sanders. Do you want to try lower taxes, free markets for healthcare, and some more protection from unfair world trade? Trump.\", 'Unless your healthcare is paid for by a job. And your finances are already tight', \"50 dollars a year? Where do you live that taxes are that low? I make around 15,000 a year, and lose almost a full day in taxes every week. Trump's plan will help me immensely.\\n\\nYou realize Trump is actually in favor of a lot of social services Bernie is right? Such as universal healthcare. Remember, he used to be a democrat before he became a republican.\\n\\nSee this comment for more information:\\n\\nhttps://www.reddit.com/r/The_Donald/comments/47aymb/trump_wins_nevada_centipede_reddit_this_time_with/d0bmlwz\", \"&gt; We pay incredible amounts for healthcare - and we get jack shit for it. We pay more for healthcare than countries with universal healthcare. By a long shot. And we get absolutely jack shit. Because of monopolies and lobbyists. Health insurance needs to be killed. Execution style. It's a fucking racket in the purest sense of the word.\\n\\nYou're right. We spend [$1.1 trillion](http://www.usgovernmentspending.com/year_spending_2016USbn_17bs2n_10#usgs302) on healthcare for seniors and people on welfare. And we spend another [$1.2 trillion](http://www.usgovernmentspending.com/year_spending_2016USbn_17bs2n_0040#usgs302) on welfare itself and pensions for seniors. That's [70% of our revenue](http://www.usgovernmentrevenue.com/fed_revenue_2016USrn) right there.\\n\\nBut I'm not sure what you're proposing. Taking money from the [$651 billion](http://www.usgovernmentspending.com/year_spending_2016USbn_17bs2n_30#usgs302) military budget wouldn't be enough to support a universal plan without increasing taxes, so that's certainly not a conservative idea. If the problem is monopolies, wouldn't increasing competition by: allowing insurance to be sold across state lines, requiring price transparency, and removing entry barriers help to lower costs? That sounds like a [conservative](https://www.donaldjtrump.com/positions/healthcare-reform) plan to me.\\n\\n&gt; The conflicts in the middle east? Why the fuck is that our problem?\\n\\nI couldn't agree more. Of the remaining candidates, I think that Trump is the second least likely candidate to start another war (behind Bernie). He's far from ideal, but relatively less interventionist.\", \"As for the unemployment chart, GWB was reviled for celebrating low unemployment because he wasn't using U-6 statistics. I think it's fair to ask that we consider the U-6 statistics for Obama, given that changes to healthcare made it a viable business strategy to hang low income workers below full-time to avoid having to provide benefits. U-6 unemployment has ballooned as a result.\\n\\n\\nHis deficit reduction looks meh on paper, but considering that his policies as they stand are looking to take a turn for the worse, I'm inclined to say that we need to divert route or risk a worsened economy. For certain the best course of action does not include Federal expansion and increases in deficit.\\n\\nhttps://www.washingtonpost.com/business/economy/even-as-obama-brags-about-slashing-the-deficit-analysts-predict-its-growth/2016/02/03/8422ae72-c9f0-11e5-a7b2-5a2f824b02c9_story.html\\n\\nFinally, from a social point (an admittedly tough concept to graph) partisan behavior is at its worst, race relations are crumbling beneath us, our foreign affairs are an embarrassment and we continued to be used by our alleged allies for defense spending and one-sided trade negotiations.\\n\\nHe's not the worst this nation could've done (dare I say he was a better choice than Romney or McCain) but his legacy is far from prestigious\", \"Sanders pays **interns** $12/hr.\\n\\nHe's offering internships that pay almost $5/hr above minimum wage. In most circumstances Internships (especially in the political sector) [aren't subject to minimum wage standards](http://www.paywizard.org/main/salary/minimum-wage/internships) and don't need to be paid at all.\\n\\nDo you seriously want to compare that to Trump paying sweatshop workers a few cents an hour to slave in foreign factories with no safety or health protections, all the while blathering on about how he's going to protect US jobs when he's in charge?\", \"Possibly, but I am sure that there would be regulations to prevent that. The patchwork of all of health insurance companies and the face each carrier has to duplicate each function for a particular market is part of the reason healthcare costs are so high compared to other countries. We complain about how much our health insurance companies charge us yet we don't want to give up some theoretical leverage. \", 'I could be wrong, but I feel like the past few months the political landscape has shifted away (temporarily) from gun laws towards immigration and health care due to the Syrian Crisis and the Planned Parenthood / abortion issues. \\n\\n', \"The amazon thing has nothing to do with revenge against Bezos, it is a fair and quite appropriate complaint about money getting involved in politics, in this case biased media. This is something that Trump attacks everyone in the media and politics for, Bezos owning the WSJ is just an egregious example that is well worth pointing out.\\n\\nAlso:\\n\\n&gt; Disclosure: Jeff Bezos is an investor in Business Insider through his personal investment company Bezos Expeditions.\\n\\nSeriously?\\n\\nRegarding the protestor: If someone started roughing up a friend, I would also like to punch them in the face. I wouldn't do it unless in defence, but if I was in the position of power in the room like Trump was, then you're damn right I'd make the perp know his place. This is a basic sense of fraternity, not vindictiveness.\\none of my friends,\\n\\nTiny hands: At a rally of his own, Marco implied that Trump had a small penis. In equal family-friendly vagueness, Trump made a brief point of defending himself, and in doing so made Marco look like a juvenile fool in front of everyone.\\n\\nMexico: There's threat of trade sanctions, not of war, and Mexico owes is the wall ten times over for the remittances that they get and the healthcare that we give to tens of millions of their people and the thousands of terrorists and drug runners that they intentionally send over the border each year.\\n\\nHealthcare: No one will lose coverage under the Trump plan.\", \"I want the President defending people, both the CEO of a large corporation that having a tough time with certain trade laws and with the 'little man' who is trying to make ends meet and is now dealing with some thug who wants to make his day worse. \\n\\nPeople have made the tiny hands comment for decades, this was the first time that one of Donald's political opponents made it, and it crossed the line. Trump defended himself appropriately. The Journalist thing is a joke and is probably an amusing past-time for the both of them.\\n\\nIn the article on Mexico, Trump's words are\\n\\n&gt; Trust me, Bob, when I rejuvenate our military, Mexico’s not going to be playing with us with war, that I can tell you. Mexico isn't playing with us with war\\n\\nThis is an outline of Trump's philosophy of Peace Through Superior Firepower, which is a tried and tested system, and the only thing that will prevent WWIII. The application of this philosophy to mexico in particular is really an afterthought, as his main point that he has mentioned at nearly every single rally is that Mexico and its companies will pay for the wall or face economic consequences. The united states has the economic leverage and should use it for once.\\n\\nHealthcare: Your source doesn't give much reasoning for their numbers, however reasonable they may seem. There's a ton of possible variability in the medicaid block grant system, the article ignores many things like the effect of illegal aliens on the healthcare system, and it almost probably underestimates the economic growth under Trump.\\n\\nIf the family members of the terrorist knew about the terrorism plans and chose not to intervene, or even to help the terrorist, then the family deserves the same treatment.\\n\", \"I don't know much about how the FTT will affect the overall economy, but if you want to raise tax revenue it would be much better to just raise rates rather than try to pervert the investment incentives more than they already have been over the years. I don't see how you can make 401K's exempt from FTT when people's 401K's could have tons of underlying assets that some other money manager is handling. Even if we assume they don't have to pay the tax, money managers still have disincentive to make the types of trades that will make money for their clients. They are also hypothetically supposed to make the stock market less volatile, but I see no evidence of that.\\n\\nBut anyway, that's not that important to me. Main problems are 1) Sanders seems totally out of touch when it comes to trade and the only person in any party who agrees with him is Trump, 2) even those in the lower 20-40% income bracket will be paying about 5% more in taxes (by doubling payroll tax and adding surtax), 3) if you want to guarantee health care for all, a program that doesn't destroy the entire health insurance industry (employing 13 million) overnight makes more sense, like an extension of Obamacare, 4) I support responsible fracking which, despite it's faults is still better than coal, has done great things for the economy, reducing energy costs for poor, and greatly lowered our CO2 emissions more than any other country. Though as you may have guessed I am conservative, but way too depressed by the current choices of Republicans so I am hoping Clinton wins the nomination and understand why others support her.\", '* It doesn\\'t make sense to me that he would complain to the Federal Reserve chair about those things. What does role of the Fed have to do with it? I\\'m not sure how that\\'s a good defense of his trade ideas. During the Detroit debate, he practically implied \"trade deals\" caused Detroit\\'s collapse. What trade deals? Detroit\\'s downfall started in the 1950\\'s and was pretty much over by the time NAFTA came along. [THIS](http://fee.org/articles/bernie-sanders-anti-trade-crankery/) identifies where he\\'s wrong about trade.\\n\\n* Okay, but Gerald Friedman is pretty much alone. Now if people want to argue for Sander\\'s policies from a moral/safety net perspective, that is fine. But most believe they would slow the growth of the economy.\\n\\n* The government will spend a LOT more under his health care plan. The idea that the government will spend less than the people currently spend on health care might be true, but that\\'s not really as good as it sounds, because there are people on the receiving end of that money. I think a lot of those cost-reduction policies and controls that could be implemented without totally nationalizing the insurance industry, too. Lots of other countries do it, single-payer isn\\'t the only way to go and isn\\'t the best way for a country that\\'s built up a huge private insurance industry.\\n\\n* Good point on fracking\\n\\n* Well, we\\'ve heard that \"get the money out of politics\" in the past, and I\\'m not sure I believe it will ever happen. We had some campaign finance reforms, and then SuperPACs took their place, which some say only made the problem worse. Maybe something else will work, I don\\'t know. But I also think getting the money out of politics somewhat contradicts his ideas of greatly expanding the power and budget of government, which only gives it the power to dole out all these political favors.', 'Trump is in no way \"for the people\" Trump is doing this for himself. Trump is also for Xenophobia, Sexism, &amp; Racism. On top of that he has no platform except. Build a wall and a health care \"reform\" that has already been proven to be useless. . . Go read up on his plans and see if they will help you in any way.\\n\\nThe only positive thing he has said in ANY way is being against trade deals. That\\'s the only thing he has said of any real substance.', 'I\\'m honestly astonished how so many of you belittle Obamas accomplishments. \\n&gt;He rescued the US from a potential depression\\n\\na depression that was man made by wall street and big banks. He did nothing to punish those people. Used taxpayer money to pay out those big banks, pay the bonuses of wallstreet CEO\\'s. Those banks are bigger and richer then when Obama started.  Our economy has improved.  But it has move from a total disaster to a mid-range catastrophe. Our economy is in no way improved. It hasn\\'t improved for regular Americans in decades. Look at our middle class our buying power the hours we work. Things are getting worse dude. Stop getting all your news from CNN and other \"sources\" Their in place to sell you the sunshine song.  Obama delivered none of the \"hope and change\" he promised.  Notice him shoving TPP down your throat?  Your middle class jobs are LEAVING\\n\\nhttps://www.americanprogress.org/issues/economy/news/2014/09/16/97203/what-the-new-census-data-show-about-the-continuing-struggles-of-the-middle-class/\\n\\n&gt;gave us the affordable health care act which insured millions\\n\\nAgain turned a total disaster into a less disgusting mess that still allows Health Care  providers and Drug companies to fleece us. To make massive amounts of wealth for what the rest of the world considers a human right. People still go broke and lose their homes from illnesses that drain all of their savings. . .\\n \\nhttp://www.salon.com/2016/01/26/bernie_sanders_is_right_about_obamacare_heres_why_its_time_to_talk_about_single_player/\\n\\n\\n &gt;Repaired relations with Cuba,\\n\\nWhat the fuck do I care about Cuba?  Big fucking deal? This will in no way improve the life of regular Americans. If this is the biggest thing you can tout, your argument is in big trouble.\\n\\n&gt; gave us the Iran nuclear deal\\n\\n &gt;helped deliver the first ever global climate deal.\\n\\n&gt; Look at our economy, unemployment rate is incredibly low compared to the EU countries. The arguments against Obama are outright dumbfounding.\\n\\nIt is comparable to other countries, but look at the social welfare system in other countries. Look at the rights about family sick time and vacation in other countries. And look at the diminishing role of middle class jobs in our economy. Yes we may have people back to work  but what percentage of those jobs are poverty level jobs that mean you and your family starve to death and don\\'t even live paycheck to paycheck?\\n\\nKeep fiddling while Rome burns dude. Thank your lucky stars you aren\\'t standing in the soup lines yet, but it\\'s coming.\\n', \"Seriously, this isn't news worthy. He's going to lose Arizona ,  without a doubt, and  by huge margins. \\n\\nUnlike Trump. I really think sociologists should pay attention to this Bernie phenomenon and his supporter's delusions. I get some weird and most likely unhealthy pleasure watching all of them cling to hope.  The smugness has gotten even worse somehow,  and yet,  it's kind of endearing.  \", 'really? maybe you dont understand the US economy.\\n\\nAny idea what has happened to the middle class? or wealth distribution or corporate taxes or health care? or where both political parties get their millions of dollars from?\\n\\nenjoy your graduate degree', 'Lets praise Obama for all that he has done.  He turned an absolute shit show of a health care system  into on that is only moderately terrible.  And all this with a house and senate Democratic majority.  \\n\\nWake up and realize politicians serve corporations whether they are Dems or republicans.  We need to somehow change the rules that are in place or the stranglehold will tighten.', \"Redirecting funding from abortion clinics to other women's health clinics is absolutely moderate.  \", 'Illegals are illegal. Meaning they should be sent out of the country. Provide them Healthcare if their life depends on it but past that, gtfo. \\n\\n', 'Agreed, things like mandatory vaccinations and forced health care are in direct oppisiton to body autonomy.', 'None of what Trump says has any substance. \\r\\rDo you actually know anything about his... Lets say... Healthcare reforms? ', \"I've read it... All of it... \\r\\r1. His healthcare leaves more people uninsured and allows insurance companies to price sick people out of coverage... AGAIN. Tell me how that's a good thing? \\r\\r2. His foreign policy is nothing bit flexing American military and economic muscle... The economic part he is HUGELY inflating. How is that not going to start more regional conflicts, eventually leading to more US casualties? \", \"His campaign is full of buzzwords and bullshit. The only reason he copy and pasted Mitt Romney's healthcare proposal is because he *had* to. \\r\\rI'd say it's about the substance. \", \"Like I said, he's not going to be able to *directly* order free healthcare, but I'm sure he could *augment* the existing law to allow for broader, cheaper coverage. \", '&gt;Chinese jobs would be killed?\\r\\rNo. American jobs would be killed. Especially in the tech sector. Alot of American firms depend on exports to china. \\r\\r&gt;bring jobs back from china\\r\\rThey started coming back in 09. American firms are finding it increasingly hard to make money *inside* China, as they tend to favor domestic companies over foreign ones in disputes.\\r\\r&gt;for one, I care... And alot of other people... Would too\\r\\rAgain... Who gives a shit? You\\'re worried about making America \"great again\" but you won\\'t allow a younger workforce access to add to the public coffers? \\r\\r&gt;its ok for 25% to think its ok to kill Americans\\r\\rSo what\\'s the plan? Punish 3/4 of a population for how a small majority think? And an even smaller majority act on? \\r\\rWho gives a shit how they feel? Long as they continue to not attack us we\\'re good. \\r\\r&gt;not bought by anyone\\r\\rBut has admitted to buying people? \\r\\r&gt;legit love for country\\r\\rIsolationism doesn\\'t work. When your patriotism starts costing me money, and makes it harder for my kids to get healthcare, that\\'s a problem.', \"Transgender is not a gender issue. It's a mental health disorder. \", '\"The doctors who specialize in mental health have classed this as a mental disorder, but I, random schleb, know better!\" Man the smile you put on my face is great, thanks!', \"Panders' idols are the Sandinistas and Fidel Castro. He sayhsy socialist. His goal is communism. His goal is single payer healthcare (extremely difficult on the scale it'd have to be done in America), and 100% free college (which then devalues college and makes it worthless, but that's a different problem that America is already running into.) \\nNow, as for the class gap, yes it's a problem. But it's not a problem fixable with utterly preposterous ideas like the per-trade stock tax. Seriously the American economy almost entirely revolves around the stock market, and the reduced trading that tax would cause would make the great recession look like a happy day in the park. Theres no good way to end the pay discrepancies. Our society is too open to do any overt pay caps or wealth seizure, and the second the cost of business is higher than the profit of it, a move to a friendlier country is imminent. \", \"&gt;Except it's not what their constituents want. It's only what their wealthy constituents want.\\n\\nClearly the preponderance of their constituents want it or are okay with it. Else they'd be replaced. \\n\\n&gt;How dare the government actually want tax money to go to public education instead of enriching a bunch of charter school board members and administrators?\\n\\nWhich government? Washington?\\n\\n&gt;There are some great charter schools, but many of them are set up solely to profit off of government money after these state legislatures passed all these laws. And surprise surprise, media has been finding all sorts of links (aka money exchanging hands) between the charter school companies and the republican politicians pushing for these laws. You've been duped or you are part of the duping. \\n\\nNo, I'm not duped. I'm against centralized control of my life from Washington. I'm against national democracy controlling my life. I'm against the totalitarian worldview of the left. If you want 100% government schools in Massachusetts, go for it. If you want socialized healthcare in Vermont, go for it. Leave the rest of us alone. \", \"&gt;I'm paying between 8-10k per year on healthcare. \\n\\nWell, you are below the US average.   \\n\\nHealthcare is a finite resource. \\n\\nIf more people are given access to this finite resource, your costs will rise.  \\n\\nThis math isn't difficult.  \\n\\n\\nThanks, Bernie. \", \"You're welcome (and already do) to compete with me for healthcare resources, which drives the wages of doctors up, meaning we get the smartest people performing difficult procedures.  I applaud your efforts.\\n\\nIf doctors were forced to take lower wages or treat everyone regardless of ability to pay, we could expect the same level of service we get at the DMV.\", \"&gt;Cuba doesn't deny healthcare to people and they get dramatically better outcomes for their population compared to countries of similar wealth.\\n\\nUnless you contract HIV, in which case, they put you in prison and quarantine you.  \\n\\nThey also force abortion of babies with known deformities that could be treated but are seen as a burden on the state.\\n\\nIf that's what you really want, go ahead and head to cuba. \", 'Do you feel any frustration at our fixation on national-level politics? \\n\\nDo you believe the scope and function of the federal government has grossly exceeded its original intent and purpose?\\n\\nDo you think we are moving towards a de facto unitary state?\\n\\nDo you believe this centralization of power is unhealthy for the stability of our ideologically diverse country?\\n\\nDo you foresee another civil war if we continue down this path?\\n\\nThanks Dr.', 'Yeah, liberty is not oppressive. You\\'re a Marxist.\\n\\n&gt;Society protects rights, and also has the right to determine what those rights ARE\\n\\nAbsolutely. But what you don\\'t understand is that people get to choose what society they want to live in. I choose to live in a society based on individual liberties. \\n\\n&gt; I prefer equality, healthcare, food, clothing, and housing, over abstractions like property rights or conceptual forms of liberty that do not manifest in reality for most of the population.\\n\\nWe prefer different things. I go back to my above statement.\\n\\n&gt;If you want to use violence to take my property, then the appropriate response to that is violence.\\n\\nThat can be better understood as \"I will fight a civil war to live in the kind of society I want to live in.\"', 'Offer health services? I assume you mean with my tax money? No thanks. They can pay for their own stupid decisions. Legalize it and let natural selection work its magic.', \"More government problems. It's funny how we always need more government solutions to government problems. Don't give people free healthcare, and execute violent criminals. \", 'The totality of costs may be cheaper with a socialized system, but not the individual cost.\\n\\ni.e. if we had socialized healthcare, total healthcare expenses might be lower than a privatized system. However, with a privatized system, an individual will pay less than he would pay in taxes in a socialized system (assuming he is not at high risk of needing healthcare).', 'You are now patriot.  Seriously though apparently liking Trump cured me of my disability.  I still can\\'t see for shit, but \"no disabled person could support Trump\" so appaerntly I\\'m cured.  I guess this is trump\\'s real healthcare plan.']\n"
     ]
    }
   ],
   "source": [
    "print(comments)"
   ]
  },
  {
   "cell_type": "code",
   "execution_count": 23,
   "metadata": {},
   "outputs": [
    {
     "name": "stdout",
     "output_type": "stream",
     "text": [
      "1\n"
     ]
    }
   ],
   "source": [
    "print(len([k for k in comments if 'immigrant' in k.lower()]))"
   ]
  },
  {
   "cell_type": "code",
   "execution_count": 25,
   "metadata": {},
   "outputs": [
    {
     "name": "stdout",
     "output_type": "stream",
     "text": [
      "['I know that they weren\\'t stolen by illegal immigrants. hundreds of thousands of jobs shipped overseas or lost to automation. The remaining job pool had people scrambling to secure a job.  Corporations saw the vast pool of labor out there and squeezed the wages and benefits. If you didn\\'t like it the option was unemployment.\\n\\nNow we have a mind set.  \"hey wait! those  few blue collar people are making a decent salary and have health insurance!  Those greedy fucks. let\\'s take them away so they can be down in the mire with the rest of us. . .\"\\n\\nWhile in reality we all should be fighting tooth and nail for some semblance of a living wage.\\n\\nBernie Sanders is all about that. No one else on the political stage wants to even recognize the problem. . .']\n"
     ]
    }
   ],
   "source": [
    "print([k for k in comments if 'immigrant' in k.lower()])"
   ]
  },
  {
   "cell_type": "code",
   "execution_count": 26,
   "metadata": {},
   "outputs": [
    {
     "name": "stdout",
     "output_type": "stream",
     "text": [
      "['I could be wrong, but I feel like the past few months the political landscape has shifted away (temporarily) from gun laws towards immigration and health care due to the Syrian Crisis and the Planned Parenthood / abortion issues. \\n\\n']\n"
     ]
    }
   ],
   "source": [
    "print([k for k in comments if 'immigrat' in k.lower()])"
   ]
  },
  {
   "cell_type": "code",
   "execution_count": null,
   "metadata": {},
   "outputs": [],
   "source": []
  }
 ],
 "metadata": {
  "kernelspec": {
   "display_name": "Python 3",
   "language": "python",
   "name": "python3"
  },
  "language_info": {
   "codemirror_mode": {
    "name": "ipython",
    "version": 3
   },
   "file_extension": ".py",
   "mimetype": "text/x-python",
   "name": "python",
   "nbconvert_exporter": "python",
   "pygments_lexer": "ipython3",
   "version": "3.7.3"
  }
 },
 "nbformat": 4,
 "nbformat_minor": 2
}
