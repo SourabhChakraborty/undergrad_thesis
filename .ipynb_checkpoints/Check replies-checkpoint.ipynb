{
 "cells": [
  {
   "cell_type": "code",
   "execution_count": 1,
   "metadata": {},
   "outputs": [],
   "source": [
    "import json\n",
    "import csv\n",
    "import re\n",
    "import pandas as pd\n",
    "import numpy as np\n",
    "from scipy.sparse import bsr_matrix, coo_matrix, csr_matrix, lil_matrix, identity"
   ]
  },
  {
   "cell_type": "code",
   "execution_count": 2,
   "metadata": {},
   "outputs": [],
   "source": [
    "link_ids = set()\n",
    "parent_ids = set()"
   ]
  },
  {
   "cell_type": "code",
   "execution_count": 57,
   "metadata": {},
   "outputs": [],
   "source": [
    "chunk_size = 10 ** 6\n",
    "i = 0"
   ]
  },
  {
   "cell_type": "code",
   "execution_count": 58,
   "metadata": {
    "scrolled": true
   },
   "outputs": [
    {
     "name": "stdout",
     "output_type": "stream",
     "text": [
      "0\n",
      "1\n",
      "2\n",
      "3\n",
      "4\n",
      "5\n",
      "6\n",
      "7\n",
      "8\n",
      "9\n",
      "10\n",
      "11\n",
      "12\n",
      "13\n",
      "14\n",
      "15\n",
      "16\n",
      "17\n",
      "18\n",
      "19\n",
      "20\n",
      "21\n",
      "22\n",
      "23\n",
      "24\n",
      "25\n",
      "26\n",
      "27\n",
      "28\n",
      "29\n",
      "30\n"
     ]
    }
   ],
   "source": [
    "for chunk in pd.read_csv(\"../sample_data/politics_auth_comments2.csv\", \n",
    "                         header=None, \n",
    "                         names = ['author', 'subreddit', 'body', 'score', 'created_utc', 'link_id', 'parent_id'],\n",
    "                         usecols = ['subreddit','link_id', 'parent_id'],\n",
    "                         index_col = False,\n",
    "                         chunksize = chunk_size\n",
    "                         ):\n",
    "    print(i)\n",
    "    chunk_pol = chunk.loc[chunk['subreddit'] == 'politics']\n",
    "    link_ids = link_ids.union(set(chunk_pol['link_id'].values))\n",
    "    parent_ids = parent_ids.union(set(chunk_pol['parent_id'].values))\n",
    "    i += 1"
   ]
  },
  {
   "cell_type": "code",
   "execution_count": 59,
   "metadata": {},
   "outputs": [
    {
     "data": {
      "text/plain": [
       "129466"
      ]
     },
     "execution_count": 59,
     "metadata": {},
     "output_type": "execute_result"
    }
   ],
   "source": [
    "len(link_ids.intersection(parent_ids))"
   ]
  },
  {
   "cell_type": "code",
   "execution_count": 60,
   "metadata": {},
   "outputs": [
    {
     "data": {
      "text/plain": [
       "181489"
      ]
     },
     "execution_count": 60,
     "metadata": {},
     "output_type": "execute_result"
    }
   ],
   "source": [
    "len(link_ids)"
   ]
  },
  {
   "cell_type": "code",
   "execution_count": 61,
   "metadata": {},
   "outputs": [
    {
     "data": {
      "text/plain": [
       "962302"
      ]
     },
     "execution_count": 61,
     "metadata": {},
     "output_type": "execute_result"
    }
   ],
   "source": [
    "len(parent_ids)"
   ]
  },
  {
   "cell_type": "code",
   "execution_count": 3,
   "metadata": {},
   "outputs": [],
   "source": [
    "chunk_size1 = 10 ** 6\n",
    "i = 0\n",
    "link_ids1 = set()\n",
    "parent_ids1 = set()\n",
    "link_ids_same = set()"
   ]
  },
  {
   "cell_type": "code",
   "execution_count": 4,
   "metadata": {},
   "outputs": [],
   "source": [
    "num_politics_comments = 0"
   ]
  },
  {
   "cell_type": "code",
   "execution_count": 5,
   "metadata": {},
   "outputs": [
    {
     "name": "stdout",
     "output_type": "stream",
     "text": [
      "0\n",
      "1\n",
      "2\n",
      "3\n",
      "4\n",
      "5\n",
      "6\n",
      "7\n",
      "8\n",
      "9\n",
      "10\n",
      "11\n",
      "12\n",
      "13\n",
      "14\n",
      "15\n",
      "16\n",
      "17\n",
      "18\n",
      "19\n",
      "20\n",
      "21\n",
      "22\n",
      "23\n",
      "24\n",
      "25\n",
      "26\n",
      "27\n",
      "28\n",
      "29\n",
      "30\n"
     ]
    }
   ],
   "source": [
    "for chunk in pd.read_csv(\"../sample_data/politics_auth_comments2.csv\", \n",
    "                         header=None, \n",
    "                         names = ['author', 'subreddit', 'body', 'score', 'created_utc', 'link_id', 'parent_id'],\n",
    "                         usecols = ['subreddit','link_id', 'parent_id'],\n",
    "                         index_col = False,\n",
    "                         chunksize = chunk_size1\n",
    "                         ):\n",
    "    print(i)\n",
    "    chunk_pol1 = chunk.loc[chunk['subreddit'] == 'politics']\n",
    "    num_politics_comments += len(chunk_pol1)\n",
    "    curr_link_ids = chunk_pol1.loc[chunk_pol1['link_id'] != chunk_pol1['parent_id']]['link_id'].values\n",
    "    curr_parent_ids = chunk_pol1.loc[chunk_pol1['link_id'] != chunk_pol1['parent_id']]['parent_id'].values\n",
    "    link_ids1 = link_ids1.union(curr_link_ids)\n",
    "    parent_ids1 = parent_ids1.union(curr_parent_ids)\n",
    "    curr_same_link_ids = chunk_pol1.loc[chunk_pol1['link_id'] == chunk_pol1['parent_id']]['link_id'].values\n",
    "    link_ids_same = link_ids_same.union(curr_same_link_ids)\n",
    "    i += 1\n"
   ]
  },
  {
   "cell_type": "code",
   "execution_count": 9,
   "metadata": {},
   "outputs": [
    {
     "name": "stdout",
     "output_type": "stream",
     "text": [
      "113426\n",
      "832836\n"
     ]
    }
   ],
   "source": [
    "print(len(link_ids1))\n",
    "print(len(parent_ids1))"
   ]
  },
  {
   "cell_type": "code",
   "execution_count": 73,
   "metadata": {},
   "outputs": [
    {
     "name": "stdout",
     "output_type": "stream",
     "text": [
      "0\n",
      "0\n",
      "181489\n",
      "962302\n",
      "113426\n",
      "832836\n",
      "129466\n",
      "129466\n",
      "242892\n",
      "1107231\n"
     ]
    }
   ],
   "source": [
    "print(len(link_ids1.intersection(parent_ids1)))\n",
    "print(len(link_ids.intersection(parent_ids1)))\n",
    "print(len(link_ids))\n",
    "print(len(parent_ids))\n",
    "print(len(link_ids1))\n",
    "print(len(parent_ids1))\n",
    "print(len(link_ids_same))\n",
    "print(len(link_ids.intersection(parent_ids)))\n",
    "print(len(link_ids1) + len(link_ids_same))\n",
    "print(num_politics_comments)"
   ]
  },
  {
   "cell_type": "code",
   "execution_count": 63,
   "metadata": {},
   "outputs": [
    {
     "name": "stdout",
     "output_type": "stream",
     "text": [
      "['_c80wrg0', '_czsppnu', '_c6wunu0', '_c7v3rwf', '_cxc9l90', '_d12f6k6', '_c9er7et', '_cytqu7v', '_d1tqnyi', '_csstfpz']\n"
     ]
    }
   ],
   "source": [
    "print([i[2:] for i in list(parent_ids1)[:10]])"
   ]
  },
  {
   "cell_type": "code",
   "execution_count": 64,
   "metadata": {},
   "outputs": [],
   "source": [
    "parent_ids1_mod = set(['t3' + i[2:] for i in list(parent_ids1)])"
   ]
  },
  {
   "cell_type": "code",
   "execution_count": 65,
   "metadata": {},
   "outputs": [
    {
     "name": "stdout",
     "output_type": "stream",
     "text": [
      "0\n",
      "0\n"
     ]
    }
   ],
   "source": [
    "print(len(link_ids1.intersection(parent_ids1_mod)))\n",
    "print(len(link_ids.intersection(parent_ids1_mod)))"
   ]
  },
  {
   "cell_type": "code",
   "execution_count": 66,
   "metadata": {},
   "outputs": [
    {
     "name": "stdout",
     "output_type": "stream",
     "text": [
      "['t1_c80wrg0', 't1_czsppnu', 't1_c6wunu0', 't1_c7v3rwf', 't1_cxc9l90', 't1_d12f6k6', 't1_c9er7et', 't1_cytqu7v', 't1_d1tqnyi', 't1_csstfpz']\n",
      "['t3_cj790fj', 't3_d11p3d6', 't3_c7a0w4k', 't3_d1b7536', 't3_c9l0xv1', 't3_d05wuyw', 't3_cbtcnuv', 't3_czr1ikt', 't3_c22rhj8', 't3_d2xfccg']\n",
      "['t3_3rjcto', 't3_ax3sl', 't3_1hue6c', 't3_1ue3ln', 't3_ot9z8', 't3_1wa9kd', 't3_29rpmk', 't3_xg8jw', 't3_7mz20', 't3_61q27']\n"
     ]
    }
   ],
   "source": [
    "print([i for i in list(parent_ids1)[:10]])\n",
    "print([i for i in list(parent_ids1_mod)[:10]])\n",
    "print([i for i in list(link_ids1)[:10]])"
   ]
  },
  {
   "cell_type": "code",
   "execution_count": 110,
   "metadata": {},
   "outputs": [],
   "source": [
    "link_ids2 = set()\n",
    "parent_ids2 = set()\n",
    "link_ids_same2 = set()"
   ]
  },
  {
   "cell_type": "code",
   "execution_count": 115,
   "metadata": {},
   "outputs": [
    {
     "name": "stdout",
     "output_type": "stream",
     "text": [
      "0\n",
      "1000000\n"
     ]
    }
   ],
   "source": [
    "i = 0\n",
    "\n",
    "for chunk in pd.read_csv(\"../sample_data/politics_sample3.csv\", \n",
    "                            header=None, \n",
    "                            names = ['author', 'subreddit', 'body', 'score', 'created_dt', 'link_id', 'parent_id'],\n",
    "                            usecols = ['subreddit','link_id', 'parent_id'],\n",
    "                            index_col = False,\n",
    "                            chunksize = chunk_size1):\n",
    "    print(i)\n",
    "    chunk_pol = chunk.loc[chunk['subreddit'] == 'politics']\n",
    "    print(len(chunk_pol))\n",
    "    curr_link_ids = chunk_pol.loc[chunk_pol['link_id'] != chunk_pol['parent_id']]['link_id'].values\n",
    "    curr_parent_ids = chunk_pol.loc[chunk_pol['link_id'] != chunk_pol['parent_id']]['parent_id'].values\n",
    "    link_ids2 = link_ids2.union(curr_link_ids)\n",
    "    parent_ids2 = parent_ids2.union(curr_parent_ids)\n",
    "    curr_same_link_ids = chunk_pol1.loc[chunk_pol1['link_id'] == chunk_pol1['parent_id']]['link_id'].values\n",
    "    link_ids_same2 = link_ids_same2.union(curr_same_link_ids)\n",
    "    i += 1\n",
    "    "
   ]
  },
  {
   "cell_type": "code",
   "execution_count": 117,
   "metadata": {},
   "outputs": [
    {
     "name": "stdout",
     "output_type": "stream",
     "text": [
      "71370\n",
      "741273\n",
      "452\n",
      "44292\n",
      "29649\n",
      "36775\n",
      "0\n",
      "94171\n"
     ]
    }
   ],
   "source": [
    "print(len(link_ids2))\n",
    "print(len(parent_ids2))\n",
    "print(len(link_ids_same2))\n",
    "print(len(link_ids2.intersection(link_ids)))\n",
    "print(len(link_ids2.intersection(parent_ids)))\n",
    "print(len(link_ids2.intersection(link_ids1)))\n",
    "print(len(link_ids2.intersection(parent_ids1)))\n",
    "print(len(parent_ids2.intersection(parent_ids1)))"
   ]
  },
  {
   "cell_type": "code",
   "execution_count": 85,
   "metadata": {},
   "outputs": [],
   "source": [
    "sample_auths = pd.read_csv(\"../sample_data/politics_sample3.csv\", \n",
    "                            header=None, \n",
    "                            names = ['author', 'subreddit', 'body', 'score', 'created_dt', 'link_id', 'parent_id'],\n",
    "                            usecols = ['author'],\n",
    "                            index_col = False)['author'].values"
   ]
  },
  {
   "cell_type": "code",
   "execution_count": 86,
   "metadata": {},
   "outputs": [
    {
     "data": {
      "text/plain": [
       "1000000"
      ]
     },
     "execution_count": 86,
     "metadata": {},
     "output_type": "execute_result"
    }
   ],
   "source": [
    "len(sample_auths)"
   ]
  },
  {
   "cell_type": "code",
   "execution_count": 87,
   "metadata": {},
   "outputs": [
    {
     "data": {
      "text/plain": [
       "136432"
      ]
     },
     "execution_count": 87,
     "metadata": {},
     "output_type": "execute_result"
    }
   ],
   "source": [
    "len(set(sample_auths))"
   ]
  },
  {
   "cell_type": "markdown",
   "metadata": {},
   "source": [
    "## Does the parent of a comment that is not its own parent ever link to another comment?"
   ]
  },
  {
   "cell_type": "code",
   "execution_count": 119,
   "metadata": {},
   "outputs": [
    {
     "name": "stdout",
     "output_type": "stream",
     "text": [
      "832836\n",
      "741273\n",
      "1479938\n",
      "94171\n"
     ]
    }
   ],
   "source": [
    "print(len(parent_ids1))\n",
    "print(len(parent_ids2))\n",
    "print(len(parent_ids1.union(parent_ids2)))\n",
    "print(len(parent_ids1.intersection(parent_ids2)))"
   ]
  },
  {
   "cell_type": "code",
   "execution_count": 120,
   "metadata": {},
   "outputs": [
    {
     "name": "stdout",
     "output_type": "stream",
     "text": [
      "832836\n",
      "0\n"
     ]
    }
   ],
   "source": [
    "print(sum([1 for i in list(parent_ids1) if i[1] == '1']))\n",
    "print(sum([1 for i in list(link_ids1) if i[1] == '1']))"
   ]
  },
  {
   "cell_type": "code",
   "execution_count": 101,
   "metadata": {},
   "outputs": [
    {
     "name": "stdout",
     "output_type": "stream",
     "text": [
      "1\n",
      "['t1_d0cldbe' 't1_ctyfuyb' 't1_d1n0ymf' 't1_czhzx13' 't1_d3ohpt8'\n",
      " 't1_cndrw8o' 't1_d1ru7rm' 't1_d0ug7yr' 't1_coy2u96' 't1_cz4lgc0'\n",
      " 't1_ct7x7wa' 't1_czrand0' 't1_cq2r6vj' 't1_cvpavqr' 't1_cw5r0w1'\n",
      " 't1_cw63tje' 't1_d1flw09' 't1_ctuj684' 't1_d34d0iw' 't1_cv9m9jj']\n",
      "['Well he did stab a guy, you know. '\n",
      " \"But they're probably our best friends out of any of them, no?\"\n",
      " '[deleted]'\n",
      " \"Because they didn't distinguish New York Times from New York Times Editorial Board? And the mods removed it? This pisses me off. Does anyone think it would have been removed if it was a Sanders endorsement? \"\n",
      " 'keep telling yourself that'\n",
      " \"&gt; (assuming that gas is taxed by the price not he unit).\\n\\nIirc it is taxed as a flat amount per gallon and it hasn't increased for a long time.\"\n",
      " '[deleted]' '[deleted]'\n",
      " \"I do it anyway, but I didn't know it was an actual law in Virginia(I live and do most of my driving in VA).  I thought it was just common courtesy.\"\n",
      " '[removed]'\n",
      " 'Uh, no. Accounting for negative externalities and harm to public commons is a relatively recent phenomenon. \"Classic\" protectionism has nothing to to with environmental protection. Trade tariffs, both historically and in practice today, aren\\'t a form of targeted environmental protection. It\\'s an ad hoc argument made by protectionists to defend the indefensible.'\n",
      " \"Yes, it's being used *against* Sanders. Why would they attack someone which, in theory, helps Clinton. \"\n",
      " \"Doesn't mean he shouldn't run. And might I point out that Obama was a black senator from Chicago, when everyone was gearing up for the first female president. \\n\\nBut that doesn't mean I think Sanders can win. But, just saying. \"\n",
      " 'Rofl'\n",
      " \"This is what gets me about the Benghazi...first off as someone who is familiar with the different levels of chain of command Hillary Clinton really wouldn't have any say on the ground operations staff. That is many pay grades below that position. Secondly occassionally bad shit is going happen and 4 brave americans died. Its tragic, but its not her fault.\\n\\nAnd I don't even like the lady and hope she doesn't become president.\\n\\nNow the emails, she fucked up there.\"\n",
      " \"It's ok, no one is saying that we need background checks for stamps :)\\n\\nAnd I think we all agree there should be background checks on all gun sales, whether the seller is a dealer or not.\"\n",
      " \"No, you don't understand. He is *the chosen one.*\"\n",
      " 'And then blatantly flaunts having done so. '\n",
      " \"don't cut yourself on that edge\"\n",
      " '&gt;   And if the recipient (and possibly the sender too) didn\\'t recognize that \"government spy satellites\" was a sure-fire tipoff that this was SI//TK intel, then they wouldn\\'t know that they had just received unmarked, classified material.\\n\\n Clinton did not transmit the sensitive information herself, they said, and **nothing in the emails she received makes clear reference to communications intercepts, confidential intelligence methods or any other form of sensitive sourcing.**\\n\\n http://www.pbs.org/newshour/rundown/ap-top-secret-clinton-emails-include-drone-talk/\\n\\n']\n"
     ]
    }
   ],
   "source": [
    "for chunk in pd.read_csv(\"../sample_data/politics_sample3.csv\", \n",
    "                         header=None, \n",
    "                         names = ['author', 'subreddit', 'body', 'score', 'created_dt', 'link_id', 'parent_id'],\n",
    "                         usecols = ['author','subreddit','body','link_id', 'parent_id'],\n",
    "                         index_col = False,\n",
    "                         chunksize = chunk_size1\n",
    "                         ):\n",
    "    print(i)\n",
    "    chunk_pol1 = chunk.loc[chunk['subreddit'] == 'politics']\n",
    "    print(chunk_pol1.loc[chunk_pol1['link_id'] != chunk_pol1['parent_id']]['parent_id'].values[:20])\n",
    "    print(chunk_pol1.loc[chunk_pol1['link_id'] != chunk_pol1['parent_id']]['body'].values[:20])\n",
    "    break"
   ]
  },
  {
   "cell_type": "markdown",
   "metadata": {},
   "source": [
    "## Convert parent_ids to ids"
   ]
  },
  {
   "cell_type": "code",
   "execution_count": 6,
   "metadata": {},
   "outputs": [
    {
     "name": "stdout",
     "output_type": "stream",
     "text": [
      "['t1_d2z5mbk', 't1_ct2ucjd', 't1_c0omblo', 't1_clshs8v', 't1_cyvylho', 't1_c7grayd', 't1_ceax07z', 't1_cky4jsh', 't1_cf1q4kt', 't1_cptw1w8']\n",
      "['d2z5mbk', 'ct2ucjd', 'c0omblo', 'clshs8v', 'cyvylho', 'c7grayd', 'ceax07z', 'cky4jsh', 'cf1q4kt', 'cptw1w8']\n"
     ]
    }
   ],
   "source": [
    "print(list(parent_ids1)[:10])\n",
    "print([i[3:] for i in list(parent_ids1)[:10]])"
   ]
  },
  {
   "cell_type": "code",
   "execution_count": 7,
   "metadata": {},
   "outputs": [],
   "source": [
    "derived_ids = [i[3:] for i in list(parent_ids1)]"
   ]
  },
  {
   "cell_type": "code",
   "execution_count": 8,
   "metadata": {},
   "outputs": [
    {
     "name": "stdout",
     "output_type": "stream",
     "text": [
      "832836\n",
      "['d2z5mbk', 'ct2ucjd', 'c0omblo', 'clshs8v', 'cyvylho', 'c7grayd', 'ceax07z', 'cky4jsh', 'cf1q4kt', 'cptw1w8']\n"
     ]
    }
   ],
   "source": [
    "print(len(derived_ids))\n",
    "print(derived_ids[:10])"
   ]
  },
  {
   "cell_type": "code",
   "execution_count": 10,
   "metadata": {},
   "outputs": [],
   "source": [
    "with open('stored_variables/derived_ids.csv', 'w') as f:\n",
    "    for i in derived_ids:\n",
    "        f.write(i + \"\\n\")"
   ]
  },
  {
   "cell_type": "code",
   "execution_count": null,
   "metadata": {},
   "outputs": [],
   "source": []
  }
 ],
 "metadata": {
  "kernelspec": {
   "display_name": "Python 3",
   "language": "python",
   "name": "python3"
  },
  "language_info": {
   "codemirror_mode": {
    "name": "ipython",
    "version": 3
   },
   "file_extension": ".py",
   "mimetype": "text/x-python",
   "name": "python",
   "nbconvert_exporter": "python",
   "pygments_lexer": "ipython3",
   "version": "3.7.3"
  }
 },
 "nbformat": 4,
 "nbformat_minor": 2
}
