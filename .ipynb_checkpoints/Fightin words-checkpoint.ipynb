{
 "cells": [
  {
   "cell_type": "markdown",
   "metadata": {},
   "source": [
    "## Run Fightin' Words (Monroe et al) analysis on the groups used for the language model analyses"
   ]
  },
  {
   "cell_type": "code",
   "execution_count": 1,
   "metadata": {},
   "outputs": [],
   "source": [
    "import csv\n",
    "import json\n",
    "import numpy as np\n",
    "import pandas as pd\n",
    "import nltk\n",
    "import re\n",
    "from IPython.display import display, HTML\n",
    "from sklearn.feature_extraction.text import CountVectorizer as CV"
   ]
  },
  {
   "cell_type": "markdown",
   "metadata": {},
   "source": [
    "### Preprocess data"
   ]
  },
  {
   "cell_type": "code",
   "execution_count": null,
   "metadata": {},
   "outputs": [],
   "source": [
    "sfp_data = pd.read_csv(\"../sample_data/sfp_langsample_v4.csv\")"
   ]
  },
  {
   "cell_type": "code",
   "execution_count": null,
   "metadata": {},
   "outputs": [],
   "source": [
    "td_data = pd.read_csv(\"../sample_data/td_langsample_v4.csv\")"
   ]
  },
  {
   "cell_type": "code",
   "execution_count": null,
   "metadata": {},
   "outputs": [],
   "source": [
    "politics_data = pd.read_csv(\"../sample_data/politics_sample1.csv\", \n",
    "                            header=None, \n",
    "                            names=['author','subreddit','body','score', 'created_dt', 'rand'])"
   ]
  },
  {
   "cell_type": "code",
   "execution_count": null,
   "metadata": {},
   "outputs": [],
   "source": [
    "politics_text = politics_data.loc[politics_data['body'].notna()]['body'].values"
   ]
  },
  {
   "cell_type": "code",
   "execution_count": null,
   "metadata": {},
   "outputs": [],
   "source": [
    "sfp_authors = sfp_data['author'].unique()\n",
    "td_authors = td_data['author'].unique()\n",
    "print(len(sfp_authors))\n",
    "print(len(td_authors))\n",
    "\n",
    "print(np.sum(sfp_data['subreddit'] == 'SandersForPresident'))\n",
    "print(np.sum(sfp_data['subreddit'] == 'The_Donald'))\n",
    "print(np.sum(td_data['subreddit'] == 'SandersForPresident'))\n",
    "print(np.sum(td_data['subreddit'] == 'The_Donald'))"
   ]
  },
  {
   "cell_type": "code",
   "execution_count": null,
   "metadata": {},
   "outputs": [],
   "source": [
    "sfp_posts = sfp_data.loc[sfp_data['subreddit'] == 'SandersForPresident']\n",
    "td_posts = td_data.loc[td_data['subreddit'] == 'The_Donald']"
   ]
  },
  {
   "cell_type": "code",
   "execution_count": null,
   "metadata": {},
   "outputs": [],
   "source": [
    "sfp_min_times = [min(sfp_posts.loc[sfp_posts['author'] == auth]['created_utc']) for auth in sfp_authors]\n",
    "td_min_times = [min(td_posts.loc[td_posts['author'] == auth]['created_utc']) for auth in td_authors]"
   ]
  },
  {
   "cell_type": "code",
   "execution_count": null,
   "metadata": {},
   "outputs": [],
   "source": [
    "sfp_politics = sfp_data.loc[sfp_data['subreddit'] == 'politics']\n",
    "td_politics = td_data.loc[td_data['subreddit'] == 'politics']\n",
    "print(sfp_politics.shape)\n",
    "print(td_politics.shape)"
   ]
  },
  {
   "cell_type": "code",
   "execution_count": null,
   "metadata": {},
   "outputs": [],
   "source": [
    "sfp_politics_before = pd.DataFrame([], columns = sfp_politics.columns)\n",
    "sfp_politics_after = pd.DataFrame([], columns = sfp_politics.columns)\n",
    "\n",
    "for i in range(len(sfp_authors)):\n",
    "    curr_auth_posts = sfp_politics.loc[sfp_politics['author'] == sfp_authors[i]]\n",
    "    \n",
    "    if len(curr_auth_posts) > 0:\n",
    "        sfp_politics_before = \\\n",
    "sfp_politics_before.append(curr_auth_posts.loc[curr_auth_posts['created_utc'] < sfp_min_times[i]])\n",
    "        \n",
    "        sfp_politics_after = \\\n",
    "sfp_politics_after.append(curr_auth_posts.loc[curr_auth_posts['created_utc'] > sfp_min_times[i]])\n",
    "    "
   ]
  },
  {
   "cell_type": "code",
   "execution_count": null,
   "metadata": {},
   "outputs": [],
   "source": [
    "td_politics_before = pd.DataFrame([], columns = td_politics.columns)\n",
    "td_politics_after = pd.DataFrame([], columns = td_politics.columns)\n",
    "\n",
    "for i in range(len(td_authors)):\n",
    "    curr_auth_posts = td_politics.loc[td_politics['author'] == td_authors[i]]\n",
    "    \n",
    "    if len(curr_auth_posts) > 0:\n",
    "        td_politics_before = \\\n",
    "td_politics_before.append(curr_auth_posts.loc[curr_auth_posts['created_utc'] < td_min_times[i]])\n",
    "        \n",
    "        td_politics_after = \\\n",
    "td_politics_after.append(curr_auth_posts.loc[curr_auth_posts['created_utc'] > td_min_times[i]])\n",
    "    "
   ]
  },
  {
   "cell_type": "code",
   "execution_count": null,
   "metadata": {},
   "outputs": [],
   "source": [
    "sfp_politics_before_text = sfp_politics_before.loc[sfp_politics_before['body'].notna()]['body'].values\n",
    "sfp_politics_after_text = sfp_politics_after.loc[sfp_politics_after['body'].notna()]['body'].values\n",
    "\n",
    "td_politics_before_text = td_politics_before.loc[td_politics_before['body'].notna()]['body'].values\n",
    "td_politics_after_text = td_politics_after.loc[td_politics_after['body'].notna()]['body'].values\n",
    "\n",
    "sfp_posts_text = sfp_posts.loc[sfp_posts['body'].notna()]['body'].values\n",
    "td_posts_text = td_posts.loc[td_posts['body'].notna()]['body'].values"
   ]
  },
  {
   "cell_type": "code",
   "execution_count": null,
   "metadata": {},
   "outputs": [],
   "source": [
    "sfp_posts = sfp_data.loc[sfp_data['subreddit'] == 'SandersForPresident']\n",
    "td_posts = td_data.loc[td_data['subreddit'] == 'The_Donald']\n",
    "sfp_posts_text = sfp_posts.loc[sfp_posts['body'].notna()]['body'].values\n",
    "td_posts_text = td_posts.loc[td_posts['body'].notna()]['body'].values"
   ]
  },
  {
   "cell_type": "code",
   "execution_count": null,
   "metadata": {},
   "outputs": [],
   "source": [
    "print(len([i for i in politics_text if 'deleted' in i]))\n",
    "print(len([i for i in politics_text if 'removed' in i]))\n",
    "# print([i for i in politics_text if 'deleted' in i][:20])\n",
    "# print([i for i in politics_text if 'removed' in i][:20])\n",
    "deleted_str = [i for i in politics_text if 'deleted' in i][0]\n",
    "removed_str = [i for i in politics_text if 'removed' in i][0]\n",
    "print(len([i for i in politics_text if i == deleted_str]))\n",
    "print(len([i for i in politics_text if i == removed_str]))\n",
    "print(len([i for i in politics_text if (i != removed_str and i != deleted_str)]))\n",
    "print(len(politics_text))"
   ]
  },
  {
   "cell_type": "markdown",
   "metadata": {},
   "source": [
    "### Fightin' Words implementation"
   ]
  },
  {
   "cell_type": "code",
   "execution_count": null,
   "metadata": {},
   "outputs": [],
   "source": [
    "def compare1(l1, l2, prior=0.01):\n",
    "    cv = CV(decode_error = 'ignore', min_df = 10, max_df = .5, ngram_range=(1,1),\n",
    "        binary = False,\n",
    "        max_features = 15000)\n",
    "    \n",
    "    counts_mat = cv.fit_transform(l1 + l2).toarray()\n",
    "    vocab_size = len(cv.vocabulary_)\n",
    "    #print(vocab_size)\n",
    "    priors = np.array([prior for i in range(vocab_size)])\n",
    "    \n",
    "    z_scores = np.empty(priors.shape[0])\n",
    "    count_matrix = np.empty([2, vocab_size], dtype=np.float32)\n",
    "    count_matrix[0, :] = np.sum(counts_mat[:len(l1), :], axis = 0)\n",
    "    count_matrix[1, :] = np.sum(counts_mat[len(l1):, :], axis = 0)\n",
    "    a0 = np.sum(priors)\n",
    "    n1 = 1.*np.sum(count_matrix[0,:])\n",
    "    n2 = 1.*np.sum(count_matrix[1,:])\n",
    "\n",
    "    for i in range(vocab_size):\n",
    "        #compute delta\n",
    "        term1 = np.log((count_matrix[0,i] + priors[i])/(n1 + a0 - count_matrix[0,i] - priors[i]))\n",
    "        term2 = np.log((count_matrix[1,i] + priors[i])/(n2 + a0 - count_matrix[1,i] - priors[i]))        \n",
    "        delta = term1 - term2\n",
    "        #compute variance on delta\n",
    "        var = 1./(count_matrix[0,i] + priors[i]) + 1./(count_matrix[1,i] + priors[i])\n",
    "        #store final score\n",
    "        z_scores[i] = delta/np.sqrt(var)\n",
    "    index_to_term = {v:k for k,v in cv.vocabulary_.items()}\n",
    "    sorted_indices = np.argsort(z_scores)\n",
    "    return_list = []\n",
    "    for i in sorted_indices:\n",
    "        return_list.append((index_to_term[i], z_scores[i]))\n",
    "        \n",
    "    return return_list"
   ]
  },
  {
   "cell_type": "code",
   "execution_count": null,
   "metadata": {},
   "outputs": [],
   "source": [
    "comparison_1 = compare1(list(sfp_politics_before_text), list(td_politics_before_text))"
   ]
  },
  {
   "cell_type": "code",
   "execution_count": null,
   "metadata": {},
   "outputs": [],
   "source": [
    "print(\"Most characteristic of sfp politics before\")\n",
    "print(comparison_1[-10:])\n",
    "print(\"Most characteristic of td politics before\")\n",
    "print(comparison_1[:10])"
   ]
  },
  {
   "cell_type": "code",
   "execution_count": null,
   "metadata": {},
   "outputs": [],
   "source": [
    "comparison_2 = compare1(list(sfp_politics_after_text), list(td_politics_after_text))"
   ]
  },
  {
   "cell_type": "code",
   "execution_count": null,
   "metadata": {},
   "outputs": [],
   "source": [
    "print(\"Most characteristic of sfp politics after\")\n",
    "print(comparison_2[-10:])\n",
    "print(\"Most characteristic of td politics after\")\n",
    "print(comparison_2[:10])"
   ]
  },
  {
   "cell_type": "code",
   "execution_count": null,
   "metadata": {},
   "outputs": [],
   "source": [
    "comparison_3 = compare1(list(sfp_politics_before_text), list(sfp_politics_after_text))"
   ]
  },
  {
   "cell_type": "code",
   "execution_count": null,
   "metadata": {},
   "outputs": [],
   "source": [
    "print(\"Most characteristic of sfp politics before\")\n",
    "print(comparison_3[-10:])\n",
    "print(\"Most characteristic of sfp politics after\")\n",
    "print(comparison_3[:10])"
   ]
  },
  {
   "cell_type": "code",
   "execution_count": null,
   "metadata": {},
   "outputs": [],
   "source": [
    "comparison_4 = compare1(list(td_politics_before_text), list(td_politics_after_text))"
   ]
  },
  {
   "cell_type": "code",
   "execution_count": null,
   "metadata": {},
   "outputs": [],
   "source": [
    "print(\"Most characteristic of td politics before\")\n",
    "print(comparison_4[-10:])\n",
    "print(\"Most characteristic of td politics after\")\n",
    "print(comparison_4[:10])"
   ]
  },
  {
   "cell_type": "code",
   "execution_count": null,
   "metadata": {},
   "outputs": [],
   "source": [
    "comparison_5 = compare1(list(sfp_politics_before_text), list(politics_text))"
   ]
  },
  {
   "cell_type": "code",
   "execution_count": null,
   "metadata": {},
   "outputs": [],
   "source": [
    "print(\"Most characteristic of sfp politics before\")\n",
    "print(comparison_5[-10:])\n",
    "print(\"Most characteristic of /r/politics\")\n",
    "print(comparison_5[:10])"
   ]
  },
  {
   "cell_type": "code",
   "execution_count": null,
   "metadata": {},
   "outputs": [],
   "source": [
    "comparison_6 = compare1(list(sfp_politics_after_text), list(politics_text))"
   ]
  },
  {
   "cell_type": "code",
   "execution_count": null,
   "metadata": {},
   "outputs": [],
   "source": [
    "print(\"Most characteristic of sfp politics after\")\n",
    "print(comparison_6[-10:])\n",
    "print(\"Most characteristic of /r/politics\")\n",
    "print(comparison_6[:10])"
   ]
  },
  {
   "cell_type": "code",
   "execution_count": null,
   "metadata": {},
   "outputs": [],
   "source": [
    "comparison_7 = compare1(list(td_politics_before_text), list(politics_text))"
   ]
  },
  {
   "cell_type": "code",
   "execution_count": null,
   "metadata": {},
   "outputs": [],
   "source": [
    "print(\"Most characteristic of td politics before\")\n",
    "print(comparison_7[-10:])\n",
    "print(\"Most characteristic of /r/politics\")\n",
    "print(comparison_7[:10])"
   ]
  },
  {
   "cell_type": "code",
   "execution_count": null,
   "metadata": {},
   "outputs": [],
   "source": [
    "comparison_8 = compare1(list(td_politics_after_text), list(politics_text))"
   ]
  },
  {
   "cell_type": "code",
   "execution_count": null,
   "metadata": {},
   "outputs": [],
   "source": [
    "print(\"Most characteristic of td politics after\")\n",
    "print(comparison_8[-10:])\n",
    "print(\"Most characteristic of /r/politics\")\n",
    "print(comparison_8[:10])"
   ]
  },
  {
   "cell_type": "code",
   "execution_count": null,
   "metadata": {},
   "outputs": [],
   "source": [
    "comparison_9 = compare1(list(sfp_politics_before_text), list(sfp_posts_text))"
   ]
  },
  {
   "cell_type": "code",
   "execution_count": null,
   "metadata": {},
   "outputs": [],
   "source": [
    "comparison_10 = compare1(list(sfp_politics_after_text), list(sfp_posts_text))"
   ]
  },
  {
   "cell_type": "code",
   "execution_count": null,
   "metadata": {},
   "outputs": [],
   "source": [
    "comparison_11 = compare1(list(td_politics_before_text), list(td_posts_text))"
   ]
  },
  {
   "cell_type": "code",
   "execution_count": null,
   "metadata": {},
   "outputs": [],
   "source": [
    "comparison_12 = compare1(list(td_politics_after_text), list(td_posts_text))"
   ]
  },
  {
   "cell_type": "code",
   "execution_count": null,
   "metadata": {},
   "outputs": [],
   "source": [
    "print(\"Most characteristic of sfp politics before\")\n",
    "print(comparison_9[-10:])\n",
    "print(\"Most characteristic of sfp\")\n",
    "print(comparison_9[:10])"
   ]
  },
  {
   "cell_type": "code",
   "execution_count": null,
   "metadata": {},
   "outputs": [],
   "source": [
    "print(\"Most characteristic of sfp politics after\")\n",
    "print(comparison_10[-10:])\n",
    "print(\"Most characteristic of sfp\")\n",
    "print(comparison_10[:10])"
   ]
  },
  {
   "cell_type": "code",
   "execution_count": null,
   "metadata": {},
   "outputs": [],
   "source": [
    "print(\"Most characteristic of td politics before\")\n",
    "print(comparison_11[-10:])\n",
    "print(\"Most characteristic of td\")\n",
    "print(comparison_11[:10])"
   ]
  },
  {
   "cell_type": "code",
   "execution_count": null,
   "metadata": {},
   "outputs": [],
   "source": [
    "print(\"Most characteristic of td politics after\")\n",
    "print(comparison_12[-10:])\n",
    "print(\"Most characteristic of td\")\n",
    "print(comparison_12[:10])"
   ]
  },
  {
   "cell_type": "markdown",
   "metadata": {},
   "source": [
    "### Notes\n",
    "\n",
    "Need to do more preprocessing (removing links and '[removed]' posts). In addition, it seems to be that the \"after\" posts (and perhaps politics in general?) become more focused on people (Clinton, Sanders, Trump), which in itself isn't necessarily interesting (increased election-related news coverage; presumably it's on people's minds more regardless). However, it may be interesting if coupled with differences of variability in language. Lastly, I should rethink whether the timeframe for /r/politics is ideal, as it seems to be more in line with the \"after\" posts than the \"before\" posts."
   ]
  },
  {
   "cell_type": "markdown",
   "metadata": {},
   "source": [
    "### Additional preprocessing"
   ]
  },
  {
   "cell_type": "code",
   "execution_count": null,
   "metadata": {},
   "outputs": [],
   "source": [
    "sfp_politics_before_text1 = [i for i in sfp_politics_before_text if (i != deleted_str and i != removed_str)]\n",
    "print(len(sfp_politics_before_text))\n",
    "print(len(sfp_politics_before_text1))"
   ]
  },
  {
   "cell_type": "code",
   "execution_count": null,
   "metadata": {},
   "outputs": [],
   "source": [
    "print(len([i for i in td_posts_text if (i != removed_str and i != deleted_str)]))\n",
    "print(len(td_posts_text))"
   ]
  },
  {
   "cell_type": "code",
   "execution_count": null,
   "metadata": {},
   "outputs": [],
   "source": [
    "for data in [sfp_politics_before_text, sfp_politics_after_text, td_politics_before_text, td_politics_after_text, sfp_posts_text, td_posts_text]:\n",
    "    print(len([i for i in data if (i != removed_str and i != deleted_str)]))\n",
    "    print(len(data))\n",
    "    print()"
   ]
  },
  {
   "cell_type": "code",
   "execution_count": null,
   "metadata": {},
   "outputs": [],
   "source": [
    "for data in [sfp_politics_before_text, sfp_politics_after_text, td_politics_before_text, td_politics_after_text, sfp_posts_text, td_posts_text]:\n",
    "    print(len([i for i in data if ('http' not in i)]))\n",
    "    print(len(data))\n",
    "    print()"
   ]
  },
  {
   "cell_type": "code",
   "execution_count": null,
   "metadata": {},
   "outputs": [],
   "source": [
    "for data in [sfp_politics_before_text, sfp_politics_after_text, td_politics_before_text, td_politics_after_text, sfp_posts_text, td_posts_text]:\n",
    "    print([re.sub(r'https?:\\/\\/[\\S]+', ' ', i, flags=re.MULTILINE) for i in data if ('http' in i)][:10])\n",
    "    print()"
   ]
  },
  {
   "cell_type": "code",
   "execution_count": null,
   "metadata": {},
   "outputs": [],
   "source": [
    "def transform_data(data):\n",
    "    new_data = [re.sub(r'https?:\\/\\/[\\S]+', ' ', i, flags=re.MULTILINE) for i in data]\n",
    "    new_data = [i for i in new_data if (i != removed_str and i != deleted_str)]\n",
    "    return new_data"
   ]
  },
  {
   "cell_type": "code",
   "execution_count": null,
   "metadata": {},
   "outputs": [],
   "source": [
    "sfp_politics_before_text1 = transform_data(sfp_politics_before_text) \n",
    "sfp_politics_after_text1 = transform_data(sfp_politics_after_text)\n",
    "td_politics_before_text1 = transform_data(td_politics_before_text) \n",
    "td_politics_after_text1 = transform_data(td_politics_after_text)\n",
    "sfp_posts_text1 = transform_data(sfp_posts_text)\n",
    "td_posts_text1 = transform_data(td_posts_text)  \n",
    "politics_text1 = transform_data(politics_text)"
   ]
  },
  {
   "cell_type": "code",
   "execution_count": null,
   "metadata": {},
   "outputs": [],
   "source": [
    "comparison_1m = compare1(list(sfp_politics_before_text1), list(td_politics_before_text1))"
   ]
  },
  {
   "cell_type": "code",
   "execution_count": null,
   "metadata": {},
   "outputs": [],
   "source": [
    "print(\"Most characteristic of sfp politics before\")\n",
    "print(comparison_1m[-10:])\n",
    "print(\"Most characteristic of td politics before\")\n",
    "print(comparison_1m[:10])"
   ]
  },
  {
   "cell_type": "code",
   "execution_count": null,
   "metadata": {},
   "outputs": [],
   "source": [
    "comparison_2m = compare1(list(sfp_politics_after_text1), list(td_politics_after_text1))"
   ]
  },
  {
   "cell_type": "code",
   "execution_count": null,
   "metadata": {},
   "outputs": [],
   "source": [
    "print(\"Most characteristic of sfp politics after\")\n",
    "print(comparison_2m[-10:])\n",
    "print(\"Most characteristic of td politics after\")\n",
    "print(comparison_2m[:10])"
   ]
  },
  {
   "cell_type": "code",
   "execution_count": null,
   "metadata": {},
   "outputs": [],
   "source": [
    "comparison_3m = compare1(list(sfp_politics_before_text1), list(sfp_politics_after_text1))"
   ]
  },
  {
   "cell_type": "code",
   "execution_count": null,
   "metadata": {},
   "outputs": [],
   "source": [
    "print(\"Most characteristic of sfp politics before\")\n",
    "print(comparison_3m[-10:])\n",
    "print(\"Most characteristic of sfp politics after\")\n",
    "print(comparison_3m[:10])"
   ]
  },
  {
   "cell_type": "code",
   "execution_count": null,
   "metadata": {},
   "outputs": [],
   "source": [
    "comparison_4m = compare1(list(td_politics_before_text1), list(td_politics_after_text1))"
   ]
  },
  {
   "cell_type": "code",
   "execution_count": null,
   "metadata": {},
   "outputs": [],
   "source": [
    "print(\"Most characteristic of td politics before\")\n",
    "print(comparison_4m[-10:])\n",
    "print(\"Most characteristic of td politics after\")\n",
    "print(comparison_4m[:10])"
   ]
  },
  {
   "cell_type": "code",
   "execution_count": null,
   "metadata": {},
   "outputs": [],
   "source": [
    "comparison_5m = compare1(list(sfp_politics_before_text1), list(politics_text1))"
   ]
  },
  {
   "cell_type": "code",
   "execution_count": null,
   "metadata": {},
   "outputs": [],
   "source": [
    "print(\"Most characteristic of sfp politics before\")\n",
    "print(comparison_5m[-10:])\n",
    "print(\"Most characteristic of /r/politics\")\n",
    "print(comparison_5m[:10])"
   ]
  },
  {
   "cell_type": "code",
   "execution_count": null,
   "metadata": {},
   "outputs": [],
   "source": [
    "comparison_6m = compare1(list(sfp_politics_after_text1), list(politics_text1))"
   ]
  },
  {
   "cell_type": "code",
   "execution_count": null,
   "metadata": {},
   "outputs": [],
   "source": [
    "print(\"Most characteristic of sfp politics after\")\n",
    "print(comparison_6m[-10:])\n",
    "print(\"Most characteristic of /r/politics\")\n",
    "print(comparison_6m[:10])"
   ]
  },
  {
   "cell_type": "code",
   "execution_count": null,
   "metadata": {},
   "outputs": [],
   "source": [
    "comparison_7m = compare1(list(td_politics_before_text1), list(politics_text1))"
   ]
  },
  {
   "cell_type": "code",
   "execution_count": null,
   "metadata": {},
   "outputs": [],
   "source": [
    "print(\"Most characteristic of td politics before\")\n",
    "print(comparison_7m[-10:])\n",
    "print(\"Most characteristic of /r/politics\")\n",
    "print(comparison_7m[:10])"
   ]
  },
  {
   "cell_type": "code",
   "execution_count": null,
   "metadata": {},
   "outputs": [],
   "source": [
    "comparison_8m = compare1(list(td_politics_after_text1), list(politics_text1))"
   ]
  },
  {
   "cell_type": "code",
   "execution_count": null,
   "metadata": {},
   "outputs": [],
   "source": [
    "print(\"Most characteristic of td politics after\")\n",
    "print(comparison_8m[-10:])\n",
    "print(\"Most characteristic of /r/politics\")\n",
    "print(comparison_8m[:10])"
   ]
  },
  {
   "cell_type": "code",
   "execution_count": null,
   "metadata": {},
   "outputs": [],
   "source": [
    "comparison_9m = compare1(list(sfp_politics_before_text1), list(sfp_posts_text1))"
   ]
  },
  {
   "cell_type": "code",
   "execution_count": null,
   "metadata": {},
   "outputs": [],
   "source": [
    "comparison_10m = compare1(list(sfp_politics_after_text1), list(sfp_posts_text1))"
   ]
  },
  {
   "cell_type": "code",
   "execution_count": null,
   "metadata": {},
   "outputs": [],
   "source": [
    "comparison_11m = compare1(list(td_politics_before_text1), list(td_posts_text1))"
   ]
  },
  {
   "cell_type": "code",
   "execution_count": null,
   "metadata": {},
   "outputs": [],
   "source": [
    "comparison_12m = compare1(list(td_politics_after_text1), list(td_posts_text1))"
   ]
  },
  {
   "cell_type": "code",
   "execution_count": null,
   "metadata": {},
   "outputs": [],
   "source": [
    "print(\"Most characteristic of sfp politics before\")\n",
    "print(comparison_9m[-10:])\n",
    "print(\"Most characteristic of sfp\")\n",
    "print(comparison_9m[:10])"
   ]
  },
  {
   "cell_type": "code",
   "execution_count": null,
   "metadata": {},
   "outputs": [],
   "source": [
    "print(\"Most characteristic of sfp politics after\")\n",
    "print(comparison_10m[-10:])\n",
    "print(\"Most characteristic of sfp\")\n",
    "print(comparison_10m[:10])"
   ]
  },
  {
   "cell_type": "code",
   "execution_count": null,
   "metadata": {},
   "outputs": [],
   "source": [
    "print(\"Most characteristic of td politics before\")\n",
    "print(comparison_11m[-10:])\n",
    "print(\"Most characteristic of td\")\n",
    "print(comparison_11m[:10])"
   ]
  },
  {
   "cell_type": "code",
   "execution_count": null,
   "metadata": {},
   "outputs": [],
   "source": [
    "print(\"Most characteristic of td politics after\")\n",
    "print(comparison_12m[-10:])\n",
    "print(\"Most characteristic of td\")\n",
    "print(comparison_12m[:10])"
   ]
  },
  {
   "cell_type": "code",
   "execution_count": null,
   "metadata": {},
   "outputs": [],
   "source": [
    "print([i for i in politics_text1 if 'submission' in i][:10])\n",
    "print(len([i for i in politics_text1 if 'submission' in i]))\n",
    "print(len([i for i in politics_text1 if 'your submission' in i]))\n",
    "print(len([i for i in politics_text1 if 'i am a bot' in i.lower()]))\n",
    "print([i for i in politics_text1 if 'submission' in i and 'i am a bot' not in i.lower()][:10])\n",
    "print(len([i for i in politics_text1 if ('your submission' in i and \n",
    "       'has been removed for the following reason' in i) or 'i am a bot' in i.lower()]))\n",
    "print([i for i in politics_text1 if 'submission' in i and 'your submission' not in i and \n",
    "       'has been removed for the following reason' not in i and 'i am a bot' not in i.lower()])"
   ]
  },
  {
   "cell_type": "code",
   "execution_count": null,
   "metadata": {},
   "outputs": [],
   "source": [
    "print(len([i for i in politics_text1 if 'message' in i]))\n",
    "print(len([i for i in politics_text1 if 'message' in i and 'your submission' not in i and \n",
    "       'has been removed for the following reason' not in i and 'i am a bot' not in i.lower()]))\n",
    "print([i for i in politics_text1 if 'message' in i and 'your submission' not in i and \n",
    "       'has been removed for the following reason' not in i and 'i am a bot' not in i.lower()][:10])\n",
    "print(len([i for i in politics_text1 if ('your submission' in i and \n",
    "       'has been removed for the following reason' in i or 'i am a bot' in i.lower()) and \n",
    "                 'thank you for participating in' not in i.lower()]))\n",
    "print(len([i for i in politics_text1 if 'i am a bot' in i.lower() or \n",
    "                 'thank you for participating in' in i.lower()]))"
   ]
  },
  {
   "cell_type": "code",
   "execution_count": null,
   "metadata": {},
   "outputs": [],
   "source": [
    "print(len([i for i in politics_text2 if 'thank you for participating in' in i.lower()]))\n",
    "print(len([i for i in politics_text2 if 'comment' in i.lower()]))\n",
    "print(len([i for i in politics_text2 if 'removal' in i.lower()]))\n",
    "print([i for i in politics_text2 if 'comment' in i.lower() and 'removal' not in i.lower()][:10])\n",
    "print([i for i in politics_text2 if 'removal' in i.lower() and 'thank you for participating in' not in i.lower()])"
   ]
  },
  {
   "cell_type": "code",
   "execution_count": null,
   "metadata": {},
   "outputs": [],
   "source": [
    "politics_text2 = [i for i in politics_text1 if 'i am a bot' not in i.lower() and \n",
    "                 'thank you for participating in' not in i.lower()]"
   ]
  },
  {
   "cell_type": "code",
   "execution_count": null,
   "metadata": {},
   "outputs": [],
   "source": [
    "print(len(politics_text1))\n",
    "print(len(politics_text2))"
   ]
  },
  {
   "cell_type": "code",
   "execution_count": null,
   "metadata": {},
   "outputs": [],
   "source": [
    "comparison_5m1 = compare1(list(sfp_politics_before_text1), list(politics_text2))\n",
    "comparison_6m1 = compare1(list(sfp_politics_after_text1), list(politics_text2))\n",
    "comparison_7m1 = compare1(list(td_politics_before_text1), list(politics_text2))\n",
    "comparison_8m1 = compare1(list(td_politics_after_text1), list(politics_text2))"
   ]
  },
  {
   "cell_type": "code",
   "execution_count": null,
   "metadata": {},
   "outputs": [],
   "source": [
    "print(\"Most characteristic of sfp politics before\")\n",
    "print(comparison_5m1[-10:])\n",
    "print(\"Most characteristic of /r/politics\")\n",
    "print(comparison_5m1[:10])"
   ]
  },
  {
   "cell_type": "code",
   "execution_count": null,
   "metadata": {},
   "outputs": [],
   "source": [
    "print(\"Most characteristic of sfp politics after\")\n",
    "print(comparison_6m1[-10:])\n",
    "print(\"Most characteristic of /r/politics\")\n",
    "print(comparison_6m1[:10])"
   ]
  },
  {
   "cell_type": "code",
   "execution_count": null,
   "metadata": {},
   "outputs": [],
   "source": [
    "print(\"Most characteristic of td politics before\")\n",
    "print(comparison_7m1[-10:])\n",
    "print(\"Most characteristic of /r/politics\")\n",
    "print(comparison_7m1[:10])"
   ]
  },
  {
   "cell_type": "code",
   "execution_count": null,
   "metadata": {},
   "outputs": [],
   "source": [
    "print(\"Most characteristic of td politics after\")\n",
    "print(comparison_8m1[-10:])\n",
    "print(\"Most characteristic of /r/politics\")\n",
    "print(comparison_8m1[:10])"
   ]
  },
  {
   "cell_type": "code",
   "execution_count": null,
   "metadata": {},
   "outputs": [],
   "source": []
  },
  {
   "cell_type": "code",
   "execution_count": null,
   "metadata": {},
   "outputs": [],
   "source": []
  }
 ],
 "metadata": {
  "kernelspec": {
   "display_name": "Python 3",
   "language": "python",
   "name": "python3"
  },
  "language_info": {
   "codemirror_mode": {
    "name": "ipython",
    "version": 3
   },
   "file_extension": ".py",
   "mimetype": "text/x-python",
   "name": "python",
   "nbconvert_exporter": "python",
   "pygments_lexer": "ipython3",
   "version": "3.7.3"
  }
 },
 "nbformat": 4,
 "nbformat_minor": 2
}
