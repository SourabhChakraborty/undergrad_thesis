{
 "cells": [
  {
   "cell_type": "code",
   "execution_count": 3,
   "metadata": {
    "collapsed": true
   },
   "outputs": [],
   "source": [
    "import csv"
   ]
  },
  {
   "cell_type": "code",
   "execution_count": 4,
   "metadata": {},
   "outputs": [],
   "source": [
    "with open('../sample_data/sfp_data_v2.csv') as f:\n",
    "    reader = csv.reader(f)\n",
    "    \n",
    "    first_row = True\n",
    "    \n",
    "    # author_history is a dictionary where each key is an author,\n",
    "    # and each value is a list of (subreddit, timestamp) tuples\n",
    "    # corresponding with posts made by that author\n",
    "    author_history = {}\n",
    "    \n",
    "    # first post in sandersforpresident or 2017, whichever is earlier\n",
    "    author_cutoff = {}\n",
    "\n",
    "    for row in reader:\n",
    "        if first_row:\n",
    "            first_row = False\n",
    "            continue\n",
    "        \n",
    "        author = row[0]\n",
    "        subreddit = row[1]\n",
    "        created_utc = row[3]\n",
    "        \n",
    "        if author in author_history.keys():\n",
    "            author_history[author].append((subreddit, int(created_utc)))\n",
    "        else:\n",
    "            author_history[author] = [(subreddit, created_utc)]\n",
    "            \n",
    "        if author not in author_cutoff.keys():\n",
    "            author_cutoff[author] = 1483228800\n",
    "        \n",
    "        if subreddit.lower() == 'sandersforpresident' and int(created_utc) < author_cutoff[author]:\n",
    "            author_cutoff[author] = int(created_utc)\n",
    "        "
   ]
  },
  {
   "cell_type": "markdown",
   "metadata": {},
   "source": [
    "Note that the cell above took several minutes to run"
   ]
  },
  {
   "cell_type": "code",
   "execution_count": 5,
   "metadata": {},
   "outputs": [
    {
     "name": "stdout",
     "output_type": "stream",
     "text": [
      "428\n"
     ]
    }
   ],
   "source": [
    "subreddits_by_author = {}\n",
    "total_posts = {}\n",
    "\n",
    "td_authors = []\n",
    "\n",
    "for author in list(author_history.keys()):\n",
    "    # each entry is a dictionary of subreddit:number of posts in that subreddit by the author\n",
    "    subreddits_by_author[author] = {}\n",
    "    total = 0\n",
    "    \n",
    "    for subreddit, timestamp in author_history[author]:\n",
    "        \n",
    "        if subreddit.lower() == 'the_donald':\n",
    "            if author not in td_authors:\n",
    "                td_authors.append(author)\n",
    "        \n",
    "        if int(timestamp) < author_cutoff[author]:\n",
    "            if subreddit.lower() == 'sandersforpresident':\n",
    "                print(\"Error in code\")\n",
    "                break\n",
    "                \n",
    "            total += 1\n",
    "            \n",
    "            if subreddit in subreddits_by_author[author].keys():\n",
    "                subreddits_by_author[author][subreddit] += 1\n",
    "            else:\n",
    "                subreddits_by_author[author][subreddit] = 1 \n",
    "                \n",
    "    total_posts[author] = total\n",
    "    \n",
    "print(len(td_authors))"
   ]
  },
  {
   "cell_type": "code",
   "execution_count": 6,
   "metadata": {},
   "outputs": [
    {
     "name": "stdout",
     "output_type": "stream",
     "text": [
      "Number of authors: 2000\n"
     ]
    }
   ],
   "source": [
    "print(\"Number of authors: \" + str(len(author_history)))"
   ]
  },
  {
   "cell_type": "markdown",
   "metadata": {},
   "source": [
    "Now we have, for each user, a list of subreddits that the user commented in before either 2017 or their first comment in /r/SandersForPresident, with the number of times that the user commented in each subreddit. We divide this by the number of comments that the user made overall in that time frame, and add across users to find the most common subreddits commented in as a proportion of users' comment histories. "
   ]
  },
  {
   "cell_type": "code",
   "execution_count": 7,
   "metadata": {},
   "outputs": [
    {
     "name": "stdout",
     "output_type": "stream",
     "text": [
      "136\n"
     ]
    }
   ],
   "source": [
    "subreddit_frequencies = {}\n",
    "\n",
    "i = 0\n",
    "\n",
    "for author in subreddits_by_author.keys():\n",
    "    \n",
    "    if \"The_Donald\" in subreddits_by_author[author].keys():\n",
    "        i += 1\n",
    "    \n",
    "    for subreddit in subreddits_by_author[author].keys():\n",
    "        value = subreddits_by_author[author][subreddit]/total_posts[author]\n",
    "        \n",
    "        if subreddit in subreddit_frequencies.keys():\n",
    "            subreddit_frequencies[subreddit] += value\n",
    "        else:\n",
    "            subreddit_frequencies[subreddit] = value\n",
    "\n",
    "print(i) #users who visited the_donald before sandersforpresident"
   ]
  },
  {
   "cell_type": "code",
   "execution_count": 10,
   "metadata": {
    "scrolled": true
   },
   "outputs": [
    {
     "name": "stdout",
     "output_type": "stream",
     "text": [
      "AskReddit : 0.0957752271909162\n",
      "funny : 0.028738128601898325\n",
      "pics : 0.026104196583328226\n",
      "politics : 0.02292684737611419\n",
      "AdviceAnimals : 0.019351714508610455\n",
      "leagueoflegends : 0.015672281336161123\n",
      "videos : 0.015455815741163796\n",
      "worldnews : 0.015337680327294463\n",
      "WTF : 0.014683839552036218\n",
      "gaming : 0.013924764958541481\n",
      "todayilearned : 0.012778553044932821\n",
      "nfl : 0.012318691088611847\n",
      "news : 0.012260066924760069\n",
      "atheism : 0.010745918549136866\n",
      "nba : 0.010318362382138515\n",
      "IAmA : 0.008698297779927665\n",
      "trees : 0.008509927590949923\n",
      "movies : 0.008502790256338488\n",
      "CFB : 0.007415439924369099\n",
      "pcmasterrace : 0.0062790846234065415\n",
      "technology : 0.006116915237363124\n",
      "aww : 0.005919746661607601\n",
      "hiphopheads : 0.005904510130503707\n",
      "gifs : 0.005122294043150853\n",
      "soccer : 0.005084122746928048\n",
      "fantasyfootball : 0.004996582048283071\n",
      "hockey : 0.004380964252249443\n",
      "Music : 0.0041856476609150334\n",
      "SquaredCircle : 0.004105629149763819\n",
      "DestinyTheGame : 0.003972506562337127\n",
      "DotA2 : 0.0038364280141484075\n",
      "The_Donald : 0.0037248922170543724\n",
      "explainlikeimfive : 0.0036551296650732027\n",
      "Android : 0.003584141121608883\n",
      "GlobalOffensive : 0.003530324485008361\n",
      "hearthstone : 0.0028125622992513535\n",
      "science : 0.0027567626303404646\n",
      "starcraft : 0.0026877370139705764\n",
      "Games : 0.002659959709348604\n",
      "Fitness : 0.0026586065897537354\n",
      "apple : 0.0026333674351438977\n",
      "Minecraft : 0.0026237292406497224\n",
      "wow : 0.0026149378284316257\n",
      "relationships : 0.002593845566173548\n",
      "Showerthoughts : 0.002572771080905701\n",
      "TwoXChromosomes : 0.0025359460705676475\n",
      "mildlyinteresting : 0.0025253639661764965\n",
      "gameofthrones : 0.002450933314391271\n",
      "electronic_cigarette : 0.0024308049414094113\n",
      "reddit.com : 0.0024213295234699044\n"
     ]
    }
   ],
   "source": [
    "key_func = lambda x : subreddit_frequencies[x]\n",
    "top_subreddits = sorted(list(subreddit_frequencies.keys()), key=key_func, reverse=True)\n",
    "\n",
    "for subreddit in top_subreddits[:50]:\n",
    "    print(subreddit + \" : \" + str(subreddit_frequencies[subreddit]/float(1939)))"
   ]
  },
  {
   "cell_type": "markdown",
   "metadata": {
    "collapsed": true
   },
   "source": [
    "Find:\n",
    "Proportion of these users who participated in /r/the_donald"
   ]
  },
  {
   "cell_type": "markdown",
   "metadata": {},
   "source": [
    "### The_Donald"
   ]
  },
  {
   "cell_type": "code",
   "execution_count": 11,
   "metadata": {},
   "outputs": [],
   "source": [
    "with open('../sample_data/td_data_v2.csv') as f:\n",
    "    reader = csv.reader(f)\n",
    "    \n",
    "    first_row = True\n",
    "    \n",
    "    # author_history is a dictionary where each key is an author,\n",
    "    # and each value is a list of (subreddit, timestamp) tuples\n",
    "    # corresponding with posts made by that author\n",
    "    td_author_history = {}\n",
    "    \n",
    "    # first post in the_donald or 2017, whichever is earlier\n",
    "    td_author_cutoff = {}\n",
    "\n",
    "    for row in reader:\n",
    "        if first_row:\n",
    "            first_row = False\n",
    "            continue\n",
    "        \n",
    "        author = row[0]\n",
    "        subreddit = row[1]\n",
    "        created_utc = row[3]\n",
    "        \n",
    "        if author in td_author_history.keys():\n",
    "            td_author_history[author].append((subreddit, int(created_utc)))\n",
    "        else:\n",
    "            td_author_history[author] = [(subreddit, created_utc)]\n",
    "            \n",
    "        if author not in td_author_cutoff.keys():\n",
    "            td_author_cutoff[author] = 1483228800\n",
    "        \n",
    "        if subreddit.lower() == 'the_donald' and int(created_utc) < td_author_cutoff[author]:\n",
    "            td_author_cutoff[author] = int(created_utc)\n",
    "        "
   ]
  },
  {
   "cell_type": "code",
   "execution_count": 12,
   "metadata": {},
   "outputs": [
    {
     "name": "stdout",
     "output_type": "stream",
     "text": [
      "2000\n"
     ]
    }
   ],
   "source": [
    "td_subreddits_by_author = {}\n",
    "td_total_posts = {}\n",
    "\n",
    "sfp_authors = []\n",
    "\n",
    "for author in list(td_author_history.keys()):\n",
    "    # each entry is a dictionary of subreddit:number of posts in that subreddit by the author\n",
    "    td_subreddits_by_author[author] = {}\n",
    "    total = 0\n",
    "    \n",
    "    for subreddit, timestamp in td_author_history[author]:\n",
    "        \n",
    "        if subreddit.lower() == 'sandersforpresident':\n",
    "            if author not in sfp_authors:\n",
    "                sfp_authors.append(author)\n",
    "        \n",
    "        if int(timestamp) < td_author_cutoff[author]:\n",
    "            if subreddit.lower() == 'the_donald':\n",
    "                print(\"Error in code\")\n",
    "                break\n",
    "                \n",
    "            total += 1\n",
    "            \n",
    "            if subreddit in td_subreddits_by_author[author].keys():\n",
    "                td_subreddits_by_author[author][subreddit] += 1\n",
    "            else:\n",
    "                td_subreddits_by_author[author][subreddit] = 1 \n",
    "                \n",
    "    td_total_posts[author] = total\n",
    "    \n",
    "print(len(sfp_authors))"
   ]
  },
  {
   "cell_type": "code",
   "execution_count": 13,
   "metadata": {},
   "outputs": [
    {
     "name": "stdout",
     "output_type": "stream",
     "text": [
      "Number of authors: 2000\n"
     ]
    }
   ],
   "source": [
    "print(\"Number of authors: \" + str(len(td_author_history)))"
   ]
  },
  {
   "cell_type": "code",
   "execution_count": 14,
   "metadata": {},
   "outputs": [
    {
     "name": "stdout",
     "output_type": "stream",
     "text": [
      "1855\n"
     ]
    }
   ],
   "source": [
    "td_subreddit_frequencies = {}\n",
    "\n",
    "i = 0\n",
    "\n",
    "for author in td_subreddits_by_author.keys():\n",
    "    \n",
    "    if \"SandersForPresident\" in td_subreddits_by_author[author].keys():\n",
    "        i += 1\n",
    "    \n",
    "    for subreddit in td_subreddits_by_author[author].keys():\n",
    "        value = td_subreddits_by_author[author][subreddit]/td_total_posts[author]\n",
    "        \n",
    "        if subreddit in td_subreddit_frequencies.keys():\n",
    "            td_subreddit_frequencies[subreddit] += value\n",
    "        else:\n",
    "            td_subreddit_frequencies[subreddit] = value\n",
    "\n",
    "print(i) #users who visited sandersforpresident before the_donald"
   ]
  },
  {
   "cell_type": "code",
   "execution_count": 15,
   "metadata": {},
   "outputs": [
    {
     "name": "stdout",
     "output_type": "stream",
     "text": [
      "AskReddit : 0.07703890840461847\n",
      "politics : 0.047665161169869345\n",
      "funny : 0.03125208753439181\n",
      "pics : 0.02777395671642988\n",
      "SandersForPresident : 0.026824236358362764\n",
      "AdviceAnimals : 0.024324978902113405\n",
      "worldnews : 0.020423291544723946\n",
      "leagueoflegends : 0.01993320840922085\n",
      "videos : 0.017771599249588224\n",
      "news : 0.017570110528052036\n",
      "todayilearned : 0.017360948483000637\n",
      "nfl : 0.01562901589912258\n",
      "WTF : 0.015409297173245849\n",
      "gaming : 0.013975149341241166\n",
      "nba : 0.00976250057198813\n",
      "atheism : 0.009301631826811515\n",
      "movies : 0.008905210716724532\n",
      "trees : 0.008236458470277234\n",
      "IAmA : 0.008176677551016616\n",
      "technology : 0.007441248207397762\n",
      "CFB : 0.007407892967977869\n",
      "soccer : 0.007293390990143176\n",
      "gifs : 0.006779866963704432\n",
      "pcmasterrace : 0.006157753212463762\n",
      "DotA2 : 0.00568490650418135\n",
      "hiphopheads : 0.004914745552703393\n",
      "fantasyfootball : 0.004823703689277523\n",
      "SquaredCircle : 0.004249960149582125\n",
      "explainlikeimfive : 0.003983274617128588\n",
      "aww : 0.003914202555188926\n",
      "MMA : 0.0037204622488850765\n",
      "starcraft : 0.003608080775883579\n",
      "GlobalOffensive : 0.003560911910025198\n",
      "hockey : 0.0035603226317499053\n",
      "conspiracy : 0.0033908230802322057\n",
      "Music : 0.003354864709126884\n",
      "hearthstone : 0.0033081352606429406\n",
      "Android : 0.0033074630683654353\n",
      "Showerthoughts : 0.0032888330488585814\n",
      "science : 0.0030978191244678812\n",
      "PoliticalDiscussion : 0.003077253865546445\n",
      "TumblrInAction : 0.0030057453554498837\n",
      "Games : 0.00295848149662873\n",
      "asoiaf : 0.0028790563384196283\n",
      "apple : 0.0028282941468780244\n",
      "Fitness : 0.0027886567044883097\n",
      "baseball : 0.002721465369159082\n",
      "reddit.com : 0.0025284076315963203\n",
      "mildlyinteresting : 0.00249830868905954\n",
      "DestinyTheGame : 0.002490251128846976\n"
     ]
    }
   ],
   "source": [
    "td_key_func = lambda x : td_subreddit_frequencies[x]\n",
    "td_top_subreddits = sorted(list(td_subreddit_frequencies.keys()), key=td_key_func, reverse=True)\n",
    "\n",
    "for subreddit in td_top_subreddits[:50]:\n",
    "    print(subreddit + \" : \" + str(td_subreddit_frequencies[subreddit]/float(1958)))"
   ]
  },
  {
   "cell_type": "markdown",
   "metadata": {},
   "source": [
    "### Neither"
   ]
  },
  {
   "cell_type": "code",
   "execution_count": 16,
   "metadata": {
    "collapsed": true
   },
   "outputs": [],
   "source": [
    "with open('../sample_data/neither_data.csv') as f:\n",
    "    reader = csv.reader(f)\n",
    "    \n",
    "    first_row = True\n",
    "    \n",
    "    # author_history is a dictionary where each key is an author,\n",
    "    # and each value is a list of (subreddit, timestamp) tuples\n",
    "    # corresponding with posts made by that author\n",
    "    neither_author_history = {}\n",
    "    \n",
    "    # first post in the_donald or 2017, whichever is earlier\n",
    "    neither_author_cutoff = {}\n",
    "\n",
    "    for row in reader:\n",
    "        if first_row:\n",
    "            first_row = False\n",
    "            continue\n",
    "        \n",
    "        author = row[0]\n",
    "        subreddit = row[1]\n",
    "        created_utc = row[3]\n",
    "        \n",
    "        if author in neither_author_history.keys():\n",
    "            neither_author_history[author].append((subreddit, int(created_utc)))\n",
    "        else:\n",
    "            neither_author_history[author] = [(subreddit, created_utc)]\n",
    "            \n",
    "        if author not in neither_author_cutoff.keys():\n",
    "            neither_author_cutoff[author] = 1483228800\n",
    "        \n",
    "        if subreddit.lower() == 'the_donald' and int(created_utc) < neither_author_cutoff[author]:\n",
    "            neither_author_cutoff[author] = int(created_utc)\n",
    "        "
   ]
  },
  {
   "cell_type": "code",
   "execution_count": 17,
   "metadata": {
    "collapsed": true
   },
   "outputs": [],
   "source": [
    "neither_subreddits_by_author = {}\n",
    "neither_total_posts = {}\n",
    "\n",
    "for author in list(neither_author_history.keys()):\n",
    "    # each entry is a dictionary of subreddit:number of posts in that subreddit by the author\n",
    "    neither_subreddits_by_author[author] = {}\n",
    "    total = 0\n",
    "    \n",
    "    for subreddit, timestamp in neither_author_history[author]:\n",
    "        \n",
    "        if int(timestamp) < neither_author_cutoff[author]:                \n",
    "            total += 1\n",
    "            \n",
    "            if subreddit in neither_subreddits_by_author[author].keys():\n",
    "                neither_subreddits_by_author[author][subreddit] += 1\n",
    "            else:\n",
    "                neither_subreddits_by_author[author][subreddit] = 1 \n",
    "                \n",
    "    neither_total_posts[author] = total"
   ]
  },
  {
   "cell_type": "code",
   "execution_count": 18,
   "metadata": {},
   "outputs": [
    {
     "name": "stdout",
     "output_type": "stream",
     "text": [
      "Number of authors: 2000\n"
     ]
    }
   ],
   "source": [
    "print(\"Number of authors: \" + str(len(neither_author_history)))"
   ]
  },
  {
   "cell_type": "code",
   "execution_count": 19,
   "metadata": {
    "collapsed": true
   },
   "outputs": [],
   "source": [
    "neither_subreddit_frequencies = {}\n",
    "\n",
    "for author in neither_subreddits_by_author.keys():\n",
    "    \n",
    "    for subreddit in neither_subreddits_by_author[author].keys():\n",
    "        value = neither_subreddits_by_author[author][subreddit]/neither_total_posts[author]\n",
    "        \n",
    "        if subreddit in neither_subreddit_frequencies.keys():\n",
    "            neither_subreddit_frequencies[subreddit] += value\n",
    "        else:\n",
    "            neither_subreddit_frequencies[subreddit] = value"
   ]
  },
  {
   "cell_type": "code",
   "execution_count": 20,
   "metadata": {},
   "outputs": [
    {
     "name": "stdout",
     "output_type": "stream",
     "text": [
      "AskReddit : 0.11239897373183867\n",
      "reddit.com : 0.03658610009268292\n",
      "pics : 0.02742075433546608\n",
      "funny : 0.02676133411902201\n",
      "IAmA : 0.026109478482098696\n",
      "leagueoflegends : 0.023640188055025175\n",
      "gaming : 0.018553403784537098\n",
      "WTF : 0.01675950042026938\n",
      "AdviceAnimals : 0.014260821676906978\n",
      "videos : 0.01280865819915408\n",
      "friendsafari : 0.01101069136287591\n",
      "gonewild : 0.010971227928296612\n",
      "politics : 0.010600031945163941\n",
      "trees : 0.00991230608413954\n",
      "aww : 0.008741810324765842\n",
      "todayilearned : 0.007754090259992737\n",
      "relationships : 0.006993283637338123\n",
      "Music : 0.006040604828358907\n",
      "worldnews : 0.006029843611721853\n",
      "atheism : 0.005864036346383393\n",
      "news : 0.00522696279312516\n",
      "movies : 0.004900768900963045\n",
      "sex : 0.004840276749762016\n",
      "relationship_advice : 0.0048245774868237055\n",
      "technology : 0.004649450002662895\n",
      "NoFap : 0.004461638909076291\n",
      "pcmasterrace : 0.0036263020859202476\n",
      "travel : 0.0036024860225215708\n",
      "TwoXChromosomes : 0.003592081419600249\n",
      "DotA2 : 0.0035016351052965266\n",
      "science : 0.0033601639257782394\n",
      "electronic_cigarette : 0.003256939250150636\n",
      "Minecraft : 0.003240543270577535\n",
      "starcraft : 0.0031137590807710446\n",
      "skyrim : 0.003097794702556613\n",
      "gifs : 0.0030968198183738906\n",
      "fffffffuuuuuuuuuuuu : 0.0030212727357986804\n",
      "hiphopheads : 0.0028877527860904284\n",
      "pokemon : 0.0028526866328320542\n",
      "mindcrack : 0.0027489752872874784\n",
      "buildapc : 0.0027094225981006896\n",
      "dogecoin : 0.0025430529864812895\n",
      "amiugly : 0.002487708391751001\n",
      "Fitness : 0.0024858399947837316\n",
      "GetMotivated : 0.002405217307704519\n",
      "podemos : 0.002353826628493846\n",
      "hearthstone : 0.0023317383196647125\n",
      "fantasyfootball : 0.0023243252804506964\n",
      "GlobalOffensive : 0.00228454030060537\n",
      "MMA : 0.0022389648704561945\n"
     ]
    }
   ],
   "source": [
    "neither_key_func = lambda x : neither_subreddit_frequencies[x]\n",
    "neither_top_subreddits = sorted(list(neither_subreddit_frequencies.keys()), key=neither_key_func, reverse=True)\n",
    "\n",
    "for subreddit in neither_top_subreddits[:50]:\n",
    "    print(subreddit + \" : \" + str(neither_subreddit_frequencies[subreddit]/float(1993)))"
   ]
  },
  {
   "cell_type": "markdown",
   "metadata": {},
   "source": [
    "### Political, populist, neither"
   ]
  },
  {
   "cell_type": "code",
   "execution_count": 21,
   "metadata": {
    "collapsed": true
   },
   "outputs": [],
   "source": [
    "with open('../political_subreddit_coding/political_coding.csv') as f:\n",
    "    reader = csv.reader(f)\n",
    "    first_row = True\n",
    "    left = []\n",
    "    centrist = []\n",
    "    right = []\n",
    "    populist = []\n",
    "    \n",
    "    for row in reader:\n",
    "        if first_row:\n",
    "            first_row = False\n",
    "            continue\n",
    "        \n",
    "        name = row[0]\n",
    "        partisan_var = row[5]\n",
    "        pop_var = row[6]\n",
    "        \n",
    "        if partisan_var == 'Left':\n",
    "            left.append(name)\n",
    "        elif partisan_var == 'Centrist':\n",
    "            centrist.append(name)\n",
    "        elif partisan_var == 'Right':\n",
    "            right.append(name)\n",
    "        \n",
    "        if pop_var == 'Yes':\n",
    "            populist.append(name)"
   ]
  },
  {
   "cell_type": "code",
   "execution_count": 22,
   "metadata": {
    "collapsed": true
   },
   "outputs": [],
   "source": [
    "def populist_partisan_stats(freq, total_users):\n",
    "    \n",
    "    total_left = 0\n",
    "    pop_left = 0\n",
    "    total_centrist = 0\n",
    "    pop_centrist = 0\n",
    "    total_right = 0\n",
    "    pop_right = 0\n",
    "    total_pop = 0\n",
    "    \n",
    "    for subreddit in freq.keys():\n",
    "        value = freq[subreddit]\n",
    "        \n",
    "        if subreddit in left:\n",
    "            total_left += value\n",
    "            \n",
    "            if subreddit in populist:\n",
    "                pop_left += value\n",
    "                total_pop += value\n",
    "        elif subreddit in centrist:\n",
    "            total_centrist += value\n",
    "            \n",
    "            if subreddit in populist:\n",
    "                pop_centrist += value\n",
    "                total_pop += value\n",
    "        elif subreddit in right:\n",
    "            total_right += value\n",
    "            \n",
    "            if subreddit in populist:\n",
    "                pop_right += value\n",
    "                total_pop += value\n",
    "        else:\n",
    "            if subreddit in populist:\n",
    "                total_pop += value\n",
    "                \n",
    "    print(\"Average proportions of posts in these kinds of subreddits: \")\n",
    "    print(\"Left: \" + str(total_left/float(total_users)))\n",
    "    print(\"Centrist: \" + str(total_centrist/float(total_users)))\n",
    "    print(\"Right: \" + str(total_right/float(total_users)))\n",
    "    \n",
    "    print(\"Populist Left: \" + str(pop_left/float(total_users)))\n",
    "    print(\"Populist Centrist: \" + str(pop_centrist/float(total_users)))\n",
    "    print(\"Populist Right: \" + str(pop_right/float(total_users)))\n",
    "    print(\"Populist: \" + str(total_pop/float(total_users)))\n"
   ]
  },
  {
   "cell_type": "code",
   "execution_count": 23,
   "metadata": {},
   "outputs": [
    {
     "name": "stdout",
     "output_type": "stream",
     "text": [
      "SandersForPresident: \n",
      "Average proportions of posts in these kinds of subreddits: \n",
      "Left: 0.02816913316952754\n",
      "Centrist: 4.9200413230992295e-06\n",
      "Right: 0.009870156869974193\n",
      "Populist Left: 0.0034661963500462467\n",
      "Populist Centrist: 0.0\n",
      "Populist Right: 0.00839728295805492\n",
      "Populist: 0.01186347930810116\n",
      "\n",
      "The_Donald: \n",
      "Average proportions of posts in these kinds of subreddits: \n",
      "Left: 0.07931273224128532\n",
      "Centrist: 9.075367392283944e-06\n",
      "Right: 0.009353442775103481\n",
      "Populist Left: 0.02956733490291797\n",
      "Populist Centrist: 0.0\n",
      "Populist Right: 0.007619400833126734\n",
      "Populist: 0.03719181077576195\n",
      "\n",
      "Neither: \n",
      "Average proportions of posts in these kinds of subreddits: \n",
      "Left: 0.011447617981216492\n",
      "Centrist: 0.0\n",
      "Right: 0.0018974353470275643\n",
      "Populist Left: 0.0007022857905091611\n",
      "Populist Centrist: 0.0\n",
      "Populist Right: 0.0018164118098071824\n",
      "Populist: 0.002518697600316344\n"
     ]
    }
   ],
   "source": [
    "print(\"SandersForPresident: \")\n",
    "populist_partisan_stats(subreddit_frequencies, 1939)\n",
    "\n",
    "print(\"\\nThe_Donald: \")\n",
    "populist_partisan_stats(td_subreddit_frequencies, 1958)\n",
    "\n",
    "print(\"\\nNeither: \")\n",
    "populist_partisan_stats(neither_subreddit_frequencies, 1993)"
   ]
  },
  {
   "cell_type": "code",
   "execution_count": null,
   "metadata": {
    "collapsed": true
   },
   "outputs": [],
   "source": []
  }
 ],
 "metadata": {
  "kernelspec": {
   "display_name": "Python 3",
   "language": "python",
   "name": "python3"
  },
  "language_info": {
   "codemirror_mode": {
    "name": "ipython",
    "version": 3
   },
   "file_extension": ".py",
   "mimetype": "text/x-python",
   "name": "python",
   "nbconvert_exporter": "python",
   "pygments_lexer": "ipython3",
   "version": "3.7.3"
  }
 },
 "nbformat": 4,
 "nbformat_minor": 2
}
