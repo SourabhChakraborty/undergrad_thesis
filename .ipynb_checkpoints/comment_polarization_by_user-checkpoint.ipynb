{
 "cells": [
  {
   "cell_type": "code",
   "execution_count": 1,
   "metadata": {},
   "outputs": [],
   "source": [
    "import json\n",
    "import pickle\n",
    "\n",
    "from scipy.sparse import coo_matrix, csr_matrix, lil_matrix, csc_matrix, diags, vstack\n",
    "from scipy.stats import chi2_contingency, spearmanr, norm\n",
    "\n",
    "from matplotlib import pyplot as plt\n",
    "from IPython.display import HTML, display\n",
    "import pandas as pd\n",
    "import numpy as np\n",
    "import random\n",
    "from datetime import date\n",
    "from matplotlib.dates import DateFormatter"
   ]
  },
  {
   "cell_type": "code",
   "execution_count": 16,
   "metadata": {},
   "outputs": [],
   "source": [
    "with open(\"stored_variables/politics_tokens_text_term_document.pickle\", 'rb') as f:\n",
    "    comment_tf = pickle.load(f)"
   ]
  },
  {
   "cell_type": "code",
   "execution_count": 3,
   "metadata": {},
   "outputs": [],
   "source": [
    "with open(\"stored_variables/auth_sample_r_politics_authors.json\", 'r') as f:\n",
    "    comment_auths = json.load(f)"
   ]
  },
  {
   "cell_type": "code",
   "execution_count": 4,
   "metadata": {},
   "outputs": [],
   "source": [
    "with open(\"stored_variables/user_subreddit_tf.pickle\", \"rb\") as f:\n",
    "    subreddit_tf = pickle.load(f)"
   ]
  },
  {
   "cell_type": "code",
   "execution_count": 5,
   "metadata": {},
   "outputs": [],
   "source": [
    "with open(\"stored_variables/user_subreddit_tf_auths.pickle\", \"rb\") as f:\n",
    "    author_names = pickle.load(f)"
   ]
  },
  {
   "cell_type": "code",
   "execution_count": 6,
   "metadata": {},
   "outputs": [],
   "source": [
    "with open(\"stored_variables/user_subreddit_tf_subreddit_names.pickle\", \"rb\") as f:\n",
    "    subreddit_reverse_dict = pickle.load(f)"
   ]
  },
  {
   "cell_type": "code",
   "execution_count": 7,
   "metadata": {},
   "outputs": [],
   "source": [
    "with open(\"stored_variables/politics_tfidf_months.pickle\", 'rb') as f:\n",
    "    month_nums = pickle.load(f)"
   ]
  },
  {
   "cell_type": "markdown",
   "metadata": {},
   "source": [
    "## Consolidate comments by user and month"
   ]
  },
  {
   "cell_type": "code",
   "execution_count": 10,
   "metadata": {},
   "outputs": [],
   "source": [
    "num_months = 17"
   ]
  },
  {
   "cell_type": "code",
   "execution_count": 8,
   "metadata": {},
   "outputs": [],
   "source": [
    "author_reverse_dict = {author_names[i]:i for i in range(len(author_names))}"
   ]
  },
  {
   "cell_type": "code",
   "execution_count": 9,
   "metadata": {},
   "outputs": [],
   "source": [
    "author_index_mapping = [author_reverse_dict[auth] for auth in comment_auths]"
   ]
  },
  {
   "cell_type": "code",
   "execution_count": 11,
   "metadata": {},
   "outputs": [],
   "source": [
    "author_index_lists = [[[] for i in comment_auths] for j in range(num_months)]"
   ]
  },
  {
   "cell_type": "code",
   "execution_count": 12,
   "metadata": {},
   "outputs": [],
   "source": [
    "for i in range(len(author_index_mapping)):\n",
    "    author_index_lists[month_nums[i]][author_index_mapping[i]].append(i)"
   ]
  },
  {
   "cell_type": "code",
   "execution_count": 13,
   "metadata": {},
   "outputs": [
    {
     "data": {
      "text/plain": [
       "[[], [], [545805, 545815, 546508, 546570], [], [], [], [], [], [], []]"
      ]
     },
     "execution_count": 13,
     "metadata": {},
     "output_type": "execute_result"
    }
   ],
   "source": [
    "author_index_lists[0][:10]"
   ]
  },
  {
   "cell_type": "code",
   "execution_count": 15,
   "metadata": {},
   "outputs": [],
   "source": [
    "user_tfs = [lil_matrix((len(author_names), comment_tf.shape[1])) for i in range(num_months)]"
   ]
  },
  {
   "cell_type": "code",
   "execution_count": 17,
   "metadata": {},
   "outputs": [],
   "source": [
    "for i in range(num_months):\n",
    "    for j in range(len(author_names)):\n",
    "        user_tfs[i][j] = comment_tf[author_index_lists[i][j]].sum(axis=0)"
   ]
  },
  {
   "cell_type": "code",
   "execution_count": 18,
   "metadata": {},
   "outputs": [],
   "source": [
    "user_tfs = [csr_matrix(mat) for mat in user_tfs]"
   ]
  },
  {
   "cell_type": "markdown",
   "metadata": {},
   "source": [
    "## Find Sanders and Trump users"
   ]
  },
  {
   "cell_type": "code",
   "execution_count": 19,
   "metadata": {},
   "outputs": [],
   "source": [
    "author_reverse_dict = {author_names[i]:i for i in range(len(author_names))}"
   ]
  },
  {
   "cell_type": "code",
   "execution_count": 20,
   "metadata": {},
   "outputs": [],
   "source": [
    "num_sanders = {k:(subreddit_tf[author_reverse_dict[k], subreddit_reverse_dict['sandersforpresident']]) for k in author_names}\n",
    "num_trump = {k:(subreddit_tf[author_reverse_dict[k], subreddit_reverse_dict['the_donald']]) for k in author_names}\n",
    "num_clinton = {k:(subreddit_tf[author_reverse_dict[k], subreddit_reverse_dict['hillaryclinton']]) for k in author_names}"
   ]
  },
  {
   "cell_type": "code",
   "execution_count": 21,
   "metadata": {},
   "outputs": [],
   "source": [
    "comment_threshold = 5"
   ]
  },
  {
   "cell_type": "code",
   "execution_count": 22,
   "metadata": {},
   "outputs": [],
   "source": [
    "sanders_user_indices = [i for i in range(subreddit_tf.shape[0]) if num_sanders[author_names[i]] >= comment_threshold\n",
    "                        and num_trump[author_names[i]] == 0 and num_clinton[author_names[i]] == 0]\n",
    "trump_user_indices = [i for i in range(subreddit_tf.shape[0]) if num_trump[author_names[i]] >= comment_threshold\n",
    "                     and num_sanders[author_names[i]] == 0 and num_clinton[author_names[i]] == 0]"
   ]
  },
  {
   "cell_type": "code",
   "execution_count": 24,
   "metadata": {},
   "outputs": [],
   "source": [
    "sanders_tf_by_month = [mat[sanders_user_indices,:] for mat in user_tfs]\n",
    "trump_tf_by_month = [mat[trump_user_indices,:] for mat in user_tfs]"
   ]
  },
  {
   "cell_type": "code",
   "execution_count": 25,
   "metadata": {},
   "outputs": [
    {
     "data": {
      "text/plain": [
       "<1321x26903 sparse matrix of type '<class 'numpy.float64'>'\n",
       "\twith 24726 stored elements in Compressed Sparse Row format>"
      ]
     },
     "execution_count": 25,
     "metadata": {},
     "output_type": "execute_result"
    }
   ],
   "source": [
    "sanders_tf_by_month[0]"
   ]
  },
  {
   "cell_type": "markdown",
   "metadata": {},
   "source": [
    "## Calculate polarization by user"
   ]
  },
  {
   "cell_type": "code",
   "execution_count": 29,
   "metadata": {},
   "outputs": [],
   "source": [
    "# from https://github.com/ddemszky/framing-twitter/blob/master/3_polarization_measures/calculate_polarization_simple.py\n",
    "def get_party_q(party_counts, exclude_user_id = -1):\n",
    "    user_sum = party_counts.sum(axis=0)\n",
    "    if exclude_user_id > -1:\n",
    "        user_sum -= party_counts[exclude_user_id, :]\n",
    "    total_sum = user_sum.sum()\n",
    "    return user_sum / total_sum\n",
    "\n",
    "def get_rho(dem_q, rep_q):\n",
    "    denom = dem_q + rep_q\n",
    "    denom[denom == 0] = 1\n",
    "    return (rep_q / (denom)).transpose()\n",
    "\n",
    "def calculate_polarization_user(dem_counts, rep_counts):\n",
    "    dem_no = dem_counts.shape[0]\n",
    "    rep_no = rep_counts.shape[0]    \n",
    "    \n",
    "    dem_user_total = dem_counts.sum(axis=1)\n",
    "    rep_user_total = rep_counts.sum(axis=1)\n",
    "    \n",
    "    # equivalent to dem_counts / dem_user_total\n",
    "    dem_user_distr = (diags(1 / dem_user_total.A.ravel())).dot(dem_counts)  # get row-wise distributions\n",
    "    rep_user_distr = (diags(1 / rep_user_total.A.ravel())).dot(rep_counts)\n",
    "    assert (set(dem_user_total.nonzero()[0]) == set(range(dem_no)))  # make sure there are no zero rows\n",
    "    assert (set(rep_user_total.nonzero()[0]) == set(range(rep_no)))  # make sure there are no zero rows\n",
    "\n",
    "    dem_q = get_party_q(dem_counts)\n",
    "    rep_q = get_party_q(rep_counts)\n",
    "\n",
    "    # apply measures via leave-out\n",
    "    dem_addup = []\n",
    "    rep_addup = []\n",
    "    \n",
    "    for i in range(dem_no):\n",
    "        dem_leaveout_q = get_party_q(dem_counts, i)\n",
    "        token_scores_dem = 1. - get_rho(dem_leaveout_q, rep_q)\n",
    "        dem_addup.append(dem_user_distr[i, :].dot(token_scores_dem)[0, 0])\n",
    "    \n",
    "    for i in range(rep_no):\n",
    "        rep_leaveout_q = get_party_q(rep_counts, i)\n",
    "        token_scores_rep = get_rho(dem_q, rep_leaveout_q)\n",
    "        rep_addup.append(rep_user_distr[i, :].dot(token_scores_rep)[0, 0])\n",
    "    return dem_addup, rep_addup"
   ]
  },
  {
   "cell_type": "code",
   "execution_count": 30,
   "metadata": {},
   "outputs": [],
   "source": [
    "pi_vals_sanders_user = []\n",
    "pi_vals_trump_user = []"
   ]
  },
  {
   "cell_type": "code",
   "execution_count": 34,
   "metadata": {},
   "outputs": [
    {
     "name": "stdout",
     "output_type": "stream",
     "text": [
      "0\n",
      "1321\n",
      "532\n",
      "1\n",
      "1321\n",
      "532\n",
      "2\n",
      "1321\n",
      "532\n",
      "3\n",
      "1321\n",
      "532\n",
      "4\n",
      "1321\n",
      "532\n",
      "5\n",
      "1321\n",
      "532\n",
      "6\n",
      "1321\n",
      "532\n",
      "7\n",
      "1321\n",
      "532\n",
      "8\n",
      "1321\n",
      "532\n",
      "9\n",
      "1321\n",
      "532\n",
      "10\n",
      "1321\n",
      "532\n",
      "11\n",
      "1321\n",
      "532\n",
      "12\n",
      "1321\n",
      "532\n",
      "13\n",
      "1321\n",
      "532\n",
      "14\n",
      "1321\n",
      "532\n",
      "15\n",
      "1321\n",
      "532\n",
      "16\n",
      "1321\n",
      "532\n"
     ]
    }
   ],
   "source": [
    "for i in range(17):\n",
    "    print(i)\n",
    "#     sanders_indices_curr = sanders_tf_by_month[i].sum(axis=1).nonzero()[0]\n",
    "#     trump_indices_curr = trump_tf_by_month[i].sum(axis=1).nonzero()[0]\n",
    "#     sanders_mat = sanders_tf_by_month[i][sanders_indices_curr,:]\n",
    "#     trump_mat = trump_tf_by_month[i][trump_indices_curr,:]\n",
    "    \n",
    "#     pi_vals_curr_sanders, pi_vals_curr_trump = calculate_polarization_user(sanders_mat, trump_mat)\n",
    "    \n",
    "    sanders_pi_curr = np.zeros(sanders_tf_by_month[i].shape[0])\n",
    "    trump_pi_curr = np.zeros(trump_tf_by_month[i].shape[0])\n",
    "    \n",
    "#     for j in range(len(sanders_indices_curr)):\n",
    "#         sanders_pi_curr[sanders_indices_curr[j]] = pi_vals_curr_sanders[j]\n",
    "        \n",
    "#     for j in range(len(trump_indices_curr)):\n",
    "#         trump_pi_curr[trump_indices_curr[j]] = pi_vals_curr_trump[j]\n",
    "        \n",
    "    print(len(sanders_pi_curr))\n",
    "    print(len(trump_pi_curr))\n",
    "#     pi_vals_sanders_user.append(sanders_pi_curr)\n",
    "#     pi_vals_trump_user.append(trump_pi_curr)"
   ]
  },
  {
   "cell_type": "code",
   "execution_count": 33,
   "metadata": {},
   "outputs": [
    {
     "name": "stdout",
     "output_type": "stream",
     "text": [
      "0\n",
      "174\n",
      "41\n",
      "\n",
      "1\n",
      "152\n",
      "31\n",
      "\n",
      "2\n",
      "201\n",
      "38\n",
      "\n",
      "3\n",
      "227\n",
      "29\n",
      "\n",
      "4\n",
      "231\n",
      "36\n",
      "\n",
      "5\n",
      "241\n",
      "42\n",
      "\n",
      "6\n",
      "278\n",
      "43\n",
      "\n",
      "7\n",
      "334\n",
      "59\n",
      "\n",
      "8\n",
      "314\n",
      "48\n",
      "\n",
      "9\n",
      "401\n",
      "62\n",
      "\n",
      "10\n",
      "365\n",
      "69\n",
      "\n",
      "11\n",
      "378\n",
      "78\n",
      "\n",
      "12\n",
      "491\n",
      "94\n",
      "\n",
      "13\n",
      "647\n",
      "182\n",
      "\n",
      "14\n",
      "652\n",
      "258\n",
      "\n",
      "15\n",
      "598\n",
      "228\n",
      "\n",
      "16\n",
      "486\n",
      "206\n",
      "\n"
     ]
    }
   ],
   "source": [
    "for i in range(17):\n",
    "    print(i)\n",
    "    sanders_indices_curr = sanders_tf_by_month[i].sum(axis=1).nonzero()[0]\n",
    "    trump_indices_curr = trump_tf_by_month[i].sum(axis=1).nonzero()[0]\n",
    "    \n",
    "    print(len(sanders_indices_curr))\n",
    "    print(len(trump_indices_curr))\n",
    "    print()"
   ]
  },
  {
   "cell_type": "code",
   "execution_count": 52,
   "metadata": {},
   "outputs": [
    {
     "name": "stdout",
     "output_type": "stream",
     "text": [
      "152\n",
      "652\n",
      "29\n",
      "258\n"
     ]
    }
   ],
   "source": [
    "print(min([len(sanders_tf_by_month[i].sum(axis=1).nonzero()[0]) for i in range(17)]))\n",
    "print(max([len(sanders_tf_by_month[i].sum(axis=1).nonzero()[0]) for i in range(17)]))\n",
    "print(min([len(trump_tf_by_month[i].sum(axis=1).nonzero()[0]) for i in range(17)]))\n",
    "print(max([len(trump_tf_by_month[i].sum(axis=1).nonzero()[0]) for i in range(17)]))"
   ]
  },
  {
   "cell_type": "code",
   "execution_count": 32,
   "metadata": {},
   "outputs": [],
   "source": [
    "with open(\"stored_variables/comment_polarization_user_sanders.pickle\", \"wb\") as f:\n",
    "    pickle.dump(pi_vals_sanders_user, f)\n",
    "    \n",
    "with open(\"stored_variables/comment_polarization_user_trump.pickle\", \"wb\") as f:\n",
    "    pickle.dump(pi_vals_trump_user, f)"
   ]
  },
  {
   "cell_type": "markdown",
   "metadata": {},
   "source": [
    "## Calculate polarization overall"
   ]
  },
  {
   "cell_type": "code",
   "execution_count": 35,
   "metadata": {},
   "outputs": [],
   "source": [
    "def calculate_polarization(dem_counts, rep_counts, sample_size = 1000):\n",
    "    dem_no = dem_counts.shape[0]\n",
    "    rep_no = rep_counts.shape[0]\n",
    "    \n",
    "    if sample_size < dem_no:\n",
    "        dem_indices = random.sample(range(dem_no), sample_size)\n",
    "        dem_counts = dem_counts[dem_indices, :]\n",
    "        dem_no = sample_size\n",
    "        \n",
    "    if sample_size < rep_no:\n",
    "        rep_indices = random.sample(range(rep_no), sample_size)\n",
    "        rep_counts = rep_counts[rep_indices, :]\n",
    "        rep_no = sample_size\n",
    "        \n",
    "    \n",
    "    dem_user_total = dem_counts.sum(axis=1)\n",
    "    rep_user_total = rep_counts.sum(axis=1)\n",
    "    \n",
    "    # equivalent to dem_counts / dem_user_total\n",
    "    dem_user_distr = (diags(1 / dem_user_total.A.ravel())).dot(dem_counts)  # get row-wise distributions\n",
    "    rep_user_distr = (diags(1 / rep_user_total.A.ravel())).dot(rep_counts)\n",
    "    assert (set(dem_user_total.nonzero()[0]) == set(range(dem_no)))  # make sure there are no zero rows\n",
    "    assert (set(rep_user_total.nonzero()[0]) == set(range(rep_no)))  # make sure there are no zero rows\n",
    "\n",
    "    dem_q = get_party_q(dem_counts)\n",
    "    rep_q = get_party_q(rep_counts)\n",
    "\n",
    "    # apply measures via leave-out\n",
    "    dem_addup = 0\n",
    "    rep_addup = 0\n",
    "    \n",
    "    for i in range(dem_no):\n",
    "        dem_leaveout_q = get_party_q(dem_counts, i)\n",
    "        token_scores_dem = 1. - get_rho(dem_leaveout_q, rep_q)\n",
    "        dem_addup += dem_user_distr[i, :].dot(token_scores_dem)[0, 0]\n",
    "    \n",
    "    for i in range(rep_no):\n",
    "        rep_leaveout_q = get_party_q(rep_counts, i)\n",
    "        token_scores_rep = get_rho(dem_q, rep_leaveout_q)\n",
    "        rep_addup += rep_user_distr[i, :].dot(token_scores_rep)[0, 0]\n",
    "    rep_val = 1 / rep_no * rep_addup\n",
    "    dem_val = 1 / dem_no * dem_addup\n",
    "    return 1/2 * (dem_val + rep_val)\n"
   ]
  },
  {
   "cell_type": "code",
   "execution_count": 40,
   "metadata": {},
   "outputs": [],
   "source": [
    "pi_vals = []\n",
    "subsample_vals = []\n",
    "subsample_sizes = []"
   ]
  },
  {
   "cell_type": "code",
   "execution_count": 41,
   "metadata": {},
   "outputs": [
    {
     "name": "stdout",
     "output_type": "stream",
     "text": [
      "0\n",
      "1\n",
      "2\n",
      "3\n",
      "4\n",
      "5\n",
      "6\n",
      "7\n",
      "8\n",
      "9\n",
      "10\n",
      "11\n",
      "12\n",
      "13\n",
      "14\n",
      "15\n",
      "16\n"
     ]
    }
   ],
   "source": [
    "for i in range(17):\n",
    "    print(i)\n",
    "    sanders_mat = sanders_tf_by_month[i][sanders_tf_by_month[i].sum(axis=1).nonzero()[0],:]\n",
    "    trump_mat = trump_tf_by_month[i][trump_tf_by_month[i].sum(axis=1).nonzero()[0],:]\n",
    "    \n",
    "    pi_val_curr = calculate_polarization(sanders_mat, trump_mat, sample_size=5000)\n",
    "    \n",
    "    pi_vals.append(pi_val_curr)\n",
    "    \n",
    "    subsample = []\n",
    "    \n",
    "    subsample_size = int(0.1 * min(len(sanders_tf_by_month[i].sum(axis=1).nonzero()[0]), \n",
    "                         len(trump_tf_by_month[i].sum(axis=1).nonzero()[0])))\n",
    "    \n",
    "    for i in range(100):\n",
    "        subsample.append(calculate_polarization(sanders_mat, trump_mat, sample_size=subsample_size))\n",
    "    \n",
    "    subsample_vals.append(subsample)\n",
    "    subsample_sizes.append(subsample_size)"
   ]
  },
  {
   "cell_type": "code",
   "execution_count": 42,
   "metadata": {},
   "outputs": [],
   "source": [
    "def pi_val_confidence_interval(lst, estimate, t_k = 25, t_full = 5000):\n",
    "    assert(len(lst) == 100)\n",
    "    \n",
    "    pi_k_lst = sorted(lst)\n",
    "    pi_avg = np.mean(pi_k_lst)\n",
    "    q_k = [np.sqrt(t_k) * (pi_k - pi_avg) for pi_k in pi_k_lst]\n",
    "    \n",
    "    return (estimate - q_k[89] / np.sqrt(t_full), estimate - q_k[10] / np.sqrt(t_full))"
   ]
  },
  {
   "cell_type": "code",
   "execution_count": 43,
   "metadata": {},
   "outputs": [],
   "source": [
    "pi_vals_ci_below = [pi_val_confidence_interval(subsample_vals[i], pi_vals[i], t_k=subsample_sizes[i], \n",
    "                                               t_full=len(sanders_tf_by_month[i].sum(axis=1).nonzero()[0]))[0] for i in range(len(pi_vals))]\n",
    "pi_vals_ci_above = [pi_val_confidence_interval(subsample_vals[i], pi_vals[i], t_k=subsample_sizes[i], \n",
    "                                               t_full=len(trump_tf_by_month[i].sum(axis=1).nonzero()[0]))[1] for i in range(len(pi_vals))]\n"
   ]
  },
  {
   "cell_type": "code",
   "execution_count": 44,
   "metadata": {},
   "outputs": [],
   "source": [
    "months = [date(2015, i, 1) for i in range(1,13)] + [date(2016, i, 1) for i in range(1,6)]\n"
   ]
  },
  {
   "cell_type": "code",
   "execution_count": 46,
   "metadata": {},
   "outputs": [
    {
     "data": {
      "image/png": "[encoded data removed]",
      "text/plain": [
       "<Figure size 720x576 with 1 Axes>"
      ]
     },
     "metadata": {
      "needs_background": "light"
     },
     "output_type": "display_data"
    }
   ],
   "source": [
    "fig, ax = plt.subplots(figsize=(10,8))\n",
    "ax.plot_date(months, pi_vals, linestyle = '-', marker=None)\n",
    "ax.fill_between(months, pi_vals_ci_below, pi_vals_ci_above, facecolor='0.9', interpolate=True)\n",
    "ax.xaxis.set_major_formatter(DateFormatter('%b-%y'))\n",
    "plt.xlabel('Month and year')\n",
    "plt.ylabel('Comment partisanship Score')\n",
    "\n",
    "plt.show()"
   ]
  },
  {
   "cell_type": "code",
   "execution_count": null,
   "metadata": {},
   "outputs": [],
   "source": []
  }
 ],
 "metadata": {
  "kernelspec": {
   "display_name": "Python 3",
   "language": "python",
   "name": "python3"
  },
  "language_info": {
   "codemirror_mode": {
    "name": "ipython",
    "version": 3
   },
   "file_extension": ".py",
   "mimetype": "text/x-python",
   "name": "python",
   "nbconvert_exporter": "python",
   "pygments_lexer": "ipython3",
   "version": "3.7.3"
  }
 },
 "nbformat": 4,
 "nbformat_minor": 2
}
