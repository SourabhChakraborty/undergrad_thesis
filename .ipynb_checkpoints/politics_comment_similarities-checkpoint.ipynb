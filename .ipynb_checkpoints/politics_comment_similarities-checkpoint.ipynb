{
 "cells": [
  {
   "cell_type": "code",
   "execution_count": 37,
   "metadata": {},
   "outputs": [],
   "source": [
    "import json\n",
    "import pickle\n",
    "\n",
    "from scipy.sparse import coo_matrix, csr_matrix, csc_matrix, lil_matrix\n",
    "from scipy.linalg import norm\n",
    "from scipy.stats import fisher_exact\n",
    "\n",
    "from sklearn.decomposition import TruncatedSVD\n",
    "\n",
    "from matplotlib import pyplot as plt\n",
    "from IPython.display import HTML, display\n",
    "import pandas as pd\n",
    "import numpy as np\n",
    "import random\n"
   ]
  },
  {
   "cell_type": "code",
   "execution_count": 2,
   "metadata": {},
   "outputs": [],
   "source": [
    "with open(\"stored_variables/politics_tokens_text_tfidf.pickle\", 'rb') as f:\n",
    "    comment_tfidf = pickle.load(f)"
   ]
  },
  {
   "cell_type": "code",
   "execution_count": 3,
   "metadata": {},
   "outputs": [],
   "source": [
    "with open(\"stored_variables/auth_sample_r_politics_authors.json\", 'r') as f:\n",
    "    comment_auths = json.load(f)"
   ]
  },
  {
   "cell_type": "code",
   "execution_count": 4,
   "metadata": {},
   "outputs": [],
   "source": [
    "with open(\"stored_variables/user_subreddit_tf.pickle\", \"rb\") as f:\n",
    "    subreddit_tf = pickle.load(f)"
   ]
  },
  {
   "cell_type": "code",
   "execution_count": 5,
   "metadata": {},
   "outputs": [],
   "source": [
    "with open(\"stored_variables/user_subreddit_tf_auths.pickle\", \"rb\") as f:\n",
    "    author_names = pickle.load(f)"
   ]
  },
  {
   "cell_type": "code",
   "execution_count": 6,
   "metadata": {},
   "outputs": [],
   "source": [
    "with open(\"stored_variables/user_subreddit_tf_subreddit_names.pickle\", \"rb\") as f:\n",
    "    subreddit_reverse_dict = pickle.load(f)"
   ]
  },
  {
   "cell_type": "markdown",
   "metadata": {},
   "source": [
    "## Consolidate all comments by each user"
   ]
  },
  {
   "cell_type": "code",
   "execution_count": 7,
   "metadata": {},
   "outputs": [],
   "source": [
    "author_reverse_dict = {author_names[i]:i for i in range(len(author_names))}"
   ]
  },
  {
   "cell_type": "code",
   "execution_count": 8,
   "metadata": {},
   "outputs": [],
   "source": [
    "author_index_mapping = [author_reverse_dict[auth] for auth in comment_auths]"
   ]
  },
  {
   "cell_type": "code",
   "execution_count": 9,
   "metadata": {},
   "outputs": [
    {
     "data": {
      "text/plain": [
       "[12049, 496, 13502, 1594, 2957]"
      ]
     },
     "execution_count": 9,
     "metadata": {},
     "output_type": "execute_result"
    }
   ],
   "source": [
    "author_index_mapping[:5]"
   ]
  },
  {
   "cell_type": "code",
   "execution_count": 10,
   "metadata": {},
   "outputs": [],
   "source": [
    "author_index_lists = [[] for i in comment_auths]"
   ]
  },
  {
   "cell_type": "code",
   "execution_count": 11,
   "metadata": {},
   "outputs": [],
   "source": [
    "for i in range(len(author_index_mapping)):\n",
    "    author_index_lists[author_index_mapping[i]].append(i)"
   ]
  },
  {
   "cell_type": "code",
   "execution_count": 12,
   "metadata": {
    "scrolled": true
   },
   "outputs": [
    {
     "data": {
      "text/plain": [
       "[28117, 42390, 62493, 69447, 191770, 327109, 507092]"
      ]
     },
     "execution_count": 12,
     "metadata": {},
     "output_type": "execute_result"
    }
   ],
   "source": [
    "author_index_lists[0]"
   ]
  },
  {
   "cell_type": "code",
   "execution_count": 13,
   "metadata": {},
   "outputs": [
    {
     "data": {
      "text/plain": [
       "<7x26903 sparse matrix of type '<class 'numpy.float64'>'\n",
       "\twith 67 stored elements in Compressed Sparse Row format>"
      ]
     },
     "execution_count": 13,
     "metadata": {},
     "output_type": "execute_result"
    }
   ],
   "source": [
    "comment_tfidf[author_index_lists[0]]"
   ]
  },
  {
   "cell_type": "code",
   "execution_count": 14,
   "metadata": {},
   "outputs": [
    {
     "data": {
      "text/plain": [
       "matrix([[0., 0., 0., ..., 0., 0., 0.]])"
      ]
     },
     "execution_count": 14,
     "metadata": {},
     "output_type": "execute_result"
    }
   ],
   "source": [
    "comment_tfidf[author_index_lists[0]].sum(axis=0)"
   ]
  },
  {
   "cell_type": "code",
   "execution_count": 15,
   "metadata": {},
   "outputs": [],
   "source": [
    "user_tfidf = lil_matrix((len(author_names), comment_tfidf.shape[1]))"
   ]
  },
  {
   "cell_type": "code",
   "execution_count": 16,
   "metadata": {},
   "outputs": [],
   "source": [
    "for i in range(len(author_names)):\n",
    "    user_tfidf[i] = comment_tfidf[author_index_lists[i]].sum(axis=0)"
   ]
  },
  {
   "cell_type": "code",
   "execution_count": 17,
   "metadata": {},
   "outputs": [],
   "source": [
    "user_tfidf = csr_matrix(user_tfidf)"
   ]
  },
  {
   "cell_type": "code",
   "execution_count": 18,
   "metadata": {},
   "outputs": [],
   "source": [
    "user_tfidf_norms = np.zeros(user_tfidf.shape[0])"
   ]
  },
  {
   "cell_type": "code",
   "execution_count": 19,
   "metadata": {},
   "outputs": [],
   "source": [
    "for i in range(20):\n",
    "    user_tfidf_norms[i*1000 : (i+1) * 1000] = norm(user_tfidf[i*1000 : (i+1) * 1000].toarray(), axis=1)"
   ]
  },
  {
   "cell_type": "code",
   "execution_count": 20,
   "metadata": {},
   "outputs": [
    {
     "data": {
      "text/plain": [
       "128"
      ]
     },
     "execution_count": 20,
     "metadata": {},
     "output_type": "execute_result"
    }
   ],
   "source": [
    "np.sum(user_tfidf_norms == 0)"
   ]
  },
  {
   "cell_type": "code",
   "execution_count": 21,
   "metadata": {},
   "outputs": [],
   "source": [
    "nonzero_indices = [i for i in range(user_tfidf.shape[0]) if user_tfidf_norms[i] > 0]"
   ]
  },
  {
   "cell_type": "code",
   "execution_count": 22,
   "metadata": {},
   "outputs": [
    {
     "data": {
      "text/plain": [
       "(19872,)"
      ]
     },
     "execution_count": 22,
     "metadata": {},
     "output_type": "execute_result"
    }
   ],
   "source": [
    "user_tfidf_norms[nonzero_indices].shape"
   ]
  },
  {
   "cell_type": "code",
   "execution_count": 23,
   "metadata": {},
   "outputs": [],
   "source": [
    "user_tfidf_normalized = csr_matrix(user_tfidf[nonzero_indices, :] / user_tfidf_norms[nonzero_indices, np.newaxis])"
   ]
  },
  {
   "cell_type": "markdown",
   "metadata": {},
   "source": [
    "## Cosine similarities"
   ]
  },
  {
   "cell_type": "code",
   "execution_count": 62,
   "metadata": {},
   "outputs": [],
   "source": [
    "subreddit_cosine_sims = np.zeros((user_tfidf_normalized.shape[0], user_tfidf_normalized.shape[0]))"
   ]
  },
  {
   "cell_type": "code",
   "execution_count": 63,
   "metadata": {},
   "outputs": [],
   "source": [
    "for i in range(5):\n",
    "    max_index1 = min((i+1)*1000, user_tfidf_normalized.shape[0])\n",
    "    chunk1 = user_tfidf_normalized[i*1000 : max_index1, :]\n",
    "    for j in range(20):\n",
    "        max_index2 = min((j+1)*1000, user_tfidf_normalized.shape[0])\n",
    "        chunk2 = user_tfidf_normalized[j*1000 : max_index2, :]\n",
    "        subreddit_cosine_sims[i*1000 : max_index1, j*1000 : max_index2] = chunk1.dot(csc_matrix(chunk2.T)).toarray()\n"
   ]
  },
  {
   "cell_type": "code",
   "execution_count": 64,
   "metadata": {},
   "outputs": [],
   "source": [
    "for i in range(5,10):\n",
    "    max_index1 = min((i+1)*1000, user_tfidf_normalized.shape[0])\n",
    "    chunk1 = user_tfidf_normalized[i*1000 : max_index1, :]\n",
    "    for j in range(20):\n",
    "        max_index2 = min((j+1)*1000, user_tfidf_normalized.shape[0])\n",
    "        chunk2 = user_tfidf_normalized[j*1000 : max_index2, :]\n",
    "        subreddit_cosine_sims[i*1000 : max_index1, j*1000 : max_index2] = chunk1.dot(csc_matrix(chunk2.T)).toarray()\n"
   ]
  },
  {
   "cell_type": "code",
   "execution_count": 65,
   "metadata": {},
   "outputs": [],
   "source": [
    "for i in range(10,15):\n",
    "    max_index1 = min((i+1)*1000, user_tfidf_normalized.shape[0])\n",
    "    chunk1 = user_tfidf_normalized[i*1000 : max_index1, :]\n",
    "    for j in range(20):\n",
    "        max_index2 = min((j+1)*1000, user_tfidf_normalized.shape[0])\n",
    "        chunk2 = user_tfidf_normalized[j*1000 : max_index2, :]\n",
    "        subreddit_cosine_sims[i*1000 : max_index1, j*1000 : max_index2] = chunk1.dot(csc_matrix(chunk2.T)).toarray()\n"
   ]
  },
  {
   "cell_type": "code",
   "execution_count": 66,
   "metadata": {},
   "outputs": [],
   "source": [
    "for i in range(15,20):\n",
    "    max_index1 = min((i+1)*1000, user_tfidf_normalized.shape[0])\n",
    "    chunk1 = user_tfidf_normalized[i*1000 : max_index1, :]\n",
    "    for j in range(20):\n",
    "        max_index2 = min((j+1)*1000, user_tfidf_normalized.shape[0])\n",
    "        chunk2 = user_tfidf_normalized[j*1000 : max_index2, :]\n",
    "        subreddit_cosine_sims[i*1000 : max_index1, j*1000 : max_index2] = chunk1.dot(csc_matrix(chunk2.T)).toarray()\n"
   ]
  },
  {
   "cell_type": "code",
   "execution_count": 68,
   "metadata": {},
   "outputs": [],
   "source": [
    "for i in range(user_tfidf_normalized.shape[0]):\n",
    "    subreddit_cosine_sims[i,i] = 0"
   ]
  },
  {
   "cell_type": "code",
   "execution_count": 69,
   "metadata": {},
   "outputs": [
    {
     "data": {
      "text/plain": [
       "array([[0.        , 0.1719182 , 0.22505432, 0.05709984, 0.        ,\n",
       "        0.08161339, 0.0414649 , 0.11388844, 0.03649721, 0.14950288],\n",
       "       [0.1719182 , 0.        , 0.54653004, 0.1990964 , 0.07487276,\n",
       "        0.07993296, 0.13998132, 0.29244882, 0.0680828 , 0.30938603],\n",
       "       [0.22505432, 0.54653004, 0.        , 0.20796884, 0.0568248 ,\n",
       "        0.11735653, 0.13723308, 0.3243069 , 0.09350922, 0.42718907],\n",
       "       [0.05709984, 0.1990964 , 0.20796884, 0.        , 0.01655341,\n",
       "        0.05228141, 0.0476902 , 0.1448155 , 0.01328451, 0.1169083 ],\n",
       "       [0.        , 0.07487276, 0.0568248 , 0.01655341, 0.        ,\n",
       "        0.        , 0.00411344, 0.0529361 , 0.        , 0.02530465],\n",
       "       [0.08161339, 0.07993296, 0.11735653, 0.05228141, 0.        ,\n",
       "        0.        , 0.02773797, 0.07462108, 0.04699023, 0.06517395],\n",
       "       [0.0414649 , 0.13998132, 0.13723308, 0.0476902 , 0.00411344,\n",
       "        0.02773797, 0.        , 0.06054228, 0.01079588, 0.08521319],\n",
       "       [0.11388844, 0.29244882, 0.3243069 , 0.1448155 , 0.0529361 ,\n",
       "        0.07462108, 0.06054228, 0.        , 0.04201799, 0.23753546],\n",
       "       [0.03649721, 0.0680828 , 0.09350922, 0.01328451, 0.        ,\n",
       "        0.04699023, 0.01079588, 0.04201799, 0.        , 0.07914082],\n",
       "       [0.14950288, 0.30938603, 0.42718907, 0.1169083 , 0.02530465,\n",
       "        0.06517395, 0.08521319, 0.23753546, 0.07914082, 0.        ]])"
      ]
     },
     "execution_count": 69,
     "metadata": {},
     "output_type": "execute_result"
    }
   ],
   "source": [
    "subreddit_cosine_sims[:10, :10]"
   ]
  },
  {
   "cell_type": "code",
   "execution_count": 24,
   "metadata": {},
   "outputs": [],
   "source": [
    "# with open(\"stored_variables/user_comment_tfidf_cossims.pickle\", \"wb\") as f:\n",
    "#     pickle.dump(subreddit_cosine_sims, f)\n",
    "with open(\"stored_variables/user_comment_tfidf_cossims.pickle\", \"rb\") as f:\n",
    "    subreddit_cosine_sims = pickle.load(f)"
   ]
  },
  {
   "cell_type": "code",
   "execution_count": 25,
   "metadata": {},
   "outputs": [],
   "source": [
    "most_similar_user = np.zeros(user_tfidf_normalized.shape[0], dtype = np.int32)"
   ]
  },
  {
   "cell_type": "code",
   "execution_count": 26,
   "metadata": {},
   "outputs": [],
   "source": [
    "for i in range(user_tfidf_normalized.shape[0]):\n",
    "    most_similar_user[i] = np.argsort(subreddit_cosine_sims[i])[-1]"
   ]
  },
  {
   "cell_type": "code",
   "execution_count": 27,
   "metadata": {},
   "outputs": [
    {
     "data": {
      "text/plain": [
       "array([ 5433,  3543,  5240,  5460,  5739, 14699, 16025,  3699, 19098,\n",
       "         489], dtype=int32)"
      ]
     },
     "execution_count": 27,
     "metadata": {},
     "output_type": "execute_result"
    }
   ],
   "source": [
    "most_similar_user[:10]"
   ]
  },
  {
   "cell_type": "code",
   "execution_count": 77,
   "metadata": {
    "scrolled": true
   },
   "outputs": [
    {
     "data": {
      "text/plain": [
       "[0.2862979588803271,\n",
       " 0.7095173675870902,\n",
       " 0.7791600670814074,\n",
       " 0.31025967045087277,\n",
       " 0.3095227782325683,\n",
       " 0.2570771661331643,\n",
       " 0.27932893763601224,\n",
       " 0.48270475031570137,\n",
       " 0.38267922248858255,\n",
       " 0.5665090393956965]"
      ]
     },
     "execution_count": 77,
     "metadata": {},
     "output_type": "execute_result"
    }
   ],
   "source": [
    "[subreddit_cosine_sims[i, most_similar_user[i]] for i in range(10)]"
   ]
  },
  {
   "cell_type": "markdown",
   "metadata": {},
   "source": [
    "## Check similarities by subreddits authors commented in"
   ]
  },
  {
   "cell_type": "code",
   "execution_count": 28,
   "metadata": {},
   "outputs": [],
   "source": [
    "author_names = [author_names[i] for i in nonzero_indices]\n",
    "subreddit_tf = subreddit_tf[nonzero_indices, :]\n"
   ]
  },
  {
   "cell_type": "code",
   "execution_count": 29,
   "metadata": {},
   "outputs": [],
   "source": [
    "author_reverse_dict = {author_names[i]:i for i in range(len(author_names))}"
   ]
  },
  {
   "cell_type": "code",
   "execution_count": 30,
   "metadata": {},
   "outputs": [],
   "source": [
    "num_sanders = {k:(subreddit_tf[author_reverse_dict[k], subreddit_reverse_dict['sandersforpresident']]) for k in author_names}\n",
    "num_trump = {k:(subreddit_tf[author_reverse_dict[k], subreddit_reverse_dict['the_donald']]) for k in author_names}\n",
    "num_clinton = {k:(subreddit_tf[author_reverse_dict[k], subreddit_reverse_dict['hillaryclinton']]) for k in author_names}\n",
    "num_politics = {k:(subreddit_tf[author_reverse_dict[k], subreddit_reverse_dict['politics']]) for k in author_names}\n"
   ]
  },
  {
   "cell_type": "code",
   "execution_count": 31,
   "metadata": {},
   "outputs": [],
   "source": [
    "comment_threshold = 10"
   ]
  },
  {
   "cell_type": "code",
   "execution_count": 32,
   "metadata": {},
   "outputs": [],
   "source": [
    "sanders_user_indices = [i for i in range(subreddit_tf.shape[0]) if num_sanders[author_names[i]] >= comment_threshold]\n",
    "trump_user_indices = [i for i in range(subreddit_tf.shape[0]) if num_trump[author_names[i]] >= comment_threshold]\n",
    "clinton_user_indices = [i for i in range(subreddit_tf.shape[0]) if num_clinton[author_names[i]] >= comment_threshold]"
   ]
  },
  {
   "cell_type": "code",
   "execution_count": 33,
   "metadata": {},
   "outputs": [],
   "source": [
    "none_user_indices = [i for i in range(subreddit_tf.shape[0]) if num_sanders[author_names[i]] == 0 and \n",
    "                     num_trump[author_names[i]] == 0 and\n",
    "                     num_clinton[author_names[i]] == 0]"
   ]
  },
  {
   "cell_type": "code",
   "execution_count": 34,
   "metadata": {},
   "outputs": [
    {
     "name": "stdout",
     "output_type": "stream",
     "text": [
      "1555\n",
      "915\n",
      "137\n",
      "12856\n"
     ]
    }
   ],
   "source": [
    "print(len(sanders_user_indices))\n",
    "print(len(trump_user_indices))\n",
    "print(len(clinton_user_indices))\n",
    "print(len(none_user_indices))"
   ]
  },
  {
   "cell_type": "code",
   "execution_count": 35,
   "metadata": {},
   "outputs": [
    {
     "name": "stdout",
     "output_type": "stream",
     "text": [
      "206\n",
      "73\n",
      "18\n"
     ]
    }
   ],
   "source": [
    "print(len(set(sanders_user_indices).intersection(trump_user_indices)))\n",
    "print(len(set(sanders_user_indices).intersection(clinton_user_indices)))\n",
    "print(len(set(trump_user_indices).intersection(clinton_user_indices)))"
   ]
  },
  {
   "cell_type": "code",
   "execution_count": 83,
   "metadata": {},
   "outputs": [
    {
     "data": {
      "text/plain": [
       "0.3269398708397079"
      ]
     },
     "execution_count": 83,
     "metadata": {},
     "output_type": "execute_result"
    }
   ],
   "source": [
    "np.sum(subreddit_cosine_sims[sanders_user_indices, :][:,sanders_user_indices]) / \\\n",
    "(len(sanders_user_indices) * (len(sanders_user_indices)-1))"
   ]
  },
  {
   "cell_type": "code",
   "execution_count": 84,
   "metadata": {},
   "outputs": [
    {
     "data": {
      "text/plain": [
       "0.222626107617488"
      ]
     },
     "execution_count": 84,
     "metadata": {},
     "output_type": "execute_result"
    }
   ],
   "source": [
    "np.sum(subreddit_cosine_sims[trump_user_indices, :][:,trump_user_indices]) / \\\n",
    "(len(trump_user_indices) * (len(trump_user_indices)-1))"
   ]
  },
  {
   "cell_type": "code",
   "execution_count": 85,
   "metadata": {},
   "outputs": [
    {
     "data": {
      "text/plain": [
       "0.4355421733362365"
      ]
     },
     "execution_count": 85,
     "metadata": {},
     "output_type": "execute_result"
    }
   ],
   "source": [
    "np.sum(subreddit_cosine_sims[clinton_user_indices, :][:,clinton_user_indices]) / \\\n",
    "(len(clinton_user_indices) * (len(clinton_user_indices)-1))"
   ]
  },
  {
   "cell_type": "code",
   "execution_count": 86,
   "metadata": {},
   "outputs": [
    {
     "data": {
      "text/plain": [
       "0.0777579223886308"
      ]
     },
     "execution_count": 86,
     "metadata": {},
     "output_type": "execute_result"
    }
   ],
   "source": [
    "np.sum(subreddit_cosine_sims[none_user_indices, :][:,none_user_indices]) / \\\n",
    "(len(none_user_indices) * (len(none_user_indices)-1))"
   ]
  },
  {
   "cell_type": "code",
   "execution_count": 87,
   "metadata": {},
   "outputs": [
    {
     "data": {
      "text/plain": [
       "0.10325964914936943"
      ]
     },
     "execution_count": 87,
     "metadata": {},
     "output_type": "execute_result"
    }
   ],
   "source": [
    "np.sum(subreddit_cosine_sims) / (subreddit_cosine_sims.shape[0] * (subreddit_cosine_sims.shape[1] - 1))"
   ]
  },
  {
   "cell_type": "code",
   "execution_count": 88,
   "metadata": {},
   "outputs": [
    {
     "name": "stdout",
     "output_type": "stream",
     "text": [
      "0.2675780924449106\n",
      "0.3765296839104821\n",
      "0.30705193925044294\n",
      "\n",
      "0.158404383345169\n",
      "0.1298725512779201\n",
      "0.18143419106387051\n"
     ]
    }
   ],
   "source": [
    "print(np.sum(subreddit_cosine_sims[sanders_user_indices, :][:,trump_user_indices]) / \\\n",
    "((len(sanders_user_indices) * len(trump_user_indices)) - \\\n",
    "len(set(sanders_user_indices).intersection(trump_user_indices))))\n",
    "\n",
    "print(np.sum(subreddit_cosine_sims[sanders_user_indices, :][:,clinton_user_indices]) / \\\n",
    "((len(sanders_user_indices) * len(clinton_user_indices)) - \\\n",
    "len(set(sanders_user_indices).intersection(clinton_user_indices))))\n",
    "\n",
    "print(np.sum(subreddit_cosine_sims[clinton_user_indices, :][:,trump_user_indices]) / \\\n",
    "((len(clinton_user_indices) * len(trump_user_indices)) - \\\n",
    "len(set(clinton_user_indices).intersection(trump_user_indices))))\n",
    "\n",
    "print()\n",
    "print(np.sum(subreddit_cosine_sims[sanders_user_indices, :][:,none_user_indices]) / \\\n",
    "((len(sanders_user_indices) * len(none_user_indices))))\n",
    "print(np.sum(subreddit_cosine_sims[trump_user_indices, :][:,none_user_indices]) / \\\n",
    "((len(trump_user_indices) * len(none_user_indices))))\n",
    "print(np.sum(subreddit_cosine_sims[clinton_user_indices, :][:,none_user_indices]) / \\\n",
    "((len(clinton_user_indices) * len(none_user_indices))))"
   ]
  },
  {
   "cell_type": "code",
   "execution_count": 40,
   "metadata": {},
   "outputs": [],
   "source": [
    "def get_score(a,b,c,d):\n",
    "    print(a)\n",
    "#     print((a*d)/(b*c))\n",
    "#     print(fisher_exact([[a, b-a], [c, d-c]])[1])"
   ]
  },
  {
   "cell_type": "code",
   "execution_count": 43,
   "metadata": {},
   "outputs": [
    {
     "name": "stdout",
     "output_type": "stream",
     "text": [
      "690\n",
      "5.670611346036538\n",
      "3.174667191641693e-291\n",
      "192\n",
      "2.681583469506088\n",
      "7.926301356964814e-31\n",
      "118\n",
      "11.007092731241345\n",
      "5.715170493653551e-66\n",
      "501\n",
      "0.49801571500889397\n",
      "7.915037329635239e-138\n",
      "337\n",
      "4.706737652205999\n",
      "2.6473172676994906e-124\n",
      "227\n",
      "5.387970975544208\n",
      "2.2430022761145347e-89\n",
      "47\n",
      "7.45071197798253\n",
      "3.1056129330658645e-23\n",
      "328\n",
      "0.5541004009099534\n",
      "5.6943408770659235e-67\n",
      "61\n",
      "5.690107259370526\n",
      "9.216475578133226e-31\n",
      "20\n",
      "3.1705157353117146\n",
      "5.851255098878763e-06\n",
      "17\n",
      "17.999040971815226\n",
      "4.535842529288104e-16\n",
      "45\n",
      "0.5077239631357338\n",
      "5.288370683614711e-14\n",
      "2687\n",
      "2.6709944635307346\n",
      "1.0529745119058586e-252\n",
      "888\n",
      "1.5001254756342641\n",
      "1.2544247307707629e-18\n",
      "280\n",
      "3.1591713261778986\n",
      "1.02248498869846e-30\n",
      "6956\n",
      "0.8363526249695541\n",
      "2.855122222223108e-81\n"
     ]
    }
   ],
   "source": [
    "for p in [sanders_user_indices, trump_user_indices, clinton_user_indices, none_user_indices]:\n",
    "    for q in [sanders_user_indices, trump_user_indices, clinton_user_indices, none_user_indices]:\n",
    "        get_score(len([i for i in most_similar_user[p] if i in set(q)]),len(p),len(q), subreddit_cosine_sims.shape[0])\n",
    "        \n",
    "#     print()"
   ]
  },
  {
   "cell_type": "code",
   "execution_count": 36,
   "metadata": {},
   "outputs": [
    {
     "name": "stdout",
     "output_type": "stream",
     "text": [
      "690\n",
      "5.670611346036538\n",
      "192\n",
      "2.681583469506088\n",
      "118\n",
      "11.007092731241345\n",
      "501\n",
      "0.49801571500889397\n",
      "\n",
      "337\n",
      "4.706737652205999\n",
      "227\n",
      "5.387970975544208\n",
      "47\n",
      "7.45071197798253\n",
      "328\n",
      "0.5541004009099534\n",
      "\n",
      "61\n",
      "5.690107259370526\n",
      "20\n",
      "3.1705157353117146\n",
      "17\n",
      "17.999040971815226\n",
      "45\n",
      "0.5077239631357338\n",
      "\n",
      "2687\n",
      "2.6709944635307346\n",
      "888\n",
      "1.5001254756342641\n",
      "280\n",
      "3.1591713261778986\n",
      "6956\n",
      "0.8363526249695541\n"
     ]
    }
   ],
   "source": [
    "print(len([i for i in most_similar_user[sanders_user_indices] if i in set(sanders_user_indices)]))\n",
    "print(subreddit_cosine_sims.shape[0] * len([i for i in most_similar_user[sanders_user_indices] if i in set(sanders_user_indices)])/(len(sanders_user_indices)*len(sanders_user_indices)))\n",
    "print(len([i for i in most_similar_user[sanders_user_indices] if i in set(trump_user_indices)]))\n",
    "print(subreddit_cosine_sims.shape[0] * len([i for i in most_similar_user[sanders_user_indices] if i in set(trump_user_indices)])/(len(trump_user_indices)*len(sanders_user_indices)))\n",
    "print(len([i for i in most_similar_user[sanders_user_indices] if i in set(clinton_user_indices)]))\n",
    "print(subreddit_cosine_sims.shape[0] * len([i for i in most_similar_user[sanders_user_indices] if i in set(clinton_user_indices)])/(len(clinton_user_indices)*len(sanders_user_indices)))\n",
    "print(len([i for i in most_similar_user[sanders_user_indices] if i in set(none_user_indices)]))\n",
    "print(subreddit_cosine_sims.shape[0] * len([i for i in most_similar_user[sanders_user_indices] if i in set(none_user_indices)])/(len(none_user_indices)*len(sanders_user_indices)))\n",
    "print()\n",
    "print(len([i for i in most_similar_user[trump_user_indices] if i in set(sanders_user_indices)]))\n",
    "print(subreddit_cosine_sims.shape[0] * len([i for i in most_similar_user[trump_user_indices] if i in set(sanders_user_indices)])/(len(sanders_user_indices)*len(trump_user_indices)))\n",
    "print(len([i for i in most_similar_user[trump_user_indices] if i in set(trump_user_indices)]))\n",
    "print(subreddit_cosine_sims.shape[0] * len([i for i in most_similar_user[trump_user_indices] if i in set(trump_user_indices)])/(len(trump_user_indices)*len(trump_user_indices)))\n",
    "print(len([i for i in most_similar_user[trump_user_indices] if i in set(clinton_user_indices)]))\n",
    "print(subreddit_cosine_sims.shape[0] * len([i for i in most_similar_user[trump_user_indices] if i in set(clinton_user_indices)])/(len(clinton_user_indices)*len(trump_user_indices)))\n",
    "print(len([i for i in most_similar_user[trump_user_indices] if i in set(none_user_indices)]))\n",
    "print(subreddit_cosine_sims.shape[0] * len([i for i in most_similar_user[trump_user_indices] if i in set(none_user_indices)])/(len(none_user_indices)*len(trump_user_indices)))\n",
    "print()\n",
    "print(len([i for i in most_similar_user[clinton_user_indices] if i in set(sanders_user_indices)]))\n",
    "print(subreddit_cosine_sims.shape[0] * len([i for i in most_similar_user[clinton_user_indices] if i in set(sanders_user_indices)])/(len(sanders_user_indices)*len(clinton_user_indices)))\n",
    "print(len([i for i in most_similar_user[clinton_user_indices] if i in set(trump_user_indices)]))\n",
    "print(subreddit_cosine_sims.shape[0] * len([i for i in most_similar_user[clinton_user_indices] if i in set(trump_user_indices)])/(len(trump_user_indices)*len(clinton_user_indices)))\n",
    "print(len([i for i in most_similar_user[clinton_user_indices] if i in set(clinton_user_indices)]))\n",
    "print(subreddit_cosine_sims.shape[0] * len([i for i in most_similar_user[clinton_user_indices] if i in set(clinton_user_indices)])/(len(clinton_user_indices)*len(clinton_user_indices)))\n",
    "print(len([i for i in most_similar_user[clinton_user_indices] if i in set(none_user_indices)]))\n",
    "print(subreddit_cosine_sims.shape[0] * len([i for i in most_similar_user[clinton_user_indices] if i in set(none_user_indices)])/(len(none_user_indices)*len(clinton_user_indices)))\n",
    "print()\n",
    "print(len([i for i in most_similar_user[none_user_indices] if i in set(sanders_user_indices)]))\n",
    "print(subreddit_cosine_sims.shape[0] * len([i for i in most_similar_user[none_user_indices] if i in set(sanders_user_indices)])/(len(sanders_user_indices)*len(none_user_indices)))\n",
    "print(len([i for i in most_similar_user[none_user_indices] if i in set(trump_user_indices)]))\n",
    "print(subreddit_cosine_sims.shape[0] * len([i for i in most_similar_user[none_user_indices] if i in set(trump_user_indices)])/(len(none_user_indices)*len(trump_user_indices)))\n",
    "print(len([i for i in most_similar_user[none_user_indices] if i in set(clinton_user_indices)]))\n",
    "print(subreddit_cosine_sims.shape[0] * len([i for i in most_similar_user[none_user_indices] if i in set(clinton_user_indices)])/(len(clinton_user_indices)*len(none_user_indices)))\n",
    "print(len([i for i in most_similar_user[none_user_indices] if i in set(none_user_indices)]))\n",
    "print(subreddit_cosine_sims.shape[0] * len([i for i in most_similar_user[none_user_indices] if i in set(none_user_indices)])/(len(none_user_indices)*len(none_user_indices)))\n"
   ]
  },
  {
   "cell_type": "code",
   "execution_count": 90,
   "metadata": {},
   "outputs": [],
   "source": [
    "sanders_sanders_sims = []\n",
    "\n",
    "for i in range(len(sanders_user_indices)):\n",
    "    for j in range(i+1, len(sanders_user_indices)):\n",
    "        sanders_sanders_sims.append(subreddit_cosine_sims[sanders_user_indices[i],sanders_user_indices[j]])"
   ]
  },
  {
   "cell_type": "code",
   "execution_count": 91,
   "metadata": {},
   "outputs": [
    {
     "data": {
      "image/png": "[encoded data removed]",
      "text/plain": [
       "<Figure size 432x288 with 1 Axes>"
      ]
     },
     "metadata": {
      "needs_background": "light"
     },
     "output_type": "display_data"
    }
   ],
   "source": [
    "plt.hist(sanders_sanders_sims, range = (0, 1))\n",
    "plt.show()"
   ]
  },
  {
   "cell_type": "code",
   "execution_count": 92,
   "metadata": {},
   "outputs": [],
   "source": [
    "trump_trump_sims = []\n",
    "\n",
    "for i in range(len(trump_user_indices)):\n",
    "    for j in range(i+1, len(trump_user_indices)):\n",
    "        trump_trump_sims.append(subreddit_cosine_sims[trump_user_indices[i],trump_user_indices[j]])"
   ]
  },
  {
   "cell_type": "code",
   "execution_count": 93,
   "metadata": {},
   "outputs": [
    {
     "data": {
      "image/png": "[encoded data removed]",
      "text/plain": [
       "<Figure size 432x288 with 1 Axes>"
      ]
     },
     "metadata": {
      "needs_background": "light"
     },
     "output_type": "display_data"
    }
   ],
   "source": [
    "plt.hist(trump_trump_sims, range = (0,1))\n",
    "plt.show()"
   ]
  },
  {
   "cell_type": "code",
   "execution_count": 98,
   "metadata": {},
   "outputs": [],
   "source": [
    "clinton_clinton_sims = []\n",
    "\n",
    "for i in range(len(clinton_user_indices)):\n",
    "    for j in range(i+1, len(clinton_user_indices)):\n",
    "        clinton_clinton_sims.append(subreddit_cosine_sims[clinton_user_indices[i],clinton_user_indices[j]])"
   ]
  },
  {
   "cell_type": "code",
   "execution_count": 99,
   "metadata": {
    "scrolled": false
   },
   "outputs": [
    {
     "data": {
      "image/png": "[encoded data removed]",
      "text/plain": [
       "<Figure size 432x288 with 1 Axes>"
      ]
     },
     "metadata": {
      "needs_background": "light"
     },
     "output_type": "display_data"
    }
   ],
   "source": [
    "plt.hist(clinton_clinton_sims, range = (0,1))\n",
    "plt.show()"
   ]
  },
  {
   "cell_type": "code",
   "execution_count": 97,
   "metadata": {},
   "outputs": [
    {
     "data": {
      "image/png": "[encoded data removed]",
      "text/plain": [
       "<Figure size 432x288 with 1 Axes>"
      ]
     },
     "metadata": {
      "needs_background": "light"
     },
     "output_type": "display_data"
    }
   ],
   "source": [
    "none_none_sims = []\n",
    "\n",
    "for i in range(len(none_user_indices)):\n",
    "    for j in range(i+1, len(none_user_indices)):\n",
    "        none_none_sims.append(subreddit_cosine_sims[none_user_indices[i],none_user_indices[j]])\n",
    "        \n",
    "plt.hist(none_none_sims, range = (0,1))\n",
    "plt.show()"
   ]
  },
  {
   "cell_type": "code",
   "execution_count": 103,
   "metadata": {},
   "outputs": [
    {
     "data": {
      "image/png": "[encoded data removed]",
      "text/plain": [
       "<Figure size 432x288 with 1 Axes>"
      ]
     },
     "metadata": {
      "needs_background": "light"
     },
     "output_type": "display_data"
    }
   ],
   "source": [
    "sanders_trump_sims = []\n",
    "\n",
    "for i in sanders_user_indices:\n",
    "    for j in trump_user_indices:\n",
    "        if i not in trump_user_indices and j not in sanders_user_indices:\n",
    "            sanders_trump_sims.append(subreddit_cosine_sims[i,j])\n",
    "        \n",
    "plt.hist(sanders_trump_sims, range = (0,1))\n",
    "plt.show()"
   ]
  },
  {
   "cell_type": "code",
   "execution_count": 104,
   "metadata": {},
   "outputs": [
    {
     "data": {
      "image/png": "[encoded data removed]",
      "text/plain": [
       "<Figure size 432x288 with 1 Axes>"
      ]
     },
     "metadata": {
      "needs_background": "light"
     },
     "output_type": "display_data"
    }
   ],
   "source": [
    "sanders_clinton_sims = []\n",
    "\n",
    "for i in sanders_user_indices:\n",
    "    for j in clinton_user_indices:\n",
    "        if i not in clinton_user_indices and j not in sanders_user_indices:\n",
    "            sanders_clinton_sims.append(subreddit_cosine_sims[i,j])\n",
    "        \n",
    "plt.hist(sanders_clinton_sims, range = (0,1))\n",
    "plt.show()"
   ]
  },
  {
   "cell_type": "code",
   "execution_count": 105,
   "metadata": {
    "scrolled": true
   },
   "outputs": [
    {
     "data": {
      "image/png": "[encoded data removed]",
      "text/plain": [
       "<Figure size 432x288 with 1 Axes>"
      ]
     },
     "metadata": {
      "needs_background": "light"
     },
     "output_type": "display_data"
    }
   ],
   "source": [
    "clinton_trump_sims = []\n",
    "\n",
    "for i in clinton_user_indices:\n",
    "    for j in trump_user_indices:\n",
    "        if i not in trump_user_indices and j not in clinton_user_indices:\n",
    "            clinton_trump_sims.append(subreddit_cosine_sims[i,j])\n",
    "        \n",
    "plt.hist(clinton_trump_sims, range = (0,1))\n",
    "plt.show()"
   ]
  },
  {
   "cell_type": "markdown",
   "metadata": {},
   "source": [
    "## Try 10 comments per user"
   ]
  },
  {
   "cell_type": "code",
   "execution_count": 15,
   "metadata": {},
   "outputs": [
    {
     "data": {
      "text/plain": [
       "7957"
      ]
     },
     "execution_count": 15,
     "metadata": {},
     "output_type": "execute_result"
    }
   ],
   "source": [
    "len([i for i in author_index_lists if len(i) >= 5])"
   ]
  },
  {
   "cell_type": "code",
   "execution_count": 16,
   "metadata": {},
   "outputs": [
    {
     "name": "stdout",
     "output_type": "stream",
     "text": [
      "5254\n"
     ]
    }
   ],
   "source": [
    "print(len([i for i in author_index_lists if len(i) >= 10]))"
   ]
  },
  {
   "cell_type": "code",
   "execution_count": 13,
   "metadata": {},
   "outputs": [
    {
     "name": "stdout",
     "output_type": "stream",
     "text": [
      "1724\n"
     ]
    }
   ],
   "source": [
    "print(len([i for i in author_index_lists if len(i) >= 50]))"
   ]
  },
  {
   "cell_type": "code",
   "execution_count": 23,
   "metadata": {},
   "outputs": [
    {
     "name": "stdout",
     "output_type": "stream",
     "text": [
      "1134\n",
      "532\n",
      "108\n",
      "2319\n"
     ]
    }
   ],
   "source": [
    "print(len([i for i in range(len(author_index_lists)) if len(author_index_lists[i]) >= 10 and i in sanders_user_indices]))\n",
    "print(len([i for i in range(len(author_index_lists)) if len(author_index_lists[i]) >= 10 and i in trump_user_indices]))\n",
    "print(len([i for i in range(len(author_index_lists)) if len(author_index_lists[i]) >= 10 and i in clinton_user_indices]))\n",
    "print(len([i for i in range(len(author_index_lists)) if len(author_index_lists[i]) >= 10 and i in none_user_indices]))\n"
   ]
  },
  {
   "cell_type": "code",
   "execution_count": 24,
   "metadata": {},
   "outputs": [
    {
     "name": "stdout",
     "output_type": "stream",
     "text": [
      "1296\n",
      "644\n",
      "123\n",
      "3920\n"
     ]
    }
   ],
   "source": [
    "print(len([i for i in range(len(author_index_lists)) if len(author_index_lists[i]) >= 5 and i in sanders_user_indices]))\n",
    "print(len([i for i in range(len(author_index_lists)) if len(author_index_lists[i]) >= 5 and i in trump_user_indices]))\n",
    "print(len([i for i in range(len(author_index_lists)) if len(author_index_lists[i]) >= 5 and i in clinton_user_indices]))\n",
    "print(len([i for i in range(len(author_index_lists)) if len(author_index_lists[i]) >= 5 and i in none_user_indices]))\n"
   ]
  },
  {
   "cell_type": "code",
   "execution_count": 20,
   "metadata": {},
   "outputs": [],
   "source": [
    "user_tfidf_m = lil_matrix((len([i for i in author_index_lists if len(i) >= 10]), comment_tfidf.shape[1]))"
   ]
  },
  {
   "cell_type": "code",
   "execution_count": 24,
   "metadata": {},
   "outputs": [],
   "source": [
    "good_indices = []\n",
    "idx = 0\n",
    "for i in range(len(author_names)):\n",
    "    if len(author_index_lists[i]) >= 10:\n",
    "        curr_indices = random.sample(author_index_lists[i], 10)\n",
    "        user_tfidf_m[idx] = comment_tfidf[curr_indices].sum(axis=0)\n",
    "        good_indices.append(i)\n",
    "        idx += 1\n",
    "        "
   ]
  },
  {
   "cell_type": "code",
   "execution_count": 25,
   "metadata": {},
   "outputs": [],
   "source": [
    "user_tfidf_m = csr_matrix(user_tfidf_m)\n",
    "user_tfidf_norms_m = np.zeros(user_tfidf_m.shape[0])\n",
    "user_tfidf_norms_m = norm(user_tfidf_m.toarray(), axis=1)"
   ]
  },
  {
   "cell_type": "code",
   "execution_count": 26,
   "metadata": {},
   "outputs": [],
   "source": [
    "user_tfidf_normalized_m = csr_matrix(user_tfidf_m / user_tfidf_norms_m[:, np.newaxis])"
   ]
  },
  {
   "cell_type": "code",
   "execution_count": 27,
   "metadata": {},
   "outputs": [],
   "source": [
    "with open(\"stored_variables/users_with_10_comment_indices.pickle\", 'wb') as f:\n",
    "    pickle.dump(good_indices, f)"
   ]
  },
  {
   "cell_type": "code",
   "execution_count": 28,
   "metadata": {},
   "outputs": [],
   "source": [
    "with open(\"stored_variables/frequent_user_comment_tfidf_normalized.pickle\", 'wb') as f:\n",
    "    pickle.dump(user_tfidf_normalized_m, f)"
   ]
  },
  {
   "cell_type": "code",
   "execution_count": 29,
   "metadata": {},
   "outputs": [],
   "source": [
    "subreddit_cosine_sims_m = user_tfidf_normalized_m.dot(csc_matrix(user_tfidf_normalized_m.T)).toarray()\n"
   ]
  },
  {
   "cell_type": "code",
   "execution_count": 30,
   "metadata": {},
   "outputs": [],
   "source": [
    "for i in range(user_tfidf_normalized_m.shape[0]):\n",
    "    subreddit_cosine_sims_m[i,i] = 0"
   ]
  },
  {
   "cell_type": "code",
   "execution_count": 31,
   "metadata": {},
   "outputs": [
    {
     "data": {
      "text/plain": [
       "array([[0.        , 0.23296253, 0.1522711 , 0.17773639, 0.15187619,\n",
       "        0.2068265 , 0.28299683, 0.22099289, 0.20746685, 0.19800059],\n",
       "       [0.23296253, 0.        , 0.26781514, 0.25338534, 0.24480639,\n",
       "        0.30596919, 0.34499202, 0.30961835, 0.32104205, 0.30888202],\n",
       "       [0.1522711 , 0.26781514, 0.        , 0.17595385, 0.1632901 ,\n",
       "        0.20472267, 0.25005204, 0.20378902, 0.20547348, 0.19921522],\n",
       "       [0.17773639, 0.25338534, 0.17595385, 0.        , 0.22497614,\n",
       "        0.2280931 , 0.37818518, 0.27795208, 0.23130878, 0.26689967],\n",
       "       [0.15187619, 0.24480639, 0.1632901 , 0.22497614, 0.        ,\n",
       "        0.25795664, 0.29549505, 0.23800409, 0.24744925, 0.23167314],\n",
       "       [0.2068265 , 0.30596919, 0.20472267, 0.2280931 , 0.25795664,\n",
       "        0.        , 0.34395132, 0.28882391, 0.32444613, 0.27595571],\n",
       "       [0.28299683, 0.34499202, 0.25005204, 0.37818518, 0.29549505,\n",
       "        0.34395132, 0.        , 0.38775498, 0.347686  , 0.37254063],\n",
       "       [0.22099289, 0.30961835, 0.20378902, 0.27795208, 0.23800409,\n",
       "        0.28882391, 0.38775498, 0.        , 0.29928687, 0.3106836 ],\n",
       "       [0.20746685, 0.32104205, 0.20547348, 0.23130878, 0.24744925,\n",
       "        0.32444613, 0.347686  , 0.29928687, 0.        , 0.26170301],\n",
       "       [0.19800059, 0.30888202, 0.19921522, 0.26689967, 0.23167314,\n",
       "        0.27595571, 0.37254063, 0.3106836 , 0.26170301, 0.        ]])"
      ]
     },
     "execution_count": 31,
     "metadata": {},
     "output_type": "execute_result"
    }
   ],
   "source": [
    "subreddit_cosine_sims_m[:10, :10]"
   ]
  },
  {
   "cell_type": "code",
   "execution_count": 32,
   "metadata": {},
   "outputs": [],
   "source": [
    "most_similar_user = np.zeros(user_tfidf_normalized_m.shape[0], dtype = np.int32)\n",
    "for i in range(user_tfidf_normalized_m.shape[0]):\n",
    "    most_similar_user[i] = np.argsort(subreddit_cosine_sims_m[i])[-1]"
   ]
  },
  {
   "cell_type": "code",
   "execution_count": 33,
   "metadata": {},
   "outputs": [
    {
     "data": {
      "text/plain": [
       "array([3214, 4853, 4853,  171, 1031,  945,  893,  893, 4853,  893],\n",
       "      dtype=int32)"
      ]
     },
     "execution_count": 33,
     "metadata": {},
     "output_type": "execute_result"
    }
   ],
   "source": [
    "most_similar_user[:10]"
   ]
  },
  {
   "cell_type": "code",
   "execution_count": 34,
   "metadata": {
    "scrolled": true
   },
   "outputs": [
    {
     "data": {
      "text/plain": [
       "[0.34224102132169537,\n",
       " 0.46300521972055825,\n",
       " 0.34260046997618465,\n",
       " 0.41147520831165674,\n",
       " 0.3568008027544908,\n",
       " 0.420452035526613,\n",
       " 0.5582350979254797,\n",
       " 0.4465005985341497,\n",
       " 0.4461269203422217,\n",
       " 0.4366057257900326]"
      ]
     },
     "execution_count": 34,
     "metadata": {},
     "output_type": "execute_result"
    }
   ],
   "source": [
    "[subreddit_cosine_sims_m[i, most_similar_user[i]] for i in range(10)]"
   ]
  },
  {
   "cell_type": "code",
   "execution_count": 35,
   "metadata": {},
   "outputs": [],
   "source": [
    "author_names = [author_names[i] for i in good_indices]\n",
    "subreddit_tf = subreddit_tf[good_indices, :]"
   ]
  },
  {
   "cell_type": "code",
   "execution_count": 36,
   "metadata": {},
   "outputs": [],
   "source": [
    "author_reverse_dict = {author_names[i]:i for i in range(len(author_names))}"
   ]
  },
  {
   "cell_type": "code",
   "execution_count": 37,
   "metadata": {},
   "outputs": [],
   "source": [
    "num_sanders = {k:(subreddit_tf[author_reverse_dict[k], subreddit_reverse_dict['sandersforpresident']]) for k in author_names}\n",
    "num_trump = {k:(subreddit_tf[author_reverse_dict[k], subreddit_reverse_dict['the_donald']]) for k in author_names}\n",
    "num_clinton = {k:(subreddit_tf[author_reverse_dict[k], subreddit_reverse_dict['hillaryclinton']]) for k in author_names}\n",
    "num_politics = {k:(subreddit_tf[author_reverse_dict[k], subreddit_reverse_dict['politics']]) for k in author_names}\n"
   ]
  },
  {
   "cell_type": "code",
   "execution_count": 38,
   "metadata": {},
   "outputs": [],
   "source": [
    "comment_threshold = 10"
   ]
  },
  {
   "cell_type": "code",
   "execution_count": 39,
   "metadata": {},
   "outputs": [],
   "source": [
    "sanders_user_indices = [i for i in range(subreddit_tf.shape[0]) if num_sanders[author_names[i]] >= comment_threshold]\n",
    "trump_user_indices = [i for i in range(subreddit_tf.shape[0]) if num_trump[author_names[i]] >= comment_threshold]\n",
    "clinton_user_indices = [i for i in range(subreddit_tf.shape[0]) if num_clinton[author_names[i]] >= comment_threshold]"
   ]
  },
  {
   "cell_type": "code",
   "execution_count": 40,
   "metadata": {},
   "outputs": [],
   "source": [
    "none_user_indices = [i for i in range(subreddit_tf.shape[0]) if num_sanders[author_names[i]] == 0 and \n",
    "                     num_trump[author_names[i]] == 0 and\n",
    "                     num_clinton[author_names[i]] == 0]"
   ]
  },
  {
   "cell_type": "code",
   "execution_count": 41,
   "metadata": {},
   "outputs": [
    {
     "name": "stdout",
     "output_type": "stream",
     "text": [
      "1134\n",
      "532\n",
      "108\n",
      "2319\n"
     ]
    }
   ],
   "source": [
    "print(len(sanders_user_indices))\n",
    "print(len(trump_user_indices))\n",
    "print(len(clinton_user_indices))\n",
    "print(len(none_user_indices))"
   ]
  },
  {
   "cell_type": "code",
   "execution_count": 159,
   "metadata": {},
   "outputs": [
    {
     "name": "stdout",
     "output_type": "stream",
     "text": [
      "190\n",
      "66\n",
      "18\n"
     ]
    }
   ],
   "source": [
    "print(len(set(sanders_user_indices).intersection(trump_user_indices)))\n",
    "print(len(set(sanders_user_indices).intersection(clinton_user_indices)))\n",
    "print(len(set(trump_user_indices).intersection(clinton_user_indices)))"
   ]
  },
  {
   "cell_type": "code",
   "execution_count": 170,
   "metadata": {},
   "outputs": [
    {
     "data": {
      "text/plain": [
       "0.19288444992544784"
      ]
     },
     "execution_count": 170,
     "metadata": {},
     "output_type": "execute_result"
    }
   ],
   "source": [
    "np.sum(subreddit_cosine_sims_m[sanders_user_indices, :][:,sanders_user_indices]) / \\\n",
    "(len(sanders_user_indices) * (len(sanders_user_indices)-1))"
   ]
  },
  {
   "cell_type": "code",
   "execution_count": 171,
   "metadata": {},
   "outputs": [
    {
     "data": {
      "text/plain": [
       "0.17563576412155807"
      ]
     },
     "execution_count": 171,
     "metadata": {},
     "output_type": "execute_result"
    }
   ],
   "source": [
    "np.sum(subreddit_cosine_sims_m[trump_user_indices, :][:,trump_user_indices]) / \\\n",
    "(len(trump_user_indices) * (len(trump_user_indices)-1))"
   ]
  },
  {
   "cell_type": "code",
   "execution_count": 172,
   "metadata": {},
   "outputs": [
    {
     "data": {
      "text/plain": [
       "0.22364639482724233"
      ]
     },
     "execution_count": 172,
     "metadata": {},
     "output_type": "execute_result"
    }
   ],
   "source": [
    "np.sum(subreddit_cosine_sims_m[clinton_user_indices, :][:,clinton_user_indices]) / \\\n",
    "(len(clinton_user_indices) * (len(clinton_user_indices)-1))"
   ]
  },
  {
   "cell_type": "code",
   "execution_count": 173,
   "metadata": {},
   "outputs": [
    {
     "data": {
      "text/plain": [
       "0.19935499999311546"
      ]
     },
     "execution_count": 173,
     "metadata": {},
     "output_type": "execute_result"
    }
   ],
   "source": [
    "np.sum(subreddit_cosine_sims_m[none_user_indices, :][:,none_user_indices]) / \\\n",
    "(len(none_user_indices) * (len(none_user_indices)-1))"
   ]
  },
  {
   "cell_type": "code",
   "execution_count": 174,
   "metadata": {},
   "outputs": [
    {
     "data": {
      "text/plain": [
       "0.19392449845126963"
      ]
     },
     "execution_count": 174,
     "metadata": {},
     "output_type": "execute_result"
    }
   ],
   "source": [
    "np.sum(subreddit_cosine_sims_m) / (subreddit_cosine_sims_m.shape[0] * (subreddit_cosine_sims_m.shape[1] - 1))"
   ]
  },
  {
   "cell_type": "code",
   "execution_count": 175,
   "metadata": {},
   "outputs": [
    {
     "name": "stdout",
     "output_type": "stream",
     "text": [
      "0.1827294648398532\n",
      "0.20716723134327786\n",
      "0.19510258557366592\n",
      "\n",
      "0.19488556805113727\n",
      "0.18483218990890482\n",
      "0.2079241832164273\n"
     ]
    }
   ],
   "source": [
    "print(np.sum(subreddit_cosine_sims_m[sanders_user_indices, :][:,trump_user_indices]) / \\\n",
    "((len(sanders_user_indices) * len(trump_user_indices)) - \\\n",
    "len(set(sanders_user_indices).intersection(trump_user_indices))))\n",
    "\n",
    "print(np.sum(subreddit_cosine_sims_m[sanders_user_indices, :][:,clinton_user_indices]) / \\\n",
    "((len(sanders_user_indices) * len(clinton_user_indices)) - \\\n",
    "len(set(sanders_user_indices).intersection(clinton_user_indices))))\n",
    "\n",
    "print(np.sum(subreddit_cosine_sims_m[clinton_user_indices, :][:,trump_user_indices]) / \\\n",
    "((len(clinton_user_indices) * len(trump_user_indices)) - \\\n",
    "len(set(clinton_user_indices).intersection(trump_user_indices))))\n",
    "\n",
    "print()\n",
    "print(np.sum(subreddit_cosine_sims_m[sanders_user_indices, :][:,none_user_indices]) / \\\n",
    "((len(sanders_user_indices) * len(none_user_indices))))\n",
    "print(np.sum(subreddit_cosine_sims_m[trump_user_indices, :][:,none_user_indices]) / \\\n",
    "((len(trump_user_indices) * len(none_user_indices))))\n",
    "print(np.sum(subreddit_cosine_sims_m[clinton_user_indices, :][:,none_user_indices]) / \\\n",
    "((len(clinton_user_indices) * len(none_user_indices))))"
   ]
  },
  {
   "cell_type": "code",
   "execution_count": 176,
   "metadata": {},
   "outputs": [
    {
     "name": "stdout",
     "output_type": "stream",
     "text": [
      "47\n",
      "0.04144620811287478\n",
      "12\n",
      "0.022556390977443608\n",
      "7\n",
      "0.06481481481481481\n",
      "\n",
      "28\n",
      "0.024691358024691357\n",
      "16\n",
      "0.03007518796992481\n",
      "5\n",
      "0.046296296296296294\n",
      "\n",
      "10\n",
      "0.008818342151675485\n",
      "2\n",
      "0.0037593984962406013\n",
      "0\n",
      "0.0\n"
     ]
    }
   ],
   "source": [
    "print(len(set(most_similar_user[sanders_user_indices]).intersection(sanders_user_indices)))\n",
    "print(len(set(most_similar_user[sanders_user_indices]).intersection(sanders_user_indices))/len(sanders_user_indices))\n",
    "print(len(set(most_similar_user[sanders_user_indices]).intersection(trump_user_indices)))\n",
    "print(len(set(most_similar_user[sanders_user_indices]).intersection(trump_user_indices))/len(trump_user_indices))\n",
    "print(len(set(most_similar_user[sanders_user_indices]).intersection(clinton_user_indices)))\n",
    "print(len(set(most_similar_user[sanders_user_indices]).intersection(clinton_user_indices))/len(clinton_user_indices))\n",
    "print()\n",
    "print(len(set(most_similar_user[trump_user_indices]).intersection(sanders_user_indices)))\n",
    "print(len(set(most_similar_user[trump_user_indices]).intersection(sanders_user_indices))/len(sanders_user_indices))\n",
    "print(len(set(most_similar_user[trump_user_indices]).intersection(trump_user_indices)))\n",
    "print(len(set(most_similar_user[trump_user_indices]).intersection(trump_user_indices))/len(trump_user_indices))\n",
    "print(len(set(most_similar_user[trump_user_indices]).intersection(clinton_user_indices)))\n",
    "print(len(set(most_similar_user[trump_user_indices]).intersection(clinton_user_indices))/len(clinton_user_indices))\n",
    "print()\n",
    "print(len(set(most_similar_user[clinton_user_indices]).intersection(sanders_user_indices)))\n",
    "print(len(set(most_similar_user[clinton_user_indices]).intersection(sanders_user_indices))/len(sanders_user_indices))\n",
    "print(len(set(most_similar_user[clinton_user_indices]).intersection(trump_user_indices)))\n",
    "print(len(set(most_similar_user[clinton_user_indices]).intersection(trump_user_indices))/len(trump_user_indices))\n",
    "print(len(set(most_similar_user[clinton_user_indices]).intersection(clinton_user_indices)))\n",
    "print(len(set(most_similar_user[clinton_user_indices]).intersection(clinton_user_indices))/len(clinton_user_indices))\n",
    "\n"
   ]
  },
  {
   "cell_type": "code",
   "execution_count": 177,
   "metadata": {},
   "outputs": [],
   "source": [
    "sanders_sanders_sims = []\n",
    "\n",
    "for i in range(len(sanders_user_indices)):\n",
    "    for j in range(i+1, len(sanders_user_indices)):\n",
    "        sanders_sanders_sims.append(subreddit_cosine_sims_m[sanders_user_indices[i],sanders_user_indices[j]])"
   ]
  },
  {
   "cell_type": "code",
   "execution_count": 178,
   "metadata": {},
   "outputs": [
    {
     "data": {
      "image/png": "[encoded data removed]",
      "text/plain": [
       "<Figure size 432x288 with 1 Axes>"
      ]
     },
     "metadata": {
      "needs_background": "light"
     },
     "output_type": "display_data"
    }
   ],
   "source": [
    "plt.hist(sanders_sanders_sims, range = (0, 1))\n",
    "plt.show()"
   ]
  },
  {
   "cell_type": "code",
   "execution_count": 179,
   "metadata": {},
   "outputs": [],
   "source": [
    "trump_trump_sims = []\n",
    "\n",
    "for i in range(len(trump_user_indices)):\n",
    "    for j in range(i+1, len(trump_user_indices)):\n",
    "        trump_trump_sims.append(subreddit_cosine_sims_m[trump_user_indices[i],trump_user_indices[j]])"
   ]
  },
  {
   "cell_type": "code",
   "execution_count": 180,
   "metadata": {},
   "outputs": [
    {
     "data": {
      "image/png": "[encoded data removed]",
      "text/plain": [
       "<Figure size 432x288 with 1 Axes>"
      ]
     },
     "metadata": {
      "needs_background": "light"
     },
     "output_type": "display_data"
    }
   ],
   "source": [
    "plt.hist(trump_trump_sims, range = (0,1))\n",
    "plt.show()"
   ]
  },
  {
   "cell_type": "code",
   "execution_count": 183,
   "metadata": {},
   "outputs": [],
   "source": [
    "clinton_clinton_sims = []\n",
    "\n",
    "for i in range(len(clinton_user_indices)):\n",
    "    for j in range(i+1, len(clinton_user_indices)):\n",
    "        clinton_clinton_sims.append(subreddit_cosine_sims_m[clinton_user_indices[i],clinton_user_indices[j]])"
   ]
  },
  {
   "cell_type": "code",
   "execution_count": 184,
   "metadata": {
    "scrolled": false
   },
   "outputs": [
    {
     "data": {
      "image/png": "[encoded data removed]",
      "text/plain": [
       "<Figure size 432x288 with 1 Axes>"
      ]
     },
     "metadata": {
      "needs_background": "light"
     },
     "output_type": "display_data"
    }
   ],
   "source": [
    "plt.hist(clinton_clinton_sims, range = (0,1))\n",
    "plt.show()"
   ]
  },
  {
   "cell_type": "code",
   "execution_count": 185,
   "metadata": {},
   "outputs": [
    {
     "data": {
      "image/png": "[encoded data removed]",
      "text/plain": [
       "<Figure size 432x288 with 1 Axes>"
      ]
     },
     "metadata": {
      "needs_background": "light"
     },
     "output_type": "display_data"
    }
   ],
   "source": [
    "none_none_sims = []\n",
    "\n",
    "for i in range(len(none_user_indices)):\n",
    "    for j in range(i+1, len(none_user_indices)):\n",
    "        none_none_sims.append(subreddit_cosine_sims_m[none_user_indices[i],none_user_indices[j]])\n",
    "        \n",
    "plt.hist(none_none_sims, range = (0,1))\n",
    "plt.show()"
   ]
  },
  {
   "cell_type": "code",
   "execution_count": 186,
   "metadata": {},
   "outputs": [
    {
     "data": {
      "image/png": "[encoded data removed]",
      "text/plain": [
       "<Figure size 432x288 with 1 Axes>"
      ]
     },
     "metadata": {
      "needs_background": "light"
     },
     "output_type": "display_data"
    }
   ],
   "source": [
    "sanders_trump_sims = []\n",
    "\n",
    "for i in sanders_user_indices:\n",
    "    for j in trump_user_indices:\n",
    "        if i not in trump_user_indices and j not in sanders_user_indices:\n",
    "            sanders_trump_sims.append(subreddit_cosine_sims_m[i,j])\n",
    "        \n",
    "plt.hist(sanders_trump_sims, range = (0,1))\n",
    "plt.show()"
   ]
  },
  {
   "cell_type": "code",
   "execution_count": 187,
   "metadata": {},
   "outputs": [
    {
     "data": {
      "image/png": "[encoded data removed]",
      "text/plain": [
       "<Figure size 432x288 with 1 Axes>"
      ]
     },
     "metadata": {
      "needs_background": "light"
     },
     "output_type": "display_data"
    }
   ],
   "source": [
    "sanders_clinton_sims = []\n",
    "\n",
    "for i in sanders_user_indices:\n",
    "    for j in clinton_user_indices:\n",
    "        if i not in clinton_user_indices and j not in sanders_user_indices:\n",
    "            sanders_clinton_sims.append(subreddit_cosine_sims_m[i,j])\n",
    "        \n",
    "plt.hist(sanders_clinton_sims, range = (0,1))\n",
    "plt.show()"
   ]
  },
  {
   "cell_type": "code",
   "execution_count": 188,
   "metadata": {
    "scrolled": true
   },
   "outputs": [
    {
     "data": {
      "image/png": "[encoded data removed]",
      "text/plain": [
       "<Figure size 432x288 with 1 Axes>"
      ]
     },
     "metadata": {
      "needs_background": "light"
     },
     "output_type": "display_data"
    }
   ],
   "source": [
    "clinton_trump_sims = []\n",
    "\n",
    "for i in clinton_user_indices:\n",
    "    for j in trump_user_indices:\n",
    "        if i not in trump_user_indices and j not in clinton_user_indices:\n",
    "            clinton_trump_sims.append(subreddit_cosine_sims_m[i,j])\n",
    "        \n",
    "plt.hist(clinton_trump_sims, range = (0,1))\n",
    "plt.show()"
   ]
  },
  {
   "cell_type": "markdown",
   "metadata": {},
   "source": [
    "## Use SVD"
   ]
  },
  {
   "cell_type": "code",
   "execution_count": 30,
   "metadata": {},
   "outputs": [],
   "source": [
    "user_svd = TruncatedSVD(n_components = 100)\n",
    "user_svd_points = user_svd.fit_transform(user_tfidf_m)"
   ]
  },
  {
   "cell_type": "code",
   "execution_count": 31,
   "metadata": {},
   "outputs": [],
   "source": [
    "user_svd_norms = norm(user_svd_points, axis=1)"
   ]
  },
  {
   "cell_type": "code",
   "execution_count": 32,
   "metadata": {},
   "outputs": [
    {
     "data": {
      "text/plain": [
       "array([1.89307936, 2.52519168, 1.63551714, 2.88794043, 2.19299417,\n",
       "       2.55922911, 3.29753988, 2.55980947, 2.49394865, 2.50761719])"
      ]
     },
     "execution_count": 32,
     "metadata": {},
     "output_type": "execute_result"
    }
   ],
   "source": [
    "user_svd_norms[:10]"
   ]
  },
  {
   "cell_type": "code",
   "execution_count": 33,
   "metadata": {},
   "outputs": [],
   "source": [
    "user_svd_normalized = user_svd_points / user_svd_norms[:, np.newaxis]"
   ]
  },
  {
   "cell_type": "code",
   "execution_count": 34,
   "metadata": {},
   "outputs": [
    {
     "data": {
      "text/plain": [
       "(5254, 100)"
      ]
     },
     "execution_count": 34,
     "metadata": {},
     "output_type": "execute_result"
    }
   ],
   "source": [
    "user_svd_normalized.shape"
   ]
  },
  {
   "cell_type": "code",
   "execution_count": 35,
   "metadata": {},
   "outputs": [],
   "source": [
    "svd_cosine_sims = np.zeros((user_svd_normalized.shape[0], user_svd_normalized.shape[0]))"
   ]
  },
  {
   "cell_type": "code",
   "execution_count": 36,
   "metadata": {},
   "outputs": [],
   "source": [
    "for i in range(5):\n",
    "    max_index1 = min((i+1)*1000, user_svd_normalized.shape[0])\n",
    "    chunk1 = csr_matrix(user_svd_normalized[i*1000 : max_index1, :])\n",
    "    for j in range(5):\n",
    "        max_index2 = min((j+1)*1000, user_svd_normalized.shape[0])\n",
    "        chunk2 = csc_matrix(user_svd_normalized[j*1000 : max_index2, :].T)\n",
    "        svd_cosine_sims[i*1000 : max_index1, j*1000 : max_index2] = chunk1.dot(chunk2).toarray()\n"
   ]
  },
  {
   "cell_type": "code",
   "execution_count": 51,
   "metadata": {},
   "outputs": [
    {
     "data": {
      "text/plain": [
       "array([[1.        , 0.57972281, 0.49795855, 0.43436439, 0.49201049,\n",
       "        0.57005166, 0.59798914, 0.59204396, 0.54637544, 0.53264623],\n",
       "       [0.57972281, 1.        , 0.712029  , 0.57515171, 0.56638068,\n",
       "        0.70750068, 0.71579805, 0.70666534, 0.68918124, 0.72845027],\n",
       "       [0.49795855, 0.712029  , 1.        , 0.52312281, 0.51186748,\n",
       "        0.57994852, 0.60773308, 0.61881503, 0.59220709, 0.57279339],\n",
       "       [0.43436439, 0.57515171, 0.52312281, 1.        , 0.63280474,\n",
       "        0.56729477, 0.76103662, 0.68353824, 0.543345  , 0.65633422],\n",
       "       [0.49201049, 0.56638068, 0.51186748, 0.63280474, 1.        ,\n",
       "        0.64438446, 0.63974093, 0.63061796, 0.59267539, 0.62480932],\n",
       "       [0.57005166, 0.70750068, 0.57994852, 0.56729477, 0.64438446,\n",
       "        1.        , 0.68664738, 0.66133507, 0.75907916, 0.69687933],\n",
       "       [0.59798914, 0.71579805, 0.60773308, 0.76103662, 0.63974093,\n",
       "        0.68664738, 1.        , 0.82001872, 0.68293801, 0.79367795],\n",
       "       [0.59204396, 0.70666534, 0.61881503, 0.68353824, 0.63061796,\n",
       "        0.66133507, 0.82001872, 1.        , 0.64079023, 0.7833505 ],\n",
       "       [0.54637544, 0.68918124, 0.59220709, 0.543345  , 0.59267539,\n",
       "        0.75907916, 0.68293801, 0.64079023, 1.        , 0.62124399],\n",
       "       [0.53264623, 0.72845027, 0.57279339, 0.65633422, 0.62480932,\n",
       "        0.69687933, 0.79367795, 0.7833505 , 0.62124399, 1.        ]])"
      ]
     },
     "execution_count": 51,
     "metadata": {},
     "output_type": "execute_result"
    }
   ],
   "source": [
    "svd_cosine_sims[:10,:10]"
   ]
  },
  {
   "cell_type": "code",
   "execution_count": 37,
   "metadata": {},
   "outputs": [],
   "source": [
    "for i in range(user_svd_normalized.shape[0]):\n",
    "    svd_cosine_sims[i,i] = 0"
   ]
  },
  {
   "cell_type": "code",
   "execution_count": 38,
   "metadata": {},
   "outputs": [],
   "source": [
    "with open(\"stored_variables/frequent_user_comment_cossims_svd.pickle\", \"wb\") as f:\n",
    "    pickle.dump(svd_cosine_sims, f)"
   ]
  },
  {
   "cell_type": "code",
   "execution_count": 54,
   "metadata": {},
   "outputs": [],
   "source": [
    "most_similar_user_svd = np.zeros(user_svd_normalized.shape[0], dtype = np.int32)"
   ]
  },
  {
   "cell_type": "code",
   "execution_count": 55,
   "metadata": {},
   "outputs": [],
   "source": [
    "for i in range(user_svd_normalized.shape[0]):\n",
    "    most_similar_user_svd[i] = np.argsort(svd_cosine_sims[i])[-1]"
   ]
  },
  {
   "cell_type": "code",
   "execution_count": 56,
   "metadata": {},
   "outputs": [
    {
     "data": {
      "text/plain": [
       "array([  18, 3005, 4230, 3633, 2699,  542, 1609,  893, 2136, 4340],\n",
       "      dtype=int32)"
      ]
     },
     "execution_count": 56,
     "metadata": {},
     "output_type": "execute_result"
    }
   ],
   "source": [
    "most_similar_user_svd[:10]"
   ]
  },
  {
   "cell_type": "code",
   "execution_count": 57,
   "metadata": {
    "scrolled": false
   },
   "outputs": [
    {
     "data": {
      "text/plain": [
       "[0.7672572578578385,\n",
       " 0.8212986327929168,\n",
       " 0.7600354701332396,\n",
       " 0.7999797509282405,\n",
       " 0.7784630989520177,\n",
       " 0.8110554817549133,\n",
       " 0.885239245022783,\n",
       " 0.8301737055028666,\n",
       " 0.8141961708263511,\n",
       " 0.8535537065923083]"
      ]
     },
     "execution_count": 57,
     "metadata": {},
     "output_type": "execute_result"
    }
   ],
   "source": [
    "[svd_cosine_sims[i, most_similar_user_svd[i]] for i in range(10)]"
   ]
  },
  {
   "cell_type": "code",
   "execution_count": 58,
   "metadata": {},
   "outputs": [
    {
     "data": {
      "text/plain": [
       "0.4964281613517135"
      ]
     },
     "execution_count": 58,
     "metadata": {},
     "output_type": "execute_result"
    }
   ],
   "source": [
    "np.sum(svd_cosine_sims[sanders_user_indices, :][:,sanders_user_indices]) / \\\n",
    "(len(sanders_user_indices) * (len(sanders_user_indices)-1))"
   ]
  },
  {
   "cell_type": "code",
   "execution_count": 59,
   "metadata": {},
   "outputs": [
    {
     "data": {
      "text/plain": [
       "0.39508596069659346"
      ]
     },
     "execution_count": 59,
     "metadata": {},
     "output_type": "execute_result"
    }
   ],
   "source": [
    "np.sum(svd_cosine_sims[trump_user_indices, :][:,trump_user_indices]) / \\\n",
    "(len(trump_user_indices) * (len(trump_user_indices)-1))"
   ]
  },
  {
   "cell_type": "code",
   "execution_count": 60,
   "metadata": {},
   "outputs": [
    {
     "data": {
      "text/plain": [
       "0.45608366385666205"
      ]
     },
     "execution_count": 60,
     "metadata": {},
     "output_type": "execute_result"
    }
   ],
   "source": [
    "np.sum(svd_cosine_sims[clinton_user_indices, :][:,clinton_user_indices]) / \\\n",
    "(len(clinton_user_indices) * (len(clinton_user_indices)-1))"
   ]
  },
  {
   "cell_type": "code",
   "execution_count": 61,
   "metadata": {},
   "outputs": [
    {
     "data": {
      "text/plain": [
       "0.4917227050700048"
      ]
     },
     "execution_count": 61,
     "metadata": {},
     "output_type": "execute_result"
    }
   ],
   "source": [
    "np.sum(svd_cosine_sims[none_user_indices, :][:,none_user_indices]) / \\\n",
    "(len(none_user_indices) * (len(none_user_indices)-1))"
   ]
  },
  {
   "cell_type": "code",
   "execution_count": 62,
   "metadata": {},
   "outputs": [
    {
     "data": {
      "text/plain": [
       "0.4761455408475069"
      ]
     },
     "execution_count": 62,
     "metadata": {},
     "output_type": "execute_result"
    }
   ],
   "source": [
    "np.sum(svd_cosine_sims) / (svd_cosine_sims.shape[0] * (svd_cosine_sims.shape[1] - 1))"
   ]
  },
  {
   "cell_type": "code",
   "execution_count": 63,
   "metadata": {},
   "outputs": [
    {
     "name": "stdout",
     "output_type": "stream",
     "text": [
      "0.44019929201835234\n",
      "0.4741353100879593\n",
      "0.4177459625472988\n",
      "\n",
      "0.49112726561892406\n",
      "0.43598339682689996\n",
      "0.4674362331042263\n"
     ]
    }
   ],
   "source": [
    "print(np.sum(svd_cosine_sims[sanders_user_indices, :][:,trump_user_indices]) / \\\n",
    "((len(sanders_user_indices) * len(trump_user_indices)) - \\\n",
    "len(set(sanders_user_indices).intersection(trump_user_indices))))\n",
    "\n",
    "print(np.sum(svd_cosine_sims[sanders_user_indices, :][:,clinton_user_indices]) / \\\n",
    "((len(sanders_user_indices) * len(clinton_user_indices)) - \\\n",
    "len(set(sanders_user_indices).intersection(clinton_user_indices))))\n",
    "\n",
    "print(np.sum(svd_cosine_sims[clinton_user_indices, :][:,trump_user_indices]) / \\\n",
    "((len(clinton_user_indices) * len(trump_user_indices)) - \\\n",
    "len(set(clinton_user_indices).intersection(trump_user_indices))))\n",
    "\n",
    "print()\n",
    "print(np.sum(svd_cosine_sims[sanders_user_indices, :][:,none_user_indices]) / \\\n",
    "((len(sanders_user_indices) * len(none_user_indices))))\n",
    "print(np.sum(svd_cosine_sims[trump_user_indices, :][:,none_user_indices]) / \\\n",
    "((len(trump_user_indices) * len(none_user_indices))))\n",
    "print(np.sum(svd_cosine_sims[clinton_user_indices, :][:,none_user_indices]) / \\\n",
    "((len(clinton_user_indices) * len(none_user_indices))))"
   ]
  },
  {
   "cell_type": "code",
   "execution_count": 64,
   "metadata": {},
   "outputs": [
    {
     "name": "stdout",
     "output_type": "stream",
     "text": [
      "186\n",
      "0.164021164021164\n",
      "59\n",
      "0.11090225563909774\n",
      "16\n",
      "0.14814814814814814\n",
      "\n",
      "89\n",
      "0.07848324514991181\n",
      "46\n",
      "0.08646616541353383\n",
      "6\n",
      "0.05555555555555555\n",
      "\n",
      "27\n",
      "0.023809523809523808\n",
      "5\n",
      "0.009398496240601503\n",
      "0\n",
      "0.0\n"
     ]
    }
   ],
   "source": [
    "print(len(set(most_similar_user_svd[sanders_user_indices]).intersection(sanders_user_indices)))\n",
    "print(len(set(most_similar_user_svd[sanders_user_indices]).intersection(sanders_user_indices))/len(sanders_user_indices))\n",
    "print(len(set(most_similar_user_svd[sanders_user_indices]).intersection(trump_user_indices)))\n",
    "print(len(set(most_similar_user_svd[sanders_user_indices]).intersection(trump_user_indices))/len(trump_user_indices))\n",
    "print(len(set(most_similar_user_svd[sanders_user_indices]).intersection(clinton_user_indices)))\n",
    "print(len(set(most_similar_user_svd[sanders_user_indices]).intersection(clinton_user_indices))/len(clinton_user_indices))\n",
    "print()\n",
    "print(len(set(most_similar_user_svd[trump_user_indices]).intersection(sanders_user_indices)))\n",
    "print(len(set(most_similar_user_svd[trump_user_indices]).intersection(sanders_user_indices))/len(sanders_user_indices))\n",
    "print(len(set(most_similar_user_svd[trump_user_indices]).intersection(trump_user_indices)))\n",
    "print(len(set(most_similar_user_svd[trump_user_indices]).intersection(trump_user_indices))/len(trump_user_indices))\n",
    "print(len(set(most_similar_user_svd[trump_user_indices]).intersection(clinton_user_indices)))\n",
    "print(len(set(most_similar_user_svd[trump_user_indices]).intersection(clinton_user_indices))/len(clinton_user_indices))\n",
    "print()\n",
    "print(len(set(most_similar_user_svd[clinton_user_indices]).intersection(sanders_user_indices)))\n",
    "print(len(set(most_similar_user_svd[clinton_user_indices]).intersection(sanders_user_indices))/len(sanders_user_indices))\n",
    "print(len(set(most_similar_user_svd[clinton_user_indices]).intersection(trump_user_indices)))\n",
    "print(len(set(most_similar_user_svd[clinton_user_indices]).intersection(trump_user_indices))/len(trump_user_indices))\n",
    "print(len(set(most_similar_user_svd[clinton_user_indices]).intersection(clinton_user_indices)))\n",
    "print(len(set(most_similar_user_svd[clinton_user_indices]).intersection(clinton_user_indices))/len(clinton_user_indices))\n",
    "\n"
   ]
  },
  {
   "cell_type": "code",
   "execution_count": 65,
   "metadata": {},
   "outputs": [],
   "source": [
    "sanders_sanders_sims = []\n",
    "\n",
    "for i in range(len(sanders_user_indices)):\n",
    "    for j in range(i+1, len(sanders_user_indices)):\n",
    "        sanders_sanders_sims.append(svd_cosine_sims[sanders_user_indices[i],sanders_user_indices[j]])"
   ]
  },
  {
   "cell_type": "code",
   "execution_count": 66,
   "metadata": {},
   "outputs": [
    {
     "data": {
      "image/png": "[encoded data removed]",
      "text/plain": [
       "<Figure size 432x288 with 1 Axes>"
      ]
     },
     "metadata": {
      "needs_background": "light"
     },
     "output_type": "display_data"
    }
   ],
   "source": [
    "plt.hist(sanders_sanders_sims, range = (-1,1))\n",
    "plt.show()"
   ]
  },
  {
   "cell_type": "code",
   "execution_count": 67,
   "metadata": {},
   "outputs": [],
   "source": [
    "trump_trump_sims = []\n",
    "\n",
    "for i in range(len(trump_user_indices)):\n",
    "    for j in range(i+1, len(trump_user_indices)):\n",
    "        trump_trump_sims.append(svd_cosine_sims[trump_user_indices[i],trump_user_indices[j]])"
   ]
  },
  {
   "cell_type": "code",
   "execution_count": 68,
   "metadata": {
    "scrolled": true
   },
   "outputs": [
    {
     "data": {
      "image/png": "[encoded data removed]",
      "text/plain": [
       "<Figure size 432x288 with 1 Axes>"
      ]
     },
     "metadata": {
      "needs_background": "light"
     },
     "output_type": "display_data"
    }
   ],
   "source": [
    "plt.hist(trump_trump_sims, range = (-1,1) )\n",
    "plt.show()"
   ]
  },
  {
   "cell_type": "code",
   "execution_count": 69,
   "metadata": {},
   "outputs": [],
   "source": [
    "clinton_clinton_sims = []\n",
    "\n",
    "for i in range(len(clinton_user_indices)):\n",
    "    for j in range(i+1, len(clinton_user_indices)):\n",
    "        clinton_clinton_sims.append(svd_cosine_sims[clinton_user_indices[i],clinton_user_indices[j]])"
   ]
  },
  {
   "cell_type": "code",
   "execution_count": 70,
   "metadata": {
    "scrolled": true
   },
   "outputs": [
    {
     "data": {
      "image/png": "[encoded data removed]",
      "text/plain": [
       "<Figure size 432x288 with 1 Axes>"
      ]
     },
     "metadata": {
      "needs_background": "light"
     },
     "output_type": "display_data"
    }
   ],
   "source": [
    "plt.hist(clinton_clinton_sims, range = (-1,1))\n",
    "plt.show()"
   ]
  },
  {
   "cell_type": "code",
   "execution_count": 71,
   "metadata": {},
   "outputs": [
    {
     "data": {
      "image/png": "[encoded data removed]",
      "text/plain": [
       "<Figure size 432x288 with 1 Axes>"
      ]
     },
     "metadata": {
      "needs_background": "light"
     },
     "output_type": "display_data"
    }
   ],
   "source": [
    "plt.hist(svd_cosine_sims.flatten(), range=(-1,1))\n",
    "plt.show()"
   ]
  },
  {
   "cell_type": "code",
   "execution_count": 72,
   "metadata": {},
   "outputs": [],
   "source": [
    "most_similar_50_users_svd = np.zeros((user_svd_normalized.shape[0],50), dtype = np.int32)\n",
    "\n",
    "for i in range(user_svd_normalized.shape[0]):\n",
    "    most_similar_50_users_svd[i] = np.flip(np.argsort(svd_cosine_sims[i])[-50:])\n"
   ]
  },
  {
   "cell_type": "code",
   "execution_count": 73,
   "metadata": {},
   "outputs": [
    {
     "data": {
      "text/plain": [
       "array([  18, 4743, 3509, 4614, 3214, 2123, 3802, 3384, 1750, 2236, 4831,\n",
       "       3847,  267, 3966, 4198,  205, 3402, 3741, 4809, 1298, 2877, 4381,\n",
       "        236, 1199, 1501, 4210, 2024,  508, 3153, 3043,  748,  310, 3963,\n",
       "        112,  324,  663, 1077, 2449, 3849, 1468,  594, 4499, 2650,  816,\n",
       "       4026, 4194, 4425, 3453, 1262, 4679], dtype=int32)"
      ]
     },
     "execution_count": 73,
     "metadata": {},
     "output_type": "execute_result"
    }
   ],
   "source": [
    "most_similar_50_users_svd[0]"
   ]
  },
  {
   "cell_type": "code",
   "execution_count": 74,
   "metadata": {},
   "outputs": [],
   "source": [
    "most_similar_50_set = [set(i) for i in most_similar_50_users_svd]"
   ]
  },
  {
   "cell_type": "code",
   "execution_count": 75,
   "metadata": {},
   "outputs": [
    {
     "name": "stdout",
     "output_type": "stream",
     "text": [
      "11.078483245149911\n",
      "10.0\n",
      "118.4047619047619\n",
      "113.59568345323741\n"
     ]
    }
   ],
   "source": [
    "print(np.mean([len(most_similar_50_set[i].intersection(sanders_user_indices)) for i in sanders_user_indices]))\n",
    "print(np.median([len(most_similar_50_set[i].intersection(sanders_user_indices)) for i in sanders_user_indices]))\n",
    "print(np.mean([num_sanders[author_names[i]] for i in sanders_user_indices]))\n",
    "print(np.mean([num_sanders[author_names[i]] for i in sanders_user_indices if len(most_similar_50_set[i].intersection(sanders_user_indices)) >= 10]))\n"
   ]
  },
  {
   "cell_type": "code",
   "execution_count": 76,
   "metadata": {},
   "outputs": [
    {
     "data": {
      "image/png": "[encoded data removed]",
      "text/plain": [
       "<Figure size 432x288 with 1 Axes>"
      ]
     },
     "metadata": {
      "needs_background": "light"
     },
     "output_type": "display_data"
    }
   ],
   "source": [
    "plt.hist([len(most_similar_50_set[i].intersection(sanders_user_indices)) for i in sanders_user_indices], range = (0,50))\n",
    "plt.show()"
   ]
  },
  {
   "cell_type": "code",
   "execution_count": 77,
   "metadata": {},
   "outputs": [
    {
     "name": "stdout",
     "output_type": "stream",
     "text": [
      "695\n",
      "0\n"
     ]
    }
   ],
   "source": [
    "print(sum([1 for i in sanders_user_indices if len(most_similar_50_set[i].intersection(sanders_user_indices)) >= 10]))\n",
    "print(sum([1 for i in sanders_user_indices if len(most_similar_50_set[i].intersection(sanders_user_indices)) >= 30]))"
   ]
  },
  {
   "cell_type": "code",
   "execution_count": 78,
   "metadata": {},
   "outputs": [
    {
     "name": "stdout",
     "output_type": "stream",
     "text": [
      "4.389097744360902\n",
      "4.0\n",
      "23\n",
      "0\n",
      "112.95676691729324\n",
      "99.30434782608695\n"
     ]
    },
    {
     "data": {
      "image/png": "[encoded data removed]",
      "text/plain": [
       "<Figure size 432x288 with 1 Axes>"
      ]
     },
     "metadata": {
      "needs_background": "light"
     },
     "output_type": "display_data"
    }
   ],
   "source": [
    "print(np.mean([len(most_similar_50_set[i].intersection(trump_user_indices)) for i in trump_user_indices]))\n",
    "print(np.median([len(most_similar_50_set[i].intersection(trump_user_indices)) for i in trump_user_indices]))\n",
    "print(sum([1 for i in trump_user_indices if len(most_similar_50_set[i].intersection(trump_user_indices)) >= 10]))\n",
    "print(sum([1 for i in trump_user_indices if len(most_similar_50_set[i].intersection(trump_user_indices)) >= 30]))\n",
    "print(np.mean([num_trump[author_names[i]] for i in trump_user_indices]))\n",
    "print(np.mean([num_trump[author_names[i]] for i in trump_user_indices if len(most_similar_50_set[i].intersection(trump_user_indices)) >= 10]))\n",
    "\n",
    "plt.hist([len(most_similar_50_set[i].intersection(trump_user_indices)) for i in trump_user_indices], range = (0,50))\n",
    "plt.show()"
   ]
  },
  {
   "cell_type": "code",
   "execution_count": 80,
   "metadata": {
    "scrolled": true
   },
   "outputs": [
    {
     "name": "stdout",
     "output_type": "stream",
     "text": [
      "1.0092592592592593\n",
      "1.0\n",
      "0\n",
      "106.21296296296296\n"
     ]
    },
    {
     "data": {
      "image/png": "[encoded data removed]",
      "text/plain": [
       "<Figure size 432x288 with 1 Axes>"
      ]
     },
     "metadata": {
      "needs_background": "light"
     },
     "output_type": "display_data"
    }
   ],
   "source": [
    "print(np.mean([len(most_similar_50_set[i].intersection(clinton_user_indices)) for i in clinton_user_indices]))\n",
    "print(np.median([len(most_similar_50_set[i].intersection(clinton_user_indices)) for i in clinton_user_indices]))\n",
    "print(sum([1 for i in clinton_user_indices if len(most_similar_50_set[i].intersection(clinton_user_indices)) >= 10]))\n",
    "# print(sum([1 for i in clinton_user_indices if len(most_similar_50_set[i].intersection(clinton_user_indices)) >= 30]))\n",
    "print(np.mean([num_clinton[author_names[i]] for i in clinton_user_indices]))\n",
    "# print(np.mean([num_clinton[author_names[i]] for i in clinton_user_indices if len(most_similar_50_set[i].intersection(clinton_user_indices)) >= 10]))\n",
    "\n",
    "\n",
    "plt.hist([len(most_similar_50_set[i].intersection(clinton_user_indices)) for i in clinton_user_indices], range = (0,50))\n",
    "plt.show()"
   ]
  },
  {
   "cell_type": "code",
   "execution_count": 81,
   "metadata": {},
   "outputs": [
    {
     "data": {
      "image/png": "[encoded data removed]",
      "text/plain": [
       "<Figure size 432x288 with 1 Axes>"
      ]
     },
     "metadata": {
      "needs_background": "light"
     },
     "output_type": "display_data"
    }
   ],
   "source": [
    "plt.hist([len(most_similar_50_set[i].intersection(none_user_indices)) for i in none_user_indices], range = (0,50))\n",
    "plt.show()"
   ]
  },
  {
   "cell_type": "markdown",
   "metadata": {},
   "source": [
    "## Try with Music and HipHopHeads"
   ]
  },
  {
   "cell_type": "code",
   "execution_count": 82,
   "metadata": {},
   "outputs": [],
   "source": [
    "num_music = {k:(subreddit_tf[author_reverse_dict[k], subreddit_reverse_dict['music']]) for k in author_names}\n",
    "num_hhh = {k:(subreddit_tf[author_reverse_dict[k], subreddit_reverse_dict['hiphopheads']]) for k in author_names}\n"
   ]
  },
  {
   "cell_type": "code",
   "execution_count": 83,
   "metadata": {},
   "outputs": [
    {
     "name": "stdout",
     "output_type": "stream",
     "text": [
      "918\n",
      "186\n"
     ]
    }
   ],
   "source": [
    "music_user_indices = [i for i in range(subreddit_tf.shape[0]) if num_music[author_names[i]] >= comment_threshold]\n",
    "print(len(music_user_indices))\n",
    "hhh_user_indices = [i for i in range(subreddit_tf.shape[0]) if num_hhh[author_names[i]] >= comment_threshold]\n",
    "print(len(hhh_user_indices))\n"
   ]
  },
  {
   "cell_type": "code",
   "execution_count": 84,
   "metadata": {},
   "outputs": [
    {
     "data": {
      "text/plain": [
       "0.5158414939064928"
      ]
     },
     "execution_count": 84,
     "metadata": {},
     "output_type": "execute_result"
    }
   ],
   "source": [
    "np.sum(svd_cosine_sims[music_user_indices, :][:,music_user_indices]) / \\\n",
    "(len(music_user_indices) * (len(music_user_indices)-1))"
   ]
  },
  {
   "cell_type": "code",
   "execution_count": 85,
   "metadata": {},
   "outputs": [
    {
     "data": {
      "text/plain": [
       "0.4650135790700807"
      ]
     },
     "execution_count": 85,
     "metadata": {},
     "output_type": "execute_result"
    }
   ],
   "source": [
    "np.sum(svd_cosine_sims[hhh_user_indices, :][:,hhh_user_indices]) / \\\n",
    "(len(hhh_user_indices) * (len(hhh_user_indices)-1))"
   ]
  },
  {
   "cell_type": "code",
   "execution_count": 86,
   "metadata": {},
   "outputs": [
    {
     "name": "stdout",
     "output_type": "stream",
     "text": [
      "0.48810907546858895\n"
     ]
    }
   ],
   "source": [
    "print(np.sum(svd_cosine_sims[music_user_indices, :][:,hhh_user_indices]) / \\\n",
    "((len(music_user_indices) * len(hhh_user_indices)) - \\\n",
    "len(set(music_user_indices).intersection(hhh_user_indices))))\n"
   ]
  },
  {
   "cell_type": "code",
   "execution_count": 87,
   "metadata": {
    "scrolled": true
   },
   "outputs": [
    {
     "name": "stdout",
     "output_type": "stream",
     "text": [
      "108\n",
      "0.11764705882352941\n",
      "17\n",
      "0.0913978494623656\n",
      "2\n",
      "0.010752688172043012\n",
      "32\n",
      "0.034858387799564274\n"
     ]
    }
   ],
   "source": [
    "print(len(set(most_similar_user_svd[music_user_indices]).intersection(music_user_indices)))\n",
    "print(len(set(most_similar_user_svd[music_user_indices]).intersection(music_user_indices))/len(music_user_indices))\n",
    "print(len(set(most_similar_user_svd[music_user_indices]).intersection(hhh_user_indices)))\n",
    "print(len(set(most_similar_user_svd[music_user_indices]).intersection(hhh_user_indices))/len(hhh_user_indices))\n",
    "\n",
    "print(len(set(most_similar_user_svd[hhh_user_indices]).intersection(hhh_user_indices)))\n",
    "print(len(set(most_similar_user_svd[hhh_user_indices]).intersection(hhh_user_indices))/len(hhh_user_indices))\n",
    "print(len(set(most_similar_user_svd[hhh_user_indices]).intersection(music_user_indices)))\n",
    "print(len(set(most_similar_user_svd[hhh_user_indices]).intersection(music_user_indices))/len(music_user_indices))"
   ]
  },
  {
   "cell_type": "code",
   "execution_count": 88,
   "metadata": {},
   "outputs": [],
   "source": [
    "music_music_sims = []\n",
    "\n",
    "for i in range(len(music_user_indices)):\n",
    "    for j in range(i+1, len(music_user_indices)):\n",
    "        music_music_sims.append(svd_cosine_sims[music_user_indices[i],music_user_indices[j]])"
   ]
  },
  {
   "cell_type": "code",
   "execution_count": 89,
   "metadata": {},
   "outputs": [
    {
     "data": {
      "image/png": "[encoded data removed]",
      "text/plain": [
       "<Figure size 432x288 with 1 Axes>"
      ]
     },
     "metadata": {
      "needs_background": "light"
     },
     "output_type": "display_data"
    }
   ],
   "source": [
    "plt.hist(music_music_sims, range = (-1,1))\n",
    "plt.show()"
   ]
  },
  {
   "cell_type": "code",
   "execution_count": 90,
   "metadata": {},
   "outputs": [],
   "source": [
    "hhh_hhh_sims = []\n",
    "\n",
    "for i in range(len(hhh_user_indices)):\n",
    "    for j in range(i+1, len(hhh_user_indices)):\n",
    "        hhh_hhh_sims.append(svd_cosine_sims[hhh_user_indices[i],hhh_user_indices[j]])"
   ]
  },
  {
   "cell_type": "code",
   "execution_count": 91,
   "metadata": {
    "scrolled": true
   },
   "outputs": [
    {
     "data": {
      "image/png": "[encoded data removed]",
      "text/plain": [
       "<Figure size 432x288 with 1 Axes>"
      ]
     },
     "metadata": {
      "needs_background": "light"
     },
     "output_type": "display_data"
    }
   ],
   "source": [
    "plt.hist(hhh_hhh_sims, range = (-1,1) )\n",
    "plt.show()"
   ]
  },
  {
   "cell_type": "code",
   "execution_count": 92,
   "metadata": {},
   "outputs": [
    {
     "name": "stdout",
     "output_type": "stream",
     "text": [
      "8.417211328976036\n",
      "8.0\n",
      "306\n",
      "0\n",
      "43.131808278867105\n",
      "36.96078431372549\n"
     ]
    },
    {
     "data": {
      "image/png": "[encoded data removed]",
      "text/plain": [
       "<Figure size 432x288 with 1 Axes>"
      ]
     },
     "metadata": {
      "needs_background": "light"
     },
     "output_type": "display_data"
    }
   ],
   "source": [
    "print(np.mean([len(most_similar_50_set[i].intersection(music_user_indices)) for i in music_user_indices]))\n",
    "print(np.median([len(most_similar_50_set[i].intersection(music_user_indices)) for i in music_user_indices]))\n",
    "print(sum([1 for i in music_user_indices if len(most_similar_50_set[i].intersection(music_user_indices)) >= 10]))\n",
    "print(sum([1 for i in music_user_indices if len(most_similar_50_set[i].intersection(music_user_indices)) >= 30]))\n",
    "print(np.mean([num_music[author_names[i]] for i in music_user_indices]))\n",
    "print(np.mean([num_music[author_names[i]] for i in music_user_indices if len(most_similar_50_set[i].intersection(music_user_indices)) >= 10]))\n",
    "\n",
    "plt.hist([len(most_similar_50_set[i].intersection(music_user_indices)) for i in music_user_indices], range = (0,50))\n",
    "plt.show()"
   ]
  },
  {
   "cell_type": "code",
   "execution_count": 94,
   "metadata": {},
   "outputs": [
    {
     "name": "stdout",
     "output_type": "stream",
     "text": [
      "1.3709677419354838\n",
      "1.0\n",
      "0\n",
      "0\n",
      "165.44623655913978\n"
     ]
    },
    {
     "data": {
      "image/png": "[encoded data removed]",
      "text/plain": [
       "<Figure size 432x288 with 1 Axes>"
      ]
     },
     "metadata": {
      "needs_background": "light"
     },
     "output_type": "display_data"
    }
   ],
   "source": [
    "print(np.mean([len(most_similar_50_set[i].intersection(hhh_user_indices)) for i in hhh_user_indices]))\n",
    "print(np.median([len(most_similar_50_set[i].intersection(hhh_user_indices)) for i in hhh_user_indices]))\n",
    "print(sum([1 for i in hhh_user_indices if len(most_similar_50_set[i].intersection(hhh_user_indices)) >= 10]))\n",
    "print(sum([1 for i in hhh_user_indices if len(most_similar_50_set[i].intersection(hhh_user_indices)) >= 30]))\n",
    "print(np.mean([num_hhh[author_names[i]] for i in hhh_user_indices]))\n",
    "# print(np.mean([num_hhh[author_names[i]] for i in hhh_user_indices if len(most_similar_50_set[i].intersection(hhh_user_indices)) >= 10]))\n",
    "\n",
    "plt.hist([len(most_similar_50_set[i].intersection(hhh_user_indices)) for i in hhh_user_indices], range = (0,50))\n",
    "plt.show()"
   ]
  },
  {
   "cell_type": "markdown",
   "metadata": {},
   "source": [
    "### Similarities across groups"
   ]
  },
  {
   "cell_type": "markdown",
   "metadata": {},
   "source": [
    "### Sanders"
   ]
  },
  {
   "cell_type": "code",
   "execution_count": 95,
   "metadata": {},
   "outputs": [
    {
     "name": "stdout",
     "output_type": "stream",
     "text": [
      "11.078483245149911\n",
      "10.0\n",
      "1107\n",
      "695\n",
      "118.4047619047619\n",
      "119.8446251129178\n",
      "113.59568345323741\n"
     ]
    },
    {
     "data": {
      "image/png": "[encoded data removed]",
      "text/plain": [
       "<Figure size 432x288 with 1 Axes>"
      ]
     },
     "metadata": {
      "needs_background": "light"
     },
     "output_type": "display_data"
    }
   ],
   "source": [
    "print(np.mean([len(most_similar_50_set[i].intersection(sanders_user_indices)) for i in sanders_user_indices]))\n",
    "print(np.median([len(most_similar_50_set[i].intersection(sanders_user_indices)) for i in sanders_user_indices]))\n",
    "print(sum([1 for i in sanders_user_indices if len(most_similar_50_set[i].intersection(sanders_user_indices)) >= 5]))\n",
    "print(sum([1 for i in sanders_user_indices if len(most_similar_50_set[i].intersection(sanders_user_indices)) >= 10]))\n",
    "print(np.mean([num_sanders[author_names[i]] for i in sanders_user_indices]))\n",
    "print(np.mean([num_sanders[author_names[i]] for i in sanders_user_indices if len(most_similar_50_set[i].intersection(sanders_user_indices)) >= 5]))\n",
    "print(np.mean([num_sanders[author_names[i]] for i in sanders_user_indices if len(most_similar_50_set[i].intersection(sanders_user_indices)) >= 10]))\n",
    "\n",
    "plt.hist([len(most_similar_50_set[i].intersection(trump_user_indices)) for i in sanders_user_indices], range = (0,50))\n",
    "plt.show()"
   ]
  },
  {
   "cell_type": "code",
   "execution_count": 97,
   "metadata": {},
   "outputs": [
    {
     "name": "stdout",
     "output_type": "stream",
     "text": [
      "3.599647266313933\n",
      "3.0\n",
      "330\n",
      "16\n",
      "17.073192239858905\n",
      "33.03636363636364\n",
      "97.125\n",
      "118.4047619047619\n",
      "81.12424242424242\n",
      "67.5625\n"
     ]
    },
    {
     "data": {
      "image/png": "[encoded data removed]",
      "text/plain": [
       "<Figure size 432x288 with 1 Axes>"
      ]
     },
     "metadata": {
      "needs_background": "light"
     },
     "output_type": "display_data"
    }
   ],
   "source": [
    "print(np.mean([len(most_similar_50_set[i].intersection(trump_user_indices)) for i in sanders_user_indices]))\n",
    "print(np.median([len(most_similar_50_set[i].intersection(trump_user_indices)) for i in sanders_user_indices]))\n",
    "print(sum([1 for i in sanders_user_indices if len(most_similar_50_set[i].intersection(trump_user_indices)) >= 5]))\n",
    "print(sum([1 for i in sanders_user_indices if len(most_similar_50_set[i].intersection(trump_user_indices)) >= 10]))\n",
    "print(np.mean([num_trump[author_names[i]] for i in sanders_user_indices]))\n",
    "print(np.mean([num_trump[author_names[i]] for i in sanders_user_indices if len(most_similar_50_set[i].intersection(trump_user_indices)) >= 5]))\n",
    "print(np.mean([num_trump[author_names[i]] for i in sanders_user_indices if len(most_similar_50_set[i].intersection(trump_user_indices)) >= 10]))\n",
    "print(np.mean([num_sanders[author_names[i]] for i in sanders_user_indices]))\n",
    "print(np.mean([num_sanders[author_names[i]] for i in sanders_user_indices if len(most_similar_50_set[i].intersection(trump_user_indices)) >= 5]))\n",
    "print(np.mean([num_sanders[author_names[i]] for i in sanders_user_indices if len(most_similar_50_set[i].intersection(trump_user_indices)) >= 10]))\n",
    "\n",
    "plt.hist([len(most_similar_50_set[i].intersection(trump_user_indices)) for i in sanders_user_indices], range = (0,50))\n",
    "plt.show()"
   ]
  },
  {
   "cell_type": "code",
   "execution_count": 98,
   "metadata": {
    "scrolled": false
   },
   "outputs": [
    {
     "name": "stdout",
     "output_type": "stream",
     "text": [
      "0.9620811287477954\n",
      "1.0\n",
      "5\n",
      "0\n",
      "7.194003527336861\n",
      "0.6\n",
      "118.4047619047619\n",
      "208.8\n"
     ]
    },
    {
     "data": {
      "image/png": "[encoded data removed]",
      "text/plain": [
       "<Figure size 432x288 with 1 Axes>"
      ]
     },
     "metadata": {
      "needs_background": "light"
     },
     "output_type": "display_data"
    }
   ],
   "source": [
    "print(np.mean([len(most_similar_50_set[i].intersection(clinton_user_indices)) for i in sanders_user_indices]))\n",
    "print(np.median([len(most_similar_50_set[i].intersection(clinton_user_indices)) for i in sanders_user_indices]))\n",
    "print(sum([1 for i in sanders_user_indices if len(most_similar_50_set[i].intersection(clinton_user_indices)) >= 5]))\n",
    "print(sum([1 for i in sanders_user_indices if len(most_similar_50_set[i].intersection(clinton_user_indices)) >= 10]))\n",
    "print(np.mean([num_clinton[author_names[i]] for i in sanders_user_indices]))\n",
    "print(np.mean([num_clinton[author_names[i]] for i in sanders_user_indices if len(most_similar_50_set[i].intersection(clinton_user_indices)) >= 5]))\n",
    "# print(np.mean([num_clinton[author_names[i]] for i in sanders_user_indices if len(most_similar_50_set[i].intersection(clinton_user_indices)) >= 10]))\n",
    "print(np.mean([num_sanders[author_names[i]] for i in sanders_user_indices]))\n",
    "print(np.mean([num_sanders[author_names[i]] for i in sanders_user_indices if len(most_similar_50_set[i].intersection(clinton_user_indices)) >= 5]))\n",
    "# print(np.mean([num_sanders[author_names[i]] for i in sanders_user_indices if len(most_similar_50_set[i].intersection(clinton_user_indices)) >= 10]))\n",
    "\n",
    "plt.hist([len(most_similar_50_set[i].intersection(clinton_user_indices)) for i in sanders_user_indices], range = (0,50))\n",
    "plt.show()"
   ]
  },
  {
   "cell_type": "markdown",
   "metadata": {},
   "source": [
    "### Trump"
   ]
  },
  {
   "cell_type": "code",
   "execution_count": 99,
   "metadata": {},
   "outputs": [
    {
     "name": "stdout",
     "output_type": "stream",
     "text": [
      "4.389097744360902\n",
      "4.0\n",
      "225\n",
      "23\n",
      "112.95676691729324\n",
      "119.38666666666667\n",
      "99.30434782608695\n"
     ]
    },
    {
     "data": {
      "image/png": "[encoded data removed]",
      "text/plain": [
       "<Figure size 432x288 with 1 Axes>"
      ]
     },
     "metadata": {
      "needs_background": "light"
     },
     "output_type": "display_data"
    }
   ],
   "source": [
    "print(np.mean([len(most_similar_50_set[i].intersection(trump_user_indices)) for i in trump_user_indices]))\n",
    "print(np.median([len(most_similar_50_set[i].intersection(trump_user_indices)) for i in trump_user_indices]))\n",
    "print(sum([1 for i in trump_user_indices if len(most_similar_50_set[i].intersection(trump_user_indices)) >= 5]))\n",
    "print(sum([1 for i in trump_user_indices if len(most_similar_50_set[i].intersection(trump_user_indices)) >= 10]))\n",
    "print(np.mean([num_trump[author_names[i]] for i in trump_user_indices]))\n",
    "print(np.mean([num_trump[author_names[i]] for i in trump_user_indices if len(most_similar_50_set[i].intersection(trump_user_indices)) >= 5]))\n",
    "print(np.mean([num_trump[author_names[i]] for i in trump_user_indices if len(most_similar_50_set[i].intersection(trump_user_indices)) >= 10]))\n",
    "\n",
    "plt.hist([len(most_similar_50_set[i].intersection(trump_user_indices)) for i in trump_user_indices], range = (0,50))\n",
    "plt.show()"
   ]
  },
  {
   "cell_type": "code",
   "execution_count": 101,
   "metadata": {},
   "outputs": [
    {
     "name": "stdout",
     "output_type": "stream",
     "text": [
      "10.343984962406015\n",
      "10.0\n",
      "511\n",
      "323\n",
      "0\n",
      "112.95676691729324\n",
      "113.14090019569471\n",
      "116.39628482972137\n",
      "31.464285714285715\n",
      "32.397260273972606\n",
      "29.173374613003094\n"
     ]
    },
    {
     "data": {
      "image/png": "[encoded data removed]",
      "text/plain": [
       "<Figure size 432x288 with 1 Axes>"
      ]
     },
     "metadata": {
      "needs_background": "light"
     },
     "output_type": "display_data"
    }
   ],
   "source": [
    "print(np.mean([len(most_similar_50_set[i].intersection(sanders_user_indices)) for i in trump_user_indices]))\n",
    "print(np.median([len(most_similar_50_set[i].intersection(sanders_user_indices)) for i in trump_user_indices]))\n",
    "print(sum([1 for i in trump_user_indices if len(most_similar_50_set[i].intersection(sanders_user_indices)) >= 5]))\n",
    "print(sum([1 for i in trump_user_indices if len(most_similar_50_set[i].intersection(sanders_user_indices)) >= 10]))\n",
    "print(sum([1 for i in trump_user_indices if len(most_similar_50_set[i].intersection(sanders_user_indices)) >= 30]))\n",
    "print(np.mean([num_trump[author_names[i]] for i in trump_user_indices]))\n",
    "print(np.mean([num_trump[author_names[i]] for i in trump_user_indices if len(most_similar_50_set[i].intersection(sanders_user_indices)) >= 5]))\n",
    "print(np.mean([num_trump[author_names[i]] for i in trump_user_indices if len(most_similar_50_set[i].intersection(sanders_user_indices)) >= 10]))\n",
    "print(np.mean([num_sanders[author_names[i]] for i in trump_user_indices]))\n",
    "print(np.mean([num_sanders[author_names[i]] for i in trump_user_indices if len(most_similar_50_set[i].intersection(sanders_user_indices)) >= 5]))\n",
    "print(np.mean([num_sanders[author_names[i]] for i in trump_user_indices if len(most_similar_50_set[i].intersection(sanders_user_indices)) >= 10]))\n",
    "\n",
    "plt.hist([len(most_similar_50_set[i].intersection(sanders_user_indices)) for i in trump_user_indices], range = (0,50))\n",
    "plt.show()"
   ]
  },
  {
   "cell_type": "code",
   "execution_count": 102,
   "metadata": {
    "scrolled": false
   },
   "outputs": [
    {
     "name": "stdout",
     "output_type": "stream",
     "text": [
      "0.7255639097744361\n",
      "0.0\n",
      "4\n",
      "0\n",
      "1.8383458646616542\n",
      "0.0\n",
      "112.95676691729324\n",
      "23.5\n"
     ]
    },
    {
     "data": {
      "image/png": "[encoded data removed]",
      "text/plain": [
       "<Figure size 432x288 with 1 Axes>"
      ]
     },
     "metadata": {
      "needs_background": "light"
     },
     "output_type": "display_data"
    }
   ],
   "source": [
    "print(np.mean([len(most_similar_50_set[i].intersection(clinton_user_indices)) for i in trump_user_indices]))\n",
    "print(np.median([len(most_similar_50_set[i].intersection(clinton_user_indices)) for i in trump_user_indices]))\n",
    "print(sum([1 for i in trump_user_indices if len(most_similar_50_set[i].intersection(clinton_user_indices)) >= 5]))\n",
    "print(sum([1 for i in trump_user_indices if len(most_similar_50_set[i].intersection(clinton_user_indices)) >= 10]))\n",
    "print(np.mean([num_clinton[author_names[i]] for i in trump_user_indices]))\n",
    "print(np.mean([num_clinton[author_names[i]] for i in trump_user_indices if len(most_similar_50_set[i].intersection(clinton_user_indices)) >= 5]))\n",
    "# print(np.mean([num_clinton[author_names[i]] for i in sanders_user_indices if len(most_similar_50_set[i].intersection(clinton_user_indices)) >= 10]))\n",
    "print(np.mean([num_trump[author_names[i]] for i in trump_user_indices]))\n",
    "print(np.mean([num_trump[author_names[i]] for i in trump_user_indices if len(most_similar_50_set[i].intersection(clinton_user_indices)) >= 5]))\n",
    "# print(np.mean([num_sanders[author_names[i]] for i in sanders_user_indices if len(most_similar_50_set[i].intersection(clinton_user_indices)) >= 10]))\n",
    "\n",
    "plt.hist([len(most_similar_50_set[i].intersection(clinton_user_indices)) for i in trump_user_indices], range = (0,50))\n",
    "plt.show()"
   ]
  },
  {
   "cell_type": "markdown",
   "metadata": {},
   "source": [
    "### Clinton"
   ]
  },
  {
   "cell_type": "code",
   "execution_count": 106,
   "metadata": {},
   "outputs": [
    {
     "name": "stdout",
     "output_type": "stream",
     "text": [
      "1.0092592592592593\n",
      "1.0\n",
      "0\n",
      "0\n",
      "106.21296296296296\n"
     ]
    },
    {
     "data": {
      "image/png": "[encoded data removed]",
      "text/plain": [
       "<Figure size 432x288 with 1 Axes>"
      ]
     },
     "metadata": {
      "needs_background": "light"
     },
     "output_type": "display_data"
    }
   ],
   "source": [
    "print(np.mean([len(most_similar_50_set[i].intersection(clinton_user_indices)) for i in clinton_user_indices]))\n",
    "print(np.median([len(most_similar_50_set[i].intersection(clinton_user_indices)) for i in clinton_user_indices]))\n",
    "print(sum([1 for i in clinton_user_indices if len(most_similar_50_set[i].intersection(clinton_user_indices)) >= 5]))\n",
    "print(sum([1 for i in clinton_user_indices if len(most_similar_50_set[i].intersection(clinton_user_indices)) >= 10]))\n",
    "print(np.mean([num_clinton[author_names[i]] for i in clinton_user_indices]))\n",
    "# print(np.mean([num_clinton[author_names[i]] for i in clinton_user_indices if len(most_similar_50_set[i].intersection(clinton_user_indices)) >= 5]))\n",
    "# print(np.mean([num_clinton[author_names[i]] for i in clinton_user_indices if len(most_similar_50_set[i].intersection(clinton_user_indices)) >= 10]))\n",
    "\n",
    "plt.hist([len(most_similar_50_set[i].intersection(clinton_user_indices)) for i in clinton_user_indices], range = (0,50))\n",
    "plt.show()"
   ]
  },
  {
   "cell_type": "code",
   "execution_count": 104,
   "metadata": {},
   "outputs": [
    {
     "name": "stdout",
     "output_type": "stream",
     "text": [
      "12.037037037037036\n",
      "11.0\n",
      "108\n",
      "77\n",
      "106.21296296296296\n",
      "106.21296296296296\n",
      "107.58441558441558\n",
      "149.32407407407408\n",
      "149.32407407407408\n",
      "95.03896103896103\n"
     ]
    },
    {
     "data": {
      "image/png": "[encoded data removed]",
      "text/plain": [
       "<Figure size 432x288 with 1 Axes>"
      ]
     },
     "metadata": {
      "needs_background": "light"
     },
     "output_type": "display_data"
    }
   ],
   "source": [
    "print(np.mean([len(most_similar_50_set[i].intersection(sanders_user_indices)) for i in clinton_user_indices]))\n",
    "print(np.median([len(most_similar_50_set[i].intersection(sanders_user_indices)) for i in clinton_user_indices]))\n",
    "print(sum([1 for i in clinton_user_indices if len(most_similar_50_set[i].intersection(sanders_user_indices)) >= 5]))\n",
    "print(sum([1 for i in clinton_user_indices if len(most_similar_50_set[i].intersection(sanders_user_indices)) >= 10]))\n",
    "print(np.mean([num_clinton[author_names[i]] for i in clinton_user_indices]))\n",
    "print(np.mean([num_clinton[author_names[i]] for i in clinton_user_indices if len(most_similar_50_set[i].intersection(sanders_user_indices)) >= 5]))\n",
    "print(np.mean([num_clinton[author_names[i]] for i in clinton_user_indices if len(most_similar_50_set[i].intersection(sanders_user_indices)) >= 10]))\n",
    "print(np.mean([num_sanders[author_names[i]] for i in clinton_user_indices]))\n",
    "print(np.mean([num_sanders[author_names[i]] for i in clinton_user_indices if len(most_similar_50_set[i].intersection(sanders_user_indices)) >= 5]))\n",
    "print(np.mean([num_sanders[author_names[i]] for i in clinton_user_indices if len(most_similar_50_set[i].intersection(sanders_user_indices)) >= 10]))\n",
    "\n",
    "plt.hist([len(most_similar_50_set[i].intersection(sanders_user_indices)) for i in clinton_user_indices], range = (0,50))\n",
    "plt.show()"
   ]
  },
  {
   "cell_type": "code",
   "execution_count": 105,
   "metadata": {
    "scrolled": false
   },
   "outputs": [
    {
     "name": "stdout",
     "output_type": "stream",
     "text": [
      "2.787037037037037\n",
      "2.0\n",
      "21\n",
      "0\n",
      "16.23148148148148\n",
      "58.142857142857146\n",
      "nan\n",
      "106.21296296296296\n",
      "122.61904761904762\n",
      "nan\n"
     ]
    },
    {
     "data": {
      "image/png": "[encoded data removed]",
      "text/plain": [
       "<Figure size 432x288 with 1 Axes>"
      ]
     },
     "metadata": {
      "needs_background": "light"
     },
     "output_type": "display_data"
    }
   ],
   "source": [
    "print(np.mean([len(most_similar_50_set[i].intersection(trump_user_indices)) for i in clinton_user_indices]))\n",
    "print(np.median([len(most_similar_50_set[i].intersection(trump_user_indices)) for i in clinton_user_indices]))\n",
    "print(sum([1 for i in clinton_user_indices if len(most_similar_50_set[i].intersection(trump_user_indices)) >= 5]))\n",
    "print(sum([1 for i in clinton_user_indices if len(most_similar_50_set[i].intersection(trump_user_indices)) >= 10]))\n",
    "print(np.mean([num_trump[author_names[i]] for i in clinton_user_indices]))\n",
    "print(np.mean([num_trump[author_names[i]] for i in clinton_user_indices if len(most_similar_50_set[i].intersection(trump_user_indices)) >= 5]))\n",
    "print(np.mean([num_trump[author_names[i]] for i in clinton_user_indices if len(most_similar_50_set[i].intersection(trump_user_indices)) >= 10]))\n",
    "print(np.mean([num_clinton[author_names[i]] for i in clinton_user_indices]))\n",
    "print(np.mean([num_clinton[author_names[i]] for i in clinton_user_indices if len(most_similar_50_set[i].intersection(trump_user_indices)) >= 5]))\n",
    "print(np.mean([num_clinton[author_names[i]] for i in clinton_user_indices if len(most_similar_50_set[i].intersection(trump_user_indices)) >= 10]))\n",
    "\n",
    "plt.hist([len(most_similar_50_set[i].intersection(trump_user_indices)) for i in clinton_user_indices], range = (0,50))\n",
    "plt.show()"
   ]
  },
  {
   "cell_type": "code",
   "execution_count": null,
   "metadata": {},
   "outputs": [],
   "source": []
  }
 ],
 "metadata": {
  "kernelspec": {
   "display_name": "Python 3",
   "language": "python",
   "name": "python3"
  },
  "language_info": {
   "codemirror_mode": {
    "name": "ipython",
    "version": 3
   },
   "file_extension": ".py",
   "mimetype": "text/x-python",
   "name": "python",
   "nbconvert_exporter": "python",
   "pygments_lexer": "ipython3",
   "version": "3.7.3"
  }
 },
 "nbformat": 4,
 "nbformat_minor": 2
}
