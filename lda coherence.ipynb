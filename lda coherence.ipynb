{
 "cells": [
  {
   "cell_type": "code",
   "execution_count": 1,
   "metadata": {},
   "outputs": [],
   "source": [
    "import json\n",
    "from gensim.models import LdaModel\n",
    "from gensim.corpora import Dictionary\n",
    "from gensim.models.coherencemodel import CoherenceModel\n",
    "\n",
    "from matplotlib import pyplot as plt"
   ]
  },
  {
   "cell_type": "code",
   "execution_count": 2,
   "metadata": {},
   "outputs": [],
   "source": [
    "with open('politics_tokens.json', 'r') as f:\n",
    "    politics_tokens = json.load(f) "
   ]
  },
  {
   "cell_type": "code",
   "execution_count": 3,
   "metadata": {},
   "outputs": [],
   "source": [
    "politics_dictionary = Dictionary.load(\"stored_variables/politics_dictionary_lda\")"
   ]
  },
  {
   "cell_type": "code",
   "execution_count": 4,
   "metadata": {},
   "outputs": [],
   "source": [
    "politics_corpus = [politics_dictionary.doc2bow(text) for text in politics_tokens]"
   ]
  },
  {
   "cell_type": "code",
   "execution_count": 5,
   "metadata": {},
   "outputs": [],
   "source": [
    "lda_model10 = LdaModel.load('lda_models/politics_lda10.model')"
   ]
  },
  {
   "cell_type": "code",
   "execution_count": 7,
   "metadata": {},
   "outputs": [],
   "source": [
    "cm10 = CoherenceModel(model=lda_model10, corpus=politics_corpus, coherence='u_mass')"
   ]
  },
  {
   "cell_type": "code",
   "execution_count": 8,
   "metadata": {},
   "outputs": [
    {
     "data": {
      "text/plain": [
       "-1.899906209016439"
      ]
     },
     "execution_count": 8,
     "metadata": {},
     "output_type": "execute_result"
    }
   ],
   "source": [
    "cm10.get_coherence()"
   ]
  },
  {
   "cell_type": "markdown",
   "metadata": {},
   "source": [
    "## Coherence versus number of topics"
   ]
  },
  {
   "cell_type": "code",
   "execution_count": 6,
   "metadata": {},
   "outputs": [],
   "source": [
    "coherence_values = []\n"
   ]
  },
  {
   "cell_type": "code",
   "execution_count": 13,
   "metadata": {},
   "outputs": [],
   "source": [
    "k_values = list(range(10, 51))"
   ]
  },
  {
   "cell_type": "code",
   "execution_count": 14,
   "metadata": {},
   "outputs": [
    {
     "name": "stdout",
     "output_type": "stream",
     "text": [
      "41\n",
      "-3.3262278177180225\n",
      "42\n",
      "-3.355858475708823\n",
      "43\n",
      "-3.4165743804639606\n",
      "44\n",
      "-3.373171726554584\n",
      "45\n",
      "-3.4997242281289607\n",
      "46\n",
      "-3.302493307862298\n",
      "47\n",
      "-3.464685572268238\n",
      "48\n",
      "-3.4805365127208057\n",
      "49\n",
      "-3.480809221642469\n",
      "50\n",
      "-3.4527919508492193\n"
     ]
    }
   ],
   "source": [
    "# don't run this: it might make the computer crash. instead, just load from the json file\n",
    "for k in k_values:\n",
    "    print(k)\n",
    "    filename = 'lda_models/politics_lda' + str(k) + '.model'\n",
    "    curr_lda_model = LdaModel.load(filename)\n",
    "    curr_coherence_model = CoherenceModel(model = curr_lda_model, corpus = politics_corpus, coherence = 'u_mass')\n",
    "    coherence_values.append(curr_coherence_model.get_coherence())\n",
    "    with open('lda_coherence_vals.json', 'w') as f:\n",
    "        json.dump(coherence_values, f)\n",
    "        \n",
    "    print(curr_coherence_model.get_coherence())"
   ]
  },
  {
   "cell_type": "code",
   "execution_count": 15,
   "metadata": {},
   "outputs": [
    {
     "data": {
      "image/png": "[encoded data removed]",
      "text/plain": [
       "<Figure size 432x288 with 1 Axes>"
      ]
     },
     "metadata": {
      "needs_background": "light"
     },
     "output_type": "display_data"
    }
   ],
   "source": [
    "plt.plot(list(range(10,51)), coherence_values)\n",
    "plt.show()"
   ]
  },
  {
   "cell_type": "code",
   "execution_count": 20,
   "metadata": {},
   "outputs": [
    {
     "name": "stdout",
     "output_type": "stream",
     "text": [
      "[(10, -1.899906209016439), (11, -1.8845427322819417), (12, -2.0072780766597025), (13, -2.0223148923068623), (14, -2.1819907125277305), (15, -2.2015190932703437), (16, -2.3987082387788567), (17, -2.2878020977379427), (18, -2.547110265387904), (19, -2.7339754686186057), (20, -2.4477845380604135), (21, -2.666816932416835), (22, -2.496284084725401), (23, -2.7354106461981935), (24, -2.6121860364123086), (25, -2.7622719943732643), (26, -3.1357063351028986), (27, -2.826058929053659), (28, -2.973019649449057), (29, -3.0916488364333103), (30, -2.8237698726489833), (31, -3.0349417600456214), (32, -2.997766880766342), (33, -3.208167811208787), (34, -2.9722279029374), (35, -3.314763738642629), (36, -3.230946374571985), (37, -3.2638090268628646), (38, -3.166750435070596), (39, -3.41159818944889), (40, -3.2000647914673435), (41, -3.3262278177180225), (42, -3.355858475708823), (43, -3.4165743804639606), (44, -3.373171726554584), (45, -3.4997242281289607), (46, -3.302493307862298), (47, -3.464685572268238), (48, -3.4805365127208057), (49, -3.480809221642469), (50, -3.4527919508492193)]\n"
     ]
    }
   ],
   "source": [
    "print(list(zip(list(range(10,51)), coherence_values)))"
   ]
  },
  {
   "cell_type": "code",
   "execution_count": null,
   "metadata": {},
   "outputs": [],
   "source": []
  }
 ],
 "metadata": {
  "kernelspec": {
   "display_name": "Python 3",
   "language": "python",
   "name": "python3"
  },
  "language_info": {
   "codemirror_mode": {
    "name": "ipython",
    "version": 3
   },
   "file_extension": ".py",
   "mimetype": "text/x-python",
   "name": "python",
   "nbconvert_exporter": "python",
   "pygments_lexer": "ipython3",
   "version": "3.7.3"
  }
 },
 "nbformat": 4,
 "nbformat_minor": 2
}
