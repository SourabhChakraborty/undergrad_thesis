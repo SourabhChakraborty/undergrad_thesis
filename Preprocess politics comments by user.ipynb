{
 "cells": [
  {
   "cell_type": "code",
   "execution_count": 2,
   "metadata": {},
   "outputs": [],
   "source": [
    "import json\n",
    "import pickle\n",
    "import re\n",
    "import pandas as pd\n",
    "import numpy as np\n",
    "from scipy.sparse import bsr_matrix, coo_matrix, csr_matrix, lil_matrix, identity\n",
    "from sklearn.feature_extraction.text import CountVectorizer, TfidfVectorizer"
   ]
  },
  {
   "cell_type": "code",
   "execution_count": 10,
   "metadata": {},
   "outputs": [],
   "source": [
    "chunk_size = 10 ** 4\n",
    "removed_str = '[removed]'\n",
    "deleted_str = '[deleted]'\n",
    "thankyou_str = 'thank you for participating'"
   ]
  },
  {
   "cell_type": "code",
   "execution_count": 35,
   "metadata": {
    "scrolled": true
   },
   "outputs": [
    {
     "name": "stdout",
     "output_type": "stream",
     "text": [
      "0\n",
      "1\n",
      "1\n",
      "\n",
      "0\n",
      "1\n",
      "1\n",
      "\n",
      "0\n",
      "1\n",
      "1\n",
      "\n",
      "0\n",
      "1\n",
      "1\n",
      "\n",
      "0\n",
      "1\n",
      "1\n",
      "\n",
      "0\n",
      "1\n",
      "1\n",
      "\n",
      "0\n",
      "1\n",
      "1\n",
      "\n",
      "0\n",
      "1\n",
      "1\n",
      "\n",
      "0\n",
      "1\n",
      "1\n",
      "\n",
      "0\n",
      "1\n",
      "1\n",
      "\n",
      "0\n",
      "1\n",
      "1\n",
      "\n",
      "0\n",
      "1\n",
      "1\n",
      "\n",
      "0\n",
      "1\n",
      "1\n",
      "\n",
      "0\n",
      "1\n",
      "1\n",
      "\n",
      "0\n",
      "1\n",
      "1\n",
      "\n",
      "0\n",
      "1\n",
      "1\n",
      "\n",
      "0\n",
      "1\n",
      "1\n",
      "\n",
      "0\n",
      "1\n",
      "2\n",
      "\n",
      "0\n",
      "1\n",
      "107\n",
      "\n",
      "0\n",
      "1\n",
      "974\n",
      "\n",
      "0\n",
      "1\n",
      "1764\n",
      "\n",
      "0\n",
      "1\n",
      "2155\n",
      "\n",
      "0\n",
      "1\n",
      "2765\n",
      "\n",
      "0\n",
      "1\n",
      "3347\n",
      "\n",
      "0\n",
      "2\n",
      "3856\n",
      "\n",
      "0\n",
      "2\n",
      "4619\n",
      "\n",
      "0\n",
      "2\n",
      "4952\n",
      "\n",
      "0\n",
      "2\n",
      "5271\n",
      "\n",
      "0\n",
      "2\n",
      "5924\n",
      "\n",
      "0\n",
      "2\n",
      "5924\n",
      "\n"
     ]
    }
   ],
   "source": [
    "num_removed = 0\n",
    "num_deleted = 0\n",
    "num_ty = 0\n",
    "iter_num = 0\n",
    "\n",
    "for chunk in pd.read_csv(\"../sample_data/politics_auth_comments2.csv\", \n",
    "                         header=None, \n",
    "                         names = ['author', 'subreddit', 'body', 'score', 'created_utc', 'link_id', 'parent_id'],\n",
    "                         usecols = ['body', 'subreddit'],\n",
    "                         index_col = False,\n",
    "                         chunksize = chunk_size\n",
    "                         ):\n",
    "    iter_num += 1\n",
    "    politics_comments = chunk.loc[chunk['subreddit'] == 'politics']\n",
    "    arr = politics_comments.loc[politics_comments['body'].notna()]['body'].values\n",
    "    num_removed += len([i for i in arr if i == removed_str])\n",
    "    num_deleted += len([i for i in arr if i == deleted_str])\n",
    "    num_ty += len([i for i in arr if 'thank you for participating' in i.lower()])\n",
    "    \n",
    "    if iter_num % 100 == 0:\n",
    "        print(num_removed)\n",
    "        print(num_deleted)\n",
    "        print(num_ty)\n",
    "        print()"
   ]
  },
  {
   "cell_type": "code",
   "execution_count": 5,
   "metadata": {},
   "outputs": [],
   "source": [
    "comment_auths = []\n",
    "comment_tokens = []"
   ]
  },
  {
   "cell_type": "code",
   "execution_count": 3,
   "metadata": {},
   "outputs": [],
   "source": [
    "def remove_bad_comments(chunk, subreddit='politics'):\n",
    "    politics_comments = chunk.loc[chunk['subreddit'] == subreddit]\n",
    "    politics_notna = politics_comments.loc[politics_comments['body'].notna()]\n",
    "    # Time from January 1 2015 to June 1 2016\n",
    "    politics_time_range = politics_notna.loc[politics_notna['created_utc'] >= 1420131600 ]\n",
    "    politics_time_range = politics_time_range.loc[politics_time_range['created_utc'] < 1464753600]\n",
    "    comments = politics_time_range['body'].values\n",
    "    auths = politics_time_range['author'].values\n",
    "    \n",
    "    good_indices = [i for i in range(len(comments)) if comments[i] != deleted_str \n",
    "                    and comments[i] != removed_str\n",
    "                    and 'thank you for participating' not in comments[i].lower()]\n",
    "        \n",
    "    return (list(comments[good_indices]), list(auths[good_indices]))"
   ]
  },
  {
   "cell_type": "code",
   "execution_count": 4,
   "metadata": {},
   "outputs": [],
   "source": [
    "def modify_words(data):\n",
    "    # remove hyperlinks\n",
    "    data1 = [re.sub(r'https?:\\/\\/[\\S]+', ' ', i, flags=re.MULTILINE) for i in data]\n",
    "    \n",
    "    # common escape sequences\n",
    "    data1 = [re.sub(r'\\n', '', i) for i in data1]\n",
    "    data1 = [re.sub(r'&gt;', '', i) for i in data1]\n",
    "    \n",
    "    # convert to lowercase\n",
    "    data1 = [i.lower() for i in data1]\n",
    "    \n",
    "    # keep user and subreddit tags\n",
    "    data1 = [re.sub(r'/u/', '_user_', i) for i in data1]\n",
    "    data1 = [re.sub(r'/r/', '_subreddit_', i) for i in data1]\n",
    "    \n",
    "    return data1"
   ]
  },
  {
   "cell_type": "code",
   "execution_count": 24,
   "metadata": {},
   "outputs": [],
   "source": [
    "def tokenize_comments(data):\n",
    "    # remove hyperlinks\n",
    "    data1 = [re.sub(r'https?:\\/\\/[\\S]+', ' ', i, flags=re.MULTILINE) for i in data]\n",
    "    \n",
    "    # common escape sequences\n",
    "    data1 = [re.sub(r'\\n', '', i) for i in data1]\n",
    "    data1 = [re.sub(r'&gt;', '', i) for i in data1]\n",
    "    \n",
    "    # convert to lowercase\n",
    "    data1 = [i.lower() for i in data1]\n",
    "    \n",
    "    # keep user and subreddit tags\n",
    "    data1 = [re.sub(r'/u/', '_user_', i) for i in data1]\n",
    "    data1 = [re.sub(r'/r/', '_subreddit_', i) for i in data1]\n",
    "    \n",
    "    data_tokenized = [re.findall(r'\\w+', i.lower()) for i in data1]\n",
    "    \n",
    "    # remove numbers\n",
    "    data_tokenized = [[token for token in doc if not token.isnumeric()] for doc in data_tokenized]\n",
    "    \n",
    "    return data_tokenized"
   ]
  },
  {
   "cell_type": "code",
   "execution_count": 46,
   "metadata": {},
   "outputs": [
    {
     "name": "stdout",
     "output_type": "stream",
     "text": [
      "1000000\n",
      "2000000\n",
      "3000000\n",
      "4000000\n",
      "5000000\n",
      "6000000\n",
      "7000000\n",
      "8000000\n",
      "9000000\n",
      "10000000\n",
      "11000000\n",
      "12000000\n",
      "13000000\n",
      "14000000\n",
      "15000000\n",
      "16000000\n",
      "17000000\n",
      "18000000\n",
      "19000000\n",
      "20000000\n",
      "21000000\n",
      "22000000\n",
      "23000000\n",
      "24000000\n",
      "25000000\n",
      "26000000\n",
      "27000000\n",
      "28000000\n",
      "29000000\n",
      "30000000\n"
     ]
    }
   ],
   "source": [
    "iter_num = 0\n",
    "\n",
    "for chunk in pd.read_csv(\"../sample_data/politics_auth_comments2.csv\", \n",
    "                         header=None, \n",
    "                         names = ['author', 'subreddit', 'body', 'score', 'created_utc', 'link_id', 'parent_id'],\n",
    "                         usecols = ['author','body', 'subreddit', 'created_utc'],\n",
    "                         index_col = False,\n",
    "                         chunksize = chunk_size\n",
    "                         ):\n",
    "    iter_num += 1\n",
    "    comments, auths = remove_bad_comments(chunk)\n",
    "    comment_toks = tokenize_comments(comments)\n",
    "    \n",
    "    comment_auths = comment_auths + auths\n",
    "    comment_tokens = comment_tokens + comment_toks\n",
    "    \n",
    "    if iter_num % 100 == 0:\n",
    "        print(iter_num * chunk_size)\n",
    "    "
   ]
  },
  {
   "cell_type": "code",
   "execution_count": 51,
   "metadata": {},
   "outputs": [
    {
     "name": "stdout",
     "output_type": "stream",
     "text": [
      "561573\n",
      "561573\n",
      "23463031\n"
     ]
    }
   ],
   "source": [
    "print(len(comment_auths))\n",
    "print(len(comment_tokens))\n",
    "print(sum([len(i) for i in comment_tokens]))"
   ]
  },
  {
   "cell_type": "code",
   "execution_count": 48,
   "metadata": {},
   "outputs": [],
   "source": [
    "with open(\"stored_variables/politics_tokens_auth_sample.json\", 'w') as f:\n",
    "    json.dump(comment_tokens, f)"
   ]
  },
  {
   "cell_type": "code",
   "execution_count": 49,
   "metadata": {},
   "outputs": [],
   "source": [
    "with open(\"stored_variables/auth_sample_r_politics_authors.json\", 'w') as f:\n",
    "    json.dump(comment_auths, f)"
   ]
  },
  {
   "cell_type": "markdown",
   "metadata": {},
   "source": [
    "## CountVectorizer"
   ]
  },
  {
   "cell_type": "code",
   "execution_count": 5,
   "metadata": {},
   "outputs": [],
   "source": [
    "comment_vocab = set()"
   ]
  },
  {
   "cell_type": "code",
   "execution_count": 11,
   "metadata": {},
   "outputs": [],
   "source": [
    "chunk_size = 10 ** 6"
   ]
  },
  {
   "cell_type": "code",
   "execution_count": 7,
   "metadata": {},
   "outputs": [
    {
     "name": "stdout",
     "output_type": "stream",
     "text": [
      "1000000\n"
     ]
    },
    {
     "ename": "KeyboardInterrupt",
     "evalue": "",
     "output_type": "error",
     "traceback": [
      "\u001b[0;31m---------------------------------------------------------------------------\u001b[0m",
      "\u001b[0;31mKeyboardInterrupt\u001b[0m                         Traceback (most recent call last)",
      "\u001b[0;32m<ipython-input-7-2fcc6cdbb935>\u001b[0m in \u001b[0;36m<module>\u001b[0;34m\u001b[0m\n\u001b[1;32m      6\u001b[0m                          \u001b[0musecols\u001b[0m \u001b[0;34m=\u001b[0m \u001b[0;34m[\u001b[0m\u001b[0;34m'author'\u001b[0m\u001b[0;34m,\u001b[0m\u001b[0;34m'body'\u001b[0m\u001b[0;34m,\u001b[0m \u001b[0;34m'subreddit'\u001b[0m\u001b[0;34m,\u001b[0m \u001b[0;34m'created_utc'\u001b[0m\u001b[0;34m]\u001b[0m\u001b[0;34m,\u001b[0m\u001b[0;34m\u001b[0m\u001b[0;34m\u001b[0m\u001b[0m\n\u001b[1;32m      7\u001b[0m                          \u001b[0mindex_col\u001b[0m \u001b[0;34m=\u001b[0m \u001b[0;32mFalse\u001b[0m\u001b[0;34m,\u001b[0m\u001b[0;34m\u001b[0m\u001b[0;34m\u001b[0m\u001b[0m\n\u001b[0;32m----> 8\u001b[0;31m                          \u001b[0mchunksize\u001b[0m \u001b[0;34m=\u001b[0m \u001b[0mchunk_size\u001b[0m\u001b[0;34m\u001b[0m\u001b[0;34m\u001b[0m\u001b[0m\n\u001b[0m\u001b[1;32m      9\u001b[0m                          ):\n\u001b[1;32m     10\u001b[0m     \u001b[0miter_num\u001b[0m \u001b[0;34m+=\u001b[0m \u001b[0;36m1\u001b[0m\u001b[0;34m\u001b[0m\u001b[0;34m\u001b[0m\u001b[0m\n",
      "\u001b[0;32m/usr/local/anaconda3/lib/python3.7/site-packages/pandas/io/parsers.py\u001b[0m in \u001b[0;36m__next__\u001b[0;34m(self)\u001b[0m\n\u001b[1;32m   1126\u001b[0m     \u001b[0;32mdef\u001b[0m \u001b[0m__next__\u001b[0m\u001b[0;34m(\u001b[0m\u001b[0mself\u001b[0m\u001b[0;34m)\u001b[0m\u001b[0;34m:\u001b[0m\u001b[0;34m\u001b[0m\u001b[0;34m\u001b[0m\u001b[0m\n\u001b[1;32m   1127\u001b[0m         \u001b[0;32mtry\u001b[0m\u001b[0;34m:\u001b[0m\u001b[0;34m\u001b[0m\u001b[0;34m\u001b[0m\u001b[0m\n\u001b[0;32m-> 1128\u001b[0;31m             \u001b[0;32mreturn\u001b[0m \u001b[0mself\u001b[0m\u001b[0;34m.\u001b[0m\u001b[0mget_chunk\u001b[0m\u001b[0;34m(\u001b[0m\u001b[0;34m)\u001b[0m\u001b[0;34m\u001b[0m\u001b[0;34m\u001b[0m\u001b[0m\n\u001b[0m\u001b[1;32m   1129\u001b[0m         \u001b[0;32mexcept\u001b[0m \u001b[0mStopIteration\u001b[0m\u001b[0;34m:\u001b[0m\u001b[0;34m\u001b[0m\u001b[0;34m\u001b[0m\u001b[0m\n\u001b[1;32m   1130\u001b[0m             \u001b[0mself\u001b[0m\u001b[0;34m.\u001b[0m\u001b[0mclose\u001b[0m\u001b[0;34m(\u001b[0m\u001b[0;34m)\u001b[0m\u001b[0;34m\u001b[0m\u001b[0;34m\u001b[0m\u001b[0m\n",
      "\u001b[0;32m/usr/local/anaconda3/lib/python3.7/site-packages/pandas/io/parsers.py\u001b[0m in \u001b[0;36mget_chunk\u001b[0;34m(self, size)\u001b[0m\n\u001b[1;32m   1186\u001b[0m                 \u001b[0;32mraise\u001b[0m \u001b[0mStopIteration\u001b[0m\u001b[0;34m\u001b[0m\u001b[0;34m\u001b[0m\u001b[0m\n\u001b[1;32m   1187\u001b[0m             \u001b[0msize\u001b[0m \u001b[0;34m=\u001b[0m \u001b[0mmin\u001b[0m\u001b[0;34m(\u001b[0m\u001b[0msize\u001b[0m\u001b[0;34m,\u001b[0m \u001b[0mself\u001b[0m\u001b[0;34m.\u001b[0m\u001b[0mnrows\u001b[0m \u001b[0;34m-\u001b[0m \u001b[0mself\u001b[0m\u001b[0;34m.\u001b[0m\u001b[0m_currow\u001b[0m\u001b[0;34m)\u001b[0m\u001b[0;34m\u001b[0m\u001b[0;34m\u001b[0m\u001b[0m\n\u001b[0;32m-> 1188\u001b[0;31m         \u001b[0;32mreturn\u001b[0m \u001b[0mself\u001b[0m\u001b[0;34m.\u001b[0m\u001b[0mread\u001b[0m\u001b[0;34m(\u001b[0m\u001b[0mnrows\u001b[0m\u001b[0;34m=\u001b[0m\u001b[0msize\u001b[0m\u001b[0;34m)\u001b[0m\u001b[0;34m\u001b[0m\u001b[0;34m\u001b[0m\u001b[0m\n\u001b[0m\u001b[1;32m   1189\u001b[0m \u001b[0;34m\u001b[0m\u001b[0m\n\u001b[1;32m   1190\u001b[0m \u001b[0;34m\u001b[0m\u001b[0m\n",
      "\u001b[0;32m/usr/local/anaconda3/lib/python3.7/site-packages/pandas/io/parsers.py\u001b[0m in \u001b[0;36mread\u001b[0;34m(self, nrows)\u001b[0m\n\u001b[1;32m   1152\u001b[0m     \u001b[0;32mdef\u001b[0m \u001b[0mread\u001b[0m\u001b[0;34m(\u001b[0m\u001b[0mself\u001b[0m\u001b[0;34m,\u001b[0m \u001b[0mnrows\u001b[0m\u001b[0;34m=\u001b[0m\u001b[0;32mNone\u001b[0m\u001b[0;34m)\u001b[0m\u001b[0;34m:\u001b[0m\u001b[0;34m\u001b[0m\u001b[0;34m\u001b[0m\u001b[0m\n\u001b[1;32m   1153\u001b[0m         \u001b[0mnrows\u001b[0m \u001b[0;34m=\u001b[0m \u001b[0m_validate_integer\u001b[0m\u001b[0;34m(\u001b[0m\u001b[0;34m\"nrows\"\u001b[0m\u001b[0;34m,\u001b[0m \u001b[0mnrows\u001b[0m\u001b[0;34m)\u001b[0m\u001b[0;34m\u001b[0m\u001b[0;34m\u001b[0m\u001b[0m\n\u001b[0;32m-> 1154\u001b[0;31m         \u001b[0mret\u001b[0m \u001b[0;34m=\u001b[0m \u001b[0mself\u001b[0m\u001b[0;34m.\u001b[0m\u001b[0m_engine\u001b[0m\u001b[0;34m.\u001b[0m\u001b[0mread\u001b[0m\u001b[0;34m(\u001b[0m\u001b[0mnrows\u001b[0m\u001b[0;34m)\u001b[0m\u001b[0;34m\u001b[0m\u001b[0;34m\u001b[0m\u001b[0m\n\u001b[0m\u001b[1;32m   1155\u001b[0m \u001b[0;34m\u001b[0m\u001b[0m\n\u001b[1;32m   1156\u001b[0m         \u001b[0;31m# May alter columns / col_dict\u001b[0m\u001b[0;34m\u001b[0m\u001b[0;34m\u001b[0m\u001b[0;34m\u001b[0m\u001b[0m\n",
      "\u001b[0;32m/usr/local/anaconda3/lib/python3.7/site-packages/pandas/io/parsers.py\u001b[0m in \u001b[0;36mread\u001b[0;34m(self, nrows)\u001b[0m\n\u001b[1;32m   2057\u001b[0m     \u001b[0;32mdef\u001b[0m \u001b[0mread\u001b[0m\u001b[0;34m(\u001b[0m\u001b[0mself\u001b[0m\u001b[0;34m,\u001b[0m \u001b[0mnrows\u001b[0m\u001b[0;34m=\u001b[0m\u001b[0;32mNone\u001b[0m\u001b[0;34m)\u001b[0m\u001b[0;34m:\u001b[0m\u001b[0;34m\u001b[0m\u001b[0;34m\u001b[0m\u001b[0m\n\u001b[1;32m   2058\u001b[0m         \u001b[0;32mtry\u001b[0m\u001b[0;34m:\u001b[0m\u001b[0;34m\u001b[0m\u001b[0;34m\u001b[0m\u001b[0m\n\u001b[0;32m-> 2059\u001b[0;31m             \u001b[0mdata\u001b[0m \u001b[0;34m=\u001b[0m \u001b[0mself\u001b[0m\u001b[0;34m.\u001b[0m\u001b[0m_reader\u001b[0m\u001b[0;34m.\u001b[0m\u001b[0mread\u001b[0m\u001b[0;34m(\u001b[0m\u001b[0mnrows\u001b[0m\u001b[0;34m)\u001b[0m\u001b[0;34m\u001b[0m\u001b[0;34m\u001b[0m\u001b[0m\n\u001b[0m\u001b[1;32m   2060\u001b[0m         \u001b[0;32mexcept\u001b[0m \u001b[0mStopIteration\u001b[0m\u001b[0;34m:\u001b[0m\u001b[0;34m\u001b[0m\u001b[0;34m\u001b[0m\u001b[0m\n\u001b[1;32m   2061\u001b[0m             \u001b[0;32mif\u001b[0m \u001b[0mself\u001b[0m\u001b[0;34m.\u001b[0m\u001b[0m_first_chunk\u001b[0m\u001b[0;34m:\u001b[0m\u001b[0;34m\u001b[0m\u001b[0;34m\u001b[0m\u001b[0m\n",
      "\u001b[0;32mpandas/_libs/parsers.pyx\u001b[0m in \u001b[0;36mpandas._libs.parsers.TextReader.read\u001b[0;34m()\u001b[0m\n",
      "\u001b[0;32mpandas/_libs/parsers.pyx\u001b[0m in \u001b[0;36mpandas._libs.parsers.TextReader._read_low_memory\u001b[0;34m()\u001b[0m\n",
      "\u001b[0;32mpandas/_libs/parsers.pyx\u001b[0m in \u001b[0;36mpandas._libs.parsers.TextReader._read_rows\u001b[0;34m()\u001b[0m\n",
      "\u001b[0;32mpandas/_libs/parsers.pyx\u001b[0m in \u001b[0;36mpandas._libs.parsers.TextReader._convert_column_data\u001b[0;34m()\u001b[0m\n",
      "\u001b[0;32mpandas/_libs/parsers.pyx\u001b[0m in \u001b[0;36mpandas._libs.parsers.TextReader._convert_tokens\u001b[0;34m()\u001b[0m\n",
      "\u001b[0;32mpandas/_libs/parsers.pyx\u001b[0m in \u001b[0;36mpandas._libs.parsers.TextReader._convert_with_dtype\u001b[0;34m()\u001b[0m\n",
      "\u001b[0;32m/usr/local/anaconda3/lib/python3.7/site-packages/pandas/core/dtypes/common.py\u001b[0m in \u001b[0;36mis_categorical_dtype\u001b[0;34m(arr_or_dtype)\u001b[0m\n\u001b[1;32m    676\u001b[0m \u001b[0;34m\u001b[0m\u001b[0m\n\u001b[1;32m    677\u001b[0m \u001b[0;34m\u001b[0m\u001b[0m\n\u001b[0;32m--> 678\u001b[0;31m \u001b[0;32mdef\u001b[0m \u001b[0mis_categorical_dtype\u001b[0m\u001b[0;34m(\u001b[0m\u001b[0marr_or_dtype\u001b[0m\u001b[0;34m)\u001b[0m\u001b[0;34m:\u001b[0m\u001b[0;34m\u001b[0m\u001b[0;34m\u001b[0m\u001b[0m\n\u001b[0m\u001b[1;32m    679\u001b[0m     \"\"\"\n\u001b[1;32m    680\u001b[0m     \u001b[0mCheck\u001b[0m \u001b[0mwhether\u001b[0m \u001b[0man\u001b[0m \u001b[0marray\u001b[0m\u001b[0;34m-\u001b[0m\u001b[0mlike\u001b[0m \u001b[0;32mor\u001b[0m \u001b[0mdtype\u001b[0m \u001b[0;32mis\u001b[0m \u001b[0mof\u001b[0m \u001b[0mthe\u001b[0m \u001b[0mCategorical\u001b[0m \u001b[0mdtype\u001b[0m\u001b[0;34m.\u001b[0m\u001b[0;34m\u001b[0m\u001b[0;34m\u001b[0m\u001b[0m\n",
      "\u001b[0;31mKeyboardInterrupt\u001b[0m: "
     ]
    }
   ],
   "source": [
    "iter_num = 0\n",
    "\n",
    "for chunk in pd.read_csv(\"../sample_data/politics_auth_comments2.csv\", \n",
    "                         header=None, \n",
    "                         names = ['author', 'subreddit', 'body', 'score', 'created_utc', 'link_id', 'parent_id'],\n",
    "                         usecols = ['author','body', 'subreddit', 'created_utc'],\n",
    "                         index_col = False,\n",
    "                         chunksize = chunk_size\n",
    "                         ):\n",
    "    iter_num += 1\n",
    "    comments, _ = remove_bad_comments(chunk)\n",
    "    \n",
    "    if(len(comments) > 0):\n",
    "        curr_cv = CountVectorizer()\n",
    "        curr_cv.fit(comments)\n",
    "        curr_vocab = curr_cv.get_feature_names()\n",
    "        comment_vocab = comment_vocab.union(curr_vocab)\n",
    "        print(\"vocab size: \" + str(len(comment_vocab)))\n",
    "\n",
    "    print(iter_num * chunk_size)"
   ]
  },
  {
   "cell_type": "code",
   "execution_count": 8,
   "metadata": {},
   "outputs": [],
   "source": [
    "all_comments = []"
   ]
  },
  {
   "cell_type": "code",
   "execution_count": 12,
   "metadata": {},
   "outputs": [
    {
     "name": "stdout",
     "output_type": "stream",
     "text": [
      "1000000\n",
      "2000000\n",
      "3000000\n",
      "4000000\n",
      "5000000\n",
      "6000000\n",
      "7000000\n",
      "8000000\n",
      "9000000\n",
      "10000000\n",
      "11000000\n",
      "12000000\n",
      "13000000\n",
      "14000000\n",
      "15000000\n",
      "16000000\n",
      "17000000\n",
      "18000000\n",
      "19000000\n",
      "20000000\n",
      "21000000\n",
      "22000000\n",
      "23000000\n",
      "24000000\n",
      "25000000\n",
      "26000000\n",
      "27000000\n",
      "28000000\n",
      "29000000\n",
      "30000000\n",
      "31000000\n"
     ]
    }
   ],
   "source": [
    "iter_num = 0\n",
    "\n",
    "for chunk in pd.read_csv(\"../sample_data/politics_auth_comments2.csv\", \n",
    "                         header=None, \n",
    "                         names = ['author', 'subreddit', 'body', 'score', 'created_utc', 'link_id', 'parent_id'],\n",
    "                         usecols = ['author','body', 'subreddit', 'created_utc'],\n",
    "                         index_col = False,\n",
    "                         chunksize = chunk_size\n",
    "                         ):\n",
    "    iter_num += 1\n",
    "    comments, _ = remove_bad_comments(chunk)\n",
    "    \n",
    "    all_comments = all_comments + list(modify_words(comments))\n",
    "\n",
    "    print(iter_num * chunk_size)"
   ]
  },
  {
   "cell_type": "code",
   "execution_count": 13,
   "metadata": {},
   "outputs": [],
   "source": [
    "comment_tv = TfidfVectorizer(min_df = 10, max_df = 0.5)\n",
    "comment_tfidf = comment_tv.fit_transform(all_comments)"
   ]
  },
  {
   "cell_type": "code",
   "execution_count": 14,
   "metadata": {},
   "outputs": [
    {
     "data": {
      "text/plain": [
       "<561573x26903 sparse matrix of type '<class 'numpy.float64'>'\n",
       "\twith 16284787 stored elements in Compressed Sparse Row format>"
      ]
     },
     "execution_count": 14,
     "metadata": {},
     "output_type": "execute_result"
    }
   ],
   "source": [
    "comment_tfidf"
   ]
  },
  {
   "cell_type": "code",
   "execution_count": 15,
   "metadata": {},
   "outputs": [],
   "source": [
    "with open(\"stored_variables/politics_tokens_text_tfidf.pickle\", 'wb') as f:\n",
    "    pickle.dump(comment_tfidf, f)"
   ]
  },
  {
   "cell_type": "code",
   "execution_count": null,
   "metadata": {},
   "outputs": [],
   "source": []
  }
 ],
 "metadata": {
  "kernelspec": {
   "display_name": "Python 3",
   "language": "python",
   "name": "python3"
  },
  "language_info": {
   "codemirror_mode": {
    "name": "ipython",
    "version": 3
   },
   "file_extension": ".py",
   "mimetype": "text/x-python",
   "name": "python",
   "nbconvert_exporter": "python",
   "pygments_lexer": "ipython3",
   "version": "3.7.3"
  }
 },
 "nbformat": 4,
 "nbformat_minor": 2
}
