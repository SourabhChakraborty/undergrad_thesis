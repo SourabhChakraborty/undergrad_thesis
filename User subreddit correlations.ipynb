{
 "cells": [
  {
   "cell_type": "code",
   "execution_count": 11,
   "metadata": {},
   "outputs": [],
   "source": [
    "import json\n",
    "import pickle\n",
    "import numpy as np\n",
    "import pandas as pd\n",
    "from scipy.sparse import bsr_matrix, coo_matrix, csr_matrix, lil_matrix, identity\n",
    "from matplotlib import pyplot as plt\n",
    "from scipy.stats import pearsonr"
   ]
  },
  {
   "cell_type": "code",
   "execution_count": 2,
   "metadata": {},
   "outputs": [],
   "source": [
    "with open(\"stored_variables/user_subreddit_tf.pickle\", \"rb\") as f:\n",
    "    subreddit_tf = pickle.load(f)"
   ]
  },
  {
   "cell_type": "code",
   "execution_count": 3,
   "metadata": {},
   "outputs": [],
   "source": [
    "with open(\"stored_variables/user_subreddit_df_mat.pickle\", \"rb\") as f:\n",
    "    subreddit_df_mat = pickle.load(f)"
   ]
  },
  {
   "cell_type": "code",
   "execution_count": 4,
   "metadata": {},
   "outputs": [],
   "source": [
    "with open(\"stored_variables/user_subreddit_tf_auths.pickle\", \"rb\") as f:\n",
    "    author_names = pickle.load(f)"
   ]
  },
  {
   "cell_type": "code",
   "execution_count": 5,
   "metadata": {},
   "outputs": [],
   "source": [
    "with open(\"stored_variables/user_subreddit_tf_subreddit_names.pickle\", \"rb\") as f:\n",
    "    subreddit_reverse_dict = pickle.load(f)"
   ]
  },
  {
   "cell_type": "code",
   "execution_count": 18,
   "metadata": {},
   "outputs": [
    {
     "data": {
      "text/plain": [
       "(0.006945999657304675, 0.3259702268553751)"
      ]
     },
     "execution_count": 18,
     "metadata": {},
     "output_type": "execute_result"
    }
   ],
   "source": [
    "pearsonr(np.array(subreddit_tf[:,subreddit_reverse_dict['the_donald']].todense())[:,0], \n",
    "         np.array(subreddit_tf[:,subreddit_reverse_dict['sandersforpresident']].todense())[:,0])"
   ]
  },
  {
   "cell_type": "code",
   "execution_count": 19,
   "metadata": {},
   "outputs": [
    {
     "data": {
      "text/plain": [
       "(0.0039066652313088455, 0.580637703908411)"
      ]
     },
     "execution_count": 19,
     "metadata": {},
     "output_type": "execute_result"
    }
   ],
   "source": [
    "pearsonr(np.array(subreddit_tf[:,subreddit_reverse_dict['the_donald']].todense())[:,0], \n",
    "         np.array(subreddit_tf[:,subreddit_reverse_dict['askreddit']].todense())[:,0])"
   ]
  },
  {
   "cell_type": "code",
   "execution_count": 31,
   "metadata": {},
   "outputs": [
    {
     "data": {
      "text/plain": [
       "(0.009193164373805171, 0.19358178214841187)"
      ]
     },
     "execution_count": 31,
     "metadata": {},
     "output_type": "execute_result"
    }
   ],
   "source": [
    "pearsonr(np.array(subreddit_tf[:,subreddit_reverse_dict['sandersforpresident']].todense())[:,0], \n",
    "         np.array(subreddit_tf[:,subreddit_reverse_dict['askreddit']].todense())[:,0])"
   ]
  },
  {
   "cell_type": "code",
   "execution_count": 20,
   "metadata": {},
   "outputs": [
    {
     "data": {
      "text/plain": [
       "(0.017278457060725443, 0.014542647280847771)"
      ]
     },
     "execution_count": 20,
     "metadata": {},
     "output_type": "execute_result"
    }
   ],
   "source": [
    "pearsonr(np.array(subreddit_tf[:,subreddit_reverse_dict['sandersforpresident']].todense())[:,0], \n",
    "         np.array(subreddit_tf[:,subreddit_reverse_dict['hillaryclinton']].todense())[:,0])"
   ]
  },
  {
   "cell_type": "code",
   "execution_count": 21,
   "metadata": {},
   "outputs": [
    {
     "data": {
      "text/plain": [
       "(0.12288566811664794, 3.842419852237408e-68)"
      ]
     },
     "execution_count": 21,
     "metadata": {},
     "output_type": "execute_result"
    }
   ],
   "source": [
    "pearsonr(np.array(subreddit_tf[:,subreddit_reverse_dict['sandersforpresident']].todense())[:,0], \n",
    "         np.array(subreddit_tf[:,subreddit_reverse_dict['californiaforsanders']].todense())[:,0])"
   ]
  },
  {
   "cell_type": "code",
   "execution_count": 22,
   "metadata": {},
   "outputs": [
    {
     "data": {
      "text/plain": [
       "(0.0007462380356132146, 0.9159573184407317)"
      ]
     },
     "execution_count": 22,
     "metadata": {},
     "output_type": "execute_result"
    }
   ],
   "source": [
    "pearsonr(np.array(subreddit_tf[:,subreddit_reverse_dict['sandersforpresident']].todense())[:,0], \n",
    "         np.array(subreddit_tf[:,subreddit_reverse_dict['sanfrancisco']].todense())[:,0])"
   ]
  },
  {
   "cell_type": "code",
   "execution_count": 23,
   "metadata": {},
   "outputs": [
    {
     "data": {
      "text/plain": [
       "(0.1255490488205884, 4.539211633203512e-71)"
      ]
     },
     "execution_count": 23,
     "metadata": {},
     "output_type": "execute_result"
    }
   ],
   "source": [
    "pearsonr(np.array(subreddit_tf[:,subreddit_reverse_dict['sandersforpresident']].todense())[:,0], \n",
    "         np.array(subreddit_tf[:,subreddit_reverse_dict['politics']].todense())[:,0])"
   ]
  },
  {
   "cell_type": "code",
   "execution_count": 24,
   "metadata": {},
   "outputs": [
    {
     "data": {
      "text/plain": [
       "(0.02897203858739311, 4.169710737083831e-05)"
      ]
     },
     "execution_count": 24,
     "metadata": {},
     "output_type": "execute_result"
    }
   ],
   "source": [
    "pearsonr(np.array(subreddit_tf[:,subreddit_reverse_dict['the_donald']].todense())[:,0], \n",
    "         np.array(subreddit_tf[:,subreddit_reverse_dict['politics']].todense())[:,0])"
   ]
  },
  {
   "cell_type": "code",
   "execution_count": 27,
   "metadata": {},
   "outputs": [
    {
     "data": {
      "text/plain": [
       "(0.20974081527105873, 1.1686428180955802e-197)"
      ]
     },
     "execution_count": 27,
     "metadata": {},
     "output_type": "execute_result"
    }
   ],
   "source": [
    "pearsonr(np.array(subreddit_tf[:,subreddit_reverse_dict['music']].todense())[:,0], \n",
    "         np.array(subreddit_tf[:,subreddit_reverse_dict['askreddit']].todense())[:,0])"
   ]
  },
  {
   "cell_type": "code",
   "execution_count": 28,
   "metadata": {},
   "outputs": [
    {
     "data": {
      "text/plain": [
       "(0.15292142695017144, 6.462741720514796e-105)"
      ]
     },
     "execution_count": 28,
     "metadata": {},
     "output_type": "execute_result"
    }
   ],
   "source": [
    "pearsonr(np.array(subreddit_tf[:,subreddit_reverse_dict['music']].todense())[:,0], \n",
    "         np.array(subreddit_tf[:,subreddit_reverse_dict['hiphopheads']].todense())[:,0])"
   ]
  },
  {
   "cell_type": "code",
   "execution_count": 39,
   "metadata": {},
   "outputs": [
    {
     "data": {
      "text/plain": [
       "(0.036353671633504545, 2.7101412380228247e-07)"
      ]
     },
     "execution_count": 39,
     "metadata": {},
     "output_type": "execute_result"
    }
   ],
   "source": [
    "pearsonr(np.array(subreddit_tf[:,subreddit_reverse_dict['askreddit']].todense())[:,0], \n",
    "         np.array(subreddit_tf[:,subreddit_reverse_dict['hiphopheads']].todense())[:,0])"
   ]
  },
  {
   "cell_type": "code",
   "execution_count": 29,
   "metadata": {},
   "outputs": [
    {
     "data": {
      "text/plain": [
       "(-0.0009689450366045535, 0.8910142049441744)"
      ]
     },
     "execution_count": 29,
     "metadata": {},
     "output_type": "execute_result"
    }
   ],
   "source": [
    "pearsonr(np.array(subreddit_tf[:,subreddit_reverse_dict['sandersforpresident']].todense())[:,0], \n",
    "         np.array(subreddit_tf[:,subreddit_reverse_dict['hiphopheads']].todense())[:,0])"
   ]
  },
  {
   "cell_type": "code",
   "execution_count": 30,
   "metadata": {},
   "outputs": [
    {
     "data": {
      "text/plain": [
       "(-0.0024318494054767566, 0.730925662704415)"
      ]
     },
     "execution_count": 30,
     "metadata": {},
     "output_type": "execute_result"
    }
   ],
   "source": [
    "pearsonr(np.array(subreddit_tf[:,subreddit_reverse_dict['the_donald']].todense())[:,0], \n",
    "         np.array(subreddit_tf[:,subreddit_reverse_dict['hiphopheads']].todense())[:,0])"
   ]
  },
  {
   "cell_type": "code",
   "execution_count": 35,
   "metadata": {},
   "outputs": [
    {
     "data": {
      "text/plain": [
       "(0.2860574097611051, 0.0)"
      ]
     },
     "execution_count": 35,
     "metadata": {},
     "output_type": "execute_result"
    }
   ],
   "source": [
    "pearsonr(np.array(subreddit_tf[:,subreddit_reverse_dict['warriors']].todense())[:,0], \n",
    "         np.array(subreddit_tf[:,subreddit_reverse_dict['nba']].todense())[:,0])"
   ]
  },
  {
   "cell_type": "code",
   "execution_count": 36,
   "metadata": {},
   "outputs": [
    {
     "data": {
      "text/plain": [
       "(0.00309002933166054, 0.6621331999235762)"
      ]
     },
     "execution_count": 36,
     "metadata": {},
     "output_type": "execute_result"
    }
   ],
   "source": [
    "pearsonr(np.array(subreddit_tf[:,subreddit_reverse_dict['warriors']].todense())[:,0], \n",
    "         np.array(subreddit_tf[:,subreddit_reverse_dict['chicagobulls']].todense())[:,0])"
   ]
  },
  {
   "cell_type": "code",
   "execution_count": 37,
   "metadata": {},
   "outputs": [
    {
     "data": {
      "text/plain": [
       "(0.07841472740748483, 1.173928276396248e-28)"
      ]
     },
     "execution_count": 37,
     "metadata": {},
     "output_type": "execute_result"
    }
   ],
   "source": [
    "pearsonr(np.array(subreddit_tf[:,subreddit_reverse_dict['nba']].todense())[:,0], \n",
    "         np.array(subreddit_tf[:,subreddit_reverse_dict['chicagobulls']].todense())[:,0])"
   ]
  },
  {
   "cell_type": "code",
   "execution_count": 38,
   "metadata": {},
   "outputs": [
    {
     "data": {
      "text/plain": [
       "(0.016774546271047994, 0.01767784038016201)"
      ]
     },
     "execution_count": 38,
     "metadata": {},
     "output_type": "execute_result"
    }
   ],
   "source": [
    "pearsonr(np.array(subreddit_tf[:,subreddit_reverse_dict['warriors']].todense())[:,0], \n",
    "         np.array(subreddit_tf[:,subreddit_reverse_dict['sanfrancisco']].todense())[:,0])"
   ]
  },
  {
   "cell_type": "code",
   "execution_count": null,
   "metadata": {},
   "outputs": [],
   "source": []
  }
 ],
 "metadata": {
  "kernelspec": {
   "display_name": "Python 3",
   "language": "python",
   "name": "python3"
  },
  "language_info": {
   "codemirror_mode": {
    "name": "ipython",
    "version": 3
   },
   "file_extension": ".py",
   "mimetype": "text/x-python",
   "name": "python",
   "nbconvert_exporter": "python",
   "pygments_lexer": "ipython3",
   "version": "3.7.3"
  }
 },
 "nbformat": 4,
 "nbformat_minor": 2
}
