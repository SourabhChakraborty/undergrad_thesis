{
 "cells": [
  {
   "cell_type": "markdown",
   "metadata": {},
   "source": [
    "## Imports and loading variables"
   ]
  },
  {
   "cell_type": "code",
   "execution_count": 1,
   "metadata": {},
   "outputs": [],
   "source": [
    "import json\n",
    "import pickle\n",
    "from gensim.models import LdaModel\n",
    "from gensim.corpora import Dictionary\n",
    "\n",
    "from scipy.sparse import bsr_matrix, coo_matrix, csr_matrix, lil_matrix, identity\n",
    "from scipy.stats import chi2_contingency\n",
    "\n",
    "from matplotlib import pyplot as plt\n",
    "from IPython.display import HTML, display\n",
    "import pandas as pd\n",
    "import numpy as np\n",
    "import random"
   ]
  },
  {
   "cell_type": "code",
   "execution_count": 2,
   "metadata": {},
   "outputs": [],
   "source": [
    "with open('politics_tokens.json', 'r') as f:\n",
    "    politics_tokens = json.load(f) "
   ]
  },
  {
   "cell_type": "code",
   "execution_count": 3,
   "metadata": {},
   "outputs": [
    {
     "name": "stdout",
     "output_type": "stream",
     "text": [
      "925937\n"
     ]
    }
   ],
   "source": [
    "print(len(politics_tokens))"
   ]
  },
  {
   "cell_type": "code",
   "execution_count": 3,
   "metadata": {},
   "outputs": [],
   "source": [
    "politics_dictionary = Dictionary.load(\"stored_variables/politics_dictionary_lda\")"
   ]
  },
  {
   "cell_type": "code",
   "execution_count": 5,
   "metadata": {},
   "outputs": [],
   "source": [
    "politics_corpus = [politics_dictionary.doc2bow(text) for text in politics_tokens]"
   ]
  },
  {
   "cell_type": "code",
   "execution_count": 6,
   "metadata": {},
   "outputs": [],
   "source": [
    "with open('stored_variables/politics_tokens_auth_sample.json', 'r') as f:\n",
    "    politics_tokens_auth = json.load(f) "
   ]
  },
  {
   "cell_type": "code",
   "execution_count": 7,
   "metadata": {},
   "outputs": [
    {
     "name": "stdout",
     "output_type": "stream",
     "text": [
      "561573\n"
     ]
    }
   ],
   "source": [
    "print(len(politics_tokens_auth))"
   ]
  },
  {
   "cell_type": "code",
   "execution_count": 8,
   "metadata": {},
   "outputs": [],
   "source": [
    "politics_corpus_auth = [politics_dictionary.doc2bow(text) for text in politics_tokens_auth]"
   ]
  },
  {
   "cell_type": "code",
   "execution_count": 2,
   "metadata": {},
   "outputs": [],
   "source": [
    "politics_ldamodel26 = LdaModel.load('lda_models/politics_lda26.model')"
   ]
  },
  {
   "cell_type": "code",
   "execution_count": 172,
   "metadata": {
    "scrolled": true
   },
   "outputs": [
    {
     "name": "stdout",
     "output_type": "stream",
     "text": [
      "0: ['gun', 'guns', 'lol', 'control', 'men', 'check', 'ban', 'weapons', 'property', 'killed']\n",
      "1: ['for', 'money', 'more', 'on', 'tax', 'are', 'pay', 'have', 'you', 'would']\n",
      "2: ['illegal', 'for', 'legal', 'laws', 'crime', 'law', 'are', 'or', 'amendment', 'immigration']\n",
      "3: ['this', 'about', 'on', 'like', 'people', 'but', 'm', 'just', 'not', 'are']\n",
      "4: ['debates', 'great', 'please', 'ok', 'wonder', 'again', 'official', 'member', 'propaganda', 'removed']\n",
      "5: ['new', 'right', 'pro', 'polls', 'left', 'video', 'poll', 'wing', 'gay', 'senator']\n",
      "6: ['article', 'post', 'this', 'read', 'source', 'from', 'evidence', 'data', 'news', 'proof']\n",
      "7: ['she', 'her', 'hillary', 'for', 'woman', 'like', 'has', 'fox', 'emails', 'on']\n",
      "8: ['court', 'man', 'nice', 'damn', 'supreme', 'dude', 'union', 'executive', 'city', 'slavery']\n",
      "9: ['you', 'your', 'what', 'if', 're', 'not', 'do', 'are', 'have', 'can']\n",
      "10: ['bernie', 'sanders', 'hillary', 'clinton', 'trump', 'for', 'supporters', 'campaign', 'has', 'support']\n",
      "11: ['change', 'both', 'trade', 'climate', 'true', 'truth', 'water', 'science', 'down', 'global']\n",
      "12: ['people', 'are', 'white', 'america', 'black', 'us', 'american', 'world', 'country', 'racist']\n",
      "13: ['as', 'not', 'be', 'or', 'on', 'an', 'with', 'but', 'this', 'for']\n",
      "14: ['be', 'will', 'if', 'would', 'but', 'this', 'for', 'have', 'get', 'as']\n",
      "15: ['he', 'his', 'him', 'trump', 'has', 'said', 'what', 'guy', 'like', 'not']\n",
      "16: ['vote', 'for', 'party', 'republicans', 'republican', 'are', 'voting', 'democrats', 'democratic', 'who']\n",
      "17: ['oh', 'wait', 'god', 'thanks', 'cruz', 'attacks', 'thats', 'ted', 'for', 'john']\n",
      "18: ['my', 'for', 'year', 'years', 'me', 'old', 'time', 'last', 'day', 'over']\n",
      "19: ['war', 'military', 'fucking', 'iraq', 'front', 'fuck', 'shit', 'page', 'rand', 'paul']\n",
      "20: ['question', 'answer', 'ask', 'link', 'questions', 'agenda', 'jail', 'jesus', 'cool', 'asked']\n",
      "21: ['t', 'don', 'doesn', 'isn', 'they', 'but', 'didn', 'can', 'think', 'because']\n",
      "22: ['they', 'we', 'are', 'people', 'their', 'have', 'them', 'do', 'all', 'our']\n",
      "23: ['states', 'state', 'rights', 'women', 'law', 'delegates', 'super', 'speech', 'by', 'united']\n",
      "24: ['voter', 'percent', 'energy', 'south', 'low', 'id', 'nuclear', 'o', 'oil', 'carson']\n",
      "25: ['was', 'were', 'had', 'did', 'when', 'on', 'at', 'obama', 'been', 'for']\n"
     ]
    }
   ],
   "source": [
    "for topic_num in range(26):\n",
    "    print(str(topic_num) + \": \" + str([politics_dictionary.id2token[i] for i,j in politics_ldamodel26.get_topic_terms(topic_num)]))"
   ]
  },
  {
   "cell_type": "code",
   "execution_count": 3,
   "metadata": {},
   "outputs": [],
   "source": [
    "with open(\"stored_variables/politics_corpus_lda.pickle\", 'rb') as f:\n",
    "    politics_corpus_lda = pickle.load(f)"
   ]
  },
  {
   "cell_type": "code",
   "execution_count": 4,
   "metadata": {},
   "outputs": [],
   "source": [
    "with open(\"stored_variables/politics_corpus_auth_lda.pickle\", 'rb') as f:\n",
    "    politics_corpus_auth_lda = pickle.load(f)"
   ]
  },
  {
   "cell_type": "code",
   "execution_count": 5,
   "metadata": {},
   "outputs": [],
   "source": [
    "with open(\"stored_variables/auth_sample_r_politics_authors.json\", 'r') as f:\n",
    "    comment_auths = json.load(f) "
   ]
  },
  {
   "cell_type": "code",
   "execution_count": 6,
   "metadata": {},
   "outputs": [],
   "source": [
    "with open(\"stored_variables/user_subreddit_tf.pickle\", \"rb\") as f:\n",
    "    subreddit_tf = pickle.load(f)"
   ]
  },
  {
   "cell_type": "code",
   "execution_count": 7,
   "metadata": {},
   "outputs": [],
   "source": [
    "with open(\"stored_variables/user_subreddit_df_mat.pickle\", \"rb\") as f:\n",
    "    subreddit_df_mat = pickle.load(f)"
   ]
  },
  {
   "cell_type": "code",
   "execution_count": 8,
   "metadata": {},
   "outputs": [],
   "source": [
    "with open(\"stored_variables/user_subreddit_tf_auths.pickle\", \"rb\") as f:\n",
    "    author_names = pickle.load(f)"
   ]
  },
  {
   "cell_type": "code",
   "execution_count": 9,
   "metadata": {},
   "outputs": [],
   "source": [
    "with open(\"stored_variables/user_subreddit_tf_subreddit_names.pickle\", \"rb\") as f:\n",
    "    subreddit_reverse_dict = pickle.load(f)"
   ]
  },
  {
   "cell_type": "markdown",
   "metadata": {},
   "source": [
    "## Top topics in each dataset"
   ]
  },
  {
   "cell_type": "code",
   "execution_count": 12,
   "metadata": {},
   "outputs": [],
   "source": [
    "top_topic_by_doc = []\n",
    "\n",
    "for doc_topics in politics_corpus_lda:\n",
    "    topic_list_doc = sorted(doc_topics, key = lambda x : x[1], reverse = True)\n",
    "    top_topic_by_doc.append(topic_list_doc[0][0])\n",
    "    "
   ]
  },
  {
   "cell_type": "code",
   "execution_count": 13,
   "metadata": {
    "scrolled": false
   },
   "outputs": [
    {
     "data": {
      "image/png": "[encoded data removed]",
      "text/plain": [
       "<Figure size 432x288 with 1 Axes>"
      ]
     },
     "metadata": {
      "needs_background": "light"
     },
     "output_type": "display_data"
    }
   ],
   "source": [
    "plt.hist(top_topic_by_doc, bins = list(range(27)))\n",
    "plt.show()"
   ]
  },
  {
   "cell_type": "code",
   "execution_count": 14,
   "metadata": {},
   "outputs": [],
   "source": [
    "top_topic_by_doc_auth = []\n",
    "\n",
    "for doc_topics in politics_corpus_auth_lda:\n",
    "    topic_list_doc = sorted(doc_topics, key = lambda x : x[1], reverse = True)\n",
    "    top_topic_by_doc_auth.append(topic_list_doc[0][0])\n",
    "    "
   ]
  },
  {
   "cell_type": "code",
   "execution_count": 15,
   "metadata": {
    "scrolled": true
   },
   "outputs": [
    {
     "data": {
      "image/png": "[encoded data removed]",
      "text/plain": [
       "<Figure size 432x288 with 1 Axes>"
      ]
     },
     "metadata": {
      "needs_background": "light"
     },
     "output_type": "display_data"
    }
   ],
   "source": [
    "plt.hist(top_topic_by_doc_auth, bins = list(range(27)))\n",
    "plt.show()"
   ]
  },
  {
   "cell_type": "markdown",
   "metadata": {},
   "source": [
    "### Look at authors' subreddit history"
   ]
  },
  {
   "cell_type": "code",
   "execution_count": 16,
   "metadata": {
    "scrolled": true
   },
   "outputs": [
    {
     "data": {
      "text/plain": [
       "['boy_aint_right', 'Euphemism', 'fadka21', 'groovyinutah', 'kajunkennyg']"
      ]
     },
     "execution_count": 16,
     "metadata": {},
     "output_type": "execute_result"
    }
   ],
   "source": [
    "comment_auths[:5]"
   ]
  },
  {
   "cell_type": "code",
   "execution_count": 10,
   "metadata": {},
   "outputs": [],
   "source": [
    "author_reverse_dict = {author_names[i]:i for i in range(len(author_names))}"
   ]
  },
  {
   "cell_type": "code",
   "execution_count": 11,
   "metadata": {},
   "outputs": [],
   "source": [
    "num_sanders = {k:(subreddit_tf[author_reverse_dict[k], subreddit_reverse_dict['sandersforpresident']]) for k in author_names}\n",
    "num_trump = {k:(subreddit_tf[author_reverse_dict[k], subreddit_reverse_dict['the_donald']]) for k in author_names}\n",
    "num_clinton = {k:(subreddit_tf[author_reverse_dict[k], subreddit_reverse_dict['hillaryclinton']]) for k in author_names}\n",
    "# num_politics = {k:(subreddit_tf[author_reverse_dict[k], subreddit_reverse_dict['politics']]) for k in author_names}\n",
    "num_politics = {k:comment_auths.count(k) for k in author_names}\n"
   ]
  },
  {
   "cell_type": "code",
   "execution_count": 19,
   "metadata": {
    "scrolled": true
   },
   "outputs": [
    {
     "name": "stdout",
     "output_type": "stream",
     "text": [
      "SolarBear: 0\n",
      "look: 83\n",
      "Killfile: 3\n",
      "Fazookus: 0\n",
      "markedtrees: 0\n",
      "wolf550e: 0\n",
      "maxwellhill: 0\n",
      "wockyman: 0\n",
      "Masiosare: 0\n",
      "Othello: 0\n",
      "ndiin: 0\n",
      "stacijon: 0\n",
      "SwellJoe: 0\n",
      "cqxray: 0\n",
      "CalvinR: 0\n",
      "darkon: 0\n",
      "blindmikey: 69\n",
      "adremeaux: 4\n",
      "MauriceReeves: 0\n",
      "Suppafly: 2\n",
      "curlymo: 0\n",
      "whtevn: 103\n",
      "Laminar: 0\n",
      "Hoodwink: 0\n",
      "FenPhen: 0\n",
      "Independent: 28\n",
      "greenknight: 0\n",
      "fvf: 0\n",
      "daimposter: 135\n",
      "ezekiel: 0\n",
      "jwcrubau: 0\n",
      "MarginalMeaning: 0\n",
      "sekyuritei: 111\n",
      "buddhahat: 0\n",
      "VoodooIdol: 0\n",
      "visarga: 0\n",
      "Edgeoforever: 0\n",
      "SteveAM1: 0\n",
      "gordo65: 0\n",
      "twsmith: 1\n",
      "StuffMaster: 0\n",
      "gehenom: 0\n",
      "DudeAsInCool: 1\n",
      "mr_luc: 2\n",
      "mossman: 0\n",
      "akise: 0\n",
      "peridyn: 0\n",
      "vemrion: 0\n",
      "judgej2: 0\n",
      "snookums: 0\n"
     ]
    }
   ],
   "source": [
    "for k in list(num_sanders.keys())[:50]:\n",
    "    print(k + \": \" + str(num_sanders[k]))"
   ]
  },
  {
   "cell_type": "code",
   "execution_count": 23,
   "metadata": {},
   "outputs": [
    {
     "name": "stdout",
     "output_type": "stream",
     "text": [
      "304\n",
      "207\n",
      "25\n",
      "\n",
      "523\n",
      "343\n",
      "45\n",
      "\n",
      "1557\n",
      "919\n",
      "137\n",
      "\n",
      "5473\n",
      "3354\n",
      "688\n",
      "\n",
      "14527\n",
      "16646\n",
      "19312\n"
     ]
    }
   ],
   "source": [
    "print(len([1 for k in author_names if num_sanders[k] >= 100]))\n",
    "print(len([1 for k in author_names if num_trump[k] >= 100]))\n",
    "print(len([1 for k in author_names if num_clinton[k] >= 100]))\n",
    "print()\n",
    "print(len([1 for k in author_names if num_sanders[k] >= 50]))\n",
    "print(len([1 for k in author_names if num_trump[k] >= 50]))\n",
    "print(len([1 for k in author_names if num_clinton[k] >= 50]))\n",
    "print()\n",
    "print(len([1 for k in author_names if num_sanders[k] >= 10]))\n",
    "print(len([1 for k in author_names if num_trump[k] >= 10]))\n",
    "print(len([1 for k in author_names if num_clinton[k] >= 10]))\n",
    "print()\n",
    "print(len([1 for k in author_names if num_sanders[k] >= 1]))\n",
    "print(len([1 for k in author_names if num_trump[k] >= 1]))\n",
    "print(len([1 for k in author_names if num_clinton[k] >= 1]))\n",
    "print()\n",
    "print(len([1 for k in author_names if num_sanders[k] == 0]))\n",
    "print(len([1 for k in author_names if num_trump[k] == 0]))\n",
    "print(len([1 for k in author_names if num_clinton[k] == 0]))\n"
   ]
  },
  {
   "cell_type": "code",
   "execution_count": 13,
   "metadata": {},
   "outputs": [
    {
     "name": "stdout",
     "output_type": "stream",
     "text": [
      "206\n",
      "73\n",
      "18\n"
     ]
    }
   ],
   "source": [
    "print(len([1 for k in author_names if num_sanders[k] >= 10 and num_trump[k] >= 10]))\n",
    "print(len([1 for k in author_names if num_sanders[k] >= 10 and num_clinton[k] >= 10]))\n",
    "print(len([1 for k in author_names if num_clinton[k] >= 10 and num_trump[k] >= 10]))\n"
   ]
  },
  {
   "cell_type": "code",
   "execution_count": 14,
   "metadata": {},
   "outputs": [
    {
     "name": "stdout",
     "output_type": "stream",
     "text": [
      "73\n",
      "998\n",
      "5254\n",
      "20000\n"
     ]
    }
   ],
   "source": [
    "print(len([1 for k in author_names if num_politics[k] >= 1000]))\n",
    "print(len([1 for k in author_names if num_politics[k] >= 100]))\n",
    "print(len([1 for k in aut7hor_names if num_politics[k] >= 10]))\n",
    "print(len([1 for k in author_names if num_politics[k] >= 1]))"
   ]
  },
  {
   "cell_type": "code",
   "execution_count": 16,
   "metadata": {},
   "outputs": [
    {
     "name": "stdout",
     "output_type": "stream",
     "text": [
      "1134\n",
      "532\n",
      "108\n",
      "190\n",
      "66\n",
      "18\n",
      "12\n"
     ]
    }
   ],
   "source": [
    "print(len([1 for k in author_names if num_politics[k] >= 10 and num_sanders[k] >= 10]))\n",
    "print(len([1 for k in author_names if num_politics[k] >= 10 and num_trump[k] >= 10]))\n",
    "print(len([1 for k in author_names if num_politics[k] >= 10 and num_clinton[k] >= 10]))\n",
    "print(len([1 for k in author_names if num_politics[k] >= 10 and num_sanders[k] >= 10 and num_trump[k] >= 10]))\n",
    "print(len([1 for k in author_names if num_politics[k] >= 10 and num_sanders[k] >= 10 and num_clinton[k] >= 10]))\n",
    "print(len([1 for k in author_names if num_politics[k] >= 10 and num_clinton[k] >= 10 and num_trump[k] >= 10]))\n",
    "print(len([1 for k in author_names if num_politics[k] >= 10 and num_sanders[k] >= 10 and num_trump[k] >= 10 and num_clinton[k] >= 10]))\n"
   ]
  },
  {
   "cell_type": "code",
   "execution_count": 18,
   "metadata": {},
   "outputs": [
    {
     "name": "stdout",
     "output_type": "stream",
     "text": [
      "20000\n",
      "561573\n"
     ]
    }
   ],
   "source": [
    "print(len(author_names))\n",
    "print(len(comment_auths))"
   ]
  },
  {
   "cell_type": "code",
   "execution_count": 21,
   "metadata": {},
   "outputs": [
    {
     "name": "stdout",
     "output_type": "stream",
     "text": [
      "522801\n",
      "38772\n",
      "197518\n",
      "364055\n",
      "86798\n",
      "474775\n",
      "34353\n",
      "527220\n"
     ]
    }
   ],
   "source": [
    "print(len([1 for k in comment_auths if num_politics[k] >= 10]))\n",
    "print(len([1 for k in comment_auths if num_politics[k] < 10]))\n",
    "print(len([1 for k in comment_auths if num_sanders[k] >= 10]))\n",
    "print(len([1 for k in comment_auths if num_sanders[k] < 10]))\n",
    "print(len([1 for k in comment_auths if num_trump[k] >= 10]))\n",
    "print(len([1 for k in comment_auths if num_trump[k] < 10]))\n",
    "print(len([1 for k in comment_auths if num_clinton[k] >= 10]))\n",
    "print(len([1 for k in comment_auths if num_clinton[k] < 10]))"
   ]
  },
  {
   "cell_type": "code",
   "execution_count": 22,
   "metadata": {},
   "outputs": [
    {
     "name": "stdout",
     "output_type": "stream",
     "text": [
      "446138\n",
      "115435\n",
      "119182\n",
      "442391\n",
      "37316\n",
      "524257\n",
      "17381\n",
      "544192\n"
     ]
    }
   ],
   "source": [
    "print(len([1 for k in comment_auths if num_politics[k] >= 50]))\n",
    "print(len([1 for k in comment_auths if num_politics[k] < 50]))\n",
    "print(len([1 for k in comment_auths if num_sanders[k] >= 50]))\n",
    "print(len([1 for k in comment_auths if num_sanders[k] < 50]))\n",
    "print(len([1 for k in comment_auths if num_trump[k] >= 50]))\n",
    "print(len([1 for k in comment_auths if num_trump[k] < 50]))\n",
    "print(len([1 for k in comment_auths if num_clinton[k] >= 50]))\n",
    "print(len([1 for k in comment_auths if num_clinton[k] < 50]))"
   ]
  },
  {
   "cell_type": "code",
   "execution_count": 33,
   "metadata": {},
   "outputs": [
    {
     "data": {
      "image/png": "[encoded data removed]",
      "text/plain": [
       "<Figure size 432x288 with 1 Axes>"
      ]
     },
     "metadata": {
      "needs_background": "light"
     },
     "output_type": "display_data"
    }
   ],
   "source": [
    "plt.hist([num_sanders[k] for k in author_names if num_sanders[k] < 100 and num_sanders[k] > 0], bins = list(range(0,101,10)))\n",
    "plt.show()"
   ]
  },
  {
   "cell_type": "code",
   "execution_count": 34,
   "metadata": {},
   "outputs": [
    {
     "data": {
      "image/png": "[encoded data removed]",
      "text/plain": [
       "<Figure size 432x288 with 1 Axes>"
      ]
     },
     "metadata": {
      "needs_background": "light"
     },
     "output_type": "display_data"
    }
   ],
   "source": [
    "plt.hist([num_trump[k] for k in author_names if num_trump[k] < 100 and num_trump[k] > 0], bins = list(range(0,101,10)))\n",
    "plt.show()"
   ]
  },
  {
   "cell_type": "code",
   "execution_count": 35,
   "metadata": {},
   "outputs": [
    {
     "data": {
      "image/png": "[encoded data removed]",
      "text/plain": [
       "<Figure size 432x288 with 1 Axes>"
      ]
     },
     "metadata": {
      "needs_background": "light"
     },
     "output_type": "display_data"
    }
   ],
   "source": [
    "plt.hist([num_clinton[k] for k in author_names if num_clinton[k] < 100 and num_clinton[k] > 0], bins = list(range(0,101,10)))\n",
    "plt.show()"
   ]
  },
  {
   "cell_type": "code",
   "execution_count": 44,
   "metadata": {},
   "outputs": [],
   "source": [
    "comment_threshold = 1"
   ]
  },
  {
   "cell_type": "code",
   "execution_count": 45,
   "metadata": {},
   "outputs": [],
   "source": [
    "sanders_user_indices = [i for i in range(len(comment_auths)) if num_sanders[comment_auths[i]] >= comment_threshold]\n",
    "trump_user_indices = [i for i in range(len(comment_auths)) if num_trump[comment_auths[i]] >= comment_threshold]\n",
    "clinton_user_indices = [i for i in range(len(comment_auths)) if num_clinton[comment_auths[i]] >= comment_threshold]"
   ]
  },
  {
   "cell_type": "code",
   "execution_count": 46,
   "metadata": {},
   "outputs": [
    {
     "name": "stdout",
     "output_type": "stream",
     "text": [
      "[0, 1, 4, 6, 7, 9, 14, 18, 21, 23, 29, 33, 36, 38, 39, 41, 42, 43, 44, 45, 48, 49, 52, 56, 61, 62, 67, 69, 77, 79, 81, 82, 83, 84, 86, 91, 92, 104, 105, 106]\n",
      "[1, 4, 6, 7, 14, 18, 21, 23, 39, 48, 49, 51, 52, 53, 56, 57, 77, 81, 84, 94, 104, 105, 106, 122, 126, 135, 141, 158, 161, 162, 163, 175, 180, 191, 197, 214, 221, 222, 224, 235]\n",
      "[137, 145, 148, 164, 175, 233, 275, 322, 323, 325, 337, 341, 342, 343, 344, 345, 346, 347, 348, 349, 354, 357, 366, 370, 371, 373, 382, 397, 409, 440, 444, 447, 449, 463, 465, 474, 505, 558, 561, 564]\n"
     ]
    }
   ],
   "source": [
    "print(sanders_user_indices[:40])\n",
    "print(trump_user_indices[:40])\n",
    "print(clinton_user_indices[:40])"
   ]
  },
  {
   "cell_type": "code",
   "execution_count": 47,
   "metadata": {},
   "outputs": [
    {
     "name": "stdout",
     "output_type": "stream",
     "text": [
      "319691\n",
      "192446\n",
      "107019\n"
     ]
    }
   ],
   "source": [
    "print(len(sanders_user_indices))\n",
    "print(len(trump_user_indices))\n",
    "print(len(clinton_user_indices))"
   ]
  },
  {
   "cell_type": "code",
   "execution_count": 48,
   "metadata": {
    "scrolled": true
   },
   "outputs": [
    {
     "data": {
      "image/png": "[encoded data removed]",
      "text/plain": [
       "<Figure size 432x288 with 1 Axes>"
      ]
     },
     "metadata": {
      "needs_background": "light"
     },
     "output_type": "display_data"
    }
   ],
   "source": [
    "plt.hist([top_topic_by_doc_auth[i] for i in sanders_user_indices], bins = list(range(27)))\n",
    "plt.show()"
   ]
  },
  {
   "cell_type": "code",
   "execution_count": 49,
   "metadata": {},
   "outputs": [
    {
     "data": {
      "image/png": "[encoded data removed]",
      "text/plain": [
       "<Figure size 432x288 with 1 Axes>"
      ]
     },
     "metadata": {
      "needs_background": "light"
     },
     "output_type": "display_data"
    }
   ],
   "source": [
    "plt.hist([top_topic_by_doc_auth[i] for i in trump_user_indices], bins = list(range(27)))\n",
    "plt.show()"
   ]
  },
  {
   "cell_type": "code",
   "execution_count": 50,
   "metadata": {
    "scrolled": true
   },
   "outputs": [
    {
     "data": {
      "image/png": "[encoded data removed]",
      "text/plain": [
       "<Figure size 432x288 with 1 Axes>"
      ]
     },
     "metadata": {
      "needs_background": "light"
     },
     "output_type": "display_data"
    }
   ],
   "source": [
    "plt.hist([top_topic_by_doc_auth[i] for i in clinton_user_indices], bins = list(range(27)))\n",
    "plt.show()"
   ]
  },
  {
   "cell_type": "code",
   "execution_count": 36,
   "metadata": {},
   "outputs": [],
   "source": [
    "comment_threshold1 = 10"
   ]
  },
  {
   "cell_type": "code",
   "execution_count": 37,
   "metadata": {},
   "outputs": [],
   "source": [
    "sanders_user_indices1 = [i for i in range(len(comment_auths)) if num_sanders[comment_auths[i]] >= comment_threshold1]\n",
    "trump_user_indices1 = [i for i in range(len(comment_auths)) if num_trump[comment_auths[i]] >= comment_threshold1]\n",
    "clinton_user_indices1 = [i for i in range(len(comment_auths)) if num_clinton[comment_auths[i]] >= comment_threshold1]"
   ]
  },
  {
   "cell_type": "code",
   "execution_count": 38,
   "metadata": {},
   "outputs": [
    {
     "name": "stdout",
     "output_type": "stream",
     "text": [
      "197518\n",
      "86798\n",
      "34353\n"
     ]
    }
   ],
   "source": [
    "print(len(sanders_user_indices1))\n",
    "print(len(trump_user_indices1))\n",
    "print(len(clinton_user_indices1))"
   ]
  },
  {
   "cell_type": "code",
   "execution_count": 39,
   "metadata": {
    "scrolled": true
   },
   "outputs": [
    {
     "data": {
      "image/png": "[encoded data removed]",
      "text/plain": [
       "<Figure size 432x288 with 1 Axes>"
      ]
     },
     "metadata": {
      "needs_background": "light"
     },
     "output_type": "display_data"
    }
   ],
   "source": [
    "plt.hist([top_topic_by_doc_auth[i] for i in sanders_user_indices1], bins = list(range(27)))\n",
    "plt.show()"
   ]
  },
  {
   "cell_type": "code",
   "execution_count": 40,
   "metadata": {},
   "outputs": [
    {
     "data": {
      "image/png": "[encoded data removed]",
      "text/plain": [
       "<Figure size 432x288 with 1 Axes>"
      ]
     },
     "metadata": {
      "needs_background": "light"
     },
     "output_type": "display_data"
    }
   ],
   "source": [
    "plt.hist([top_topic_by_doc_auth[i] for i in trump_user_indices1], bins = list(range(27)))\n",
    "plt.show()"
   ]
  },
  {
   "cell_type": "code",
   "execution_count": 41,
   "metadata": {
    "scrolled": true
   },
   "outputs": [
    {
     "data": {
      "image/png": "[encoded data removed]",
      "text/plain": [
       "<Figure size 432x288 with 1 Axes>"
      ]
     },
     "metadata": {
      "needs_background": "light"
     },
     "output_type": "display_data"
    }
   ],
   "source": [
    "plt.hist([top_topic_by_doc_auth[i] for i in clinton_user_indices1], bins = list(range(27)))\n",
    "plt.show()"
   ]
  },
  {
   "cell_type": "code",
   "execution_count": 51,
   "metadata": {},
   "outputs": [],
   "source": [
    "none_user_indices = list(set(range(len(comment_auths))).difference(\n",
    "    sanders_user_indices).difference(\n",
    "    trump_user_indices).difference(\n",
    "    clinton_user_indices)) \n",
    "                     "
   ]
  },
  {
   "cell_type": "code",
   "execution_count": 52,
   "metadata": {},
   "outputs": [
    {
     "data": {
      "image/png": "[encoded data removed]",
      "text/plain": [
       "<Figure size 432x288 with 1 Axes>"
      ]
     },
     "metadata": {
      "needs_background": "light"
     },
     "output_type": "display_data"
    }
   ],
   "source": [
    "plt.hist([top_topic_by_doc_auth[i] for i in none_user_indices], bins = list(range(27)))\n",
    "plt.show()"
   ]
  },
  {
   "cell_type": "code",
   "execution_count": 58,
   "metadata": {},
   "outputs": [],
   "source": [
    "comment_threshold2 = 100"
   ]
  },
  {
   "cell_type": "code",
   "execution_count": 59,
   "metadata": {},
   "outputs": [],
   "source": [
    "sanders_user_indices2 = [i for i in range(len(comment_auths)) if num_sanders[comment_auths[i]] >= comment_threshold2]\n",
    "trump_user_indices2 = [i for i in range(len(comment_auths)) if num_trump[comment_auths[i]] >= comment_threshold2]\n",
    "clinton_user_indices2 = [i for i in range(len(comment_auths)) if num_clinton[comment_auths[i]] >= comment_threshold2]"
   ]
  },
  {
   "cell_type": "code",
   "execution_count": 60,
   "metadata": {},
   "outputs": [
    {
     "name": "stdout",
     "output_type": "stream",
     "text": [
      "83063\n",
      "25386\n",
      "11231\n"
     ]
    }
   ],
   "source": [
    "print(len(sanders_user_indices2))\n",
    "print(len(trump_user_indices2))\n",
    "print(len(clinton_user_indices2))"
   ]
  },
  {
   "cell_type": "markdown",
   "metadata": {},
   "source": [
    "## Differences in topics across groups of users"
   ]
  },
  {
   "cell_type": "code",
   "execution_count": 65,
   "metadata": {},
   "outputs": [],
   "source": [
    "sanders_topic_counts = []\n",
    "trump_topic_counts = []\n",
    "clinton_topic_counts = []\n",
    "none_topic_counts = []\n",
    "\n",
    "for i in range(26):\n",
    "    sanders_topic_counts.append([top_topic_by_doc_auth[i] for i in sanders_user_indices1].count(i))\n",
    "    trump_topic_counts.append([top_topic_by_doc_auth[i] for i in trump_user_indices1].count(i))\n",
    "    clinton_topic_counts.append([top_topic_by_doc_auth[i] for i in clinton_user_indices1].count(i))\n",
    "    none_topic_counts.append([top_topic_by_doc_auth[i] for i in none_user_indices].count(i))        "
   ]
  },
  {
   "cell_type": "code",
   "execution_count": 74,
   "metadata": {},
   "outputs": [],
   "source": [
    "topic_counts_arr = np.array([none_topic_counts, sanders_topic_counts, trump_topic_counts, clinton_topic_counts])\n",
    "topic_counts_df = pd.DataFrame(data=topic_counts_arr.T, columns = ['None', 'Sanders', 'Trump', 'Clinton'])"
   ]
  },
  {
   "cell_type": "code",
   "execution_count": 75,
   "metadata": {},
   "outputs": [
    {
     "data": {
      "text/html": [
       "<div>\n",
       "<style scoped>\n",
       "    .dataframe tbody tr th:only-of-type {\n",
       "        vertical-align: middle;\n",
       "    }\n",
       "\n",
       "    .dataframe tbody tr th {\n",
       "        vertical-align: top;\n",
       "    }\n",
       "\n",
       "    .dataframe thead th {\n",
       "        text-align: right;\n",
       "    }\n",
       "</style>\n",
       "<table border=\"1\" class=\"dataframe\">\n",
       "  <thead>\n",
       "    <tr style=\"text-align: right;\">\n",
       "      <th></th>\n",
       "      <th>None</th>\n",
       "      <th>Sanders</th>\n",
       "      <th>Trump</th>\n",
       "      <th>Clinton</th>\n",
       "    </tr>\n",
       "  </thead>\n",
       "  <tbody>\n",
       "    <tr>\n",
       "      <th>0</th>\n",
       "      <td>2339</td>\n",
       "      <td>2718</td>\n",
       "      <td>1303</td>\n",
       "      <td>430</td>\n",
       "    </tr>\n",
       "    <tr>\n",
       "      <th>1</th>\n",
       "      <td>20046</td>\n",
       "      <td>17618</td>\n",
       "      <td>7551</td>\n",
       "      <td>1996</td>\n",
       "    </tr>\n",
       "    <tr>\n",
       "      <th>2</th>\n",
       "      <td>1633</td>\n",
       "      <td>1375</td>\n",
       "      <td>828</td>\n",
       "      <td>222</td>\n",
       "    </tr>\n",
       "    <tr>\n",
       "      <th>3</th>\n",
       "      <td>18363</td>\n",
       "      <td>19000</td>\n",
       "      <td>8439</td>\n",
       "      <td>3624</td>\n",
       "    </tr>\n",
       "    <tr>\n",
       "      <th>4</th>\n",
       "      <td>448</td>\n",
       "      <td>448</td>\n",
       "      <td>240</td>\n",
       "      <td>65</td>\n",
       "    </tr>\n",
       "    <tr>\n",
       "      <th>5</th>\n",
       "      <td>806</td>\n",
       "      <td>1037</td>\n",
       "      <td>490</td>\n",
       "      <td>194</td>\n",
       "    </tr>\n",
       "    <tr>\n",
       "      <th>6</th>\n",
       "      <td>1268</td>\n",
       "      <td>1430</td>\n",
       "      <td>703</td>\n",
       "      <td>278</td>\n",
       "    </tr>\n",
       "    <tr>\n",
       "      <th>7</th>\n",
       "      <td>1767</td>\n",
       "      <td>2458</td>\n",
       "      <td>1013</td>\n",
       "      <td>380</td>\n",
       "    </tr>\n",
       "    <tr>\n",
       "      <th>8</th>\n",
       "      <td>514</td>\n",
       "      <td>473</td>\n",
       "      <td>214</td>\n",
       "      <td>105</td>\n",
       "    </tr>\n",
       "    <tr>\n",
       "      <th>9</th>\n",
       "      <td>33329</td>\n",
       "      <td>30898</td>\n",
       "      <td>13890</td>\n",
       "      <td>6014</td>\n",
       "    </tr>\n",
       "    <tr>\n",
       "      <th>10</th>\n",
       "      <td>5045</td>\n",
       "      <td>9072</td>\n",
       "      <td>4236</td>\n",
       "      <td>1819</td>\n",
       "    </tr>\n",
       "    <tr>\n",
       "      <th>11</th>\n",
       "      <td>586</td>\n",
       "      <td>564</td>\n",
       "      <td>267</td>\n",
       "      <td>104</td>\n",
       "    </tr>\n",
       "    <tr>\n",
       "      <th>12</th>\n",
       "      <td>3453</td>\n",
       "      <td>2969</td>\n",
       "      <td>1566</td>\n",
       "      <td>476</td>\n",
       "    </tr>\n",
       "    <tr>\n",
       "      <th>13</th>\n",
       "      <td>21689</td>\n",
       "      <td>16990</td>\n",
       "      <td>7035</td>\n",
       "      <td>2889</td>\n",
       "    </tr>\n",
       "    <tr>\n",
       "      <th>14</th>\n",
       "      <td>28607</td>\n",
       "      <td>30968</td>\n",
       "      <td>12928</td>\n",
       "      <td>5511</td>\n",
       "    </tr>\n",
       "    <tr>\n",
       "      <th>15</th>\n",
       "      <td>4709</td>\n",
       "      <td>5547</td>\n",
       "      <td>3181</td>\n",
       "      <td>870</td>\n",
       "    </tr>\n",
       "    <tr>\n",
       "      <th>16</th>\n",
       "      <td>4229</td>\n",
       "      <td>4529</td>\n",
       "      <td>1710</td>\n",
       "      <td>852</td>\n",
       "    </tr>\n",
       "    <tr>\n",
       "      <th>17</th>\n",
       "      <td>915</td>\n",
       "      <td>940</td>\n",
       "      <td>448</td>\n",
       "      <td>192</td>\n",
       "    </tr>\n",
       "    <tr>\n",
       "      <th>18</th>\n",
       "      <td>2182</td>\n",
       "      <td>2007</td>\n",
       "      <td>878</td>\n",
       "      <td>382</td>\n",
       "    </tr>\n",
       "    <tr>\n",
       "      <th>19</th>\n",
       "      <td>698</td>\n",
       "      <td>709</td>\n",
       "      <td>320</td>\n",
       "      <td>114</td>\n",
       "    </tr>\n",
       "    <tr>\n",
       "      <th>20</th>\n",
       "      <td>716</td>\n",
       "      <td>670</td>\n",
       "      <td>299</td>\n",
       "      <td>137</td>\n",
       "    </tr>\n",
       "    <tr>\n",
       "      <th>21</th>\n",
       "      <td>12380</td>\n",
       "      <td>12373</td>\n",
       "      <td>5162</td>\n",
       "      <td>2422</td>\n",
       "    </tr>\n",
       "    <tr>\n",
       "      <th>22</th>\n",
       "      <td>22439</td>\n",
       "      <td>19261</td>\n",
       "      <td>8476</td>\n",
       "      <td>2918</td>\n",
       "    </tr>\n",
       "    <tr>\n",
       "      <th>23</th>\n",
       "      <td>1091</td>\n",
       "      <td>888</td>\n",
       "      <td>441</td>\n",
       "      <td>195</td>\n",
       "    </tr>\n",
       "    <tr>\n",
       "      <th>24</th>\n",
       "      <td>582</td>\n",
       "      <td>665</td>\n",
       "      <td>325</td>\n",
       "      <td>100</td>\n",
       "    </tr>\n",
       "    <tr>\n",
       "      <th>25</th>\n",
       "      <td>11399</td>\n",
       "      <td>11911</td>\n",
       "      <td>4855</td>\n",
       "      <td>2064</td>\n",
       "    </tr>\n",
       "  </tbody>\n",
       "</table>\n",
       "</div>"
      ],
      "text/plain": [
       "     None  Sanders  Trump  Clinton\n",
       "0    2339     2718   1303      430\n",
       "1   20046    17618   7551     1996\n",
       "2    1633     1375    828      222\n",
       "3   18363    19000   8439     3624\n",
       "4     448      448    240       65\n",
       "5     806     1037    490      194\n",
       "6    1268     1430    703      278\n",
       "7    1767     2458   1013      380\n",
       "8     514      473    214      105\n",
       "9   33329    30898  13890     6014\n",
       "10   5045     9072   4236     1819\n",
       "11    586      564    267      104\n",
       "12   3453     2969   1566      476\n",
       "13  21689    16990   7035     2889\n",
       "14  28607    30968  12928     5511\n",
       "15   4709     5547   3181      870\n",
       "16   4229     4529   1710      852\n",
       "17    915      940    448      192\n",
       "18   2182     2007    878      382\n",
       "19    698      709    320      114\n",
       "20    716      670    299      137\n",
       "21  12380    12373   5162     2422\n",
       "22  22439    19261   8476     2918\n",
       "23   1091      888    441      195\n",
       "24    582      665    325      100\n",
       "25  11399    11911   4855     2064"
      ]
     },
     "metadata": {},
     "output_type": "display_data"
    }
   ],
   "source": [
    "display(topic_counts_df)"
   ]
  },
  {
   "cell_type": "code",
   "execution_count": 81,
   "metadata": {},
   "outputs": [],
   "source": [
    "topic_proportions_arr = topic_counts_arr / np.sum(topic_counts_arr, axis=1)[:, np.newaxis]\n",
    "topic_proportions_df = pd.DataFrame(data=topic_proportions_arr.T, columns = ['None', 'Sanders', 'Trump', 'Clinton'])"
   ]
  },
  {
   "cell_type": "code",
   "execution_count": 82,
   "metadata": {},
   "outputs": [
    {
     "data": {
      "text/html": [
       "<div>\n",
       "<style scoped>\n",
       "    .dataframe tbody tr th:only-of-type {\n",
       "        vertical-align: middle;\n",
       "    }\n",
       "\n",
       "    .dataframe tbody tr th {\n",
       "        vertical-align: top;\n",
       "    }\n",
       "\n",
       "    .dataframe thead th {\n",
       "        text-align: right;\n",
       "    }\n",
       "</style>\n",
       "<table border=\"1\" class=\"dataframe\">\n",
       "  <thead>\n",
       "    <tr style=\"text-align: right;\">\n",
       "      <th></th>\n",
       "      <th>None</th>\n",
       "      <th>Sanders</th>\n",
       "      <th>Trump</th>\n",
       "      <th>Clinton</th>\n",
       "    </tr>\n",
       "  </thead>\n",
       "  <tbody>\n",
       "    <tr>\n",
       "      <th>0</th>\n",
       "      <td>0.011623</td>\n",
       "      <td>0.013761</td>\n",
       "      <td>0.015012</td>\n",
       "      <td>0.012517</td>\n",
       "    </tr>\n",
       "    <tr>\n",
       "      <th>1</th>\n",
       "      <td>0.099616</td>\n",
       "      <td>0.089197</td>\n",
       "      <td>0.086995</td>\n",
       "      <td>0.058103</td>\n",
       "    </tr>\n",
       "    <tr>\n",
       "      <th>2</th>\n",
       "      <td>0.008115</td>\n",
       "      <td>0.006961</td>\n",
       "      <td>0.009539</td>\n",
       "      <td>0.006462</td>\n",
       "    </tr>\n",
       "    <tr>\n",
       "      <th>3</th>\n",
       "      <td>0.091252</td>\n",
       "      <td>0.096194</td>\n",
       "      <td>0.097226</td>\n",
       "      <td>0.105493</td>\n",
       "    </tr>\n",
       "    <tr>\n",
       "      <th>4</th>\n",
       "      <td>0.002226</td>\n",
       "      <td>0.002268</td>\n",
       "      <td>0.002765</td>\n",
       "      <td>0.001892</td>\n",
       "    </tr>\n",
       "    <tr>\n",
       "      <th>5</th>\n",
       "      <td>0.004005</td>\n",
       "      <td>0.005250</td>\n",
       "      <td>0.005645</td>\n",
       "      <td>0.005647</td>\n",
       "    </tr>\n",
       "    <tr>\n",
       "      <th>6</th>\n",
       "      <td>0.006301</td>\n",
       "      <td>0.007240</td>\n",
       "      <td>0.008099</td>\n",
       "      <td>0.008092</td>\n",
       "    </tr>\n",
       "    <tr>\n",
       "      <th>7</th>\n",
       "      <td>0.008781</td>\n",
       "      <td>0.012444</td>\n",
       "      <td>0.011671</td>\n",
       "      <td>0.011062</td>\n",
       "    </tr>\n",
       "    <tr>\n",
       "      <th>8</th>\n",
       "      <td>0.002554</td>\n",
       "      <td>0.002395</td>\n",
       "      <td>0.002465</td>\n",
       "      <td>0.003057</td>\n",
       "    </tr>\n",
       "    <tr>\n",
       "      <th>9</th>\n",
       "      <td>0.165624</td>\n",
       "      <td>0.156431</td>\n",
       "      <td>0.160027</td>\n",
       "      <td>0.175065</td>\n",
       "    </tr>\n",
       "    <tr>\n",
       "      <th>10</th>\n",
       "      <td>0.025070</td>\n",
       "      <td>0.045930</td>\n",
       "      <td>0.048803</td>\n",
       "      <td>0.052950</td>\n",
       "    </tr>\n",
       "    <tr>\n",
       "      <th>11</th>\n",
       "      <td>0.002912</td>\n",
       "      <td>0.002855</td>\n",
       "      <td>0.003076</td>\n",
       "      <td>0.003027</td>\n",
       "    </tr>\n",
       "    <tr>\n",
       "      <th>12</th>\n",
       "      <td>0.017159</td>\n",
       "      <td>0.015032</td>\n",
       "      <td>0.018042</td>\n",
       "      <td>0.013856</td>\n",
       "    </tr>\n",
       "    <tr>\n",
       "      <th>13</th>\n",
       "      <td>0.107781</td>\n",
       "      <td>0.086017</td>\n",
       "      <td>0.081050</td>\n",
       "      <td>0.084097</td>\n",
       "    </tr>\n",
       "    <tr>\n",
       "      <th>14</th>\n",
       "      <td>0.142159</td>\n",
       "      <td>0.156786</td>\n",
       "      <td>0.148944</td>\n",
       "      <td>0.160423</td>\n",
       "    </tr>\n",
       "    <tr>\n",
       "      <th>15</th>\n",
       "      <td>0.023401</td>\n",
       "      <td>0.028084</td>\n",
       "      <td>0.036648</td>\n",
       "      <td>0.025325</td>\n",
       "    </tr>\n",
       "    <tr>\n",
       "      <th>16</th>\n",
       "      <td>0.021015</td>\n",
       "      <td>0.022930</td>\n",
       "      <td>0.019701</td>\n",
       "      <td>0.024801</td>\n",
       "    </tr>\n",
       "    <tr>\n",
       "      <th>17</th>\n",
       "      <td>0.004547</td>\n",
       "      <td>0.004759</td>\n",
       "      <td>0.005161</td>\n",
       "      <td>0.005589</td>\n",
       "    </tr>\n",
       "    <tr>\n",
       "      <th>18</th>\n",
       "      <td>0.010843</td>\n",
       "      <td>0.010161</td>\n",
       "      <td>0.010115</td>\n",
       "      <td>0.011120</td>\n",
       "    </tr>\n",
       "    <tr>\n",
       "      <th>19</th>\n",
       "      <td>0.003469</td>\n",
       "      <td>0.003590</td>\n",
       "      <td>0.003687</td>\n",
       "      <td>0.003318</td>\n",
       "    </tr>\n",
       "    <tr>\n",
       "      <th>20</th>\n",
       "      <td>0.003558</td>\n",
       "      <td>0.003392</td>\n",
       "      <td>0.003445</td>\n",
       "      <td>0.003988</td>\n",
       "    </tr>\n",
       "    <tr>\n",
       "      <th>21</th>\n",
       "      <td>0.061521</td>\n",
       "      <td>0.062642</td>\n",
       "      <td>0.059471</td>\n",
       "      <td>0.070503</td>\n",
       "    </tr>\n",
       "    <tr>\n",
       "      <th>22</th>\n",
       "      <td>0.111508</td>\n",
       "      <td>0.097515</td>\n",
       "      <td>0.097652</td>\n",
       "      <td>0.084942</td>\n",
       "    </tr>\n",
       "    <tr>\n",
       "      <th>23</th>\n",
       "      <td>0.005422</td>\n",
       "      <td>0.004496</td>\n",
       "      <td>0.005081</td>\n",
       "      <td>0.005676</td>\n",
       "    </tr>\n",
       "    <tr>\n",
       "      <th>24</th>\n",
       "      <td>0.002892</td>\n",
       "      <td>0.003367</td>\n",
       "      <td>0.003744</td>\n",
       "      <td>0.002911</td>\n",
       "    </tr>\n",
       "    <tr>\n",
       "      <th>25</th>\n",
       "      <td>0.056646</td>\n",
       "      <td>0.060303</td>\n",
       "      <td>0.055934</td>\n",
       "      <td>0.060082</td>\n",
       "    </tr>\n",
       "  </tbody>\n",
       "</table>\n",
       "</div>"
      ],
      "text/plain": [
       "        None   Sanders     Trump   Clinton\n",
       "0   0.011623  0.013761  0.015012  0.012517\n",
       "1   0.099616  0.089197  0.086995  0.058103\n",
       "2   0.008115  0.006961  0.009539  0.006462\n",
       "3   0.091252  0.096194  0.097226  0.105493\n",
       "4   0.002226  0.002268  0.002765  0.001892\n",
       "5   0.004005  0.005250  0.005645  0.005647\n",
       "6   0.006301  0.007240  0.008099  0.008092\n",
       "7   0.008781  0.012444  0.011671  0.011062\n",
       "8   0.002554  0.002395  0.002465  0.003057\n",
       "9   0.165624  0.156431  0.160027  0.175065\n",
       "10  0.025070  0.045930  0.048803  0.052950\n",
       "11  0.002912  0.002855  0.003076  0.003027\n",
       "12  0.017159  0.015032  0.018042  0.013856\n",
       "13  0.107781  0.086017  0.081050  0.084097\n",
       "14  0.142159  0.156786  0.148944  0.160423\n",
       "15  0.023401  0.028084  0.036648  0.025325\n",
       "16  0.021015  0.022930  0.019701  0.024801\n",
       "17  0.004547  0.004759  0.005161  0.005589\n",
       "18  0.010843  0.010161  0.010115  0.011120\n",
       "19  0.003469  0.003590  0.003687  0.003318\n",
       "20  0.003558  0.003392  0.003445  0.003988\n",
       "21  0.061521  0.062642  0.059471  0.070503\n",
       "22  0.111508  0.097515  0.097652  0.084942\n",
       "23  0.005422  0.004496  0.005081  0.005676\n",
       "24  0.002892  0.003367  0.003744  0.002911\n",
       "25  0.056646  0.060303  0.055934  0.060082"
      ]
     },
     "metadata": {},
     "output_type": "display_data"
    }
   ],
   "source": [
    "display(topic_proportions_df)"
   ]
  },
  {
   "cell_type": "code",
   "execution_count": 84,
   "metadata": {},
   "outputs": [
    {
     "data": {
      "text/plain": [
       "(4643.399351481113,\n",
       " 0.0,\n",
       " 75,\n",
       " array([[ 2628.13389831, 18273.46531269,  1570.68738724, 19130.80207039,\n",
       "           464.85844063,   978.09931679,  1423.99184269,  2174.50018273,\n",
       "           505.49968648, 32563.70147259,  7807.76391705,   588.7174756 ,\n",
       "          3276.07147501, 18812.25211482, 30196.0586072 ,  5537.6600417 ,\n",
       "          4381.51336213,   965.7134133 ,  2109.08712988,   712.57651057,\n",
       "           705.22238037, 12516.3425434 , 20550.53625876,  1012.16055141,\n",
       "           647.16345773, 11700.42115052],\n",
       "        [ 2579.61542752, 17936.11545637,  1541.690634  , 18777.62476005,\n",
       "           456.27660213,   960.04244261,  1397.70326331,  2134.35632869,\n",
       "           496.16756235, 31962.53689734,  7663.62332901,   577.84905232,\n",
       "          3215.59130759, 18464.95561471, 29638.60352913,  5435.42826533,\n",
       "          4300.62542556,   947.88519759,  2070.15087843,   699.42150251,\n",
       "           692.20313828, 12285.27600586, 20171.14897038,   993.47486642,\n",
       "           635.21605226, 11484.41749022],\n",
       "        [ 1133.59521602,  7881.90924059,   677.4859185 ,  8251.70502902,\n",
       "           200.50778416,   421.88440514,   614.21160526,   937.929002  ,\n",
       "           218.03760709, 14045.72888352,  3367.72941054,   253.93200642,\n",
       "          1413.0706787 ,  8114.30460741, 13024.49148493,  2388.56358698,\n",
       "          1889.88186235,   416.54198291,   909.71433462,   307.35622867,\n",
       "           304.18416548,  5398.68460979,  8864.08017665,   436.57606626,\n",
       "           279.14156129,  5046.75254567],\n",
       "        [  448.65545814,  3119.50999034,   268.13606026,  3265.86814053,\n",
       "            79.35717308,   166.97383545,   243.09328874,   371.21448658,\n",
       "            86.29514408,  5559.03274656,  1332.8833434 ,   100.50146566,\n",
       "           559.26653869,  3211.48766306,  5154.84637874,   945.34810599,\n",
       "           747.97934995,   164.8594062 ,   360.04765706,   121.64575824,\n",
       "           120.39031587,  2136.69684094,  3508.23459421,   172.78851591,\n",
       "           110.47892872,  1997.40881358]]))"
      ]
     },
     "execution_count": 84,
     "metadata": {},
     "output_type": "execute_result"
    }
   ],
   "source": [
    "chi2_contingency(topic_counts_arr)"
   ]
  },
  {
   "cell_type": "code",
   "execution_count": 85,
   "metadata": {},
   "outputs": [
    {
     "data": {
      "text/plain": [
       "(4643.399351481113,\n",
       " 0.0,\n",
       " 75,\n",
       " array([[ 2628.13389831,  2579.61542752,  1133.59521602,   448.65545814],\n",
       "        [18273.46531269, 17936.11545637,  7881.90924059,  3119.50999034],\n",
       "        [ 1570.68738724,  1541.690634  ,   677.4859185 ,   268.13606026],\n",
       "        [19130.80207039, 18777.62476005,  8251.70502902,  3265.86814053],\n",
       "        [  464.85844063,   456.27660213,   200.50778416,    79.35717308],\n",
       "        [  978.09931679,   960.04244261,   421.88440514,   166.97383545],\n",
       "        [ 1423.99184269,  1397.70326331,   614.21160526,   243.09328874],\n",
       "        [ 2174.50018273,  2134.35632869,   937.929002  ,   371.21448658],\n",
       "        [  505.49968648,   496.16756235,   218.03760709,    86.29514408],\n",
       "        [32563.70147259, 31962.53689734, 14045.72888352,  5559.03274656],\n",
       "        [ 7807.76391705,  7663.62332901,  3367.72941054,  1332.8833434 ],\n",
       "        [  588.7174756 ,   577.84905232,   253.93200642,   100.50146566],\n",
       "        [ 3276.07147501,  3215.59130759,  1413.0706787 ,   559.26653869],\n",
       "        [18812.25211482, 18464.95561471,  8114.30460741,  3211.48766306],\n",
       "        [30196.0586072 , 29638.60352913, 13024.49148493,  5154.84637874],\n",
       "        [ 5537.6600417 ,  5435.42826533,  2388.56358698,   945.34810599],\n",
       "        [ 4381.51336213,  4300.62542556,  1889.88186235,   747.97934995],\n",
       "        [  965.7134133 ,   947.88519759,   416.54198291,   164.8594062 ],\n",
       "        [ 2109.08712988,  2070.15087843,   909.71433462,   360.04765706],\n",
       "        [  712.57651057,   699.42150251,   307.35622867,   121.64575824],\n",
       "        [  705.22238037,   692.20313828,   304.18416548,   120.39031587],\n",
       "        [12516.3425434 , 12285.27600586,  5398.68460979,  2136.69684094],\n",
       "        [20550.53625876, 20171.14897038,  8864.08017665,  3508.23459421],\n",
       "        [ 1012.16055141,   993.47486642,   436.57606626,   172.78851591],\n",
       "        [  647.16345773,   635.21605226,   279.14156129,   110.47892872],\n",
       "        [11700.42115052, 11484.41749022,  5046.75254567,  1997.40881358]]))"
      ]
     },
     "execution_count": 85,
     "metadata": {},
     "output_type": "execute_result"
    }
   ],
   "source": [
    "chi2_contingency(topic_counts_arr.T)"
   ]
  },
  {
   "cell_type": "markdown",
   "metadata": {},
   "source": [
    "## Only include 10 comments per user"
   ]
  },
  {
   "cell_type": "code",
   "execution_count": 134,
   "metadata": {},
   "outputs": [],
   "source": [
    "# instead of num_politics, use comment_auths.count() because of possibility of deleted/removed comments\n",
    "sanders_auths3 = [k for k in author_names if num_sanders[k] >= 10 and num_politics[k] >= 10]\n",
    "trump_auths3 = [k for k in author_names if num_trump[k] >= 10 and num_politics[k] >= 10]\n",
    "clinton_auths3 = [k for k in author_names if num_clinton[k] >= 10 and num_politics[k] >= 10]\n",
    "none_auths3 = [k for k in author_names if num_sanders[k] == 0 and num_trump[k] == 0 and num_clinton[k] == 0 and num_politics[k] >= 10]\n"
   ]
  },
  {
   "cell_type": "code",
   "execution_count": 135,
   "metadata": {},
   "outputs": [
    {
     "name": "stdout",
     "output_type": "stream",
     "text": [
      "1134\n",
      "532\n",
      "108\n",
      "2319\n"
     ]
    }
   ],
   "source": [
    "print(len(sanders_auths3))\n",
    "print(len(trump_auths3))\n",
    "print(len(clinton_auths3))\n",
    "print(len(none_auths3))"
   ]
  },
  {
   "cell_type": "code",
   "execution_count": 119,
   "metadata": {},
   "outputs": [
    {
     "data": {
      "text/plain": [
       "[81579, 58543, 81559, 68376, 146247, 71649, 68377, 79188, 68412, 71650]"
      ]
     },
     "execution_count": 119,
     "metadata": {},
     "output_type": "execute_result"
    }
   ],
   "source": [
    "random.sample([i for i in range(len(comment_auths)) if comment_auths[i] == sanders_auths3[0]], 10)"
   ]
  },
  {
   "cell_type": "code",
   "execution_count": 137,
   "metadata": {},
   "outputs": [],
   "source": [
    "sanders_user_indices3 = []\n",
    "trump_user_indices3 = []\n",
    "clinton_user_indices3 = []\n",
    "none_user_indices3 = []"
   ]
  },
  {
   "cell_type": "code",
   "execution_count": 138,
   "metadata": {},
   "outputs": [],
   "source": [
    "for auth in sanders_auths3:\n",
    "    sanders_user_indices3 = sanders_user_indices3 + random.sample([i for i in range(len(comment_auths)) if comment_auths[i] == auth], 10)"
   ]
  },
  {
   "cell_type": "code",
   "execution_count": 139,
   "metadata": {},
   "outputs": [],
   "source": [
    "for auth in trump_auths3:\n",
    "    trump_user_indices3 = trump_user_indices3 + random.sample([i for i in range(len(comment_auths)) if comment_auths[i] == auth], 10)\n",
    "    \n",
    "for auth in clinton_auths3:\n",
    "    clinton_user_indices3 = clinton_user_indices3 + random.sample([i for i in range(len(comment_auths)) if comment_auths[i] == auth], 10)\n",
    "    \n",
    "for auth in none_auths3:\n",
    "    none_user_indices3 = none_user_indices3 + random.sample([i for i in range(len(comment_auths)) if comment_auths[i] == auth], 10)\n",
    "    \n",
    "    "
   ]
  },
  {
   "cell_type": "code",
   "execution_count": 140,
   "metadata": {},
   "outputs": [],
   "source": [
    "sanders_topic_counts3 = []\n",
    "trump_topic_counts3 = []\n",
    "clinton_topic_counts3 = []\n",
    "none_topic_counts3 = []\n",
    "\n",
    "for i in range(26):\n",
    "    sanders_topic_counts3.append([top_topic_by_doc_auth[i] for i in sanders_user_indices3].count(i))\n",
    "    trump_topic_counts3.append([top_topic_by_doc_auth[i] for i in trump_user_indices3].count(i))\n",
    "    clinton_topic_counts3.append([top_topic_by_doc_auth[i] for i in clinton_user_indices3].count(i))\n",
    "    none_topic_counts3.append([top_topic_by_doc_auth[i] for i in none_user_indices3].count(i))        "
   ]
  },
  {
   "cell_type": "code",
   "execution_count": 141,
   "metadata": {},
   "outputs": [],
   "source": [
    "topic_counts_arr3 = np.array([none_topic_counts3, sanders_topic_counts3, trump_topic_counts3, clinton_topic_counts3])\n",
    "topic_counts_df3 = pd.DataFrame(data=topic_counts_arr3.T, columns = ['None', 'Sanders', 'Trump', 'Clinton'])"
   ]
  },
  {
   "cell_type": "code",
   "execution_count": 142,
   "metadata": {},
   "outputs": [
    {
     "data": {
      "text/html": [
       "<div>\n",
       "<style scoped>\n",
       "    .dataframe tbody tr th:only-of-type {\n",
       "        vertical-align: middle;\n",
       "    }\n",
       "\n",
       "    .dataframe tbody tr th {\n",
       "        vertical-align: top;\n",
       "    }\n",
       "\n",
       "    .dataframe thead th {\n",
       "        text-align: right;\n",
       "    }\n",
       "</style>\n",
       "<table border=\"1\" class=\"dataframe\">\n",
       "  <thead>\n",
       "    <tr style=\"text-align: right;\">\n",
       "      <th></th>\n",
       "      <th>None</th>\n",
       "      <th>Sanders</th>\n",
       "      <th>Trump</th>\n",
       "      <th>Clinton</th>\n",
       "    </tr>\n",
       "  </thead>\n",
       "  <tbody>\n",
       "    <tr>\n",
       "      <th>0</th>\n",
       "      <td>294</td>\n",
       "      <td>166</td>\n",
       "      <td>92</td>\n",
       "      <td>10</td>\n",
       "    </tr>\n",
       "    <tr>\n",
       "      <th>1</th>\n",
       "      <td>2461</td>\n",
       "      <td>938</td>\n",
       "      <td>436</td>\n",
       "      <td>78</td>\n",
       "    </tr>\n",
       "    <tr>\n",
       "      <th>2</th>\n",
       "      <td>174</td>\n",
       "      <td>80</td>\n",
       "      <td>56</td>\n",
       "      <td>7</td>\n",
       "    </tr>\n",
       "    <tr>\n",
       "      <th>3</th>\n",
       "      <td>2307</td>\n",
       "      <td>1112</td>\n",
       "      <td>561</td>\n",
       "      <td>116</td>\n",
       "    </tr>\n",
       "    <tr>\n",
       "      <th>4</th>\n",
       "      <td>73</td>\n",
       "      <td>31</td>\n",
       "      <td>27</td>\n",
       "      <td>2</td>\n",
       "    </tr>\n",
       "    <tr>\n",
       "      <th>5</th>\n",
       "      <td>81</td>\n",
       "      <td>61</td>\n",
       "      <td>21</td>\n",
       "      <td>7</td>\n",
       "    </tr>\n",
       "    <tr>\n",
       "      <th>6</th>\n",
       "      <td>143</td>\n",
       "      <td>89</td>\n",
       "      <td>54</td>\n",
       "      <td>10</td>\n",
       "    </tr>\n",
       "    <tr>\n",
       "      <th>7</th>\n",
       "      <td>227</td>\n",
       "      <td>135</td>\n",
       "      <td>78</td>\n",
       "      <td>9</td>\n",
       "    </tr>\n",
       "    <tr>\n",
       "      <th>8</th>\n",
       "      <td>54</td>\n",
       "      <td>29</td>\n",
       "      <td>12</td>\n",
       "      <td>3</td>\n",
       "    </tr>\n",
       "    <tr>\n",
       "      <th>9</th>\n",
       "      <td>3786</td>\n",
       "      <td>1833</td>\n",
       "      <td>839</td>\n",
       "      <td>185</td>\n",
       "    </tr>\n",
       "    <tr>\n",
       "      <th>10</th>\n",
       "      <td>539</td>\n",
       "      <td>422</td>\n",
       "      <td>246</td>\n",
       "      <td>67</td>\n",
       "    </tr>\n",
       "    <tr>\n",
       "      <th>11</th>\n",
       "      <td>55</td>\n",
       "      <td>35</td>\n",
       "      <td>12</td>\n",
       "      <td>0</td>\n",
       "    </tr>\n",
       "    <tr>\n",
       "      <th>12</th>\n",
       "      <td>375</td>\n",
       "      <td>176</td>\n",
       "      <td>109</td>\n",
       "      <td>13</td>\n",
       "    </tr>\n",
       "    <tr>\n",
       "      <th>13</th>\n",
       "      <td>2378</td>\n",
       "      <td>986</td>\n",
       "      <td>394</td>\n",
       "      <td>103</td>\n",
       "    </tr>\n",
       "    <tr>\n",
       "      <th>14</th>\n",
       "      <td>3185</td>\n",
       "      <td>1853</td>\n",
       "      <td>737</td>\n",
       "      <td>177</td>\n",
       "    </tr>\n",
       "    <tr>\n",
       "      <th>15</th>\n",
       "      <td>552</td>\n",
       "      <td>311</td>\n",
       "      <td>202</td>\n",
       "      <td>21</td>\n",
       "    </tr>\n",
       "    <tr>\n",
       "      <th>16</th>\n",
       "      <td>428</td>\n",
       "      <td>259</td>\n",
       "      <td>94</td>\n",
       "      <td>43</td>\n",
       "    </tr>\n",
       "    <tr>\n",
       "      <th>17</th>\n",
       "      <td>134</td>\n",
       "      <td>67</td>\n",
       "      <td>35</td>\n",
       "      <td>5</td>\n",
       "    </tr>\n",
       "    <tr>\n",
       "      <th>18</th>\n",
       "      <td>255</td>\n",
       "      <td>129</td>\n",
       "      <td>59</td>\n",
       "      <td>11</td>\n",
       "    </tr>\n",
       "    <tr>\n",
       "      <th>19</th>\n",
       "      <td>109</td>\n",
       "      <td>43</td>\n",
       "      <td>37</td>\n",
       "      <td>4</td>\n",
       "    </tr>\n",
       "    <tr>\n",
       "      <th>20</th>\n",
       "      <td>88</td>\n",
       "      <td>34</td>\n",
       "      <td>20</td>\n",
       "      <td>4</td>\n",
       "    </tr>\n",
       "    <tr>\n",
       "      <th>21</th>\n",
       "      <td>1437</td>\n",
       "      <td>719</td>\n",
       "      <td>339</td>\n",
       "      <td>65</td>\n",
       "    </tr>\n",
       "    <tr>\n",
       "      <th>22</th>\n",
       "      <td>2586</td>\n",
       "      <td>1104</td>\n",
       "      <td>534</td>\n",
       "      <td>71</td>\n",
       "    </tr>\n",
       "    <tr>\n",
       "      <th>23</th>\n",
       "      <td>124</td>\n",
       "      <td>49</td>\n",
       "      <td>25</td>\n",
       "      <td>9</td>\n",
       "    </tr>\n",
       "    <tr>\n",
       "      <th>24</th>\n",
       "      <td>76</td>\n",
       "      <td>60</td>\n",
       "      <td>23</td>\n",
       "      <td>3</td>\n",
       "    </tr>\n",
       "    <tr>\n",
       "      <th>25</th>\n",
       "      <td>1269</td>\n",
       "      <td>619</td>\n",
       "      <td>278</td>\n",
       "      <td>57</td>\n",
       "    </tr>\n",
       "  </tbody>\n",
       "</table>\n",
       "</div>"
      ],
      "text/plain": [
       "    None  Sanders  Trump  Clinton\n",
       "0    294      166     92       10\n",
       "1   2461      938    436       78\n",
       "2    174       80     56        7\n",
       "3   2307     1112    561      116\n",
       "4     73       31     27        2\n",
       "5     81       61     21        7\n",
       "6    143       89     54       10\n",
       "7    227      135     78        9\n",
       "8     54       29     12        3\n",
       "9   3786     1833    839      185\n",
       "10   539      422    246       67\n",
       "11    55       35     12        0\n",
       "12   375      176    109       13\n",
       "13  2378      986    394      103\n",
       "14  3185     1853    737      177\n",
       "15   552      311    202       21\n",
       "16   428      259     94       43\n",
       "17   134       67     35        5\n",
       "18   255      129     59       11\n",
       "19   109       43     37        4\n",
       "20    88       34     20        4\n",
       "21  1437      719    339       65\n",
       "22  2586     1104    534       71\n",
       "23   124       49     25        9\n",
       "24    76       60     23        3\n",
       "25  1269      619    278       57"
      ]
     },
     "metadata": {},
     "output_type": "display_data"
    }
   ],
   "source": [
    "display(topic_counts_df3)"
   ]
  },
  {
   "cell_type": "code",
   "execution_count": 147,
   "metadata": {},
   "outputs": [
    {
     "data": {
      "text/plain": [
       "(206.5407708539988,\n",
       " 1.6804824846646753e-30,\n",
       " 25,\n",
       " array([[ 308.93136403, 2282.73414422,  170.58384014, 2296.16594266,\n",
       "           69.84535187,   95.3657689 ,  155.80886186,  243.11555169,\n",
       "           55.74196351, 3773.66377063,  645.39791486,   60.44309296,\n",
       "          370.04604692, 2259.22849696, 3383.47002606,  579.58210252,\n",
       "          461.38227628,  134.98957428,  257.89052997,  102.08166811,\n",
       "           81.93397046, 1447.94787142, 2478.16681147,  116.18505647,\n",
       "           91.33622937, 1267.96177237],\n",
       "        [ 151.06863597, 1116.26585578,   83.41615986, 1122.83405734,\n",
       "           34.15464813,   46.6342311 ,   76.19113814,  118.88444831,\n",
       "           27.25803649, 1845.33622937,  315.60208514,   29.55690704,\n",
       "          180.95395308, 1104.77150304, 1654.52997394,  283.41789748,\n",
       "          225.61772372,   66.01042572,  126.10947003,   49.91833189,\n",
       "           40.06602954,  708.05212858, 1211.83318853,   56.81494353,\n",
       "           44.66377063,  620.03822763]]))"
      ]
     },
     "execution_count": 147,
     "metadata": {},
     "output_type": "execute_result"
    }
   ],
   "source": [
    "# sanders vs none\n",
    "chi2_contingency(topic_counts_arr3[(0,1),:])"
   ]
  },
  {
   "cell_type": "code",
   "execution_count": 148,
   "metadata": {},
   "outputs": [
    {
     "data": {
      "text/plain": [
       "(232.4479308316681,\n",
       " 1.5277546463323474e-35,\n",
       " 25,\n",
       " array([[ 313.97193967, 2356.41634514,  187.08172571, 2332.82777973,\n",
       "           81.33988074,   82.96667836,  160.23956506,  248.08663627,\n",
       "           53.68432129, 3761.96948439,  638.51806384,   54.4977201 ,\n",
       "          393.6850228 , 2254.74149421, 3190.15012276,  613.30270081,\n",
       "          424.59417748,  137.46439846,  255.40722553,  118.75622589,\n",
       "           87.8470712 , 1444.59628201, 2537.8042792 ,  121.19642231,\n",
       "           80.52648194, 1258.3279551 ],\n",
       "        [  72.02806033,  540.58365486,   42.91827429,  535.17222027,\n",
       "           18.66011926,   19.03332164,   36.76043494,   56.91336373,\n",
       "           12.31567871,  863.03051561,  146.48193616,   12.5022799 ,\n",
       "           90.3149772 ,  517.25850579,  731.84987724,  140.69729919,\n",
       "           97.40582252,   31.53560154,   58.59277447,   27.24377411,\n",
       "           20.1529288 ,  331.40371799,  582.1957208 ,   27.80357769,\n",
       "           18.47351806,  288.6720449 ]]))"
      ]
     },
     "execution_count": 148,
     "metadata": {},
     "output_type": "execute_result"
    }
   ],
   "source": [
    "# trump vs none\n",
    "chi2_contingency(topic_counts_arr3[(0,2),:])"
   ]
  },
  {
   "cell_type": "code",
   "execution_count": 149,
   "metadata": {},
   "outputs": [
    {
     "data": {
      "text/plain": [
       "(83.84619238021574,\n",
       " 2.8140184254794857e-08,\n",
       " 25,\n",
       " array([[ 175.61344538,  935.24369748,   92.57142857, 1138.76470588,\n",
       "           39.4789916 ,   55.81512605,   97.33613445,  144.98319328,\n",
       "           27.90756303, 1818.75630252,  454.68907563,   31.99159664,\n",
       "          193.99159664,  939.32773109, 1762.94117647,  349.18487395,\n",
       "          240.27731092,   69.42857143,  127.96638655,   54.45378151,\n",
       "           36.75630252,  720.1512605 , 1114.94117647,   50.3697479 ,\n",
       "           56.49579832,  610.56302521],\n",
       "        [  82.38655462,  438.75630252,   43.42857143,  534.23529412,\n",
       "           18.5210084 ,   26.18487395,   45.66386555,   68.01680672,\n",
       "           13.09243697,  853.24369748,  213.31092437,   15.00840336,\n",
       "           91.00840336,  440.67226891,  827.05882353,  163.81512605,\n",
       "          112.72268908,   32.57142857,   60.03361345,   25.54621849,\n",
       "           17.24369748,  337.8487395 ,  523.05882353,   23.6302521 ,\n",
       "           26.50420168,  286.43697479]]))"
      ]
     },
     "execution_count": 149,
     "metadata": {},
     "output_type": "execute_result"
    }
   ],
   "source": [
    "# trump vs sanders\n",
    "chi2_contingency(topic_counts_arr3[(1,2),:])"
   ]
  },
  {
   "cell_type": "code",
   "execution_count": 182,
   "metadata": {},
   "outputs": [
    {
     "data": {
      "text/plain": [
       "(376.80525326024525,\n",
       " 1.1116244121294032e-51,\n",
       " 50,\n",
       " array([[ 321.22659975, 2231.71016311,  180.39899624, 2316.09033877,\n",
       "           76.23312422,   94.85495609,  166.43262233,  256.05018821,\n",
       "           55.28356336, 3758.11844417,  702.39222083,   59.35708908,\n",
       "          384.07528231, 2186.90138018, 3360.6587202 ,  619.75784191,\n",
       "          454.48908407,  137.33601004,  257.79598494,  109.98519448,\n",
       "           82.63437892, 1451.92095358, 2458.08180678,  115.22258469,\n",
       "           92.5272271 , 1260.46524467],\n",
       "        [ 157.08105395, 1091.31493099,   88.21580928, 1132.57716437,\n",
       "           37.2782936 ,   46.38444166,   81.38619824,  125.20953576,\n",
       "           27.03387704, 1837.73450439,  343.47252196,   29.02584693,\n",
       "          187.81430364, 1069.40326223, 1643.37515684,  303.06398996,\n",
       "          222.24692597,   67.15784191,  126.06323714,   53.78318695,\n",
       "           40.40853199,  709.99498118, 1202.01154329,   56.34429109,\n",
       "           45.24617315,  616.37239649],\n",
       "        [  73.6923463 ,  511.9749059 ,   41.38519448,  531.33249686,\n",
       "           17.48858218,   21.76060226,   38.18117942,   58.74027604,\n",
       "           12.6825596 ,  862.14705144,  161.13525721,   13.61706399,\n",
       "           88.11041405,  501.69535759,  770.96612296,  142.17816813,\n",
       "          104.26398996,   31.50614806,   59.14077792,   25.23161857,\n",
       "           18.95708908,  333.08406524,  563.90664994,   26.43312422,\n",
       "           21.22659975,  289.16235885]]))"
      ]
     },
     "execution_count": 182,
     "metadata": {},
     "output_type": "execute_result"
    }
   ],
   "source": [
    "# none, trump, sanders\n",
    "chi2_contingency(topic_counts_arr3[:3,:])"
   ]
  },
  {
   "cell_type": "code",
   "execution_count": 183,
   "metadata": {},
   "outputs": [],
   "source": [
    "expected_arr_ns = chi2_contingency(topic_counts_arr3[(0,1),:])[3]\n",
    "expected_arr_nt = chi2_contingency(topic_counts_arr3[(0,2),:])[3]\n",
    "expected_arr_st = chi2_contingency(topic_counts_arr3[(1,2),:])[3]\n",
    "expected_arr_nst = chi2_contingency(topic_counts_arr3[:3,:])[3]"
   ]
  },
  {
   "cell_type": "code",
   "execution_count": 167,
   "metadata": {},
   "outputs": [
    {
     "data": {
      "text/html": [
       "<div>\n",
       "<style scoped>\n",
       "    .dataframe tbody tr th:only-of-type {\n",
       "        vertical-align: middle;\n",
       "    }\n",
       "\n",
       "    .dataframe tbody tr th {\n",
       "        vertical-align: top;\n",
       "    }\n",
       "\n",
       "    .dataframe thead th {\n",
       "        text-align: right;\n",
       "    }\n",
       "</style>\n",
       "<table border=\"1\" class=\"dataframe\">\n",
       "  <thead>\n",
       "    <tr style=\"text-align: right;\">\n",
       "      <th></th>\n",
       "      <th>None</th>\n",
       "      <th>Sanders</th>\n",
       "    </tr>\n",
       "  </thead>\n",
       "  <tbody>\n",
       "    <tr>\n",
       "      <th>0</th>\n",
       "      <td>0.721667</td>\n",
       "      <td>1.475790</td>\n",
       "    </tr>\n",
       "    <tr>\n",
       "      <th>1</th>\n",
       "      <td>13.921339</td>\n",
       "      <td>28.468769</td>\n",
       "    </tr>\n",
       "    <tr>\n",
       "      <th>2</th>\n",
       "      <td>0.068413</td>\n",
       "      <td>0.139903</td>\n",
       "    </tr>\n",
       "    <tr>\n",
       "      <th>3</th>\n",
       "      <td>0.051119</td>\n",
       "      <td>0.104536</td>\n",
       "    </tr>\n",
       "    <tr>\n",
       "      <th>4</th>\n",
       "      <td>0.142483</td>\n",
       "      <td>0.291375</td>\n",
       "    </tr>\n",
       "    <tr>\n",
       "      <th>5</th>\n",
       "      <td>2.164040</td>\n",
       "      <td>4.425404</td>\n",
       "    </tr>\n",
       "    <tr>\n",
       "      <th>6</th>\n",
       "      <td>1.053001</td>\n",
       "      <td>2.153360</td>\n",
       "    </tr>\n",
       "    <tr>\n",
       "      <th>7</th>\n",
       "      <td>1.068262</td>\n",
       "      <td>2.184567</td>\n",
       "    </tr>\n",
       "    <tr>\n",
       "      <th>8</th>\n",
       "      <td>0.054437</td>\n",
       "      <td>0.111323</td>\n",
       "    </tr>\n",
       "    <tr>\n",
       "      <th>9</th>\n",
       "      <td>0.040328</td>\n",
       "      <td>0.082469</td>\n",
       "    </tr>\n",
       "    <tr>\n",
       "      <th>10</th>\n",
       "      <td>17.540367</td>\n",
       "      <td>35.869586</td>\n",
       "    </tr>\n",
       "    <tr>\n",
       "      <th>11</th>\n",
       "      <td>0.490168</td>\n",
       "      <td>1.002380</td>\n",
       "    </tr>\n",
       "    <tr>\n",
       "      <th>12</th>\n",
       "      <td>0.066321</td>\n",
       "      <td>0.135624</td>\n",
       "    </tr>\n",
       "    <tr>\n",
       "      <th>13</th>\n",
       "      <td>6.244021</td>\n",
       "      <td>12.768858</td>\n",
       "    </tr>\n",
       "    <tr>\n",
       "      <th>14</th>\n",
       "      <td>11.641998</td>\n",
       "      <td>23.807578</td>\n",
       "    </tr>\n",
       "    <tr>\n",
       "      <th>15</th>\n",
       "      <td>1.312622</td>\n",
       "      <td>2.684278</td>\n",
       "    </tr>\n",
       "    <tr>\n",
       "      <th>16</th>\n",
       "      <td>2.415299</td>\n",
       "      <td>4.939224</td>\n",
       "    </tr>\n",
       "    <tr>\n",
       "      <th>17</th>\n",
       "      <td>0.007254</td>\n",
       "      <td>0.014835</td>\n",
       "    </tr>\n",
       "    <tr>\n",
       "      <th>18</th>\n",
       "      <td>0.032398</td>\n",
       "      <td>0.066253</td>\n",
       "    </tr>\n",
       "    <tr>\n",
       "      <th>19</th>\n",
       "      <td>0.468873</td>\n",
       "      <td>0.958832</td>\n",
       "    </tr>\n",
       "    <tr>\n",
       "      <th>20</th>\n",
       "      <td>0.449102</td>\n",
       "      <td>0.918402</td>\n",
       "    </tr>\n",
       "    <tr>\n",
       "      <th>21</th>\n",
       "      <td>0.082776</td>\n",
       "      <td>0.169276</td>\n",
       "    </tr>\n",
       "    <tr>\n",
       "      <th>22</th>\n",
       "      <td>4.692177</td>\n",
       "      <td>9.595377</td>\n",
       "    </tr>\n",
       "    <tr>\n",
       "      <th>23</th>\n",
       "      <td>0.525656</td>\n",
       "      <td>1.074952</td>\n",
       "    </tr>\n",
       "    <tr>\n",
       "      <th>24</th>\n",
       "      <td>2.575100</td>\n",
       "      <td>5.266012</td>\n",
       "    </tr>\n",
       "    <tr>\n",
       "      <th>25</th>\n",
       "      <td>0.000850</td>\n",
       "      <td>0.001738</td>\n",
       "    </tr>\n",
       "  </tbody>\n",
       "</table>\n",
       "</div>"
      ],
      "text/plain": [
       "         None    Sanders\n",
       "0    0.721667   1.475790\n",
       "1   13.921339  28.468769\n",
       "2    0.068413   0.139903\n",
       "3    0.051119   0.104536\n",
       "4    0.142483   0.291375\n",
       "5    2.164040   4.425404\n",
       "6    1.053001   2.153360\n",
       "7    1.068262   2.184567\n",
       "8    0.054437   0.111323\n",
       "9    0.040328   0.082469\n",
       "10  17.540367  35.869586\n",
       "11   0.490168   1.002380\n",
       "12   0.066321   0.135624\n",
       "13   6.244021  12.768858\n",
       "14  11.641998  23.807578\n",
       "15   1.312622   2.684278\n",
       "16   2.415299   4.939224\n",
       "17   0.007254   0.014835\n",
       "18   0.032398   0.066253\n",
       "19   0.468873   0.958832\n",
       "20   0.449102   0.918402\n",
       "21   0.082776   0.169276\n",
       "22   4.692177   9.595377\n",
       "23   0.525656   1.074952\n",
       "24   2.575100   5.266012\n",
       "25   0.000850   0.001738"
      ]
     },
     "metadata": {},
     "output_type": "display_data"
    }
   ],
   "source": [
    "# contribution to test statistic\n",
    "display(pd.DataFrame(data=(np.square(topic_counts_arr3[(0,1),:] - expected_arr_ns)/(expected_arr_ns)).T, columns = ['None', 'Sanders']))\n"
   ]
  },
  {
   "cell_type": "code",
   "execution_count": 169,
   "metadata": {},
   "outputs": [
    {
     "data": {
      "text/html": [
       "<div>\n",
       "<style scoped>\n",
       "    .dataframe tbody tr th:only-of-type {\n",
       "        vertical-align: middle;\n",
       "    }\n",
       "\n",
       "    .dataframe tbody tr th {\n",
       "        vertical-align: top;\n",
       "    }\n",
       "\n",
       "    .dataframe thead th {\n",
       "        text-align: right;\n",
       "    }\n",
       "</style>\n",
       "<table border=\"1\" class=\"dataframe\">\n",
       "  <thead>\n",
       "    <tr style=\"text-align: right;\">\n",
       "      <th></th>\n",
       "      <th>None</th>\n",
       "      <th>Trump</th>\n",
       "    </tr>\n",
       "  </thead>\n",
       "  <tbody>\n",
       "    <tr>\n",
       "      <th>0</th>\n",
       "      <td>1.270427</td>\n",
       "      <td>5.537819</td>\n",
       "    </tr>\n",
       "    <tr>\n",
       "      <th>1</th>\n",
       "      <td>4.641684</td>\n",
       "      <td>20.233207</td>\n",
       "    </tr>\n",
       "    <tr>\n",
       "      <th>2</th>\n",
       "      <td>0.914742</td>\n",
       "      <td>3.987382</td>\n",
       "    </tr>\n",
       "    <tr>\n",
       "      <th>3</th>\n",
       "      <td>0.285951</td>\n",
       "      <td>1.246466</td>\n",
       "    </tr>\n",
       "    <tr>\n",
       "      <th>4</th>\n",
       "      <td>0.855099</td>\n",
       "      <td>3.727394</td>\n",
       "    </tr>\n",
       "    <tr>\n",
       "      <th>5</th>\n",
       "      <td>0.046619</td>\n",
       "      <td>0.203213</td>\n",
       "    </tr>\n",
       "    <tr>\n",
       "      <th>6</th>\n",
       "      <td>1.854739</td>\n",
       "      <td>8.084850</td>\n",
       "    </tr>\n",
       "    <tr>\n",
       "      <th>7</th>\n",
       "      <td>1.792302</td>\n",
       "      <td>7.812686</td>\n",
       "    </tr>\n",
       "    <tr>\n",
       "      <th>8</th>\n",
       "      <td>0.001856</td>\n",
       "      <td>0.008092</td>\n",
       "    </tr>\n",
       "    <tr>\n",
       "      <th>9</th>\n",
       "      <td>0.153501</td>\n",
       "      <td>0.669114</td>\n",
       "    </tr>\n",
       "    <tr>\n",
       "      <th>10</th>\n",
       "      <td>15.510673</td>\n",
       "      <td>67.611374</td>\n",
       "    </tr>\n",
       "    <tr>\n",
       "      <th>11</th>\n",
       "      <td>0.004629</td>\n",
       "      <td>0.020179</td>\n",
       "    </tr>\n",
       "    <tr>\n",
       "      <th>12</th>\n",
       "      <td>0.886826</td>\n",
       "      <td>3.865694</td>\n",
       "    </tr>\n",
       "    <tr>\n",
       "      <th>13</th>\n",
       "      <td>6.738094</td>\n",
       "      <td>29.371502</td>\n",
       "    </tr>\n",
       "    <tr>\n",
       "      <th>14</th>\n",
       "      <td>0.008314</td>\n",
       "      <td>0.036242</td>\n",
       "    </tr>\n",
       "    <tr>\n",
       "      <th>15</th>\n",
       "      <td>6.127514</td>\n",
       "      <td>26.709973</td>\n",
       "    </tr>\n",
       "    <tr>\n",
       "      <th>16</th>\n",
       "      <td>0.027319</td>\n",
       "      <td>0.119086</td>\n",
       "    </tr>\n",
       "    <tr>\n",
       "      <th>17</th>\n",
       "      <td>0.087310</td>\n",
       "      <td>0.380588</td>\n",
       "    </tr>\n",
       "    <tr>\n",
       "      <th>18</th>\n",
       "      <td>0.000649</td>\n",
       "      <td>0.002830</td>\n",
       "    </tr>\n",
       "    <tr>\n",
       "      <th>19</th>\n",
       "      <td>0.801507</td>\n",
       "      <td>3.493787</td>\n",
       "    </tr>\n",
       "    <tr>\n",
       "      <th>20</th>\n",
       "      <td>0.000266</td>\n",
       "      <td>0.001160</td>\n",
       "    </tr>\n",
       "    <tr>\n",
       "      <th>21</th>\n",
       "      <td>0.039944</td>\n",
       "      <td>0.174118</td>\n",
       "    </tr>\n",
       "    <tr>\n",
       "      <th>22</th>\n",
       "      <td>0.915290</td>\n",
       "      <td>3.989771</td>\n",
       "    </tr>\n",
       "    <tr>\n",
       "      <th>23</th>\n",
       "      <td>0.064854</td>\n",
       "      <td>0.282699</td>\n",
       "    </tr>\n",
       "    <tr>\n",
       "      <th>24</th>\n",
       "      <td>0.254439</td>\n",
       "      <td>1.109103</td>\n",
       "    </tr>\n",
       "    <tr>\n",
       "      <th>25</th>\n",
       "      <td>0.090511</td>\n",
       "      <td>0.394540</td>\n",
       "    </tr>\n",
       "  </tbody>\n",
       "</table>\n",
       "</div>"
      ],
      "text/plain": [
       "         None      Trump\n",
       "0    1.270427   5.537819\n",
       "1    4.641684  20.233207\n",
       "2    0.914742   3.987382\n",
       "3    0.285951   1.246466\n",
       "4    0.855099   3.727394\n",
       "5    0.046619   0.203213\n",
       "6    1.854739   8.084850\n",
       "7    1.792302   7.812686\n",
       "8    0.001856   0.008092\n",
       "9    0.153501   0.669114\n",
       "10  15.510673  67.611374\n",
       "11   0.004629   0.020179\n",
       "12   0.886826   3.865694\n",
       "13   6.738094  29.371502\n",
       "14   0.008314   0.036242\n",
       "15   6.127514  26.709973\n",
       "16   0.027319   0.119086\n",
       "17   0.087310   0.380588\n",
       "18   0.000649   0.002830\n",
       "19   0.801507   3.493787\n",
       "20   0.000266   0.001160\n",
       "21   0.039944   0.174118\n",
       "22   0.915290   3.989771\n",
       "23   0.064854   0.282699\n",
       "24   0.254439   1.109103\n",
       "25   0.090511   0.394540"
      ]
     },
     "metadata": {},
     "output_type": "display_data"
    }
   ],
   "source": [
    "# contribution to test statistic\n",
    "display(pd.DataFrame(data=(np.square(topic_counts_arr3[(0,2),:] - expected_arr_nt)/(expected_arr_nt)).T, columns = ['None', 'Trump']))\n"
   ]
  },
  {
   "cell_type": "code",
   "execution_count": 170,
   "metadata": {},
   "outputs": [
    {
     "data": {
      "text/html": [
       "<div>\n",
       "<style scoped>\n",
       "    .dataframe tbody tr th:only-of-type {\n",
       "        vertical-align: middle;\n",
       "    }\n",
       "\n",
       "    .dataframe tbody tr th {\n",
       "        vertical-align: top;\n",
       "    }\n",
       "\n",
       "    .dataframe thead th {\n",
       "        text-align: right;\n",
       "    }\n",
       "</style>\n",
       "<table border=\"1\" class=\"dataframe\">\n",
       "  <thead>\n",
       "    <tr style=\"text-align: right;\">\n",
       "      <th></th>\n",
       "      <th>Sanders</th>\n",
       "      <th>Trump</th>\n",
       "    </tr>\n",
       "  </thead>\n",
       "  <tbody>\n",
       "    <tr>\n",
       "      <th>0</th>\n",
       "      <td>0.526260</td>\n",
       "      <td>1.121765</td>\n",
       "    </tr>\n",
       "    <tr>\n",
       "      <th>1</th>\n",
       "      <td>0.008123</td>\n",
       "      <td>0.017315</td>\n",
       "    </tr>\n",
       "    <tr>\n",
       "      <th>2</th>\n",
       "      <td>1.707231</td>\n",
       "      <td>3.639098</td>\n",
       "    </tr>\n",
       "    <tr>\n",
       "      <th>3</th>\n",
       "      <td>0.629058</td>\n",
       "      <td>1.340888</td>\n",
       "    </tr>\n",
       "    <tr>\n",
       "      <th>4</th>\n",
       "      <td>1.821052</td>\n",
       "      <td>3.881716</td>\n",
       "    </tr>\n",
       "    <tr>\n",
       "      <th>5</th>\n",
       "      <td>0.481642</td>\n",
       "      <td>1.026658</td>\n",
       "    </tr>\n",
       "    <tr>\n",
       "      <th>6</th>\n",
       "      <td>0.713929</td>\n",
       "      <td>1.521797</td>\n",
       "    </tr>\n",
       "    <tr>\n",
       "      <th>7</th>\n",
       "      <td>0.687419</td>\n",
       "      <td>1.465287</td>\n",
       "    </tr>\n",
       "    <tr>\n",
       "      <th>8</th>\n",
       "      <td>0.042763</td>\n",
       "      <td>0.091153</td>\n",
       "    </tr>\n",
       "    <tr>\n",
       "      <th>9</th>\n",
       "      <td>0.111550</td>\n",
       "      <td>0.237778</td>\n",
       "    </tr>\n",
       "    <tr>\n",
       "      <th>10</th>\n",
       "      <td>2.350124</td>\n",
       "      <td>5.009475</td>\n",
       "    </tr>\n",
       "    <tr>\n",
       "      <th>11</th>\n",
       "      <td>0.282902</td>\n",
       "      <td>0.603028</td>\n",
       "    </tr>\n",
       "    <tr>\n",
       "      <th>12</th>\n",
       "      <td>1.668616</td>\n",
       "      <td>3.556787</td>\n",
       "    </tr>\n",
       "    <tr>\n",
       "      <th>13</th>\n",
       "      <td>2.319000</td>\n",
       "      <td>4.943131</td>\n",
       "    </tr>\n",
       "    <tr>\n",
       "      <th>14</th>\n",
       "      <td>4.600603</td>\n",
       "      <td>9.806548</td>\n",
       "    </tr>\n",
       "    <tr>\n",
       "      <th>15</th>\n",
       "      <td>4.175681</td>\n",
       "      <td>8.900793</td>\n",
       "    </tr>\n",
       "    <tr>\n",
       "      <th>16</th>\n",
       "      <td>1.458894</td>\n",
       "      <td>3.109747</td>\n",
       "    </tr>\n",
       "    <tr>\n",
       "      <th>17</th>\n",
       "      <td>0.084950</td>\n",
       "      <td>0.181078</td>\n",
       "    </tr>\n",
       "    <tr>\n",
       "      <th>18</th>\n",
       "      <td>0.008349</td>\n",
       "      <td>0.017796</td>\n",
       "    </tr>\n",
       "    <tr>\n",
       "      <th>19</th>\n",
       "      <td>2.409183</td>\n",
       "      <td>5.135363</td>\n",
       "    </tr>\n",
       "    <tr>\n",
       "      <th>20</th>\n",
       "      <td>0.206691</td>\n",
       "      <td>0.440579</td>\n",
       "    </tr>\n",
       "    <tr>\n",
       "      <th>21</th>\n",
       "      <td>0.001840</td>\n",
       "      <td>0.003923</td>\n",
       "    </tr>\n",
       "    <tr>\n",
       "      <th>22</th>\n",
       "      <td>0.107368</td>\n",
       "      <td>0.228864</td>\n",
       "    </tr>\n",
       "    <tr>\n",
       "      <th>23</th>\n",
       "      <td>0.037249</td>\n",
       "      <td>0.079399</td>\n",
       "    </tr>\n",
       "    <tr>\n",
       "      <th>24</th>\n",
       "      <td>0.217351</td>\n",
       "      <td>0.463301</td>\n",
       "    </tr>\n",
       "    <tr>\n",
       "      <th>25</th>\n",
       "      <td>0.116585</td>\n",
       "      <td>0.248510</td>\n",
       "    </tr>\n",
       "  </tbody>\n",
       "</table>\n",
       "</div>"
      ],
      "text/plain": [
       "     Sanders     Trump\n",
       "0   0.526260  1.121765\n",
       "1   0.008123  0.017315\n",
       "2   1.707231  3.639098\n",
       "3   0.629058  1.340888\n",
       "4   1.821052  3.881716\n",
       "5   0.481642  1.026658\n",
       "6   0.713929  1.521797\n",
       "7   0.687419  1.465287\n",
       "8   0.042763  0.091153\n",
       "9   0.111550  0.237778\n",
       "10  2.350124  5.009475\n",
       "11  0.282902  0.603028\n",
       "12  1.668616  3.556787\n",
       "13  2.319000  4.943131\n",
       "14  4.600603  9.806548\n",
       "15  4.175681  8.900793\n",
       "16  1.458894  3.109747\n",
       "17  0.084950  0.181078\n",
       "18  0.008349  0.017796\n",
       "19  2.409183  5.135363\n",
       "20  0.206691  0.440579\n",
       "21  0.001840  0.003923\n",
       "22  0.107368  0.228864\n",
       "23  0.037249  0.079399\n",
       "24  0.217351  0.463301\n",
       "25  0.116585  0.248510"
      ]
     },
     "metadata": {},
     "output_type": "display_data"
    }
   ],
   "source": [
    "# contribution to test statistic\n",
    "display(pd.DataFrame(data=(np.square(topic_counts_arr3[(1,2),:] - expected_arr_st)/(expected_arr_st)).T, columns = ['Sanders', 'Trump']))\n"
   ]
  },
  {
   "cell_type": "code",
   "execution_count": 184,
   "metadata": {},
   "outputs": [
    {
     "data": {
      "text/html": [
       "<div>\n",
       "<style scoped>\n",
       "    .dataframe tbody tr th:only-of-type {\n",
       "        vertical-align: middle;\n",
       "    }\n",
       "\n",
       "    .dataframe tbody tr th {\n",
       "        vertical-align: top;\n",
       "    }\n",
       "\n",
       "    .dataframe thead th {\n",
       "        text-align: right;\n",
       "    }\n",
       "</style>\n",
       "<table border=\"1\" class=\"dataframe\">\n",
       "  <thead>\n",
       "    <tr style=\"text-align: right;\">\n",
       "      <th></th>\n",
       "      <th>None</th>\n",
       "      <th>Sanders</th>\n",
       "      <th>Trump</th>\n",
       "    </tr>\n",
       "  </thead>\n",
       "  <tbody>\n",
       "    <tr>\n",
       "      <th>0</th>\n",
       "      <td>2.307679</td>\n",
       "      <td>0.506411</td>\n",
       "      <td>4.548236</td>\n",
       "    </tr>\n",
       "    <tr>\n",
       "      <th>1</th>\n",
       "      <td>23.557642</td>\n",
       "      <td>21.538666</td>\n",
       "      <td>11.274354</td>\n",
       "    </tr>\n",
       "    <tr>\n",
       "      <th>2</th>\n",
       "      <td>0.226981</td>\n",
       "      <td>0.765164</td>\n",
       "      <td>5.161086</td>\n",
       "    </tr>\n",
       "    <tr>\n",
       "      <th>3</th>\n",
       "      <td>0.035678</td>\n",
       "      <td>0.373855</td>\n",
       "      <td>1.656516</td>\n",
       "    </tr>\n",
       "    <tr>\n",
       "      <th>4</th>\n",
       "      <td>0.137120</td>\n",
       "      <td>1.057371</td>\n",
       "      <td>5.172922</td>\n",
       "    </tr>\n",
       "    <tr>\n",
       "      <th>5</th>\n",
       "      <td>2.023719</td>\n",
       "      <td>4.605306</td>\n",
       "      <td>0.026585</td>\n",
       "    </tr>\n",
       "    <tr>\n",
       "      <th>6</th>\n",
       "      <td>3.299160</td>\n",
       "      <td>0.712283</td>\n",
       "      <td>6.553886</td>\n",
       "    </tr>\n",
       "    <tr>\n",
       "      <th>7</th>\n",
       "      <td>3.295891</td>\n",
       "      <td>0.765542</td>\n",
       "      <td>6.314866</td>\n",
       "    </tr>\n",
       "    <tr>\n",
       "      <th>8</th>\n",
       "      <td>0.029802</td>\n",
       "      <td>0.142992</td>\n",
       "      <td>0.036735</td>\n",
       "    </tr>\n",
       "    <tr>\n",
       "      <th>9</th>\n",
       "      <td>0.206854</td>\n",
       "      <td>0.012197</td>\n",
       "      <td>0.621455</td>\n",
       "    </tr>\n",
       "    <tr>\n",
       "      <th>10</th>\n",
       "      <td>38.008704</td>\n",
       "      <td>17.953590</td>\n",
       "      <td>44.695523</td>\n",
       "    </tr>\n",
       "    <tr>\n",
       "      <th>11</th>\n",
       "      <td>0.319831</td>\n",
       "      <td>1.229611</td>\n",
       "      <td>0.192031</td>\n",
       "    </tr>\n",
       "    <tr>\n",
       "      <th>12</th>\n",
       "      <td>0.214439</td>\n",
       "      <td>0.743169</td>\n",
       "      <td>4.952591</td>\n",
       "    </tr>\n",
       "    <tr>\n",
       "      <th>13</th>\n",
       "      <td>16.698825</td>\n",
       "      <td>6.504660</td>\n",
       "      <td>23.118193</td>\n",
       "    </tr>\n",
       "    <tr>\n",
       "      <th>14</th>\n",
       "      <td>9.181529</td>\n",
       "      <td>26.739223</td>\n",
       "      <td>1.496431</td>\n",
       "    </tr>\n",
       "    <tr>\n",
       "      <th>15</th>\n",
       "      <td>7.407934</td>\n",
       "      <td>0.207812</td>\n",
       "      <td>25.170190</td>\n",
       "    </tr>\n",
       "    <tr>\n",
       "      <th>16</th>\n",
       "      <td>1.543869</td>\n",
       "      <td>6.077872</td>\n",
       "      <td>1.010411</td>\n",
       "    </tr>\n",
       "    <tr>\n",
       "      <th>17</th>\n",
       "      <td>0.081035</td>\n",
       "      <td>0.000371</td>\n",
       "      <td>0.387448</td>\n",
       "    </tr>\n",
       "    <tr>\n",
       "      <th>18</th>\n",
       "      <td>0.030324</td>\n",
       "      <td>0.068415</td>\n",
       "      <td>0.000335</td>\n",
       "    </tr>\n",
       "    <tr>\n",
       "      <th>19</th>\n",
       "      <td>0.008825</td>\n",
       "      <td>2.161960</td>\n",
       "      <td>5.488938</td>\n",
       "    </tr>\n",
       "    <tr>\n",
       "      <th>20</th>\n",
       "      <td>0.348401</td>\n",
       "      <td>1.016352</td>\n",
       "      <td>0.057375</td>\n",
       "    </tr>\n",
       "    <tr>\n",
       "      <th>21</th>\n",
       "      <td>0.153338</td>\n",
       "      <td>0.114213</td>\n",
       "      <td>0.105073</td>\n",
       "    </tr>\n",
       "    <tr>\n",
       "      <th>22</th>\n",
       "      <td>6.656843</td>\n",
       "      <td>7.991822</td>\n",
       "      <td>1.586092</td>\n",
       "    </tr>\n",
       "    <tr>\n",
       "      <th>23</th>\n",
       "      <td>0.668645</td>\n",
       "      <td>0.957304</td>\n",
       "      <td>0.077700</td>\n",
       "    </tr>\n",
       "    <tr>\n",
       "      <th>24</th>\n",
       "      <td>2.952096</td>\n",
       "      <td>4.810913</td>\n",
       "      <td>0.148161</td>\n",
       "    </tr>\n",
       "    <tr>\n",
       "      <th>25</th>\n",
       "      <td>0.057790</td>\n",
       "      <td>0.011202</td>\n",
       "      <td>0.430894</td>\n",
       "    </tr>\n",
       "  </tbody>\n",
       "</table>\n",
       "</div>"
      ],
      "text/plain": [
       "         None    Sanders      Trump\n",
       "0    2.307679   0.506411   4.548236\n",
       "1   23.557642  21.538666  11.274354\n",
       "2    0.226981   0.765164   5.161086\n",
       "3    0.035678   0.373855   1.656516\n",
       "4    0.137120   1.057371   5.172922\n",
       "5    2.023719   4.605306   0.026585\n",
       "6    3.299160   0.712283   6.553886\n",
       "7    3.295891   0.765542   6.314866\n",
       "8    0.029802   0.142992   0.036735\n",
       "9    0.206854   0.012197   0.621455\n",
       "10  38.008704  17.953590  44.695523\n",
       "11   0.319831   1.229611   0.192031\n",
       "12   0.214439   0.743169   4.952591\n",
       "13  16.698825   6.504660  23.118193\n",
       "14   9.181529  26.739223   1.496431\n",
       "15   7.407934   0.207812  25.170190\n",
       "16   1.543869   6.077872   1.010411\n",
       "17   0.081035   0.000371   0.387448\n",
       "18   0.030324   0.068415   0.000335\n",
       "19   0.008825   2.161960   5.488938\n",
       "20   0.348401   1.016352   0.057375\n",
       "21   0.153338   0.114213   0.105073\n",
       "22   6.656843   7.991822   1.586092\n",
       "23   0.668645   0.957304   0.077700\n",
       "24   2.952096   4.810913   0.148161\n",
       "25   0.057790   0.011202   0.430894"
      ]
     },
     "metadata": {},
     "output_type": "display_data"
    }
   ],
   "source": [
    "# contribution to test statistic\n",
    "display(pd.DataFrame(data=(np.square(topic_counts_arr3[:3,:] - expected_arr_nst)/(expected_arr_nst)).T, columns = ['None','Sanders', 'Trump']))\n"
   ]
  },
  {
   "cell_type": "code",
   "execution_count": 177,
   "metadata": {},
   "outputs": [
    {
     "name": "stdout",
     "output_type": "stream",
     "text": [
      "0: ['gun', 'guns', 'lol', 'control', 'men', 'check', 'ban', 'weapons', 'property', 'killed']\n",
      "1: ['for', 'money', 'more', 'on', 'tax', 'are', 'pay', 'have', 'you', 'would']\n",
      "2: ['illegal', 'for', 'legal', 'laws', 'crime', 'law', 'are', 'or', 'amendment', 'immigration']\n",
      "3: ['this', 'about', 'on', 'like', 'people', 'but', 'm', 'just', 'not', 'are']\n",
      "4: ['debates', 'great', 'please', 'ok', 'wonder', 'again', 'official', 'member', 'propaganda', 'removed']\n",
      "5: ['new', 'right', 'pro', 'polls', 'left', 'video', 'poll', 'wing', 'gay', 'senator']\n",
      "6: ['article', 'post', 'this', 'read', 'source', 'from', 'evidence', 'data', 'news', 'proof']\n",
      "7: ['she', 'her', 'hillary', 'for', 'woman', 'like', 'has', 'fox', 'emails', 'on']\n",
      "8: ['court', 'man', 'nice', 'damn', 'supreme', 'dude', 'union', 'executive', 'city', 'slavery']\n",
      "9: ['you', 'your', 'what', 'if', 're', 'not', 'do', 'are', 'have', 'can']\n",
      "10: ['bernie', 'sanders', 'hillary', 'clinton', 'trump', 'for', 'supporters', 'campaign', 'has', 'support']\n",
      "11: ['change', 'both', 'trade', 'climate', 'true', 'truth', 'water', 'science', 'down', 'global']\n",
      "12: ['people', 'are', 'white', 'america', 'black', 'us', 'american', 'world', 'country', 'racist']\n",
      "13: ['as', 'not', 'be', 'or', 'on', 'an', 'with', 'but', 'this', 'for']\n",
      "14: ['be', 'will', 'if', 'would', 'but', 'this', 'for', 'have', 'get', 'as']\n",
      "15: ['he', 'his', 'him', 'trump', 'has', 'said', 'what', 'guy', 'like', 'not']\n",
      "16: ['vote', 'for', 'party', 'republicans', 'republican', 'are', 'voting', 'democrats', 'democratic', 'who']\n",
      "17: ['oh', 'wait', 'god', 'thanks', 'cruz', 'attacks', 'thats', 'ted', 'for', 'john']\n",
      "18: ['my', 'for', 'year', 'years', 'me', 'old', 'time', 'last', 'day', 'over']\n",
      "19: ['war', 'military', 'fucking', 'iraq', 'front', 'fuck', 'shit', 'page', 'rand', 'paul']\n",
      "20: ['question', 'answer', 'ask', 'link', 'questions', 'agenda', 'jail', 'jesus', 'cool', 'asked']\n",
      "21: ['t', 'don', 'doesn', 'isn', 'they', 'but', 'didn', 'can', 'think', 'because']\n",
      "22: ['they', 'we', 'are', 'people', 'their', 'have', 'them', 'do', 'all', 'our']\n",
      "23: ['states', 'state', 'rights', 'women', 'law', 'delegates', 'super', 'speech', 'by', 'united']\n",
      "24: ['voter', 'percent', 'energy', 'south', 'low', 'id', 'nuclear', 'o', 'oil', 'carson']\n",
      "25: ['was', 'were', 'had', 'did', 'when', 'on', 'at', 'obama', 'been', 'for']\n"
     ]
    }
   ],
   "source": [
    "for topic_num in range(26):\n",
    "    print(str(topic_num) + \": \" + str([politics_dictionary.id2token[i] for i,j in politics_ldamodel26.get_topic_terms(topic_num)]))"
   ]
  },
  {
   "cell_type": "code",
   "execution_count": 179,
   "metadata": {},
   "outputs": [
    {
     "name": "stdout",
     "output_type": "stream",
     "text": [
      "[10  1 14 13 22 24 16  5 15  7  6  0 23 11 19 20  4 21  2 12  8  3  9 18\n",
      " 17 25]\n",
      "[5.34099535e+01 4.23901083e+01 3.54495759e+01 1.90128784e+01\n",
      " 1.42875539e+01 7.84111161e+00 7.35452300e+00 6.58944383e+00\n",
      " 3.99690011e+00 3.25282829e+00 3.20636126e+00 2.19745753e+00\n",
      " 1.60060784e+00 1.49254814e+00 1.42770523e+00 1.36750387e+00\n",
      " 4.33858255e-01 2.52051898e-01 2.08315703e-01 2.01944269e-01\n",
      " 1.65759859e-01 1.55654798e-01 1.22796275e-01 9.86513616e-02\n",
      " 2.20892056e-02 2.58858558e-03]\n"
     ]
    }
   ],
   "source": [
    "print(np.flip(np.argsort(np.sum(np.square(topic_counts_arr3[(0,1),:] - expected_arr_ns)/(expected_arr_ns), axis=0))))\n",
    "print(np.flip(sorted(np.sum(np.square(topic_counts_arr3[(0,1),:] - expected_arr_ns)/(expected_arr_ns), axis=0))))"
   ]
  },
  {
   "cell_type": "code",
   "execution_count": 180,
   "metadata": {},
   "outputs": [
    {
     "name": "stdout",
     "output_type": "stream",
     "text": [
      "[10 13 15  1  6  7  0 22  2 12  4 19  3 24  9 25 17 23  5 21 16 14 11  8\n",
      " 18 20]\n",
      "[8.31220476e+01 3.61095956e+01 3.28374878e+01 2.48748911e+01\n",
      " 9.93958924e+00 9.60498803e+00 6.80824601e+00 4.90506107e+00\n",
      " 4.90212403e+00 4.75252003e+00 4.58249220e+00 4.29529397e+00\n",
      " 1.53241733e+00 1.36354176e+00 8.22614755e-01 4.85050579e-01\n",
      " 4.67897820e-01 3.47552948e-01 2.49832285e-01 2.14062824e-01\n",
      " 1.46404888e-01 4.45563521e-02 2.48084055e-02 9.94783796e-03\n",
      " 3.47954462e-03 1.42671373e-03]\n"
     ]
    }
   ],
   "source": [
    "print(np.flip(np.argsort(np.sum(np.square(topic_counts_arr3[(0,2),:] - expected_arr_nt)/(expected_arr_nt), axis=0))))\n",
    "print(np.flip(sorted(np.sum(np.square(topic_counts_arr3[(0,2),:] - expected_arr_nt)/(expected_arr_nt), axis=0))))"
   ]
  },
  {
   "cell_type": "code",
   "execution_count": 181,
   "metadata": {},
   "outputs": [
    {
     "name": "stdout",
     "output_type": "stream",
     "text": [
      "[14 15 19 10 13  4  2 12 16  6  7  3  0  5 11 24 20 25  9 22 17  8 23 18\n",
      "  1 21]\n",
      "[1.44071501e+01 1.30764743e+01 7.54454597e+00 7.35959854e+00\n",
      " 7.26213050e+00 5.70276826e+00 5.34632878e+00 5.22540383e+00\n",
      " 4.56864120e+00 2.23572659e+00 2.15270571e+00 1.96994598e+00\n",
      " 1.64802474e+00 1.50830045e+00 8.85930350e-01 6.80652434e-01\n",
      " 6.47269752e-01 3.65095405e-01 3.49328755e-01 3.36232319e-01\n",
      " 2.66027724e-01 1.33916544e-01 1.16647349e-01 2.61447057e-02\n",
      " 2.54385492e-02 5.76350735e-03]\n"
     ]
    }
   ],
   "source": [
    "print(np.flip(np.argsort(np.sum(np.square(topic_counts_arr3[(1,2),:] - expected_arr_st)/(expected_arr_st), axis=0))))\n",
    "print(np.flip(sorted(np.sum(np.square(topic_counts_arr3[(1,2),:] - expected_arr_st)/(expected_arr_st), axis=0))))"
   ]
  },
  {
   "cell_type": "code",
   "execution_count": 198,
   "metadata": {},
   "outputs": [
    {
     "name": "stdout",
     "output_type": "stream",
     "text": [
      "[10  1 13 14 15 22  6  7 24  0  5 16 23 20 11  2 12  9 21  4 17 25  3 18\n",
      "  8 19]\n",
      "[3.80087037e+01 2.35576421e+01 1.66988246e+01 9.18152914e+00\n",
      " 7.40793392e+00 6.65684279e+00 3.29915963e+00 3.29589070e+00\n",
      " 2.95209577e+00 2.30767855e+00 2.02371933e+00 1.54386893e+00\n",
      " 6.68645124e-01 3.48400871e-01 3.19830800e-01 2.26981046e-01\n",
      " 2.14439077e-01 2.06853820e-01 1.53338138e-01 1.37120081e-01\n",
      " 8.10345587e-02 5.77898113e-02 3.56783402e-02 3.03244901e-02\n",
      " 2.98015324e-02 8.82489836e-03]\n",
      "\n",
      "[14  1 10 22 13 16 24  5 19 11  4 20 23  7  2 12  6  0  3 15  8 21 18  9\n",
      " 25 17]\n",
      "[2.67392230e+01 2.15386662e+01 1.79535899e+01 7.99182227e+00\n",
      " 6.50465956e+00 6.07787237e+00 4.81091309e+00 4.60530596e+00\n",
      " 2.16196041e+00 1.22961115e+00 1.05737057e+00 1.01635175e+00\n",
      " 9.57303936e-01 7.65542253e-01 7.65163555e-01 7.43169012e-01\n",
      " 7.12282653e-01 5.06411159e-01 3.73855051e-01 2.07811741e-01\n",
      " 1.42992420e-01 1.14212588e-01 6.84146806e-02 1.21973722e-02\n",
      " 1.12015078e-02 3.70977788e-04]\n",
      "\n",
      "[10 15 13  1  6  7 19  4  2 12  0  3 22 14 16  9 25 17 11 24 21 23 20  8\n",
      "  5 18]\n",
      "[4.46955228e+01 2.51701904e+01 2.31181929e+01 1.12743540e+01\n",
      " 6.55388566e+00 6.31486592e+00 5.48893846e+00 5.17292185e+00\n",
      " 5.16108582e+00 4.95259052e+00 4.54823602e+00 1.65651592e+00\n",
      " 1.58609179e+00 1.49643087e+00 1.01041107e+00 6.21455458e-01\n",
      " 4.30893756e-01 3.87448234e-01 1.92030819e-01 1.48160727e-01\n",
      " 1.05073426e-01 7.76996696e-02 5.73750101e-02 3.67345095e-02\n",
      " 2.65854680e-02 3.35105872e-04]\n"
     ]
    }
   ],
   "source": [
    "print(np.flip(np.argsort(np.square(topic_counts_arr3[0,:] - expected_arr_nst[0,:])/(expected_arr_nst[0,:]))))\n",
    "print(np.flip(sorted(np.square(topic_counts_arr3[0,:] - expected_arr_nst[0,:])/(expected_arr_nst[0,:]))))\n",
    "print()\n",
    "print(np.flip(np.argsort(np.square(topic_counts_arr3[1,:] - expected_arr_nst[1,:])/(expected_arr_nst[1,:]))))\n",
    "print(np.flip(sorted(np.square(topic_counts_arr3[1,:] - expected_arr_nst[1,:])/(expected_arr_nst[1,:]))))\n",
    "print()\n",
    "print(np.flip(np.argsort(np.square(topic_counts_arr3[2,:] - expected_arr_nst[2,:])/(expected_arr_nst[2,:]))))\n",
    "print(np.flip(sorted(np.square(topic_counts_arr3[2,:] - expected_arr_nst[2,:])/(expected_arr_nst[2,:]))))"
   ]
  },
  {
   "cell_type": "code",
   "execution_count": null,
   "metadata": {},
   "outputs": [],
   "source": []
  },
  {
   "cell_type": "code",
   "execution_count": null,
   "metadata": {},
   "outputs": [],
   "source": []
  }
 ],
 "metadata": {
  "kernelspec": {
   "display_name": "Python 3",
   "language": "python",
   "name": "python3"
  },
  "language_info": {
   "codemirror_mode": {
    "name": "ipython",
    "version": 3
   },
   "file_extension": ".py",
   "mimetype": "text/x-python",
   "name": "python",
   "nbconvert_exporter": "python",
   "pygments_lexer": "ipython3",
   "version": "3.7.3"
  }
 },
 "nbformat": 4,
 "nbformat_minor": 2
}
