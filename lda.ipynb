{
 "cells": [
  {
   "cell_type": "code",
   "execution_count": 47,
   "metadata": {},
   "outputs": [],
   "source": [
    "import json\n",
    "from gensim.models import LdaModel\n",
    "from gensim.corpora import Dictionary\n",
    "\n",
    "from matplotlib import pyplot as plt"
   ]
  },
  {
   "cell_type": "code",
   "execution_count": 2,
   "metadata": {},
   "outputs": [],
   "source": [
    "with open('politics_tokens.json', 'r') as f:\n",
    "    politics_tokens = json.load(f) "
   ]
  },
  {
   "cell_type": "code",
   "execution_count": 3,
   "metadata": {},
   "outputs": [
    {
     "name": "stdout",
     "output_type": "stream",
     "text": [
      "925937\n"
     ]
    }
   ],
   "source": [
    "print(len(politics_tokens))"
   ]
  },
  {
   "cell_type": "code",
   "execution_count": 4,
   "metadata": {},
   "outputs": [],
   "source": [
    "# politics_dictionary = Dictionary(politics_tokens)\n",
    "politics_dictionary = Dictionary.load(\"stored_variables/politics_dictionary_lda\")"
   ]
  },
  {
   "cell_type": "code",
   "execution_count": 5,
   "metadata": {},
   "outputs": [],
   "source": [
    "# politics_dictionary.filter_extremes(no_below = 10, no_above = 0.3)"
   ]
  },
  {
   "cell_type": "code",
   "execution_count": 16,
   "metadata": {},
   "outputs": [
    {
     "data": {
      "text/plain": [
       "'did'"
      ]
     },
     "execution_count": 16,
     "metadata": {},
     "output_type": "execute_result"
    }
   ],
   "source": [
    "politics_dictionary[0]"
   ]
  },
  {
   "cell_type": "code",
   "execution_count": 17,
   "metadata": {},
   "outputs": [
    {
     "name": "stdout",
     "output_type": "stream",
     "text": [
      "True\n",
      "True\n",
      "True\n",
      "True\n",
      "False\n",
      "False\n",
      "False\n",
      "False\n",
      "True\n",
      "False\n",
      "False\n"
     ]
    }
   ],
   "source": [
    "print('she' in politics_dictionary.token2id.keys())\n",
    "print('her' in politics_dictionary.token2id.keys())\n",
    "print('he' in politics_dictionary.token2id.keys())\n",
    "print('his' in politics_dictionary.token2id.keys())\n",
    "print('of' in politics_dictionary.token2id.keys())\n",
    "print('to' in politics_dictionary.token2id.keys())\n",
    "print('the' in politics_dictionary.token2id.keys())\n",
    "print('in' in politics_dictionary.token2id.keys())\n",
    "print('was' in politics_dictionary.token2id.keys())\n",
    "print('it' in politics_dictionary.token2id.keys())\n",
    "print('a' in politics_dictionary.token2id.keys())"
   ]
  },
  {
   "cell_type": "code",
   "execution_count": 8,
   "metadata": {},
   "outputs": [],
   "source": [
    "politics_corpus = [politics_dictionary.doc2bow(text) for text in politics_tokens]"
   ]
  },
  {
   "cell_type": "code",
   "execution_count": 9,
   "metadata": {},
   "outputs": [
    {
     "name": "stdout",
     "output_type": "stream",
     "text": [
      "['the', 'obama', 'thing', 'was', 'a', 'joke', 'if', 'you', 'want', 'to', 'ding', 'her', 'for', 'that', 'comment', 'you', 'must', 'have', 'been', 'already', 'been', 'looking', 'for', 'excuses', 'not', 'to', 'vote', 'for', 'her', 'she', 'harps', 'on', 'the', 'fact', 'that', 'no', 'woman', 'ever', 'has', 'been', 'in', 'the', 'position', 'she', 'is', 'in', 'and', 'that', 'women', 'are', 'better', 'negotiators', 'and', 'better', 'at', 'compromising', 'than', 'men', 'are', 'which', 'helps', 'deal', 'with', 'the', 'grid', 'lock', 'in', 'washington']\n",
      "[(6, 2), (11, 1), (19, 2), (47, 1), (51, 3), (57, 1), (67, 3), (75, 1), (76, 1), (86, 1), (103, 1), (136, 1), (159, 1), (163, 1), (229, 2), (235, 1), (238, 1), (241, 2), (278, 1), (282, 1), (366, 2), (423, 1), (464, 1), (668, 1), (738, 1), (752, 1), (753, 1), (1065, 1), (1102, 1), (1103, 1), (1104, 1), (1105, 1), (1106, 1), (1107, 1), (1108, 1), (1109, 1), (1110, 1), (1111, 1), (1112, 1), (1113, 1), (1114, 1), (1115, 1), (1116, 1)]\n"
     ]
    }
   ],
   "source": [
    "print(politics_tokens[100])\n",
    "print(politics_corpus[100])"
   ]
  },
  {
   "cell_type": "code",
   "execution_count": 34,
   "metadata": {},
   "outputs": [],
   "source": [
    "politics_ldamodel = LdaModel(politics_corpus, num_topics = 20, id2word = politics_dictionary)\n",
    "# politics_ldamodel = LdaModel.load('stored_variables/politics_lda.model')"
   ]
  },
  {
   "cell_type": "code",
   "execution_count": 38,
   "metadata": {},
   "outputs": [],
   "source": [
    "politics_ldamodel.save(\"stored_variables/politics_lda.model\")"
   ]
  },
  {
   "cell_type": "code",
   "execution_count": 87,
   "metadata": {},
   "outputs": [],
   "source": [
    "# politics_dictionary.save(\"stored_variables/politics_dictionary_lda\")"
   ]
  },
  {
   "cell_type": "code",
   "execution_count": 39,
   "metadata": {},
   "outputs": [
    {
     "data": {
      "text/plain": [
       "['media',\n",
       " 'video',\n",
       " 'energy',\n",
       " 'data',\n",
       " 'amp',\n",
       " 'kasich',\n",
       " 'numbers',\n",
       " 'posted',\n",
       " 'low',\n",
       " 'event']"
      ]
     },
     "execution_count": 39,
     "metadata": {},
     "output_type": "execute_result"
    }
   ],
   "source": [
    "[politics_dictionary.id2token[i] for i,j in politics_ldamodel.get_topic_terms(1)]"
   ]
  },
  {
   "cell_type": "code",
   "execution_count": 35,
   "metadata": {},
   "outputs": [
    {
     "data": {
      "text/plain": [
       "[(389, 0.047588162),\n",
       " (976, 0.020041214),\n",
       " (848, 0.01857868),\n",
       " (957, 0.016969176),\n",
       " (791, 0.01665543),\n",
       " (613, 0.013870119),\n",
       " (2932, 0.013312979),\n",
       " (6919, 0.012237587),\n",
       " (972, 0.011866175),\n",
       " (3383, 0.011747359)]"
      ]
     },
     "execution_count": 35,
     "metadata": {},
     "output_type": "execute_result"
    }
   ],
   "source": [
    "politics_ldamodel.get_topic_terms(1)"
   ]
  },
  {
   "cell_type": "code",
   "execution_count": 37,
   "metadata": {},
   "outputs": [
    {
     "name": "stdout",
     "output_type": "stream",
     "text": [
      "['right', 'left', 'yeah', 'liberal', 'oh', 'now', 'yes', 'conservative', 'too', 'hate']\n",
      "['media', 'video', 'energy', 'data', 'amp', 'kasich', 'numbers', 'posted', 'low', 'event']\n",
      "['us', 'war', 'american', 'america', 'country', 'foreign', 'iraq', 'immigration', 'illegal', 'military']\n",
      "['they', 'people', 'are', 'their', 'them', 'have', 'for', 'who', 'be', 'get']\n",
      "['you', 'your', 're', 'what', 'if', 'do', 'are', 'not', 'can', 'about']\n",
      "['she', 'her', 'clinton', 'hillary', 'has', 'for', 'on', 'campaign', 'as', 'about']\n",
      "['more', 'than', 'better', 'less', 'much', 'rather', 'far', 'voter', 'worse', 'likely']\n",
      "['we', 'our', 'us', 'government', 'have', 'on', 'has', 'system', 'by', 'world']\n",
      "['m', 'not', 'but', 'my', 'be', 'me', 'like', 'sure', 'this', 'would']\n",
      "['he', 'his', 'him', 'trump', 'has', 'on', 'as', 'with', 'about', 'like']\n",
      "['be', 'not', 'or', 'for', 'gun', 'law', 'no', 'by', 'if', 'would']\n",
      "['this', 'on', 'black', 'article', 'read', 'post', 'lol', 'white', 'reddit', 'here']\n",
      "['t', 'don', 'they', 'doesn', 'isn', 'can', 'but', 'didn', 'if', 'have']\n",
      "['was', 'were', 'had', 'did', 'when', 'said', 'obama', 'what', 'thought', 'about']\n",
      "['bernie', 'sanders', 'trump', 'for', 'hillary', 'vote', 'supporters', 'clinton', 'will', 'candidate']\n",
      "['rights', 'women', 'gay', 'marriage', 'men', 'anti', 'life', 'civil', 'abortion', 'religious']\n",
      "['this', 'been', 'for', 've', 'on', 'years', 'time', 'have', 'at', 'has']\n",
      "['party', 'vote', 'for', 'republican', 'election', 'if', 'be', 'will', 'win', 'democrats']\n",
      "['for', 'tax', 'pay', 'on', 'taxes', 'would', 'money', 'not', 'be', 'work']\n",
      "['as', 'are', 'not', 'on', 'with', 'but', 'be', 'or', 'people', 'they']\n"
     ]
    }
   ],
   "source": [
    "for topic_num in range(20):\n",
    "    print([politics_dictionary.id2token[i] for i,j in politics_ldamodel.get_topic_terms(topic_num)])"
   ]
  },
  {
   "cell_type": "markdown",
   "metadata": {},
   "source": [
    "## Look at distribution of topics among comments"
   ]
  },
  {
   "cell_type": "code",
   "execution_count": 36,
   "metadata": {},
   "outputs": [
    {
     "data": {
      "text/plain": [
       "[([(0.17355762, 'you'),\n",
       "   (0.03698255, 'your'),\n",
       "   (0.025821779, 're'),\n",
       "   (0.025512965, 'what'),\n",
       "   (0.020932386, 'if'),\n",
       "   (0.020807067, 'do'),\n",
       "   (0.020006226, 'are'),\n",
       "   (0.016639015, 'not'),\n",
       "   (0.014003767, 'can'),\n",
       "   (0.013814589, 'about'),\n",
       "   (0.01376073, 'have'),\n",
       "   (0.010218419, 'with'),\n",
       "   (0.010044276, 'how'),\n",
       "   (0.009682757, 'just'),\n",
       "   (0.009282239, 'so'),\n",
       "   (0.008572297, 'know'),\n",
       "   (0.00849236, 'or'),\n",
       "   (0.008131667, 'for'),\n",
       "   (0.008016175, 'think'),\n",
       "   (0.007160463, 'no')],\n",
       "  -1.4158095013741092),\n",
       " ([(0.04703717, 'they'),\n",
       "   (0.036332354, 'people'),\n",
       "   (0.029785072, 'are'),\n",
       "   (0.022301001, 'their'),\n",
       "   (0.017481891, 'them'),\n",
       "   (0.014294602, 'have'),\n",
       "   (0.013151588, 'for'),\n",
       "   (0.012565468, 'who'),\n",
       "   (0.011973164, 'be'),\n",
       "   (0.011148571, 'get'),\n",
       "   (0.010797547, 'with'),\n",
       "   (0.010295737, 'there'),\n",
       "   (0.010251641, 'will'),\n",
       "   (0.0099968165, 'money'),\n",
       "   (0.00985312, 'out'),\n",
       "   (0.00966517, 'all'),\n",
       "   (0.009331192, 'up'),\n",
       "   (0.008558024, 'just'),\n",
       "   (0.008549434, 'so'),\n",
       "   (0.0082805995, 'from')],\n",
       "  -1.517666897928892),\n",
       " ([(0.029104577, 'as'),\n",
       "   (0.027562594, 'are'),\n",
       "   (0.02342103, 'not'),\n",
       "   (0.017910136, 'on'),\n",
       "   (0.01715289, 'with'),\n",
       "   (0.01441398, 'but'),\n",
       "   (0.01420834, 'be'),\n",
       "   (0.013155048, 'or'),\n",
       "   (0.012946201, 'people'),\n",
       "   (0.012853742, 'they'),\n",
       "   (0.011216886, 'for'),\n",
       "   (0.01057529, 'their'),\n",
       "   (0.010430302, 'have'),\n",
       "   (0.010418627, 'an'),\n",
       "   (0.009907958, 'there'),\n",
       "   (0.009332365, 'this'),\n",
       "   (0.009134026, 'who'),\n",
       "   (0.008125993, 'one'),\n",
       "   (0.007657694, 'political'),\n",
       "   (0.007524165, 'other')],\n",
       "  -1.5484154972644668),\n",
       " ([(0.060518112, 'we'),\n",
       "   (0.025963519, 'our'),\n",
       "   (0.019157423, 'us'),\n",
       "   (0.016329737, 'government'),\n",
       "   (0.014038618, 'have'),\n",
       "   (0.011064603, 'on'),\n",
       "   (0.010713804, 'has'),\n",
       "   (0.0105101485, 'system'),\n",
       "   (0.009724635, 'by'),\n",
       "   (0.00971381, 'world'),\n",
       "   (0.009013477, 'country'),\n",
       "   (0.008813816, 'with'),\n",
       "   (0.008728059, 'as'),\n",
       "   (0.0080221, 'for'),\n",
       "   (0.007963875, 'need'),\n",
       "   (0.007628247, 'all'),\n",
       "   (0.007500419, 'are'),\n",
       "   (0.007037515, 'from'),\n",
       "   (0.0063483696, 'change'),\n",
       "   (0.0062929397, 'this')],\n",
       "  -1.620915997521036),\n",
       " ([(0.21129937, 't'),\n",
       "   (0.06578469, 'don'),\n",
       "   (0.035875324, 'they'),\n",
       "   (0.029066311, 'doesn'),\n",
       "   (0.021688214, 'isn'),\n",
       "   (0.021493318, 'can'),\n",
       "   (0.01700603, 'but'),\n",
       "   (0.01643787, 'didn'),\n",
       "   (0.014472072, 'if'),\n",
       "   (0.013520712, 'have'),\n",
       "   (0.013420247, 'we'),\n",
       "   (0.013063056, 'just'),\n",
       "   (0.012967552, 'because'),\n",
       "   (0.012814081, 'know'),\n",
       "   (0.012442959, 'think'),\n",
       "   (0.0123446, 'people'),\n",
       "   (0.011705899, 'be'),\n",
       "   (0.010942991, 'aren'),\n",
       "   (0.010217153, 'want'),\n",
       "   (0.009214142, 'even')],\n",
       "  -1.7071329906447312),\n",
       " ([(0.17977457, 'he'),\n",
       "   (0.07175688, 'his'),\n",
       "   (0.03651861, 'him'),\n",
       "   (0.024447529, 'trump'),\n",
       "   (0.017880024, 'has'),\n",
       "   (0.015268606, 'on'),\n",
       "   (0.009709469, 'as'),\n",
       "   (0.009624174, 'with'),\n",
       "   (0.009131378, 'about'),\n",
       "   (0.008963691, 'like'),\n",
       "   (0.00868596, 'said'),\n",
       "   (0.008599905, 'out'),\n",
       "   (0.00821802, 'but'),\n",
       "   (0.008189277, 'for'),\n",
       "   (0.007952207, 'just'),\n",
       "   (0.007943261, 'not'),\n",
       "   (0.0077129356, 'cruz'),\n",
       "   (0.0075897854, 'what'),\n",
       "   (0.0072960793, 'guy'),\n",
       "   (0.006295103, 'president')],\n",
       "  -1.914829130023718),\n",
       " ([(0.09179159, 'bernie'),\n",
       "   (0.069552295, 'sanders'),\n",
       "   (0.06656242, 'trump'),\n",
       "   (0.05077201, 'for'),\n",
       "   (0.049981155, 'hillary'),\n",
       "   (0.031482346, 'vote'),\n",
       "   (0.029953022, 'supporters'),\n",
       "   (0.02511275, 'clinton'),\n",
       "   (0.023512121, 'will'),\n",
       "   (0.019979345, 'candidate'),\n",
       "   (0.0151601555, 'support'),\n",
       "   (0.014560871, 'voting'),\n",
       "   (0.013476181, 'who'),\n",
       "   (0.012582542, 'if'),\n",
       "   (0.010180006, 'would'),\n",
       "   (0.008257842, 'supporter'),\n",
       "   (0.008036585, 'be'),\n",
       "   (0.008011302, 'against'),\n",
       "   (0.007952503, 'him'),\n",
       "   (0.007829352, 'not')],\n",
       "  -1.9429720241453525),\n",
       " ([(0.027423853, 'be'),\n",
       "   (0.02112233, 'not'),\n",
       "   (0.020067597, 'or'),\n",
       "   (0.017850451, 'for'),\n",
       "   (0.015515717, 'gun'),\n",
       "   (0.015023623, 'law'),\n",
       "   (0.013656543, 'no'),\n",
       "   (0.012716332, 'by'),\n",
       "   (0.011330451, 'if'),\n",
       "   (0.011285703, 'would'),\n",
       "   (0.011261543, 'have'),\n",
       "   (0.010912305, 'should'),\n",
       "   (0.010552617, 'there'),\n",
       "   (0.010360631, 'state'),\n",
       "   (0.009756763, 'an'),\n",
       "   (0.00924128, 'any'),\n",
       "   (0.009061577, 'from'),\n",
       "   (0.0086416, 'guns'),\n",
       "   (0.0083490815, 'laws'),\n",
       "   (0.0075951843, 'are')],\n",
       "  -1.9897037825234105),\n",
       " ([(0.059036132, 'm'),\n",
       "   (0.04064604, 'not'),\n",
       "   (0.039817423, 'but'),\n",
       "   (0.039616708, 'my'),\n",
       "   (0.035508968, 'be'),\n",
       "   (0.031306747, 'me'),\n",
       "   (0.030837966, 'like'),\n",
       "   (0.024706516, 'sure'),\n",
       "   (0.021997118, 'this'),\n",
       "   (0.021137472, 'would'),\n",
       "   (0.020289177, 'good'),\n",
       "   (0.018595468, 'for'),\n",
       "   (0.015858961, 'just'),\n",
       "   (0.014059585, 'am'),\n",
       "   (0.012321979, 'what'),\n",
       "   (0.0113797095, 'd'),\n",
       "   (0.01106914, 'bad'),\n",
       "   (0.010864764, 'really'),\n",
       "   (0.010840455, 'pretty'),\n",
       "   (0.010815723, 'with')],\n",
       "  -1.9904159555755978),\n",
       " ([(0.14607053, 'was'),\n",
       "   (0.03965655, 'were'),\n",
       "   (0.025104078, 'had'),\n",
       "   (0.022616412, 'did'),\n",
       "   (0.015294399, 'when'),\n",
       "   (0.014756619, 'said'),\n",
       "   (0.012745695, 'obama'),\n",
       "   (0.012577453, 'what'),\n",
       "   (0.010564846, 'thought'),\n",
       "   (0.010149858, 'about'),\n",
       "   (0.009969256, 'there'),\n",
       "   (0.009949599, 'but'),\n",
       "   (0.008505658, 'by'),\n",
       "   (0.008019353, 'at'),\n",
       "   (0.007930853, 'after'),\n",
       "   (0.007836268, 'before'),\n",
       "   (0.0076348884, 'first'),\n",
       "   (0.007120055, 'bill'),\n",
       "   (0.006912295, 'no'),\n",
       "   (0.006847026, 'not')],\n",
       "  -2.0014691242256037),\n",
       " ([(0.02674533, 'this'),\n",
       "   (0.02564386, 'been'),\n",
       "   (0.022208802, 'for'),\n",
       "   (0.022186253, 've'),\n",
       "   (0.021197263, 'on'),\n",
       "   (0.0210868, 'years'),\n",
       "   (0.01923424, 'time'),\n",
       "   (0.018119292, 'have'),\n",
       "   (0.014575108, 'at'),\n",
       "   (0.014354388, 'has'),\n",
       "   (0.012551869, 'over'),\n",
       "   (0.011445251, 'all'),\n",
       "   (0.011392168, 'one'),\n",
       "   (0.011002792, 'shit'),\n",
       "   (0.010648874, 'up'),\n",
       "   (0.010609645, 'last'),\n",
       "   (0.010481995, 'day'),\n",
       "   (0.010004519, 'we'),\n",
       "   (0.009312157, 'now'),\n",
       "   (0.009201176, 'my')],\n",
       "  -2.041350631808562),\n",
       " ([(0.026142497, 'party'),\n",
       "   (0.023426834, 'vote'),\n",
       "   (0.02087991, 'for'),\n",
       "   (0.016146036, 'republican'),\n",
       "   (0.016134249, 'election'),\n",
       "   (0.015452246, 'if'),\n",
       "   (0.014645257, 'be'),\n",
       "   (0.014525726, 'will'),\n",
       "   (0.012837974, 'win'),\n",
       "   (0.012447892, 'democrats'),\n",
       "   (0.01218693, 'republicans'),\n",
       "   (0.01151932, 'democratic'),\n",
       "   (0.010294321, 'voters'),\n",
       "   (0.010212984, 'would'),\n",
       "   (0.010192727, 'have'),\n",
       "   (0.009802401, 'this'),\n",
       "   (0.009703182, 'gop'),\n",
       "   (0.00962711, 'by'),\n",
       "   (0.009116286, 'states'),\n",
       "   (0.0086846845, 'primary')],\n",
       "  -2.162149209702658),\n",
       " ([(0.03645543, 'for'),\n",
       "   (0.016807992, 'tax'),\n",
       "   (0.01638212, 'pay'),\n",
       "   (0.010535806, 'on'),\n",
       "   (0.0104427, 'taxes'),\n",
       "   (0.010424983, 'would'),\n",
       "   (0.0103996275, 'money'),\n",
       "   (0.009661224, 'not'),\n",
       "   (0.00965327, 'be'),\n",
       "   (0.008520577, 'work'),\n",
       "   (0.008259804, 'at'),\n",
       "   (0.007983768, 'if'),\n",
       "   (0.007914579, 'have'),\n",
       "   (0.007801649, 'wage'),\n",
       "   (0.0077277706, 'an'),\n",
       "   (0.007419541, 'jobs'),\n",
       "   (0.0072655175, 'or'),\n",
       "   (0.00718446, 'free'),\n",
       "   (0.0071714697, 'income'),\n",
       "   (0.007164939, 'health')],\n",
       "  -2.226796833263921),\n",
       " ([(0.13086706, 'she'),\n",
       "   (0.09309412, 'her'),\n",
       "   (0.035490226, 'clinton'),\n",
       "   (0.03078305, 'hillary'),\n",
       "   (0.019002957, 'has'),\n",
       "   (0.018726103, 'for'),\n",
       "   (0.0173367, 'on'),\n",
       "   (0.013926814, 'campaign'),\n",
       "   (0.009861533, 'as'),\n",
       "   (0.008568679, 'about'),\n",
       "   (0.008338337, 'from'),\n",
       "   (0.008306334, 'with'),\n",
       "   (0.008259449, 'woman'),\n",
       "   (0.00800785, 'not'),\n",
       "   (0.0074328976, 'wall'),\n",
       "   (0.007081978, 'street'),\n",
       "   (0.00606803, 'email'),\n",
       "   (0.00580119, 'what'),\n",
       "   (0.0055872705, 'been'),\n",
       "   (0.0055158758, 'emails')],\n",
       "  -2.513214371909094),\n",
       " ([(0.06277717, 'this'),\n",
       "   (0.02870273, 'on'),\n",
       "   (0.024938837, 'black'),\n",
       "   (0.02327148, 'article'),\n",
       "   (0.022966135, 'read'),\n",
       "   (0.020567533, 'post'),\n",
       "   (0.016452758, 'lol'),\n",
       "   (0.01611404, 'white'),\n",
       "   (0.015234226, 'reddit'),\n",
       "   (0.014411073, 'here'),\n",
       "   (0.013264032, 'source'),\n",
       "   (0.012773489, 'racist'),\n",
       "   (0.012646361, 'comment'),\n",
       "   (0.01197052, 'from'),\n",
       "   (0.011295564, 'about'),\n",
       "   (0.0108846985, 'thanks'),\n",
       "   (0.009788606, 'comments'),\n",
       "   (0.009309688, 'an'),\n",
       "   (0.0076174866, 'please'),\n",
       "   (0.007517762, 'link')],\n",
       "  -3.242727837065665),\n",
       " ([(0.036439054, 'us'),\n",
       "   (0.0355472, 'war'),\n",
       "   (0.018566903, 'american'),\n",
       "   (0.015365748, 'america'),\n",
       "   (0.013148574, 'country'),\n",
       "   (0.01244214, 'foreign'),\n",
       "   (0.011617992, 'iraq'),\n",
       "   (0.011578667, 'immigration'),\n",
       "   (0.010985988, 'illegal'),\n",
       "   (0.010551266, 'military'),\n",
       "   (0.010213432, 'we'),\n",
       "   (0.009770651, 'with'),\n",
       "   (0.009728182, 'policy'),\n",
       "   (0.009515287, 'isis'),\n",
       "   (0.009486158, 'bush'),\n",
       "   (0.009313256, 'immigrants'),\n",
       "   (0.008914293, 'americans'),\n",
       "   (0.008318287, 'nuclear'),\n",
       "   (0.008028926, 'water'),\n",
       "   (0.007970572, 'iran')],\n",
       "  -3.3139425923753287),\n",
       " ([(0.11463983, 'right'),\n",
       "   (0.04309724, 'left'),\n",
       "   (0.034492336, 'yeah'),\n",
       "   (0.028085688, 'liberal'),\n",
       "   (0.027969941, 'oh'),\n",
       "   (0.026186613, 'now'),\n",
       "   (0.021771071, 'yes'),\n",
       "   (0.018804042, 'conservative'),\n",
       "   (0.017968766, 'too'),\n",
       "   (0.017928215, 'hate'),\n",
       "   (0.016831782, 'fucking'),\n",
       "   (0.016595997, 'fuck'),\n",
       "   (0.015758779, 'wing'),\n",
       "   (0.015109301, 'stupid'),\n",
       "   (0.014908991, 'so'),\n",
       "   (0.013907773, 'wait'),\n",
       "   (0.013173511, 'liberals'),\n",
       "   (0.012663636, 'speech'),\n",
       "   (0.0111158965, 'are'),\n",
       "   (0.0105596585, 'conspiracy')],\n",
       "  -3.38429938611311),\n",
       " ([(0.038080513, 'rights'),\n",
       "   (0.03306961, 'women'),\n",
       "   (0.019522393, 'gay'),\n",
       "   (0.016627673, 'marriage'),\n",
       "   (0.015536536, 'men'),\n",
       "   (0.014761766, 'anti'),\n",
       "   (0.014360431, 'life'),\n",
       "   (0.014146736, 'civil'),\n",
       "   (0.013766536, 'abortion'),\n",
       "   (0.013363927, 'religious'),\n",
       "   (0.012596646, 'pro'),\n",
       "   (0.012511863, 'against'),\n",
       "   (0.012003164, 'religion'),\n",
       "   (0.011998519, 'amendment'),\n",
       "   (0.011746097, 'freedom'),\n",
       "   (0.011734762, 'human'),\n",
       "   (0.011625959, 'constitution'),\n",
       "   (0.011369297, 'child'),\n",
       "   (0.009877716, 'sex'),\n",
       "   (0.009302696, 'fun')],\n",
       "  -3.5012707940516234),\n",
       " ([(0.23464748, 'more'),\n",
       "   (0.18574718, 'than'),\n",
       "   (0.043587532, 'better'),\n",
       "   (0.04139498, 'less'),\n",
       "   (0.034278795, 'much'),\n",
       "   (0.02089738, 'rather'),\n",
       "   (0.017938282, 'far'),\n",
       "   (0.017425613, 'voter'),\n",
       "   (0.014217731, 'worse'),\n",
       "   (0.013707906, 'likely'),\n",
       "   (0.012894626, 'new'),\n",
       "   (0.010967029, 'lot'),\n",
       "   (0.010341089, 'other'),\n",
       "   (0.008689094, 'york'),\n",
       "   (0.008566641, 'average'),\n",
       "   (0.008169867, 'id'),\n",
       "   (0.0076856404, 'rand'),\n",
       "   (0.007095337, 'million'),\n",
       "   (0.0069327476, 'fraud'),\n",
       "   (0.0064072395, 'florida')],\n",
       "  -3.806238754285198),\n",
       " ([(0.04758816, 'media'),\n",
       "   (0.020041212, 'video'),\n",
       "   (0.018578678, 'energy'),\n",
       "   (0.016969174, 'data'),\n",
       "   (0.016655428, 'amp'),\n",
       "   (0.013870118, 'kasich'),\n",
       "   (0.013312978, 'numbers'),\n",
       "   (0.012237586, 'posted'),\n",
       "   (0.011866174, 'low'),\n",
       "   (0.011747358, 'event'),\n",
       "   (0.010886148, 'math'),\n",
       "   (0.010454072, 'south'),\n",
       "   (0.010346905, 'nope'),\n",
       "   (0.010056368, 'narrative'),\n",
       "   (0.009682994, 'high'),\n",
       "   (0.009494881, 'referring'),\n",
       "   (0.009273986, 'waiting'),\n",
       "   (0.009219807, 'cops'),\n",
       "   (0.008491657, 'north'),\n",
       "   (0.008478582, 'crowd')],\n",
       "  -4.92415477453932)]"
      ]
     },
     "execution_count": 36,
     "metadata": {},
     "output_type": "execute_result"
    }
   ],
   "source": [
    "politics_ldamodel.top_topics(politics_corpus)"
   ]
  },
  {
   "cell_type": "code",
   "execution_count": 45,
   "metadata": {},
   "outputs": [
    {
     "name": "stdout",
     "output_type": "stream",
     "text": [
      "[(9, 0.49611714), (4, 0.37530792)]\n",
      "[(3, 0.6581433), (4, 0.1364694), (7, 0.13454887)]\n",
      "[(17, 0.42205444), (3, 0.34799072), (12, 0.08558777), (8, 0.045291536), (9, 0.04202645), (14, 0.035813298)]\n",
      "[(0, 0.524989), (11, 0.025000583), (1, 0.025000578), (2, 0.025000578), (3, 0.025000578), (4, 0.025000578), (5, 0.025000578), (6, 0.025000578), (7, 0.025000578), (8, 0.025000578), (9, 0.025000578), (10, 0.025000578), (12, 0.025000578), (13, 0.025000578), (14, 0.025000578), (15, 0.025000578), (16, 0.025000578), (17, 0.025000578), (18, 0.025000578), (19, 0.025000578)]\n",
      "[(16, 0.5183165), (9, 0.4254268)]\n",
      "[(16, 0.68332237), (7, 0.016667252), (0, 0.016667245), (1, 0.016667245), (2, 0.016667245), (3, 0.016667245), (4, 0.016667245), (5, 0.016667245), (6, 0.016667245), (8, 0.016667245), (9, 0.016667245), (10, 0.016667245), (11, 0.016667245), (12, 0.016667245), (13, 0.016667245), (14, 0.016667245), (15, 0.016667245), (17, 0.016667245), (18, 0.016667245), (19, 0.016667245)]\n",
      "[(12, 0.16283423), (3, 0.14900589), (6, 0.14031094), (16, 0.13368072), (5, 0.079779655), (11, 0.079349585), (13, 0.057839133), (8, 0.055543065), (14, 0.04997804), (7, 0.04405813), (0, 0.03353793)]\n",
      "[(4, 0.76248074), (0, 0.0125010125), (1, 0.0125010125), (2, 0.0125010125), (3, 0.0125010125), (5, 0.0125010125), (6, 0.0125010125), (7, 0.0125010125), (8, 0.0125010125), (9, 0.0125010125), (10, 0.0125010125), (11, 0.0125010125), (12, 0.0125010125), (13, 0.0125010125), (14, 0.0125010125), (15, 0.0125010125), (16, 0.0125010125), (17, 0.0125010125), (18, 0.0125010125), (19, 0.0125010125)]\n",
      "[(18, 0.39958993), (3, 0.19646996), (16, 0.1636683), (12, 0.08774549), (9, 0.068963215), (2, 0.051710118)]\n",
      "[(12, 0.20262697), (13, 0.18972799), (3, 0.18460909), (4, 0.16749056), (10, 0.09472953), (17, 0.073658705), (8, 0.058868963)]\n"
     ]
    }
   ],
   "source": [
    "for i in range(10):\n",
    "    print(sorted(politics_ldamodel[politics_corpus[i]], key = lambda x : x[1], reverse = True))\n"
   ]
  },
  {
   "cell_type": "code",
   "execution_count": 46,
   "metadata": {},
   "outputs": [],
   "source": [
    "top_topic_by_doc = []\n",
    "\n",
    "for doc in politics_corpus:\n",
    "    topic_list_doc = sorted(politics_ldamodel[doc], key = lambda x : x[1], reverse = True)\n",
    "    top_topic_by_doc.append(topic_list_doc[0][0])\n",
    "    "
   ]
  },
  {
   "cell_type": "code",
   "execution_count": 55,
   "metadata": {},
   "outputs": [
    {
     "data": {
      "image/png": "[encoded data removed]",
      "text/plain": [
       "<Figure size 432x288 with 1 Axes>"
      ]
     },
     "metadata": {
      "needs_background": "light"
     },
     "output_type": "display_data"
    }
   ],
   "source": [
    "plt.hist(top_topic_by_doc, bins = list(range(20)))\n",
    "plt.show()"
   ]
  },
  {
   "cell_type": "code",
   "execution_count": 51,
   "metadata": {},
   "outputs": [
    {
     "data": {
      "text/plain": [
       "[(0, 0.016666697),\n",
       " (1, 0.016666697),\n",
       " (2, 0.016666697),\n",
       " (3, 0.016666697),\n",
       " (4, 0.016666697),\n",
       " (5, 0.016666697),\n",
       " (6, 0.016666697),\n",
       " (7, 0.016666697),\n",
       " (8, 0.016666697),\n",
       " (9, 0.016666697),\n",
       " (10, 0.016666697),\n",
       " (11, 0.016666697),\n",
       " (12, 0.016666697),\n",
       " (13, 0.016666697),\n",
       " (14, 0.68333274),\n",
       " (15, 0.016666697),\n",
       " (16, 0.016666697),\n",
       " (17, 0.016666697),\n",
       " (18, 0.016666697),\n",
       " (19, 0.016666697)]"
      ]
     },
     "execution_count": 51,
     "metadata": {},
     "output_type": "execute_result"
    }
   ],
   "source": [
    "politics_ldamodel[politics_dictionary.doc2bow(['sanders','sanders'])]"
   ]
  },
  {
   "cell_type": "markdown",
   "metadata": {},
   "source": [
    "## Topic differences by author"
   ]
  },
  {
   "cell_type": "code",
   "execution_count": 52,
   "metadata": {},
   "outputs": [],
   "source": [
    "with open('stored_variables/politics_tokens_auth_sample.json', 'r') as f:\n",
    "    politics_tokens_auth = json.load(f) "
   ]
  },
  {
   "cell_type": "code",
   "execution_count": 53,
   "metadata": {},
   "outputs": [],
   "source": [
    "politics_corpus_auth = [politics_dictionary.doc2bow(text) for text in politics_tokens_auth]"
   ]
  },
  {
   "cell_type": "code",
   "execution_count": 57,
   "metadata": {},
   "outputs": [],
   "source": [
    "top_topic_by_doc_auth = []\n",
    "\n",
    "for doc in politics_corpus_auth:\n",
    "    topic_list_doc = sorted(politics_ldamodel[doc], key = lambda x : x[1], reverse = True)\n",
    "    top_topic_by_doc_auth.append(topic_list_doc[0][0])\n",
    "    "
   ]
  },
  {
   "cell_type": "code",
   "execution_count": 58,
   "metadata": {},
   "outputs": [
    {
     "data": {
      "image/png": "[encoded data removed]",
      "text/plain": [
       "<Figure size 432x288 with 1 Axes>"
      ]
     },
     "metadata": {
      "needs_background": "light"
     },
     "output_type": "display_data"
    }
   ],
   "source": [
    "plt.hist(top_topic_by_doc_auth, bins = list(range(20)))\n",
    "plt.show()"
   ]
  },
  {
   "cell_type": "code",
   "execution_count": null,
   "metadata": {},
   "outputs": [],
   "source": []
  }
 ],
 "metadata": {
  "kernelspec": {
   "display_name": "Python 3",
   "language": "python",
   "name": "python3"
  },
  "language_info": {
   "codemirror_mode": {
    "name": "ipython",
    "version": 3
   },
   "file_extension": ".py",
   "mimetype": "text/x-python",
   "name": "python",
   "nbconvert_exporter": "python",
   "pygments_lexer": "ipython3",
   "version": "3.7.3"
  }
 },
 "nbformat": 4,
 "nbformat_minor": 2
}
