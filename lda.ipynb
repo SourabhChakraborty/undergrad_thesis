{
 "cells": [
  {
   "cell_type": "code",
   "execution_count": 10,
   "metadata": {},
   "outputs": [],
   "source": [
    "import re\n",
    "import string\n",
    "import json\n",
    "from gensim.models import LdaModel\n",
    "from gensim.corpora import Dictionary\n",
    "from gensim.test.utils import datapath"
   ]
  },
  {
   "cell_type": "code",
   "execution_count": 78,
   "metadata": {},
   "outputs": [],
   "source": [
    "with open('politics_tokens.json', 'r') as f:\n",
    "    politics_tokens = json.load(f) "
   ]
  },
  {
   "cell_type": "code",
   "execution_count": 42,
   "metadata": {},
   "outputs": [
    {
     "name": "stdout",
     "output_type": "stream",
     "text": [
      "925937\n"
     ]
    }
   ],
   "source": [
    "print(len(politics_tokens))"
   ]
  },
  {
   "cell_type": "code",
   "execution_count": 79,
   "metadata": {},
   "outputs": [],
   "source": [
    "politics_dictionary = Dictionary(politics_tokens)"
   ]
  },
  {
   "cell_type": "code",
   "execution_count": 80,
   "metadata": {},
   "outputs": [],
   "source": [
    "politics_dictionary.filter_extremes(no_below = 10, no_above = 0.3)"
   ]
  },
  {
   "cell_type": "code",
   "execution_count": 81,
   "metadata": {},
   "outputs": [
    {
     "data": {
      "text/plain": [
       "'did'"
      ]
     },
     "execution_count": 81,
     "metadata": {},
     "output_type": "execute_result"
    }
   ],
   "source": [
    "politics_dictionary[0]"
   ]
  },
  {
   "cell_type": "code",
   "execution_count": 82,
   "metadata": {},
   "outputs": [
    {
     "name": "stdout",
     "output_type": "stream",
     "text": [
      "True\n",
      "True\n",
      "True\n",
      "True\n",
      "False\n",
      "False\n",
      "False\n",
      "False\n",
      "True\n",
      "False\n",
      "False\n"
     ]
    }
   ],
   "source": [
    "print('she' in politics_dictionary.token2id.keys())\n",
    "print('her' in politics_dictionary.token2id.keys())\n",
    "print('he' in politics_dictionary.token2id.keys())\n",
    "print('his' in politics_dictionary.token2id.keys())\n",
    "print('of' in politics_dictionary.token2id.keys())\n",
    "print('to' in politics_dictionary.token2id.keys())\n",
    "print('the' in politics_dictionary.token2id.keys())\n",
    "print('in' in politics_dictionary.token2id.keys())\n",
    "print('was' in politics_dictionary.token2id.keys())\n",
    "print('it' in politics_dictionary.token2id.keys())\n",
    "print('a' in politics_dictionary.token2id.keys())"
   ]
  },
  {
   "cell_type": "code",
   "execution_count": 83,
   "metadata": {},
   "outputs": [],
   "source": [
    "politics_corpus = [politics_dictionary.doc2bow(text) for text in politics_tokens]"
   ]
  },
  {
   "cell_type": "code",
   "execution_count": 84,
   "metadata": {},
   "outputs": [
    {
     "name": "stdout",
     "output_type": "stream",
     "text": [
      "['the', 'obama', 'thing', 'was', 'a', 'joke', 'if', 'you', 'want', 'to', 'ding', 'her', 'for', 'that', 'comment', 'you', 'must', 'have', 'been', 'already', 'been', 'looking', 'for', 'excuses', 'not', 'to', 'vote', 'for', 'her', 'she', 'harps', 'on', 'the', 'fact', 'that', 'no', 'woman', 'ever', 'has', 'been', 'in', 'the', 'position', 'she', 'is', 'in', 'and', 'that', 'women', 'are', 'better', 'negotiators', 'and', 'better', 'at', 'compromising', 'than', 'men', 'are', 'which', 'helps', 'deal', 'with', 'the', 'grid', 'lock', 'in', 'washington']\n",
      "[(6, 2), (11, 1), (19, 2), (47, 1), (51, 3), (57, 1), (67, 3), (75, 1), (76, 1), (86, 1), (103, 1), (136, 1), (159, 1), (163, 1), (229, 2), (235, 1), (238, 1), (241, 2), (278, 1), (282, 1), (366, 2), (423, 1), (464, 1), (668, 1), (738, 1), (752, 1), (753, 1), (1065, 1), (1102, 1), (1103, 1), (1104, 1), (1105, 1), (1106, 1), (1107, 1), (1108, 1), (1109, 1), (1110, 1), (1111, 1), (1112, 1), (1113, 1), (1114, 1), (1115, 1), (1116, 1)]\n"
     ]
    }
   ],
   "source": [
    "print(politics_tokens[100])\n",
    "print(politics_corpus[100])"
   ]
  },
  {
   "cell_type": "code",
   "execution_count": 85,
   "metadata": {},
   "outputs": [],
   "source": [
    "politics_ldamodel = LdaModel(politics_corpus, num_topics = 20)"
   ]
  },
  {
   "cell_type": "code",
   "execution_count": 86,
   "metadata": {},
   "outputs": [],
   "source": [
    "politics_ldamodel.save(\"stored_variables/politics_lda.model\")"
   ]
  },
  {
   "cell_type": "code",
   "execution_count": 87,
   "metadata": {},
   "outputs": [],
   "source": [
    "politics_dictionary.save(\"stored_variables/politics_dictionary_lda\")"
   ]
  },
  {
   "cell_type": "code",
   "execution_count": 88,
   "metadata": {},
   "outputs": [
    {
     "data": {
      "text/plain": [
       "['us',\n",
       " 'world',\n",
       " 'war',\n",
       " 'country',\n",
       " 'our',\n",
       " 'american',\n",
       " 'america',\n",
       " 'on',\n",
       " 'policy',\n",
       " 'foreign']"
      ]
     },
     "execution_count": 88,
     "metadata": {},
     "output_type": "execute_result"
    }
   ],
   "source": [
    "[politics_dictionary.id2token[i] for i,j in politics_ldamodel.get_topic_terms(1)]"
   ]
  },
  {
   "cell_type": "code",
   "execution_count": 89,
   "metadata": {},
   "outputs": [
    {
     "data": {
      "text/plain": [
       "[(557, 0.055007037),\n",
       " (688, 0.031657264),\n",
       " (345, 0.028186617),\n",
       " (681, 0.022813879),\n",
       " (12, 0.021288613),\n",
       " (399, 0.021172248),\n",
       " (835, 0.019347632),\n",
       " (235, 0.019302841),\n",
       " (375, 0.016762935),\n",
       " (371, 0.01537363)]"
      ]
     },
     "execution_count": 89,
     "metadata": {},
     "output_type": "execute_result"
    }
   ],
   "source": [
    "politics_ldamodel.get_topic_terms(1)"
   ]
  },
  {
   "cell_type": "code",
   "execution_count": 90,
   "metadata": {},
   "outputs": [
    {
     "name": "stdout",
     "output_type": "stream",
     "text": [
      "['for', 'money', 'we', 'more', 'pay', 'government', 'are', 'not', 'people', 'will']\n",
      "['us', 'world', 'war', 'country', 'our', 'american', 'america', 'on', 'policy', 'foreign']\n",
      "['this', 'm', 'on', 'not', 'me', 'my', 'but', 'just', 'for', 'like']\n",
      "['you', 'your', 'what', 'if', 're', 'do', 'not', 'are', 'can', 'have']\n",
      "['he', 'his', 'him', 'trump', 'has', 'was', 'on', 'but', 'said', 'for']\n",
      "['obama', 'republicans', 'party', 'republican', 'democrats', 'liberal', 'conservative', 'lol', 'bush', 'democratic']\n",
      "['for', 'vote', 'sanders', 'will', 'bernie', 'if', 'be', 'hillary', 'clinton', 'candidate']\n",
      "['trump', 'right', 'white', 'black', 'cruz', 'hate', 'supporters', 'racist', 'are', 'people']\n",
      "['for', 'gun', 'not', 'be', 'or', 'with', 'are', 'from', 'by', 'we']\n",
      "['be', 'for', 'should', 'people', 'free', 'college', 'get', 'wage', 'who', 'job']\n",
      "['was', 'for', 'have', 'been', 'had', 'my', 'time', 'were', 'years', 'at']\n",
      "['women', 'gay', 'rights', 'thanks', 'marriage', 'pro', 'difference', 'between', 'abortion', 'civil']\n",
      "['she', 'her', 'hillary', 'clinton', 'was', 'for', 'has', 'on', 'campaign', 'not']\n",
      "['yeah', 'fuck', 'fucking', 'oh', 'single', 'wall', 'shit', 'like', 'wait', 'man']\n",
      "['they', 'their', 'them', 'are', 're', 'so', 'out', 'all', 'because', 'get']\n",
      "['as', 'are', 'more', 'be', 'but', 'than', 'not', 'with', 'on', 'have']\n",
      "['t', 'don', 'we', 'doesn', 'can', 'isn', 'but', 'have', 'they', 'be']\n",
      "['state', 'states', 'by', 'law', 'not', 'as', 'court', 'government', 'or', 'congress']\n",
      "['people', 'are', 'about', 'who', 'not', 'this', 'no', 'just', 'there', 'for']\n",
      "['tax', 'million', 'from', 'year', 'by', 'new', 'rate', 'on', 'plan', 'number']\n"
     ]
    }
   ],
   "source": [
    "for topic_num in range(20):\n",
    "    print([politics_dictionary.id2token[i] for i,j in politics_ldamodel.get_topic_terms(topic_num)])"
   ]
  },
  {
   "cell_type": "code",
   "execution_count": null,
   "metadata": {},
   "outputs": [],
   "source": []
  }
 ],
 "metadata": {
  "kernelspec": {
   "display_name": "Python 3",
   "language": "python",
   "name": "python3"
  },
  "language_info": {
   "codemirror_mode": {
    "name": "ipython",
    "version": 3
   },
   "file_extension": ".py",
   "mimetype": "text/x-python",
   "name": "python",
   "nbconvert_exporter": "python",
   "pygments_lexer": "ipython3",
   "version": "3.7.3"
  }
 },
 "nbformat": 4,
 "nbformat_minor": 2
}
