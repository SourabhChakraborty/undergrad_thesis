{
 "cells": [
  {
   "cell_type": "markdown",
   "metadata": {},
   "source": [
    "## Imports and loading variables"
   ]
  },
  {
   "cell_type": "code",
   "execution_count": 1,
   "metadata": {},
   "outputs": [],
   "source": [
    "import json\n",
    "import pickle\n",
    "from gensim.models import LdaModel\n",
    "from gensim.corpora import Dictionary\n",
    "\n",
    "from scipy.sparse import bsr_matrix, coo_matrix, csr_matrix, lil_matrix, identity\n",
    "\n",
    "from matplotlib import pyplot as plt"
   ]
  },
  {
   "cell_type": "code",
   "execution_count": 2,
   "metadata": {},
   "outputs": [],
   "source": [
    "with open('politics_tokens.json', 'r') as f:\n",
    "    politics_tokens = json.load(f) "
   ]
  },
  {
   "cell_type": "code",
   "execution_count": 3,
   "metadata": {},
   "outputs": [
    {
     "name": "stdout",
     "output_type": "stream",
     "text": [
      "925937\n"
     ]
    }
   ],
   "source": [
    "print(len(politics_tokens))"
   ]
  },
  {
   "cell_type": "code",
   "execution_count": 4,
   "metadata": {},
   "outputs": [],
   "source": [
    "politics_dictionary = Dictionary.load(\"stored_variables/politics_dictionary_lda\")"
   ]
  },
  {
   "cell_type": "code",
   "execution_count": 5,
   "metadata": {},
   "outputs": [],
   "source": [
    "politics_corpus = [politics_dictionary.doc2bow(text) for text in politics_tokens]"
   ]
  },
  {
   "cell_type": "code",
   "execution_count": 6,
   "metadata": {},
   "outputs": [],
   "source": [
    "with open('stored_variables/politics_tokens_auth_sample.json', 'r') as f:\n",
    "    politics_tokens_auth = json.load(f) "
   ]
  },
  {
   "cell_type": "code",
   "execution_count": 7,
   "metadata": {},
   "outputs": [
    {
     "name": "stdout",
     "output_type": "stream",
     "text": [
      "561573\n"
     ]
    }
   ],
   "source": [
    "print(len(politics_tokens_auth))"
   ]
  },
  {
   "cell_type": "code",
   "execution_count": 8,
   "metadata": {},
   "outputs": [],
   "source": [
    "politics_corpus_auth = [politics_dictionary.doc2bow(text) for text in politics_tokens_auth]"
   ]
  },
  {
   "cell_type": "code",
   "execution_count": 9,
   "metadata": {},
   "outputs": [],
   "source": [
    "politics_ldamodel26 = LdaModel.load('lda_models/politics_lda26.model')"
   ]
  },
  {
   "cell_type": "code",
   "execution_count": 10,
   "metadata": {
    "scrolled": true
   },
   "outputs": [
    {
     "name": "stdout",
     "output_type": "stream",
     "text": [
      "['gun', 'guns', 'lol', 'control', 'men', 'check', 'ban', 'weapons', 'property', 'killed']\n",
      "['for', 'money', 'more', 'on', 'tax', 'are', 'pay', 'have', 'you', 'would']\n",
      "['illegal', 'for', 'legal', 'laws', 'crime', 'law', 'are', 'or', 'amendment', 'immigration']\n",
      "['this', 'about', 'on', 'like', 'people', 'but', 'm', 'just', 'not', 'are']\n",
      "['debates', 'great', 'please', 'ok', 'wonder', 'again', 'official', 'member', 'propaganda', 'removed']\n",
      "['new', 'right', 'pro', 'polls', 'left', 'video', 'poll', 'wing', 'gay', 'senator']\n",
      "['article', 'post', 'this', 'read', 'source', 'from', 'evidence', 'data', 'news', 'proof']\n",
      "['she', 'her', 'hillary', 'for', 'woman', 'like', 'has', 'fox', 'emails', 'on']\n",
      "['court', 'man', 'nice', 'damn', 'supreme', 'dude', 'union', 'executive', 'city', 'slavery']\n",
      "['you', 'your', 'what', 'if', 're', 'not', 'do', 'are', 'have', 'can']\n",
      "['bernie', 'sanders', 'hillary', 'clinton', 'trump', 'for', 'supporters', 'campaign', 'has', 'support']\n",
      "['change', 'both', 'trade', 'climate', 'true', 'truth', 'water', 'science', 'down', 'global']\n",
      "['people', 'are', 'white', 'america', 'black', 'us', 'american', 'world', 'country', 'racist']\n",
      "['as', 'not', 'be', 'or', 'on', 'an', 'with', 'but', 'this', 'for']\n",
      "['be', 'will', 'if', 'would', 'but', 'this', 'for', 'have', 'get', 'as']\n",
      "['he', 'his', 'him', 'trump', 'has', 'said', 'what', 'guy', 'like', 'not']\n",
      "['vote', 'for', 'party', 'republicans', 'republican', 'are', 'voting', 'democrats', 'democratic', 'who']\n",
      "['oh', 'wait', 'god', 'thanks', 'cruz', 'attacks', 'thats', 'ted', 'for', 'john']\n",
      "['my', 'for', 'year', 'years', 'me', 'old', 'time', 'last', 'day', 'over']\n",
      "['war', 'military', 'fucking', 'iraq', 'front', 'fuck', 'shit', 'page', 'rand', 'paul']\n",
      "['question', 'answer', 'ask', 'link', 'questions', 'agenda', 'jail', 'jesus', 'cool', 'asked']\n",
      "['t', 'don', 'doesn', 'isn', 'they', 'but', 'didn', 'can', 'think', 'because']\n",
      "['they', 'we', 'are', 'people', 'their', 'have', 'them', 'do', 'all', 'our']\n",
      "['states', 'state', 'rights', 'women', 'law', 'delegates', 'super', 'speech', 'by', 'united']\n",
      "['voter', 'percent', 'energy', 'south', 'low', 'id', 'nuclear', 'o', 'oil', 'carson']\n",
      "['was', 'were', 'had', 'did', 'when', 'on', 'at', 'obama', 'been', 'for']\n"
     ]
    }
   ],
   "source": [
    "for topic_num in range(26):\n",
    "    print([politics_dictionary.id2token[i] for i,j in politics_ldamodel26.get_topic_terms(topic_num)])"
   ]
  },
  {
   "cell_type": "code",
   "execution_count": 11,
   "metadata": {},
   "outputs": [],
   "source": [
    "with open(\"stored_variables/politics_corpus_lda.pickle\", 'rb') as f:\n",
    "    politics_corpus_lda = pickle.load(f)"
   ]
  },
  {
   "cell_type": "code",
   "execution_count": 12,
   "metadata": {},
   "outputs": [],
   "source": [
    "with open(\"stored_variables/politics_corpus_auth_lda.pickle\", 'rb') as f:\n",
    "    politics_corpus_auth_lda = pickle.load(f)"
   ]
  },
  {
   "cell_type": "code",
   "execution_count": 13,
   "metadata": {},
   "outputs": [],
   "source": [
    "with open(\"stored_variables/auth_sample_r_politics_authors.json\", 'r') as f:\n",
    "    comment_auths = json.load(f) "
   ]
  },
  {
   "cell_type": "code",
   "execution_count": 14,
   "metadata": {},
   "outputs": [],
   "source": [
    "with open(\"stored_variables/user_subreddit_tf.pickle\", \"rb\") as f:\n",
    "    subreddit_tf = pickle.load(f)"
   ]
  },
  {
   "cell_type": "code",
   "execution_count": 15,
   "metadata": {},
   "outputs": [],
   "source": [
    "with open(\"stored_variables/user_subreddit_df_mat.pickle\", \"rb\") as f:\n",
    "    subreddit_df_mat = pickle.load(f)"
   ]
  },
  {
   "cell_type": "code",
   "execution_count": 16,
   "metadata": {},
   "outputs": [],
   "source": [
    "with open(\"stored_variables/user_subreddit_tf_auths.pickle\", \"rb\") as f:\n",
    "    author_names = pickle.load(f)"
   ]
  },
  {
   "cell_type": "code",
   "execution_count": 17,
   "metadata": {},
   "outputs": [],
   "source": [
    "with open(\"stored_variables/user_subreddit_tf_subreddit_names.pickle\", \"rb\") as f:\n",
    "    subreddit_reverse_dict = pickle.load(f)"
   ]
  },
  {
   "cell_type": "markdown",
   "metadata": {},
   "source": [
    "## Top topics in each dataset"
   ]
  },
  {
   "cell_type": "code",
   "execution_count": 30,
   "metadata": {},
   "outputs": [],
   "source": [
    "top_topic_by_doc = []\n",
    "\n",
    "for doc_topics in politics_corpus_lda:\n",
    "    topic_list_doc = sorted(doc_topics, key = lambda x : x[1], reverse = True)\n",
    "    top_topic_by_doc.append(topic_list_doc[0][0])\n",
    "    "
   ]
  },
  {
   "cell_type": "code",
   "execution_count": 31,
   "metadata": {
    "scrolled": false
   },
   "outputs": [
    {
     "data": {
      "image/png": "[encoded data removed]",
      "text/plain": [
       "<Figure size 432x288 with 1 Axes>"
      ]
     },
     "metadata": {
      "needs_background": "light"
     },
     "output_type": "display_data"
    }
   ],
   "source": [
    "plt.hist(top_topic_by_doc, bins = list(range(27)))\n",
    "plt.show()"
   ]
  },
  {
   "cell_type": "code",
   "execution_count": 32,
   "metadata": {},
   "outputs": [],
   "source": [
    "top_topic_by_doc_auth = []\n",
    "\n",
    "for doc_topics in politics_corpus_auth_lda:\n",
    "    topic_list_doc = sorted(doc_topics, key = lambda x : x[1], reverse = True)\n",
    "    top_topic_by_doc_auth.append(topic_list_doc[0][0])\n",
    "    "
   ]
  },
  {
   "cell_type": "code",
   "execution_count": 33,
   "metadata": {
    "scrolled": true
   },
   "outputs": [
    {
     "data": {
      "image/png": "[encoded data removed]",
      "text/plain": [
       "<Figure size 432x288 with 1 Axes>"
      ]
     },
     "metadata": {
      "needs_background": "light"
     },
     "output_type": "display_data"
    }
   ],
   "source": [
    "plt.hist(top_topic_by_doc_auth, bins = list(range(27)))\n",
    "plt.show()"
   ]
  },
  {
   "cell_type": "markdown",
   "metadata": {},
   "source": [
    "### Look at authors' subreddit history"
   ]
  },
  {
   "cell_type": "code",
   "execution_count": 18,
   "metadata": {
    "scrolled": true
   },
   "outputs": [
    {
     "data": {
      "text/plain": [
       "['boy_aint_right', 'Euphemism', 'fadka21', 'groovyinutah', 'kajunkennyg']"
      ]
     },
     "execution_count": 18,
     "metadata": {},
     "output_type": "execute_result"
    }
   ],
   "source": [
    "comment_auths[:5]"
   ]
  },
  {
   "cell_type": "code",
   "execution_count": 18,
   "metadata": {},
   "outputs": [],
   "source": [
    "author_reverse_dict = {author_names[i]:i for i in range(len(author_names))}"
   ]
  },
  {
   "cell_type": "code",
   "execution_count": 22,
   "metadata": {},
   "outputs": [],
   "source": [
    "num_sanders = {k:(subreddit_tf[author_reverse_dict[k], subreddit_reverse_dict['sandersforpresident']]) for k in author_names}\n",
    "num_trump = {k:(subreddit_tf[author_reverse_dict[k], subreddit_reverse_dict['the_donald']]) for k in author_names}\n",
    "num_clinton = {k:(subreddit_tf[author_reverse_dict[k], subreddit_reverse_dict['hillaryclinton']]) for k in author_names}\n"
   ]
  },
  {
   "cell_type": "code",
   "execution_count": 23,
   "metadata": {
    "scrolled": true
   },
   "outputs": [
    {
     "name": "stdout",
     "output_type": "stream",
     "text": [
      "SolarBear: 0\n",
      "look: 83\n",
      "Killfile: 3\n",
      "Fazookus: 0\n",
      "markedtrees: 0\n",
      "wolf550e: 0\n",
      "maxwellhill: 0\n",
      "wockyman: 0\n",
      "Masiosare: 0\n",
      "Othello: 0\n",
      "ndiin: 0\n",
      "stacijon: 0\n",
      "SwellJoe: 0\n",
      "cqxray: 0\n",
      "CalvinR: 0\n",
      "darkon: 0\n",
      "blindmikey: 69\n",
      "adremeaux: 4\n",
      "MauriceReeves: 0\n",
      "Suppafly: 2\n",
      "curlymo: 0\n",
      "whtevn: 103\n",
      "Laminar: 0\n",
      "Hoodwink: 0\n",
      "FenPhen: 0\n",
      "Independent: 28\n",
      "greenknight: 0\n",
      "fvf: 0\n",
      "daimposter: 135\n",
      "ezekiel: 0\n",
      "jwcrubau: 0\n",
      "MarginalMeaning: 0\n",
      "sekyuritei: 111\n",
      "buddhahat: 0\n",
      "VoodooIdol: 0\n",
      "visarga: 0\n",
      "Edgeoforever: 0\n",
      "SteveAM1: 0\n",
      "gordo65: 0\n",
      "twsmith: 1\n",
      "StuffMaster: 0\n",
      "gehenom: 0\n",
      "DudeAsInCool: 1\n",
      "mr_luc: 2\n",
      "mossman: 0\n",
      "akise: 0\n",
      "peridyn: 0\n",
      "vemrion: 0\n",
      "judgej2: 0\n",
      "snookums: 0\n"
     ]
    }
   ],
   "source": [
    "for k in list(num_sanders.keys())[:50]:\n",
    "    print(k + \": \" + str(num_sanders[k]))"
   ]
  },
  {
   "cell_type": "code",
   "execution_count": 24,
   "metadata": {},
   "outputs": [],
   "source": [
    "comment_threshold = 1"
   ]
  },
  {
   "cell_type": "code",
   "execution_count": 25,
   "metadata": {},
   "outputs": [
    {
     "data": {
      "text/plain": [
       "[4, 45, 0, 0, 5, 0, 45, 5, 0, 4]"
      ]
     },
     "execution_count": 25,
     "metadata": {},
     "output_type": "execute_result"
    }
   ],
   "source": [
    "[num_sanders[a] for a in comment_auths[:10]]"
   ]
  },
  {
   "cell_type": "code",
   "execution_count": 26,
   "metadata": {},
   "outputs": [],
   "source": [
    "sanders_user_indices = [i for i in range(len(comment_auths)) if num_sanders[comment_auths[i]] >= comment_threshold]\n",
    "trump_user_indices = [i for i in range(len(comment_auths)) if num_trump[comment_auths[i]] >= comment_threshold]\n",
    "clinton_user_indices = [i for i in range(len(comment_auths)) if num_clinton[comment_auths[i]] >= comment_threshold]"
   ]
  },
  {
   "cell_type": "code",
   "execution_count": 27,
   "metadata": {},
   "outputs": [
    {
     "name": "stdout",
     "output_type": "stream",
     "text": [
      "[0, 1, 4, 6, 7, 9, 14, 18, 21, 23, 29, 33, 36, 38, 39, 41, 42, 43, 44, 45, 48, 49, 52, 56, 61, 62, 67, 69, 77, 79, 81, 82, 83, 84, 86, 91, 92, 104, 105, 106]\n",
      "[1, 4, 6, 7, 14, 18, 21, 23, 39, 48, 49, 51, 52, 53, 56, 57, 77, 81, 84, 94, 104, 105, 106, 122, 126, 135, 141, 158, 161, 162, 163, 175, 180, 191, 197, 214, 221, 222, 224, 235]\n",
      "[137, 145, 148, 164, 175, 233, 275, 322, 323, 325, 337, 341, 342, 343, 344, 345, 346, 347, 348, 349, 354, 357, 366, 370, 371, 373, 382, 397, 409, 440, 444, 447, 449, 463, 465, 474, 505, 558, 561, 564]\n"
     ]
    }
   ],
   "source": [
    "print(sanders_user_indices[:40])\n",
    "print(trump_user_indices[:40])\n",
    "print(clinton_user_indices[:40])"
   ]
  },
  {
   "cell_type": "code",
   "execution_count": 28,
   "metadata": {},
   "outputs": [
    {
     "name": "stdout",
     "output_type": "stream",
     "text": [
      "319691\n",
      "192446\n",
      "107019\n"
     ]
    }
   ],
   "source": [
    "print(len(sanders_user_indices))\n",
    "print(len(trump_user_indices))\n",
    "print(len(clinton_user_indices))"
   ]
  },
  {
   "cell_type": "code",
   "execution_count": 34,
   "metadata": {
    "scrolled": true
   },
   "outputs": [
    {
     "data": {
      "image/png": "[encoded data removed]",
      "text/plain": [
       "<Figure size 432x288 with 1 Axes>"
      ]
     },
     "metadata": {
      "needs_background": "light"
     },
     "output_type": "display_data"
    }
   ],
   "source": [
    "plt.hist([top_topic_by_doc_auth[i] for i in sanders_user_indices], bins = list(range(27)))\n",
    "plt.show()"
   ]
  },
  {
   "cell_type": "code",
   "execution_count": 35,
   "metadata": {},
   "outputs": [
    {
     "data": {
      "image/png": "[encoded data removed]",
      "text/plain": [
       "<Figure size 432x288 with 1 Axes>"
      ]
     },
     "metadata": {
      "needs_background": "light"
     },
     "output_type": "display_data"
    }
   ],
   "source": [
    "plt.hist([top_topic_by_doc_auth[i] for i in trump_user_indices], bins = list(range(27)))\n",
    "plt.show()"
   ]
  },
  {
   "cell_type": "code",
   "execution_count": 36,
   "metadata": {
    "scrolled": true
   },
   "outputs": [
    {
     "data": {
      "image/png": "[encoded data removed]",
      "text/plain": [
       "<Figure size 432x288 with 1 Axes>"
      ]
     },
     "metadata": {
      "needs_background": "light"
     },
     "output_type": "display_data"
    }
   ],
   "source": [
    "plt.hist([top_topic_by_doc_auth[i] for i in clinton_user_indices], bins = list(range(27)))\n",
    "plt.show()"
   ]
  },
  {
   "cell_type": "code",
   "execution_count": 37,
   "metadata": {},
   "outputs": [],
   "source": [
    "comment_threshold1 = 50"
   ]
  },
  {
   "cell_type": "code",
   "execution_count": 38,
   "metadata": {},
   "outputs": [],
   "source": [
    "sanders_user_indices1 = [i for i in range(len(comment_auths)) if num_sanders[comment_auths[i]] >= comment_threshold1]\n",
    "trump_user_indices1 = [i for i in range(len(comment_auths)) if num_trump[comment_auths[i]] >= comment_threshold1]\n",
    "clinton_user_indices1 = [i for i in range(len(comment_auths)) if num_clinton[comment_auths[i]] >= comment_threshold1]"
   ]
  },
  {
   "cell_type": "code",
   "execution_count": 39,
   "metadata": {},
   "outputs": [
    {
     "name": "stdout",
     "output_type": "stream",
     "text": [
      "119182\n",
      "37316\n",
      "17381\n"
     ]
    }
   ],
   "source": [
    "print(len(sanders_user_indices1))\n",
    "print(len(trump_user_indices1))\n",
    "print(len(clinton_user_indices1))"
   ]
  },
  {
   "cell_type": "code",
   "execution_count": 40,
   "metadata": {
    "scrolled": true
   },
   "outputs": [
    {
     "data": {
      "image/png": "[encoded data removed]",
      "text/plain": [
       "<Figure size 432x288 with 1 Axes>"
      ]
     },
     "metadata": {
      "needs_background": "light"
     },
     "output_type": "display_data"
    }
   ],
   "source": [
    "plt.hist([top_topic_by_doc_auth[i] for i in sanders_user_indices1], bins = list(range(27)))\n",
    "plt.show()"
   ]
  },
  {
   "cell_type": "code",
   "execution_count": 41,
   "metadata": {},
   "outputs": [
    {
     "data": {
      "image/png": "[encoded data removed]",
      "text/plain": [
       "<Figure size 432x288 with 1 Axes>"
      ]
     },
     "metadata": {
      "needs_background": "light"
     },
     "output_type": "display_data"
    }
   ],
   "source": [
    "plt.hist([top_topic_by_doc_auth[i] for i in trump_user_indices1], bins = list(range(27)))\n",
    "plt.show()"
   ]
  },
  {
   "cell_type": "code",
   "execution_count": 42,
   "metadata": {
    "scrolled": true
   },
   "outputs": [
    {
     "data": {
      "image/png": "[encoded data removed]",
      "text/plain": [
       "<Figure size 432x288 with 1 Axes>"
      ]
     },
     "metadata": {
      "needs_background": "light"
     },
     "output_type": "display_data"
    }
   ],
   "source": [
    "plt.hist([top_topic_by_doc_auth[i] for i in clinton_user_indices1], bins = list(range(27)))\n",
    "plt.show()"
   ]
  },
  {
   "cell_type": "code",
   "execution_count": 43,
   "metadata": {},
   "outputs": [],
   "source": [
    "none_user_indices = list(set(range(len(comment_auths))).difference(\n",
    "    sanders_user_indices).difference(\n",
    "    trump_user_indices).difference(\n",
    "    clinton_user_indices)) \n",
    "                     "
   ]
  },
  {
   "cell_type": "code",
   "execution_count": 44,
   "metadata": {},
   "outputs": [
    {
     "data": {
      "image/png": "[encoded data removed]",
      "text/plain": [
       "<Figure size 432x288 with 1 Axes>"
      ]
     },
     "metadata": {
      "needs_background": "light"
     },
     "output_type": "display_data"
    }
   ],
   "source": [
    "plt.hist([top_topic_by_doc_auth[i] for i in none_user_indices], bins = list(range(27)))\n",
    "plt.show()"
   ]
  },
  {
   "cell_type": "code",
   "execution_count": null,
   "metadata": {},
   "outputs": [],
   "source": []
  }
 ],
 "metadata": {
  "kernelspec": {
   "display_name": "Python 3",
   "language": "python",
   "name": "python3"
  },
  "language_info": {
   "codemirror_mode": {
    "name": "ipython",
    "version": 3
   },
   "file_extension": ".py",
   "mimetype": "text/x-python",
   "name": "python",
   "nbconvert_exporter": "python",
   "pygments_lexer": "ipython3",
   "version": "3.7.3"
  }
 },
 "nbformat": 4,
 "nbformat_minor": 2
}
