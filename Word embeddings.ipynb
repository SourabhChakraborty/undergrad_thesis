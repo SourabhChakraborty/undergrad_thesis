{
 "cells": [
  {
   "cell_type": "code",
   "execution_count": 12,
   "metadata": {},
   "outputs": [],
   "source": [
    "import gensim\n",
    "import re\n",
    "import string"
   ]
  },
  {
   "cell_type": "code",
   "execution_count": 3,
   "metadata": {},
   "outputs": [],
   "source": [
    "politics_file = open('politics_train.txt', 'r')    "
   ]
  },
  {
   "cell_type": "code",
   "execution_count": 4,
   "metadata": {},
   "outputs": [],
   "source": [
    "politics_list = politics_file.readlines()"
   ]
  },
  {
   "cell_type": "code",
   "execution_count": 5,
   "metadata": {},
   "outputs": [
    {
     "data": {
      "text/plain": [
       "['true .\\n',\n",
       " \"but the ***only*** way that is likely to occur is to start rubbing the general public 's noses in the way that the 1 % have already stolen most of their country\\n\",\n",
       " 'fuck him , right ?\\n',\n",
       " 'bernie or bust !\\n',\n",
       " 'cnn did a map breakdown last night where they gave bernie a win in every remaining state and guess what ... ..\\n',\n",
       " 'http : //imgur.com/neqdsrt\\n',\n",
       " 'i disagree .\\n',\n",
       " \"the entire race basically every mainstream media outlet has shown the delegate count including super delegates giving clinton the appearance of being like over 4-5 hundred delegates in the lead when it 's much closer to like 100-250 .\\n\",\n",
       " 'you may think this has no impact , but i would imagine there is some slight impact based on this .\\n',\n",
       " 'some studies have shown that voters are much more inclined to choose a candidate if they believe they are definitely going to win the nomination .\\n']"
      ]
     },
     "execution_count": 5,
     "metadata": {},
     "output_type": "execute_result"
    }
   ],
   "source": [
    "politics_list[:10]"
   ]
  },
  {
   "cell_type": "code",
   "execution_count": 10,
   "metadata": {},
   "outputs": [],
   "source": [
    "politics_list = [re.sub('\\\\n', '', i) for i in politics_list]"
   ]
  },
  {
   "cell_type": "code",
   "execution_count": 17,
   "metadata": {},
   "outputs": [
    {
     "data": {
      "text/plain": [
       "['true ',\n",
       " 'but the only way that is likely to occur is to start rubbing the general public s noses in the way that the 1  have already stolen most of their country',\n",
       " 'fuck him  right ',\n",
       " 'bernie or bust ',\n",
       " 'cnn did a map breakdown last night where they gave bernie a win in every remaining state and guess what  ',\n",
       " 'http  imgurcomneqdsrt',\n",
       " 'i disagree ',\n",
       " 'the entire race basically every mainstream media outlet has shown the delegate count including super delegates giving clinton the appearance of being like over 45 hundred delegates in the lead when it s much closer to like 100250 ',\n",
       " 'you may think this has no impact  but i would imagine there is some slight impact based on this ',\n",
       " 'some studies have shown that voters are much more inclined to choose a candidate if they believe they are definitely going to win the nomination ']"
      ]
     },
     "execution_count": 17,
     "metadata": {},
     "output_type": "execute_result"
    }
   ],
   "source": [
    "[re.sub(re.compile('[%s]' % re.escape(string.punctuation)), '', i) for i in politics_list[:10]]\n",
    "# doesn't handle URLs - may want to go back and fix that"
   ]
  },
  {
   "cell_type": "code",
   "execution_count": 18,
   "metadata": {},
   "outputs": [],
   "source": [
    "politics_list = [re.sub(re.compile('[%s]' % re.escape(string.punctuation)), '', i) for i in politics_list]"
   ]
  },
  {
   "cell_type": "code",
   "execution_count": 29,
   "metadata": {},
   "outputs": [],
   "source": [
    "politics_words_list = [re.findall('\\w+', i) for i in politics_list]"
   ]
  },
  {
   "cell_type": "code",
   "execution_count": 30,
   "metadata": {},
   "outputs": [
    {
     "data": {
      "text/plain": [
       "(2848076, 3890000)"
      ]
     },
     "execution_count": 30,
     "metadata": {},
     "output_type": "execute_result"
    }
   ],
   "source": [
    "model = gensim.models.Word2Vec(politics_words_list, size=100, window=10, min_count=2, workers=10)\n",
    "model.train(politics_words_list,total_examples=len(politics_list),epochs=10)"
   ]
  },
  {
   "cell_type": "code",
   "execution_count": 44,
   "metadata": {},
   "outputs": [
    {
     "data": {
      "text/plain": [
       "[('senator', 0.7266708016395569),\n",
       " ('heterosexual', 0.7250194549560547),\n",
       " ('lady', 0.7162774205207825),\n",
       " ('inconvenience', 0.6977771520614624),\n",
       " ('reversed', 0.6971264481544495),\n",
       " ('thug', 0.6687050461769104),\n",
       " ('dress', 0.6676039099693298),\n",
       " ('joke', 0.6673787832260132),\n",
       " ('fuckup', 0.662862241268158),\n",
       " ('politician', 0.6598880887031555)]"
      ]
     },
     "execution_count": 44,
     "metadata": {},
     "output_type": "execute_result"
    }
   ],
   "source": [
    "w1 = \"woman\"\n",
    "model.wv.most_similar (positive=w1)"
   ]
  },
  {
   "cell_type": "code",
   "execution_count": null,
   "metadata": {},
   "outputs": [],
   "source": []
  }
 ],
 "metadata": {
  "kernelspec": {
   "display_name": "Python 3",
   "language": "python",
   "name": "python3"
  },
  "language_info": {
   "codemirror_mode": {
    "name": "ipython",
    "version": 3
   },
   "file_extension": ".py",
   "mimetype": "text/x-python",
   "name": "python",
   "nbconvert_exporter": "python",
   "pygments_lexer": "ipython3",
   "version": "3.7.3"
  }
 },
 "nbformat": 4,
 "nbformat_minor": 2
}
