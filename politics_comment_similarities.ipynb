{
 "cells": [
  {
   "cell_type": "code",
   "execution_count": 136,
   "metadata": {},
   "outputs": [],
   "source": [
    "import json\n",
    "import pickle\n",
    "\n",
    "from scipy.sparse import coo_matrix, csr_matrix, csc_matrix, lil_matrix\n",
    "from scipy.linalg import norm\n",
    "\n",
    "from sklearn.decomposition import TruncatedSVD\n",
    "\n",
    "from matplotlib import pyplot as plt\n",
    "from IPython.display import HTML, display\n",
    "import pandas as pd\n",
    "import numpy as np\n",
    "import random\n"
   ]
  },
  {
   "cell_type": "code",
   "execution_count": 2,
   "metadata": {},
   "outputs": [],
   "source": [
    "with open(\"stored_variables/politics_tokens_text_tfidf.pickle\", 'rb') as f:\n",
    "    comment_tfidf = pickle.load(f)"
   ]
  },
  {
   "cell_type": "code",
   "execution_count": 3,
   "metadata": {},
   "outputs": [],
   "source": [
    "with open(\"stored_variables/auth_sample_r_politics_authors.json\", 'r') as f:\n",
    "    comment_auths = json.load(f)"
   ]
  },
  {
   "cell_type": "code",
   "execution_count": 116,
   "metadata": {},
   "outputs": [],
   "source": [
    "with open(\"stored_variables/user_subreddit_tf.pickle\", \"rb\") as f:\n",
    "    subreddit_tf = pickle.load(f)"
   ]
  },
  {
   "cell_type": "code",
   "execution_count": 117,
   "metadata": {},
   "outputs": [],
   "source": [
    "with open(\"stored_variables/user_subreddit_tf_auths.pickle\", \"rb\") as f:\n",
    "    author_names = pickle.load(f)"
   ]
  },
  {
   "cell_type": "code",
   "execution_count": 7,
   "metadata": {},
   "outputs": [],
   "source": [
    "with open(\"stored_variables/user_subreddit_tf_subreddit_names.pickle\", \"rb\") as f:\n",
    "    subreddit_reverse_dict = pickle.load(f)"
   ]
  },
  {
   "cell_type": "markdown",
   "metadata": {},
   "source": [
    "## Consolidate all comments by each user"
   ]
  },
  {
   "cell_type": "code",
   "execution_count": 8,
   "metadata": {},
   "outputs": [],
   "source": [
    "author_reverse_dict = {author_names[i]:i for i in range(len(author_names))}"
   ]
  },
  {
   "cell_type": "code",
   "execution_count": 9,
   "metadata": {},
   "outputs": [],
   "source": [
    "author_index_mapping = [author_reverse_dict[auth] for auth in comment_auths]"
   ]
  },
  {
   "cell_type": "code",
   "execution_count": 10,
   "metadata": {},
   "outputs": [
    {
     "data": {
      "text/plain": [
       "[12049, 496, 13502, 1594, 2957]"
      ]
     },
     "execution_count": 10,
     "metadata": {},
     "output_type": "execute_result"
    }
   ],
   "source": [
    "author_index_mapping[:5]"
   ]
  },
  {
   "cell_type": "code",
   "execution_count": 11,
   "metadata": {},
   "outputs": [],
   "source": [
    "author_index_lists = [[] for i in comment_auths]"
   ]
  },
  {
   "cell_type": "code",
   "execution_count": 12,
   "metadata": {},
   "outputs": [],
   "source": [
    "for i in range(len(author_index_mapping)):\n",
    "    author_index_lists[author_index_mapping[i]].append(i)"
   ]
  },
  {
   "cell_type": "code",
   "execution_count": 13,
   "metadata": {
    "scrolled": true
   },
   "outputs": [
    {
     "data": {
      "text/plain": [
       "[28117, 42390, 62493, 69447, 191770, 327109, 507092]"
      ]
     },
     "execution_count": 13,
     "metadata": {},
     "output_type": "execute_result"
    }
   ],
   "source": [
    "author_index_lists[0]"
   ]
  },
  {
   "cell_type": "code",
   "execution_count": 14,
   "metadata": {},
   "outputs": [
    {
     "data": {
      "text/plain": [
       "<7x26903 sparse matrix of type '<class 'numpy.float64'>'\n",
       "\twith 67 stored elements in Compressed Sparse Row format>"
      ]
     },
     "execution_count": 14,
     "metadata": {},
     "output_type": "execute_result"
    }
   ],
   "source": [
    "comment_tfidf[author_index_lists[0]]"
   ]
  },
  {
   "cell_type": "code",
   "execution_count": 15,
   "metadata": {},
   "outputs": [
    {
     "data": {
      "text/plain": [
       "matrix([[0., 0., 0., ..., 0., 0., 0.]])"
      ]
     },
     "execution_count": 15,
     "metadata": {},
     "output_type": "execute_result"
    }
   ],
   "source": [
    "comment_tfidf[author_index_lists[0]].sum(axis=0)"
   ]
  },
  {
   "cell_type": "code",
   "execution_count": 16,
   "metadata": {},
   "outputs": [],
   "source": [
    "user_tfidf = lil_matrix((len(author_names), comment_tfidf.shape[1]))"
   ]
  },
  {
   "cell_type": "code",
   "execution_count": 17,
   "metadata": {},
   "outputs": [],
   "source": [
    "for i in range(len(author_names)):\n",
    "    user_tfidf[i] = comment_tfidf[author_index_lists[i]].sum(axis=0)"
   ]
  },
  {
   "cell_type": "code",
   "execution_count": 18,
   "metadata": {},
   "outputs": [],
   "source": [
    "user_tfidf = csr_matrix(user_tfidf)"
   ]
  },
  {
   "cell_type": "code",
   "execution_count": 19,
   "metadata": {},
   "outputs": [],
   "source": [
    "user_tfidf_norms = np.zeros(user_tfidf.shape[0])"
   ]
  },
  {
   "cell_type": "code",
   "execution_count": 20,
   "metadata": {},
   "outputs": [],
   "source": [
    "for i in range(20):\n",
    "    user_tfidf_norms[i*1000 : (i+1) * 1000] = norm(user_tfidf[i*1000 : (i+1) * 1000].toarray(), axis=1)"
   ]
  },
  {
   "cell_type": "code",
   "execution_count": 21,
   "metadata": {},
   "outputs": [
    {
     "data": {
      "text/plain": [
       "128"
      ]
     },
     "execution_count": 21,
     "metadata": {},
     "output_type": "execute_result"
    }
   ],
   "source": [
    "np.sum(user_tfidf_norms == 0)"
   ]
  },
  {
   "cell_type": "code",
   "execution_count": 22,
   "metadata": {},
   "outputs": [],
   "source": [
    "nonzero_indices = [i for i in range(user_tfidf.shape[0]) if user_tfidf_norms[i] > 0]"
   ]
  },
  {
   "cell_type": "code",
   "execution_count": 23,
   "metadata": {},
   "outputs": [
    {
     "data": {
      "text/plain": [
       "(19872,)"
      ]
     },
     "execution_count": 23,
     "metadata": {},
     "output_type": "execute_result"
    }
   ],
   "source": [
    "user_tfidf_norms[nonzero_indices].shape"
   ]
  },
  {
   "cell_type": "code",
   "execution_count": 24,
   "metadata": {},
   "outputs": [],
   "source": [
    "user_tfidf_normalized = csr_matrix(user_tfidf[nonzero_indices, :] / user_tfidf_norms[nonzero_indices, np.newaxis])"
   ]
  },
  {
   "cell_type": "markdown",
   "metadata": {},
   "source": [
    "## Cosine similarities"
   ]
  },
  {
   "cell_type": "code",
   "execution_count": 62,
   "metadata": {},
   "outputs": [],
   "source": [
    "subreddit_cosine_sims = np.zeros((user_tfidf_normalized.shape[0], user_tfidf_normalized.shape[0]))"
   ]
  },
  {
   "cell_type": "code",
   "execution_count": 63,
   "metadata": {},
   "outputs": [],
   "source": [
    "for i in range(5):\n",
    "    max_index1 = min((i+1)*1000, user_tfidf_normalized.shape[0])\n",
    "    chunk1 = user_tfidf_normalized[i*1000 : max_index1, :]\n",
    "    for j in range(20):\n",
    "        max_index2 = min((j+1)*1000, user_tfidf_normalized.shape[0])\n",
    "        chunk2 = user_tfidf_normalized[j*1000 : max_index2, :]\n",
    "        subreddit_cosine_sims[i*1000 : max_index1, j*1000 : max_index2] = chunk1.dot(csc_matrix(chunk2.T)).toarray()\n"
   ]
  },
  {
   "cell_type": "code",
   "execution_count": 64,
   "metadata": {},
   "outputs": [],
   "source": [
    "for i in range(5,10):\n",
    "    max_index1 = min((i+1)*1000, user_tfidf_normalized.shape[0])\n",
    "    chunk1 = user_tfidf_normalized[i*1000 : max_index1, :]\n",
    "    for j in range(20):\n",
    "        max_index2 = min((j+1)*1000, user_tfidf_normalized.shape[0])\n",
    "        chunk2 = user_tfidf_normalized[j*1000 : max_index2, :]\n",
    "        subreddit_cosine_sims[i*1000 : max_index1, j*1000 : max_index2] = chunk1.dot(csc_matrix(chunk2.T)).toarray()\n"
   ]
  },
  {
   "cell_type": "code",
   "execution_count": 65,
   "metadata": {},
   "outputs": [],
   "source": [
    "for i in range(10,15):\n",
    "    max_index1 = min((i+1)*1000, user_tfidf_normalized.shape[0])\n",
    "    chunk1 = user_tfidf_normalized[i*1000 : max_index1, :]\n",
    "    for j in range(20):\n",
    "        max_index2 = min((j+1)*1000, user_tfidf_normalized.shape[0])\n",
    "        chunk2 = user_tfidf_normalized[j*1000 : max_index2, :]\n",
    "        subreddit_cosine_sims[i*1000 : max_index1, j*1000 : max_index2] = chunk1.dot(csc_matrix(chunk2.T)).toarray()\n"
   ]
  },
  {
   "cell_type": "code",
   "execution_count": 66,
   "metadata": {},
   "outputs": [],
   "source": [
    "for i in range(15,20):\n",
    "    max_index1 = min((i+1)*1000, user_tfidf_normalized.shape[0])\n",
    "    chunk1 = user_tfidf_normalized[i*1000 : max_index1, :]\n",
    "    for j in range(20):\n",
    "        max_index2 = min((j+1)*1000, user_tfidf_normalized.shape[0])\n",
    "        chunk2 = user_tfidf_normalized[j*1000 : max_index2, :]\n",
    "        subreddit_cosine_sims[i*1000 : max_index1, j*1000 : max_index2] = chunk1.dot(csc_matrix(chunk2.T)).toarray()\n"
   ]
  },
  {
   "cell_type": "code",
   "execution_count": 68,
   "metadata": {},
   "outputs": [],
   "source": [
    "for i in range(user_tfidf_normalized.shape[0]):\n",
    "    subreddit_cosine_sims[i,i] = 0"
   ]
  },
  {
   "cell_type": "code",
   "execution_count": 69,
   "metadata": {},
   "outputs": [
    {
     "data": {
      "text/plain": [
       "array([[0.        , 0.1719182 , 0.22505432, 0.05709984, 0.        ,\n",
       "        0.08161339, 0.0414649 , 0.11388844, 0.03649721, 0.14950288],\n",
       "       [0.1719182 , 0.        , 0.54653004, 0.1990964 , 0.07487276,\n",
       "        0.07993296, 0.13998132, 0.29244882, 0.0680828 , 0.30938603],\n",
       "       [0.22505432, 0.54653004, 0.        , 0.20796884, 0.0568248 ,\n",
       "        0.11735653, 0.13723308, 0.3243069 , 0.09350922, 0.42718907],\n",
       "       [0.05709984, 0.1990964 , 0.20796884, 0.        , 0.01655341,\n",
       "        0.05228141, 0.0476902 , 0.1448155 , 0.01328451, 0.1169083 ],\n",
       "       [0.        , 0.07487276, 0.0568248 , 0.01655341, 0.        ,\n",
       "        0.        , 0.00411344, 0.0529361 , 0.        , 0.02530465],\n",
       "       [0.08161339, 0.07993296, 0.11735653, 0.05228141, 0.        ,\n",
       "        0.        , 0.02773797, 0.07462108, 0.04699023, 0.06517395],\n",
       "       [0.0414649 , 0.13998132, 0.13723308, 0.0476902 , 0.00411344,\n",
       "        0.02773797, 0.        , 0.06054228, 0.01079588, 0.08521319],\n",
       "       [0.11388844, 0.29244882, 0.3243069 , 0.1448155 , 0.0529361 ,\n",
       "        0.07462108, 0.06054228, 0.        , 0.04201799, 0.23753546],\n",
       "       [0.03649721, 0.0680828 , 0.09350922, 0.01328451, 0.        ,\n",
       "        0.04699023, 0.01079588, 0.04201799, 0.        , 0.07914082],\n",
       "       [0.14950288, 0.30938603, 0.42718907, 0.1169083 , 0.02530465,\n",
       "        0.06517395, 0.08521319, 0.23753546, 0.07914082, 0.        ]])"
      ]
     },
     "execution_count": 69,
     "metadata": {},
     "output_type": "execute_result"
    }
   ],
   "source": [
    "subreddit_cosine_sims[:10, :10]"
   ]
  },
  {
   "cell_type": "code",
   "execution_count": 70,
   "metadata": {},
   "outputs": [],
   "source": [
    "# with open(\"stored_variables/user_comment_tfidf_cossims.pickle\", \"wb\") as f:\n",
    "#     pickle.dump(subreddit_cosine_sims, f)\n",
    "with open(\"stored_variables/user_comment_tfidf_cossims.pickle\", \"rb\") as f:\n",
    "    subreddit_cosine_sims = pickle.load(f)"
   ]
  },
  {
   "cell_type": "code",
   "execution_count": 74,
   "metadata": {},
   "outputs": [],
   "source": [
    "most_similar_user = np.zeros(user_tfidf_normalized.shape[0], dtype = np.int32)"
   ]
  },
  {
   "cell_type": "code",
   "execution_count": 75,
   "metadata": {},
   "outputs": [],
   "source": [
    "for i in range(user_tfidf_normalized.shape[0]):\n",
    "    most_similar_user[i] = np.argsort(subreddit_cosine_sims[i])[-1]"
   ]
  },
  {
   "cell_type": "code",
   "execution_count": 76,
   "metadata": {},
   "outputs": [
    {
     "data": {
      "text/plain": [
       "array([ 5433,  3543,  5240,  5460,  5739, 14699, 16025,  3699, 19098,\n",
       "         489], dtype=int32)"
      ]
     },
     "execution_count": 76,
     "metadata": {},
     "output_type": "execute_result"
    }
   ],
   "source": [
    "most_similar_user[:10]"
   ]
  },
  {
   "cell_type": "code",
   "execution_count": 77,
   "metadata": {
    "scrolled": true
   },
   "outputs": [
    {
     "data": {
      "text/plain": [
       "[0.2862979588803271,\n",
       " 0.7095173675870902,\n",
       " 0.7791600670814074,\n",
       " 0.31025967045087277,\n",
       " 0.3095227782325683,\n",
       " 0.2570771661331643,\n",
       " 0.27932893763601224,\n",
       " 0.48270475031570137,\n",
       " 0.38267922248858255,\n",
       " 0.5665090393956965]"
      ]
     },
     "execution_count": 77,
     "metadata": {},
     "output_type": "execute_result"
    }
   ],
   "source": [
    "[subreddit_cosine_sims[i, most_similar_user[i]] for i in range(10)]"
   ]
  },
  {
   "cell_type": "markdown",
   "metadata": {},
   "source": [
    "## Check similarities by subreddits authors commented in"
   ]
  },
  {
   "cell_type": "code",
   "execution_count": 81,
   "metadata": {},
   "outputs": [],
   "source": [
    "author_names = [author_names[i] for i in nonzero_indices]\n",
    "subreddit_tf = subreddit_tf[nonzero_indices, :]\n"
   ]
  },
  {
   "cell_type": "code",
   "execution_count": 114,
   "metadata": {},
   "outputs": [],
   "source": [
    "author_reverse_dict = {author_names[i]:i for i in range(len(author_names))}"
   ]
  },
  {
   "cell_type": "code",
   "execution_count": 118,
   "metadata": {},
   "outputs": [],
   "source": [
    "num_sanders = {k:(subreddit_tf[author_reverse_dict[k], subreddit_reverse_dict['sandersforpresident']]) for k in author_names}\n",
    "num_trump = {k:(subreddit_tf[author_reverse_dict[k], subreddit_reverse_dict['the_donald']]) for k in author_names}\n",
    "num_clinton = {k:(subreddit_tf[author_reverse_dict[k], subreddit_reverse_dict['hillaryclinton']]) for k in author_names}\n",
    "num_politics = {k:(subreddit_tf[author_reverse_dict[k], subreddit_reverse_dict['politics']]) for k in author_names}\n"
   ]
  },
  {
   "cell_type": "code",
   "execution_count": 119,
   "metadata": {},
   "outputs": [],
   "source": [
    "comment_threshold = 10"
   ]
  },
  {
   "cell_type": "code",
   "execution_count": 120,
   "metadata": {},
   "outputs": [],
   "source": [
    "sanders_user_indices = [i for i in range(subreddit_tf.shape[0]) if num_sanders[author_names[i]] >= comment_threshold]\n",
    "trump_user_indices = [i for i in range(subreddit_tf.shape[0]) if num_trump[author_names[i]] >= comment_threshold]\n",
    "clinton_user_indices = [i for i in range(subreddit_tf.shape[0]) if num_clinton[author_names[i]] >= comment_threshold]"
   ]
  },
  {
   "cell_type": "code",
   "execution_count": 44,
   "metadata": {},
   "outputs": [],
   "source": [
    "none_user_indices = [i for i in range(subreddit_tf.shape[0]) if num_sanders[author_names[i]] == 0 and \n",
    "                     num_trump[author_names[i]] == 0 and\n",
    "                     num_clinton[author_names[i]] == 0]"
   ]
  },
  {
   "cell_type": "code",
   "execution_count": 45,
   "metadata": {},
   "outputs": [
    {
     "name": "stdout",
     "output_type": "stream",
     "text": [
      "1555\n",
      "915\n",
      "137\n",
      "12856\n"
     ]
    }
   ],
   "source": [
    "print(len(sanders_user_indices))\n",
    "print(len(trump_user_indices))\n",
    "print(len(clinton_user_indices))\n",
    "print(len(none_user_indices))"
   ]
  },
  {
   "cell_type": "code",
   "execution_count": 46,
   "metadata": {},
   "outputs": [
    {
     "name": "stdout",
     "output_type": "stream",
     "text": [
      "206\n",
      "73\n",
      "18\n"
     ]
    }
   ],
   "source": [
    "print(len(set(sanders_user_indices).intersection(trump_user_indices)))\n",
    "print(len(set(sanders_user_indices).intersection(clinton_user_indices)))\n",
    "print(len(set(trump_user_indices).intersection(clinton_user_indices)))"
   ]
  },
  {
   "cell_type": "code",
   "execution_count": 83,
   "metadata": {},
   "outputs": [
    {
     "data": {
      "text/plain": [
       "0.3269398708397079"
      ]
     },
     "execution_count": 83,
     "metadata": {},
     "output_type": "execute_result"
    }
   ],
   "source": [
    "np.sum(subreddit_cosine_sims[sanders_user_indices, :][:,sanders_user_indices]) / \\\n",
    "(len(sanders_user_indices) * (len(sanders_user_indices)-1))"
   ]
  },
  {
   "cell_type": "code",
   "execution_count": 84,
   "metadata": {},
   "outputs": [
    {
     "data": {
      "text/plain": [
       "0.222626107617488"
      ]
     },
     "execution_count": 84,
     "metadata": {},
     "output_type": "execute_result"
    }
   ],
   "source": [
    "np.sum(subreddit_cosine_sims[trump_user_indices, :][:,trump_user_indices]) / \\\n",
    "(len(trump_user_indices) * (len(trump_user_indices)-1))"
   ]
  },
  {
   "cell_type": "code",
   "execution_count": 85,
   "metadata": {},
   "outputs": [
    {
     "data": {
      "text/plain": [
       "0.4355421733362365"
      ]
     },
     "execution_count": 85,
     "metadata": {},
     "output_type": "execute_result"
    }
   ],
   "source": [
    "np.sum(subreddit_cosine_sims[clinton_user_indices, :][:,clinton_user_indices]) / \\\n",
    "(len(clinton_user_indices) * (len(clinton_user_indices)-1))"
   ]
  },
  {
   "cell_type": "code",
   "execution_count": 86,
   "metadata": {},
   "outputs": [
    {
     "data": {
      "text/plain": [
       "0.0777579223886308"
      ]
     },
     "execution_count": 86,
     "metadata": {},
     "output_type": "execute_result"
    }
   ],
   "source": [
    "np.sum(subreddit_cosine_sims[none_user_indices, :][:,none_user_indices]) / \\\n",
    "(len(none_user_indices) * (len(none_user_indices)-1))"
   ]
  },
  {
   "cell_type": "code",
   "execution_count": 87,
   "metadata": {},
   "outputs": [
    {
     "data": {
      "text/plain": [
       "0.10325964914936943"
      ]
     },
     "execution_count": 87,
     "metadata": {},
     "output_type": "execute_result"
    }
   ],
   "source": [
    "np.sum(subreddit_cosine_sims) / (subreddit_cosine_sims.shape[0] * (subreddit_cosine_sims.shape[1] - 1))"
   ]
  },
  {
   "cell_type": "code",
   "execution_count": 88,
   "metadata": {},
   "outputs": [
    {
     "name": "stdout",
     "output_type": "stream",
     "text": [
      "0.2675780924449106\n",
      "0.3765296839104821\n",
      "0.30705193925044294\n",
      "\n",
      "0.158404383345169\n",
      "0.1298725512779201\n",
      "0.18143419106387051\n"
     ]
    }
   ],
   "source": [
    "print(np.sum(subreddit_cosine_sims[sanders_user_indices, :][:,trump_user_indices]) / \\\n",
    "((len(sanders_user_indices) * len(trump_user_indices)) - \\\n",
    "len(set(sanders_user_indices).intersection(trump_user_indices))))\n",
    "\n",
    "print(np.sum(subreddit_cosine_sims[sanders_user_indices, :][:,clinton_user_indices]) / \\\n",
    "((len(sanders_user_indices) * len(clinton_user_indices)) - \\\n",
    "len(set(sanders_user_indices).intersection(clinton_user_indices))))\n",
    "\n",
    "print(np.sum(subreddit_cosine_sims[clinton_user_indices, :][:,trump_user_indices]) / \\\n",
    "((len(clinton_user_indices) * len(trump_user_indices)) - \\\n",
    "len(set(clinton_user_indices).intersection(trump_user_indices))))\n",
    "\n",
    "print()\n",
    "print(np.sum(subreddit_cosine_sims[sanders_user_indices, :][:,none_user_indices]) / \\\n",
    "((len(sanders_user_indices) * len(none_user_indices))))\n",
    "print(np.sum(subreddit_cosine_sims[trump_user_indices, :][:,none_user_indices]) / \\\n",
    "((len(trump_user_indices) * len(none_user_indices))))\n",
    "print(np.sum(subreddit_cosine_sims[clinton_user_indices, :][:,none_user_indices]) / \\\n",
    "((len(clinton_user_indices) * len(none_user_indices))))"
   ]
  },
  {
   "cell_type": "code",
   "execution_count": 89,
   "metadata": {},
   "outputs": [
    {
     "name": "stdout",
     "output_type": "stream",
     "text": [
      "133\n",
      "0.08553054662379421\n",
      "49\n",
      "0.053551912568306013\n",
      "20\n",
      "0.145985401459854\n",
      "\n",
      "99\n",
      "0.06366559485530547\n",
      "59\n",
      "0.06448087431693988\n",
      "13\n",
      "0.0948905109489051\n",
      "\n",
      "37\n",
      "0.023794212218649517\n",
      "12\n",
      "0.013114754098360656\n",
      "11\n",
      "0.08029197080291971\n"
     ]
    }
   ],
   "source": [
    "print(len(set(most_similar_user[sanders_user_indices]).intersection(sanders_user_indices)))\n",
    "print(len(set(most_similar_user[sanders_user_indices]).intersection(sanders_user_indices))/len(sanders_user_indices))\n",
    "print(len(set(most_similar_user[sanders_user_indices]).intersection(trump_user_indices)))\n",
    "print(len(set(most_similar_user[sanders_user_indices]).intersection(trump_user_indices))/len(trump_user_indices))\n",
    "print(len(set(most_similar_user[sanders_user_indices]).intersection(clinton_user_indices)))\n",
    "print(len(set(most_similar_user[sanders_user_indices]).intersection(clinton_user_indices))/len(clinton_user_indices))\n",
    "print()\n",
    "print(len(set(most_similar_user[trump_user_indices]).intersection(sanders_user_indices)))\n",
    "print(len(set(most_similar_user[trump_user_indices]).intersection(sanders_user_indices))/len(sanders_user_indices))\n",
    "print(len(set(most_similar_user[trump_user_indices]).intersection(trump_user_indices)))\n",
    "print(len(set(most_similar_user[trump_user_indices]).intersection(trump_user_indices))/len(trump_user_indices))\n",
    "print(len(set(most_similar_user[trump_user_indices]).intersection(clinton_user_indices)))\n",
    "print(len(set(most_similar_user[trump_user_indices]).intersection(clinton_user_indices))/len(clinton_user_indices))\n",
    "print()\n",
    "print(len(set(most_similar_user[clinton_user_indices]).intersection(sanders_user_indices)))\n",
    "print(len(set(most_similar_user[clinton_user_indices]).intersection(sanders_user_indices))/len(sanders_user_indices))\n",
    "print(len(set(most_similar_user[clinton_user_indices]).intersection(trump_user_indices)))\n",
    "print(len(set(most_similar_user[clinton_user_indices]).intersection(trump_user_indices))/len(trump_user_indices))\n",
    "print(len(set(most_similar_user[clinton_user_indices]).intersection(clinton_user_indices)))\n",
    "print(len(set(most_similar_user[clinton_user_indices]).intersection(clinton_user_indices))/len(clinton_user_indices))\n",
    "\n"
   ]
  },
  {
   "cell_type": "code",
   "execution_count": 90,
   "metadata": {},
   "outputs": [],
   "source": [
    "sanders_sanders_sims = []\n",
    "\n",
    "for i in range(len(sanders_user_indices)):\n",
    "    for j in range(i+1, len(sanders_user_indices)):\n",
    "        sanders_sanders_sims.append(subreddit_cosine_sims[sanders_user_indices[i],sanders_user_indices[j]])"
   ]
  },
  {
   "cell_type": "code",
   "execution_count": 91,
   "metadata": {},
   "outputs": [
    {
     "data": {
      "image/png": "[encoded data removed]",
      "text/plain": [
       "<Figure size 432x288 with 1 Axes>"
      ]
     },
     "metadata": {
      "needs_background": "light"
     },
     "output_type": "display_data"
    }
   ],
   "source": [
    "plt.hist(sanders_sanders_sims, range = (0, 1))\n",
    "plt.show()"
   ]
  },
  {
   "cell_type": "code",
   "execution_count": 92,
   "metadata": {},
   "outputs": [],
   "source": [
    "trump_trump_sims = []\n",
    "\n",
    "for i in range(len(trump_user_indices)):\n",
    "    for j in range(i+1, len(trump_user_indices)):\n",
    "        trump_trump_sims.append(subreddit_cosine_sims[trump_user_indices[i],trump_user_indices[j]])"
   ]
  },
  {
   "cell_type": "code",
   "execution_count": 93,
   "metadata": {},
   "outputs": [
    {
     "data": {
      "image/png": "[encoded data removed]",
      "text/plain": [
       "<Figure size 432x288 with 1 Axes>"
      ]
     },
     "metadata": {
      "needs_background": "light"
     },
     "output_type": "display_data"
    }
   ],
   "source": [
    "plt.hist(trump_trump_sims, range = (0,1))\n",
    "plt.show()"
   ]
  },
  {
   "cell_type": "code",
   "execution_count": 98,
   "metadata": {},
   "outputs": [],
   "source": [
    "clinton_clinton_sims = []\n",
    "\n",
    "for i in range(len(clinton_user_indices)):\n",
    "    for j in range(i+1, len(clinton_user_indices)):\n",
    "        clinton_clinton_sims.append(subreddit_cosine_sims[clinton_user_indices[i],clinton_user_indices[j]])"
   ]
  },
  {
   "cell_type": "code",
   "execution_count": 99,
   "metadata": {
    "scrolled": false
   },
   "outputs": [
    {
     "data": {
      "image/png": "[encoded data removed]",
      "text/plain": [
       "<Figure size 432x288 with 1 Axes>"
      ]
     },
     "metadata": {
      "needs_background": "light"
     },
     "output_type": "display_data"
    }
   ],
   "source": [
    "plt.hist(clinton_clinton_sims, range = (0,1))\n",
    "plt.show()"
   ]
  },
  {
   "cell_type": "code",
   "execution_count": 97,
   "metadata": {},
   "outputs": [
    {
     "data": {
      "image/png": "[encoded data removed]",
      "text/plain": [
       "<Figure size 432x288 with 1 Axes>"
      ]
     },
     "metadata": {
      "needs_background": "light"
     },
     "output_type": "display_data"
    }
   ],
   "source": [
    "none_none_sims = []\n",
    "\n",
    "for i in range(len(none_user_indices)):\n",
    "    for j in range(i+1, len(none_user_indices)):\n",
    "        none_none_sims.append(subreddit_cosine_sims[none_user_indices[i],none_user_indices[j]])\n",
    "        \n",
    "plt.hist(none_none_sims, range = (0,1))\n",
    "plt.show()"
   ]
  },
  {
   "cell_type": "code",
   "execution_count": 103,
   "metadata": {},
   "outputs": [
    {
     "data": {
      "image/png": "[encoded data removed]",
      "text/plain": [
       "<Figure size 432x288 with 1 Axes>"
      ]
     },
     "metadata": {
      "needs_background": "light"
     },
     "output_type": "display_data"
    }
   ],
   "source": [
    "sanders_trump_sims = []\n",
    "\n",
    "for i in sanders_user_indices:\n",
    "    for j in trump_user_indices:\n",
    "        if i not in trump_user_indices and j not in sanders_user_indices:\n",
    "            sanders_trump_sims.append(subreddit_cosine_sims[i,j])\n",
    "        \n",
    "plt.hist(sanders_trump_sims, range = (0,1))\n",
    "plt.show()"
   ]
  },
  {
   "cell_type": "code",
   "execution_count": 104,
   "metadata": {},
   "outputs": [
    {
     "data": {
      "image/png": "[encoded data removed]",
      "text/plain": [
       "<Figure size 432x288 with 1 Axes>"
      ]
     },
     "metadata": {
      "needs_background": "light"
     },
     "output_type": "display_data"
    }
   ],
   "source": [
    "sanders_clinton_sims = []\n",
    "\n",
    "for i in sanders_user_indices:\n",
    "    for j in clinton_user_indices:\n",
    "        if i not in clinton_user_indices and j not in sanders_user_indices:\n",
    "            sanders_clinton_sims.append(subreddit_cosine_sims[i,j])\n",
    "        \n",
    "plt.hist(sanders_clinton_sims, range = (0,1))\n",
    "plt.show()"
   ]
  },
  {
   "cell_type": "code",
   "execution_count": 105,
   "metadata": {
    "scrolled": true
   },
   "outputs": [
    {
     "data": {
      "image/png": "[encoded data removed]",
      "text/plain": [
       "<Figure size 432x288 with 1 Axes>"
      ]
     },
     "metadata": {
      "needs_background": "light"
     },
     "output_type": "display_data"
    }
   ],
   "source": [
    "clinton_trump_sims = []\n",
    "\n",
    "for i in clinton_user_indices:\n",
    "    for j in trump_user_indices:\n",
    "        if i not in trump_user_indices and j not in clinton_user_indices:\n",
    "            clinton_trump_sims.append(subreddit_cosine_sims[i,j])\n",
    "        \n",
    "plt.hist(clinton_trump_sims, range = (0,1))\n",
    "plt.show()"
   ]
  },
  {
   "cell_type": "markdown",
   "metadata": {},
   "source": [
    "## Try 10 comments per user"
   ]
  },
  {
   "cell_type": "code",
   "execution_count": 109,
   "metadata": {},
   "outputs": [
    {
     "data": {
      "text/plain": [
       "7957"
      ]
     },
     "execution_count": 109,
     "metadata": {},
     "output_type": "execute_result"
    }
   ],
   "source": [
    "len([i for i in author_index_lists if len(i) >= 5])"
   ]
  },
  {
   "cell_type": "code",
   "execution_count": 112,
   "metadata": {},
   "outputs": [
    {
     "name": "stdout",
     "output_type": "stream",
     "text": [
      "5254\n"
     ]
    }
   ],
   "source": [
    "print(len([i for i in author_index_lists if len(i) >= 10]))"
   ]
  },
  {
   "cell_type": "code",
   "execution_count": 124,
   "metadata": {},
   "outputs": [
    {
     "name": "stdout",
     "output_type": "stream",
     "text": [
      "1134\n",
      "532\n",
      "108\n",
      "3355\n"
     ]
    }
   ],
   "source": [
    "print(len([i for i in range(len(author_index_lists)) if len(author_index_lists[i]) >= 10 and i in sanders_user_indices]))\n",
    "print(len([i for i in range(len(author_index_lists)) if len(author_index_lists[i]) >= 10 and i in trump_user_indices]))\n",
    "print(len([i for i in range(len(author_index_lists)) if len(author_index_lists[i]) >= 10 and i in clinton_user_indices]))\n",
    "print(len([i for i in range(len(author_index_lists)) if len(author_index_lists[i]) >= 10 and i in none_user_indices]))\n"
   ]
  },
  {
   "cell_type": "code",
   "execution_count": 126,
   "metadata": {},
   "outputs": [
    {
     "name": "stdout",
     "output_type": "stream",
     "text": [
      "1296\n",
      "644\n",
      "123\n",
      "5102\n"
     ]
    }
   ],
   "source": [
    "print(len([i for i in range(len(author_index_lists)) if len(author_index_lists[i]) >= 5 and i in sanders_user_indices]))\n",
    "print(len([i for i in range(len(author_index_lists)) if len(author_index_lists[i]) >= 5 and i in trump_user_indices]))\n",
    "print(len([i for i in range(len(author_index_lists)) if len(author_index_lists[i]) >= 5 and i in clinton_user_indices]))\n",
    "print(len([i for i in range(len(author_index_lists)) if len(author_index_lists[i]) >= 5 and i in none_user_indices]))\n"
   ]
  },
  {
   "cell_type": "code",
   "execution_count": 145,
   "metadata": {},
   "outputs": [],
   "source": [
    "user_tfidf_m = lil_matrix((len([i for i in author_index_lists if len(i) >= 10]), comment_tfidf.shape[1]))"
   ]
  },
  {
   "cell_type": "code",
   "execution_count": 146,
   "metadata": {},
   "outputs": [],
   "source": [
    "good_indices = []\n",
    "idx = 0\n",
    "for i in range(len(author_names)):\n",
    "    if len(author_index_lists[i]) >= 10:\n",
    "        curr_indices = random.sample(author_index_lists[i], 10)\n",
    "        user_tfidf_m[idx] = comment_tfidf[curr_indices].sum(axis=0)\n",
    "        good_indices.append(i)\n",
    "        idx += 1\n",
    "        "
   ]
  },
  {
   "cell_type": "code",
   "execution_count": 147,
   "metadata": {},
   "outputs": [],
   "source": [
    "user_tfidf_m = csr_matrix(user_tfidf_m)\n",
    "user_tfidf_norms_m = np.zeros(user_tfidf_m.shape[0])\n",
    "user_tfidf_norms_m = norm(user_tfidf_m.toarray(), axis=1)"
   ]
  },
  {
   "cell_type": "code",
   "execution_count": 151,
   "metadata": {},
   "outputs": [],
   "source": [
    "user_tfidf_normalized_m = csr_matrix(user_tfidf_m / user_tfidf_norms_m[:, np.newaxis])"
   ]
  },
  {
   "cell_type": "code",
   "execution_count": 161,
   "metadata": {},
   "outputs": [],
   "source": [
    "subreddit_cosine_sims_m = user_tfidf_normalized_m.dot(csc_matrix(user_tfidf_normalized_m.T)).toarray()\n"
   ]
  },
  {
   "cell_type": "code",
   "execution_count": 162,
   "metadata": {},
   "outputs": [],
   "source": [
    "for i in range(user_tfidf_normalized_m.shape[0]):\n",
    "    subreddit_cosine_sims_m[i,i] = 0"
   ]
  },
  {
   "cell_type": "code",
   "execution_count": 163,
   "metadata": {},
   "outputs": [
    {
     "data": {
      "text/plain": [
       "array([[0.        , 0.23861054, 0.14542915, 0.19514236, 0.21724073,\n",
       "        0.24144117, 0.2108527 , 0.24146454, 0.22710855, 0.21716996],\n",
       "       [0.23861054, 0.        , 0.19207783, 0.24472836, 0.22468539,\n",
       "        0.28823279, 0.28531433, 0.31214507, 0.28133428, 0.27142665],\n",
       "       [0.14542915, 0.19207783, 0.        , 0.17341848, 0.18215892,\n",
       "        0.17674163, 0.14985353, 0.17961499, 0.16255594, 0.18098912],\n",
       "       [0.19514236, 0.24472836, 0.17341848, 0.        , 0.24886536,\n",
       "        0.24794315, 0.30680182, 0.31715432, 0.28827264, 0.28899159],\n",
       "       [0.21724073, 0.22468539, 0.18215892, 0.24886536, 0.        ,\n",
       "        0.25188421, 0.24257464, 0.28266084, 0.26176225, 0.26956942],\n",
       "       [0.24144117, 0.28823279, 0.17674163, 0.24794315, 0.25188421,\n",
       "        0.        , 0.29930572, 0.32839314, 0.33428686, 0.28629568],\n",
       "       [0.2108527 , 0.28531433, 0.14985353, 0.30680182, 0.24257464,\n",
       "        0.29930572, 0.        , 0.33961224, 0.28032498, 0.30529463],\n",
       "       [0.24146454, 0.31214507, 0.17961499, 0.31715432, 0.28266084,\n",
       "        0.32839314, 0.33961224, 0.        , 0.32023256, 0.32451969],\n",
       "       [0.22710855, 0.28133428, 0.16255594, 0.28827264, 0.26176225,\n",
       "        0.33428686, 0.28032498, 0.32023256, 0.        , 0.29630798],\n",
       "       [0.21716996, 0.27142665, 0.18098912, 0.28899159, 0.26956942,\n",
       "        0.28629568, 0.30529463, 0.32451969, 0.29630798, 0.        ]])"
      ]
     },
     "execution_count": 163,
     "metadata": {},
     "output_type": "execute_result"
    }
   ],
   "source": [
    "subreddit_cosine_sims_m[:10, :10]"
   ]
  },
  {
   "cell_type": "code",
   "execution_count": 167,
   "metadata": {},
   "outputs": [],
   "source": [
    "most_similar_user = np.zeros(user_tfidf_normalized_m.shape[0], dtype = np.int32)\n",
    "for i in range(user_tfidf_normalized_m.shape[0]):\n",
    "    most_similar_user[i] = np.argsort(subreddit_cosine_sims_m[i])[-1]"
   ]
  },
  {
   "cell_type": "code",
   "execution_count": 168,
   "metadata": {},
   "outputs": [
    {
     "data": {
      "text/plain": [
       "array([4500, 4356, 4853, 1156, 1908,  945, 4591,  473, 4925,  893],\n",
       "      dtype=int32)"
      ]
     },
     "execution_count": 168,
     "metadata": {},
     "output_type": "execute_result"
    }
   ],
   "source": [
    "most_similar_user[:10]"
   ]
  },
  {
   "cell_type": "code",
   "execution_count": 169,
   "metadata": {
    "scrolled": true
   },
   "outputs": [
    {
     "data": {
      "text/plain": [
       "[0.3712034771821758,\n",
       " 0.4233080227083595,\n",
       " 0.3048783004128825,\n",
       " 0.4322492443828797,\n",
       " 0.38535433174398365,\n",
       " 0.4310841315170676,\n",
       " 0.44393519302160256,\n",
       " 0.47649495546716497,\n",
       " 0.4366715139314585,\n",
       " 0.4488603269802892]"
      ]
     },
     "execution_count": 169,
     "metadata": {},
     "output_type": "execute_result"
    }
   ],
   "source": [
    "[subreddit_cosine_sims_m[i, most_similar_user[i]] for i in range(10)]"
   ]
  },
  {
   "cell_type": "code",
   "execution_count": 152,
   "metadata": {},
   "outputs": [],
   "source": [
    "author_names = [author_names[i] for i in good_indices]\n",
    "subreddit_tf = subreddit_tf[good_indices, :]"
   ]
  },
  {
   "cell_type": "code",
   "execution_count": 153,
   "metadata": {},
   "outputs": [],
   "source": [
    "author_reverse_dict = {author_names[i]:i for i in range(len(author_names))}"
   ]
  },
  {
   "cell_type": "code",
   "execution_count": 154,
   "metadata": {},
   "outputs": [],
   "source": [
    "num_sanders = {k:(subreddit_tf[author_reverse_dict[k], subreddit_reverse_dict['sandersforpresident']]) for k in author_names}\n",
    "num_trump = {k:(subreddit_tf[author_reverse_dict[k], subreddit_reverse_dict['the_donald']]) for k in author_names}\n",
    "num_clinton = {k:(subreddit_tf[author_reverse_dict[k], subreddit_reverse_dict['hillaryclinton']]) for k in author_names}\n",
    "num_politics = {k:(subreddit_tf[author_reverse_dict[k], subreddit_reverse_dict['politics']]) for k in author_names}\n"
   ]
  },
  {
   "cell_type": "code",
   "execution_count": 155,
   "metadata": {},
   "outputs": [],
   "source": [
    "comment_threshold = 10"
   ]
  },
  {
   "cell_type": "code",
   "execution_count": 156,
   "metadata": {},
   "outputs": [],
   "source": [
    "sanders_user_indices = [i for i in range(subreddit_tf.shape[0]) if num_sanders[author_names[i]] >= comment_threshold]\n",
    "trump_user_indices = [i for i in range(subreddit_tf.shape[0]) if num_trump[author_names[i]] >= comment_threshold]\n",
    "clinton_user_indices = [i for i in range(subreddit_tf.shape[0]) if num_clinton[author_names[i]] >= comment_threshold]"
   ]
  },
  {
   "cell_type": "code",
   "execution_count": 157,
   "metadata": {},
   "outputs": [],
   "source": [
    "none_user_indices = [i for i in range(subreddit_tf.shape[0]) if num_sanders[author_names[i]] == 0 and \n",
    "                     num_trump[author_names[i]] == 0 and\n",
    "                     num_clinton[author_names[i]] == 0]"
   ]
  },
  {
   "cell_type": "code",
   "execution_count": 158,
   "metadata": {},
   "outputs": [
    {
     "name": "stdout",
     "output_type": "stream",
     "text": [
      "1134\n",
      "532\n",
      "108\n",
      "2319\n"
     ]
    }
   ],
   "source": [
    "print(len(sanders_user_indices))\n",
    "print(len(trump_user_indices))\n",
    "print(len(clinton_user_indices))\n",
    "print(len(none_user_indices))"
   ]
  },
  {
   "cell_type": "code",
   "execution_count": 159,
   "metadata": {},
   "outputs": [
    {
     "name": "stdout",
     "output_type": "stream",
     "text": [
      "190\n",
      "66\n",
      "18\n"
     ]
    }
   ],
   "source": [
    "print(len(set(sanders_user_indices).intersection(trump_user_indices)))\n",
    "print(len(set(sanders_user_indices).intersection(clinton_user_indices)))\n",
    "print(len(set(trump_user_indices).intersection(clinton_user_indices)))"
   ]
  },
  {
   "cell_type": "code",
   "execution_count": 170,
   "metadata": {},
   "outputs": [
    {
     "data": {
      "text/plain": [
       "0.19288444992544784"
      ]
     },
     "execution_count": 170,
     "metadata": {},
     "output_type": "execute_result"
    }
   ],
   "source": [
    "np.sum(subreddit_cosine_sims_m[sanders_user_indices, :][:,sanders_user_indices]) / \\\n",
    "(len(sanders_user_indices) * (len(sanders_user_indices)-1))"
   ]
  },
  {
   "cell_type": "code",
   "execution_count": 171,
   "metadata": {},
   "outputs": [
    {
     "data": {
      "text/plain": [
       "0.17563576412155807"
      ]
     },
     "execution_count": 171,
     "metadata": {},
     "output_type": "execute_result"
    }
   ],
   "source": [
    "np.sum(subreddit_cosine_sims_m[trump_user_indices, :][:,trump_user_indices]) / \\\n",
    "(len(trump_user_indices) * (len(trump_user_indices)-1))"
   ]
  },
  {
   "cell_type": "code",
   "execution_count": 172,
   "metadata": {},
   "outputs": [
    {
     "data": {
      "text/plain": [
       "0.22364639482724233"
      ]
     },
     "execution_count": 172,
     "metadata": {},
     "output_type": "execute_result"
    }
   ],
   "source": [
    "np.sum(subreddit_cosine_sims_m[clinton_user_indices, :][:,clinton_user_indices]) / \\\n",
    "(len(clinton_user_indices) * (len(clinton_user_indices)-1))"
   ]
  },
  {
   "cell_type": "code",
   "execution_count": 173,
   "metadata": {},
   "outputs": [
    {
     "data": {
      "text/plain": [
       "0.19935499999311546"
      ]
     },
     "execution_count": 173,
     "metadata": {},
     "output_type": "execute_result"
    }
   ],
   "source": [
    "np.sum(subreddit_cosine_sims_m[none_user_indices, :][:,none_user_indices]) / \\\n",
    "(len(none_user_indices) * (len(none_user_indices)-1))"
   ]
  },
  {
   "cell_type": "code",
   "execution_count": 174,
   "metadata": {},
   "outputs": [
    {
     "data": {
      "text/plain": [
       "0.19392449845126963"
      ]
     },
     "execution_count": 174,
     "metadata": {},
     "output_type": "execute_result"
    }
   ],
   "source": [
    "np.sum(subreddit_cosine_sims_m) / (subreddit_cosine_sims_m.shape[0] * (subreddit_cosine_sims_m.shape[1] - 1))"
   ]
  },
  {
   "cell_type": "code",
   "execution_count": 175,
   "metadata": {},
   "outputs": [
    {
     "name": "stdout",
     "output_type": "stream",
     "text": [
      "0.1827294648398532\n",
      "0.20716723134327786\n",
      "0.19510258557366592\n",
      "\n",
      "0.19488556805113727\n",
      "0.18483218990890482\n",
      "0.2079241832164273\n"
     ]
    }
   ],
   "source": [
    "print(np.sum(subreddit_cosine_sims_m[sanders_user_indices, :][:,trump_user_indices]) / \\\n",
    "((len(sanders_user_indices) * len(trump_user_indices)) - \\\n",
    "len(set(sanders_user_indices).intersection(trump_user_indices))))\n",
    "\n",
    "print(np.sum(subreddit_cosine_sims_m[sanders_user_indices, :][:,clinton_user_indices]) / \\\n",
    "((len(sanders_user_indices) * len(clinton_user_indices)) - \\\n",
    "len(set(sanders_user_indices).intersection(clinton_user_indices))))\n",
    "\n",
    "print(np.sum(subreddit_cosine_sims_m[clinton_user_indices, :][:,trump_user_indices]) / \\\n",
    "((len(clinton_user_indices) * len(trump_user_indices)) - \\\n",
    "len(set(clinton_user_indices).intersection(trump_user_indices))))\n",
    "\n",
    "print()\n",
    "print(np.sum(subreddit_cosine_sims_m[sanders_user_indices, :][:,none_user_indices]) / \\\n",
    "((len(sanders_user_indices) * len(none_user_indices))))\n",
    "print(np.sum(subreddit_cosine_sims_m[trump_user_indices, :][:,none_user_indices]) / \\\n",
    "((len(trump_user_indices) * len(none_user_indices))))\n",
    "print(np.sum(subreddit_cosine_sims_m[clinton_user_indices, :][:,none_user_indices]) / \\\n",
    "((len(clinton_user_indices) * len(none_user_indices))))"
   ]
  },
  {
   "cell_type": "code",
   "execution_count": 176,
   "metadata": {},
   "outputs": [
    {
     "name": "stdout",
     "output_type": "stream",
     "text": [
      "47\n",
      "0.04144620811287478\n",
      "12\n",
      "0.022556390977443608\n",
      "7\n",
      "0.06481481481481481\n",
      "\n",
      "28\n",
      "0.024691358024691357\n",
      "16\n",
      "0.03007518796992481\n",
      "5\n",
      "0.046296296296296294\n",
      "\n",
      "10\n",
      "0.008818342151675485\n",
      "2\n",
      "0.0037593984962406013\n",
      "0\n",
      "0.0\n"
     ]
    }
   ],
   "source": [
    "print(len(set(most_similar_user[sanders_user_indices]).intersection(sanders_user_indices)))\n",
    "print(len(set(most_similar_user[sanders_user_indices]).intersection(sanders_user_indices))/len(sanders_user_indices))\n",
    "print(len(set(most_similar_user[sanders_user_indices]).intersection(trump_user_indices)))\n",
    "print(len(set(most_similar_user[sanders_user_indices]).intersection(trump_user_indices))/len(trump_user_indices))\n",
    "print(len(set(most_similar_user[sanders_user_indices]).intersection(clinton_user_indices)))\n",
    "print(len(set(most_similar_user[sanders_user_indices]).intersection(clinton_user_indices))/len(clinton_user_indices))\n",
    "print()\n",
    "print(len(set(most_similar_user[trump_user_indices]).intersection(sanders_user_indices)))\n",
    "print(len(set(most_similar_user[trump_user_indices]).intersection(sanders_user_indices))/len(sanders_user_indices))\n",
    "print(len(set(most_similar_user[trump_user_indices]).intersection(trump_user_indices)))\n",
    "print(len(set(most_similar_user[trump_user_indices]).intersection(trump_user_indices))/len(trump_user_indices))\n",
    "print(len(set(most_similar_user[trump_user_indices]).intersection(clinton_user_indices)))\n",
    "print(len(set(most_similar_user[trump_user_indices]).intersection(clinton_user_indices))/len(clinton_user_indices))\n",
    "print()\n",
    "print(len(set(most_similar_user[clinton_user_indices]).intersection(sanders_user_indices)))\n",
    "print(len(set(most_similar_user[clinton_user_indices]).intersection(sanders_user_indices))/len(sanders_user_indices))\n",
    "print(len(set(most_similar_user[clinton_user_indices]).intersection(trump_user_indices)))\n",
    "print(len(set(most_similar_user[clinton_user_indices]).intersection(trump_user_indices))/len(trump_user_indices))\n",
    "print(len(set(most_similar_user[clinton_user_indices]).intersection(clinton_user_indices)))\n",
    "print(len(set(most_similar_user[clinton_user_indices]).intersection(clinton_user_indices))/len(clinton_user_indices))\n",
    "\n"
   ]
  },
  {
   "cell_type": "code",
   "execution_count": 177,
   "metadata": {},
   "outputs": [],
   "source": [
    "sanders_sanders_sims = []\n",
    "\n",
    "for i in range(len(sanders_user_indices)):\n",
    "    for j in range(i+1, len(sanders_user_indices)):\n",
    "        sanders_sanders_sims.append(subreddit_cosine_sims_m[sanders_user_indices[i],sanders_user_indices[j]])"
   ]
  },
  {
   "cell_type": "code",
   "execution_count": 178,
   "metadata": {},
   "outputs": [
    {
     "data": {
      "image/png": "[encoded data removed]",
      "text/plain": [
       "<Figure size 432x288 with 1 Axes>"
      ]
     },
     "metadata": {
      "needs_background": "light"
     },
     "output_type": "display_data"
    }
   ],
   "source": [
    "plt.hist(sanders_sanders_sims, range = (0, 1))\n",
    "plt.show()"
   ]
  },
  {
   "cell_type": "code",
   "execution_count": 179,
   "metadata": {},
   "outputs": [],
   "source": [
    "trump_trump_sims = []\n",
    "\n",
    "for i in range(len(trump_user_indices)):\n",
    "    for j in range(i+1, len(trump_user_indices)):\n",
    "        trump_trump_sims.append(subreddit_cosine_sims_m[trump_user_indices[i],trump_user_indices[j]])"
   ]
  },
  {
   "cell_type": "code",
   "execution_count": 180,
   "metadata": {},
   "outputs": [
    {
     "data": {
      "image/png": "[encoded data removed]",
      "text/plain": [
       "<Figure size 432x288 with 1 Axes>"
      ]
     },
     "metadata": {
      "needs_background": "light"
     },
     "output_type": "display_data"
    }
   ],
   "source": [
    "plt.hist(trump_trump_sims, range = (0,1))\n",
    "plt.show()"
   ]
  },
  {
   "cell_type": "code",
   "execution_count": 183,
   "metadata": {},
   "outputs": [],
   "source": [
    "clinton_clinton_sims = []\n",
    "\n",
    "for i in range(len(clinton_user_indices)):\n",
    "    for j in range(i+1, len(clinton_user_indices)):\n",
    "        clinton_clinton_sims.append(subreddit_cosine_sims_m[clinton_user_indices[i],clinton_user_indices[j]])"
   ]
  },
  {
   "cell_type": "code",
   "execution_count": 184,
   "metadata": {
    "scrolled": false
   },
   "outputs": [
    {
     "data": {
      "image/png": "[encoded data removed]",
      "text/plain": [
       "<Figure size 432x288 with 1 Axes>"
      ]
     },
     "metadata": {
      "needs_background": "light"
     },
     "output_type": "display_data"
    }
   ],
   "source": [
    "plt.hist(clinton_clinton_sims, range = (0,1))\n",
    "plt.show()"
   ]
  },
  {
   "cell_type": "code",
   "execution_count": 185,
   "metadata": {},
   "outputs": [
    {
     "data": {
      "image/png": "[encoded data removed]",
      "text/plain": [
       "<Figure size 432x288 with 1 Axes>"
      ]
     },
     "metadata": {
      "needs_background": "light"
     },
     "output_type": "display_data"
    }
   ],
   "source": [
    "none_none_sims = []\n",
    "\n",
    "for i in range(len(none_user_indices)):\n",
    "    for j in range(i+1, len(none_user_indices)):\n",
    "        none_none_sims.append(subreddit_cosine_sims_m[none_user_indices[i],none_user_indices[j]])\n",
    "        \n",
    "plt.hist(none_none_sims, range = (0,1))\n",
    "plt.show()"
   ]
  },
  {
   "cell_type": "code",
   "execution_count": 186,
   "metadata": {},
   "outputs": [
    {
     "data": {
      "image/png": "[encoded data removed]",
      "text/plain": [
       "<Figure size 432x288 with 1 Axes>"
      ]
     },
     "metadata": {
      "needs_background": "light"
     },
     "output_type": "display_data"
    }
   ],
   "source": [
    "sanders_trump_sims = []\n",
    "\n",
    "for i in sanders_user_indices:\n",
    "    for j in trump_user_indices:\n",
    "        if i not in trump_user_indices and j not in sanders_user_indices:\n",
    "            sanders_trump_sims.append(subreddit_cosine_sims_m[i,j])\n",
    "        \n",
    "plt.hist(sanders_trump_sims, range = (0,1))\n",
    "plt.show()"
   ]
  },
  {
   "cell_type": "code",
   "execution_count": 187,
   "metadata": {},
   "outputs": [
    {
     "data": {
      "image/png": "[encoded data removed]",
      "text/plain": [
       "<Figure size 432x288 with 1 Axes>"
      ]
     },
     "metadata": {
      "needs_background": "light"
     },
     "output_type": "display_data"
    }
   ],
   "source": [
    "sanders_clinton_sims = []\n",
    "\n",
    "for i in sanders_user_indices:\n",
    "    for j in clinton_user_indices:\n",
    "        if i not in clinton_user_indices and j not in sanders_user_indices:\n",
    "            sanders_clinton_sims.append(subreddit_cosine_sims_m[i,j])\n",
    "        \n",
    "plt.hist(sanders_clinton_sims, range = (0,1))\n",
    "plt.show()"
   ]
  },
  {
   "cell_type": "code",
   "execution_count": 188,
   "metadata": {
    "scrolled": true
   },
   "outputs": [
    {
     "data": {
      "image/png": "[encoded data removed]",
      "text/plain": [
       "<Figure size 432x288 with 1 Axes>"
      ]
     },
     "metadata": {
      "needs_background": "light"
     },
     "output_type": "display_data"
    }
   ],
   "source": [
    "clinton_trump_sims = []\n",
    "\n",
    "for i in clinton_user_indices:\n",
    "    for j in trump_user_indices:\n",
    "        if i not in trump_user_indices and j not in clinton_user_indices:\n",
    "            clinton_trump_sims.append(subreddit_cosine_sims_m[i,j])\n",
    "        \n",
    "plt.hist(clinton_trump_sims, range = (0,1))\n",
    "plt.show()"
   ]
  },
  {
   "cell_type": "markdown",
   "metadata": {},
   "source": [
    "## Use SVD"
   ]
  },
  {
   "cell_type": "code",
   "execution_count": 190,
   "metadata": {},
   "outputs": [],
   "source": [
    "user_svd = TruncatedSVD(n_components = 100)\n",
    "user_svd_points = user_svd.fit_transform(user_tfidf_m)"
   ]
  },
  {
   "cell_type": "code",
   "execution_count": 192,
   "metadata": {},
   "outputs": [],
   "source": [
    "user_svd_norms = norm(user_svd_points, axis=1)"
   ]
  },
  {
   "cell_type": "code",
   "execution_count": 193,
   "metadata": {},
   "outputs": [
    {
     "data": {
      "text/plain": [
       "array([2.08314362, 2.33213009, 1.71683248, 3.01522608, 2.44785637,\n",
       "       2.61072912, 2.3575209 , 2.68044509, 2.62834939, 2.65798583])"
      ]
     },
     "execution_count": 193,
     "metadata": {},
     "output_type": "execute_result"
    }
   ],
   "source": [
    "user_svd_norms[:10]"
   ]
  },
  {
   "cell_type": "code",
   "execution_count": 194,
   "metadata": {},
   "outputs": [],
   "source": [
    "user_svd_normalized = user_svd_points / user_svd_norms[:, np.newaxis]"
   ]
  },
  {
   "cell_type": "code",
   "execution_count": 42,
   "metadata": {},
   "outputs": [],
   "source": [
    "svd_cosine_sims = user_svd_normalized.dot(csc_matrix(us))"
   ]
  },
  {
   "cell_type": "code",
   "execution_count": 43,
   "metadata": {},
   "outputs": [],
   "source": [
    "for i in range(20):\n",
    "    chunk1 = csr_matrix(user_svd_normalized[i*1000 : (i+1)*1000, :])\n",
    "    for j in range(i,20):\n",
    "        chunk2 = csc_matrix(user_svd_normalized[j*1000 : (j+1)*1000, :].T)\n",
    "        svd_cosine_sims[i*1000 : (i+1)*1000, j*1000 : (j+1)*1000] = chunk1.dot(chunk2).toarray()\n"
   ]
  },
  {
   "cell_type": "code",
   "execution_count": 44,
   "metadata": {},
   "outputs": [
    {
     "data": {
      "text/plain": [
       "array([[1.        , 0.59783156, 0.40808062, 0.62739787, 0.78348443,\n",
       "        0.58775661, 0.79592686, 0.83958192, 0.11066431, 0.77334763],\n",
       "       [0.59783156, 1.        , 0.3494453 , 0.70089828, 0.6741954 ,\n",
       "        0.50892622, 0.69959947, 0.70931297, 0.09492274, 0.68977752],\n",
       "       [0.40808062, 0.3494453 , 1.        , 0.72766971, 0.20737886,\n",
       "        0.34067713, 0.3402866 , 0.35578086, 0.04695287, 0.35552503],\n",
       "       [0.62739787, 0.70089828, 0.72766971, 1.        , 0.55633985,\n",
       "        0.47124046, 0.67937756, 0.70789241, 0.06972697, 0.67992669],\n",
       "       [0.78348443, 0.6741954 , 0.20737886, 0.55633985, 1.        ,\n",
       "        0.68528983, 0.90414785, 0.93492961, 0.13880342, 0.79163326],\n",
       "       [0.58775661, 0.50892622, 0.34067713, 0.47124046, 0.68528983,\n",
       "        1.        , 0.63408559, 0.61578314, 0.15669713, 0.66496741],\n",
       "       [0.79592686, 0.69959947, 0.3402866 , 0.67937756, 0.90414785,\n",
       "        0.63408559, 1.        , 0.93237353, 0.10502594, 0.85535597],\n",
       "       [0.83958192, 0.70931297, 0.35578086, 0.70789241, 0.93492961,\n",
       "        0.61578314, 0.93237353, 1.        , 0.1073098 , 0.88237581],\n",
       "       [0.11066431, 0.09492274, 0.04695287, 0.06972697, 0.13880342,\n",
       "        0.15669713, 0.10502594, 0.1073098 , 1.        , 0.13266508],\n",
       "       [0.77334763, 0.68977752, 0.35552503, 0.67992669, 0.79163326,\n",
       "        0.66496741, 0.85535597, 0.88237581, 0.13266508, 1.        ]])"
      ]
     },
     "execution_count": 44,
     "metadata": {},
     "output_type": "execute_result"
    }
   ],
   "source": [
    "svd_cosine_sims[:10,:10]"
   ]
  },
  {
   "cell_type": "code",
   "execution_count": 45,
   "metadata": {},
   "outputs": [],
   "source": [
    "for i in range(subreddit_tfidf.shape[0]):\n",
    "    svd_cosine_sims[i,i] = 0"
   ]
  },
  {
   "cell_type": "code",
   "execution_count": 46,
   "metadata": {},
   "outputs": [],
   "source": [
    "for i in range(20):\n",
    "    for j in range(i):\n",
    "        svd_cosine_sims[i*1000 : (i+1)*1000, j*1000 : (j+1)*1000] = \\\n",
    "svd_cosine_sims[j*1000 : (j+1)*1000, i*1000 : (i+1)*1000].T"
   ]
  },
  {
   "cell_type": "code",
   "execution_count": 47,
   "metadata": {},
   "outputs": [
    {
     "data": {
      "text/plain": [
       "0.508960569591113"
      ]
     },
     "execution_count": 47,
     "metadata": {},
     "output_type": "execute_result"
    }
   ],
   "source": [
    "svd_cosine_sims[3872,10415]"
   ]
  },
  {
   "cell_type": "code",
   "execution_count": 48,
   "metadata": {},
   "outputs": [
    {
     "data": {
      "text/plain": [
       "0.508960569591113"
      ]
     },
     "execution_count": 48,
     "metadata": {},
     "output_type": "execute_result"
    }
   ],
   "source": [
    "svd_cosine_sims[10415,3872]"
   ]
  },
  {
   "cell_type": "code",
   "execution_count": 49,
   "metadata": {},
   "outputs": [],
   "source": [
    "# with open(\"stored_variables/user_subreddit_tfidf_cossims_svd.pickle\", \"wb\") as f:\n",
    "#     pickle.dump(svd_cosine_sims, f)\n",
    "    \n",
    "with open(\"stored_variables/user_subreddit_tfidf_cossims_svd.pickle\", \"rb\") as f:\n",
    "    svd_cosine_sims = pickle.load(f)"
   ]
  },
  {
   "cell_type": "code",
   "execution_count": 50,
   "metadata": {},
   "outputs": [],
   "source": [
    "most_similar_user_svd = np.zeros(subreddit_tfidf.shape[0], dtype = np.int32)"
   ]
  },
  {
   "cell_type": "code",
   "execution_count": 51,
   "metadata": {},
   "outputs": [],
   "source": [
    "for i in range(subreddit_tfidf.shape[0]):\n",
    "    most_similar_user_svd[i] = np.argsort(svd_cosine_sims[i])[-1]"
   ]
  },
  {
   "cell_type": "code",
   "execution_count": 52,
   "metadata": {},
   "outputs": [
    {
     "data": {
      "text/plain": [
       "array([   26,    16,   828,   946,    55,   387,    64,   942, 12012,\n",
       "          43], dtype=int32)"
      ]
     },
     "execution_count": 52,
     "metadata": {},
     "output_type": "execute_result"
    }
   ],
   "source": [
    "most_similar_user_svd[:10]"
   ]
  },
  {
   "cell_type": "code",
   "execution_count": 53,
   "metadata": {
    "scrolled": false
   },
   "outputs": [
    {
     "data": {
      "text/plain": [
       "[0.9050887691107955,\n",
       " 0.8608446140501907,\n",
       " 0.9729882375039631,\n",
       " 0.9844443954397757,\n",
       " 0.9586222798420735,\n",
       " 0.7786442459705354,\n",
       " 0.9594219256049812,\n",
       " 0.9672330120406901,\n",
       " 0.9878724312473057,\n",
       " 0.9254776235273965]"
      ]
     },
     "execution_count": 53,
     "metadata": {},
     "output_type": "execute_result"
    }
   ],
   "source": [
    "[svd_cosine_sims[i, most_similar_user_svd[i]] for i in range(10)]"
   ]
  },
  {
   "cell_type": "code",
   "execution_count": 54,
   "metadata": {},
   "outputs": [
    {
     "data": {
      "text/plain": [
       "0.2746565831547423"
      ]
     },
     "execution_count": 54,
     "metadata": {},
     "output_type": "execute_result"
    }
   ],
   "source": [
    "np.sum(svd_cosine_sims[sanders_user_indices, :][:,sanders_user_indices]) / \\\n",
    "(len(sanders_user_indices) * (len(sanders_user_indices)-1))"
   ]
  },
  {
   "cell_type": "code",
   "execution_count": 50,
   "metadata": {},
   "outputs": [
    {
     "data": {
      "text/plain": [
       "0.21710989100375805"
      ]
     },
     "execution_count": 50,
     "metadata": {},
     "output_type": "execute_result"
    }
   ],
   "source": [
    "np.sum(svd_cosine_sims[trump_user_indices, :][:,trump_user_indices]) / \\\n",
    "(len(trump_user_indices) * (len(trump_user_indices)-1))"
   ]
  },
  {
   "cell_type": "code",
   "execution_count": 51,
   "metadata": {},
   "outputs": [
    {
     "data": {
      "text/plain": [
       "0.21334667040884386"
      ]
     },
     "execution_count": 51,
     "metadata": {},
     "output_type": "execute_result"
    }
   ],
   "source": [
    "np.sum(svd_cosine_sims[clinton_user_indices, :][:,clinton_user_indices]) / \\\n",
    "(len(clinton_user_indices) * (len(clinton_user_indices)-1))"
   ]
  },
  {
   "cell_type": "code",
   "execution_count": 52,
   "metadata": {},
   "outputs": [
    {
     "data": {
      "text/plain": [
       "0.2539389270388249"
      ]
     },
     "execution_count": 52,
     "metadata": {},
     "output_type": "execute_result"
    }
   ],
   "source": [
    "np.sum(svd_cosine_sims[none_user_indices, :][:,none_user_indices]) / \\\n",
    "(len(none_user_indices) * (len(none_user_indices)-1))"
   ]
  },
  {
   "cell_type": "code",
   "execution_count": 53,
   "metadata": {},
   "outputs": [
    {
     "data": {
      "text/plain": [
       "0.24007926917094521"
      ]
     },
     "execution_count": 53,
     "metadata": {},
     "output_type": "execute_result"
    }
   ],
   "source": [
    "np.sum(svd_cosine_sims) / (svd_cosine_sims.shape[0] * (svd_cosine_sims.shape[1] - 1))"
   ]
  },
  {
   "cell_type": "code",
   "execution_count": 54,
   "metadata": {},
   "outputs": [
    {
     "name": "stdout",
     "output_type": "stream",
     "text": [
      "0.20419046548735034\n",
      "0.21317712992273619\n",
      "0.17377190941889184\n",
      "\n",
      "0.21264203696022654\n",
      "0.21382045741031738\n",
      "0.16923178232681446\n"
     ]
    }
   ],
   "source": [
    "print(np.sum(svd_cosine_sims[sanders_user_indices, :][:,trump_user_indices]) / \\\n",
    "((len(sanders_user_indices) * len(trump_user_indices)) - \\\n",
    "len(set(sanders_user_indices).intersection(trump_user_indices))))\n",
    "\n",
    "print(np.sum(svd_cosine_sims[sanders_user_indices, :][:,clinton_user_indices]) / \\\n",
    "((len(sanders_user_indices) * len(clinton_user_indices)) - \\\n",
    "len(set(sanders_user_indices).intersection(clinton_user_indices))))\n",
    "\n",
    "print(np.sum(svd_cosine_sims[clinton_user_indices, :][:,trump_user_indices]) / \\\n",
    "((len(clinton_user_indices) * len(trump_user_indices)) - \\\n",
    "len(set(clinton_user_indices).intersection(trump_user_indices))))\n",
    "\n",
    "print()\n",
    "print(np.sum(svd_cosine_sims[sanders_user_indices, :][:,none_user_indices]) / \\\n",
    "((len(sanders_user_indices) * len(none_user_indices))))\n",
    "print(np.sum(svd_cosine_sims[trump_user_indices, :][:,none_user_indices]) / \\\n",
    "((len(trump_user_indices) * len(none_user_indices))))\n",
    "print(np.sum(svd_cosine_sims[clinton_user_indices, :][:,none_user_indices]) / \\\n",
    "((len(clinton_user_indices) * len(none_user_indices))))"
   ]
  },
  {
   "cell_type": "code",
   "execution_count": 55,
   "metadata": {},
   "outputs": [
    {
     "name": "stdout",
     "output_type": "stream",
     "text": [
      "385\n",
      "0.2472703917790623\n",
      "84\n",
      "0.09140369967355821\n",
      "23\n",
      "0.1678832116788321\n",
      "\n",
      "77\n",
      "0.04945407835581246\n",
      "129\n",
      "0.14036996735582155\n",
      "9\n",
      "0.06569343065693431\n",
      "\n",
      "32\n",
      "0.020552344251766216\n",
      "8\n",
      "0.008705114254624592\n",
      "12\n",
      "0.08759124087591241\n"
     ]
    }
   ],
   "source": [
    "print(len(set(most_similar_user_svd[sanders_user_indices]).intersection(sanders_user_indices)))\n",
    "print(len(set(most_similar_user_svd[sanders_user_indices]).intersection(sanders_user_indices))/len(sanders_user_indices))\n",
    "print(len(set(most_similar_user_svd[sanders_user_indices]).intersection(trump_user_indices)))\n",
    "print(len(set(most_similar_user_svd[sanders_user_indices]).intersection(trump_user_indices))/len(trump_user_indices))\n",
    "print(len(set(most_similar_user_svd[sanders_user_indices]).intersection(clinton_user_indices)))\n",
    "print(len(set(most_similar_user_svd[sanders_user_indices]).intersection(clinton_user_indices))/len(clinton_user_indices))\n",
    "print()\n",
    "print(len(set(most_similar_user_svd[trump_user_indices]).intersection(sanders_user_indices)))\n",
    "print(len(set(most_similar_user_svd[trump_user_indices]).intersection(sanders_user_indices))/len(sanders_user_indices))\n",
    "print(len(set(most_similar_user_svd[trump_user_indices]).intersection(trump_user_indices)))\n",
    "print(len(set(most_similar_user_svd[trump_user_indices]).intersection(trump_user_indices))/len(trump_user_indices))\n",
    "print(len(set(most_similar_user_svd[trump_user_indices]).intersection(clinton_user_indices)))\n",
    "print(len(set(most_similar_user_svd[trump_user_indices]).intersection(clinton_user_indices))/len(clinton_user_indices))\n",
    "print()\n",
    "print(len(set(most_similar_user_svd[clinton_user_indices]).intersection(sanders_user_indices)))\n",
    "print(len(set(most_similar_user_svd[clinton_user_indices]).intersection(sanders_user_indices))/len(sanders_user_indices))\n",
    "print(len(set(most_similar_user_svd[clinton_user_indices]).intersection(trump_user_indices)))\n",
    "print(len(set(most_similar_user_svd[clinton_user_indices]).intersection(trump_user_indices))/len(trump_user_indices))\n",
    "print(len(set(most_similar_user_svd[clinton_user_indices]).intersection(clinton_user_indices)))\n",
    "print(len(set(most_similar_user_svd[clinton_user_indices]).intersection(clinton_user_indices))/len(clinton_user_indices))\n",
    "\n"
   ]
  },
  {
   "cell_type": "code",
   "execution_count": 55,
   "metadata": {},
   "outputs": [],
   "source": [
    "sanders_sanders_sims = []\n",
    "\n",
    "for i in range(len(sanders_user_indices)):\n",
    "    for j in range(i+1, len(sanders_user_indices)):\n",
    "        sanders_sanders_sims.append(svd_cosine_sims[sanders_user_indices[i],sanders_user_indices[j]])"
   ]
  },
  {
   "cell_type": "code",
   "execution_count": 56,
   "metadata": {},
   "outputs": [
    {
     "data": {
      "image/png": "[encoded data removed]",
      "text/plain": [
       "<Figure size 432x288 with 1 Axes>"
      ]
     },
     "metadata": {
      "needs_background": "light"
     },
     "output_type": "display_data"
    }
   ],
   "source": [
    "plt.hist(sanders_sanders_sims, range = (-1,1))\n",
    "plt.show()"
   ]
  },
  {
   "cell_type": "code",
   "execution_count": 57,
   "metadata": {},
   "outputs": [],
   "source": [
    "trump_trump_sims = []\n",
    "\n",
    "for i in range(len(trump_user_indices)):\n",
    "    for j in range(i+1, len(trump_user_indices)):\n",
    "        trump_trump_sims.append(svd_cosine_sims[trump_user_indices[i],trump_user_indices[j]])"
   ]
  },
  {
   "cell_type": "code",
   "execution_count": 58,
   "metadata": {
    "scrolled": true
   },
   "outputs": [
    {
     "data": {
      "image/png": "[encoded data removed]",
      "text/plain": [
       "<Figure size 432x288 with 1 Axes>"
      ]
     },
     "metadata": {
      "needs_background": "light"
     },
     "output_type": "display_data"
    }
   ],
   "source": [
    "plt.hist(trump_trump_sims, range = (-1,1) )\n",
    "plt.show()"
   ]
  },
  {
   "cell_type": "code",
   "execution_count": 59,
   "metadata": {},
   "outputs": [],
   "source": [
    "clinton_clinton_sims = []\n",
    "\n",
    "for i in range(len(clinton_user_indices)):\n",
    "    for j in range(i+1, len(clinton_user_indices)):\n",
    "        clinton_clinton_sims.append(svd_cosine_sims[clinton_user_indices[i],clinton_user_indices[j]])"
   ]
  },
  {
   "cell_type": "code",
   "execution_count": 60,
   "metadata": {
    "scrolled": true
   },
   "outputs": [
    {
     "data": {
      "image/png": "[encoded data removed]",
      "text/plain": [
       "<Figure size 432x288 with 1 Axes>"
      ]
     },
     "metadata": {
      "needs_background": "light"
     },
     "output_type": "display_data"
    }
   ],
   "source": [
    "plt.hist(clinton_clinton_sims, range = (-1,1))\n",
    "plt.show()"
   ]
  },
  {
   "cell_type": "code",
   "execution_count": 61,
   "metadata": {},
   "outputs": [
    {
     "data": {
      "image/png": "[encoded data removed]",
      "text/plain": [
       "<Figure size 432x288 with 1 Axes>"
      ]
     },
     "metadata": {
      "needs_background": "light"
     },
     "output_type": "display_data"
    }
   ],
   "source": [
    "plt.hist(svd_cosine_sims.flatten(), range=(-1,1))\n",
    "plt.show()"
   ]
  },
  {
   "cell_type": "code",
   "execution_count": 63,
   "metadata": {},
   "outputs": [],
   "source": [
    "most_similar_50_users_svd = np.zeros((subreddit_tfidf.shape[0],50), dtype = np.int32)\n",
    "\n",
    "for i in range(subreddit_tfidf.shape[0]):\n",
    "    most_similar_50_users_svd[i] = np.flip(np.argsort(svd_cosine_sims[i])[-50:])\n"
   ]
  },
  {
   "cell_type": "code",
   "execution_count": 64,
   "metadata": {},
   "outputs": [
    {
     "data": {
      "text/plain": [
       "array([  26,   14,    7,  531,   10,   35,  942,  882,    6,  102,  494,\n",
       "          4,  111,   48,  353,  288,   64,    9,  131,   43,  105,   20,\n",
       "        418,  839,   55,  571,  168,   88,   37,  383,  276,  425,   62,\n",
       "         70, 1178,  644,   22,  240,  109,   93,   95,  143,  473,  307,\n",
       "        504,   80,   44,   85,  609, 1055], dtype=int32)"
      ]
     },
     "execution_count": 64,
     "metadata": {},
     "output_type": "execute_result"
    }
   ],
   "source": [
    "most_similar_50_users_svd[0]"
   ]
  },
  {
   "cell_type": "code",
   "execution_count": 65,
   "metadata": {},
   "outputs": [],
   "source": [
    "most_similar_50_set = [set(i) for i in most_similar_50_users_svd]"
   ]
  },
  {
   "cell_type": "code",
   "execution_count": 81,
   "metadata": {},
   "outputs": [
    {
     "name": "stdout",
     "output_type": "stream",
     "text": [
      "14.33140655105973\n",
      "6.0\n",
      "103.33847141939627\n",
      "203.71379310344827\n"
     ]
    }
   ],
   "source": [
    "print(np.mean([len(most_similar_50_set[i].intersection(sanders_user_indices)) for i in sanders_user_indices]))\n",
    "print(np.median([len(most_similar_50_set[i].intersection(sanders_user_indices)) for i in sanders_user_indices]))\n",
    "print(np.mean([num_sanders[author_names[i]] for i in sanders_user_indices]))\n",
    "print(np.mean([num_sanders[author_names[i]] for i in sanders_user_indices if len(most_similar_50_set[i].intersection(sanders_user_indices)) >= 10]))\n"
   ]
  },
  {
   "cell_type": "code",
   "execution_count": 82,
   "metadata": {},
   "outputs": [
    {
     "data": {
      "image/png": "[encoded data removed]",
      "text/plain": [
       "<Figure size 432x288 with 1 Axes>"
      ]
     },
     "metadata": {
      "needs_background": "light"
     },
     "output_type": "display_data"
    }
   ],
   "source": [
    "plt.hist([len(most_similar_50_set[i].intersection(sanders_user_indices)) for i in sanders_user_indices], range = (0,50))\n",
    "plt.show()"
   ]
  },
  {
   "cell_type": "code",
   "execution_count": 83,
   "metadata": {},
   "outputs": [
    {
     "name": "stdout",
     "output_type": "stream",
     "text": [
      "580\n",
      "335\n"
     ]
    }
   ],
   "source": [
    "print(sum([1 for i in sanders_user_indices if len(most_similar_50_set[i].intersection(sanders_user_indices)) >= 10]))\n",
    "print(sum([1 for i in sanders_user_indices if len(most_similar_50_set[i].intersection(sanders_user_indices)) >= 30]))"
   ]
  },
  {
   "cell_type": "code",
   "execution_count": 84,
   "metadata": {},
   "outputs": [
    {
     "name": "stdout",
     "output_type": "stream",
     "text": [
      "7.269858541893362\n",
      "3.0\n",
      "140\n",
      "77\n",
      "97.14907508161045\n",
      "253.77857142857144\n"
     ]
    },
    {
     "data": {
      "image/png": "[encoded data removed]",
      "text/plain": [
       "<Figure size 432x288 with 1 Axes>"
      ]
     },
     "metadata": {
      "needs_background": "light"
     },
     "output_type": "display_data"
    }
   ],
   "source": [
    "print(np.mean([len(most_similar_50_set[i].intersection(trump_user_indices)) for i in trump_user_indices]))\n",
    "print(np.median([len(most_similar_50_set[i].intersection(trump_user_indices)) for i in trump_user_indices]))\n",
    "print(sum([1 for i in trump_user_indices if len(most_similar_50_set[i].intersection(trump_user_indices)) >= 10]))\n",
    "print(sum([1 for i in trump_user_indices if len(most_similar_50_set[i].intersection(trump_user_indices)) >= 30]))\n",
    "print(np.mean([num_trump[author_names[i]] for i in trump_user_indices]))\n",
    "print(np.mean([num_trump[author_names[i]] for i in trump_user_indices if len(most_similar_50_set[i].intersection(trump_user_indices)) >= 10]))\n",
    "\n",
    "plt.hist([len(most_similar_50_set[i].intersection(trump_user_indices)) for i in trump_user_indices], range = (0,50))\n",
    "plt.show()"
   ]
  },
  {
   "cell_type": "code",
   "execution_count": 85,
   "metadata": {
    "scrolled": true
   },
   "outputs": [
    {
     "name": "stdout",
     "output_type": "stream",
     "text": [
      "1.8759124087591241\n",
      "1.0\n",
      "2\n",
      "0\n",
      "95.81751824817518\n",
      "152.5\n"
     ]
    },
    {
     "data": {
      "image/png": "[encoded data removed]",
      "text/plain": [
       "<Figure size 432x288 with 1 Axes>"
      ]
     },
     "metadata": {
      "needs_background": "light"
     },
     "output_type": "display_data"
    }
   ],
   "source": [
    "print(np.mean([len(most_similar_50_set[i].intersection(clinton_user_indices)) for i in clinton_user_indices]))\n",
    "print(np.median([len(most_similar_50_set[i].intersection(clinton_user_indices)) for i in clinton_user_indices]))\n",
    "print(sum([1 for i in clinton_user_indices if len(most_similar_50_set[i].intersection(clinton_user_indices)) >= 10]))\n",
    "print(sum([1 for i in clinton_user_indices if len(most_similar_50_set[i].intersection(clinton_user_indices)) >= 30]))\n",
    "print(np.mean([num_clinton[author_names[i]] for i in clinton_user_indices]))\n",
    "print(np.mean([num_clinton[author_names[i]] for i in clinton_user_indices if len(most_similar_50_set[i].intersection(clinton_user_indices)) >= 10]))\n",
    "\n",
    "\n",
    "plt.hist([len(most_similar_50_set[i].intersection(clinton_user_indices)) for i in clinton_user_indices], range = (0,50))\n",
    "plt.show()"
   ]
  },
  {
   "cell_type": "code",
   "execution_count": 66,
   "metadata": {},
   "outputs": [
    {
     "data": {
      "image/png": "[encoded data removed]",
      "text/plain": [
       "<Figure size 432x288 with 1 Axes>"
      ]
     },
     "metadata": {
      "needs_background": "light"
     },
     "output_type": "display_data"
    }
   ],
   "source": [
    "plt.hist([len(most_similar_50_set[i].intersection(none_user_indices)) for i in none_user_indices], range = (0,50))\n",
    "plt.show()"
   ]
  },
  {
   "cell_type": "markdown",
   "metadata": {},
   "source": [
    "## Try with Music and HipHopHeads"
   ]
  },
  {
   "cell_type": "code",
   "execution_count": 68,
   "metadata": {},
   "outputs": [],
   "source": [
    "num_music = {k:(subreddit_tf[author_reverse_dict[k], subreddit_reverse_dict['music']]) for k in author_names}\n",
    "num_hhh = {k:(subreddit_tf[author_reverse_dict[k], subreddit_reverse_dict['hiphopheads']]) for k in author_names}\n"
   ]
  },
  {
   "cell_type": "code",
   "execution_count": 69,
   "metadata": {},
   "outputs": [
    {
     "name": "stdout",
     "output_type": "stream",
     "text": [
      "2176\n",
      "590\n"
     ]
    }
   ],
   "source": [
    "music_user_indices = [i for i in range(subreddit_tf.shape[0]) if num_music[author_names[i]] >= comment_threshold]\n",
    "print(len(music_user_indices))\n",
    "hhh_user_indices = [i for i in range(subreddit_tf.shape[0]) if num_hhh[author_names[i]] >= comment_threshold]\n",
    "print(len(hhh_user_indices))\n"
   ]
  },
  {
   "cell_type": "code",
   "execution_count": 88,
   "metadata": {},
   "outputs": [
    {
     "data": {
      "text/plain": [
       "0.3541934109154698"
      ]
     },
     "execution_count": 88,
     "metadata": {},
     "output_type": "execute_result"
    }
   ],
   "source": [
    "np.sum(svd_cosine_sims[music_user_indices, :][:,music_user_indices]) / \\\n",
    "(len(music_user_indices) * (len(music_user_indices)-1))"
   ]
  },
  {
   "cell_type": "code",
   "execution_count": 89,
   "metadata": {},
   "outputs": [
    {
     "data": {
      "text/plain": [
       "0.25303707224553496"
      ]
     },
     "execution_count": 89,
     "metadata": {},
     "output_type": "execute_result"
    }
   ],
   "source": [
    "np.sum(svd_cosine_sims[hhh_user_indices, :][:,hhh_user_indices]) / \\\n",
    "(len(hhh_user_indices) * (len(hhh_user_indices)-1))"
   ]
  },
  {
   "cell_type": "code",
   "execution_count": 90,
   "metadata": {},
   "outputs": [
    {
     "name": "stdout",
     "output_type": "stream",
     "text": [
      "0.2368393542015716\n"
     ]
    }
   ],
   "source": [
    "print(np.sum(svd_cosine_sims[music_user_indices, :][:,hhh_user_indices]) / \\\n",
    "((len(music_user_indices) * len(hhh_user_indices)) - \\\n",
    "len(set(music_user_indices).intersection(hhh_user_indices))))\n"
   ]
  },
  {
   "cell_type": "code",
   "execution_count": 91,
   "metadata": {
    "scrolled": true
   },
   "outputs": [
    {
     "name": "stdout",
     "output_type": "stream",
     "text": [
      "356\n",
      "0.1636029411764706\n",
      "74\n",
      "0.12542372881355932\n",
      "143\n",
      "0.2423728813559322\n",
      "101\n",
      "0.04641544117647059\n"
     ]
    }
   ],
   "source": [
    "print(len(set(most_similar_user_svd[music_user_indices]).intersection(music_user_indices)))\n",
    "print(len(set(most_similar_user_svd[music_user_indices]).intersection(music_user_indices))/len(music_user_indices))\n",
    "print(len(set(most_similar_user_svd[music_user_indices]).intersection(hhh_user_indices)))\n",
    "print(len(set(most_similar_user_svd[music_user_indices]).intersection(hhh_user_indices))/len(hhh_user_indices))\n",
    "\n",
    "print(len(set(most_similar_user_svd[hhh_user_indices]).intersection(hhh_user_indices)))\n",
    "print(len(set(most_similar_user_svd[hhh_user_indices]).intersection(hhh_user_indices))/len(hhh_user_indices))\n",
    "print(len(set(most_similar_user_svd[hhh_user_indices]).intersection(music_user_indices)))\n",
    "print(len(set(most_similar_user_svd[hhh_user_indices]).intersection(music_user_indices))/len(music_user_indices))"
   ]
  },
  {
   "cell_type": "code",
   "execution_count": 70,
   "metadata": {},
   "outputs": [],
   "source": [
    "music_music_sims = []\n",
    "\n",
    "for i in range(len(music_user_indices)):\n",
    "    for j in range(i+1, len(music_user_indices)):\n",
    "        music_music_sims.append(svd_cosine_sims[music_user_indices[i],music_user_indices[j]])"
   ]
  },
  {
   "cell_type": "code",
   "execution_count": 71,
   "metadata": {},
   "outputs": [
    {
     "data": {
      "image/png": "[encoded data removed]",
      "text/plain": [
       "<Figure size 432x288 with 1 Axes>"
      ]
     },
     "metadata": {
      "needs_background": "light"
     },
     "output_type": "display_data"
    }
   ],
   "source": [
    "plt.hist(music_music_sims, range = (-1,1))\n",
    "plt.show()"
   ]
  },
  {
   "cell_type": "code",
   "execution_count": 72,
   "metadata": {},
   "outputs": [],
   "source": [
    "hhh_hhh_sims = []\n",
    "\n",
    "for i in range(len(hhh_user_indices)):\n",
    "    for j in range(i+1, len(hhh_user_indices)):\n",
    "        hhh_hhh_sims.append(svd_cosine_sims[hhh_user_indices[i],hhh_user_indices[j]])"
   ]
  },
  {
   "cell_type": "code",
   "execution_count": 73,
   "metadata": {
    "scrolled": true
   },
   "outputs": [
    {
     "data": {
      "image/png": "[encoded data removed]",
      "text/plain": [
       "<Figure size 432x288 with 1 Axes>"
      ]
     },
     "metadata": {
      "needs_background": "light"
     },
     "output_type": "display_data"
    }
   ],
   "source": [
    "plt.hist(hhh_hhh_sims, range = (-1,1) )\n",
    "plt.show()"
   ]
  },
  {
   "cell_type": "code",
   "execution_count": 74,
   "metadata": {},
   "outputs": [
    {
     "name": "stdout",
     "output_type": "stream",
     "text": [
      "8.943014705882353\n",
      "8.0\n",
      "899\n",
      "0\n",
      "37.385110294117645\n",
      "39.22691879866518\n"
     ]
    },
    {
     "data": {
      "image/png": "[encoded data removed]",
      "text/plain": [
       "<Figure size 432x288 with 1 Axes>"
      ]
     },
     "metadata": {
      "needs_background": "light"
     },
     "output_type": "display_data"
    }
   ],
   "source": [
    "print(np.mean([len(most_similar_50_set[i].intersection(music_user_indices)) for i in music_user_indices]))\n",
    "print(np.median([len(most_similar_50_set[i].intersection(music_user_indices)) for i in music_user_indices]))\n",
    "print(sum([1 for i in music_user_indices if len(most_similar_50_set[i].intersection(music_user_indices)) >= 10]))\n",
    "print(sum([1 for i in music_user_indices if len(most_similar_50_set[i].intersection(music_user_indices)) >= 30]))\n",
    "print(np.mean([num_music[author_names[i]] for i in music_user_indices]))\n",
    "print(np.mean([num_music[author_names[i]] for i in music_user_indices if len(most_similar_50_set[i].intersection(music_user_indices)) >= 10]))\n",
    "\n",
    "plt.hist([len(most_similar_50_set[i].intersection(music_user_indices)) for i in music_user_indices], range = (0,50))\n",
    "plt.show()"
   ]
  },
  {
   "cell_type": "code",
   "execution_count": 97,
   "metadata": {},
   "outputs": [
    {
     "name": "stdout",
     "output_type": "stream",
     "text": [
      "12.686440677966102\n",
      "4.0\n",
      "179\n",
      "119\n",
      "128.61016949152543\n",
      "287.92737430167597\n"
     ]
    },
    {
     "data": {
      "image/png": "[encoded data removed]",
      "text/plain": [
       "<Figure size 432x288 with 1 Axes>"
      ]
     },
     "metadata": {
      "needs_background": "light"
     },
     "output_type": "display_data"
    }
   ],
   "source": [
    "print(np.mean([len(most_similar_50_set[i].intersection(hhh_user_indices)) for i in hhh_user_indices]))\n",
    "print(np.median([len(most_similar_50_set[i].intersection(hhh_user_indices)) for i in hhh_user_indices]))\n",
    "print(sum([1 for i in hhh_user_indices if len(most_similar_50_set[i].intersection(hhh_user_indices)) >= 10]))\n",
    "print(sum([1 for i in hhh_user_indices if len(most_similar_50_set[i].intersection(hhh_user_indices)) >= 30]))\n",
    "print(np.mean([num_hhh[author_names[i]] for i in hhh_user_indices]))\n",
    "print(np.mean([num_hhh[author_names[i]] for i in hhh_user_indices if len(most_similar_50_set[i].intersection(hhh_user_indices)) >= 10]))\n",
    "\n",
    "plt.hist([len(most_similar_50_set[i].intersection(hhh_user_indices)) for i in hhh_user_indices], range = (0,50))\n",
    "plt.show()"
   ]
  },
  {
   "cell_type": "markdown",
   "metadata": {},
   "source": [
    "## Check if similarities persist after removing SFP, TD, HC"
   ]
  },
  {
   "cell_type": "code",
   "execution_count": 14,
   "metadata": {},
   "outputs": [
    {
     "name": "stderr",
     "output_type": "stream",
     "text": [
      "/usr/local/anaconda3/lib/python3.7/site-packages/scipy/sparse/_index.py:127: SparseEfficiencyWarning: Changing the sparsity structure of a csc_matrix is expensive. lil_matrix is more efficient.\n",
      "  self._set_arrayXarray(i, j, x)\n"
     ]
    }
   ],
   "source": [
    "subreddit_tfidf_modified = csc_matrix(subreddit_tfidf)\n",
    "subreddit_tfidf_modified[:, subreddit_reverse_dict['sandersforpresident']] = 0\n",
    "subreddit_tfidf_modified[:, subreddit_reverse_dict['the_donald']] = 0\n",
    "subreddit_tfidf_modified[:, subreddit_reverse_dict['hillaryclinton']] = 0\n",
    "subreddit_tfidf_modified = csr_matrix(subreddit_tfidf_modified)"
   ]
  },
  {
   "cell_type": "code",
   "execution_count": 16,
   "metadata": {},
   "outputs": [],
   "source": [
    "user_svd_m = TruncatedSVD(n_components = 100)\n",
    "user_svd_points_m = user_svd_m.fit_transform(subreddit_tfidf_modified)"
   ]
  },
  {
   "cell_type": "code",
   "execution_count": 17,
   "metadata": {},
   "outputs": [],
   "source": [
    "user_svd_norms_m = np.zeros(subreddit_tfidf.shape[0])"
   ]
  },
  {
   "cell_type": "code",
   "execution_count": 18,
   "metadata": {},
   "outputs": [],
   "source": [
    "for i in range(20):\n",
    "    user_svd_norms_m[i*1000 : (i+1) * 1000] = norm(user_svd_points_m[i*1000 : (i+1) * 1000], axis=1)"
   ]
  },
  {
   "cell_type": "code",
   "execution_count": 19,
   "metadata": {},
   "outputs": [
    {
     "data": {
      "text/plain": [
       "array([ 1793.44357288,   761.0551272 ,  5456.60617868, 21367.63714488,\n",
       "        3457.99131783,  2473.13588006,  1451.52846776, 10076.08660647,\n",
       "         801.22764434,  7841.59335968])"
      ]
     },
     "execution_count": 19,
     "metadata": {},
     "output_type": "execute_result"
    }
   ],
   "source": [
    "user_svd_norms_m[:10]"
   ]
  },
  {
   "cell_type": "code",
   "execution_count": 20,
   "metadata": {},
   "outputs": [],
   "source": [
    "user_svd_normalized_m = user_svd_points_m / user_svd_norms_m[:, np.newaxis]"
   ]
  },
  {
   "cell_type": "code",
   "execution_count": 21,
   "metadata": {},
   "outputs": [],
   "source": [
    "svd_cosine_sims_m = np.zeros((subreddit_tfidf.shape[0], subreddit_tfidf.shape[0]))"
   ]
  },
  {
   "cell_type": "code",
   "execution_count": 22,
   "metadata": {},
   "outputs": [],
   "source": [
    "for i in range(20):\n",
    "    chunk1 = csr_matrix(user_svd_normalized_m[i*1000 : (i+1)*1000, :])\n",
    "    for j in range(i,20):\n",
    "        chunk2 = csc_matrix(user_svd_normalized_m[j*1000 : (j+1)*1000, :].T)\n",
    "        svd_cosine_sims_m[i*1000 : (i+1)*1000, j*1000 : (j+1)*1000] = chunk1.dot(chunk2).toarray()\n"
   ]
  },
  {
   "cell_type": "code",
   "execution_count": 23,
   "metadata": {},
   "outputs": [
    {
     "data": {
      "text/plain": [
       "array([[1.        , 0.69819874, 0.40739394, 0.62832866, 0.78634988,\n",
       "        0.58905949, 0.79823031, 0.84207338, 0.10262892, 0.76900572],\n",
       "       [0.69819874, 1.        , 0.40557935, 0.81964641, 0.78528008,\n",
       "        0.58110145, 0.82243399, 0.83525074, 0.1006453 , 0.80725829],\n",
       "       [0.40739394, 0.40557935, 1.        , 0.72755832, 0.21183822,\n",
       "        0.35326269, 0.34223893, 0.35644356, 0.04452097, 0.35418931],\n",
       "       [0.62832866, 0.81964641, 0.72755832, 1.        , 0.55982262,\n",
       "        0.48146106, 0.68080072, 0.70859146, 0.0662739 , 0.68135108],\n",
       "       [0.78634988, 0.78528008, 0.21183822, 0.55982262, 1.        ,\n",
       "        0.68517481, 0.90404729, 0.93720192, 0.13325858, 0.79009851],\n",
       "       [0.58905949, 0.58110145, 0.35326269, 0.48146106, 0.68517481,\n",
       "        1.        , 0.64212969, 0.6255566 , 0.16437649, 0.68232976],\n",
       "       [0.79823031, 0.82243399, 0.34223893, 0.68080072, 0.90404729,\n",
       "        0.64212969, 1.        , 0.93279784, 0.09664204, 0.85173772],\n",
       "       [0.84207338, 0.83525074, 0.35644356, 0.70859146, 0.93720192,\n",
       "        0.6255566 , 0.93279784, 1.        , 0.09858804, 0.87728148],\n",
       "       [0.10262892, 0.1006453 , 0.04452097, 0.0662739 , 0.13325858,\n",
       "        0.16437649, 0.09664204, 0.09858804, 1.        , 0.13156447],\n",
       "       [0.76900572, 0.80725829, 0.35418931, 0.68135108, 0.79009851,\n",
       "        0.68232976, 0.85173772, 0.87728148, 0.13156447, 1.        ]])"
      ]
     },
     "execution_count": 23,
     "metadata": {},
     "output_type": "execute_result"
    }
   ],
   "source": [
    "svd_cosine_sims_m[:10,:10]"
   ]
  },
  {
   "cell_type": "code",
   "execution_count": 24,
   "metadata": {},
   "outputs": [],
   "source": [
    "for i in range(subreddit_tfidf.shape[0]):\n",
    "    svd_cosine_sims_m[i,i] = 0"
   ]
  },
  {
   "cell_type": "code",
   "execution_count": 25,
   "metadata": {},
   "outputs": [],
   "source": [
    "for i in range(20):\n",
    "    for j in range(i):\n",
    "        svd_cosine_sims_m[i*1000 : (i+1)*1000, j*1000 : (j+1)*1000] = \\\n",
    "svd_cosine_sims_m[j*1000 : (j+1)*1000, i*1000 : (i+1)*1000].T"
   ]
  },
  {
   "cell_type": "code",
   "execution_count": 26,
   "metadata": {},
   "outputs": [
    {
     "data": {
      "text/plain": [
       "0.5095418193633449"
      ]
     },
     "execution_count": 26,
     "metadata": {},
     "output_type": "execute_result"
    }
   ],
   "source": [
    "svd_cosine_sims_m[3872,10415]"
   ]
  },
  {
   "cell_type": "code",
   "execution_count": 27,
   "metadata": {},
   "outputs": [
    {
     "data": {
      "text/plain": [
       "0.5095418193633449"
      ]
     },
     "execution_count": 27,
     "metadata": {},
     "output_type": "execute_result"
    }
   ],
   "source": [
    "svd_cosine_sims_m[10415,3872]"
   ]
  },
  {
   "cell_type": "code",
   "execution_count": 28,
   "metadata": {},
   "outputs": [],
   "source": [
    "most_similar_user_svd_m = np.zeros(subreddit_tfidf.shape[0], dtype = np.int32)"
   ]
  },
  {
   "cell_type": "code",
   "execution_count": 29,
   "metadata": {},
   "outputs": [],
   "source": [
    "for i in range(subreddit_tfidf.shape[0]):\n",
    "    most_similar_user_svd_m[i] = np.argsort(svd_cosine_sims_m[i])[-1]"
   ]
  },
  {
   "cell_type": "code",
   "execution_count": 30,
   "metadata": {},
   "outputs": [
    {
     "data": {
      "text/plain": [
       "array([   26,    46, 15665,   946,    10,   387,    64,   942, 12012,\n",
       "          48], dtype=int32)"
      ]
     },
     "execution_count": 30,
     "metadata": {},
     "output_type": "execute_result"
    }
   ],
   "source": [
    "most_similar_user_svd_m[:10]"
   ]
  },
  {
   "cell_type": "code",
   "execution_count": 31,
   "metadata": {
    "scrolled": false
   },
   "outputs": [
    {
     "data": {
      "text/plain": [
       "[0.9016211896937636,\n",
       " 0.9341721233427274,\n",
       " 0.9686075509210403,\n",
       " 0.9838868298324015,\n",
       " 0.9634213755201699,\n",
       " 0.7636870576672039,\n",
       " 0.9541651378518858,\n",
       " 0.9675890307830424,\n",
       " 0.9856898533923323,\n",
       " 0.9279269373501593]"
      ]
     },
     "execution_count": 31,
     "metadata": {},
     "output_type": "execute_result"
    }
   ],
   "source": [
    "[svd_cosine_sims_m[i, most_similar_user_svd_m[i]] for i in range(10)]"
   ]
  },
  {
   "cell_type": "code",
   "execution_count": 39,
   "metadata": {},
   "outputs": [
    {
     "data": {
      "text/plain": [
       "0.263164447561359"
      ]
     },
     "execution_count": 39,
     "metadata": {},
     "output_type": "execute_result"
    }
   ],
   "source": [
    "np.sum(svd_cosine_sims_m[sanders_user_indices, :][:,sanders_user_indices]) / \\\n",
    "(len(sanders_user_indices) * (len(sanders_user_indices)-1))"
   ]
  },
  {
   "cell_type": "code",
   "execution_count": 40,
   "metadata": {},
   "outputs": [
    {
     "data": {
      "text/plain": [
       "0.21623163807739687"
      ]
     },
     "execution_count": 40,
     "metadata": {},
     "output_type": "execute_result"
    }
   ],
   "source": [
    "np.sum(svd_cosine_sims_m[trump_user_indices, :][:,trump_user_indices]) / \\\n",
    "(len(trump_user_indices) * (len(trump_user_indices)-1))"
   ]
  },
  {
   "cell_type": "code",
   "execution_count": 41,
   "metadata": {},
   "outputs": [
    {
     "data": {
      "text/plain": [
       "0.22392113887854653"
      ]
     },
     "execution_count": 41,
     "metadata": {},
     "output_type": "execute_result"
    }
   ],
   "source": [
    "np.sum(svd_cosine_sims_m[clinton_user_indices, :][:,clinton_user_indices]) / \\\n",
    "(len(clinton_user_indices) * (len(clinton_user_indices)-1))"
   ]
  },
  {
   "cell_type": "code",
   "execution_count": 42,
   "metadata": {},
   "outputs": [
    {
     "data": {
      "text/plain": [
       "0.2540551920083579"
      ]
     },
     "execution_count": 42,
     "metadata": {},
     "output_type": "execute_result"
    }
   ],
   "source": [
    "np.sum(svd_cosine_sims_m[none_user_indices, :][:,none_user_indices]) / \\\n",
    "(len(none_user_indices) * (len(none_user_indices)-1))"
   ]
  },
  {
   "cell_type": "code",
   "execution_count": 43,
   "metadata": {},
   "outputs": [
    {
     "data": {
      "text/plain": [
       "0.24675364407409253"
      ]
     },
     "execution_count": 43,
     "metadata": {},
     "output_type": "execute_result"
    }
   ],
   "source": [
    "np.sum(svd_cosine_sims_m) / (svd_cosine_sims_m.shape[0] * (svd_cosine_sims_m.shape[1] - 1))"
   ]
  },
  {
   "cell_type": "code",
   "execution_count": 44,
   "metadata": {},
   "outputs": [
    {
     "name": "stdout",
     "output_type": "stream",
     "text": [
      "0.23611804227863864\n",
      "0.22082826112713277\n",
      "0.19205718653634363\n",
      "\n",
      "0.2493614891030537\n",
      "0.2255019885807114\n",
      "0.18887873578199213\n"
     ]
    }
   ],
   "source": [
    "print(np.sum(svd_cosine_sims_m[sanders_user_indices, :][:,trump_user_indices]) / \\\n",
    "((len(sanders_user_indices) * len(trump_user_indices)) - \\\n",
    "len(set(sanders_user_indices).intersection(trump_user_indices))))\n",
    "\n",
    "print(np.sum(svd_cosine_sims_m[sanders_user_indices, :][:,clinton_user_indices]) / \\\n",
    "((len(sanders_user_indices) * len(clinton_user_indices)) - \\\n",
    "len(set(sanders_user_indices).intersection(clinton_user_indices))))\n",
    "\n",
    "print(np.sum(svd_cosine_sims_m[clinton_user_indices, :][:,trump_user_indices]) / \\\n",
    "((len(clinton_user_indices) * len(trump_user_indices)) - \\\n",
    "len(set(clinton_user_indices).intersection(trump_user_indices))))\n",
    "\n",
    "print()\n",
    "print(np.sum(svd_cosine_sims_m[sanders_user_indices, :][:,none_user_indices]) / \\\n",
    "((len(sanders_user_indices) * len(none_user_indices))))\n",
    "print(np.sum(svd_cosine_sims_m[trump_user_indices, :][:,none_user_indices]) / \\\n",
    "((len(trump_user_indices) * len(none_user_indices))))\n",
    "print(np.sum(svd_cosine_sims_m[clinton_user_indices, :][:,none_user_indices]) / \\\n",
    "((len(clinton_user_indices) * len(none_user_indices))))"
   ]
  },
  {
   "cell_type": "code",
   "execution_count": 45,
   "metadata": {},
   "outputs": [
    {
     "name": "stdout",
     "output_type": "stream",
     "text": [
      "177\n",
      "0.11368015414258188\n",
      "98\n",
      "0.10663764961915125\n",
      "27\n",
      "0.19708029197080293\n",
      "\n",
      "86\n",
      "0.05523442517662171\n",
      "66\n",
      "0.07181719260065289\n",
      "7\n",
      "0.051094890510948905\n",
      "\n",
      "11\n",
      "0.007064868336544637\n",
      "10\n",
      "0.01088139281828074\n",
      "4\n",
      "0.029197080291970802\n"
     ]
    }
   ],
   "source": [
    "print(len(set(most_similar_user_svd_m[sanders_user_indices]).intersection(sanders_user_indices)))\n",
    "print(len(set(most_similar_user_svd_m[sanders_user_indices]).intersection(sanders_user_indices))/len(sanders_user_indices))\n",
    "print(len(set(most_similar_user_svd_m[sanders_user_indices]).intersection(trump_user_indices)))\n",
    "print(len(set(most_similar_user_svd_m[sanders_user_indices]).intersection(trump_user_indices))/len(trump_user_indices))\n",
    "print(len(set(most_similar_user_svd_m[sanders_user_indices]).intersection(clinton_user_indices)))\n",
    "print(len(set(most_similar_user_svd_m[sanders_user_indices]).intersection(clinton_user_indices))/len(clinton_user_indices))\n",
    "print()\n",
    "print(len(set(most_similar_user_svd_m[trump_user_indices]).intersection(sanders_user_indices)))\n",
    "print(len(set(most_similar_user_svd_m[trump_user_indices]).intersection(sanders_user_indices))/len(sanders_user_indices))\n",
    "print(len(set(most_similar_user_svd_m[trump_user_indices]).intersection(trump_user_indices)))\n",
    "print(len(set(most_similar_user_svd_m[trump_user_indices]).intersection(trump_user_indices))/len(trump_user_indices))\n",
    "print(len(set(most_similar_user_svd_m[trump_user_indices]).intersection(clinton_user_indices)))\n",
    "print(len(set(most_similar_user_svd_m[trump_user_indices]).intersection(clinton_user_indices))/len(clinton_user_indices))\n",
    "print()\n",
    "print(len(set(most_similar_user_svd_m[clinton_user_indices]).intersection(sanders_user_indices)))\n",
    "print(len(set(most_similar_user_svd_m[clinton_user_indices]).intersection(sanders_user_indices))/len(sanders_user_indices))\n",
    "print(len(set(most_similar_user_svd_m[clinton_user_indices]).intersection(trump_user_indices)))\n",
    "print(len(set(most_similar_user_svd_m[clinton_user_indices]).intersection(trump_user_indices))/len(trump_user_indices))\n",
    "print(len(set(most_similar_user_svd_m[clinton_user_indices]).intersection(clinton_user_indices)))\n",
    "print(len(set(most_similar_user_svd_m[clinton_user_indices]).intersection(clinton_user_indices))/len(clinton_user_indices))\n",
    "\n"
   ]
  },
  {
   "cell_type": "code",
   "execution_count": 46,
   "metadata": {},
   "outputs": [],
   "source": [
    "sanders_sanders_sims_m = []\n",
    "\n",
    "for i in range(len(sanders_user_indices)):\n",
    "    for j in range(i+1, len(sanders_user_indices)):\n",
    "        sanders_sanders_sims_m.append(svd_cosine_sims_m[i,j])"
   ]
  },
  {
   "cell_type": "code",
   "execution_count": 47,
   "metadata": {},
   "outputs": [
    {
     "data": {
      "image/png": "[encoded data removed]",
      "text/plain": [
       "<Figure size 432x288 with 1 Axes>"
      ]
     },
     "metadata": {
      "needs_background": "light"
     },
     "output_type": "display_data"
    }
   ],
   "source": [
    "plt.hist(sanders_sanders_sims_m, range = (-1,1))\n",
    "plt.show()"
   ]
  },
  {
   "cell_type": "code",
   "execution_count": 48,
   "metadata": {},
   "outputs": [],
   "source": [
    "trump_trump_sims_m = []\n",
    "\n",
    "for i in range(len(trump_user_indices)):\n",
    "    for j in range(i+1, len(trump_user_indices)):\n",
    "        trump_trump_sims_m.append(svd_cosine_sims_m[i,j])"
   ]
  },
  {
   "cell_type": "code",
   "execution_count": 49,
   "metadata": {
    "scrolled": true
   },
   "outputs": [
    {
     "data": {
      "image/png": "[encoded data removed]",
      "text/plain": [
       "<Figure size 432x288 with 1 Axes>"
      ]
     },
     "metadata": {
      "needs_background": "light"
     },
     "output_type": "display_data"
    }
   ],
   "source": [
    "plt.hist(trump_trump_sims_m, range = (-1,1) )\n",
    "plt.show()"
   ]
  },
  {
   "cell_type": "code",
   "execution_count": 50,
   "metadata": {},
   "outputs": [],
   "source": [
    "clinton_clinton_sims_m = []\n",
    "\n",
    "for i in range(len(clinton_user_indices)):\n",
    "    for j in range(i+1, len(clinton_user_indices)):\n",
    "        clinton_clinton_sims_m.append(svd_cosine_sims_m[i,j])"
   ]
  },
  {
   "cell_type": "code",
   "execution_count": 51,
   "metadata": {
    "scrolled": true
   },
   "outputs": [
    {
     "data": {
      "image/png": "[encoded data removed]",
      "text/plain": [
       "<Figure size 432x288 with 1 Axes>"
      ]
     },
     "metadata": {
      "needs_background": "light"
     },
     "output_type": "display_data"
    }
   ],
   "source": [
    "plt.hist(clinton_clinton_sims_m, range = (-1,1))\n",
    "plt.show()"
   ]
  },
  {
   "cell_type": "code",
   "execution_count": 53,
   "metadata": {},
   "outputs": [
    {
     "data": {
      "image/png": "[encoded data removed]",
      "text/plain": [
       "<Figure size 432x288 with 1 Axes>"
      ]
     },
     "metadata": {
      "needs_background": "light"
     },
     "output_type": "display_data"
    }
   ],
   "source": [
    "plt.hist(svd_cosine_sims_m.flatten(), range=(-1,1))\n",
    "plt.show()"
   ]
  },
  {
   "cell_type": "code",
   "execution_count": 54,
   "metadata": {},
   "outputs": [],
   "source": [
    "most_similar_50_users_svd_m = np.zeros((subreddit_tfidf.shape[0],50), dtype = np.int32)\n",
    "\n",
    "for i in range(subreddit_tfidf.shape[0]):\n",
    "    most_similar_50_users_svd_m[i] = np.flip(np.argsort(svd_cosine_sims_m[i])[-50:])\n"
   ]
  },
  {
   "cell_type": "code",
   "execution_count": 55,
   "metadata": {},
   "outputs": [
    {
     "data": {
      "text/plain": [
       "array([  26,   14,    7,  531,   10,  942,  882,    6,   35,  102,  494,\n",
       "          4,  111,  353,   48,   16,   43,  418,  109,    9,   20,   64,\n",
       "        288,  131,  105,   55,   37,  571,   88,  839,  276,  644,   62,\n",
       "        425,  168,   22, 1178,  307,   44,  504,  240,  473,   80,   93,\n",
       "         95, 1055, 1532,   85,  383,   70], dtype=int32)"
      ]
     },
     "execution_count": 55,
     "metadata": {},
     "output_type": "execute_result"
    }
   ],
   "source": [
    "most_similar_50_users_svd_m[0]"
   ]
  },
  {
   "cell_type": "code",
   "execution_count": 56,
   "metadata": {},
   "outputs": [],
   "source": [
    "most_similar_50_set_m = [set(i) for i in most_similar_50_users_svd_m]"
   ]
  },
  {
   "cell_type": "code",
   "execution_count": 57,
   "metadata": {},
   "outputs": [
    {
     "name": "stdout",
     "output_type": "stream",
     "text": [
      "5.619139370584457\n",
      "4.0\n",
      "103.33847141939627\n",
      "129.4787234042553\n",
      "173.056\n"
     ]
    }
   ],
   "source": [
    "print(np.mean([len(most_similar_50_set_m[i].intersection(sanders_user_indices)) for i in sanders_user_indices]))\n",
    "print(np.median([len(most_similar_50_set_m[i].intersection(sanders_user_indices)) for i in sanders_user_indices]))\n",
    "print(np.mean([num_sanders[author_names[i]] for i in sanders_user_indices]))\n",
    "print(np.mean([num_sanders[author_names[i]] for i in sanders_user_indices if len(most_similar_50_set_m[i].intersection(sanders_user_indices)) >= 5]))\n",
    "print(np.mean([num_sanders[author_names[i]] for i in sanders_user_indices if len(most_similar_50_set_m[i].intersection(sanders_user_indices)) >= 10]))\n"
   ]
  },
  {
   "cell_type": "code",
   "execution_count": 58,
   "metadata": {},
   "outputs": [
    {
     "data": {
      "image/png": "[encoded data removed]",
      "text/plain": [
       "<Figure size 432x288 with 1 Axes>"
      ]
     },
     "metadata": {
      "needs_background": "light"
     },
     "output_type": "display_data"
    }
   ],
   "source": [
    "plt.hist([len(most_similar_50_set_m[i].intersection(sanders_user_indices)) for i in sanders_user_indices], range = (0,50))\n",
    "plt.show()"
   ]
  },
  {
   "cell_type": "code",
   "execution_count": 65,
   "metadata": {},
   "outputs": [
    {
     "name": "stdout",
     "output_type": "stream",
     "text": [
      "752\n",
      "250\n",
      "0\n"
     ]
    }
   ],
   "source": [
    "print(sum([1 for i in sanders_user_indices if len(most_similar_50_set_m[i].intersection(sanders_user_indices)) >= 5]))\n",
    "print(sum([1 for i in sanders_user_indices if len(most_similar_50_set_m[i].intersection(sanders_user_indices)) >= 10]))\n",
    "print(sum([1 for i in sanders_user_indices if len(most_similar_50_set_m[i].intersection(sanders_user_indices)) >= 30]))"
   ]
  },
  {
   "cell_type": "code",
   "execution_count": 60,
   "metadata": {},
   "outputs": [
    {
     "name": "stdout",
     "output_type": "stream",
     "text": [
      "3.189336235038085\n",
      "3.0\n",
      "215\n",
      "18\n",
      "0\n",
      "97.14907508161045\n",
      "109.76744186046511\n",
      "49.111111111111114\n"
     ]
    },
    {
     "data": {
      "image/png": "[encoded data removed]",
      "text/plain": [
       "<Figure size 432x288 with 1 Axes>"
      ]
     },
     "metadata": {
      "needs_background": "light"
     },
     "output_type": "display_data"
    }
   ],
   "source": [
    "print(np.mean([len(most_similar_50_set_m[i].intersection(trump_user_indices)) for i in trump_user_indices]))\n",
    "print(np.median([len(most_similar_50_set_m[i].intersection(trump_user_indices)) for i in trump_user_indices]))\n",
    "print(sum([1 for i in trump_user_indices if len(most_similar_50_set_m[i].intersection(trump_user_indices)) >= 5]))\n",
    "print(sum([1 for i in trump_user_indices if len(most_similar_50_set_m[i].intersection(trump_user_indices)) >= 10]))\n",
    "print(sum([1 for i in trump_user_indices if len(most_similar_50_set_m[i].intersection(trump_user_indices)) >= 30]))\n",
    "print(np.mean([num_trump[author_names[i]] for i in trump_user_indices]))\n",
    "print(np.mean([num_trump[author_names[i]] for i in trump_user_indices if len(most_similar_50_set_m[i].intersection(trump_user_indices)) >= 5]))\n",
    "print(np.mean([num_trump[author_names[i]] for i in trump_user_indices if len(most_similar_50_set_m[i].intersection(trump_user_indices)) >= 10]))\n",
    "\n",
    "plt.hist([len(most_similar_50_set_m[i].intersection(trump_user_indices)) for i in trump_user_indices], range = (0,50))\n",
    "plt.show()"
   ]
  },
  {
   "cell_type": "code",
   "execution_count": 61,
   "metadata": {
    "scrolled": true
   },
   "outputs": [
    {
     "name": "stdout",
     "output_type": "stream",
     "text": [
      "1.489051094890511\n",
      "1.0\n",
      "20\n",
      "0\n",
      "0\n"
     ]
    },
    {
     "data": {
      "image/png": "[encoded data removed]",
      "text/plain": [
       "<Figure size 432x288 with 1 Axes>"
      ]
     },
     "metadata": {
      "needs_background": "light"
     },
     "output_type": "display_data"
    }
   ],
   "source": [
    "print(np.mean([len(most_similar_50_set_m[i].intersection(clinton_user_indices)) for i in clinton_user_indices]))\n",
    "print(np.median([len(most_similar_50_set_m[i].intersection(clinton_user_indices)) for i in clinton_user_indices]))\n",
    "print(sum([1 for i in clinton_user_indices if len(most_similar_50_set_m[i].intersection(clinton_user_indices)) >= 5]))\n",
    "print(sum([1 for i in clinton_user_indices if len(most_similar_50_set_m[i].intersection(clinton_user_indices)) >= 10]))\n",
    "print(sum([1 for i in clinton_user_indices if len(most_similar_50_set_m[i].intersection(clinton_user_indices)) >= 30]))\n",
    "# print(np.mean([num_clinton[author_names[i]] for i in clinton_user_indices]))\n",
    "# print(np.mean([num_clinton[author_names[i]] for i in clinton_user_indices if len(most_similar_50_set_m[i].intersection(clinton_user_indices)) >= 10]))\n",
    "\n",
    "\n",
    "plt.hist([len(most_similar_50_set_m[i].intersection(clinton_user_indices)) for i in clinton_user_indices], range = (0,50))\n",
    "plt.show()"
   ]
  },
  {
   "cell_type": "markdown",
   "metadata": {},
   "source": [
    "### Similarities across groups"
   ]
  },
  {
   "cell_type": "markdown",
   "metadata": {},
   "source": [
    "### Sanders"
   ]
  },
  {
   "cell_type": "code",
   "execution_count": 74,
   "metadata": {},
   "outputs": [
    {
     "name": "stdout",
     "output_type": "stream",
     "text": [
      "5.619139370584457\n",
      "4.0\n",
      "752\n",
      "250\n",
      "103.33847141939627\n",
      "129.4787234042553\n",
      "173.056\n"
     ]
    },
    {
     "data": {
      "image/png": "[encoded data removed]",
      "text/plain": [
       "<Figure size 432x288 with 1 Axes>"
      ]
     },
     "metadata": {
      "needs_background": "light"
     },
     "output_type": "display_data"
    }
   ],
   "source": [
    "print(np.mean([len(most_similar_50_set_m[i].intersection(sanders_user_indices)) for i in sanders_user_indices]))\n",
    "print(np.median([len(most_similar_50_set_m[i].intersection(sanders_user_indices)) for i in sanders_user_indices]))\n",
    "print(sum([1 for i in sanders_user_indices if len(most_similar_50_set_m[i].intersection(sanders_user_indices)) >= 5]))\n",
    "print(sum([1 for i in sanders_user_indices if len(most_similar_50_set_m[i].intersection(sanders_user_indices)) >= 10]))\n",
    "print(np.mean([num_sanders[author_names[i]] for i in sanders_user_indices]))\n",
    "print(np.mean([num_sanders[author_names[i]] for i in sanders_user_indices if len(most_similar_50_set_m[i].intersection(sanders_user_indices)) >= 5]))\n",
    "print(np.mean([num_sanders[author_names[i]] for i in sanders_user_indices if len(most_similar_50_set_m[i].intersection(sanders_user_indices)) >= 10]))\n",
    "\n",
    "plt.hist([len(most_similar_50_set_m[i].intersection(trump_user_indices)) for i in sanders_user_indices], range = (0,50))\n",
    "plt.show()"
   ]
  },
  {
   "cell_type": "code",
   "execution_count": 75,
   "metadata": {},
   "outputs": [
    {
     "name": "stdout",
     "output_type": "stream",
     "text": [
      "2.823378291586384\n",
      "3.0\n",
      "292\n",
      "12\n",
      "14.23956326268465\n",
      "17.65753424657534\n",
      "11.416666666666666\n",
      "103.33847141939627\n",
      "133.93835616438355\n",
      "63.833333333333336\n"
     ]
    },
    {
     "data": {
      "image/png": "[encoded data removed]",
      "text/plain": [
       "<Figure size 432x288 with 1 Axes>"
      ]
     },
     "metadata": {
      "needs_background": "light"
     },
     "output_type": "display_data"
    }
   ],
   "source": [
    "print(np.mean([len(most_similar_50_set_m[i].intersection(trump_user_indices)) for i in sanders_user_indices]))\n",
    "print(np.median([len(most_similar_50_set_m[i].intersection(trump_user_indices)) for i in sanders_user_indices]))\n",
    "print(sum([1 for i in sanders_user_indices if len(most_similar_50_set_m[i].intersection(trump_user_indices)) >= 5]))\n",
    "print(sum([1 for i in sanders_user_indices if len(most_similar_50_set_m[i].intersection(trump_user_indices)) >= 10]))\n",
    "print(np.mean([num_trump[author_names[i]] for i in sanders_user_indices]))\n",
    "print(np.mean([num_trump[author_names[i]] for i in sanders_user_indices if len(most_similar_50_set_m[i].intersection(trump_user_indices)) >= 5]))\n",
    "print(np.mean([num_trump[author_names[i]] for i in sanders_user_indices if len(most_similar_50_set_m[i].intersection(trump_user_indices)) >= 10]))\n",
    "print(np.mean([num_sanders[author_names[i]] for i in sanders_user_indices]))\n",
    "print(np.mean([num_sanders[author_names[i]] for i in sanders_user_indices if len(most_similar_50_set_m[i].intersection(trump_user_indices)) >= 5]))\n",
    "print(np.mean([num_sanders[author_names[i]] for i in sanders_user_indices if len(most_similar_50_set_m[i].intersection(trump_user_indices)) >= 10]))\n",
    "\n",
    "plt.hist([len(most_similar_50_set_m[i].intersection(trump_user_indices)) for i in sanders_user_indices], range = (0,50))\n",
    "plt.show()"
   ]
  },
  {
   "cell_type": "code",
   "execution_count": 79,
   "metadata": {
    "scrolled": false
   },
   "outputs": [
    {
     "name": "stdout",
     "output_type": "stream",
     "text": [
      "0.6210661528580603\n",
      "0.0\n",
      "49\n",
      "0\n",
      "5.449582530507386\n",
      "57.87755102040816\n",
      "103.33847141939627\n",
      "112.77551020408163\n"
     ]
    },
    {
     "data": {
      "image/png": "[encoded data removed]",
      "text/plain": [
       "<Figure size 432x288 with 1 Axes>"
      ]
     },
     "metadata": {
      "needs_background": "light"
     },
     "output_type": "display_data"
    }
   ],
   "source": [
    "print(np.mean([len(most_similar_50_set_m[i].intersection(clinton_user_indices)) for i in sanders_user_indices]))\n",
    "print(np.median([len(most_similar_50_set_m[i].intersection(clinton_user_indices)) for i in sanders_user_indices]))\n",
    "print(sum([1 for i in sanders_user_indices if len(most_similar_50_set_m[i].intersection(clinton_user_indices)) >= 5]))\n",
    "print(sum([1 for i in sanders_user_indices if len(most_similar_50_set_m[i].intersection(clinton_user_indices)) >= 10]))\n",
    "print(np.mean([num_clinton[author_names[i]] for i in sanders_user_indices]))\n",
    "print(np.mean([num_clinton[author_names[i]] for i in sanders_user_indices if len(most_similar_50_set_m[i].intersection(clinton_user_indices)) >= 5]))\n",
    "# print(np.mean([num_clinton[author_names[i]] for i in sanders_user_indices if len(most_similar_50_set_m[i].intersection(clinton_user_indices)) >= 10]))\n",
    "print(np.mean([num_sanders[author_names[i]] for i in sanders_user_indices]))\n",
    "print(np.mean([num_sanders[author_names[i]] for i in sanders_user_indices if len(most_similar_50_set_m[i].intersection(clinton_user_indices)) >= 5]))\n",
    "# print(np.mean([num_sanders[author_names[i]] for i in sanders_user_indices if len(most_similar_50_set_m[i].intersection(clinton_user_indices)) >= 10]))\n",
    "\n",
    "plt.hist([len(most_similar_50_set_m[i].intersection(clinton_user_indices)) for i in sanders_user_indices], range = (0,50))\n",
    "plt.show()"
   ]
  },
  {
   "cell_type": "markdown",
   "metadata": {},
   "source": [
    "### Trump"
   ]
  },
  {
   "cell_type": "code",
   "execution_count": 77,
   "metadata": {},
   "outputs": [
    {
     "name": "stdout",
     "output_type": "stream",
     "text": [
      "3.189336235038085\n",
      "3.0\n",
      "215\n",
      "18\n",
      "97.14907508161045\n",
      "109.76744186046511\n",
      "49.111111111111114\n"
     ]
    },
    {
     "data": {
      "image/png": "[encoded data removed]",
      "text/plain": [
       "<Figure size 432x288 with 1 Axes>"
      ]
     },
     "metadata": {
      "needs_background": "light"
     },
     "output_type": "display_data"
    }
   ],
   "source": [
    "print(np.mean([len(most_similar_50_set_m[i].intersection(trump_user_indices)) for i in trump_user_indices]))\n",
    "print(np.median([len(most_similar_50_set_m[i].intersection(trump_user_indices)) for i in trump_user_indices]))\n",
    "print(sum([1 for i in trump_user_indices if len(most_similar_50_set_m[i].intersection(trump_user_indices)) >= 5]))\n",
    "print(sum([1 for i in trump_user_indices if len(most_similar_50_set_m[i].intersection(trump_user_indices)) >= 10]))\n",
    "print(np.mean([num_trump[author_names[i]] for i in trump_user_indices]))\n",
    "print(np.mean([num_trump[author_names[i]] for i in trump_user_indices if len(most_similar_50_set_m[i].intersection(trump_user_indices)) >= 5]))\n",
    "print(np.mean([num_trump[author_names[i]] for i in trump_user_indices if len(most_similar_50_set_m[i].intersection(trump_user_indices)) >= 10]))\n",
    "\n",
    "plt.hist([len(most_similar_50_set_m[i].intersection(trump_user_indices)) for i in trump_user_indices], range = (0,50))\n",
    "plt.show()"
   ]
  },
  {
   "cell_type": "code",
   "execution_count": 78,
   "metadata": {},
   "outputs": [
    {
     "name": "stdout",
     "output_type": "stream",
     "text": [
      "4.936887921653971\n",
      "4.0\n",
      "397\n",
      "101\n",
      "0\n",
      "97.14907508161045\n",
      "111.55667506297229\n",
      "139.05940594059405\n",
      "18.98150163220892\n",
      "30.869017632241814\n",
      "51.15841584158416\n"
     ]
    },
    {
     "data": {
      "image/png": "[encoded data removed]",
      "text/plain": [
       "<Figure size 432x288 with 1 Axes>"
      ]
     },
     "metadata": {
      "needs_background": "light"
     },
     "output_type": "display_data"
    }
   ],
   "source": [
    "print(np.mean([len(most_similar_50_set_m[i].intersection(sanders_user_indices)) for i in trump_user_indices]))\n",
    "print(np.median([len(most_similar_50_set_m[i].intersection(sanders_user_indices)) for i in trump_user_indices]))\n",
    "print(sum([1 for i in trump_user_indices if len(most_similar_50_set_m[i].intersection(sanders_user_indices)) >= 5]))\n",
    "print(sum([1 for i in trump_user_indices if len(most_similar_50_set_m[i].intersection(sanders_user_indices)) >= 10]))\n",
    "print(sum([1 for i in trump_user_indices if len(most_similar_50_set_m[i].intersection(sanders_user_indices)) >= 30]))\n",
    "print(np.mean([num_trump[author_names[i]] for i in trump_user_indices]))\n",
    "print(np.mean([num_trump[author_names[i]] for i in trump_user_indices if len(most_similar_50_set_m[i].intersection(sanders_user_indices)) >= 5]))\n",
    "print(np.mean([num_trump[author_names[i]] for i in trump_user_indices if len(most_similar_50_set_m[i].intersection(sanders_user_indices)) >= 10]))\n",
    "print(np.mean([num_sanders[author_names[i]] for i in trump_user_indices]))\n",
    "print(np.mean([num_sanders[author_names[i]] for i in trump_user_indices if len(most_similar_50_set_m[i].intersection(sanders_user_indices)) >= 5]))\n",
    "print(np.mean([num_sanders[author_names[i]] for i in trump_user_indices if len(most_similar_50_set_m[i].intersection(sanders_user_indices)) >= 10]))\n",
    "\n",
    "plt.hist([len(most_similar_50_set_m[i].intersection(sanders_user_indices)) for i in trump_user_indices], range = (0,50))\n",
    "plt.show()"
   ]
  },
  {
   "cell_type": "code",
   "execution_count": 81,
   "metadata": {
    "scrolled": false
   },
   "outputs": [
    {
     "name": "stdout",
     "output_type": "stream",
     "text": [
      "0.528835690968444\n",
      "0.0\n",
      "21\n",
      "0\n",
      "1.0848748639825898\n",
      "1.619047619047619\n",
      "97.14907508161045\n",
      "208.23809523809524\n"
     ]
    },
    {
     "data": {
      "image/png": "[encoded data removed]",
      "text/plain": [
       "<Figure size 432x288 with 1 Axes>"
      ]
     },
     "metadata": {
      "needs_background": "light"
     },
     "output_type": "display_data"
    }
   ],
   "source": [
    "print(np.mean([len(most_similar_50_set_m[i].intersection(clinton_user_indices)) for i in trump_user_indices]))\n",
    "print(np.median([len(most_similar_50_set_m[i].intersection(clinton_user_indices)) for i in trump_user_indices]))\n",
    "print(sum([1 for i in trump_user_indices if len(most_similar_50_set_m[i].intersection(clinton_user_indices)) >= 5]))\n",
    "print(sum([1 for i in trump_user_indices if len(most_similar_50_set_m[i].intersection(clinton_user_indices)) >= 10]))\n",
    "print(np.mean([num_clinton[author_names[i]] for i in trump_user_indices]))\n",
    "print(np.mean([num_clinton[author_names[i]] for i in trump_user_indices if len(most_similar_50_set_m[i].intersection(clinton_user_indices)) >= 5]))\n",
    "# print(np.mean([num_clinton[author_names[i]] for i in sanders_user_indices if len(most_similar_50_set_m[i].intersection(clinton_user_indices)) >= 10]))\n",
    "print(np.mean([num_trump[author_names[i]] for i in trump_user_indices]))\n",
    "print(np.mean([num_trump[author_names[i]] for i in trump_user_indices if len(most_similar_50_set_m[i].intersection(clinton_user_indices)) >= 5]))\n",
    "# print(np.mean([num_sanders[author_names[i]] for i in sanders_user_indices if len(most_similar_50_set_m[i].intersection(clinton_user_indices)) >= 10]))\n",
    "\n",
    "plt.hist([len(most_similar_50_set_m[i].intersection(clinton_user_indices)) for i in trump_user_indices], range = (0,50))\n",
    "plt.show()"
   ]
  },
  {
   "cell_type": "markdown",
   "metadata": {},
   "source": [
    "### Clinton"
   ]
  },
  {
   "cell_type": "code",
   "execution_count": 83,
   "metadata": {},
   "outputs": [
    {
     "name": "stdout",
     "output_type": "stream",
     "text": [
      "1.489051094890511\n",
      "1.0\n",
      "20\n",
      "0\n",
      "95.81751824817518\n",
      "210.65\n"
     ]
    },
    {
     "data": {
      "image/png": "[encoded data removed]",
      "text/plain": [
       "<Figure size 432x288 with 1 Axes>"
      ]
     },
     "metadata": {
      "needs_background": "light"
     },
     "output_type": "display_data"
    }
   ],
   "source": [
    "print(np.mean([len(most_similar_50_set_m[i].intersection(clinton_user_indices)) for i in clinton_user_indices]))\n",
    "print(np.median([len(most_similar_50_set_m[i].intersection(clinton_user_indices)) for i in clinton_user_indices]))\n",
    "print(sum([1 for i in clinton_user_indices if len(most_similar_50_set_m[i].intersection(clinton_user_indices)) >= 5]))\n",
    "print(sum([1 for i in clinton_user_indices if len(most_similar_50_set_m[i].intersection(clinton_user_indices)) >= 10]))\n",
    "print(np.mean([num_clinton[author_names[i]] for i in clinton_user_indices]))\n",
    "print(np.mean([num_clinton[author_names[i]] for i in clinton_user_indices if len(most_similar_50_set_m[i].intersection(clinton_user_indices)) >= 5]))\n",
    "# print(np.mean([num_clinton[author_names[i]] for i in clinton_user_indices if len(most_similar_50_set_m[i].intersection(clinton_user_indices)) >= 10]))\n",
    "\n",
    "plt.hist([len(most_similar_50_set_m[i].intersection(clinton_user_indices)) for i in clinton_user_indices], range = (0,50))\n",
    "plt.show()"
   ]
  },
  {
   "cell_type": "code",
   "execution_count": 85,
   "metadata": {},
   "outputs": [
    {
     "name": "stdout",
     "output_type": "stream",
     "text": [
      "7.08029197080292\n",
      "5.0\n",
      "77\n",
      "39\n",
      "95.81751824817518\n",
      "127.98701298701299\n",
      "143.28205128205127\n",
      "125.0\n",
      "176.7922077922078\n",
      "89.71794871794872\n"
     ]
    },
    {
     "data": {
      "image/png": "[encoded data removed]",
      "text/plain": [
       "<Figure size 432x288 with 1 Axes>"
      ]
     },
     "metadata": {
      "needs_background": "light"
     },
     "output_type": "display_data"
    }
   ],
   "source": [
    "print(np.mean([len(most_similar_50_set_m[i].intersection(sanders_user_indices)) for i in clinton_user_indices]))\n",
    "print(np.median([len(most_similar_50_set_m[i].intersection(sanders_user_indices)) for i in clinton_user_indices]))\n",
    "print(sum([1 for i in clinton_user_indices if len(most_similar_50_set_m[i].intersection(sanders_user_indices)) >= 5]))\n",
    "print(sum([1 for i in clinton_user_indices if len(most_similar_50_set_m[i].intersection(sanders_user_indices)) >= 10]))\n",
    "print(np.mean([num_clinton[author_names[i]] for i in clinton_user_indices]))\n",
    "print(np.mean([num_clinton[author_names[i]] for i in clinton_user_indices if len(most_similar_50_set_m[i].intersection(sanders_user_indices)) >= 5]))\n",
    "print(np.mean([num_clinton[author_names[i]] for i in clinton_user_indices if len(most_similar_50_set_m[i].intersection(sanders_user_indices)) >= 10]))\n",
    "print(np.mean([num_sanders[author_names[i]] for i in clinton_user_indices]))\n",
    "print(np.mean([num_sanders[author_names[i]] for i in clinton_user_indices if len(most_similar_50_set_m[i].intersection(sanders_user_indices)) >= 5]))\n",
    "print(np.mean([num_sanders[author_names[i]] for i in clinton_user_indices if len(most_similar_50_set_m[i].intersection(sanders_user_indices)) >= 10]))\n",
    "\n",
    "plt.hist([len(most_similar_50_set_m[i].intersection(sanders_user_indices)) for i in clinton_user_indices], range = (0,50))\n",
    "plt.show()"
   ]
  },
  {
   "cell_type": "code",
   "execution_count": 86,
   "metadata": {
    "scrolled": false
   },
   "outputs": [
    {
     "name": "stdout",
     "output_type": "stream",
     "text": [
      "3.065693430656934\n",
      "3.0\n",
      "29\n",
      "2\n",
      "12.81021897810219\n",
      "3.0344827586206895\n",
      "12.5\n",
      "95.81751824817518\n",
      "69.06896551724138\n",
      "102.5\n"
     ]
    },
    {
     "data": {
      "image/png": "[encoded data removed]",
      "text/plain": [
       "<Figure size 432x288 with 1 Axes>"
      ]
     },
     "metadata": {
      "needs_background": "light"
     },
     "output_type": "display_data"
    }
   ],
   "source": [
    "print(np.mean([len(most_similar_50_set_m[i].intersection(trump_user_indices)) for i in clinton_user_indices]))\n",
    "print(np.median([len(most_similar_50_set_m[i].intersection(trump_user_indices)) for i in clinton_user_indices]))\n",
    "print(sum([1 for i in clinton_user_indices if len(most_similar_50_set_m[i].intersection(trump_user_indices)) >= 5]))\n",
    "print(sum([1 for i in clinton_user_indices if len(most_similar_50_set_m[i].intersection(trump_user_indices)) >= 10]))\n",
    "print(np.mean([num_trump[author_names[i]] for i in clinton_user_indices]))\n",
    "print(np.mean([num_trump[author_names[i]] for i in clinton_user_indices if len(most_similar_50_set_m[i].intersection(trump_user_indices)) >= 5]))\n",
    "print(np.mean([num_trump[author_names[i]] for i in clinton_user_indices if len(most_similar_50_set_m[i].intersection(trump_user_indices)) >= 10]))\n",
    "print(np.mean([num_clinton[author_names[i]] for i in clinton_user_indices]))\n",
    "print(np.mean([num_clinton[author_names[i]] for i in clinton_user_indices if len(most_similar_50_set_m[i].intersection(trump_user_indices)) >= 5]))\n",
    "print(np.mean([num_clinton[author_names[i]] for i in clinton_user_indices if len(most_similar_50_set_m[i].intersection(trump_user_indices)) >= 10]))\n",
    "\n",
    "plt.hist([len(most_similar_50_set_m[i].intersection(trump_user_indices)) for i in clinton_user_indices], range = (0,50))\n",
    "plt.show()"
   ]
  },
  {
   "cell_type": "code",
   "execution_count": 135,
   "metadata": {},
   "outputs": [],
   "source": [
    "## Use SVD\n",
    "\n",
    "user_svd = TruncatedSVD(n_components = 100)\n",
    "user_svd_points = user_svd.fit_transform(subreddit_tfidf)\n",
    "\n",
    "user_svd_norms = np.zeros(subreddit_tfidf.shape[0])\n",
    "\n",
    "for i in range(20):\n",
    "    user_svd_norms[i*1000 : (i+1) * 1000] = norm(user_svd_points[i*1000 : (i+1) * 1000], axis=1)\n",
    "\n",
    "user_svd_norms[:10]\n",
    "\n",
    "user_svd_normalized = user_svd_points / user_svd_norms[:, np.newaxis]\n",
    "\n",
    "svd_cosine_sims = np.zeros((subreddit_tfidf.shape[0], subreddit_tfidf.shape[0]))\n",
    "\n",
    "for i in range(20):\n",
    "    chunk1 = csr_matrix(user_svd_normalized[i*1000 : (i+1)*1000, :])\n",
    "    for j in range(i,20):\n",
    "        chunk2 = csc_matrix(user_svd_normalized[j*1000 : (j+1)*1000, :].T)\n",
    "        svd_cosine_sims[i*1000 : (i+1)*1000, j*1000 : (j+1)*1000] = chunk1.dot(chunk2).toarray()\n",
    "\n",
    "\n",
    "svd_cosine_sims[:10,:10]\n",
    "\n",
    "for i in range(subreddit_tfidf.shape[0]):\n",
    "    svd_cosine_sims[i,i] = 0\n",
    "\n",
    "for i in range(20):\n",
    "    for j in range(i):\n",
    "        svd_cosine_sims[i*1000 : (i+1)*1000, j*1000 : (j+1)*1000] = \\\n",
    "svd_cosine_sims[j*1000 : (j+1)*1000, i*1000 : (i+1)*1000].T\n",
    "\n",
    "svd_cosine_sims[3872,10415]\n",
    "\n",
    "svd_cosine_sims[10415,3872]\n",
    "\n",
    "# with open(\"stored_variables/user_subreddit_tfidf_cossims_svd.pickle\", \"wb\") as f:\n",
    "#     pickle.dump(svd_cosine_sims, f)\n",
    "    \n",
    "with open(\"stored_variables/user_subreddit_tfidf_cossims_svd.pickle\", \"rb\") as f:\n",
    "    svd_cosine_sims = pickle.load(f)\n",
    "\n",
    "most_similar_user_svd = np.zeros(subreddit_tfidf.shape[0], dtype = np.int32)\n",
    "\n",
    "for i in range(subreddit_tfidf.shape[0]):\n",
    "    most_similar_user_svd[i] = np.argsort(svd_cosine_sims[i])[-1]\n",
    "\n",
    "most_similar_user_svd[:10]\n",
    "\n",
    "[svd_cosine_sims[i, most_similar_user_svd[i]] for i in range(10)]\n",
    "\n",
    "np.sum(svd_cosine_sims[sanders_user_indices, :][:,sanders_user_indices]) / \\\n",
    "(len(sanders_user_indices) * (len(sanders_user_indices)-1))\n",
    "\n",
    "np.sum(svd_cosine_sims[trump_user_indices, :][:,trump_user_indices]) / \\\n",
    "(len(trump_user_indices) * (len(trump_user_indices)-1))\n",
    "\n",
    "np.sum(svd_cosine_sims[clinton_user_indices, :][:,clinton_user_indices]) / \\\n",
    "(len(clinton_user_indices) * (len(clinton_user_indices)-1))\n",
    "\n",
    "np.sum(svd_cosine_sims[none_user_indices, :][:,none_user_indices]) / \\\n",
    "(len(none_user_indices) * (len(none_user_indices)-1))\n",
    "\n",
    "np.sum(svd_cosine_sims) / (svd_cosine_sims.shape[0] * (svd_cosine_sims.shape[1] - 1))\n",
    "\n",
    "print(np.sum(svd_cosine_sims[sanders_user_indices, :][:,trump_user_indices]) / \\\n",
    "((len(sanders_user_indices) * len(trump_user_indices)) - \\\n",
    "len(set(sanders_user_indices).intersection(trump_user_indices))))\n",
    "\n",
    "print(np.sum(svd_cosine_sims[sanders_user_indices, :][:,clinton_user_indices]) / \\\n",
    "((len(sanders_user_indices) * len(clinton_user_indices)) - \\\n",
    "len(set(sanders_user_indices).intersection(clinton_user_indices))))\n",
    "\n",
    "print(np.sum(svd_cosine_sims[clinton_user_indices, :][:,trump_user_indices]) / \\\n",
    "((len(clinton_user_indices) * len(trump_user_indices)) - \\\n",
    "len(set(clinton_user_indices).intersection(trump_user_indices))))\n",
    "\n",
    "print()\n",
    "print(np.sum(svd_cosine_sims[sanders_user_indices, :][:,none_user_indices]) / \\\n",
    "((len(sanders_user_indices) * len(none_user_indices))))\n",
    "print(np.sum(svd_cosine_sims[trump_user_indices, :][:,none_user_indices]) / \\\n",
    "((len(trump_user_indices) * len(none_user_indices))))\n",
    "print(np.sum(svd_cosine_sims[clinton_user_indices, :][:,none_user_indices]) / \\\n",
    "((len(clinton_user_indices) * len(none_user_indices))))\n",
    "\n",
    "print(len(set(most_similar_user_svd[sanders_user_indices]).intersection(sanders_user_indices)))\n",
    "print(len(set(most_similar_user_svd[sanders_user_indices]).intersection(sanders_user_indices))/len(sanders_user_indices))\n",
    "print(len(set(most_similar_user_svd[sanders_user_indices]).intersection(trump_user_indices)))\n",
    "print(len(set(most_similar_user_svd[sanders_user_indices]).intersection(trump_user_indices))/len(trump_user_indices))\n",
    "print(len(set(most_similar_user_svd[sanders_user_indices]).intersection(clinton_user_indices)))\n",
    "print(len(set(most_similar_user_svd[sanders_user_indices]).intersection(clinton_user_indices))/len(clinton_user_indices))\n",
    "print()\n",
    "print(len(set(most_similar_user_svd[trump_user_indices]).intersection(sanders_user_indices)))\n",
    "print(len(set(most_similar_user_svd[trump_user_indices]).intersection(sanders_user_indices))/len(sanders_user_indices))\n",
    "print(len(set(most_similar_user_svd[trump_user_indices]).intersection(trump_user_indices)))\n",
    "print(len(set(most_similar_user_svd[trump_user_indices]).intersection(trump_user_indices))/len(trump_user_indices))\n",
    "print(len(set(most_similar_user_svd[trump_user_indices]).intersection(clinton_user_indices)))\n",
    "print(len(set(most_similar_user_svd[trump_user_indices]).intersection(clinton_user_indices))/len(clinton_user_indices))\n",
    "print()\n",
    "print(len(set(most_similar_user_svd[clinton_user_indices]).intersection(sanders_user_indices)))\n",
    "print(len(set(most_similar_user_svd[clinton_user_indices]).intersection(sanders_user_indices))/len(sanders_user_indices))\n",
    "print(len(set(most_similar_user_svd[clinton_user_indices]).intersection(trump_user_indices)))\n",
    "print(len(set(most_similar_user_svd[clinton_user_indices]).intersection(trump_user_indices))/len(trump_user_indices))\n",
    "print(len(set(most_similar_user_svd[clinton_user_indices]).intersection(clinton_user_indices)))\n",
    "print(len(set(most_similar_user_svd[clinton_user_indices]).intersection(clinton_user_indices))/len(clinton_user_indices))\n",
    "\n",
    "\n",
    "\n",
    "sanders_sanders_sims = []\n",
    "\n",
    "for i in range(len(sanders_user_indices)):\n",
    "    for j in range(i+1, len(sanders_user_indices)):\n",
    "        sanders_sanders_sims.append(svd_cosine_sims[sanders_user_indices[i],sanders_user_indices[j]])\n",
    "\n",
    "plt.hist(sanders_sanders_sims, range = (-1,1))\n",
    "plt.show()\n",
    "\n",
    "trump_trump_sims = []\n",
    "\n",
    "for i in range(len(trump_user_indices)):\n",
    "    for j in range(i+1, len(trump_user_indices)):\n",
    "        trump_trump_sims.append(svd_cosine_sims[trump_user_indices[i],trump_user_indices[j]])\n",
    "\n",
    "plt.hist(trump_trump_sims, range = (-1,1) )\n",
    "plt.show()\n",
    "\n",
    "clinton_clinton_sims = []\n",
    "\n",
    "for i in range(len(clinton_user_indices)):\n",
    "    for j in range(i+1, len(clinton_user_indices)):\n",
    "        clinton_clinton_sims.append(svd_cosine_sims[clinton_user_indices[i],clinton_user_indices[j]])\n",
    "\n",
    "plt.hist(clinton_clinton_sims, range = (-1,1))\n",
    "plt.show()\n",
    "\n",
    "plt.hist(svd_cosine_sims.flatten(), range=(-1,1))\n",
    "plt.show()\n",
    "\n",
    "most_similar_50_users_svd = np.zeros((subreddit_tfidf.shape[0],50), dtype = np.int32)\n",
    "\n",
    "for i in range(subreddit_tfidf.shape[0]):\n",
    "    most_similar_50_users_svd[i] = np.flip(np.argsort(svd_cosine_sims[i])[-50:])\n",
    "\n",
    "\n",
    "most_similar_50_users_svd[0]\n",
    "\n",
    "most_similar_50_set = [set(i) for i in most_similar_50_users_svd]\n",
    "\n",
    "print(np.mean([len(most_similar_50_set[i].intersection(sanders_user_indices)) for i in sanders_user_indices]))\n",
    "print(np.median([len(most_similar_50_set[i].intersection(sanders_user_indices)) for i in sanders_user_indices]))\n",
    "print(np.mean([num_sanders[author_names[i]] for i in sanders_user_indices]))\n",
    "print(np.mean([num_sanders[author_names[i]] for i in sanders_user_indices if len(most_similar_50_set[i].intersection(sanders_user_indices)) >= 10]))\n",
    "\n",
    "\n",
    "plt.hist([len(most_similar_50_set[i].intersection(sanders_user_indices)) for i in sanders_user_indices], range = (0,50))\n",
    "plt.show()\n",
    "\n",
    "print(sum([1 for i in sanders_user_indices if len(most_similar_50_set[i].intersection(sanders_user_indices)) >= 10]))\n",
    "print(sum([1 for i in sanders_user_indices if len(most_similar_50_set[i].intersection(sanders_user_indices)) >= 30]))\n",
    "\n",
    "print(np.mean([len(most_similar_50_set[i].intersection(trump_user_indices)) for i in trump_user_indices]))\n",
    "print(np.median([len(most_similar_50_set[i].intersection(trump_user_indices)) for i in trump_user_indices]))\n",
    "print(sum([1 for i in trump_user_indices if len(most_similar_50_set[i].intersection(trump_user_indices)) >= 10]))\n",
    "print(sum([1 for i in trump_user_indices if len(most_similar_50_set[i].intersection(trump_user_indices)) >= 30]))\n",
    "print(np.mean([num_trump[author_names[i]] for i in trump_user_indices]))\n",
    "print(np.mean([num_trump[author_names[i]] for i in trump_user_indices if len(most_similar_50_set[i].intersection(trump_user_indices)) >= 10]))\n",
    "\n",
    "plt.hist([len(most_similar_50_set[i].intersection(trump_user_indices)) for i in trump_user_indices], range = (0,50))\n",
    "plt.show()\n",
    "\n",
    "print(np.mean([len(most_similar_50_set[i].intersection(clinton_user_indices)) for i in clinton_user_indices]))\n",
    "print(np.median([len(most_similar_50_set[i].intersection(clinton_user_indices)) for i in clinton_user_indices]))\n",
    "print(sum([1 for i in clinton_user_indices if len(most_similar_50_set[i].intersection(clinton_user_indices)) >= 10]))\n",
    "print(sum([1 for i in clinton_user_indices if len(most_similar_50_set[i].intersection(clinton_user_indices)) >= 30]))\n",
    "print(np.mean([num_clinton[author_names[i]] for i in clinton_user_indices]))\n",
    "print(np.mean([num_clinton[author_names[i]] for i in clinton_user_indices if len(most_similar_50_set[i].intersection(clinton_user_indices)) >= 10]))\n",
    "\n",
    "\n",
    "plt.hist([len(most_similar_50_set[i].intersection(clinton_user_indices)) for i in clinton_user_indices], range = (0,50))\n",
    "plt.show()\n",
    "\n",
    "plt.hist([len(most_similar_50_set[i].intersection(none_user_indices)) for i in none_user_indices], range = (0,50))\n",
    "plt.show()\n",
    "\n",
    "## Try with Music and HipHopHeads\n",
    "\n",
    "num_music = {k:(subreddit_tf[author_reverse_dict[k], subreddit_reverse_dict['music']]) for k in author_names}\n",
    "num_hhh = {k:(subreddit_tf[author_reverse_dict[k], subreddit_reverse_dict['hiphopheads']]) for k in author_names}\n",
    "\n",
    "\n",
    "music_user_indices = [i for i in range(subreddit_tf.shape[0]) if num_music[author_names[i]] >= comment_threshold]\n",
    "print(len(music_user_indices))\n",
    "hhh_user_indices = [i for i in range(subreddit_tf.shape[0]) if num_hhh[author_names[i]] >= comment_threshold]\n",
    "print(len(hhh_user_indices))\n",
    "\n",
    "\n",
    "np.sum(svd_cosine_sims[music_user_indices, :][:,music_user_indices]) / \\\n",
    "(len(music_user_indices) * (len(music_user_indices)-1))\n",
    "\n",
    "np.sum(svd_cosine_sims[hhh_user_indices, :][:,hhh_user_indices]) / \\\n",
    "(len(hhh_user_indices) * (len(hhh_user_indices)-1))\n",
    "\n",
    "print(np.sum(svd_cosine_sims[music_user_indices, :][:,hhh_user_indices]) / \\\n",
    "((len(music_user_indices) * len(hhh_user_indices)) - \\\n",
    "len(set(music_user_indices).intersection(hhh_user_indices))))\n",
    "\n",
    "\n",
    "print(len(set(most_similar_user_svd[music_user_indices]).intersection(music_user_indices)))\n",
    "print(len(set(most_similar_user_svd[music_user_indices]).intersection(music_user_indices))/len(music_user_indices))\n",
    "print(len(set(most_similar_user_svd[music_user_indices]).intersection(hhh_user_indices)))\n",
    "print(len(set(most_similar_user_svd[music_user_indices]).intersection(hhh_user_indices))/len(hhh_user_indices))\n",
    "\n",
    "print(len(set(most_similar_user_svd[hhh_user_indices]).intersection(hhh_user_indices)))\n",
    "print(len(set(most_similar_user_svd[hhh_user_indices]).intersection(hhh_user_indices))/len(hhh_user_indices))\n",
    "print(len(set(most_similar_user_svd[hhh_user_indices]).intersection(music_user_indices)))\n",
    "print(len(set(most_similar_user_svd[hhh_user_indices]).intersection(music_user_indices))/len(music_user_indices))\n",
    "\n",
    "music_music_sims = []\n",
    "\n",
    "for i in range(len(music_user_indices)):\n",
    "    for j in range(i+1, len(music_user_indices)):\n",
    "        music_music_sims.append(svd_cosine_sims[music_user_indices[i],music_user_indices[j]])\n",
    "\n",
    "plt.hist(music_music_sims, range = (-1,1))\n",
    "plt.show()\n",
    "\n",
    "hhh_hhh_sims = []\n",
    "\n",
    "for i in range(len(hhh_user_indices)):\n",
    "    for j in range(i+1, len(hhh_user_indices)):\n",
    "        hhh_hhh_sims.append(svd_cosine_sims[hhh_user_indices[i],hhh_user_indices[j]])\n",
    "\n",
    "plt.hist(hhh_hhh_sims, range = (-1,1) )\n",
    "plt.show()\n",
    "\n",
    "print(np.mean([len(most_similar_50_set[i].intersection(music_user_indices)) for i in music_user_indices]))\n",
    "print(np.median([len(most_similar_50_set[i].intersection(music_user_indices)) for i in music_user_indices]))\n",
    "print(sum([1 for i in music_user_indices if len(most_similar_50_set[i].intersection(music_user_indices)) >= 10]))\n",
    "print(sum([1 for i in music_user_indices if len(most_similar_50_set[i].intersection(music_user_indices)) >= 30]))\n",
    "print(np.mean([num_music[author_names[i]] for i in music_user_indices]))\n",
    "print(np.mean([num_music[author_names[i]] for i in music_user_indices if len(most_similar_50_set[i].intersection(music_user_indices)) >= 10]))\n",
    "\n",
    "plt.hist([len(most_similar_50_set[i].intersection(music_user_indices)) for i in music_user_indices], range = (0,50))\n",
    "plt.show()\n",
    "\n",
    "print(np.mean([len(most_similar_50_set[i].intersection(hhh_user_indices)) for i in hhh_user_indices]))\n",
    "print(np.median([len(most_similar_50_set[i].intersection(hhh_user_indices)) for i in hhh_user_indices]))\n",
    "print(sum([1 for i in hhh_user_indices if len(most_similar_50_set[i].intersection(hhh_user_indices)) >= 10]))\n",
    "print(sum([1 for i in hhh_user_indices if len(most_similar_50_set[i].intersection(hhh_user_indices)) >= 30]))\n",
    "print(np.mean([num_hhh[author_names[i]] for i in hhh_user_indices]))\n",
    "print(np.mean([num_hhh[author_names[i]] for i in hhh_user_indices if len(most_similar_50_set[i].intersection(hhh_user_indices)) >= 10]))\n",
    "\n",
    "plt.hist([len(most_similar_50_set[i].intersection(hhh_user_indices)) for i in hhh_user_indices], range = (0,50))\n",
    "plt.show()\n",
    "\n",
    "## Check if similarities persist after removing SFP, TD, HC\n",
    "\n",
    "subreddit_tfidf_modified = csc_matrix(subreddit_tfidf)\n",
    "subreddit_tfidf_modified[:, subreddit_reverse_dict['sandersforpresident']] = 0\n",
    "subreddit_tfidf_modified[:, subreddit_reverse_dict['the_donald']] = 0\n",
    "subreddit_tfidf_modified[:, subreddit_reverse_dict['hillaryclinton']] = 0\n",
    "subreddit_tfidf_modified = csr_matrix(subreddit_tfidf_modified)\n",
    "\n",
    "user_svd_m = TruncatedSVD(n_components = 100)\n",
    "user_svd_points_m = user_svd_m.fit_transform(subreddit_tfidf_modified)\n",
    "\n",
    "user_svd_norms_m = np.zeros(subreddit_tfidf.shape[0])\n",
    "\n",
    "for i in range(20):\n",
    "    user_svd_norms_m[i*1000 : (i+1) * 1000] = norm(user_svd_points_m[i*1000 : (i+1) * 1000], axis=1)\n",
    "\n",
    "user_svd_norms_m[:10]\n",
    "\n",
    "user_svd_normalized_m = user_svd_points_m / user_svd_norms_m[:, np.newaxis]\n",
    "\n",
    "svd_cosine_sims_m = np.zeros((subreddit_tfidf.shape[0], subreddit_tfidf.shape[0]))\n",
    "\n",
    "for i in range(20):\n",
    "    chunk1 = csr_matrix(user_svd_normalized_m[i*1000 : (i+1)*1000, :])\n",
    "    for j in range(i,20):\n",
    "        chunk2 = csc_matrix(user_svd_normalized_m[j*1000 : (j+1)*1000, :].T)\n",
    "        svd_cosine_sims_m[i*1000 : (i+1)*1000, j*1000 : (j+1)*1000] = chunk1.dot(chunk2).toarray()\n",
    "\n",
    "\n",
    "svd_cosine_sims_m[:10,:10]\n",
    "\n",
    "for i in range(subreddit_tfidf.shape[0]):\n",
    "    svd_cosine_sims_m[i,i] = 0\n",
    "\n",
    "for i in range(20):\n",
    "    for j in range(i):\n",
    "        svd_cosine_sims_m[i*1000 : (i+1)*1000, j*1000 : (j+1)*1000] = \\\n",
    "svd_cosine_sims_m[j*1000 : (j+1)*1000, i*1000 : (i+1)*1000].T\n",
    "\n",
    "svd_cosine_sims_m[3872,10415]\n",
    "\n",
    "svd_cosine_sims_m[10415,3872]\n",
    "\n",
    "most_similar_user_svd_m = np.zeros(subreddit_tfidf.shape[0], dtype = np.int32)\n",
    "\n",
    "for i in range(subreddit_tfidf.shape[0]):\n",
    "    most_similar_user_svd_m[i] = np.argsort(svd_cosine_sims_m[i])[-1]\n",
    "\n",
    "most_similar_user_svd_m[:10]\n",
    "\n",
    "[svd_cosine_sims_m[i, most_similar_user_svd_m[i]] for i in range(10)]\n",
    "\n",
    "np.sum(svd_cosine_sims_m[sanders_user_indices, :][:,sanders_user_indices]) / \\\n",
    "(len(sanders_user_indices) * (len(sanders_user_indices)-1))\n",
    "\n",
    "np.sum(svd_cosine_sims_m[trump_user_indices, :][:,trump_user_indices]) / \\\n",
    "(len(trump_user_indices) * (len(trump_user_indices)-1))\n",
    "\n",
    "np.sum(svd_cosine_sims_m[clinton_user_indices, :][:,clinton_user_indices]) / \\\n",
    "(len(clinton_user_indices) * (len(clinton_user_indices)-1))\n",
    "\n",
    "np.sum(svd_cosine_sims_m[none_user_indices, :][:,none_user_indices]) / \\\n",
    "(len(none_user_indices) * (len(none_user_indices)-1))\n",
    "\n",
    "np.sum(svd_cosine_sims_m) / (svd_cosine_sims_m.shape[0] * (svd_cosine_sims_m.shape[1] - 1))\n",
    "\n",
    "print(np.sum(svd_cosine_sims_m[sanders_user_indices, :][:,trump_user_indices]) / \\\n",
    "((len(sanders_user_indices) * len(trump_user_indices)) - \\\n",
    "len(set(sanders_user_indices).intersection(trump_user_indices))))\n",
    "\n",
    "print(np.sum(svd_cosine_sims_m[sanders_user_indices, :][:,clinton_user_indices]) / \\\n",
    "((len(sanders_user_indices) * len(clinton_user_indices)) - \\\n",
    "len(set(sanders_user_indices).intersection(clinton_user_indices))))\n",
    "\n",
    "print(np.sum(svd_cosine_sims_m[clinton_user_indices, :][:,trump_user_indices]) / \\\n",
    "((len(clinton_user_indices) * len(trump_user_indices)) - \\\n",
    "len(set(clinton_user_indices).intersection(trump_user_indices))))\n",
    "\n",
    "print()\n",
    "print(np.sum(svd_cosine_sims_m[sanders_user_indices, :][:,none_user_indices]) / \\\n",
    "((len(sanders_user_indices) * len(none_user_indices))))\n",
    "print(np.sum(svd_cosine_sims_m[trump_user_indices, :][:,none_user_indices]) / \\\n",
    "((len(trump_user_indices) * len(none_user_indices))))\n",
    "print(np.sum(svd_cosine_sims_m[clinton_user_indices, :][:,none_user_indices]) / \\\n",
    "((len(clinton_user_indices) * len(none_user_indices))))\n",
    "\n",
    "print(len(set(most_similar_user_svd_m[sanders_user_indices]).intersection(sanders_user_indices)))\n",
    "print(len(set(most_similar_user_svd_m[sanders_user_indices]).intersection(sanders_user_indices))/len(sanders_user_indices))\n",
    "print(len(set(most_similar_user_svd_m[sanders_user_indices]).intersection(trump_user_indices)))\n",
    "print(len(set(most_similar_user_svd_m[sanders_user_indices]).intersection(trump_user_indices))/len(trump_user_indices))\n",
    "print(len(set(most_similar_user_svd_m[sanders_user_indices]).intersection(clinton_user_indices)))\n",
    "print(len(set(most_similar_user_svd_m[sanders_user_indices]).intersection(clinton_user_indices))/len(clinton_user_indices))\n",
    "print()\n",
    "print(len(set(most_similar_user_svd_m[trump_user_indices]).intersection(sanders_user_indices)))\n",
    "print(len(set(most_similar_user_svd_m[trump_user_indices]).intersection(sanders_user_indices))/len(sanders_user_indices))\n",
    "print(len(set(most_similar_user_svd_m[trump_user_indices]).intersection(trump_user_indices)))\n",
    "print(len(set(most_similar_user_svd_m[trump_user_indices]).intersection(trump_user_indices))/len(trump_user_indices))\n",
    "print(len(set(most_similar_user_svd_m[trump_user_indices]).intersection(clinton_user_indices)))\n",
    "print(len(set(most_similar_user_svd_m[trump_user_indices]).intersection(clinton_user_indices))/len(clinton_user_indices))\n",
    "print()\n",
    "print(len(set(most_similar_user_svd_m[clinton_user_indices]).intersection(sanders_user_indices)))\n",
    "print(len(set(most_similar_user_svd_m[clinton_user_indices]).intersection(sanders_user_indices))/len(sanders_user_indices))\n",
    "print(len(set(most_similar_user_svd_m[clinton_user_indices]).intersection(trump_user_indices)))\n",
    "print(len(set(most_similar_user_svd_m[clinton_user_indices]).intersection(trump_user_indices))/len(trump_user_indices))\n",
    "print(len(set(most_similar_user_svd_m[clinton_user_indices]).intersection(clinton_user_indices)))\n",
    "print(len(set(most_similar_user_svd_m[clinton_user_indices]).intersection(clinton_user_indices))/len(clinton_user_indices))\n",
    "\n",
    "\n",
    "\n",
    "sanders_sanders_sims_m = []\n",
    "\n",
    "for i in range(len(sanders_user_indices)):\n",
    "    for j in range(i+1, len(sanders_user_indices)):\n",
    "        sanders_sanders_sims_m.append(svd_cosine_sims_m[i,j])\n",
    "\n",
    "plt.hist(sanders_sanders_sims_m, range = (-1,1))\n",
    "plt.show()\n",
    "\n",
    "trump_trump_sims_m = []\n",
    "\n",
    "for i in range(len(trump_user_indices)):\n",
    "    for j in range(i+1, len(trump_user_indices)):\n",
    "        trump_trump_sims_m.append(svd_cosine_sims_m[i,j])\n",
    "\n",
    "plt.hist(trump_trump_sims_m, range = (-1,1) )\n",
    "plt.show()\n",
    "\n",
    "clinton_clinton_sims_m = []\n",
    "\n",
    "for i in range(len(clinton_user_indices)):\n",
    "    for j in range(i+1, len(clinton_user_indices)):\n",
    "        clinton_clinton_sims_m.append(svd_cosine_sims_m[i,j])\n",
    "\n",
    "plt.hist(clinton_clinton_sims_m, range = (-1,1))\n",
    "plt.show()\n",
    "\n",
    "plt.hist(svd_cosine_sims_m.flatten(), range=(-1,1))\n",
    "plt.show()\n",
    "\n",
    "most_similar_50_users_svd_m = np.zeros((subreddit_tfidf.shape[0],50), dtype = np.int32)\n",
    "\n",
    "for i in range(subreddit_tfidf.shape[0]):\n",
    "    most_similar_50_users_svd_m[i] = np.flip(np.argsort(svd_cosine_sims_m[i])[-50:])\n",
    "\n",
    "\n",
    "most_similar_50_users_svd_m[0]\n",
    "\n",
    "most_similar_50_set_m = [set(i) for i in most_similar_50_users_svd_m]\n",
    "\n",
    "print(np.mean([len(most_similar_50_set_m[i].intersection(sanders_user_indices)) for i in sanders_user_indices]))\n",
    "print(np.median([len(most_similar_50_set_m[i].intersection(sanders_user_indices)) for i in sanders_user_indices]))\n",
    "print(np.mean([num_sanders[author_names[i]] for i in sanders_user_indices]))\n",
    "print(np.mean([num_sanders[author_names[i]] for i in sanders_user_indices if len(most_similar_50_set_m[i].intersection(sanders_user_indices)) >= 5]))\n",
    "print(np.mean([num_sanders[author_names[i]] for i in sanders_user_indices if len(most_similar_50_set_m[i].intersection(sanders_user_indices)) >= 10]))\n",
    "\n",
    "\n",
    "plt.hist([len(most_similar_50_set_m[i].intersection(sanders_user_indices)) for i in sanders_user_indices], range = (0,50))\n",
    "plt.show()\n",
    "\n",
    "print(sum([1 for i in sanders_user_indices if len(most_similar_50_set_m[i].intersection(sanders_user_indices)) >= 5]))\n",
    "print(sum([1 for i in sanders_user_indices if len(most_similar_50_set_m[i].intersection(sanders_user_indices)) >= 10]))\n",
    "print(sum([1 for i in sanders_user_indices if len(most_similar_50_set_m[i].intersection(sanders_user_indices)) >= 30]))\n",
    "\n",
    "print(np.mean([len(most_similar_50_set_m[i].intersection(trump_user_indices)) for i in trump_user_indices]))\n",
    "print(np.median([len(most_similar_50_set_m[i].intersection(trump_user_indices)) for i in trump_user_indices]))\n",
    "print(sum([1 for i in trump_user_indices if len(most_similar_50_set_m[i].intersection(trump_user_indices)) >= 5]))\n",
    "print(sum([1 for i in trump_user_indices if len(most_similar_50_set_m[i].intersection(trump_user_indices)) >= 10]))\n",
    "print(sum([1 for i in trump_user_indices if len(most_similar_50_set_m[i].intersection(trump_user_indices)) >= 30]))\n",
    "print(np.mean([num_trump[author_names[i]] for i in trump_user_indices]))\n",
    "print(np.mean([num_trump[author_names[i]] for i in trump_user_indices if len(most_similar_50_set_m[i].intersection(trump_user_indices)) >= 5]))\n",
    "print(np.mean([num_trump[author_names[i]] for i in trump_user_indices if len(most_similar_50_set_m[i].intersection(trump_user_indices)) >= 10]))\n",
    "\n",
    "plt.hist([len(most_similar_50_set_m[i].intersection(trump_user_indices)) for i in trump_user_indices], range = (0,50))\n",
    "plt.show()\n",
    "\n",
    "print(np.mean([len(most_similar_50_set_m[i].intersection(clinton_user_indices)) for i in clinton_user_indices]))\n",
    "print(np.median([len(most_similar_50_set_m[i].intersection(clinton_user_indices)) for i in clinton_user_indices]))\n",
    "print(sum([1 for i in clinton_user_indices if len(most_similar_50_set_m[i].intersection(clinton_user_indices)) >= 5]))\n",
    "print(sum([1 for i in clinton_user_indices if len(most_similar_50_set_m[i].intersection(clinton_user_indices)) >= 10]))\n",
    "print(sum([1 for i in clinton_user_indices if len(most_similar_50_set_m[i].intersection(clinton_user_indices)) >= 30]))\n",
    "# print(np.mean([num_clinton[author_names[i]] for i in clinton_user_indices]))\n",
    "# print(np.mean([num_clinton[author_names[i]] for i in clinton_user_indices if len(most_similar_50_set_m[i].intersection(clinton_user_indices)) >= 10]))\n",
    "\n",
    "\n",
    "plt.hist([len(most_similar_50_set_m[i].intersection(clinton_user_indices)) for i in clinton_user_indices], range = (0,50))\n",
    "plt.show()\n",
    "\n",
    "### Similarities across groups\n",
    "\n",
    "### Sanders\n",
    "\n",
    "print(np.mean([len(most_similar_50_set_m[i].intersection(sanders_user_indices)) for i in sanders_user_indices]))\n",
    "print(np.median([len(most_similar_50_set_m[i].intersection(sanders_user_indices)) for i in sanders_user_indices]))\n",
    "print(sum([1 for i in sanders_user_indices if len(most_similar_50_set_m[i].intersection(sanders_user_indices)) >= 5]))\n",
    "print(sum([1 for i in sanders_user_indices if len(most_similar_50_set_m[i].intersection(sanders_user_indices)) >= 10]))\n",
    "print(np.mean([num_sanders[author_names[i]] for i in sanders_user_indices]))\n",
    "print(np.mean([num_sanders[author_names[i]] for i in sanders_user_indices if len(most_similar_50_set_m[i].intersection(sanders_user_indices)) >= 5]))\n",
    "print(np.mean([num_sanders[author_names[i]] for i in sanders_user_indices if len(most_similar_50_set_m[i].intersection(sanders_user_indices)) >= 10]))\n",
    "\n",
    "plt.hist([len(most_similar_50_set_m[i].intersection(trump_user_indices)) for i in sanders_user_indices], range = (0,50))\n",
    "plt.show()\n",
    "\n",
    "print(np.mean([len(most_similar_50_set_m[i].intersection(trump_user_indices)) for i in sanders_user_indices]))\n",
    "print(np.median([len(most_similar_50_set_m[i].intersection(trump_user_indices)) for i in sanders_user_indices]))\n",
    "print(sum([1 for i in sanders_user_indices if len(most_similar_50_set_m[i].intersection(trump_user_indices)) >= 5]))\n",
    "print(sum([1 for i in sanders_user_indices if len(most_similar_50_set_m[i].intersection(trump_user_indices)) >= 10]))\n",
    "print(np.mean([num_trump[author_names[i]] for i in sanders_user_indices]))\n",
    "print(np.mean([num_trump[author_names[i]] for i in sanders_user_indices if len(most_similar_50_set_m[i].intersection(trump_user_indices)) >= 5]))\n",
    "print(np.mean([num_trump[author_names[i]] for i in sanders_user_indices if len(most_similar_50_set_m[i].intersection(trump_user_indices)) >= 10]))\n",
    "print(np.mean([num_sanders[author_names[i]] for i in sanders_user_indices]))\n",
    "print(np.mean([num_sanders[author_names[i]] for i in sanders_user_indices if len(most_similar_50_set_m[i].intersection(trump_user_indices)) >= 5]))\n",
    "print(np.mean([num_sanders[author_names[i]] for i in sanders_user_indices if len(most_similar_50_set_m[i].intersection(trump_user_indices)) >= 10]))\n",
    "\n",
    "plt.hist([len(most_similar_50_set_m[i].intersection(trump_user_indices)) for i in sanders_user_indices], range = (0,50))\n",
    "plt.show()\n",
    "\n",
    "print(np.mean([len(most_similar_50_set_m[i].intersection(clinton_user_indices)) for i in sanders_user_indices]))\n",
    "print(np.median([len(most_similar_50_set_m[i].intersection(clinton_user_indices)) for i in sanders_user_indices]))\n",
    "print(sum([1 for i in sanders_user_indices if len(most_similar_50_set_m[i].intersection(clinton_user_indices)) >= 5]))\n",
    "print(sum([1 for i in sanders_user_indices if len(most_similar_50_set_m[i].intersection(clinton_user_indices)) >= 10]))\n",
    "print(np.mean([num_clinton[author_names[i]] for i in sanders_user_indices]))\n",
    "print(np.mean([num_clinton[author_names[i]] for i in sanders_user_indices if len(most_similar_50_set_m[i].intersection(clinton_user_indices)) >= 5]))\n",
    "# print(np.mean([num_clinton[author_names[i]] for i in sanders_user_indices if len(most_similar_50_set_m[i].intersection(clinton_user_indices)) >= 10]))\n",
    "print(np.mean([num_sanders[author_names[i]] for i in sanders_user_indices]))\n",
    "print(np.mean([num_sanders[author_names[i]] for i in sanders_user_indices if len(most_similar_50_set_m[i].intersection(clinton_user_indices)) >= 5]))\n",
    "# print(np.mean([num_sanders[author_names[i]] for i in sanders_user_indices if len(most_similar_50_set_m[i].intersection(clinton_user_indices)) >= 10]))\n",
    "\n",
    "plt.hist([len(most_similar_50_set_m[i].intersection(clinton_user_indices)) for i in sanders_user_indices], range = (0,50))\n",
    "plt.show()\n",
    "\n",
    "### Trump\n",
    "\n",
    "print(np.mean([len(most_similar_50_set_m[i].intersection(trump_user_indices)) for i in trump_user_indices]))\n",
    "print(np.median([len(most_similar_50_set_m[i].intersection(trump_user_indices)) for i in trump_user_indices]))\n",
    "print(sum([1 for i in trump_user_indices if len(most_similar_50_set_m[i].intersection(trump_user_indices)) >= 5]))\n",
    "print(sum([1 for i in trump_user_indices if len(most_similar_50_set_m[i].intersection(trump_user_indices)) >= 10]))\n",
    "print(np.mean([num_trump[author_names[i]] for i in trump_user_indices]))\n",
    "print(np.mean([num_trump[author_names[i]] for i in trump_user_indices if len(most_similar_50_set_m[i].intersection(trump_user_indices)) >= 5]))\n",
    "print(np.mean([num_trump[author_names[i]] for i in trump_user_indices if len(most_similar_50_set_m[i].intersection(trump_user_indices)) >= 10]))\n",
    "\n",
    "plt.hist([len(most_similar_50_set_m[i].intersection(trump_user_indices)) for i in trump_user_indices], range = (0,50))\n",
    "plt.show()\n",
    "\n",
    "print(np.mean([len(most_similar_50_set_m[i].intersection(sanders_user_indices)) for i in trump_user_indices]))\n",
    "print(np.median([len(most_similar_50_set_m[i].intersection(sanders_user_indices)) for i in trump_user_indices]))\n",
    "print(sum([1 for i in trump_user_indices if len(most_similar_50_set_m[i].intersection(sanders_user_indices)) >= 5]))\n",
    "print(sum([1 for i in trump_user_indices if len(most_similar_50_set_m[i].intersection(sanders_user_indices)) >= 10]))\n",
    "print(sum([1 for i in trump_user_indices if len(most_similar_50_set_m[i].intersection(sanders_user_indices)) >= 30]))\n",
    "print(np.mean([num_trump[author_names[i]] for i in trump_user_indices]))\n",
    "print(np.mean([num_trump[author_names[i]] for i in trump_user_indices if len(most_similar_50_set_m[i].intersection(sanders_user_indices)) >= 5]))\n",
    "print(np.mean([num_trump[author_names[i]] for i in trump_user_indices if len(most_similar_50_set_m[i].intersection(sanders_user_indices)) >= 10]))\n",
    "print(np.mean([num_sanders[author_names[i]] for i in trump_user_indices]))\n",
    "print(np.mean([num_sanders[author_names[i]] for i in trump_user_indices if len(most_similar_50_set_m[i].intersection(sanders_user_indices)) >= 5]))\n",
    "print(np.mean([num_sanders[author_names[i]] for i in trump_user_indices if len(most_similar_50_set_m[i].intersection(sanders_user_indices)) >= 10]))\n",
    "\n",
    "plt.hist([len(most_similar_50_set_m[i].intersection(sanders_user_indices)) for i in trump_user_indices], range = (0,50))\n",
    "plt.show()\n",
    "\n",
    "print(np.mean([len(most_similar_50_set_m[i].intersection(clinton_user_indices)) for i in trump_user_indices]))\n",
    "print(np.median([len(most_similar_50_set_m[i].intersection(clinton_user_indices)) for i in trump_user_indices]))\n",
    "print(sum([1 for i in trump_user_indices if len(most_similar_50_set_m[i].intersection(clinton_user_indices)) >= 5]))\n",
    "print(sum([1 for i in trump_user_indices if len(most_similar_50_set_m[i].intersection(clinton_user_indices)) >= 10]))\n",
    "print(np.mean([num_clinton[author_names[i]] for i in trump_user_indices]))\n",
    "print(np.mean([num_clinton[author_names[i]] for i in trump_user_indices if len(most_similar_50_set_m[i].intersection(clinton_user_indices)) >= 5]))\n",
    "# print(np.mean([num_clinton[author_names[i]] for i in sanders_user_indices if len(most_similar_50_set_m[i].intersection(clinton_user_indices)) >= 10]))\n",
    "print(np.mean([num_trump[author_names[i]] for i in trump_user_indices]))\n",
    "print(np.mean([num_trump[author_names[i]] for i in trump_user_indices if len(most_similar_50_set_m[i].intersection(clinton_user_indices)) >= 5]))\n",
    "# print(np.mean([num_sanders[author_names[i]] for i in sanders_user_indices if len(most_similar_50_set_m[i].intersection(clinton_user_indices)) >= 10]))\n",
    "\n",
    "plt.hist([len(most_similar_50_set_m[i].intersection(clinton_user_indices)) for i in trump_user_indices], range = (0,50))\n",
    "plt.show()\n",
    "\n",
    "### Clinton\n",
    "\n",
    "print(np.mean([len(most_similar_50_set_m[i].intersection(clinton_user_indices)) for i in clinton_user_indices]))\n",
    "print(np.median([len(most_similar_50_set_m[i].intersection(clinton_user_indices)) for i in clinton_user_indices]))\n",
    "print(sum([1 for i in clinton_user_indices if len(most_similar_50_set_m[i].intersection(clinton_user_indices)) >= 5]))\n",
    "print(sum([1 for i in clinton_user_indices if len(most_similar_50_set_m[i].intersection(clinton_user_indices)) >= 10]))\n",
    "print(np.mean([num_clinton[author_names[i]] for i in clinton_user_indices]))\n",
    "print(np.mean([num_clinton[author_names[i]] for i in clinton_user_indices if len(most_similar_50_set_m[i].intersection(clinton_user_indices)) >= 5]))\n",
    "# print(np.mean([num_clinton[author_names[i]] for i in clinton_user_indices if len(most_similar_50_set_m[i].intersection(clinton_user_indices)) >= 10]))\n",
    "\n",
    "plt.hist([len(most_similar_50_set_m[i].intersection(clinton_user_indices)) for i in clinton_user_indices], range = (0,50))\n",
    "plt.show()\n",
    "\n",
    "print(np.mean([len(most_similar_50_set_m[i].intersection(sanders_user_indices)) for i in clinton_user_indices]))\n",
    "print(np.median([len(most_similar_50_set_m[i].intersection(sanders_user_indices)) for i in clinton_user_indices]))\n",
    "print(sum([1 for i in clinton_user_indices if len(most_similar_50_set_m[i].intersection(sanders_user_indices)) >= 5]))\n",
    "print(sum([1 for i in clinton_user_indices if len(most_similar_50_set_m[i].intersection(sanders_user_indices)) >= 10]))\n",
    "print(np.mean([num_clinton[author_names[i]] for i in clinton_user_indices]))\n",
    "print(np.mean([num_clinton[author_names[i]] for i in clinton_user_indices if len(most_similar_50_set_m[i].intersection(sanders_user_indices)) >= 5]))\n",
    "print(np.mean([num_clinton[author_names[i]] for i in clinton_user_indices if len(most_similar_50_set_m[i].intersection(sanders_user_indices)) >= 10]))\n",
    "print(np.mean([num_sanders[author_names[i]] for i in clinton_user_indices]))\n",
    "print(np.mean([num_sanders[author_names[i]] for i in clinton_user_indices if len(most_similar_50_set_m[i].intersection(sanders_user_indices)) >= 5]))\n",
    "print(np.mean([num_sanders[author_names[i]] for i in clinton_user_indices if len(most_similar_50_set_m[i].intersection(sanders_user_indices)) >= 10]))\n",
    "\n",
    "plt.hist([len(most_similar_50_set_m[i].intersection(sanders_user_indices)) for i in clinton_user_indices], range = (0,50))\n",
    "plt.show()\n",
    "\n",
    "print(np.mean([len(most_similar_50_set_m[i].intersection(trump_user_indices)) for i in clinton_user_indices]))\n",
    "print(np.median([len(most_similar_50_set_m[i].intersection(trump_user_indices)) for i in clinton_user_indices]))\n",
    "print(sum([1 for i in clinton_user_indices if len(most_similar_50_set_m[i].intersection(trump_user_indices)) >= 5]))\n",
    "print(sum([1 for i in clinton_user_indices if len(most_similar_50_set_m[i].intersection(trump_user_indices)) >= 10]))\n",
    "print(np.mean([num_trump[author_names[i]] for i in clinton_user_indices]))\n",
    "print(np.mean([num_trump[author_names[i]] for i in clinton_user_indices if len(most_similar_50_set_m[i].intersection(trump_user_indices)) >= 5]))\n",
    "print(np.mean([num_trump[author_names[i]] for i in clinton_user_indices if len(most_similar_50_set_m[i].intersection(trump_user_indices)) >= 10]))\n",
    "print(np.mean([num_clinton[author_names[i]] for i in clinton_user_indices]))\n",
    "print(np.mean([num_clinton[author_names[i]] for i in clinton_user_indices if len(most_similar_50_set_m[i].intersection(trump_user_indices)) >= 5]))\n",
    "print(np.mean([num_clinton[author_names[i]] for i in clinton_user_indices if len(most_similar_50_set_m[i].intersection(trump_user_indices)) >= 10]))\n",
    "\n",
    "plt.hist([len(most_similar_50_set_m[i].intersection(trump_user_indices)) for i in clinton_user_indices], range = (0,50))\n",
    "plt.show()"
   ]
  },
  {
   "cell_type": "code",
   "execution_count": null,
   "metadata": {},
   "outputs": [],
   "source": []
  }
 ],
 "metadata": {
  "kernelspec": {
   "display_name": "Python 3",
   "language": "python",
   "name": "python3"
  },
  "language_info": {
   "codemirror_mode": {
    "name": "ipython",
    "version": 3
   },
   "file_extension": ".py",
   "mimetype": "text/x-python",
   "name": "python",
   "nbconvert_exporter": "python",
   "pygments_lexer": "ipython3",
   "version": "3.7.3"
  }
 },
 "nbformat": 4,
 "nbformat_minor": 2
}
