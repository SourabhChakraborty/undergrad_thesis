{
 "cells": [
  {
   "cell_type": "code",
   "execution_count": 1,
   "metadata": {},
   "outputs": [],
   "source": [
    "import json\n",
    "import pickle\n",
    "\n",
    "from scipy.sparse import coo_matrix, csr_matrix, csc_matrix\n",
    "from scipy.linalg import norm\n",
    "\n",
    "from sklearn.decomposition import PCA, TruncatedSVD\n",
    "\n",
    "from matplotlib import pyplot as plt\n",
    "from IPython.display import HTML, display\n",
    "import pandas as pd\n",
    "import numpy as np\n"
   ]
  },
  {
   "cell_type": "code",
   "execution_count": 2,
   "metadata": {},
   "outputs": [],
   "source": [
    "with open(\"stored_variables/user_subreddit_tf.pickle\", \"rb\") as f:\n",
    "    subreddit_tf = pickle.load(f)"
   ]
  },
  {
   "cell_type": "code",
   "execution_count": 3,
   "metadata": {},
   "outputs": [],
   "source": [
    "with open(\"stored_variables/user_subreddit_df_mat.pickle\", \"rb\") as f:\n",
    "    subreddit_df_mat = pickle.load(f)"
   ]
  },
  {
   "cell_type": "code",
   "execution_count": 4,
   "metadata": {},
   "outputs": [],
   "source": [
    "with open(\"stored_variables/user_subreddit_tf_auths.pickle\", \"rb\") as f:\n",
    "    author_names = pickle.load(f)"
   ]
  },
  {
   "cell_type": "code",
   "execution_count": 5,
   "metadata": {},
   "outputs": [],
   "source": [
    "with open(\"stored_variables/user_subreddit_tf_subreddit_names.pickle\", \"rb\") as f:\n",
    "    subreddit_reverse_dict = pickle.load(f)"
   ]
  },
  {
   "cell_type": "markdown",
   "metadata": {},
   "source": [
    "## Cosine similarity"
   ]
  },
  {
   "cell_type": "code",
   "execution_count": 7,
   "metadata": {},
   "outputs": [],
   "source": [
    "subreddit_tf_c = coo_matrix(subreddit_tf)"
   ]
  },
  {
   "cell_type": "code",
   "execution_count": 8,
   "metadata": {},
   "outputs": [],
   "source": [
    "subreddit_df_c = coo_matrix(subreddit_df_mat)"
   ]
  },
  {
   "cell_type": "code",
   "execution_count": 9,
   "metadata": {},
   "outputs": [],
   "source": [
    "subreddit_idf = np.log(subreddit_df_c.sum() / (subreddit_df_c.sum(axis=0) + 1))"
   ]
  },
  {
   "cell_type": "code",
   "execution_count": 10,
   "metadata": {},
   "outputs": [],
   "source": [
    "subreddit_tfidf = csr_matrix(subreddit_tf_c.multiply(subreddit_idf))"
   ]
  },
  {
   "cell_type": "code",
   "execution_count": 11,
   "metadata": {},
   "outputs": [],
   "source": [
    "subreddit_tfidf_norms = np.zeros(subreddit_tfidf.shape[0])"
   ]
  },
  {
   "cell_type": "code",
   "execution_count": 12,
   "metadata": {},
   "outputs": [],
   "source": [
    "for i in range(20):\n",
    "    subreddit_tfidf_norms[i*1000 : (i+1) * 1000] = norm(subreddit_tfidf[i*1000 : (i+1) * 1000].toarray(), axis=1)"
   ]
  },
  {
   "cell_type": "code",
   "execution_count": 13,
   "metadata": {},
   "outputs": [],
   "source": [
    "subreddit_tfidf_normalized = csr_matrix(subreddit_tfidf / subreddit_tfidf_norms[:, np.newaxis])"
   ]
  },
  {
   "cell_type": "code",
   "execution_count": 14,
   "metadata": {},
   "outputs": [],
   "source": [
    "subreddit_cosine_sims = np.zeros((subreddit_tfidf.shape[0], subreddit_tfidf.shape[0]))"
   ]
  },
  {
   "cell_type": "code",
   "execution_count": 15,
   "metadata": {},
   "outputs": [],
   "source": [
    "for i in range(20):\n",
    "    chunk1 = subreddit_tfidf_normalized[i*1000 : (i+1)*1000, :]\n",
    "    for j in range(20):\n",
    "        chunk2 = subreddit_tfidf_normalized[j*1000 : (j+1)*1000, :]\n",
    "        subreddit_cosine_sims[i*1000 : (i+1)*1000, j*1000 : (j+1)*1000] = chunk1.dot(csc_matrix(chunk2.T)).toarray()\n"
   ]
  },
  {
   "cell_type": "code",
   "execution_count": 16,
   "metadata": {},
   "outputs": [],
   "source": [
    "for i in range(subreddit_tfidf.shape[0]):\n",
    "    subreddit_cosine_sims[i,i] = 0"
   ]
  },
  {
   "cell_type": "code",
   "execution_count": 19,
   "metadata": {},
   "outputs": [],
   "source": [
    "# with open(\"stored_variables/user_subreddit_tfidf_cossims.pickle\", \"wb\") as f:\n",
    "#     pickle.dump(subreddit_cosine_sims, f)\n",
    "with open(\"stored_variables/user_subreddit_tfidf_cossims.pickle\", \"rb\") as f:\n",
    "    subreddit_cosine_sims = pickle.load(f)"
   ]
  },
  {
   "cell_type": "code",
   "execution_count": 20,
   "metadata": {},
   "outputs": [],
   "source": [
    "most_similar_user = np.zeros(subreddit_tfidf.shape[0], dtype = np.int32)"
   ]
  },
  {
   "cell_type": "code",
   "execution_count": 21,
   "metadata": {},
   "outputs": [],
   "source": [
    "for i in range(subreddit_tfidf.shape[0]):\n",
    "    most_similar_user[i] = np.argsort(subreddit_cosine_sims[i])[-1]"
   ]
  },
  {
   "cell_type": "code",
   "execution_count": 22,
   "metadata": {},
   "outputs": [
    {
     "data": {
      "text/plain": [
       "array([17655,    16,  6234,   202, 16449, 16449,   946,    20, 12246,\n",
       "         143], dtype=int32)"
      ]
     },
     "execution_count": 22,
     "metadata": {},
     "output_type": "execute_result"
    }
   ],
   "source": [
    "most_similar_user[:10]"
   ]
  },
  {
   "cell_type": "code",
   "execution_count": 23,
   "metadata": {
    "scrolled": true
   },
   "outputs": [
    {
     "data": {
      "text/plain": [
       "[0.8121707495243793,\n",
       " 0.6337431236865456,\n",
       " 0.7519535958858542,\n",
       " 0.866248873336835,\n",
       " 0.8842001371009686,\n",
       " 0.640120700372724,\n",
       " 0.6579174327963478,\n",
       " 0.9480065628775193,\n",
       " 0.9820935090201509,\n",
       " 0.7914165081149797]"
      ]
     },
     "execution_count": 23,
     "metadata": {},
     "output_type": "execute_result"
    }
   ],
   "source": [
    "[subreddit_cosine_sims[i, most_similar_user[i]] for i in range(10)]"
   ]
  },
  {
   "cell_type": "markdown",
   "metadata": {},
   "source": [
    "## Check similarities by subreddits authors commented in"
   ]
  },
  {
   "cell_type": "code",
   "execution_count": 34,
   "metadata": {},
   "outputs": [],
   "source": [
    "author_reverse_dict = {author_names[i]:i for i in range(len(author_names))}"
   ]
  },
  {
   "cell_type": "code",
   "execution_count": 35,
   "metadata": {},
   "outputs": [],
   "source": [
    "num_sanders = {k:(subreddit_tf[author_reverse_dict[k], subreddit_reverse_dict['sandersforpresident']]) for k in author_names}\n",
    "num_trump = {k:(subreddit_tf[author_reverse_dict[k], subreddit_reverse_dict['the_donald']]) for k in author_names}\n",
    "num_clinton = {k:(subreddit_tf[author_reverse_dict[k], subreddit_reverse_dict['hillaryclinton']]) for k in author_names}\n",
    "num_politics = {k:(subreddit_tf[author_reverse_dict[k], subreddit_reverse_dict['politics']]) for k in author_names}\n"
   ]
  },
  {
   "cell_type": "code",
   "execution_count": 36,
   "metadata": {},
   "outputs": [],
   "source": [
    "comment_threshold = 10"
   ]
  },
  {
   "cell_type": "code",
   "execution_count": 37,
   "metadata": {},
   "outputs": [],
   "source": [
    "sanders_user_indices = [i for i in range(subreddit_tf.shape[0]) if num_sanders[author_names[i]] >= comment_threshold]\n",
    "trump_user_indices = [i for i in range(subreddit_tf.shape[0]) if num_trump[author_names[i]] >= comment_threshold]\n",
    "clinton_user_indices = [i for i in range(subreddit_tf.shape[0]) if num_clinton[author_names[i]] >= comment_threshold]"
   ]
  },
  {
   "cell_type": "code",
   "execution_count": 38,
   "metadata": {},
   "outputs": [],
   "source": [
    "none_user_indices = [i for i in range(subreddit_tf.shape[0]) if num_sanders[author_names[i]] == 0 and \n",
    "                     num_trump[author_names[i]] == 0 and\n",
    "                     num_clinton[author_names[i]] == 0]"
   ]
  },
  {
   "cell_type": "code",
   "execution_count": 27,
   "metadata": {},
   "outputs": [
    {
     "name": "stdout",
     "output_type": "stream",
     "text": [
      "1557\n",
      "919\n",
      "137\n",
      "12958\n"
     ]
    }
   ],
   "source": [
    "print(len(sanders_user_indices))\n",
    "print(len(trump_user_indices))\n",
    "print(len(clinton_user_indices))\n",
    "print(len(none_user_indices))"
   ]
  },
  {
   "cell_type": "code",
   "execution_count": 28,
   "metadata": {},
   "outputs": [
    {
     "name": "stdout",
     "output_type": "stream",
     "text": [
      "206\n",
      "73\n",
      "18\n"
     ]
    }
   ],
   "source": [
    "print(len(set(sanders_user_indices).intersection(trump_user_indices)))\n",
    "print(len(set(sanders_user_indices).intersection(clinton_user_indices)))\n",
    "print(len(set(trump_user_indices).intersection(clinton_user_indices)))"
   ]
  },
  {
   "cell_type": "code",
   "execution_count": 29,
   "metadata": {},
   "outputs": [
    {
     "data": {
      "text/plain": [
       "0.138818073116637"
      ]
     },
     "execution_count": 29,
     "metadata": {},
     "output_type": "execute_result"
    }
   ],
   "source": [
    "np.sum(subreddit_cosine_sims[sanders_user_indices, :][:,sanders_user_indices]) / \\\n",
    "(len(sanders_user_indices) * (len(sanders_user_indices)-1))"
   ]
  },
  {
   "cell_type": "code",
   "execution_count": 30,
   "metadata": {},
   "outputs": [
    {
     "data": {
      "text/plain": [
       "0.14352057932099493"
      ]
     },
     "execution_count": 30,
     "metadata": {},
     "output_type": "execute_result"
    }
   ],
   "source": [
    "np.sum(subreddit_cosine_sims[trump_user_indices, :][:,trump_user_indices]) / \\\n",
    "(len(trump_user_indices) * (len(trump_user_indices)-1))"
   ]
  },
  {
   "cell_type": "code",
   "execution_count": 31,
   "metadata": {},
   "outputs": [
    {
     "data": {
      "text/plain": [
       "0.12949415279378929"
      ]
     },
     "execution_count": 31,
     "metadata": {},
     "output_type": "execute_result"
    }
   ],
   "source": [
    "np.sum(subreddit_cosine_sims[clinton_user_indices, :][:,clinton_user_indices]) / \\\n",
    "(len(clinton_user_indices) * (len(clinton_user_indices)-1))"
   ]
  },
  {
   "cell_type": "code",
   "execution_count": 32,
   "metadata": {},
   "outputs": [
    {
     "data": {
      "text/plain": [
       "0.0982426762905685"
      ]
     },
     "execution_count": 32,
     "metadata": {},
     "output_type": "execute_result"
    }
   ],
   "source": [
    "np.sum(subreddit_cosine_sims[none_user_indices, :][:,none_user_indices]) / \\\n",
    "(len(none_user_indices) * (len(none_user_indices)-1))"
   ]
  },
  {
   "cell_type": "code",
   "execution_count": 33,
   "metadata": {},
   "outputs": [
    {
     "data": {
      "text/plain": [
       "0.09393301351386252"
      ]
     },
     "execution_count": 33,
     "metadata": {},
     "output_type": "execute_result"
    }
   ],
   "source": [
    "np.sum(subreddit_cosine_sims) / (subreddit_cosine_sims.shape[0] * (subreddit_cosine_sims.shape[1] - 1))"
   ]
  },
  {
   "cell_type": "code",
   "execution_count": 34,
   "metadata": {},
   "outputs": [
    {
     "name": "stdout",
     "output_type": "stream",
     "text": [
      "0.08808657193636073\n",
      "0.10329472681020092\n",
      "0.06596397218776581\n",
      "\n",
      "0.0914953263809247\n",
      "0.07740057658285684\n",
      "0.06820820982044046\n"
     ]
    }
   ],
   "source": [
    "print(np.sum(subreddit_cosine_sims[sanders_user_indices, :][:,trump_user_indices]) / \\\n",
    "((len(sanders_user_indices) * len(trump_user_indices)) - \\\n",
    "len(set(sanders_user_indices).intersection(trump_user_indices))))\n",
    "\n",
    "print(np.sum(subreddit_cosine_sims[sanders_user_indices, :][:,clinton_user_indices]) / \\\n",
    "((len(sanders_user_indices) * len(clinton_user_indices)) - \\\n",
    "len(set(sanders_user_indices).intersection(clinton_user_indices))))\n",
    "\n",
    "print(np.sum(subreddit_cosine_sims[clinton_user_indices, :][:,trump_user_indices]) / \\\n",
    "((len(clinton_user_indices) * len(trump_user_indices)) - \\\n",
    "len(set(clinton_user_indices).intersection(trump_user_indices))))\n",
    "\n",
    "print()\n",
    "print(np.sum(subreddit_cosine_sims[sanders_user_indices, :][:,none_user_indices]) / \\\n",
    "((len(sanders_user_indices) * len(none_user_indices))))\n",
    "print(np.sum(subreddit_cosine_sims[trump_user_indices, :][:,none_user_indices]) / \\\n",
    "((len(trump_user_indices) * len(none_user_indices))))\n",
    "print(np.sum(subreddit_cosine_sims[clinton_user_indices, :][:,none_user_indices]) / \\\n",
    "((len(clinton_user_indices) * len(none_user_indices))))"
   ]
  },
  {
   "cell_type": "code",
   "execution_count": 35,
   "metadata": {},
   "outputs": [
    {
     "name": "stdout",
     "output_type": "stream",
     "text": [
      "203\n",
      "0.13037893384714194\n",
      "62\n",
      "0.06746463547334058\n",
      "17\n",
      "0.12408759124087591\n",
      "\n",
      "60\n",
      "0.038535645472061654\n",
      "162\n",
      "0.176278563656148\n",
      "6\n",
      "0.043795620437956206\n",
      "\n",
      "24\n",
      "0.015414258188824663\n",
      "2\n",
      "0.002176278563656148\n",
      "16\n",
      "0.11678832116788321\n"
     ]
    }
   ],
   "source": [
    "print(len(set(most_similar_user[sanders_user_indices]).intersection(sanders_user_indices)))\n",
    "print(len(set(most_similar_user[sanders_user_indices]).intersection(sanders_user_indices))/len(sanders_user_indices))\n",
    "print(len(set(most_similar_user[sanders_user_indices]).intersection(trump_user_indices)))\n",
    "print(len(set(most_similar_user[sanders_user_indices]).intersection(trump_user_indices))/len(trump_user_indices))\n",
    "print(len(set(most_similar_user[sanders_user_indices]).intersection(clinton_user_indices)))\n",
    "print(len(set(most_similar_user[sanders_user_indices]).intersection(clinton_user_indices))/len(clinton_user_indices))\n",
    "print()\n",
    "print(len(set(most_similar_user[trump_user_indices]).intersection(sanders_user_indices)))\n",
    "print(len(set(most_similar_user[trump_user_indices]).intersection(sanders_user_indices))/len(sanders_user_indices))\n",
    "print(len(set(most_similar_user[trump_user_indices]).intersection(trump_user_indices)))\n",
    "print(len(set(most_similar_user[trump_user_indices]).intersection(trump_user_indices))/len(trump_user_indices))\n",
    "print(len(set(most_similar_user[trump_user_indices]).intersection(clinton_user_indices)))\n",
    "print(len(set(most_similar_user[trump_user_indices]).intersection(clinton_user_indices))/len(clinton_user_indices))\n",
    "print()\n",
    "print(len(set(most_similar_user[clinton_user_indices]).intersection(sanders_user_indices)))\n",
    "print(len(set(most_similar_user[clinton_user_indices]).intersection(sanders_user_indices))/len(sanders_user_indices))\n",
    "print(len(set(most_similar_user[clinton_user_indices]).intersection(trump_user_indices)))\n",
    "print(len(set(most_similar_user[clinton_user_indices]).intersection(trump_user_indices))/len(trump_user_indices))\n",
    "print(len(set(most_similar_user[clinton_user_indices]).intersection(clinton_user_indices)))\n",
    "print(len(set(most_similar_user[clinton_user_indices]).intersection(clinton_user_indices))/len(clinton_user_indices))\n",
    "\n"
   ]
  },
  {
   "cell_type": "code",
   "execution_count": 24,
   "metadata": {},
   "outputs": [],
   "source": [
    "sanders_sanders_sims = []\n",
    "\n",
    "for i in range(len(sanders_user_indices)):\n",
    "    for j in range(i+1, len(sanders_user_indices)):\n",
    "        sanders_sanders_sims.append(subreddit_cosine_sims[i,j])"
   ]
  },
  {
   "cell_type": "code",
   "execution_count": 26,
   "metadata": {},
   "outputs": [
    {
     "data": {
      "image/png": "[encoded data removed]",
      "text/plain": [
       "<Figure size 432x288 with 1 Axes>"
      ]
     },
     "metadata": {
      "needs_background": "light"
     },
     "output_type": "display_data"
    }
   ],
   "source": [
    "plt.hist(sanders_sanders_sims, range = (0, 1))\n",
    "plt.show()"
   ]
  },
  {
   "cell_type": "code",
   "execution_count": 27,
   "metadata": {},
   "outputs": [],
   "source": [
    "trump_trump_sims = []\n",
    "\n",
    "for i in range(len(trump_user_indices)):\n",
    "    for j in range(i+1, len(trump_user_indices)):\n",
    "        trump_trump_sims.append(subreddit_cosine_sims[i,j])"
   ]
  },
  {
   "cell_type": "code",
   "execution_count": 28,
   "metadata": {},
   "outputs": [
    {
     "data": {
      "image/png": "[encoded data removed]",
      "text/plain": [
       "<Figure size 432x288 with 1 Axes>"
      ]
     },
     "metadata": {
      "needs_background": "light"
     },
     "output_type": "display_data"
    }
   ],
   "source": [
    "plt.hist(trump_trump_sims, range = (0,1))\n",
    "plt.show()"
   ]
  },
  {
   "cell_type": "code",
   "execution_count": 29,
   "metadata": {},
   "outputs": [],
   "source": [
    "clinton_clinton_sims = []\n",
    "\n",
    "for i in range(len(clinton_user_indices)):\n",
    "    for j in range(i+1, len(clinton_user_indices)):\n",
    "        clinton_clinton_sims.append(subreddit_cosine_sims[i,j])"
   ]
  },
  {
   "cell_type": "code",
   "execution_count": 30,
   "metadata": {
    "scrolled": true
   },
   "outputs": [
    {
     "data": {
      "image/png": "[encoded data removed]",
      "text/plain": [
       "<Figure size 432x288 with 1 Axes>"
      ]
     },
     "metadata": {
      "needs_background": "light"
     },
     "output_type": "display_data"
    }
   ],
   "source": [
    "plt.hist(clinton_clinton_sims, range = (0,1))\n",
    "plt.show()"
   ]
  },
  {
   "cell_type": "markdown",
   "metadata": {},
   "source": [
    "## Use SVD"
   ]
  },
  {
   "cell_type": "code",
   "execution_count": 31,
   "metadata": {},
   "outputs": [],
   "source": [
    "user_svd = TruncatedSVD(n_components = 100)\n",
    "user_svd_points = user_svd.fit_transform(subreddit_tfidf)"
   ]
  },
  {
   "cell_type": "code",
   "execution_count": 32,
   "metadata": {},
   "outputs": [],
   "source": [
    "user_svd_norms = np.zeros(subreddit_tfidf.shape[0])"
   ]
  },
  {
   "cell_type": "code",
   "execution_count": 33,
   "metadata": {},
   "outputs": [],
   "source": [
    "for i in range(20):\n",
    "    user_svd_norms[i*1000 : (i+1) * 1000] = norm(user_svd_points[i*1000 : (i+1) * 1000], axis=1)"
   ]
  },
  {
   "cell_type": "code",
   "execution_count": 34,
   "metadata": {},
   "outputs": [
    {
     "data": {
      "text/plain": [
       "array([ 1772.29306825,   880.05553517,  5449.37251059, 21327.21924213,\n",
       "        3405.7815929 ,  2492.97130169,  1435.46953998,  9903.9773427 ,\n",
       "         797.21534645,  7837.95866625])"
      ]
     },
     "execution_count": 34,
     "metadata": {},
     "output_type": "execute_result"
    }
   ],
   "source": [
    "user_svd_norms[:10]"
   ]
  },
  {
   "cell_type": "code",
   "execution_count": 35,
   "metadata": {},
   "outputs": [],
   "source": [
    "user_svd_normalized = user_svd_points / user_svd_norms[:, np.newaxis]"
   ]
  },
  {
   "cell_type": "code",
   "execution_count": 37,
   "metadata": {},
   "outputs": [],
   "source": [
    "svd_cosine_sims = np.zeros((subreddit_tfidf.shape[0], subreddit_tfidf.shape[0]))"
   ]
  },
  {
   "cell_type": "code",
   "execution_count": 38,
   "metadata": {},
   "outputs": [],
   "source": [
    "for i in range(20):\n",
    "    chunk1 = csr_matrix(user_svd_normalized[i*1000 : (i+1)*1000, :])\n",
    "    for j in range(i,20):\n",
    "        chunk2 = csc_matrix(user_svd_normalized[j*1000 : (j+1)*1000, :].T)\n",
    "        svd_cosine_sims[i*1000 : (i+1)*1000, j*1000 : (j+1)*1000] = chunk1.dot(chunk2).toarray()\n"
   ]
  },
  {
   "cell_type": "code",
   "execution_count": 39,
   "metadata": {},
   "outputs": [
    {
     "data": {
      "text/plain": [
       "array([[1.        , 0.59246596, 0.40779453, 0.62573905, 0.78517013,\n",
       "        0.59846587, 0.7942294 , 0.83856833, 0.11139849, 0.76942935],\n",
       "       [0.59246596, 1.        , 0.35113661, 0.69985353, 0.66269401,\n",
       "        0.49089799, 0.69749409, 0.70741941, 0.08476321, 0.68826074],\n",
       "       [0.40779453, 0.35113661, 1.        , 0.72695793, 0.21226189,\n",
       "        0.36110115, 0.33938229, 0.35714633, 0.04896695, 0.35165091],\n",
       "       [0.62573905, 0.69985353, 0.72695793, 1.        , 0.55679138,\n",
       "        0.47879139, 0.67875937, 0.70909006, 0.07148385, 0.68080423],\n",
       "       [0.78517013, 0.66269401, 0.21226189, 0.55679138, 1.        ,\n",
       "        0.69421506, 0.90182752, 0.93546863, 0.13937695, 0.79031463],\n",
       "       [0.59846587, 0.49089799, 0.36110115, 0.47879139, 0.69421506,\n",
       "        1.        , 0.64387001, 0.63335388, 0.15537992, 0.66817856],\n",
       "       [0.7942294 , 0.69749409, 0.33938229, 0.67875937, 0.90182752,\n",
       "        0.64387001, 1.        , 0.93161911, 0.10436644, 0.85545156],\n",
       "       [0.83856833, 0.70741941, 0.35714633, 0.70909006, 0.93546863,\n",
       "        0.63335388, 0.93161911, 1.        , 0.10947349, 0.88398715],\n",
       "       [0.11139849, 0.08476321, 0.04896695, 0.07148385, 0.13937695,\n",
       "        0.15537992, 0.10436644, 0.10947349, 1.        , 0.13258718],\n",
       "       [0.76942935, 0.68826074, 0.35165091, 0.68080423, 0.79031463,\n",
       "        0.66817856, 0.85545156, 0.88398715, 0.13258718, 1.        ]])"
      ]
     },
     "execution_count": 39,
     "metadata": {},
     "output_type": "execute_result"
    }
   ],
   "source": [
    "svd_cosine_sims[:10,:10]"
   ]
  },
  {
   "cell_type": "code",
   "execution_count": 40,
   "metadata": {},
   "outputs": [],
   "source": [
    "for i in range(subreddit_tfidf.shape[0]):\n",
    "    svd_cosine_sims[i,i] = 0"
   ]
  },
  {
   "cell_type": "code",
   "execution_count": 41,
   "metadata": {},
   "outputs": [],
   "source": [
    "for i in range(20):\n",
    "    for j in range(i):\n",
    "        svd_cosine_sims[i*1000 : (i+1)*1000, j*1000 : (j+1)*1000] = \\\n",
    "svd_cosine_sims[j*1000 : (j+1)*1000, i*1000 : (i+1)*1000].T"
   ]
  },
  {
   "cell_type": "code",
   "execution_count": 42,
   "metadata": {},
   "outputs": [
    {
     "data": {
      "text/plain": [
       "0.5076858907101239"
      ]
     },
     "execution_count": 42,
     "metadata": {},
     "output_type": "execute_result"
    }
   ],
   "source": [
    "svd_cosine_sims[3872,10415]"
   ]
  },
  {
   "cell_type": "code",
   "execution_count": 43,
   "metadata": {},
   "outputs": [
    {
     "data": {
      "text/plain": [
       "0.5076858907101239"
      ]
     },
     "execution_count": 43,
     "metadata": {},
     "output_type": "execute_result"
    }
   ],
   "source": [
    "svd_cosine_sims[10415,3872]"
   ]
  },
  {
   "cell_type": "code",
   "execution_count": 44,
   "metadata": {},
   "outputs": [],
   "source": [
    "with open(\"stored_variables/user_subreddit_tfidf_cossims_svd.pickle\", \"wb\") as f:\n",
    "    pickle.dump(svd_cosine_sims, f)\n",
    "    \n",
    "# with open(\"stored_variables/user_subreddit_tfidf_cossims_svd.pickle\", \"rb\") as f:\n",
    "#     svd_cosine_sims = pickle.load(f)"
   ]
  },
  {
   "cell_type": "code",
   "execution_count": 45,
   "metadata": {},
   "outputs": [],
   "source": [
    "most_similar_user_svd = np.zeros(subreddit_tfidf.shape[0], dtype = np.int32)"
   ]
  },
  {
   "cell_type": "code",
   "execution_count": 46,
   "metadata": {},
   "outputs": [],
   "source": [
    "for i in range(subreddit_tfidf.shape[0]):\n",
    "    most_similar_user_svd[i] = np.argsort(svd_cosine_sims[i])[-1]"
   ]
  },
  {
   "cell_type": "code",
   "execution_count": 47,
   "metadata": {},
   "outputs": [
    {
     "data": {
      "text/plain": [
       "array([   26,    16,   828,   946,    10,   387,    64,   942, 12012,\n",
       "          43], dtype=int32)"
      ]
     },
     "execution_count": 47,
     "metadata": {},
     "output_type": "execute_result"
    }
   ],
   "source": [
    "most_similar_user_svd[:10]"
   ]
  },
  {
   "cell_type": "code",
   "execution_count": 48,
   "metadata": {
    "scrolled": false
   },
   "outputs": [
    {
     "data": {
      "text/plain": [
       "[0.9061768945263322,\n",
       " 0.8616068119824877,\n",
       " 0.9706806392880275,\n",
       " 0.9853026705024586,\n",
       " 0.9609889282358702,\n",
       " 0.7715594661723298,\n",
       " 0.95226511877232,\n",
       " 0.9680187506441011,\n",
       " 0.9877055443234641,\n",
       " 0.9262354425226317]"
      ]
     },
     "execution_count": 48,
     "metadata": {},
     "output_type": "execute_result"
    }
   ],
   "source": [
    "[svd_cosine_sims[i, most_similar_user_svd[i]] for i in range(10)]"
   ]
  },
  {
   "cell_type": "code",
   "execution_count": 49,
   "metadata": {},
   "outputs": [
    {
     "data": {
      "text/plain": [
       "0.2734861628342012"
      ]
     },
     "execution_count": 49,
     "metadata": {},
     "output_type": "execute_result"
    }
   ],
   "source": [
    "np.sum(svd_cosine_sims[sanders_user_indices, :][:,sanders_user_indices]) / \\\n",
    "(len(sanders_user_indices) * (len(sanders_user_indices)-1))"
   ]
  },
  {
   "cell_type": "code",
   "execution_count": 50,
   "metadata": {},
   "outputs": [
    {
     "data": {
      "text/plain": [
       "0.21710989100375805"
      ]
     },
     "execution_count": 50,
     "metadata": {},
     "output_type": "execute_result"
    }
   ],
   "source": [
    "np.sum(svd_cosine_sims[trump_user_indices, :][:,trump_user_indices]) / \\\n",
    "(len(trump_user_indices) * (len(trump_user_indices)-1))"
   ]
  },
  {
   "cell_type": "code",
   "execution_count": 51,
   "metadata": {},
   "outputs": [
    {
     "data": {
      "text/plain": [
       "0.21334667040884386"
      ]
     },
     "execution_count": 51,
     "metadata": {},
     "output_type": "execute_result"
    }
   ],
   "source": [
    "np.sum(svd_cosine_sims[clinton_user_indices, :][:,clinton_user_indices]) / \\\n",
    "(len(clinton_user_indices) * (len(clinton_user_indices)-1))"
   ]
  },
  {
   "cell_type": "code",
   "execution_count": 52,
   "metadata": {},
   "outputs": [
    {
     "data": {
      "text/plain": [
       "0.2539389270388249"
      ]
     },
     "execution_count": 52,
     "metadata": {},
     "output_type": "execute_result"
    }
   ],
   "source": [
    "np.sum(svd_cosine_sims[none_user_indices, :][:,none_user_indices]) / \\\n",
    "(len(none_user_indices) * (len(none_user_indices)-1))"
   ]
  },
  {
   "cell_type": "code",
   "execution_count": 53,
   "metadata": {},
   "outputs": [
    {
     "data": {
      "text/plain": [
       "0.24007926917094521"
      ]
     },
     "execution_count": 53,
     "metadata": {},
     "output_type": "execute_result"
    }
   ],
   "source": [
    "np.sum(svd_cosine_sims) / (svd_cosine_sims.shape[0] * (svd_cosine_sims.shape[1] - 1))"
   ]
  },
  {
   "cell_type": "code",
   "execution_count": 54,
   "metadata": {},
   "outputs": [
    {
     "name": "stdout",
     "output_type": "stream",
     "text": [
      "0.20419046548735034\n",
      "0.21317712992273619\n",
      "0.17377190941889184\n",
      "\n",
      "0.21264203696022654\n",
      "0.21382045741031738\n",
      "0.16923178232681446\n"
     ]
    }
   ],
   "source": [
    "print(np.sum(svd_cosine_sims[sanders_user_indices, :][:,trump_user_indices]) / \\\n",
    "((len(sanders_user_indices) * len(trump_user_indices)) - \\\n",
    "len(set(sanders_user_indices).intersection(trump_user_indices))))\n",
    "\n",
    "print(np.sum(svd_cosine_sims[sanders_user_indices, :][:,clinton_user_indices]) / \\\n",
    "((len(sanders_user_indices) * len(clinton_user_indices)) - \\\n",
    "len(set(sanders_user_indices).intersection(clinton_user_indices))))\n",
    "\n",
    "print(np.sum(svd_cosine_sims[clinton_user_indices, :][:,trump_user_indices]) / \\\n",
    "((len(clinton_user_indices) * len(trump_user_indices)) - \\\n",
    "len(set(clinton_user_indices).intersection(trump_user_indices))))\n",
    "\n",
    "print()\n",
    "print(np.sum(svd_cosine_sims[sanders_user_indices, :][:,none_user_indices]) / \\\n",
    "((len(sanders_user_indices) * len(none_user_indices))))\n",
    "print(np.sum(svd_cosine_sims[trump_user_indices, :][:,none_user_indices]) / \\\n",
    "((len(trump_user_indices) * len(none_user_indices))))\n",
    "print(np.sum(svd_cosine_sims[clinton_user_indices, :][:,none_user_indices]) / \\\n",
    "((len(clinton_user_indices) * len(none_user_indices))))"
   ]
  },
  {
   "cell_type": "code",
   "execution_count": 55,
   "metadata": {},
   "outputs": [
    {
     "name": "stdout",
     "output_type": "stream",
     "text": [
      "385\n",
      "0.2472703917790623\n",
      "84\n",
      "0.09140369967355821\n",
      "23\n",
      "0.1678832116788321\n",
      "\n",
      "77\n",
      "0.04945407835581246\n",
      "129\n",
      "0.14036996735582155\n",
      "9\n",
      "0.06569343065693431\n",
      "\n",
      "32\n",
      "0.020552344251766216\n",
      "8\n",
      "0.008705114254624592\n",
      "12\n",
      "0.08759124087591241\n"
     ]
    }
   ],
   "source": [
    "print(len(set(most_similar_user_svd[sanders_user_indices]).intersection(sanders_user_indices)))\n",
    "print(len(set(most_similar_user_svd[sanders_user_indices]).intersection(sanders_user_indices))/len(sanders_user_indices))\n",
    "print(len(set(most_similar_user_svd[sanders_user_indices]).intersection(trump_user_indices)))\n",
    "print(len(set(most_similar_user_svd[sanders_user_indices]).intersection(trump_user_indices))/len(trump_user_indices))\n",
    "print(len(set(most_similar_user_svd[sanders_user_indices]).intersection(clinton_user_indices)))\n",
    "print(len(set(most_similar_user_svd[sanders_user_indices]).intersection(clinton_user_indices))/len(clinton_user_indices))\n",
    "print()\n",
    "print(len(set(most_similar_user_svd[trump_user_indices]).intersection(sanders_user_indices)))\n",
    "print(len(set(most_similar_user_svd[trump_user_indices]).intersection(sanders_user_indices))/len(sanders_user_indices))\n",
    "print(len(set(most_similar_user_svd[trump_user_indices]).intersection(trump_user_indices)))\n",
    "print(len(set(most_similar_user_svd[trump_user_indices]).intersection(trump_user_indices))/len(trump_user_indices))\n",
    "print(len(set(most_similar_user_svd[trump_user_indices]).intersection(clinton_user_indices)))\n",
    "print(len(set(most_similar_user_svd[trump_user_indices]).intersection(clinton_user_indices))/len(clinton_user_indices))\n",
    "print()\n",
    "print(len(set(most_similar_user_svd[clinton_user_indices]).intersection(sanders_user_indices)))\n",
    "print(len(set(most_similar_user_svd[clinton_user_indices]).intersection(sanders_user_indices))/len(sanders_user_indices))\n",
    "print(len(set(most_similar_user_svd[clinton_user_indices]).intersection(trump_user_indices)))\n",
    "print(len(set(most_similar_user_svd[clinton_user_indices]).intersection(trump_user_indices))/len(trump_user_indices))\n",
    "print(len(set(most_similar_user_svd[clinton_user_indices]).intersection(clinton_user_indices)))\n",
    "print(len(set(most_similar_user_svd[clinton_user_indices]).intersection(clinton_user_indices))/len(clinton_user_indices))\n",
    "\n"
   ]
  },
  {
   "cell_type": "code",
   "execution_count": 71,
   "metadata": {},
   "outputs": [],
   "source": [
    "sanders_sanders_sims = []\n",
    "\n",
    "for i in range(len(sanders_user_indices)):\n",
    "    for j in range(i+1, len(sanders_user_indices)):\n",
    "        sanders_sanders_sims.append(svd_cosine_sims[i,j])"
   ]
  },
  {
   "cell_type": "code",
   "execution_count": 72,
   "metadata": {},
   "outputs": [
    {
     "data": {
      "image/png": "[encoded data removed]",
      "text/plain": [
       "<Figure size 432x288 with 1 Axes>"
      ]
     },
     "metadata": {
      "needs_background": "light"
     },
     "output_type": "display_data"
    }
   ],
   "source": [
    "plt.hist(sanders_sanders_sims, range = (-1,1))\n",
    "plt.show()"
   ]
  },
  {
   "cell_type": "code",
   "execution_count": 73,
   "metadata": {},
   "outputs": [],
   "source": [
    "trump_trump_sims = []\n",
    "\n",
    "for i in range(len(trump_user_indices)):\n",
    "    for j in range(i+1, len(trump_user_indices)):\n",
    "        trump_trump_sims.append(svd_cosine_sims[i,j])"
   ]
  },
  {
   "cell_type": "code",
   "execution_count": 74,
   "metadata": {
    "scrolled": true
   },
   "outputs": [
    {
     "data": {
      "image/png": "[encoded data removed]",
      "text/plain": [
       "<Figure size 432x288 with 1 Axes>"
      ]
     },
     "metadata": {
      "needs_background": "light"
     },
     "output_type": "display_data"
    }
   ],
   "source": [
    "plt.hist(trump_trump_sims, range = (-1,1) )\n",
    "plt.show()"
   ]
  },
  {
   "cell_type": "code",
   "execution_count": 75,
   "metadata": {},
   "outputs": [],
   "source": [
    "clinton_clinton_sims = []\n",
    "\n",
    "for i in range(len(clinton_user_indices)):\n",
    "    for j in range(i+1, len(clinton_user_indices)):\n",
    "        clinton_clinton_sims.append(svd_cosine_sims[i,j])"
   ]
  },
  {
   "cell_type": "code",
   "execution_count": 76,
   "metadata": {
    "scrolled": true
   },
   "outputs": [
    {
     "data": {
      "image/png": "[encoded data removed]",
      "text/plain": [
       "<Figure size 432x288 with 1 Axes>"
      ]
     },
     "metadata": {
      "needs_background": "light"
     },
     "output_type": "display_data"
    }
   ],
   "source": [
    "plt.hist(clinton_clinton_sims, range = (-1,1))\n",
    "plt.show()"
   ]
  },
  {
   "cell_type": "code",
   "execution_count": 77,
   "metadata": {},
   "outputs": [
    {
     "data": {
      "image/png": "[encoded data removed]",
      "text/plain": [
       "<Figure size 432x288 with 1 Axes>"
      ]
     },
     "metadata": {
      "needs_background": "light"
     },
     "output_type": "display_data"
    }
   ],
   "source": [
    "plt.hist(svd_cosine_sims.flatten(), range=(-1,1))\n",
    "plt.show()"
   ]
  },
  {
   "cell_type": "code",
   "execution_count": 78,
   "metadata": {},
   "outputs": [],
   "source": [
    "most_similar_50_users_svd = np.zeros((subreddit_tfidf.shape[0],50), dtype = np.int32)\n",
    "\n",
    "for i in range(subreddit_tfidf.shape[0]):\n",
    "    most_similar_50_users_svd[i] = np.flip(np.argsort(svd_cosine_sims[i])[-50:])\n"
   ]
  },
  {
   "cell_type": "code",
   "execution_count": 79,
   "metadata": {},
   "outputs": [
    {
     "data": {
      "text/plain": [
       "array([  26,   14,    7,  531,   35,   10,  882,  942,    6,  102,    4,\n",
       "        494,   48,  111,  131,  353,    9,  418,   43,  288,   64,   20,\n",
       "        105,   55,  839,   37,   88,  168,  383,  571,  276,   62,  644,\n",
       "        425,   22, 1178,   70,   93,   44,   95,  473,  504,  143,  307,\n",
       "         80,   85,  327,  109,  609, 1055], dtype=int32)"
      ]
     },
     "execution_count": 79,
     "metadata": {},
     "output_type": "execute_result"
    }
   ],
   "source": [
    "most_similar_50_users_svd[0]"
   ]
  },
  {
   "cell_type": "code",
   "execution_count": 80,
   "metadata": {},
   "outputs": [],
   "source": [
    "most_similar_50_set = [set(i) for i in most_similar_50_users_svd]"
   ]
  },
  {
   "cell_type": "code",
   "execution_count": 81,
   "metadata": {},
   "outputs": [
    {
     "name": "stdout",
     "output_type": "stream",
     "text": [
      "14.33140655105973\n",
      "6.0\n",
      "103.33847141939627\n",
      "203.71379310344827\n"
     ]
    }
   ],
   "source": [
    "print(np.mean([len(most_similar_50_set[i].intersection(sanders_user_indices)) for i in sanders_user_indices]))\n",
    "print(np.median([len(most_similar_50_set[i].intersection(sanders_user_indices)) for i in sanders_user_indices]))\n",
    "print(np.mean([num_sanders[author_names[i]] for i in sanders_user_indices]))\n",
    "print(np.mean([num_sanders[author_names[i]] for i in sanders_user_indices if len(most_similar_50_set[i].intersection(sanders_user_indices)) >= 10]))\n"
   ]
  },
  {
   "cell_type": "code",
   "execution_count": 82,
   "metadata": {},
   "outputs": [
    {
     "data": {
      "image/png": "[encoded data removed]",
      "text/plain": [
       "<Figure size 432x288 with 1 Axes>"
      ]
     },
     "metadata": {
      "needs_background": "light"
     },
     "output_type": "display_data"
    }
   ],
   "source": [
    "plt.hist([len(most_similar_50_set[i].intersection(sanders_user_indices)) for i in sanders_user_indices], range = (0,50))\n",
    "plt.show()"
   ]
  },
  {
   "cell_type": "code",
   "execution_count": 83,
   "metadata": {},
   "outputs": [
    {
     "name": "stdout",
     "output_type": "stream",
     "text": [
      "580\n",
      "335\n"
     ]
    }
   ],
   "source": [
    "print(sum([1 for i in sanders_user_indices if len(most_similar_50_set[i].intersection(sanders_user_indices)) >= 10]))\n",
    "print(sum([1 for i in sanders_user_indices if len(most_similar_50_set[i].intersection(sanders_user_indices)) >= 30]))"
   ]
  },
  {
   "cell_type": "code",
   "execution_count": 84,
   "metadata": {},
   "outputs": [
    {
     "name": "stdout",
     "output_type": "stream",
     "text": [
      "7.269858541893362\n",
      "3.0\n",
      "140\n",
      "77\n",
      "97.14907508161045\n",
      "253.77857142857144\n"
     ]
    },
    {
     "data": {
      "image/png": "[encoded data removed]",
      "text/plain": [
       "<Figure size 432x288 with 1 Axes>"
      ]
     },
     "metadata": {
      "needs_background": "light"
     },
     "output_type": "display_data"
    }
   ],
   "source": [
    "print(np.mean([len(most_similar_50_set[i].intersection(trump_user_indices)) for i in trump_user_indices]))\n",
    "print(np.median([len(most_similar_50_set[i].intersection(trump_user_indices)) for i in trump_user_indices]))\n",
    "print(sum([1 for i in trump_user_indices if len(most_similar_50_set[i].intersection(trump_user_indices)) >= 10]))\n",
    "print(sum([1 for i in trump_user_indices if len(most_similar_50_set[i].intersection(trump_user_indices)) >= 30]))\n",
    "print(np.mean([num_trump[author_names[i]] for i in trump_user_indices]))\n",
    "print(np.mean([num_trump[author_names[i]] for i in trump_user_indices if len(most_similar_50_set[i].intersection(trump_user_indices)) >= 10]))\n",
    "\n",
    "plt.hist([len(most_similar_50_set[i].intersection(trump_user_indices)) for i in trump_user_indices], range = (0,50))\n",
    "plt.show()"
   ]
  },
  {
   "cell_type": "code",
   "execution_count": 85,
   "metadata": {
    "scrolled": true
   },
   "outputs": [
    {
     "name": "stdout",
     "output_type": "stream",
     "text": [
      "1.8759124087591241\n",
      "1.0\n",
      "2\n",
      "0\n",
      "95.81751824817518\n",
      "152.5\n"
     ]
    },
    {
     "data": {
      "image/png": "[encoded data removed]",
      "text/plain": [
       "<Figure size 432x288 with 1 Axes>"
      ]
     },
     "metadata": {
      "needs_background": "light"
     },
     "output_type": "display_data"
    }
   ],
   "source": [
    "print(np.mean([len(most_similar_50_set[i].intersection(clinton_user_indices)) for i in clinton_user_indices]))\n",
    "print(np.median([len(most_similar_50_set[i].intersection(clinton_user_indices)) for i in clinton_user_indices]))\n",
    "print(sum([1 for i in clinton_user_indices if len(most_similar_50_set[i].intersection(clinton_user_indices)) >= 10]))\n",
    "print(sum([1 for i in clinton_user_indices if len(most_similar_50_set[i].intersection(clinton_user_indices)) >= 30]))\n",
    "print(np.mean([num_clinton[author_names[i]] for i in clinton_user_indices]))\n",
    "print(np.mean([num_clinton[author_names[i]] for i in clinton_user_indices if len(most_similar_50_set[i].intersection(clinton_user_indices)) >= 10]))\n",
    "\n",
    "\n",
    "plt.hist([len(most_similar_50_set[i].intersection(clinton_user_indices)) for i in clinton_user_indices], range = (0,50))\n",
    "plt.show()"
   ]
  },
  {
   "cell_type": "markdown",
   "metadata": {},
   "source": [
    "## Try with Music and HipHopHeads"
   ]
  },
  {
   "cell_type": "code",
   "execution_count": 86,
   "metadata": {},
   "outputs": [],
   "source": [
    "num_music = {k:(subreddit_tf[author_reverse_dict[k], subreddit_reverse_dict['music']]) for k in author_names}\n",
    "num_hhh = {k:(subreddit_tf[author_reverse_dict[k], subreddit_reverse_dict['hiphopheads']]) for k in author_names}\n"
   ]
  },
  {
   "cell_type": "code",
   "execution_count": 87,
   "metadata": {},
   "outputs": [
    {
     "name": "stdout",
     "output_type": "stream",
     "text": [
      "2176\n",
      "590\n"
     ]
    }
   ],
   "source": [
    "music_user_indices = [i for i in range(subreddit_tf.shape[0]) if num_music[author_names[i]] >= comment_threshold]\n",
    "print(len(music_user_indices))\n",
    "hhh_user_indices = [i for i in range(subreddit_tf.shape[0]) if num_hhh[author_names[i]] >= comment_threshold]\n",
    "print(len(hhh_user_indices))\n"
   ]
  },
  {
   "cell_type": "code",
   "execution_count": 88,
   "metadata": {},
   "outputs": [
    {
     "data": {
      "text/plain": [
       "0.3541934109154698"
      ]
     },
     "execution_count": 88,
     "metadata": {},
     "output_type": "execute_result"
    }
   ],
   "source": [
    "np.sum(svd_cosine_sims[music_user_indices, :][:,music_user_indices]) / \\\n",
    "(len(music_user_indices) * (len(music_user_indices)-1))"
   ]
  },
  {
   "cell_type": "code",
   "execution_count": 89,
   "metadata": {},
   "outputs": [
    {
     "data": {
      "text/plain": [
       "0.25303707224553496"
      ]
     },
     "execution_count": 89,
     "metadata": {},
     "output_type": "execute_result"
    }
   ],
   "source": [
    "np.sum(svd_cosine_sims[hhh_user_indices, :][:,hhh_user_indices]) / \\\n",
    "(len(hhh_user_indices) * (len(hhh_user_indices)-1))"
   ]
  },
  {
   "cell_type": "code",
   "execution_count": 90,
   "metadata": {},
   "outputs": [
    {
     "name": "stdout",
     "output_type": "stream",
     "text": [
      "0.2368393542015716\n"
     ]
    }
   ],
   "source": [
    "print(np.sum(svd_cosine_sims[music_user_indices, :][:,hhh_user_indices]) / \\\n",
    "((len(music_user_indices) * len(hhh_user_indices)) - \\\n",
    "len(set(music_user_indices).intersection(hhh_user_indices))))\n"
   ]
  },
  {
   "cell_type": "code",
   "execution_count": 91,
   "metadata": {
    "scrolled": true
   },
   "outputs": [
    {
     "name": "stdout",
     "output_type": "stream",
     "text": [
      "356\n",
      "0.1636029411764706\n",
      "74\n",
      "0.12542372881355932\n",
      "143\n",
      "0.2423728813559322\n",
      "101\n",
      "0.04641544117647059\n"
     ]
    }
   ],
   "source": [
    "print(len(set(most_similar_user_svd[music_user_indices]).intersection(music_user_indices)))\n",
    "print(len(set(most_similar_user_svd[music_user_indices]).intersection(music_user_indices))/len(music_user_indices))\n",
    "print(len(set(most_similar_user_svd[music_user_indices]).intersection(hhh_user_indices)))\n",
    "print(len(set(most_similar_user_svd[music_user_indices]).intersection(hhh_user_indices))/len(hhh_user_indices))\n",
    "\n",
    "print(len(set(most_similar_user_svd[hhh_user_indices]).intersection(hhh_user_indices)))\n",
    "print(len(set(most_similar_user_svd[hhh_user_indices]).intersection(hhh_user_indices))/len(hhh_user_indices))\n",
    "print(len(set(most_similar_user_svd[hhh_user_indices]).intersection(music_user_indices)))\n",
    "print(len(set(most_similar_user_svd[hhh_user_indices]).intersection(music_user_indices))/len(music_user_indices))"
   ]
  },
  {
   "cell_type": "code",
   "execution_count": 92,
   "metadata": {},
   "outputs": [],
   "source": [
    "music_music_sims = []\n",
    "\n",
    "for i in range(len(music_user_indices)):\n",
    "    for j in range(i+1, len(music_user_indices)):\n",
    "        music_music_sims.append(svd_cosine_sims[i,j])"
   ]
  },
  {
   "cell_type": "code",
   "execution_count": 93,
   "metadata": {},
   "outputs": [
    {
     "data": {
      "image/png": "[encoded data removed]",
      "text/plain": [
       "<Figure size 432x288 with 1 Axes>"
      ]
     },
     "metadata": {
      "needs_background": "light"
     },
     "output_type": "display_data"
    }
   ],
   "source": [
    "plt.hist(music_music_sims, range = (-1,1))\n",
    "plt.show()"
   ]
  },
  {
   "cell_type": "code",
   "execution_count": 94,
   "metadata": {},
   "outputs": [],
   "source": [
    "hhh_hhh_sims = []\n",
    "\n",
    "for i in range(len(hhh_user_indices)):\n",
    "    for j in range(i+1, len(hhh_user_indices)):\n",
    "        hhh_hhh_sims.append(svd_cosine_sims[i,j])"
   ]
  },
  {
   "cell_type": "code",
   "execution_count": 95,
   "metadata": {
    "scrolled": true
   },
   "outputs": [
    {
     "data": {
      "image/png": "[encoded data removed]",
      "text/plain": [
       "<Figure size 432x288 with 1 Axes>"
      ]
     },
     "metadata": {
      "needs_background": "light"
     },
     "output_type": "display_data"
    }
   ],
   "source": [
    "plt.hist(hhh_hhh_sims, range = (-1,1) )\n",
    "plt.show()"
   ]
  },
  {
   "cell_type": "code",
   "execution_count": 96,
   "metadata": {},
   "outputs": [
    {
     "name": "stdout",
     "output_type": "stream",
     "text": [
      "8.952205882352942\n",
      "8.0\n",
      "907\n",
      "0\n",
      "37.385110294117645\n",
      "39.487320837927236\n"
     ]
    },
    {
     "data": {
      "image/png": "[encoded data removed]",
      "text/plain": [
       "<Figure size 432x288 with 1 Axes>"
      ]
     },
     "metadata": {
      "needs_background": "light"
     },
     "output_type": "display_data"
    }
   ],
   "source": [
    "print(np.mean([len(most_similar_50_set[i].intersection(music_user_indices)) for i in music_user_indices]))\n",
    "print(np.median([len(most_similar_50_set[i].intersection(music_user_indices)) for i in music_user_indices]))\n",
    "print(sum([1 for i in music_user_indices if len(most_similar_50_set[i].intersection(music_user_indices)) >= 10]))\n",
    "print(sum([1 for i in music_user_indices if len(most_similar_50_set[i].intersection(music_user_indices)) >= 30]))\n",
    "print(np.mean([num_music[author_names[i]] for i in music_user_indices]))\n",
    "print(np.mean([num_music[author_names[i]] for i in music_user_indices if len(most_similar_50_set[i].intersection(music_user_indices)) >= 10]))\n",
    "\n",
    "plt.hist([len(most_similar_50_set[i].intersection(music_user_indices)) for i in music_user_indices], range = (0,50))\n",
    "plt.show()"
   ]
  },
  {
   "cell_type": "code",
   "execution_count": 97,
   "metadata": {},
   "outputs": [
    {
     "name": "stdout",
     "output_type": "stream",
     "text": [
      "12.686440677966102\n",
      "4.0\n",
      "179\n",
      "119\n",
      "128.61016949152543\n",
      "287.92737430167597\n"
     ]
    },
    {
     "data": {
      "image/png": "[encoded data removed]",
      "text/plain": [
       "<Figure size 432x288 with 1 Axes>"
      ]
     },
     "metadata": {
      "needs_background": "light"
     },
     "output_type": "display_data"
    }
   ],
   "source": [
    "print(np.mean([len(most_similar_50_set[i].intersection(hhh_user_indices)) for i in hhh_user_indices]))\n",
    "print(np.median([len(most_similar_50_set[i].intersection(hhh_user_indices)) for i in hhh_user_indices]))\n",
    "print(sum([1 for i in hhh_user_indices if len(most_similar_50_set[i].intersection(hhh_user_indices)) >= 10]))\n",
    "print(sum([1 for i in hhh_user_indices if len(most_similar_50_set[i].intersection(hhh_user_indices)) >= 30]))\n",
    "print(np.mean([num_hhh[author_names[i]] for i in hhh_user_indices]))\n",
    "print(np.mean([num_hhh[author_names[i]] for i in hhh_user_indices if len(most_similar_50_set[i].intersection(hhh_user_indices)) >= 10]))\n",
    "\n",
    "plt.hist([len(most_similar_50_set[i].intersection(hhh_user_indices)) for i in hhh_user_indices], range = (0,50))\n",
    "plt.show()"
   ]
  },
  {
   "cell_type": "markdown",
   "metadata": {},
   "source": [
    "## Check if similarities persist after removing SFP, TD, HC"
   ]
  },
  {
   "cell_type": "code",
   "execution_count": 14,
   "metadata": {},
   "outputs": [
    {
     "name": "stderr",
     "output_type": "stream",
     "text": [
      "/usr/local/anaconda3/lib/python3.7/site-packages/scipy/sparse/_index.py:127: SparseEfficiencyWarning: Changing the sparsity structure of a csc_matrix is expensive. lil_matrix is more efficient.\n",
      "  self._set_arrayXarray(i, j, x)\n"
     ]
    }
   ],
   "source": [
    "subreddit_tfidf_modified = csc_matrix(subreddit_tfidf)\n",
    "subreddit_tfidf_modified[:, subreddit_reverse_dict['sandersforpresident']] = 0\n",
    "subreddit_tfidf_modified[:, subreddit_reverse_dict['the_donald']] = 0\n",
    "subreddit_tfidf_modified[:, subreddit_reverse_dict['hillaryclinton']] = 0\n",
    "subreddit_tfidf_modified = csr_matrix(subreddit_tfidf_modified)"
   ]
  },
  {
   "cell_type": "code",
   "execution_count": 16,
   "metadata": {},
   "outputs": [],
   "source": [
    "user_svd_m = TruncatedSVD(n_components = 100)\n",
    "user_svd_points_m = user_svd_m.fit_transform(subreddit_tfidf_modified)"
   ]
  },
  {
   "cell_type": "code",
   "execution_count": 17,
   "metadata": {},
   "outputs": [],
   "source": [
    "user_svd_norms_m = np.zeros(subreddit_tfidf.shape[0])"
   ]
  },
  {
   "cell_type": "code",
   "execution_count": 18,
   "metadata": {},
   "outputs": [],
   "source": [
    "for i in range(20):\n",
    "    user_svd_norms_m[i*1000 : (i+1) * 1000] = norm(user_svd_points_m[i*1000 : (i+1) * 1000], axis=1)"
   ]
  },
  {
   "cell_type": "code",
   "execution_count": 19,
   "metadata": {},
   "outputs": [
    {
     "data": {
      "text/plain": [
       "array([ 1793.44357288,   761.0551272 ,  5456.60617868, 21367.63714488,\n",
       "        3457.99131783,  2473.13588006,  1451.52846776, 10076.08660647,\n",
       "         801.22764434,  7841.59335968])"
      ]
     },
     "execution_count": 19,
     "metadata": {},
     "output_type": "execute_result"
    }
   ],
   "source": [
    "user_svd_norms_m[:10]"
   ]
  },
  {
   "cell_type": "code",
   "execution_count": 20,
   "metadata": {},
   "outputs": [],
   "source": [
    "user_svd_normalized_m = user_svd_points_m / user_svd_norms_m[:, np.newaxis]"
   ]
  },
  {
   "cell_type": "code",
   "execution_count": 21,
   "metadata": {},
   "outputs": [],
   "source": [
    "svd_cosine_sims_m = np.zeros((subreddit_tfidf.shape[0], subreddit_tfidf.shape[0]))"
   ]
  },
  {
   "cell_type": "code",
   "execution_count": 22,
   "metadata": {},
   "outputs": [],
   "source": [
    "for i in range(20):\n",
    "    chunk1 = csr_matrix(user_svd_normalized_m[i*1000 : (i+1)*1000, :])\n",
    "    for j in range(i,20):\n",
    "        chunk2 = csc_matrix(user_svd_normalized_m[j*1000 : (j+1)*1000, :].T)\n",
    "        svd_cosine_sims_m[i*1000 : (i+1)*1000, j*1000 : (j+1)*1000] = chunk1.dot(chunk2).toarray()\n"
   ]
  },
  {
   "cell_type": "code",
   "execution_count": 23,
   "metadata": {},
   "outputs": [
    {
     "data": {
      "text/plain": [
       "array([[1.        , 0.69819874, 0.40739394, 0.62832866, 0.78634988,\n",
       "        0.58905949, 0.79823031, 0.84207338, 0.10262892, 0.76900572],\n",
       "       [0.69819874, 1.        , 0.40557935, 0.81964641, 0.78528008,\n",
       "        0.58110145, 0.82243399, 0.83525074, 0.1006453 , 0.80725829],\n",
       "       [0.40739394, 0.40557935, 1.        , 0.72755832, 0.21183822,\n",
       "        0.35326269, 0.34223893, 0.35644356, 0.04452097, 0.35418931],\n",
       "       [0.62832866, 0.81964641, 0.72755832, 1.        , 0.55982262,\n",
       "        0.48146106, 0.68080072, 0.70859146, 0.0662739 , 0.68135108],\n",
       "       [0.78634988, 0.78528008, 0.21183822, 0.55982262, 1.        ,\n",
       "        0.68517481, 0.90404729, 0.93720192, 0.13325858, 0.79009851],\n",
       "       [0.58905949, 0.58110145, 0.35326269, 0.48146106, 0.68517481,\n",
       "        1.        , 0.64212969, 0.6255566 , 0.16437649, 0.68232976],\n",
       "       [0.79823031, 0.82243399, 0.34223893, 0.68080072, 0.90404729,\n",
       "        0.64212969, 1.        , 0.93279784, 0.09664204, 0.85173772],\n",
       "       [0.84207338, 0.83525074, 0.35644356, 0.70859146, 0.93720192,\n",
       "        0.6255566 , 0.93279784, 1.        , 0.09858804, 0.87728148],\n",
       "       [0.10262892, 0.1006453 , 0.04452097, 0.0662739 , 0.13325858,\n",
       "        0.16437649, 0.09664204, 0.09858804, 1.        , 0.13156447],\n",
       "       [0.76900572, 0.80725829, 0.35418931, 0.68135108, 0.79009851,\n",
       "        0.68232976, 0.85173772, 0.87728148, 0.13156447, 1.        ]])"
      ]
     },
     "execution_count": 23,
     "metadata": {},
     "output_type": "execute_result"
    }
   ],
   "source": [
    "svd_cosine_sims_m[:10,:10]"
   ]
  },
  {
   "cell_type": "code",
   "execution_count": 24,
   "metadata": {},
   "outputs": [],
   "source": [
    "for i in range(subreddit_tfidf.shape[0]):\n",
    "    svd_cosine_sims_m[i,i] = 0"
   ]
  },
  {
   "cell_type": "code",
   "execution_count": 25,
   "metadata": {},
   "outputs": [],
   "source": [
    "for i in range(20):\n",
    "    for j in range(i):\n",
    "        svd_cosine_sims_m[i*1000 : (i+1)*1000, j*1000 : (j+1)*1000] = \\\n",
    "svd_cosine_sims_m[j*1000 : (j+1)*1000, i*1000 : (i+1)*1000].T"
   ]
  },
  {
   "cell_type": "code",
   "execution_count": 26,
   "metadata": {},
   "outputs": [
    {
     "data": {
      "text/plain": [
       "0.5095418193633449"
      ]
     },
     "execution_count": 26,
     "metadata": {},
     "output_type": "execute_result"
    }
   ],
   "source": [
    "svd_cosine_sims_m[3872,10415]"
   ]
  },
  {
   "cell_type": "code",
   "execution_count": 27,
   "metadata": {},
   "outputs": [
    {
     "data": {
      "text/plain": [
       "0.5095418193633449"
      ]
     },
     "execution_count": 27,
     "metadata": {},
     "output_type": "execute_result"
    }
   ],
   "source": [
    "svd_cosine_sims_m[10415,3872]"
   ]
  },
  {
   "cell_type": "code",
   "execution_count": 28,
   "metadata": {},
   "outputs": [],
   "source": [
    "most_similar_user_svd_m = np.zeros(subreddit_tfidf.shape[0], dtype = np.int32)"
   ]
  },
  {
   "cell_type": "code",
   "execution_count": 29,
   "metadata": {},
   "outputs": [],
   "source": [
    "for i in range(subreddit_tfidf.shape[0]):\n",
    "    most_similar_user_svd_m[i] = np.argsort(svd_cosine_sims_m[i])[-1]"
   ]
  },
  {
   "cell_type": "code",
   "execution_count": 30,
   "metadata": {},
   "outputs": [
    {
     "data": {
      "text/plain": [
       "array([   26,    46, 15665,   946,    10,   387,    64,   942, 12012,\n",
       "          48], dtype=int32)"
      ]
     },
     "execution_count": 30,
     "metadata": {},
     "output_type": "execute_result"
    }
   ],
   "source": [
    "most_similar_user_svd_m[:10]"
   ]
  },
  {
   "cell_type": "code",
   "execution_count": 31,
   "metadata": {
    "scrolled": false
   },
   "outputs": [
    {
     "data": {
      "text/plain": [
       "[0.9016211896937636,\n",
       " 0.9341721233427274,\n",
       " 0.9686075509210403,\n",
       " 0.9838868298324015,\n",
       " 0.9634213755201699,\n",
       " 0.7636870576672039,\n",
       " 0.9541651378518858,\n",
       " 0.9675890307830424,\n",
       " 0.9856898533923323,\n",
       " 0.9279269373501593]"
      ]
     },
     "execution_count": 31,
     "metadata": {},
     "output_type": "execute_result"
    }
   ],
   "source": [
    "[svd_cosine_sims_m[i, most_similar_user_svd_m[i]] for i in range(10)]"
   ]
  },
  {
   "cell_type": "code",
   "execution_count": 39,
   "metadata": {},
   "outputs": [
    {
     "data": {
      "text/plain": [
       "0.263164447561359"
      ]
     },
     "execution_count": 39,
     "metadata": {},
     "output_type": "execute_result"
    }
   ],
   "source": [
    "np.sum(svd_cosine_sims_m[sanders_user_indices, :][:,sanders_user_indices]) / \\\n",
    "(len(sanders_user_indices) * (len(sanders_user_indices)-1))"
   ]
  },
  {
   "cell_type": "code",
   "execution_count": 40,
   "metadata": {},
   "outputs": [
    {
     "data": {
      "text/plain": [
       "0.21623163807739687"
      ]
     },
     "execution_count": 40,
     "metadata": {},
     "output_type": "execute_result"
    }
   ],
   "source": [
    "np.sum(svd_cosine_sims_m[trump_user_indices, :][:,trump_user_indices]) / \\\n",
    "(len(trump_user_indices) * (len(trump_user_indices)-1))"
   ]
  },
  {
   "cell_type": "code",
   "execution_count": 41,
   "metadata": {},
   "outputs": [
    {
     "data": {
      "text/plain": [
       "0.22392113887854653"
      ]
     },
     "execution_count": 41,
     "metadata": {},
     "output_type": "execute_result"
    }
   ],
   "source": [
    "np.sum(svd_cosine_sims_m[clinton_user_indices, :][:,clinton_user_indices]) / \\\n",
    "(len(clinton_user_indices) * (len(clinton_user_indices)-1))"
   ]
  },
  {
   "cell_type": "code",
   "execution_count": 42,
   "metadata": {},
   "outputs": [
    {
     "data": {
      "text/plain": [
       "0.2540551920083579"
      ]
     },
     "execution_count": 42,
     "metadata": {},
     "output_type": "execute_result"
    }
   ],
   "source": [
    "np.sum(svd_cosine_sims_m[none_user_indices, :][:,none_user_indices]) / \\\n",
    "(len(none_user_indices) * (len(none_user_indices)-1))"
   ]
  },
  {
   "cell_type": "code",
   "execution_count": 43,
   "metadata": {},
   "outputs": [
    {
     "data": {
      "text/plain": [
       "0.24675364407409253"
      ]
     },
     "execution_count": 43,
     "metadata": {},
     "output_type": "execute_result"
    }
   ],
   "source": [
    "np.sum(svd_cosine_sims_m) / (svd_cosine_sims_m.shape[0] * (svd_cosine_sims_m.shape[1] - 1))"
   ]
  },
  {
   "cell_type": "code",
   "execution_count": 44,
   "metadata": {},
   "outputs": [
    {
     "name": "stdout",
     "output_type": "stream",
     "text": [
      "0.23611804227863864\n",
      "0.22082826112713277\n",
      "0.19205718653634363\n",
      "\n",
      "0.2493614891030537\n",
      "0.2255019885807114\n",
      "0.18887873578199213\n"
     ]
    }
   ],
   "source": [
    "print(np.sum(svd_cosine_sims_m[sanders_user_indices, :][:,trump_user_indices]) / \\\n",
    "((len(sanders_user_indices) * len(trump_user_indices)) - \\\n",
    "len(set(sanders_user_indices).intersection(trump_user_indices))))\n",
    "\n",
    "print(np.sum(svd_cosine_sims_m[sanders_user_indices, :][:,clinton_user_indices]) / \\\n",
    "((len(sanders_user_indices) * len(clinton_user_indices)) - \\\n",
    "len(set(sanders_user_indices).intersection(clinton_user_indices))))\n",
    "\n",
    "print(np.sum(svd_cosine_sims_m[clinton_user_indices, :][:,trump_user_indices]) / \\\n",
    "((len(clinton_user_indices) * len(trump_user_indices)) - \\\n",
    "len(set(clinton_user_indices).intersection(trump_user_indices))))\n",
    "\n",
    "print()\n",
    "print(np.sum(svd_cosine_sims_m[sanders_user_indices, :][:,none_user_indices]) / \\\n",
    "((len(sanders_user_indices) * len(none_user_indices))))\n",
    "print(np.sum(svd_cosine_sims_m[trump_user_indices, :][:,none_user_indices]) / \\\n",
    "((len(trump_user_indices) * len(none_user_indices))))\n",
    "print(np.sum(svd_cosine_sims_m[clinton_user_indices, :][:,none_user_indices]) / \\\n",
    "((len(clinton_user_indices) * len(none_user_indices))))"
   ]
  },
  {
   "cell_type": "code",
   "execution_count": 45,
   "metadata": {},
   "outputs": [
    {
     "name": "stdout",
     "output_type": "stream",
     "text": [
      "177\n",
      "0.11368015414258188\n",
      "98\n",
      "0.10663764961915125\n",
      "27\n",
      "0.19708029197080293\n",
      "\n",
      "86\n",
      "0.05523442517662171\n",
      "66\n",
      "0.07181719260065289\n",
      "7\n",
      "0.051094890510948905\n",
      "\n",
      "11\n",
      "0.007064868336544637\n",
      "10\n",
      "0.01088139281828074\n",
      "4\n",
      "0.029197080291970802\n"
     ]
    }
   ],
   "source": [
    "print(len(set(most_similar_user_svd_m[sanders_user_indices]).intersection(sanders_user_indices)))\n",
    "print(len(set(most_similar_user_svd_m[sanders_user_indices]).intersection(sanders_user_indices))/len(sanders_user_indices))\n",
    "print(len(set(most_similar_user_svd_m[sanders_user_indices]).intersection(trump_user_indices)))\n",
    "print(len(set(most_similar_user_svd_m[sanders_user_indices]).intersection(trump_user_indices))/len(trump_user_indices))\n",
    "print(len(set(most_similar_user_svd_m[sanders_user_indices]).intersection(clinton_user_indices)))\n",
    "print(len(set(most_similar_user_svd_m[sanders_user_indices]).intersection(clinton_user_indices))/len(clinton_user_indices))\n",
    "print()\n",
    "print(len(set(most_similar_user_svd_m[trump_user_indices]).intersection(sanders_user_indices)))\n",
    "print(len(set(most_similar_user_svd_m[trump_user_indices]).intersection(sanders_user_indices))/len(sanders_user_indices))\n",
    "print(len(set(most_similar_user_svd_m[trump_user_indices]).intersection(trump_user_indices)))\n",
    "print(len(set(most_similar_user_svd_m[trump_user_indices]).intersection(trump_user_indices))/len(trump_user_indices))\n",
    "print(len(set(most_similar_user_svd_m[trump_user_indices]).intersection(clinton_user_indices)))\n",
    "print(len(set(most_similar_user_svd_m[trump_user_indices]).intersection(clinton_user_indices))/len(clinton_user_indices))\n",
    "print()\n",
    "print(len(set(most_similar_user_svd_m[clinton_user_indices]).intersection(sanders_user_indices)))\n",
    "print(len(set(most_similar_user_svd_m[clinton_user_indices]).intersection(sanders_user_indices))/len(sanders_user_indices))\n",
    "print(len(set(most_similar_user_svd_m[clinton_user_indices]).intersection(trump_user_indices)))\n",
    "print(len(set(most_similar_user_svd_m[clinton_user_indices]).intersection(trump_user_indices))/len(trump_user_indices))\n",
    "print(len(set(most_similar_user_svd_m[clinton_user_indices]).intersection(clinton_user_indices)))\n",
    "print(len(set(most_similar_user_svd_m[clinton_user_indices]).intersection(clinton_user_indices))/len(clinton_user_indices))\n",
    "\n"
   ]
  },
  {
   "cell_type": "code",
   "execution_count": 46,
   "metadata": {},
   "outputs": [],
   "source": [
    "sanders_sanders_sims_m = []\n",
    "\n",
    "for i in range(len(sanders_user_indices)):\n",
    "    for j in range(i+1, len(sanders_user_indices)):\n",
    "        sanders_sanders_sims_m.append(svd_cosine_sims_m[i,j])"
   ]
  },
  {
   "cell_type": "code",
   "execution_count": 47,
   "metadata": {},
   "outputs": [
    {
     "data": {
      "image/png": "[encoded data removed]",
      "text/plain": [
       "<Figure size 432x288 with 1 Axes>"
      ]
     },
     "metadata": {
      "needs_background": "light"
     },
     "output_type": "display_data"
    }
   ],
   "source": [
    "plt.hist(sanders_sanders_sims_m, range = (-1,1))\n",
    "plt.show()"
   ]
  },
  {
   "cell_type": "code",
   "execution_count": 48,
   "metadata": {},
   "outputs": [],
   "source": [
    "trump_trump_sims_m = []\n",
    "\n",
    "for i in range(len(trump_user_indices)):\n",
    "    for j in range(i+1, len(trump_user_indices)):\n",
    "        trump_trump_sims_m.append(svd_cosine_sims_m[i,j])"
   ]
  },
  {
   "cell_type": "code",
   "execution_count": 49,
   "metadata": {
    "scrolled": true
   },
   "outputs": [
    {
     "data": {
      "image/png": "[encoded data removed]",
      "text/plain": [
       "<Figure size 432x288 with 1 Axes>"
      ]
     },
     "metadata": {
      "needs_background": "light"
     },
     "output_type": "display_data"
    }
   ],
   "source": [
    "plt.hist(trump_trump_sims_m, range = (-1,1) )\n",
    "plt.show()"
   ]
  },
  {
   "cell_type": "code",
   "execution_count": 50,
   "metadata": {},
   "outputs": [],
   "source": [
    "clinton_clinton_sims_m = []\n",
    "\n",
    "for i in range(len(clinton_user_indices)):\n",
    "    for j in range(i+1, len(clinton_user_indices)):\n",
    "        clinton_clinton_sims_m.append(svd_cosine_sims_m[i,j])"
   ]
  },
  {
   "cell_type": "code",
   "execution_count": 51,
   "metadata": {
    "scrolled": true
   },
   "outputs": [
    {
     "data": {
      "image/png": "[encoded data removed]",
      "text/plain": [
       "<Figure size 432x288 with 1 Axes>"
      ]
     },
     "metadata": {
      "needs_background": "light"
     },
     "output_type": "display_data"
    }
   ],
   "source": [
    "plt.hist(clinton_clinton_sims_m, range = (-1,1))\n",
    "plt.show()"
   ]
  },
  {
   "cell_type": "code",
   "execution_count": 53,
   "metadata": {},
   "outputs": [
    {
     "data": {
      "image/png": "[encoded data removed]",
      "text/plain": [
       "<Figure size 432x288 with 1 Axes>"
      ]
     },
     "metadata": {
      "needs_background": "light"
     },
     "output_type": "display_data"
    }
   ],
   "source": [
    "plt.hist(svd_cosine_sims_m.flatten(), range=(-1,1))\n",
    "plt.show()"
   ]
  },
  {
   "cell_type": "code",
   "execution_count": 54,
   "metadata": {},
   "outputs": [],
   "source": [
    "most_similar_50_users_svd_m = np.zeros((subreddit_tfidf.shape[0],50), dtype = np.int32)\n",
    "\n",
    "for i in range(subreddit_tfidf.shape[0]):\n",
    "    most_similar_50_users_svd_m[i] = np.flip(np.argsort(svd_cosine_sims_m[i])[-50:])\n"
   ]
  },
  {
   "cell_type": "code",
   "execution_count": 55,
   "metadata": {},
   "outputs": [
    {
     "data": {
      "text/plain": [
       "array([  26,   14,    7,  531,   10,  942,  882,    6,   35,  102,  494,\n",
       "          4,  111,  353,   48,   16,   43,  418,  109,    9,   20,   64,\n",
       "        288,  131,  105,   55,   37,  571,   88,  839,  276,  644,   62,\n",
       "        425,  168,   22, 1178,  307,   44,  504,  240,  473,   80,   93,\n",
       "         95, 1055, 1532,   85,  383,   70], dtype=int32)"
      ]
     },
     "execution_count": 55,
     "metadata": {},
     "output_type": "execute_result"
    }
   ],
   "source": [
    "most_similar_50_users_svd_m[0]"
   ]
  },
  {
   "cell_type": "code",
   "execution_count": 56,
   "metadata": {},
   "outputs": [],
   "source": [
    "most_similar_50_set_m = [set(i) for i in most_similar_50_users_svd_m]"
   ]
  },
  {
   "cell_type": "code",
   "execution_count": 57,
   "metadata": {},
   "outputs": [
    {
     "name": "stdout",
     "output_type": "stream",
     "text": [
      "5.619139370584457\n",
      "4.0\n",
      "103.33847141939627\n",
      "129.4787234042553\n",
      "173.056\n"
     ]
    }
   ],
   "source": [
    "print(np.mean([len(most_similar_50_set_m[i].intersection(sanders_user_indices)) for i in sanders_user_indices]))\n",
    "print(np.median([len(most_similar_50_set_m[i].intersection(sanders_user_indices)) for i in sanders_user_indices]))\n",
    "print(np.mean([num_sanders[author_names[i]] for i in sanders_user_indices]))\n",
    "print(np.mean([num_sanders[author_names[i]] for i in sanders_user_indices if len(most_similar_50_set_m[i].intersection(sanders_user_indices)) >= 5]))\n",
    "print(np.mean([num_sanders[author_names[i]] for i in sanders_user_indices if len(most_similar_50_set_m[i].intersection(sanders_user_indices)) >= 10]))\n"
   ]
  },
  {
   "cell_type": "code",
   "execution_count": 58,
   "metadata": {},
   "outputs": [
    {
     "data": {
      "image/png": "[encoded data removed]",
      "text/plain": [
       "<Figure size 432x288 with 1 Axes>"
      ]
     },
     "metadata": {
      "needs_background": "light"
     },
     "output_type": "display_data"
    }
   ],
   "source": [
    "plt.hist([len(most_similar_50_set_m[i].intersection(sanders_user_indices)) for i in sanders_user_indices], range = (0,50))\n",
    "plt.show()"
   ]
  },
  {
   "cell_type": "code",
   "execution_count": 65,
   "metadata": {},
   "outputs": [
    {
     "name": "stdout",
     "output_type": "stream",
     "text": [
      "752\n",
      "250\n",
      "0\n"
     ]
    }
   ],
   "source": [
    "print(sum([1 for i in sanders_user_indices if len(most_similar_50_set_m[i].intersection(sanders_user_indices)) >= 5]))\n",
    "print(sum([1 for i in sanders_user_indices if len(most_similar_50_set_m[i].intersection(sanders_user_indices)) >= 10]))\n",
    "print(sum([1 for i in sanders_user_indices if len(most_similar_50_set_m[i].intersection(sanders_user_indices)) >= 30]))"
   ]
  },
  {
   "cell_type": "code",
   "execution_count": 60,
   "metadata": {},
   "outputs": [
    {
     "name": "stdout",
     "output_type": "stream",
     "text": [
      "3.189336235038085\n",
      "3.0\n",
      "215\n",
      "18\n",
      "0\n",
      "97.14907508161045\n",
      "109.76744186046511\n",
      "49.111111111111114\n"
     ]
    },
    {
     "data": {
      "image/png": "[encoded data removed]",
      "text/plain": [
       "<Figure size 432x288 with 1 Axes>"
      ]
     },
     "metadata": {
      "needs_background": "light"
     },
     "output_type": "display_data"
    }
   ],
   "source": [
    "print(np.mean([len(most_similar_50_set_m[i].intersection(trump_user_indices)) for i in trump_user_indices]))\n",
    "print(np.median([len(most_similar_50_set_m[i].intersection(trump_user_indices)) for i in trump_user_indices]))\n",
    "print(sum([1 for i in trump_user_indices if len(most_similar_50_set_m[i].intersection(trump_user_indices)) >= 5]))\n",
    "print(sum([1 for i in trump_user_indices if len(most_similar_50_set_m[i].intersection(trump_user_indices)) >= 10]))\n",
    "print(sum([1 for i in trump_user_indices if len(most_similar_50_set_m[i].intersection(trump_user_indices)) >= 30]))\n",
    "print(np.mean([num_trump[author_names[i]] for i in trump_user_indices]))\n",
    "print(np.mean([num_trump[author_names[i]] for i in trump_user_indices if len(most_similar_50_set_m[i].intersection(trump_user_indices)) >= 5]))\n",
    "print(np.mean([num_trump[author_names[i]] for i in trump_user_indices if len(most_similar_50_set_m[i].intersection(trump_user_indices)) >= 10]))\n",
    "\n",
    "plt.hist([len(most_similar_50_set_m[i].intersection(trump_user_indices)) for i in trump_user_indices], range = (0,50))\n",
    "plt.show()"
   ]
  },
  {
   "cell_type": "code",
   "execution_count": 61,
   "metadata": {
    "scrolled": true
   },
   "outputs": [
    {
     "name": "stdout",
     "output_type": "stream",
     "text": [
      "1.489051094890511\n",
      "1.0\n",
      "20\n",
      "0\n",
      "0\n"
     ]
    },
    {
     "data": {
      "image/png": "[encoded data removed]",
      "text/plain": [
       "<Figure size 432x288 with 1 Axes>"
      ]
     },
     "metadata": {
      "needs_background": "light"
     },
     "output_type": "display_data"
    }
   ],
   "source": [
    "print(np.mean([len(most_similar_50_set_m[i].intersection(clinton_user_indices)) for i in clinton_user_indices]))\n",
    "print(np.median([len(most_similar_50_set_m[i].intersection(clinton_user_indices)) for i in clinton_user_indices]))\n",
    "print(sum([1 for i in clinton_user_indices if len(most_similar_50_set_m[i].intersection(clinton_user_indices)) >= 5]))\n",
    "print(sum([1 for i in clinton_user_indices if len(most_similar_50_set_m[i].intersection(clinton_user_indices)) >= 10]))\n",
    "print(sum([1 for i in clinton_user_indices if len(most_similar_50_set_m[i].intersection(clinton_user_indices)) >= 30]))\n",
    "# print(np.mean([num_clinton[author_names[i]] for i in clinton_user_indices]))\n",
    "# print(np.mean([num_clinton[author_names[i]] for i in clinton_user_indices if len(most_similar_50_set_m[i].intersection(clinton_user_indices)) >= 10]))\n",
    "\n",
    "\n",
    "plt.hist([len(most_similar_50_set_m[i].intersection(clinton_user_indices)) for i in clinton_user_indices], range = (0,50))\n",
    "plt.show()"
   ]
  },
  {
   "cell_type": "markdown",
   "metadata": {},
   "source": [
    "### Similarities across groups"
   ]
  },
  {
   "cell_type": "markdown",
   "metadata": {},
   "source": [
    "### Sanders"
   ]
  },
  {
   "cell_type": "code",
   "execution_count": 74,
   "metadata": {},
   "outputs": [
    {
     "name": "stdout",
     "output_type": "stream",
     "text": [
      "5.619139370584457\n",
      "4.0\n",
      "752\n",
      "250\n",
      "103.33847141939627\n",
      "129.4787234042553\n",
      "173.056\n"
     ]
    },
    {
     "data": {
      "image/png": "[encoded data removed]",
      "text/plain": [
       "<Figure size 432x288 with 1 Axes>"
      ]
     },
     "metadata": {
      "needs_background": "light"
     },
     "output_type": "display_data"
    }
   ],
   "source": [
    "print(np.mean([len(most_similar_50_set_m[i].intersection(sanders_user_indices)) for i in sanders_user_indices]))\n",
    "print(np.median([len(most_similar_50_set_m[i].intersection(sanders_user_indices)) for i in sanders_user_indices]))\n",
    "print(sum([1 for i in sanders_user_indices if len(most_similar_50_set_m[i].intersection(sanders_user_indices)) >= 5]))\n",
    "print(sum([1 for i in sanders_user_indices if len(most_similar_50_set_m[i].intersection(sanders_user_indices)) >= 10]))\n",
    "print(np.mean([num_sanders[author_names[i]] for i in sanders_user_indices]))\n",
    "print(np.mean([num_sanders[author_names[i]] for i in sanders_user_indices if len(most_similar_50_set_m[i].intersection(sanders_user_indices)) >= 5]))\n",
    "print(np.mean([num_sanders[author_names[i]] for i in sanders_user_indices if len(most_similar_50_set_m[i].intersection(sanders_user_indices)) >= 10]))\n",
    "\n",
    "plt.hist([len(most_similar_50_set_m[i].intersection(trump_user_indices)) for i in sanders_user_indices], range = (0,50))\n",
    "plt.show()"
   ]
  },
  {
   "cell_type": "code",
   "execution_count": 75,
   "metadata": {},
   "outputs": [
    {
     "name": "stdout",
     "output_type": "stream",
     "text": [
      "2.823378291586384\n",
      "3.0\n",
      "292\n",
      "12\n",
      "14.23956326268465\n",
      "17.65753424657534\n",
      "11.416666666666666\n",
      "103.33847141939627\n",
      "133.93835616438355\n",
      "63.833333333333336\n"
     ]
    },
    {
     "data": {
      "image/png": "[encoded data removed]",
      "text/plain": [
       "<Figure size 432x288 with 1 Axes>"
      ]
     },
     "metadata": {
      "needs_background": "light"
     },
     "output_type": "display_data"
    }
   ],
   "source": [
    "print(np.mean([len(most_similar_50_set_m[i].intersection(trump_user_indices)) for i in sanders_user_indices]))\n",
    "print(np.median([len(most_similar_50_set_m[i].intersection(trump_user_indices)) for i in sanders_user_indices]))\n",
    "print(sum([1 for i in sanders_user_indices if len(most_similar_50_set_m[i].intersection(trump_user_indices)) >= 5]))\n",
    "print(sum([1 for i in sanders_user_indices if len(most_similar_50_set_m[i].intersection(trump_user_indices)) >= 10]))\n",
    "print(np.mean([num_trump[author_names[i]] for i in sanders_user_indices]))\n",
    "print(np.mean([num_trump[author_names[i]] for i in sanders_user_indices if len(most_similar_50_set_m[i].intersection(trump_user_indices)) >= 5]))\n",
    "print(np.mean([num_trump[author_names[i]] for i in sanders_user_indices if len(most_similar_50_set_m[i].intersection(trump_user_indices)) >= 10]))\n",
    "print(np.mean([num_sanders[author_names[i]] for i in sanders_user_indices]))\n",
    "print(np.mean([num_sanders[author_names[i]] for i in sanders_user_indices if len(most_similar_50_set_m[i].intersection(trump_user_indices)) >= 5]))\n",
    "print(np.mean([num_sanders[author_names[i]] for i in sanders_user_indices if len(most_similar_50_set_m[i].intersection(trump_user_indices)) >= 10]))\n",
    "\n",
    "plt.hist([len(most_similar_50_set_m[i].intersection(trump_user_indices)) for i in sanders_user_indices], range = (0,50))\n",
    "plt.show()"
   ]
  },
  {
   "cell_type": "code",
   "execution_count": 79,
   "metadata": {
    "scrolled": false
   },
   "outputs": [
    {
     "name": "stdout",
     "output_type": "stream",
     "text": [
      "0.6210661528580603\n",
      "0.0\n",
      "49\n",
      "0\n",
      "5.449582530507386\n",
      "57.87755102040816\n",
      "103.33847141939627\n",
      "112.77551020408163\n"
     ]
    },
    {
     "data": {
      "image/png": "[encoded data removed]",
      "text/plain": [
       "<Figure size 432x288 with 1 Axes>"
      ]
     },
     "metadata": {
      "needs_background": "light"
     },
     "output_type": "display_data"
    }
   ],
   "source": [
    "print(np.mean([len(most_similar_50_set_m[i].intersection(clinton_user_indices)) for i in sanders_user_indices]))\n",
    "print(np.median([len(most_similar_50_set_m[i].intersection(clinton_user_indices)) for i in sanders_user_indices]))\n",
    "print(sum([1 for i in sanders_user_indices if len(most_similar_50_set_m[i].intersection(clinton_user_indices)) >= 5]))\n",
    "print(sum([1 for i in sanders_user_indices if len(most_similar_50_set_m[i].intersection(clinton_user_indices)) >= 10]))\n",
    "print(np.mean([num_clinton[author_names[i]] for i in sanders_user_indices]))\n",
    "print(np.mean([num_clinton[author_names[i]] for i in sanders_user_indices if len(most_similar_50_set_m[i].intersection(clinton_user_indices)) >= 5]))\n",
    "# print(np.mean([num_clinton[author_names[i]] for i in sanders_user_indices if len(most_similar_50_set_m[i].intersection(clinton_user_indices)) >= 10]))\n",
    "print(np.mean([num_sanders[author_names[i]] for i in sanders_user_indices]))\n",
    "print(np.mean([num_sanders[author_names[i]] for i in sanders_user_indices if len(most_similar_50_set_m[i].intersection(clinton_user_indices)) >= 5]))\n",
    "# print(np.mean([num_sanders[author_names[i]] for i in sanders_user_indices if len(most_similar_50_set_m[i].intersection(clinton_user_indices)) >= 10]))\n",
    "\n",
    "plt.hist([len(most_similar_50_set_m[i].intersection(clinton_user_indices)) for i in sanders_user_indices], range = (0,50))\n",
    "plt.show()"
   ]
  },
  {
   "cell_type": "markdown",
   "metadata": {},
   "source": [
    "### Trump"
   ]
  },
  {
   "cell_type": "code",
   "execution_count": 77,
   "metadata": {},
   "outputs": [
    {
     "name": "stdout",
     "output_type": "stream",
     "text": [
      "3.189336235038085\n",
      "3.0\n",
      "215\n",
      "18\n",
      "97.14907508161045\n",
      "109.76744186046511\n",
      "49.111111111111114\n"
     ]
    },
    {
     "data": {
      "image/png": "[encoded data removed]",
      "text/plain": [
       "<Figure size 432x288 with 1 Axes>"
      ]
     },
     "metadata": {
      "needs_background": "light"
     },
     "output_type": "display_data"
    }
   ],
   "source": [
    "print(np.mean([len(most_similar_50_set_m[i].intersection(trump_user_indices)) for i in trump_user_indices]))\n",
    "print(np.median([len(most_similar_50_set_m[i].intersection(trump_user_indices)) for i in trump_user_indices]))\n",
    "print(sum([1 for i in trump_user_indices if len(most_similar_50_set_m[i].intersection(trump_user_indices)) >= 5]))\n",
    "print(sum([1 for i in trump_user_indices if len(most_similar_50_set_m[i].intersection(trump_user_indices)) >= 10]))\n",
    "print(np.mean([num_trump[author_names[i]] for i in trump_user_indices]))\n",
    "print(np.mean([num_trump[author_names[i]] for i in trump_user_indices if len(most_similar_50_set_m[i].intersection(trump_user_indices)) >= 5]))\n",
    "print(np.mean([num_trump[author_names[i]] for i in trump_user_indices if len(most_similar_50_set_m[i].intersection(trump_user_indices)) >= 10]))\n",
    "\n",
    "plt.hist([len(most_similar_50_set_m[i].intersection(trump_user_indices)) for i in trump_user_indices], range = (0,50))\n",
    "plt.show()"
   ]
  },
  {
   "cell_type": "code",
   "execution_count": 78,
   "metadata": {},
   "outputs": [
    {
     "name": "stdout",
     "output_type": "stream",
     "text": [
      "4.936887921653971\n",
      "4.0\n",
      "397\n",
      "101\n",
      "0\n",
      "97.14907508161045\n",
      "111.55667506297229\n",
      "139.05940594059405\n",
      "18.98150163220892\n",
      "30.869017632241814\n",
      "51.15841584158416\n"
     ]
    },
    {
     "data": {
      "image/png": "[encoded data removed]",
      "text/plain": [
       "<Figure size 432x288 with 1 Axes>"
      ]
     },
     "metadata": {
      "needs_background": "light"
     },
     "output_type": "display_data"
    }
   ],
   "source": [
    "print(np.mean([len(most_similar_50_set_m[i].intersection(sanders_user_indices)) for i in trump_user_indices]))\n",
    "print(np.median([len(most_similar_50_set_m[i].intersection(sanders_user_indices)) for i in trump_user_indices]))\n",
    "print(sum([1 for i in trump_user_indices if len(most_similar_50_set_m[i].intersection(sanders_user_indices)) >= 5]))\n",
    "print(sum([1 for i in trump_user_indices if len(most_similar_50_set_m[i].intersection(sanders_user_indices)) >= 10]))\n",
    "print(sum([1 for i in trump_user_indices if len(most_similar_50_set_m[i].intersection(sanders_user_indices)) >= 30]))\n",
    "print(np.mean([num_trump[author_names[i]] for i in trump_user_indices]))\n",
    "print(np.mean([num_trump[author_names[i]] for i in trump_user_indices if len(most_similar_50_set_m[i].intersection(sanders_user_indices)) >= 5]))\n",
    "print(np.mean([num_trump[author_names[i]] for i in trump_user_indices if len(most_similar_50_set_m[i].intersection(sanders_user_indices)) >= 10]))\n",
    "print(np.mean([num_sanders[author_names[i]] for i in trump_user_indices]))\n",
    "print(np.mean([num_sanders[author_names[i]] for i in trump_user_indices if len(most_similar_50_set_m[i].intersection(sanders_user_indices)) >= 5]))\n",
    "print(np.mean([num_sanders[author_names[i]] for i in trump_user_indices if len(most_similar_50_set_m[i].intersection(sanders_user_indices)) >= 10]))\n",
    "\n",
    "plt.hist([len(most_similar_50_set_m[i].intersection(sanders_user_indices)) for i in trump_user_indices], range = (0,50))\n",
    "plt.show()"
   ]
  },
  {
   "cell_type": "code",
   "execution_count": 81,
   "metadata": {
    "scrolled": false
   },
   "outputs": [
    {
     "name": "stdout",
     "output_type": "stream",
     "text": [
      "0.528835690968444\n",
      "0.0\n",
      "21\n",
      "0\n",
      "1.0848748639825898\n",
      "1.619047619047619\n",
      "97.14907508161045\n",
      "208.23809523809524\n"
     ]
    },
    {
     "data": {
      "image/png": "[encoded data removed]",
      "text/plain": [
       "<Figure size 432x288 with 1 Axes>"
      ]
     },
     "metadata": {
      "needs_background": "light"
     },
     "output_type": "display_data"
    }
   ],
   "source": [
    "print(np.mean([len(most_similar_50_set_m[i].intersection(clinton_user_indices)) for i in trump_user_indices]))\n",
    "print(np.median([len(most_similar_50_set_m[i].intersection(clinton_user_indices)) for i in trump_user_indices]))\n",
    "print(sum([1 for i in trump_user_indices if len(most_similar_50_set_m[i].intersection(clinton_user_indices)) >= 5]))\n",
    "print(sum([1 for i in trump_user_indices if len(most_similar_50_set_m[i].intersection(clinton_user_indices)) >= 10]))\n",
    "print(np.mean([num_clinton[author_names[i]] for i in trump_user_indices]))\n",
    "print(np.mean([num_clinton[author_names[i]] for i in trump_user_indices if len(most_similar_50_set_m[i].intersection(clinton_user_indices)) >= 5]))\n",
    "# print(np.mean([num_clinton[author_names[i]] for i in sanders_user_indices if len(most_similar_50_set_m[i].intersection(clinton_user_indices)) >= 10]))\n",
    "print(np.mean([num_trump[author_names[i]] for i in trump_user_indices]))\n",
    "print(np.mean([num_trump[author_names[i]] for i in trump_user_indices if len(most_similar_50_set_m[i].intersection(clinton_user_indices)) >= 5]))\n",
    "# print(np.mean([num_sanders[author_names[i]] for i in sanders_user_indices if len(most_similar_50_set_m[i].intersection(clinton_user_indices)) >= 10]))\n",
    "\n",
    "plt.hist([len(most_similar_50_set_m[i].intersection(clinton_user_indices)) for i in trump_user_indices], range = (0,50))\n",
    "plt.show()"
   ]
  },
  {
   "cell_type": "markdown",
   "metadata": {},
   "source": [
    "### Clinton"
   ]
  },
  {
   "cell_type": "code",
   "execution_count": 83,
   "metadata": {},
   "outputs": [
    {
     "name": "stdout",
     "output_type": "stream",
     "text": [
      "1.489051094890511\n",
      "1.0\n",
      "20\n",
      "0\n",
      "95.81751824817518\n",
      "210.65\n"
     ]
    },
    {
     "data": {
      "image/png": "[encoded data removed]",
      "text/plain": [
       "<Figure size 432x288 with 1 Axes>"
      ]
     },
     "metadata": {
      "needs_background": "light"
     },
     "output_type": "display_data"
    }
   ],
   "source": [
    "print(np.mean([len(most_similar_50_set_m[i].intersection(clinton_user_indices)) for i in clinton_user_indices]))\n",
    "print(np.median([len(most_similar_50_set_m[i].intersection(clinton_user_indices)) for i in clinton_user_indices]))\n",
    "print(sum([1 for i in clinton_user_indices if len(most_similar_50_set_m[i].intersection(clinton_user_indices)) >= 5]))\n",
    "print(sum([1 for i in clinton_user_indices if len(most_similar_50_set_m[i].intersection(clinton_user_indices)) >= 10]))\n",
    "print(np.mean([num_clinton[author_names[i]] for i in clinton_user_indices]))\n",
    "print(np.mean([num_clinton[author_names[i]] for i in clinton_user_indices if len(most_similar_50_set_m[i].intersection(clinton_user_indices)) >= 5]))\n",
    "# print(np.mean([num_clinton[author_names[i]] for i in clinton_user_indices if len(most_similar_50_set_m[i].intersection(clinton_user_indices)) >= 10]))\n",
    "\n",
    "plt.hist([len(most_similar_50_set_m[i].intersection(clinton_user_indices)) for i in clinton_user_indices], range = (0,50))\n",
    "plt.show()"
   ]
  },
  {
   "cell_type": "code",
   "execution_count": 85,
   "metadata": {},
   "outputs": [
    {
     "name": "stdout",
     "output_type": "stream",
     "text": [
      "7.08029197080292\n",
      "5.0\n",
      "77\n",
      "39\n",
      "95.81751824817518\n",
      "127.98701298701299\n",
      "143.28205128205127\n",
      "125.0\n",
      "176.7922077922078\n",
      "89.71794871794872\n"
     ]
    },
    {
     "data": {
      "image/png": "[encoded data removed]",
      "text/plain": [
       "<Figure size 432x288 with 1 Axes>"
      ]
     },
     "metadata": {
      "needs_background": "light"
     },
     "output_type": "display_data"
    }
   ],
   "source": [
    "print(np.mean([len(most_similar_50_set_m[i].intersection(sanders_user_indices)) for i in clinton_user_indices]))\n",
    "print(np.median([len(most_similar_50_set_m[i].intersection(sanders_user_indices)) for i in clinton_user_indices]))\n",
    "print(sum([1 for i in clinton_user_indices if len(most_similar_50_set_m[i].intersection(sanders_user_indices)) >= 5]))\n",
    "print(sum([1 for i in clinton_user_indices if len(most_similar_50_set_m[i].intersection(sanders_user_indices)) >= 10]))\n",
    "print(np.mean([num_clinton[author_names[i]] for i in clinton_user_indices]))\n",
    "print(np.mean([num_clinton[author_names[i]] for i in clinton_user_indices if len(most_similar_50_set_m[i].intersection(sanders_user_indices)) >= 5]))\n",
    "print(np.mean([num_clinton[author_names[i]] for i in clinton_user_indices if len(most_similar_50_set_m[i].intersection(sanders_user_indices)) >= 10]))\n",
    "print(np.mean([num_sanders[author_names[i]] for i in clinton_user_indices]))\n",
    "print(np.mean([num_sanders[author_names[i]] for i in clinton_user_indices if len(most_similar_50_set_m[i].intersection(sanders_user_indices)) >= 5]))\n",
    "print(np.mean([num_sanders[author_names[i]] for i in clinton_user_indices if len(most_similar_50_set_m[i].intersection(sanders_user_indices)) >= 10]))\n",
    "\n",
    "plt.hist([len(most_similar_50_set_m[i].intersection(sanders_user_indices)) for i in clinton_user_indices], range = (0,50))\n",
    "plt.show()"
   ]
  },
  {
   "cell_type": "code",
   "execution_count": 86,
   "metadata": {
    "scrolled": true
   },
   "outputs": [
    {
     "name": "stdout",
     "output_type": "stream",
     "text": [
      "3.065693430656934\n",
      "3.0\n",
      "29\n",
      "2\n",
      "12.81021897810219\n",
      "3.0344827586206895\n",
      "12.5\n",
      "95.81751824817518\n",
      "69.06896551724138\n",
      "102.5\n"
     ]
    },
    {
     "data": {
      "image/png": "[encoded data removed]",
      "text/plain": [
       "<Figure size 432x288 with 1 Axes>"
      ]
     },
     "metadata": {
      "needs_background": "light"
     },
     "output_type": "display_data"
    }
   ],
   "source": [
    "print(np.mean([len(most_similar_50_set_m[i].intersection(trump_user_indices)) for i in clinton_user_indices]))\n",
    "print(np.median([len(most_similar_50_set_m[i].intersection(trump_user_indices)) for i in clinton_user_indices]))\n",
    "print(sum([1 for i in clinton_user_indices if len(most_similar_50_set_m[i].intersection(trump_user_indices)) >= 5]))\n",
    "print(sum([1 for i in clinton_user_indices if len(most_similar_50_set_m[i].intersection(trump_user_indices)) >= 10]))\n",
    "print(np.mean([num_trump[author_names[i]] for i in clinton_user_indices]))\n",
    "print(np.mean([num_trump[author_names[i]] for i in clinton_user_indices if len(most_similar_50_set_m[i].intersection(trump_user_indices)) >= 5]))\n",
    "print(np.mean([num_trump[author_names[i]] for i in clinton_user_indices if len(most_similar_50_set_m[i].intersection(trump_user_indices)) >= 10]))\n",
    "print(np.mean([num_clinton[author_names[i]] for i in clinton_user_indices]))\n",
    "print(np.mean([num_clinton[author_names[i]] for i in clinton_user_indices if len(most_similar_50_set_m[i].intersection(trump_user_indices)) >= 5]))\n",
    "print(np.mean([num_clinton[author_names[i]] for i in clinton_user_indices if len(most_similar_50_set_m[i].intersection(trump_user_indices)) >= 10]))\n",
    "\n",
    "plt.hist([len(most_similar_50_set_m[i].intersection(trump_user_indices)) for i in clinton_user_indices], range = (0,50))\n",
    "plt.show()"
   ]
  },
  {
   "cell_type": "code",
   "execution_count": null,
   "metadata": {},
   "outputs": [],
   "source": []
  }
 ],
 "metadata": {
  "kernelspec": {
   "display_name": "Python 3",
   "language": "python",
   "name": "python3"
  },
  "language_info": {
   "codemirror_mode": {
    "name": "ipython",
    "version": 3
   },
   "file_extension": ".py",
   "mimetype": "text/x-python",
   "name": "python",
   "nbconvert_exporter": "python",
   "pygments_lexer": "ipython3",
   "version": "3.7.3"
  }
 },
 "nbformat": 4,
 "nbformat_minor": 2
}
