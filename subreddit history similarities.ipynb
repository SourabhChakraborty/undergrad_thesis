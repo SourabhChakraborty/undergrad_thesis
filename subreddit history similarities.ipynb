{
 "cells": [
  {
   "cell_type": "code",
   "execution_count": 1,
   "metadata": {},
   "outputs": [],
   "source": [
    "import json\n",
    "import pickle\n",
    "\n",
    "from scipy.sparse import coo_matrix, csr_matrix, csc_matrix\n",
    "from scipy.linalg import norm\n",
    "\n",
    "from sklearn.decomposition import PCA, TruncatedSVD\n",
    "\n",
    "from matplotlib import pyplot as plt\n",
    "from IPython.display import HTML, display\n",
    "import pandas as pd\n",
    "import numpy as np\n"
   ]
  },
  {
   "cell_type": "code",
   "execution_count": 2,
   "metadata": {},
   "outputs": [],
   "source": [
    "with open(\"stored_variables/user_subreddit_tf.pickle\", \"rb\") as f:\n",
    "    subreddit_tf = pickle.load(f)"
   ]
  },
  {
   "cell_type": "code",
   "execution_count": 3,
   "metadata": {},
   "outputs": [],
   "source": [
    "with open(\"stored_variables/user_subreddit_df_mat.pickle\", \"rb\") as f:\n",
    "    subreddit_df_mat = pickle.load(f)"
   ]
  },
  {
   "cell_type": "code",
   "execution_count": 4,
   "metadata": {},
   "outputs": [],
   "source": [
    "with open(\"stored_variables/user_subreddit_tf_auths.pickle\", \"rb\") as f:\n",
    "    author_names = pickle.load(f)"
   ]
  },
  {
   "cell_type": "code",
   "execution_count": 5,
   "metadata": {},
   "outputs": [],
   "source": [
    "with open(\"stored_variables/user_subreddit_tf_subreddit_names.pickle\", \"rb\") as f:\n",
    "    subreddit_reverse_dict = pickle.load(f)"
   ]
  },
  {
   "cell_type": "code",
   "execution_count": 6,
   "metadata": {},
   "outputs": [
    {
     "data": {
      "text/plain": [
       "array([100.50373127, 201.00746255])"
      ]
     },
     "execution_count": 6,
     "metadata": {},
     "output_type": "execute_result"
    }
   ],
   "source": [
    "norm(np.array([[1,10,100],[2,20,200]]), ord=2, axis=1)"
   ]
  },
  {
   "cell_type": "markdown",
   "metadata": {},
   "source": [
    "## Cosine similarity"
   ]
  },
  {
   "cell_type": "code",
   "execution_count": 7,
   "metadata": {},
   "outputs": [],
   "source": [
    "subreddit_tf_c = coo_matrix(subreddit_tf)"
   ]
  },
  {
   "cell_type": "code",
   "execution_count": 8,
   "metadata": {},
   "outputs": [],
   "source": [
    "subreddit_df_c = coo_matrix(subreddit_df_mat)"
   ]
  },
  {
   "cell_type": "code",
   "execution_count": 9,
   "metadata": {},
   "outputs": [],
   "source": [
    "subreddit_idf = subreddit_df_c.sum() / subreddit_df_c.sum(axis=0)"
   ]
  },
  {
   "cell_type": "code",
   "execution_count": 10,
   "metadata": {},
   "outputs": [],
   "source": [
    "subreddit_tfidf = csr_matrix(subreddit_tf_c.multiply(subreddit_idf))"
   ]
  },
  {
   "cell_type": "code",
   "execution_count": 11,
   "metadata": {},
   "outputs": [],
   "source": [
    "subreddit_tfidf_norms = np.zeros(subreddit_tfidf.shape[0])"
   ]
  },
  {
   "cell_type": "code",
   "execution_count": 12,
   "metadata": {},
   "outputs": [],
   "source": [
    "subreddit_tfidf_norms[:1000] = norm(subreddit_tfidf[:1000,:].toarray(), axis=1)"
   ]
  },
  {
   "cell_type": "code",
   "execution_count": 13,
   "metadata": {},
   "outputs": [],
   "source": [
    "for i in range(20):\n",
    "    subreddit_tfidf_norms[i*1000 : (i+1) * 1000] = norm(subreddit_tfidf[i*1000 : (i+1) * 1000].toarray(), axis=1)"
   ]
  },
  {
   "cell_type": "code",
   "execution_count": 14,
   "metadata": {},
   "outputs": [],
   "source": [
    "subreddit_tfidf_normalized = csr_matrix(subreddit_tfidf / subreddit_tfidf_norms[:, np.newaxis])"
   ]
  },
  {
   "cell_type": "code",
   "execution_count": 64,
   "metadata": {},
   "outputs": [],
   "source": [
    "subreddit_cosine_sims = np.zeros((subreddit_tfidf.shape[0], subreddit_tfidf.shape[0]))"
   ]
  },
  {
   "cell_type": "code",
   "execution_count": 65,
   "metadata": {},
   "outputs": [],
   "source": [
    "for i in range(20):\n",
    "    chunk1 = subreddit_tfidf_normalized[i*1000 : (i+1)*1000, :]\n",
    "    for j in range(20):\n",
    "        chunk2 = subreddit_tfidf_normalized[j*1000 : (j+1)*1000, :]\n",
    "        subreddit_cosine_sims[i*1000 : (i+1)*1000, j*1000 : (j+1)*1000] = chunk1.dot(csc_matrix(chunk2.T)).toarray()\n"
   ]
  },
  {
   "cell_type": "code",
   "execution_count": 71,
   "metadata": {},
   "outputs": [],
   "source": [
    "for i in range(subreddit_tfidf.shape[0]):\n",
    "    subreddit_cosine_sims[i,i] = 0"
   ]
  },
  {
   "cell_type": "code",
   "execution_count": 72,
   "metadata": {},
   "outputs": [],
   "source": [
    "with open(\"stored_variables/user_subreddit_tfidf_cossims.pickle\", \"wb\") as f:\n",
    "    pickle.dump(subreddit_cosine_sims, f)"
   ]
  },
  {
   "cell_type": "code",
   "execution_count": 73,
   "metadata": {},
   "outputs": [],
   "source": [
    "most_similar_user = np.zeros(subreddit_tfidf.shape[0], dtype = np.int32)"
   ]
  },
  {
   "cell_type": "code",
   "execution_count": 74,
   "metadata": {},
   "outputs": [],
   "source": [
    "for i in range(subreddit_tfidf.shape[0]):\n",
    "    most_similar_user[i] = np.argsort(subreddit_cosine_sims[i])[-1]"
   ]
  },
  {
   "cell_type": "code",
   "execution_count": 75,
   "metadata": {},
   "outputs": [
    {
     "data": {
      "text/plain": [
       "array([12734, 16299, 11530, 16466, 14127,  5294,   535,  1117, 17327,\n",
       "       15723], dtype=int32)"
      ]
     },
     "execution_count": 75,
     "metadata": {},
     "output_type": "execute_result"
    }
   ],
   "source": [
    "most_similar_user[:10]"
   ]
  },
  {
   "cell_type": "code",
   "execution_count": 76,
   "metadata": {
    "scrolled": true
   },
   "outputs": [
    {
     "data": {
      "text/plain": [
       "[0.27577932149851536,\n",
       " 0.6913537432662556,\n",
       " 0.6066522521835037,\n",
       " 0.10599369874682485,\n",
       " 0.046114918042816574,\n",
       " 0.6956703068143236,\n",
       " 0.3145082088881593,\n",
       " 0.3518339808242445,\n",
       " 0.9608536521525342,\n",
       " 0.21971478088485033]"
      ]
     },
     "execution_count": 76,
     "metadata": {},
     "output_type": "execute_result"
    }
   ],
   "source": [
    "[subreddit_cosine_sims[i, most_similar_user[i]] for i in range(10)]"
   ]
  },
  {
   "cell_type": "markdown",
   "metadata": {},
   "source": [
    "## Check similarities by subreddits authors commented in"
   ]
  },
  {
   "cell_type": "code",
   "execution_count": 26,
   "metadata": {},
   "outputs": [],
   "source": [
    "author_reverse_dict = {author_names[i]:i for i in range(len(author_names))}"
   ]
  },
  {
   "cell_type": "code",
   "execution_count": 27,
   "metadata": {},
   "outputs": [],
   "source": [
    "num_sanders = {k:(subreddit_tf[author_reverse_dict[k], subreddit_reverse_dict['sandersforpresident']]) for k in author_names}\n",
    "num_trump = {k:(subreddit_tf[author_reverse_dict[k], subreddit_reverse_dict['the_donald']]) for k in author_names}\n",
    "num_clinton = {k:(subreddit_tf[author_reverse_dict[k], subreddit_reverse_dict['hillaryclinton']]) for k in author_names}\n",
    "num_politics = {k:(subreddit_tf[author_reverse_dict[k], subreddit_reverse_dict['politics']]) for k in author_names}\n"
   ]
  },
  {
   "cell_type": "code",
   "execution_count": 28,
   "metadata": {},
   "outputs": [],
   "source": [
    "comment_threshold = 10"
   ]
  },
  {
   "cell_type": "code",
   "execution_count": 29,
   "metadata": {},
   "outputs": [],
   "source": [
    "sanders_user_indices = [i for i in range(subreddit_tf.shape[0]) if num_sanders[author_names[i]] >= comment_threshold]\n",
    "trump_user_indices = [i for i in range(subreddit_tf.shape[0]) if num_trump[author_names[i]] >= comment_threshold]\n",
    "clinton_user_indices = [i for i in range(subreddit_tf.shape[0]) if num_clinton[author_names[i]] >= comment_threshold]"
   ]
  },
  {
   "cell_type": "code",
   "execution_count": 30,
   "metadata": {},
   "outputs": [],
   "source": [
    "none_user_indices = [i for i in range(subreddit_tf.shape[0]) if num_sanders[author_names[i]] == 0 and \n",
    "                     num_trump[author_names[i]] == 0 and\n",
    "                     num_clinton[author_names[i]] == 0]"
   ]
  },
  {
   "cell_type": "code",
   "execution_count": 51,
   "metadata": {},
   "outputs": [
    {
     "name": "stdout",
     "output_type": "stream",
     "text": [
      "1557\n",
      "919\n",
      "137\n",
      "12958\n"
     ]
    }
   ],
   "source": [
    "print(len(sanders_user_indices))\n",
    "print(len(trump_user_indices))\n",
    "print(len(clinton_user_indices))\n",
    "print(len(none_user_indices))"
   ]
  },
  {
   "cell_type": "code",
   "execution_count": 52,
   "metadata": {},
   "outputs": [
    {
     "name": "stdout",
     "output_type": "stream",
     "text": [
      "206\n",
      "73\n",
      "18\n"
     ]
    }
   ],
   "source": [
    "print(len(set(sanders_user_indices).intersection(trump_user_indices)))\n",
    "print(len(set(sanders_user_indices).intersection(clinton_user_indices)))\n",
    "print(len(set(trump_user_indices).intersection(clinton_user_indices)))"
   ]
  },
  {
   "cell_type": "code",
   "execution_count": 79,
   "metadata": {},
   "outputs": [
    {
     "data": {
      "text/plain": [
       "0.0023532229758504207"
      ]
     },
     "execution_count": 79,
     "metadata": {},
     "output_type": "execute_result"
    }
   ],
   "source": [
    "np.sum(subreddit_cosine_sims[sanders_user_indices, :][:,sanders_user_indices]) / \\\n",
    "(len(sanders_user_indices) * (len(sanders_user_indices)-1))"
   ]
  },
  {
   "cell_type": "code",
   "execution_count": 80,
   "metadata": {},
   "outputs": [
    {
     "data": {
      "text/plain": [
       "0.0080624210345887"
      ]
     },
     "execution_count": 80,
     "metadata": {},
     "output_type": "execute_result"
    }
   ],
   "source": [
    "np.sum(subreddit_cosine_sims[trump_user_indices, :][:,trump_user_indices]) / \\\n",
    "(len(trump_user_indices) * (len(trump_user_indices)-1))"
   ]
  },
  {
   "cell_type": "code",
   "execution_count": 81,
   "metadata": {},
   "outputs": [
    {
     "data": {
      "text/plain": [
       "0.01608285908823672"
      ]
     },
     "execution_count": 81,
     "metadata": {},
     "output_type": "execute_result"
    }
   ],
   "source": [
    "np.sum(subreddit_cosine_sims[clinton_user_indices, :][:,clinton_user_indices]) / \\\n",
    "(len(clinton_user_indices) * (len(clinton_user_indices)-1))"
   ]
  },
  {
   "cell_type": "code",
   "execution_count": 108,
   "metadata": {},
   "outputs": [
    {
     "data": {
      "text/plain": [
       "0.003098167220513023"
      ]
     },
     "execution_count": 108,
     "metadata": {},
     "output_type": "execute_result"
    }
   ],
   "source": [
    "np.sum(subreddit_cosine_sims[none_user_indices, :][:,none_user_indices]) / \\\n",
    "(len(none_user_indices) * (len(none_user_indices)-1))"
   ]
  },
  {
   "cell_type": "code",
   "execution_count": 111,
   "metadata": {},
   "outputs": [
    {
     "data": {
      "text/plain": [
       "0.0021184202746371466"
      ]
     },
     "execution_count": 111,
     "metadata": {},
     "output_type": "execute_result"
    }
   ],
   "source": [
    "np.sum(subreddit_cosine_sims) / (subreddit_cosine_sims.shape[0] * (subreddit_cosine_sims.shape[1] - 1))"
   ]
  },
  {
   "cell_type": "code",
   "execution_count": 110,
   "metadata": {},
   "outputs": [
    {
     "name": "stdout",
     "output_type": "stream",
     "text": [
      "0.0015643870341334018\n",
      "0.0026954114996483023\n",
      "0.001624365310504976\n",
      "\n",
      "0.0012973510561752502\n",
      "0.0013305669655459414\n",
      "0.001691007118048718\n"
     ]
    }
   ],
   "source": [
    "print(np.sum(subreddit_cosine_sims[sanders_user_indices, :][:,trump_user_indices]) / \\\n",
    "((len(sanders_user_indices) * len(trump_user_indices)) - \\\n",
    "len(set(sanders_user_indices).intersection(trump_user_indices))))\n",
    "\n",
    "print(np.sum(subreddit_cosine_sims[sanders_user_indices, :][:,clinton_user_indices]) / \\\n",
    "((len(sanders_user_indices) * len(clinton_user_indices)) - \\\n",
    "len(set(sanders_user_indices).intersection(clinton_user_indices))))\n",
    "\n",
    "print(np.sum(subreddit_cosine_sims[clinton_user_indices, :][:,trump_user_indices]) / \\\n",
    "((len(clinton_user_indices) * len(trump_user_indices)) - \\\n",
    "len(set(clinton_user_indices).intersection(trump_user_indices))))\n",
    "\n",
    "print()\n",
    "print(np.sum(subreddit_cosine_sims[sanders_user_indices, :][:,none_user_indices]) / \\\n",
    "((len(sanders_user_indices) * len(none_user_indices))))\n",
    "print(np.sum(subreddit_cosine_sims[trump_user_indices, :][:,none_user_indices]) / \\\n",
    "((len(trump_user_indices) * len(none_user_indices))))\n",
    "print(np.sum(subreddit_cosine_sims[clinton_user_indices, :][:,none_user_indices]) / \\\n",
    "((len(clinton_user_indices) * len(none_user_indices))))"
   ]
  },
  {
   "cell_type": "code",
   "execution_count": 104,
   "metadata": {},
   "outputs": [
    {
     "name": "stdout",
     "output_type": "stream",
     "text": [
      "167\n",
      "0.10725754656390495\n",
      "71\n",
      "0.07725788900979326\n",
      "9\n",
      "0.06569343065693431\n",
      "\n",
      "57\n",
      "0.036608863198458574\n",
      "89\n",
      "0.09684439608269858\n",
      "4\n",
      "0.029197080291970802\n",
      "\n",
      "14\n",
      "0.00899165061014772\n",
      "6\n",
      "0.006528835690968444\n",
      "3\n",
      "0.021897810218978103\n"
     ]
    }
   ],
   "source": [
    "print(len(set(most_similar_user[sanders_user_indices]).intersection(sanders_user_indices)))\n",
    "print(len(set(most_similar_user[sanders_user_indices]).intersection(sanders_user_indices))/len(sanders_user_indices))\n",
    "print(len(set(most_similar_user[sanders_user_indices]).intersection(trump_user_indices)))\n",
    "print(len(set(most_similar_user[sanders_user_indices]).intersection(trump_user_indices))/len(trump_user_indices))\n",
    "print(len(set(most_similar_user[sanders_user_indices]).intersection(clinton_user_indices)))\n",
    "print(len(set(most_similar_user[sanders_user_indices]).intersection(clinton_user_indices))/len(clinton_user_indices))\n",
    "print()\n",
    "print(len(set(most_similar_user[trump_user_indices]).intersection(sanders_user_indices)))\n",
    "print(len(set(most_similar_user[trump_user_indices]).intersection(sanders_user_indices))/len(sanders_user_indices))\n",
    "print(len(set(most_similar_user[trump_user_indices]).intersection(trump_user_indices)))\n",
    "print(len(set(most_similar_user[trump_user_indices]).intersection(trump_user_indices))/len(trump_user_indices))\n",
    "print(len(set(most_similar_user[trump_user_indices]).intersection(clinton_user_indices)))\n",
    "print(len(set(most_similar_user[trump_user_indices]).intersection(clinton_user_indices))/len(clinton_user_indices))\n",
    "print()\n",
    "print(len(set(most_similar_user[clinton_user_indices]).intersection(sanders_user_indices)))\n",
    "print(len(set(most_similar_user[clinton_user_indices]).intersection(sanders_user_indices))/len(sanders_user_indices))\n",
    "print(len(set(most_similar_user[clinton_user_indices]).intersection(trump_user_indices)))\n",
    "print(len(set(most_similar_user[clinton_user_indices]).intersection(trump_user_indices))/len(trump_user_indices))\n",
    "print(len(set(most_similar_user[clinton_user_indices]).intersection(clinton_user_indices)))\n",
    "print(len(set(most_similar_user[clinton_user_indices]).intersection(clinton_user_indices))/len(clinton_user_indices))\n",
    "\n"
   ]
  },
  {
   "cell_type": "code",
   "execution_count": 94,
   "metadata": {},
   "outputs": [],
   "source": [
    "sanders_sanders_sims = []\n",
    "\n",
    "for i in range(len(sanders_user_indices)):\n",
    "    for j in range(i+1, len(sanders_user_indices)):\n",
    "        sanders_sanders_sims.append(subreddit_cosine_sims[i,j])"
   ]
  },
  {
   "cell_type": "code",
   "execution_count": 96,
   "metadata": {},
   "outputs": [
    {
     "data": {
      "image/png": "[encoded data removed]",
      "text/plain": [
       "<Figure size 432x288 with 1 Axes>"
      ]
     },
     "metadata": {
      "needs_background": "light"
     },
     "output_type": "display_data"
    }
   ],
   "source": [
    "plt.hist(sanders_sanders_sims, range = (0, 0.1))\n",
    "plt.show()"
   ]
  },
  {
   "cell_type": "code",
   "execution_count": 97,
   "metadata": {},
   "outputs": [],
   "source": [
    "trump_trump_sims = []\n",
    "\n",
    "for i in range(len(trump_user_indices)):\n",
    "    for j in range(i+1, len(trump_user_indices)):\n",
    "        trump_trump_sims.append(subreddit_cosine_sims[i,j])"
   ]
  },
  {
   "cell_type": "code",
   "execution_count": 99,
   "metadata": {},
   "outputs": [
    {
     "data": {
      "image/png": "[encoded data removed]",
      "text/plain": [
       "<Figure size 432x288 with 1 Axes>"
      ]
     },
     "metadata": {
      "needs_background": "light"
     },
     "output_type": "display_data"
    }
   ],
   "source": [
    "plt.hist(trump_trump_sims, range = (0,0.1))\n",
    "plt.show()"
   ]
  },
  {
   "cell_type": "code",
   "execution_count": 100,
   "metadata": {},
   "outputs": [],
   "source": [
    "clinton_clinton_sims = []\n",
    "\n",
    "for i in range(len(clinton_user_indices)):\n",
    "    for j in range(i+1, len(clinton_user_indices)):\n",
    "        clinton_clinton_sims.append(subreddit_cosine_sims[i,j])"
   ]
  },
  {
   "cell_type": "code",
   "execution_count": 101,
   "metadata": {
    "scrolled": true
   },
   "outputs": [
    {
     "data": {
      "image/png": "[encoded data removed]",
      "text/plain": [
       "<Figure size 432x288 with 1 Axes>"
      ]
     },
     "metadata": {
      "needs_background": "light"
     },
     "output_type": "display_data"
    }
   ],
   "source": [
    "plt.hist(clinton_clinton_sims, range = (0,0.1))\n",
    "plt.show()"
   ]
  },
  {
   "cell_type": "markdown",
   "metadata": {},
   "source": [
    "## Use SVD"
   ]
  },
  {
   "cell_type": "code",
   "execution_count": 15,
   "metadata": {},
   "outputs": [],
   "source": [
    "user_svd = TruncatedSVD(n_components = 100)\n",
    "user_svd_points = user_svd.fit_transform(subreddit_tfidf)"
   ]
  },
  {
   "cell_type": "code",
   "execution_count": 16,
   "metadata": {},
   "outputs": [],
   "source": [
    "user_svd_norms = np.zeros(subreddit_tfidf.shape[0])"
   ]
  },
  {
   "cell_type": "code",
   "execution_count": 17,
   "metadata": {},
   "outputs": [],
   "source": [
    "for i in range(20):\n",
    "    user_svd_norms[i*1000 : (i+1) * 1000] = norm(user_svd_points[i*1000 : (i+1) * 1000], axis=1)"
   ]
  },
  {
   "cell_type": "code",
   "execution_count": 18,
   "metadata": {},
   "outputs": [
    {
     "data": {
      "text/plain": [
       "array([203105.72096635,   4847.69760715,  16960.03585867, 209036.96304267,\n",
       "         2338.87442073,   3345.05274884, 321894.55026444,   4258.10816698,\n",
       "       131248.62912042,  21569.40615956])"
      ]
     },
     "execution_count": 18,
     "metadata": {},
     "output_type": "execute_result"
    }
   ],
   "source": [
    "user_svd_norms[:10]"
   ]
  },
  {
   "cell_type": "code",
   "execution_count": 19,
   "metadata": {},
   "outputs": [],
   "source": [
    "user_svd_normalized = user_svd_points / user_svd_norms[:, np.newaxis]"
   ]
  },
  {
   "cell_type": "code",
   "execution_count": 19,
   "metadata": {},
   "outputs": [],
   "source": [
    "svd_cosine_sims = np.zeros((subreddit_tfidf.shape[0], subreddit_tfidf.shape[0]))"
   ]
  },
  {
   "cell_type": "code",
   "execution_count": 27,
   "metadata": {},
   "outputs": [
    {
     "data": {
      "text/plain": [
       "array([[ 1.        ,  0.02992293,  0.10480739, ...,  0.02865939,\n",
       "         0.04208495,  0.01784682],\n",
       "       [ 0.02992293,  1.        ,  0.25835802, ...,  0.18008577,\n",
       "         0.4314537 ,  0.48675799],\n",
       "       [ 0.10480739,  0.25835802,  1.        , ...,  0.17254001,\n",
       "         0.24262247,  0.22627591],\n",
       "       ...,\n",
       "       [ 0.02865939,  0.18008577,  0.17254001, ...,  1.        ,\n",
       "        -0.02405827,  0.30856092],\n",
       "       [ 0.04208495,  0.4314537 ,  0.24262247, ..., -0.02405827,\n",
       "         1.        ,  0.50179591],\n",
       "       [ 0.01784682,  0.48675799,  0.22627591, ...,  0.30856092,\n",
       "         0.50179591,  1.        ]])"
      ]
     },
     "execution_count": 27,
     "metadata": {},
     "output_type": "execute_result"
    }
   ],
   "source": [
    "user_svd_normalized[:1000].dot(user_svd_normalized[:1000].T)"
   ]
  },
  {
   "cell_type": "code",
   "execution_count": 30,
   "metadata": {},
   "outputs": [],
   "source": [
    "for i in range(20):\n",
    "    chunk1 = csr_matrix(user_svd_normalized[i*1000 : (i+1)*1000, :])\n",
    "    for j in range(i,20):\n",
    "        chunk2 = csc_matrix(user_svd_normalized[j*1000 : (j+1)*1000, :].T)\n",
    "        svd_cosine_sims[i*1000 : (i+1)*1000, j*1000 : (j+1)*1000] = chunk1.dot(chunk2).toarray()\n"
   ]
  },
  {
   "cell_type": "code",
   "execution_count": 33,
   "metadata": {},
   "outputs": [
    {
     "data": {
      "text/plain": [
       "array([[ 1.00000000e+00,  2.99229309e-02,  1.04807393e-01,\n",
       "         2.22527172e-02,  5.81757494e-01,  4.52440777e-01,\n",
       "        -8.62572321e-03,  1.98286582e-01,  1.44032659e-03,\n",
       "         4.13870959e-02],\n",
       "       [ 2.99229309e-02,  1.00000000e+00,  2.58358019e-01,\n",
       "         5.69887075e-01,  5.47077247e-01,  4.75087395e-01,\n",
       "         4.90846061e-02,  4.99744218e-01,  4.58734668e-03,\n",
       "         1.02536677e-01],\n",
       "       [ 1.04807393e-01,  2.58358019e-01,  1.00000000e+00,\n",
       "         8.73261285e-01,  5.81072226e-01,  8.13921715e-01,\n",
       "        -2.63067979e-02,  4.50903820e-01,  2.50981262e-03,\n",
       "         9.37020929e-01],\n",
       "       [ 2.22527172e-02,  5.69887075e-01,  8.73261285e-01,\n",
       "         1.00000000e+00,  6.95194895e-01,  8.11223315e-01,\n",
       "         5.24289151e-02,  4.49924913e-01,  6.99312580e-04,\n",
       "         8.61829575e-01],\n",
       "       [ 5.81757494e-01,  5.47077247e-01,  5.81072226e-01,\n",
       "         6.95194895e-01,  1.00000000e+00,  8.61830761e-01,\n",
       "        -3.44704287e-02,  5.35698315e-01,  3.79862391e-03,\n",
       "         5.49421606e-01],\n",
       "       [ 4.52440777e-01,  4.75087395e-01,  8.13921715e-01,\n",
       "         8.11223315e-01,  8.61830761e-01,  1.00000000e+00,\n",
       "         8.85842152e-03,  4.99471112e-01,  7.90468019e-03,\n",
       "         7.51064145e-01],\n",
       "       [-8.62572321e-03,  4.90846061e-02, -2.63067979e-02,\n",
       "         5.24289151e-02, -3.44704287e-02,  8.85842152e-03,\n",
       "         1.00000000e+00,  2.74331743e-02, -3.54105407e-03,\n",
       "         4.46594635e-02],\n",
       "       [ 1.98286582e-01,  4.99744218e-01,  4.50903820e-01,\n",
       "         4.49924913e-01,  5.35698315e-01,  4.99471112e-01,\n",
       "         2.74331743e-02,  1.00000000e+00,  4.50515676e-03,\n",
       "         2.81790424e-01],\n",
       "       [ 1.44032659e-03,  4.58734668e-03,  2.50981262e-03,\n",
       "         6.99312580e-04,  3.79862391e-03,  7.90468019e-03,\n",
       "        -3.54105407e-03,  4.50515676e-03,  1.00000000e+00,\n",
       "         2.02730900e-03],\n",
       "       [ 4.13870959e-02,  1.02536677e-01,  9.37020929e-01,\n",
       "         8.61829575e-01,  5.49421606e-01,  7.51064145e-01,\n",
       "         4.46594635e-02,  2.81790424e-01,  2.02730900e-03,\n",
       "         1.00000000e+00]])"
      ]
     },
     "execution_count": 33,
     "metadata": {},
     "output_type": "execute_result"
    }
   ],
   "source": [
    "svd_cosine_sims[:10,:10]"
   ]
  },
  {
   "cell_type": "code",
   "execution_count": 34,
   "metadata": {},
   "outputs": [],
   "source": [
    "for i in range(subreddit_tfidf.shape[0]):\n",
    "    svd_cosine_sims[i,i] = 0"
   ]
  },
  {
   "cell_type": "code",
   "execution_count": 35,
   "metadata": {},
   "outputs": [],
   "source": [
    "for i in range(20):\n",
    "    for j in range(i):\n",
    "        svd_cosine_sims[i*1000 : (i+1)*1000, j*1000 : (j+1)*1000] = \\\n",
    "svd_cosine_sims[j*1000 : (j+1)*1000, i*1000 : (i+1)*1000].T"
   ]
  },
  {
   "cell_type": "code",
   "execution_count": 38,
   "metadata": {},
   "outputs": [
    {
     "data": {
      "text/plain": [
       "0.11908674176941285"
      ]
     },
     "execution_count": 38,
     "metadata": {},
     "output_type": "execute_result"
    }
   ],
   "source": [
    "svd_cosine_sims[3872,10415]"
   ]
  },
  {
   "cell_type": "code",
   "execution_count": 39,
   "metadata": {},
   "outputs": [
    {
     "data": {
      "text/plain": [
       "0.11908674176941285"
      ]
     },
     "execution_count": 39,
     "metadata": {},
     "output_type": "execute_result"
    }
   ],
   "source": [
    "svd_cosine_sims[10415,3872]"
   ]
  },
  {
   "cell_type": "code",
   "execution_count": 20,
   "metadata": {},
   "outputs": [],
   "source": [
    "# with open(\"stored_variables/user_subreddit_tfidf_cossims_svd.pickle\", \"wb\") as f:\n",
    "#     pickle.dump(svd_cosine_sims, f)\n",
    "    \n",
    "with open(\"stored_variables/user_subreddit_tfidf_cossims_svd.pickle\", \"rb\") as f:\n",
    "    svd_cosine_sims = pickle.load(f)"
   ]
  },
  {
   "cell_type": "code",
   "execution_count": 21,
   "metadata": {},
   "outputs": [],
   "source": [
    "most_similar_user_svd = np.zeros(subreddit_tfidf.shape[0], dtype = np.int32)"
   ]
  },
  {
   "cell_type": "code",
   "execution_count": 22,
   "metadata": {},
   "outputs": [],
   "source": [
    "for i in range(subreddit_tfidf.shape[0]):\n",
    "    most_similar_user_svd[i] = np.argsort(svd_cosine_sims[i])[-1]"
   ]
  },
  {
   "cell_type": "code",
   "execution_count": 23,
   "metadata": {},
   "outputs": [
    {
     "data": {
      "text/plain": [
       "array([ 2014, 13342,  8272, 19624,   169, 19360,   535,  9748, 14650,\n",
       "       15290], dtype=int32)"
      ]
     },
     "execution_count": 23,
     "metadata": {},
     "output_type": "execute_result"
    }
   ],
   "source": [
    "most_similar_user_svd[:10]"
   ]
  },
  {
   "cell_type": "code",
   "execution_count": 24,
   "metadata": {
    "scrolled": false
   },
   "outputs": [
    {
     "data": {
      "text/plain": [
       "[0.999470033202358,\n",
       " 0.9952106624511369,\n",
       " 0.9675453485667704,\n",
       " 0.9967579707061056,\n",
       " 0.9941043289147825,\n",
       " 0.9179101077098986,\n",
       " 0.9573685133150818,\n",
       " 0.9460518834135123,\n",
       " 0.9948822238602678,\n",
       " 0.9923576814567933]"
      ]
     },
     "execution_count": 24,
     "metadata": {},
     "output_type": "execute_result"
    }
   ],
   "source": [
    "[svd_cosine_sims[i, most_similar_user_svd[i]] for i in range(10)]"
   ]
  },
  {
   "cell_type": "code",
   "execution_count": 31,
   "metadata": {},
   "outputs": [
    {
     "data": {
      "text/plain": [
       "0.1012734687426595"
      ]
     },
     "execution_count": 31,
     "metadata": {},
     "output_type": "execute_result"
    }
   ],
   "source": [
    "np.sum(svd_cosine_sims[sanders_user_indices, :][:,sanders_user_indices]) / \\\n",
    "(len(sanders_user_indices) * (len(sanders_user_indices)-1))"
   ]
  },
  {
   "cell_type": "code",
   "execution_count": 54,
   "metadata": {},
   "outputs": [
    {
     "data": {
      "text/plain": [
       "0.10579011588931087"
      ]
     },
     "execution_count": 54,
     "metadata": {},
     "output_type": "execute_result"
    }
   ],
   "source": [
    "np.sum(svd_cosine_sims[trump_user_indices, :][:,trump_user_indices]) / \\\n",
    "(len(trump_user_indices) * (len(trump_user_indices)-1))"
   ]
  },
  {
   "cell_type": "code",
   "execution_count": 55,
   "metadata": {},
   "outputs": [
    {
     "data": {
      "text/plain": [
       "0.18899739670867832"
      ]
     },
     "execution_count": 55,
     "metadata": {},
     "output_type": "execute_result"
    }
   ],
   "source": [
    "np.sum(svd_cosine_sims[clinton_user_indices, :][:,clinton_user_indices]) / \\\n",
    "(len(clinton_user_indices) * (len(clinton_user_indices)-1))"
   ]
  },
  {
   "cell_type": "code",
   "execution_count": 56,
   "metadata": {},
   "outputs": [
    {
     "data": {
      "text/plain": [
       "0.11579555046872082"
      ]
     },
     "execution_count": 56,
     "metadata": {},
     "output_type": "execute_result"
    }
   ],
   "source": [
    "np.sum(svd_cosine_sims[none_user_indices, :][:,none_user_indices]) / \\\n",
    "(len(none_user_indices) * (len(none_user_indices)-1))"
   ]
  },
  {
   "cell_type": "code",
   "execution_count": 57,
   "metadata": {},
   "outputs": [
    {
     "data": {
      "text/plain": [
       "0.10881763054298746"
      ]
     },
     "execution_count": 57,
     "metadata": {},
     "output_type": "execute_result"
    }
   ],
   "source": [
    "np.sum(svd_cosine_sims) / (svd_cosine_sims.shape[0] * (svd_cosine_sims.shape[1] - 1))"
   ]
  },
  {
   "cell_type": "code",
   "execution_count": 58,
   "metadata": {},
   "outputs": [
    {
     "name": "stdout",
     "output_type": "stream",
     "text": [
      "0.09728033854309406\n",
      "0.10974144952721615\n",
      "0.10699306966968032\n",
      "\n",
      "0.10587713758110265\n",
      "0.10240165710703053\n",
      "0.10757639761310547\n"
     ]
    }
   ],
   "source": [
    "print(np.sum(svd_cosine_sims[sanders_user_indices, :][:,trump_user_indices]) / \\\n",
    "((len(sanders_user_indices) * len(trump_user_indices)) - \\\n",
    "len(set(sanders_user_indices).intersection(trump_user_indices))))\n",
    "\n",
    "print(np.sum(svd_cosine_sims[sanders_user_indices, :][:,clinton_user_indices]) / \\\n",
    "((len(sanders_user_indices) * len(clinton_user_indices)) - \\\n",
    "len(set(sanders_user_indices).intersection(clinton_user_indices))))\n",
    "\n",
    "print(np.sum(svd_cosine_sims[clinton_user_indices, :][:,trump_user_indices]) / \\\n",
    "((len(clinton_user_indices) * len(trump_user_indices)) - \\\n",
    "len(set(clinton_user_indices).intersection(trump_user_indices))))\n",
    "\n",
    "print()\n",
    "print(np.sum(svd_cosine_sims[sanders_user_indices, :][:,none_user_indices]) / \\\n",
    "((len(sanders_user_indices) * len(none_user_indices))))\n",
    "print(np.sum(svd_cosine_sims[trump_user_indices, :][:,none_user_indices]) / \\\n",
    "((len(trump_user_indices) * len(none_user_indices))))\n",
    "print(np.sum(svd_cosine_sims[clinton_user_indices, :][:,none_user_indices]) / \\\n",
    "((len(clinton_user_indices) * len(none_user_indices))))"
   ]
  },
  {
   "cell_type": "code",
   "execution_count": 59,
   "metadata": {},
   "outputs": [
    {
     "name": "stdout",
     "output_type": "stream",
     "text": [
      "132\n",
      "0.08477842003853564\n",
      "72\n",
      "0.07834602829162132\n",
      "15\n",
      "0.10948905109489052\n",
      "\n",
      "52\n",
      "0.033397559409120106\n",
      "64\n",
      "0.06964091403699674\n",
      "10\n",
      "0.072992700729927\n",
      "\n",
      "13\n",
      "0.008349389852280027\n",
      "7\n",
      "0.007616974972796518\n",
      "10\n",
      "0.072992700729927\n"
     ]
    }
   ],
   "source": [
    "print(len(set(most_similar_user_svd[sanders_user_indices]).intersection(sanders_user_indices)))\n",
    "print(len(set(most_similar_user_svd[sanders_user_indices]).intersection(sanders_user_indices))/len(sanders_user_indices))\n",
    "print(len(set(most_similar_user_svd[sanders_user_indices]).intersection(trump_user_indices)))\n",
    "print(len(set(most_similar_user_svd[sanders_user_indices]).intersection(trump_user_indices))/len(trump_user_indices))\n",
    "print(len(set(most_similar_user_svd[sanders_user_indices]).intersection(clinton_user_indices)))\n",
    "print(len(set(most_similar_user_svd[sanders_user_indices]).intersection(clinton_user_indices))/len(clinton_user_indices))\n",
    "print()\n",
    "print(len(set(most_similar_user_svd[trump_user_indices]).intersection(sanders_user_indices)))\n",
    "print(len(set(most_similar_user_svd[trump_user_indices]).intersection(sanders_user_indices))/len(sanders_user_indices))\n",
    "print(len(set(most_similar_user_svd[trump_user_indices]).intersection(trump_user_indices)))\n",
    "print(len(set(most_similar_user_svd[trump_user_indices]).intersection(trump_user_indices))/len(trump_user_indices))\n",
    "print(len(set(most_similar_user_svd[trump_user_indices]).intersection(clinton_user_indices)))\n",
    "print(len(set(most_similar_user_svd[trump_user_indices]).intersection(clinton_user_indices))/len(clinton_user_indices))\n",
    "print()\n",
    "print(len(set(most_similar_user_svd[clinton_user_indices]).intersection(sanders_user_indices)))\n",
    "print(len(set(most_similar_user_svd[clinton_user_indices]).intersection(sanders_user_indices))/len(sanders_user_indices))\n",
    "print(len(set(most_similar_user_svd[clinton_user_indices]).intersection(trump_user_indices)))\n",
    "print(len(set(most_similar_user_svd[clinton_user_indices]).intersection(trump_user_indices))/len(trump_user_indices))\n",
    "print(len(set(most_similar_user_svd[clinton_user_indices]).intersection(clinton_user_indices)))\n",
    "print(len(set(most_similar_user_svd[clinton_user_indices]).intersection(clinton_user_indices))/len(clinton_user_indices))\n",
    "\n"
   ]
  },
  {
   "cell_type": "code",
   "execution_count": 60,
   "metadata": {},
   "outputs": [],
   "source": [
    "sanders_sanders_sims = []\n",
    "\n",
    "for i in range(len(sanders_user_indices)):\n",
    "    for j in range(i+1, len(sanders_user_indices)):\n",
    "        sanders_sanders_sims.append(svd_cosine_sims[i,j])"
   ]
  },
  {
   "cell_type": "code",
   "execution_count": 66,
   "metadata": {},
   "outputs": [
    {
     "data": {
      "image/png": "[encoded data removed]",
      "text/plain": [
       "<Figure size 432x288 with 1 Axes>"
      ]
     },
     "metadata": {
      "needs_background": "light"
     },
     "output_type": "display_data"
    }
   ],
   "source": [
    "plt.hist(sanders_sanders_sims, range = (-1,1))\n",
    "plt.show()"
   ]
  },
  {
   "cell_type": "code",
   "execution_count": 62,
   "metadata": {},
   "outputs": [],
   "source": [
    "trump_trump_sims = []\n",
    "\n",
    "for i in range(len(trump_user_indices)):\n",
    "    for j in range(i+1, len(trump_user_indices)):\n",
    "        trump_trump_sims.append(svd_cosine_sims[i,j])"
   ]
  },
  {
   "cell_type": "code",
   "execution_count": 67,
   "metadata": {
    "scrolled": true
   },
   "outputs": [
    {
     "data": {
      "image/png": "[encoded data removed]",
      "text/plain": [
       "<Figure size 432x288 with 1 Axes>"
      ]
     },
     "metadata": {
      "needs_background": "light"
     },
     "output_type": "display_data"
    }
   ],
   "source": [
    "plt.hist(trump_trump_sims, range = (-1,1) )\n",
    "plt.show()"
   ]
  },
  {
   "cell_type": "code",
   "execution_count": 64,
   "metadata": {},
   "outputs": [],
   "source": [
    "clinton_clinton_sims = []\n",
    "\n",
    "for i in range(len(clinton_user_indices)):\n",
    "    for j in range(i+1, len(clinton_user_indices)):\n",
    "        clinton_clinton_sims.append(svd_cosine_sims[i,j])"
   ]
  },
  {
   "cell_type": "code",
   "execution_count": 68,
   "metadata": {
    "scrolled": true
   },
   "outputs": [
    {
     "data": {
      "image/png": "[encoded data removed]",
      "text/plain": [
       "<Figure size 432x288 with 1 Axes>"
      ]
     },
     "metadata": {
      "needs_background": "light"
     },
     "output_type": "display_data"
    }
   ],
   "source": [
    "plt.hist(clinton_clinton_sims, range = (-1,1))\n",
    "plt.show()"
   ]
  },
  {
   "cell_type": "code",
   "execution_count": 82,
   "metadata": {},
   "outputs": [
    {
     "data": {
      "image/png": "[encoded data removed]",
      "text/plain": [
       "<Figure size 432x288 with 1 Axes>"
      ]
     },
     "metadata": {
      "needs_background": "light"
     },
     "output_type": "display_data"
    }
   ],
   "source": [
    "plt.hist(svd_cosine_sims.flatten(), range=(-1,1))\n",
    "plt.show()"
   ]
  },
  {
   "cell_type": "code",
   "execution_count": 33,
   "metadata": {},
   "outputs": [],
   "source": [
    "most_similar_50_users_svd = np.zeros((subreddit_tfidf.shape[0],50), dtype = np.int32)\n",
    "\n",
    "for i in range(subreddit_tfidf.shape[0]):\n",
    "    most_similar_50_users_svd[i] = np.flip(np.argsort(svd_cosine_sims[i])[-50:])\n"
   ]
  },
  {
   "cell_type": "code",
   "execution_count": 34,
   "metadata": {},
   "outputs": [
    {
     "data": {
      "text/plain": [
       "array([ 2014, 11177,  6489,  8742, 18778,  4138, 17553, 18470, 16614,\n",
       "       12191, 13646,   763,  4184,  1631, 17163,  1624, 11452,   572,\n",
       "        1930, 12713,  2415, 17363,  1672,  4266,  9701,  4623,  3682,\n",
       "        2935,  4372, 14925, 16930, 19080, 15235, 10472,  8419, 18879,\n",
       "        5172,  5570,    82,  9181,  8708,  1250,  5355, 10323,  8702,\n",
       "        1217,  8215, 12848,  7168, 15614], dtype=int32)"
      ]
     },
     "execution_count": 34,
     "metadata": {},
     "output_type": "execute_result"
    }
   ],
   "source": [
    "most_similar_50_users_svd[0]"
   ]
  },
  {
   "cell_type": "code",
   "execution_count": 35,
   "metadata": {},
   "outputs": [],
   "source": [
    "most_similar_50_set = [set(i) for i in most_similar_50_users_svd]"
   ]
  },
  {
   "cell_type": "code",
   "execution_count": 53,
   "metadata": {},
   "outputs": [
    {
     "name": "stdout",
     "output_type": "stream",
     "text": [
      "4.77713551701991\n",
      "4.0\n",
      "103.33847141939627\n",
      "389.0147058823529\n"
     ]
    }
   ],
   "source": [
    "print(np.mean([len(most_similar_50_set[i].intersection(sanders_user_indices)) for i in sanders_user_indices]))\n",
    "print(np.median([len(most_similar_50_set[i].intersection(sanders_user_indices)) for i in sanders_user_indices]))\n",
    "print(np.mean([num_sanders[author_names[i]] for i in sanders_user_indices]))\n",
    "print(np.mean([num_sanders[author_names[i]] for i in sanders_user_indices if len(most_similar_50_set[i].intersection(sanders_user_indices)) >= 10]))\n"
   ]
  },
  {
   "cell_type": "code",
   "execution_count": 38,
   "metadata": {},
   "outputs": [
    {
     "data": {
      "image/png": "[encoded data removed]",
      "text/plain": [
       "<Figure size 432x288 with 1 Axes>"
      ]
     },
     "metadata": {
      "needs_background": "light"
     },
     "output_type": "display_data"
    }
   ],
   "source": [
    "plt.hist([len(most_similar_50_set[i].intersection(sanders_user_indices)) for i in sanders_user_indices], range = (0,50))\n",
    "plt.show()"
   ]
  },
  {
   "cell_type": "code",
   "execution_count": 41,
   "metadata": {},
   "outputs": [
    {
     "name": "stdout",
     "output_type": "stream",
     "text": [
      "68\n",
      "32\n"
     ]
    }
   ],
   "source": [
    "print(sum([1 for i in sanders_user_indices if len(most_similar_50_set[i].intersection(sanders_user_indices)) >= 10]))\n",
    "print(sum([1 for i in sanders_user_indices if len(most_similar_50_set[i].intersection(sanders_user_indices)) >= 30]))"
   ]
  },
  {
   "cell_type": "code",
   "execution_count": 52,
   "metadata": {},
   "outputs": [
    {
     "name": "stdout",
     "output_type": "stream",
     "text": [
      "4.430903155603917\n",
      "2.0\n",
      "91\n",
      "35\n",
      "97.14907508161045\n",
      "184.94505494505495\n"
     ]
    },
    {
     "data": {
      "image/png": "[encoded data removed]",
      "text/plain": [
       "<Figure size 432x288 with 1 Axes>"
      ]
     },
     "metadata": {
      "needs_background": "light"
     },
     "output_type": "display_data"
    }
   ],
   "source": [
    "print(np.mean([len(most_similar_50_set[i].intersection(trump_user_indices)) for i in trump_user_indices]))\n",
    "print(np.median([len(most_similar_50_set[i].intersection(trump_user_indices)) for i in trump_user_indices]))\n",
    "print(sum([1 for i in trump_user_indices if len(most_similar_50_set[i].intersection(trump_user_indices)) >= 10]))\n",
    "print(sum([1 for i in trump_user_indices if len(most_similar_50_set[i].intersection(trump_user_indices)) >= 30]))\n",
    "print(np.mean([num_trump[author_names[i]] for i in trump_user_indices]))\n",
    "print(np.mean([num_trump[author_names[i]] for i in trump_user_indices if len(most_similar_50_set[i].intersection(trump_user_indices)) >= 10]))\n",
    "\n",
    "plt.hist([len(most_similar_50_set[i].intersection(trump_user_indices)) for i in trump_user_indices], range = (0,50))\n",
    "plt.show()"
   ]
  },
  {
   "cell_type": "code",
   "execution_count": 51,
   "metadata": {},
   "outputs": [
    {
     "name": "stdout",
     "output_type": "stream",
     "text": [
      "2.576642335766423\n",
      "0.0\n",
      "21\n",
      "0\n",
      "95.81751824817518\n",
      "224.57142857142858\n"
     ]
    },
    {
     "data": {
      "image/png": "[encoded data removed]",
      "text/plain": [
       "<Figure size 432x288 with 1 Axes>"
      ]
     },
     "metadata": {
      "needs_background": "light"
     },
     "output_type": "display_data"
    }
   ],
   "source": [
    "print(np.mean([len(most_similar_50_set[i].intersection(clinton_user_indices)) for i in clinton_user_indices]))\n",
    "print(np.median([len(most_similar_50_set[i].intersection(clinton_user_indices)) for i in clinton_user_indices]))\n",
    "print(sum([1 for i in clinton_user_indices if len(most_similar_50_set[i].intersection(clinton_user_indices)) >= 10]))\n",
    "print(sum([1 for i in clinton_user_indices if len(most_similar_50_set[i].intersection(clinton_user_indices)) >= 30]))\n",
    "print(np.mean([num_clinton[author_names[i]] for i in clinton_user_indices]))\n",
    "print(np.mean([num_clinton[author_names[i]] for i in clinton_user_indices if len(most_similar_50_set[i].intersection(clinton_user_indices)) >= 10]))\n",
    "\n",
    "\n",
    "plt.hist([len(most_similar_50_set[i].intersection(clinton_user_indices)) for i in clinton_user_indices], range = (0,50))\n",
    "plt.show()"
   ]
  },
  {
   "cell_type": "markdown",
   "metadata": {},
   "source": [
    "## Try with Music and HipHopHeads"
   ]
  },
  {
   "cell_type": "code",
   "execution_count": 44,
   "metadata": {},
   "outputs": [],
   "source": [
    "num_music = {k:(subreddit_tf[author_reverse_dict[k], subreddit_reverse_dict['music']]) for k in author_names}\n",
    "num_hhh = {k:(subreddit_tf[author_reverse_dict[k], subreddit_reverse_dict['hiphopheads']]) for k in author_names}\n"
   ]
  },
  {
   "cell_type": "code",
   "execution_count": 45,
   "metadata": {},
   "outputs": [
    {
     "name": "stdout",
     "output_type": "stream",
     "text": [
      "2176\n",
      "590\n"
     ]
    }
   ],
   "source": [
    "music_user_indices = [i for i in range(subreddit_tf.shape[0]) if num_music[author_names[i]] >= comment_threshold]\n",
    "print(len(music_user_indices))\n",
    "hhh_user_indices = [i for i in range(subreddit_tf.shape[0]) if num_hhh[author_names[i]] >= comment_threshold]\n",
    "print(len(hhh_user_indices))\n"
   ]
  },
  {
   "cell_type": "code",
   "execution_count": 54,
   "metadata": {},
   "outputs": [
    {
     "data": {
      "text/plain": [
       "0.11300748637964096"
      ]
     },
     "execution_count": 54,
     "metadata": {},
     "output_type": "execute_result"
    }
   ],
   "source": [
    "np.sum(svd_cosine_sims[music_user_indices, :][:,music_user_indices]) / \\\n",
    "(len(music_user_indices) * (len(music_user_indices)-1))"
   ]
  },
  {
   "cell_type": "code",
   "execution_count": 55,
   "metadata": {},
   "outputs": [
    {
     "data": {
      "text/plain": [
       "0.10838394926950977"
      ]
     },
     "execution_count": 55,
     "metadata": {},
     "output_type": "execute_result"
    }
   ],
   "source": [
    "np.sum(svd_cosine_sims[hhh_user_indices, :][:,hhh_user_indices]) / \\\n",
    "(len(hhh_user_indices) * (len(hhh_user_indices)-1))"
   ]
  },
  {
   "cell_type": "code",
   "execution_count": 56,
   "metadata": {},
   "outputs": [
    {
     "name": "stdout",
     "output_type": "stream",
     "text": [
      "0.09534066326656189\n"
     ]
    }
   ],
   "source": [
    "print(np.sum(svd_cosine_sims[music_user_indices, :][:,hhh_user_indices]) / \\\n",
    "((len(music_user_indices) * len(hhh_user_indices)) - \\\n",
    "len(set(music_user_indices).intersection(hhh_user_indices))))\n"
   ]
  },
  {
   "cell_type": "code",
   "execution_count": 59,
   "metadata": {
    "scrolled": true
   },
   "outputs": [
    {
     "name": "stdout",
     "output_type": "stream",
     "text": [
      "257\n",
      "0.11810661764705882\n",
      "67\n",
      "0.1135593220338983\n",
      "54\n",
      "0.09152542372881356\n",
      "82\n",
      "0.03768382352941176\n"
     ]
    }
   ],
   "source": [
    "print(len(set(most_similar_user_svd[music_user_indices]).intersection(music_user_indices)))\n",
    "print(len(set(most_similar_user_svd[music_user_indices]).intersection(music_user_indices))/len(music_user_indices))\n",
    "print(len(set(most_similar_user_svd[music_user_indices]).intersection(hhh_user_indices)))\n",
    "print(len(set(most_similar_user_svd[music_user_indices]).intersection(hhh_user_indices))/len(hhh_user_indices))\n",
    "\n",
    "print(len(set(most_similar_user_svd[hhh_user_indices]).intersection(hhh_user_indices)))\n",
    "print(len(set(most_similar_user_svd[hhh_user_indices]).intersection(hhh_user_indices))/len(hhh_user_indices))\n",
    "print(len(set(most_similar_user_svd[hhh_user_indices]).intersection(music_user_indices)))\n",
    "print(len(set(most_similar_user_svd[hhh_user_indices]).intersection(music_user_indices))/len(music_user_indices))"
   ]
  },
  {
   "cell_type": "code",
   "execution_count": 60,
   "metadata": {},
   "outputs": [],
   "source": [
    "music_music_sims = []\n",
    "\n",
    "for i in range(len(music_user_indices)):\n",
    "    for j in range(i+1, len(music_user_indices)):\n",
    "        music_music_sims.append(svd_cosine_sims[i,j])"
   ]
  },
  {
   "cell_type": "code",
   "execution_count": 61,
   "metadata": {},
   "outputs": [
    {
     "data": {
      "image/png": "[encoded data removed]",
      "text/plain": [
       "<Figure size 432x288 with 1 Axes>"
      ]
     },
     "metadata": {
      "needs_background": "light"
     },
     "output_type": "display_data"
    }
   ],
   "source": [
    "plt.hist(music_music_sims, range = (-1,1))\n",
    "plt.show()"
   ]
  },
  {
   "cell_type": "code",
   "execution_count": 62,
   "metadata": {},
   "outputs": [],
   "source": [
    "hhh_hhh_sims = []\n",
    "\n",
    "for i in range(len(hhh_user_indices)):\n",
    "    for j in range(i+1, len(hhh_user_indices)):\n",
    "        hhh_hhh_sims.append(svd_cosine_sims[i,j])"
   ]
  },
  {
   "cell_type": "code",
   "execution_count": 64,
   "metadata": {
    "scrolled": true
   },
   "outputs": [
    {
     "data": {
      "image/png": "[encoded data removed]",
      "text/plain": [
       "<Figure size 432x288 with 1 Axes>"
      ]
     },
     "metadata": {
      "needs_background": "light"
     },
     "output_type": "display_data"
    }
   ],
   "source": [
    "plt.hist(hhh_hhh_sims, range = (-1,1) )\n",
    "plt.show()"
   ]
  },
  {
   "cell_type": "code",
   "execution_count": 65,
   "metadata": {},
   "outputs": [
    {
     "name": "stdout",
     "output_type": "stream",
     "text": [
      "5.9453125\n",
      "6.0\n",
      "209\n",
      "0\n",
      "37.385110294117645\n",
      "41.90430622009569\n"
     ]
    },
    {
     "data": {
      "image/png": "[encoded data removed]",
      "text/plain": [
       "<Figure size 432x288 with 1 Axes>"
      ]
     },
     "metadata": {
      "needs_background": "light"
     },
     "output_type": "display_data"
    }
   ],
   "source": [
    "print(np.mean([len(most_similar_50_set[i].intersection(music_user_indices)) for i in music_user_indices]))\n",
    "print(np.median([len(most_similar_50_set[i].intersection(music_user_indices)) for i in music_user_indices]))\n",
    "print(sum([1 for i in music_user_indices if len(most_similar_50_set[i].intersection(music_user_indices)) >= 10]))\n",
    "print(sum([1 for i in music_user_indices if len(most_similar_50_set[i].intersection(music_user_indices)) >= 30]))\n",
    "print(np.mean([num_music[author_names[i]] for i in music_user_indices]))\n",
    "print(np.mean([num_music[author_names[i]] for i in music_user_indices if len(most_similar_50_set[i].intersection(music_user_indices)) >= 10]))\n",
    "\n",
    "plt.hist([len(most_similar_50_set[i].intersection(music_user_indices)) for i in music_user_indices], range = (0,50))\n",
    "plt.show()"
   ]
  },
  {
   "cell_type": "code",
   "execution_count": 66,
   "metadata": {},
   "outputs": [
    {
     "name": "stdout",
     "output_type": "stream",
     "text": [
      "4.244067796610169\n",
      "2.0\n",
      "88\n",
      "1\n",
      "128.61016949152543\n",
      "244.4318181818182\n"
     ]
    },
    {
     "data": {
      "image/png": "[encoded data removed]",
      "text/plain": [
       "<Figure size 432x288 with 1 Axes>"
      ]
     },
     "metadata": {
      "needs_background": "light"
     },
     "output_type": "display_data"
    }
   ],
   "source": [
    "print(np.mean([len(most_similar_50_set[i].intersection(hhh_user_indices)) for i in hhh_user_indices]))\n",
    "print(np.median([len(most_similar_50_set[i].intersection(hhh_user_indices)) for i in hhh_user_indices]))\n",
    "print(sum([1 for i in hhh_user_indices if len(most_similar_50_set[i].intersection(hhh_user_indices)) >= 10]))\n",
    "print(sum([1 for i in hhh_user_indices if len(most_similar_50_set[i].intersection(hhh_user_indices)) >= 30]))\n",
    "print(np.mean([num_hhh[author_names[i]] for i in hhh_user_indices]))\n",
    "print(np.mean([num_hhh[author_names[i]] for i in hhh_user_indices if len(most_similar_50_set[i].intersection(hhh_user_indices)) >= 10]))\n",
    "\n",
    "plt.hist([len(most_similar_50_set[i].intersection(hhh_user_indices)) for i in hhh_user_indices], range = (0,50))\n",
    "plt.show()"
   ]
  },
  {
   "cell_type": "code",
   "execution_count": null,
   "metadata": {},
   "outputs": [],
   "source": []
  }
 ],
 "metadata": {
  "kernelspec": {
   "display_name": "Python 3",
   "language": "python",
   "name": "python3"
  },
  "language_info": {
   "codemirror_mode": {
    "name": "ipython",
    "version": 3
   },
   "file_extension": ".py",
   "mimetype": "text/x-python",
   "name": "python",
   "nbconvert_exporter": "python",
   "pygments_lexer": "ipython3",
   "version": "3.7.3"
  }
 },
 "nbformat": 4,
 "nbformat_minor": 2
}
